{
 "cells": [
  {
   "cell_type": "markdown",
   "metadata": {},
   "source": [
    "# 2D Peak Finder Algorithms"
   ]
  },
  {
   "cell_type": "markdown",
   "metadata": {},
   "source": [
    "## Import Statements"
   ]
  },
  {
   "cell_type": "code",
   "execution_count": 3,
   "metadata": {},
   "outputs": [],
   "source": [
    "import numpy as np\n",
    "from random import randint\n",
    "from timeit import timeit\n",
    "import seaborn as sns\n",
    "import pandas as pd\n",
    "import matplotlib.pyplot as plt\n",
    "%matplotlib inline"
   ]
  },
  {
   "cell_type": "markdown",
   "metadata": {},
   "source": [
    "## Test Arrays"
   ]
  },
  {
   "cell_type": "code",
   "execution_count": 4,
   "metadata": {},
   "outputs": [],
   "source": [
    "twoBy = np.array([[1,4], \n",
    "                  [2,3]]) # 2x2\n",
    "threeBy = np.array([[1,0,7], \n",
    "                    [2,0,6], \n",
    "                    [3,4,5]]) # 3x3\n",
    "fourBy = np.array([[1,0,9,10], \n",
    "                    [2,0,8,0], \n",
    "                    [3,0,7,0], \n",
    "                    [4,5,6,0]]) # 4x4\n",
    "fiveBy = np.array([[1,0,11,12,13], \n",
    "                    [2,0,10,0,14], \n",
    "                    [3,0,9,0,15], \n",
    "                    [4,0,8,0,16], \n",
    "                    [5,6,7,0,17]]) # 5x5\n",
    "sixBy = np.array([[1,0,13,14,15,0], \n",
    "                  [2,0,12,0,16,0], \n",
    "                  [3,0,11,0,17,0], \n",
    "                  [4,0,10,0,18,0], \n",
    "                  [5,0,9,0,19,0], \n",
    "                  [6,7,8,0,20,21]]) # 6x6\n",
    "sevenBy = np.array([[1,0,15,16,17,0,31], \n",
    "                    [2,0,14,0,18,0,30], \n",
    "                    [3,0,13,0,19,0,29], \n",
    "                    [4,0,12,0,20,0,28], \n",
    "                    [5,0,11,0,21,0,27], \n",
    "                    [6,0,10,0,22,0,26], \n",
    "                    [7,8,9,0,23,24,25]]) # 7x7\n",
    "eightBy = np.array([[1,0,17,18,19,0,35,36], \n",
    "                    [2,0,16,0,20,0,34,0], \n",
    "                    [3,0,15,0,21,0,33,0], \n",
    "                    [4,0,14,0,22,0,32,0], \n",
    "                    [5,0,13,0,23,0,31,0], \n",
    "                    [6,0,12,0,24,0,30,0], \n",
    "                    [7,0,11,0,25,0,29,0], \n",
    "                    [8,9,10,0,26,27,28,0]]) # 8x8\n",
    "nineBy = np.array([[1,0,19,20,21,0,39,40,41], \n",
    "                    [2,0,18,0,22,0,38,0,42], \n",
    "                    [3,0,17,0,23,0,37,0,43], \n",
    "                    [4,0,16,0,24,0,36,0,44], \n",
    "                    [5,0,15,0,25,0,35,0,45], \n",
    "                    [6,0,14,0,26,0,34,0,46], \n",
    "                    [7,0,13,0,27,0,33,0,47], \n",
    "                    [8,0,12,0,28,0,32,0,48],\n",
    "                    [9,10,11,0,29,30,31,0,49]]) # 9x9\n",
    "nineByRev = np.array([[49,0,31,30,29,0,39,40,41], \n",
    "                    [48,0,32,0,28,0,38,0,42], \n",
    "                    [47,0,33,0,27,0,37,0,43], \n",
    "                    [46,0,34,0,26,0,36,0,44], \n",
    "                    [45,0,35,0,25,0,35,0,45], \n",
    "                    [44,0,36,0,24,0,34,0,46], \n",
    "                    [43,0,37,0,23,0,33,0,47], \n",
    "                    [42,0,38,0,22,0,18,0,48],\n",
    "                    [41,40,39,0,21,20,19,0,49]]) # 9x9\n",
    "nineByT = nineBy.transpose()\n",
    "nineByRand = np.array([[randint(0,100) for x in range(0,9)] for x in range(0,9)])\n",
    "eightByNS = eightBy.reshape(2,32)"
   ]
  },
  {
   "cell_type": "markdown",
   "metadata": {},
   "source": [
    "## 2D Peak Finder 1"
   ]
  },
  {
   "cell_type": "markdown",
   "metadata": {},
   "source": [
    "#### Definition"
   ]
  },
  {
   "cell_type": "code",
   "execution_count": 5,
   "metadata": {},
   "outputs": [],
   "source": [
    "def peak2D1(A,n=0):\n",
    "    \"\"\"\n",
    "    INPUT: A 2D array of integers (A), and an internal counter value (n)\n",
    "    \n",
    "    RETURNS: The maximum value of the array\n",
    "    \"\"\"\n",
    "    p = A[0,0]\n",
    "    n +=1 # Set p\n",
    "    \n",
    "    for i in range(len(A[0,:])):\n",
    "        n += 1 #Set i\n",
    "        for j in range(len(A[:,i])):\n",
    "            n += 2 # Set j and check if\n",
    "            if A[j,i] >p:\n",
    "                p = A[j,i]\n",
    "                n +=1 # Set p\n",
    "    return p, n"
   ]
  },
  {
   "cell_type": "markdown",
   "metadata": {},
   "source": [
    "#### Tests"
   ]
  },
  {
   "cell_type": "code",
   "execution_count": 6,
   "metadata": {},
   "outputs": [
    {
     "name": "stdout",
     "output_type": "stream",
     "text": [
      "[2x2] 2D Peak Finder 1 found peak: 4 in 13 steps\n"
     ]
    }
   ],
   "source": [
    "twoByP1 = peak2D1(twoBy)\n",
    "print('[2x2] 2D Peak Finder 1 found peak: {} in {} steps'.format(twoByP1[0],twoByP1[1]))"
   ]
  },
  {
   "cell_type": "code",
   "execution_count": 7,
   "metadata": {},
   "outputs": [
    {
     "name": "stdout",
     "output_type": "stream",
     "text": [
      "[3x3] 2D Peak Finder 1 found peak: 7 in 26 steps\n"
     ]
    }
   ],
   "source": [
    "threeByP1 = peak2D1(threeBy)\n",
    "print('[3x3] 2D Peak Finder 1 found peak: {} in {} steps'.format(threeByP1[0],threeByP1[1]))"
   ]
  },
  {
   "cell_type": "code",
   "execution_count": 8,
   "metadata": {},
   "outputs": [
    {
     "name": "stdout",
     "output_type": "stream",
     "text": [
      "[4x4] 2D Peak Finder 1 found peak: 10 in 43 steps\n"
     ]
    }
   ],
   "source": [
    "fourByP1 = peak2D1(fourBy)\n",
    "print('[4x4] 2D Peak Finder 1 found peak: {} in {} steps'.format(fourByP1[0],fourByP1[1]))"
   ]
  },
  {
   "cell_type": "code",
   "execution_count": 9,
   "metadata": {},
   "outputs": [
    {
     "name": "stdout",
     "output_type": "stream",
     "text": [
      "[5x5] 2D Peak Finder 1 found peak: 17 in 68 steps\n"
     ]
    }
   ],
   "source": [
    "fiveByP1 = peak2D1(fiveBy)\n",
    "print('[5x5] 2D Peak Finder 1 found peak: {} in {} steps'.format(fiveByP1[0],fiveByP1[1]))"
   ]
  },
  {
   "cell_type": "code",
   "execution_count": 10,
   "metadata": {},
   "outputs": [
    {
     "name": "stdout",
     "output_type": "stream",
     "text": [
      "[6x6] 2D Peak Finder 1 found peak: 21 in 94 steps\n"
     ]
    }
   ],
   "source": [
    "sixByP1 = peak2D1(sixBy)\n",
    "print('[6x6] 2D Peak Finder 1 found peak: {} in {} steps'.format(sixByP1[0],sixByP1[1]))"
   ]
  },
  {
   "cell_type": "code",
   "execution_count": 11,
   "metadata": {},
   "outputs": [
    {
     "name": "stdout",
     "output_type": "stream",
     "text": [
      "[7x7] 2D Peak Finder 1 found peak: 31 in 124 steps\n"
     ]
    }
   ],
   "source": [
    "sevenByP1 = peak2D1(sevenBy)\n",
    "print('[7x7] 2D Peak Finder 1 found peak: {} in {} steps'.format(sevenByP1[0],sevenByP1[1]))"
   ]
  },
  {
   "cell_type": "code",
   "execution_count": 12,
   "metadata": {},
   "outputs": [
    {
     "name": "stdout",
     "output_type": "stream",
     "text": [
      "[8x8] 2D Peak Finder 1 found peak: 36 in 158 steps\n"
     ]
    }
   ],
   "source": [
    "eightByP1 = peak2D1(eightBy)\n",
    "print('[8x8] 2D Peak Finder 1 found peak: {} in {} steps'.format(eightByP1[0],eightByP1[1]))"
   ]
  },
  {
   "cell_type": "code",
   "execution_count": 13,
   "metadata": {
    "scrolled": true
   },
   "outputs": [
    {
     "name": "stdout",
     "output_type": "stream",
     "text": [
      "[9x9] 2D Peak Finder 1 found peak: 49 in 204 steps\n"
     ]
    }
   ],
   "source": [
    "nineByP1 = peak2D1(nineBy)\n",
    "print('[9x9] 2D Peak Finder 1 found peak: {} in {} steps'.format(nineByP1[0],nineByP1[1]))"
   ]
  },
  {
   "cell_type": "markdown",
   "metadata": {},
   "source": [
    "#### Functional Tests on Transpose, Reverse, Random, and Non-Square Arrays"
   ]
  },
  {
   "cell_type": "code",
   "execution_count": 14,
   "metadata": {},
   "outputs": [
    {
     "data": {
      "text/plain": [
       "(49, 172)"
      ]
     },
     "execution_count": 14,
     "metadata": {},
     "output_type": "execute_result"
    }
   ],
   "source": [
    "peak2D1(nineByRev) # Reversed"
   ]
  },
  {
   "cell_type": "code",
   "execution_count": 15,
   "metadata": {},
   "outputs": [
    {
     "data": {
      "text/plain": [
       "(49, 186)"
      ]
     },
     "execution_count": 15,
     "metadata": {},
     "output_type": "execute_result"
    }
   ],
   "source": [
    "peak2D1(nineByT) # Transposed"
   ]
  },
  {
   "cell_type": "code",
   "execution_count": 16,
   "metadata": {},
   "outputs": [
    {
     "data": {
      "text/plain": [
       "(36, 168)"
      ]
     },
     "execution_count": 16,
     "metadata": {},
     "output_type": "execute_result"
    }
   ],
   "source": [
    "peak2D1(eightByNS) # Non-Square"
   ]
  },
  {
   "cell_type": "code",
   "execution_count": 17,
   "metadata": {},
   "outputs": [
    {
     "name": "stdout",
     "output_type": "stream",
     "text": [
      "[9x9] 2D Peak Finder 1 found peak: 100 in 175 steps\n"
     ]
    }
   ],
   "source": [
    "print('[9x9] 2D Peak Finder 1 found peak: {} in {} steps'.format(peak2D1(nineByRand)[0],peak2D1(nineByRand)[1])) # Random Integers"
   ]
  },
  {
   "cell_type": "code",
   "execution_count": 18,
   "metadata": {},
   "outputs": [
    {
     "data": {
      "text/plain": [
       "array([[  6, 100,  50,  50,   1,  62,  43,  55,  80],\n",
       "       [ 33,  57,   5,  45,  17,  33,  27,  72,  81],\n",
       "       [ 30,  52,  40,  60,  92,  39,  56,  95,  92],\n",
       "       [ 27,  27,  71,   9,  56, 100,  86,  15,  74],\n",
       "       [ 27,  58,  87,  68,  27,  98,   7,  23,  11],\n",
       "       [ 94,  59,  59,  23,  84,  97,  76,  61,  74],\n",
       "       [ 11,  96,  52,  45,  20,  73,  24,  88,   3],\n",
       "       [ 91,  76,   8,  12,  59,  62,  47,  81,  10],\n",
       "       [  8,  59, 100,  74,  79,  19,  26,  55,  56]])"
      ]
     },
     "execution_count": 18,
     "metadata": {},
     "output_type": "execute_result"
    }
   ],
   "source": [
    "nineByRand"
   ]
  },
  {
   "cell_type": "markdown",
   "metadata": {},
   "source": [
    "#### Time Tests"
   ]
  },
  {
   "cell_type": "code",
   "execution_count": 17,
   "metadata": {},
   "outputs": [],
   "source": [
    "twoByP1T = timeit('peak2D1(twoBy)', globals=globals())"
   ]
  },
  {
   "cell_type": "code",
   "execution_count": 18,
   "metadata": {},
   "outputs": [],
   "source": [
    "threeByP1T = timeit('peak2D1(threeBy)', globals=globals())"
   ]
  },
  {
   "cell_type": "code",
   "execution_count": 19,
   "metadata": {},
   "outputs": [],
   "source": [
    "fourByP1T = timeit('peak2D1(fourBy)', globals=globals())"
   ]
  },
  {
   "cell_type": "code",
   "execution_count": 20,
   "metadata": {},
   "outputs": [],
   "source": [
    "fiveByP1T = timeit('peak2D1(fiveBy)', globals=globals())"
   ]
  },
  {
   "cell_type": "code",
   "execution_count": 21,
   "metadata": {},
   "outputs": [],
   "source": [
    "sixByP1T = timeit('peak2D1(sixBy)', globals=globals())"
   ]
  },
  {
   "cell_type": "code",
   "execution_count": 22,
   "metadata": {},
   "outputs": [],
   "source": [
    "sevenByP1T = timeit('peak2D1(sevenBy)', globals=globals())"
   ]
  },
  {
   "cell_type": "code",
   "execution_count": 23,
   "metadata": {},
   "outputs": [],
   "source": [
    "eightByP1T = timeit('peak2D1(eightBy)', globals=globals())"
   ]
  },
  {
   "cell_type": "code",
   "execution_count": 24,
   "metadata": {},
   "outputs": [],
   "source": [
    "nineByP1T = timeit('peak2D1(nineBy)', globals=globals())"
   ]
  },
  {
   "cell_type": "markdown",
   "metadata": {},
   "source": [
    "## 2D Peak Finder 2"
   ]
  },
  {
   "cell_type": "code",
   "execution_count": 19,
   "metadata": {},
   "outputs": [],
   "source": [
    "def peak2D2(A, n=0):\n",
    "    \"\"\"\n",
    "    INPUT: A 2D DataFrame object (A) and an internal counter value (n)\n",
    "    \n",
    "    RETURNS: A Peak value (the first peak value encountered)\n",
    "    \"\"\"\n",
    "    n += 1 # Check if\n",
    "    if len(A.shape) == 1:\n",
    "        return A.max(), n\n",
    "        \n",
    "    else:\n",
    "        n += 1 # Checked else\n",
    "        num_rows, num_cols = A.shape\n",
    "        n += 1 # Set num_cols and num_rows\n",
    "    \n",
    "    m = int((num_cols / 2))\n",
    "    n += 1 # Set m\n",
    "    \n",
    "    q = A[:,m].argmax()\n",
    "    n += 1 # Set q\n",
    "    \n",
    "    if m >= 1 and A[q,m] < A[q,m-1]:\n",
    "        n += 1 # Checked if only\n",
    "        return peak2D2(A[:,:m], n)\n",
    "    elif m+1 <= num_cols-1 and A[q,m] < A[q,m+1]:\n",
    "        n += 2 # Checked if and elif\n",
    "        return peak2D2(A[:,m:], n)\n",
    "    else:\n",
    "        n += 3 # Checked if, elif, and else\n",
    "        return peak2D2(A[:,m], n)"
   ]
  },
  {
   "cell_type": "markdown",
   "metadata": {},
   "source": [
    "#### Tests"
   ]
  },
  {
   "cell_type": "code",
   "execution_count": 20,
   "metadata": {
    "scrolled": true
   },
   "outputs": [
    {
     "name": "stdout",
     "output_type": "stream",
     "text": [
      "[2x2] 2D Peak Finder 2 found peak: 4 in 9 steps\n"
     ]
    }
   ],
   "source": [
    "twoByP2 = peak2D2(twoBy)\n",
    "print('[2x2] 2D Peak Finder 2 found peak: {} in {} steps'.format(twoByP2[0],twoByP2[1]))"
   ]
  },
  {
   "cell_type": "code",
   "execution_count": 21,
   "metadata": {},
   "outputs": [
    {
     "name": "stdout",
     "output_type": "stream",
     "text": [
      "[3x3] 2D Peak Finder 2 found peak: 7 in 16 steps\n"
     ]
    }
   ],
   "source": [
    "threeByP2 = peak2D2(threeBy)\n",
    "print('[3x3] 2D Peak Finder 2 found peak: {} in {} steps'.format(threeByP2[0],threeByP2[1]))"
   ]
  },
  {
   "cell_type": "code",
   "execution_count": 22,
   "metadata": {},
   "outputs": [
    {
     "name": "stdout",
     "output_type": "stream",
     "text": [
      "[4x4] 2D Peak Finder 2 found peak: 10 in 16 steps\n"
     ]
    }
   ],
   "source": [
    "fourByP2 = peak2D2(fourBy)\n",
    "print('[4x4] 2D Peak Finder 2 found peak: {} in {} steps'.format(fourByP2[0],fourByP2[1]))"
   ]
  },
  {
   "cell_type": "code",
   "execution_count": 23,
   "metadata": {},
   "outputs": [
    {
     "name": "stdout",
     "output_type": "stream",
     "text": [
      "[5x5] 2D Peak Finder 2 found peak: 17 in 23 steps\n"
     ]
    }
   ],
   "source": [
    "fiveByP2 = peak2D2(fiveBy)\n",
    "print('[5x5] 2D Peak Finder 2 found peak: {} in {} steps'.format(fiveByP2[0],fiveByP2[1]))"
   ]
  },
  {
   "cell_type": "code",
   "execution_count": 24,
   "metadata": {},
   "outputs": [
    {
     "name": "stdout",
     "output_type": "stream",
     "text": [
      "[6x6] 2D Peak Finder 2 found peak: 21 in 23 steps\n"
     ]
    }
   ],
   "source": [
    "sixByP2 = peak2D2(sixBy)\n",
    "print('[6x6] 2D Peak Finder 2 found peak: {} in {} steps'.format(sixByP2[0],sixByP2[1]))"
   ]
  },
  {
   "cell_type": "code",
   "execution_count": 25,
   "metadata": {},
   "outputs": [
    {
     "name": "stdout",
     "output_type": "stream",
     "text": [
      "[7x7] 2D Peak Finder 2 found peak: 31 in 23 steps\n"
     ]
    }
   ],
   "source": [
    "sevenByP2 = peak2D2(sevenBy)\n",
    "print('[7x7] 2D Peak Finder 2 found peak: {} in {} steps'.format(sevenByP2[0],sevenByP2[1]))"
   ]
  },
  {
   "cell_type": "code",
   "execution_count": 26,
   "metadata": {},
   "outputs": [
    {
     "name": "stdout",
     "output_type": "stream",
     "text": [
      "[8x8] 2D Peak Finder 2 found peak: 36 in 23 steps\n"
     ]
    }
   ],
   "source": [
    "eightByP2 = peak2D2(eightBy)\n",
    "print('[8x8] 2D Peak Finder 2 found peak: {} in {} steps'.format(eightByP2[0],eightByP2[1]))"
   ]
  },
  {
   "cell_type": "code",
   "execution_count": 27,
   "metadata": {
    "scrolled": true
   },
   "outputs": [
    {
     "name": "stdout",
     "output_type": "stream",
     "text": [
      "[9x9] 2D Peak Finder 2 found peak: 49 in 30 steps\n"
     ]
    }
   ],
   "source": [
    "nineByP2 = peak2D2(nineBy)\n",
    "print('[9x9] 2D Peak Finder 2 found peak: {} in {} steps'.format(nineByP2[0],nineByP2[1]))"
   ]
  },
  {
   "cell_type": "markdown",
   "metadata": {},
   "source": [
    "#### Functional Tests on Transpose, Reverse, and Non-Square Arrays"
   ]
  },
  {
   "cell_type": "code",
   "execution_count": 28,
   "metadata": {},
   "outputs": [
    {
     "data": {
      "text/plain": [
       "(49, 27)"
      ]
     },
     "execution_count": 28,
     "metadata": {},
     "output_type": "execute_result"
    }
   ],
   "source": [
    "peak2D2(nineByRev)"
   ]
  },
  {
   "cell_type": "code",
   "execution_count": 29,
   "metadata": {},
   "outputs": [
    {
     "data": {
      "text/plain": [
       "(49, 30)"
      ]
     },
     "execution_count": 29,
     "metadata": {},
     "output_type": "execute_result"
    }
   ],
   "source": [
    "peak2D2(nineByT)"
   ]
  },
  {
   "cell_type": "code",
   "execution_count": 30,
   "metadata": {},
   "outputs": [
    {
     "data": {
      "text/plain": [
       "(7, 9)"
      ]
     },
     "execution_count": 30,
     "metadata": {},
     "output_type": "execute_result"
    }
   ],
   "source": [
    "# NOTE: Peak Finder 2 finds one peak (the first encountered) and not the maximum value \n",
    "#        7 is a peak value in the non-square array eightByNS\n",
    "peak2D2(eightByNS)"
   ]
  },
  {
   "cell_type": "code",
   "execution_count": 31,
   "metadata": {
    "scrolled": true
   },
   "outputs": [
    {
     "data": {
      "text/plain": [
       "array([[ 1,  0, 17, 18, 19,  0, 35, 36,  2,  0, 16,  0, 20,  0, 34,  0,\n",
       "         3,  0, 15,  0, 21,  0, 33,  0,  4,  0, 14,  0, 22,  0, 32,  0],\n",
       "       [ 5,  0, 13,  0, 23,  0, 31,  0,  6,  0, 12,  0, 24,  0, 30,  0,\n",
       "         7,  0, 11,  0, 25,  0, 29,  0,  8,  9, 10,  0, 26, 27, 28,  0]])"
      ]
     },
     "execution_count": 31,
     "metadata": {},
     "output_type": "execute_result"
    }
   ],
   "source": [
    "eightByNS"
   ]
  },
  {
   "cell_type": "code",
   "execution_count": 32,
   "metadata": {},
   "outputs": [
    {
     "data": {
      "text/plain": [
       "(92, 9)"
      ]
     },
     "execution_count": 32,
     "metadata": {},
     "output_type": "execute_result"
    }
   ],
   "source": [
    "peak2D2(nineByRand)"
   ]
  },
  {
   "cell_type": "code",
   "execution_count": 33,
   "metadata": {},
   "outputs": [
    {
     "data": {
      "text/plain": [
       "array([[  6, 100,  50,  50,   1,  62,  43,  55,  80],\n",
       "       [ 33,  57,   5,  45,  17,  33,  27,  72,  81],\n",
       "       [ 30,  52,  40,  60,  92,  39,  56,  95,  92],\n",
       "       [ 27,  27,  71,   9,  56, 100,  86,  15,  74],\n",
       "       [ 27,  58,  87,  68,  27,  98,   7,  23,  11],\n",
       "       [ 94,  59,  59,  23,  84,  97,  76,  61,  74],\n",
       "       [ 11,  96,  52,  45,  20,  73,  24,  88,   3],\n",
       "       [ 91,  76,   8,  12,  59,  62,  47,  81,  10],\n",
       "       [  8,  59, 100,  74,  79,  19,  26,  55,  56]])"
      ]
     },
     "execution_count": 33,
     "metadata": {},
     "output_type": "execute_result"
    }
   ],
   "source": [
    "nineByRand"
   ]
  },
  {
   "cell_type": "markdown",
   "metadata": {},
   "source": [
    "#### Time Tests"
   ]
  },
  {
   "cell_type": "code",
   "execution_count": 40,
   "metadata": {},
   "outputs": [],
   "source": [
    "twoByP2T = timeit('peak2D2(twoBy)', globals=globals())"
   ]
  },
  {
   "cell_type": "code",
   "execution_count": 41,
   "metadata": {},
   "outputs": [],
   "source": [
    "threeByP2T = timeit('peak2D2(threeBy)', globals=globals())"
   ]
  },
  {
   "cell_type": "code",
   "execution_count": 42,
   "metadata": {},
   "outputs": [],
   "source": [
    "fourByP2T = timeit('peak2D2(fourBy)', globals=globals())"
   ]
  },
  {
   "cell_type": "code",
   "execution_count": 43,
   "metadata": {},
   "outputs": [],
   "source": [
    "fiveByP2T = timeit('peak2D2(fiveBy)', globals=globals())"
   ]
  },
  {
   "cell_type": "code",
   "execution_count": 44,
   "metadata": {},
   "outputs": [],
   "source": [
    "sixByP2T = timeit('peak2D2(sixBy)', globals=globals())"
   ]
  },
  {
   "cell_type": "code",
   "execution_count": 45,
   "metadata": {},
   "outputs": [],
   "source": [
    "sevenByP2T = timeit('peak2D2(sevenBy)', globals=globals())"
   ]
  },
  {
   "cell_type": "code",
   "execution_count": 46,
   "metadata": {},
   "outputs": [],
   "source": [
    "eightByP2T = timeit('peak2D2(eightBy)', globals=globals())"
   ]
  },
  {
   "cell_type": "code",
   "execution_count": 47,
   "metadata": {},
   "outputs": [],
   "source": [
    "nineByP2T = timeit('peak2D2(nineBy)', globals=globals())"
   ]
  },
  {
   "cell_type": "markdown",
   "metadata": {},
   "source": [
    "## Step Count Analysis"
   ]
  },
  {
   "cell_type": "code",
   "execution_count": 34,
   "metadata": {},
   "outputs": [],
   "source": [
    "dataSC = {'algorithm':['2D Peak Finder 1', '2D Peak Finder 1', '2D Peak Finder 1', '2D Peak Finder 1',\n",
    "                     '2D Peak Finder 1', '2D Peak Finder 1','2D Peak Finder 1', '2D Peak Finder 1',\n",
    "                     '2D Peak Finder 2', '2D Peak Finder 2', '2D Peak Finder 2', '2D Peak Finder 2',\n",
    "                     '2D Peak Finder 2', '2D Peak Finder 2','2D Peak Finder 2', '2D Peak Finder 2'],\n",
    "       'array_size':['2x2', '3x3', '4x4','5x5','6x6','7x7','8x8','9x9',\n",
    "             '2x2', '3x3', '4x4','5x5','6x6','7x7','8x8','9x9'],\n",
    "       'step_count':[twoByP1[1], threeByP1[1], fourByP1[1], fiveByP1[1], \n",
    "                   sixByP1[1], sevenByP1[1], eightByP1[1], nineByP1[1], \n",
    "                   twoByP2[1], threeByP2[1], fourByP2[1], fiveByP2[1], \n",
    "                   sixByP2[1], sevenByP2[1], eightByP2[1], nineByP2[1]]}"
   ]
  },
  {
   "cell_type": "code",
   "execution_count": 35,
   "metadata": {},
   "outputs": [],
   "source": [
    "sc_df = pd.DataFrame(dataSC)"
   ]
  },
  {
   "cell_type": "code",
   "execution_count": 36,
   "metadata": {},
   "outputs": [
    {
     "data": {
      "text/html": [
       "<div>\n",
       "<style scoped>\n",
       "    .dataframe tbody tr th:only-of-type {\n",
       "        vertical-align: middle;\n",
       "    }\n",
       "\n",
       "    .dataframe tbody tr th {\n",
       "        vertical-align: top;\n",
       "    }\n",
       "\n",
       "    .dataframe thead th {\n",
       "        text-align: right;\n",
       "    }\n",
       "</style>\n",
       "<table border=\"1\" class=\"dataframe\">\n",
       "  <thead>\n",
       "    <tr style=\"text-align: right;\">\n",
       "      <th></th>\n",
       "      <th>algorithm</th>\n",
       "      <th>array_size</th>\n",
       "      <th>step_count</th>\n",
       "    </tr>\n",
       "  </thead>\n",
       "  <tbody>\n",
       "    <tr>\n",
       "      <th>0</th>\n",
       "      <td>2D Peak Finder 1</td>\n",
       "      <td>2x2</td>\n",
       "      <td>13</td>\n",
       "    </tr>\n",
       "    <tr>\n",
       "      <th>1</th>\n",
       "      <td>2D Peak Finder 1</td>\n",
       "      <td>3x3</td>\n",
       "      <td>26</td>\n",
       "    </tr>\n",
       "    <tr>\n",
       "      <th>2</th>\n",
       "      <td>2D Peak Finder 1</td>\n",
       "      <td>4x4</td>\n",
       "      <td>43</td>\n",
       "    </tr>\n",
       "    <tr>\n",
       "      <th>3</th>\n",
       "      <td>2D Peak Finder 1</td>\n",
       "      <td>5x5</td>\n",
       "      <td>68</td>\n",
       "    </tr>\n",
       "    <tr>\n",
       "      <th>4</th>\n",
       "      <td>2D Peak Finder 1</td>\n",
       "      <td>6x6</td>\n",
       "      <td>94</td>\n",
       "    </tr>\n",
       "    <tr>\n",
       "      <th>5</th>\n",
       "      <td>2D Peak Finder 1</td>\n",
       "      <td>7x7</td>\n",
       "      <td>124</td>\n",
       "    </tr>\n",
       "    <tr>\n",
       "      <th>6</th>\n",
       "      <td>2D Peak Finder 1</td>\n",
       "      <td>8x8</td>\n",
       "      <td>158</td>\n",
       "    </tr>\n",
       "    <tr>\n",
       "      <th>7</th>\n",
       "      <td>2D Peak Finder 1</td>\n",
       "      <td>9x9</td>\n",
       "      <td>204</td>\n",
       "    </tr>\n",
       "    <tr>\n",
       "      <th>8</th>\n",
       "      <td>2D Peak Finder 2</td>\n",
       "      <td>2x2</td>\n",
       "      <td>9</td>\n",
       "    </tr>\n",
       "    <tr>\n",
       "      <th>9</th>\n",
       "      <td>2D Peak Finder 2</td>\n",
       "      <td>3x3</td>\n",
       "      <td>16</td>\n",
       "    </tr>\n",
       "    <tr>\n",
       "      <th>10</th>\n",
       "      <td>2D Peak Finder 2</td>\n",
       "      <td>4x4</td>\n",
       "      <td>16</td>\n",
       "    </tr>\n",
       "    <tr>\n",
       "      <th>11</th>\n",
       "      <td>2D Peak Finder 2</td>\n",
       "      <td>5x5</td>\n",
       "      <td>23</td>\n",
       "    </tr>\n",
       "    <tr>\n",
       "      <th>12</th>\n",
       "      <td>2D Peak Finder 2</td>\n",
       "      <td>6x6</td>\n",
       "      <td>23</td>\n",
       "    </tr>\n",
       "    <tr>\n",
       "      <th>13</th>\n",
       "      <td>2D Peak Finder 2</td>\n",
       "      <td>7x7</td>\n",
       "      <td>23</td>\n",
       "    </tr>\n",
       "    <tr>\n",
       "      <th>14</th>\n",
       "      <td>2D Peak Finder 2</td>\n",
       "      <td>8x8</td>\n",
       "      <td>23</td>\n",
       "    </tr>\n",
       "    <tr>\n",
       "      <th>15</th>\n",
       "      <td>2D Peak Finder 2</td>\n",
       "      <td>9x9</td>\n",
       "      <td>30</td>\n",
       "    </tr>\n",
       "  </tbody>\n",
       "</table>\n",
       "</div>"
      ],
      "text/plain": [
       "           algorithm array_size  step_count\n",
       "0   2D Peak Finder 1        2x2          13\n",
       "1   2D Peak Finder 1        3x3          26\n",
       "2   2D Peak Finder 1        4x4          43\n",
       "3   2D Peak Finder 1        5x5          68\n",
       "4   2D Peak Finder 1        6x6          94\n",
       "5   2D Peak Finder 1        7x7         124\n",
       "6   2D Peak Finder 1        8x8         158\n",
       "7   2D Peak Finder 1        9x9         204\n",
       "8   2D Peak Finder 2        2x2           9\n",
       "9   2D Peak Finder 2        3x3          16\n",
       "10  2D Peak Finder 2        4x4          16\n",
       "11  2D Peak Finder 2        5x5          23\n",
       "12  2D Peak Finder 2        6x6          23\n",
       "13  2D Peak Finder 2        7x7          23\n",
       "14  2D Peak Finder 2        8x8          23\n",
       "15  2D Peak Finder 2        9x9          30"
      ]
     },
     "execution_count": 36,
     "metadata": {},
     "output_type": "execute_result"
    }
   ],
   "source": [
    "sc_df"
   ]
  },
  {
   "cell_type": "code",
   "execution_count": 40,
   "metadata": {},
   "outputs": [
    {
     "data": {
      "text/plain": [
       "<matplotlib.axes._subplots.AxesSubplot at 0x7fcd28fb1050>"
      ]
     },
     "execution_count": 40,
     "metadata": {},
     "output_type": "execute_result"
    },
    {
     "data": {
      "image/png": "[encoded data removed]",
      "text/plain": [
       "<Figure size 864x576 with 1 Axes>"
      ]
     },
     "metadata": {
      "needs_background": "light"
     },
     "output_type": "display_data"
    }
   ],
   "source": [
    "plt.figure(figsize=(12,8))\n",
    "sns.barplot(x='array_size', y='step_count', hue='algorithm', data = sc_df, palette = 'viridis')"
   ]
  },
  {
   "cell_type": "code",
   "execution_count": 52,
   "metadata": {},
   "outputs": [
    {
     "data": {
      "text/html": [
       "<div>\n",
       "<style scoped>\n",
       "    .dataframe tbody tr th:only-of-type {\n",
       "        vertical-align: middle;\n",
       "    }\n",
       "\n",
       "    .dataframe tbody tr th {\n",
       "        vertical-align: top;\n",
       "    }\n",
       "\n",
       "    .dataframe thead th {\n",
       "        text-align: right;\n",
       "    }\n",
       "</style>\n",
       "<table border=\"1\" class=\"dataframe\">\n",
       "  <thead>\n",
       "    <tr style=\"text-align: right;\">\n",
       "      <th></th>\n",
       "      <th></th>\n",
       "      <th>step_count</th>\n",
       "    </tr>\n",
       "    <tr>\n",
       "      <th>array_size</th>\n",
       "      <th>algorithm</th>\n",
       "      <th></th>\n",
       "    </tr>\n",
       "  </thead>\n",
       "  <tbody>\n",
       "    <tr>\n",
       "      <th rowspan=\"2\" valign=\"top\">2x2</th>\n",
       "      <th>2D Peak Finder 1</th>\n",
       "      <td>13</td>\n",
       "    </tr>\n",
       "    <tr>\n",
       "      <th>2D Peak Finder 2</th>\n",
       "      <td>9</td>\n",
       "    </tr>\n",
       "    <tr>\n",
       "      <th rowspan=\"2\" valign=\"top\">3x3</th>\n",
       "      <th>2D Peak Finder 1</th>\n",
       "      <td>26</td>\n",
       "    </tr>\n",
       "    <tr>\n",
       "      <th>2D Peak Finder 2</th>\n",
       "      <td>16</td>\n",
       "    </tr>\n",
       "    <tr>\n",
       "      <th rowspan=\"2\" valign=\"top\">4x4</th>\n",
       "      <th>2D Peak Finder 1</th>\n",
       "      <td>43</td>\n",
       "    </tr>\n",
       "    <tr>\n",
       "      <th>2D Peak Finder 2</th>\n",
       "      <td>16</td>\n",
       "    </tr>\n",
       "    <tr>\n",
       "      <th rowspan=\"2\" valign=\"top\">5x5</th>\n",
       "      <th>2D Peak Finder 1</th>\n",
       "      <td>68</td>\n",
       "    </tr>\n",
       "    <tr>\n",
       "      <th>2D Peak Finder 2</th>\n",
       "      <td>23</td>\n",
       "    </tr>\n",
       "    <tr>\n",
       "      <th rowspan=\"2\" valign=\"top\">6x6</th>\n",
       "      <th>2D Peak Finder 1</th>\n",
       "      <td>94</td>\n",
       "    </tr>\n",
       "    <tr>\n",
       "      <th>2D Peak Finder 2</th>\n",
       "      <td>23</td>\n",
       "    </tr>\n",
       "    <tr>\n",
       "      <th rowspan=\"2\" valign=\"top\">7x7</th>\n",
       "      <th>2D Peak Finder 1</th>\n",
       "      <td>124</td>\n",
       "    </tr>\n",
       "    <tr>\n",
       "      <th>2D Peak Finder 2</th>\n",
       "      <td>23</td>\n",
       "    </tr>\n",
       "    <tr>\n",
       "      <th rowspan=\"2\" valign=\"top\">8x8</th>\n",
       "      <th>2D Peak Finder 1</th>\n",
       "      <td>158</td>\n",
       "    </tr>\n",
       "    <tr>\n",
       "      <th>2D Peak Finder 2</th>\n",
       "      <td>23</td>\n",
       "    </tr>\n",
       "    <tr>\n",
       "      <th rowspan=\"2\" valign=\"top\">9x9</th>\n",
       "      <th>2D Peak Finder 1</th>\n",
       "      <td>204</td>\n",
       "    </tr>\n",
       "    <tr>\n",
       "      <th>2D Peak Finder 2</th>\n",
       "      <td>30</td>\n",
       "    </tr>\n",
       "  </tbody>\n",
       "</table>\n",
       "</div>"
      ],
      "text/plain": [
       "                             step_count\n",
       "array_size algorithm                   \n",
       "2x2        2D Peak Finder 1          13\n",
       "           2D Peak Finder 2           9\n",
       "3x3        2D Peak Finder 1          26\n",
       "           2D Peak Finder 2          16\n",
       "4x4        2D Peak Finder 1          43\n",
       "           2D Peak Finder 2          16\n",
       "5x5        2D Peak Finder 1          68\n",
       "           2D Peak Finder 2          23\n",
       "6x6        2D Peak Finder 1          94\n",
       "           2D Peak Finder 2          23\n",
       "7x7        2D Peak Finder 1         124\n",
       "           2D Peak Finder 2          23\n",
       "8x8        2D Peak Finder 1         158\n",
       "           2D Peak Finder 2          23\n",
       "9x9        2D Peak Finder 1         204\n",
       "           2D Peak Finder 2          30"
      ]
     },
     "execution_count": 52,
     "metadata": {},
     "output_type": "execute_result"
    }
   ],
   "source": [
    "sc_df.pivot_table(values = 'step_count', index = ['array_size', 'algorithm'])"
   ]
  },
  {
   "cell_type": "markdown",
   "metadata": {},
   "source": [
    "## Time Test Visualizations"
   ]
  },
  {
   "cell_type": "code",
   "execution_count": 53,
   "metadata": {},
   "outputs": [],
   "source": [
    "data = {'algorithm':['2D Peak Finder 1', '2D Peak Finder 1', '2D Peak Finder 1', '2D Peak Finder 1',\n",
    "                     '2D Peak Finder 1', '2D Peak Finder 1','2D Peak Finder 1', '2D Peak Finder 1',\n",
    "                     '2D Peak Finder 2', '2D Peak Finder 2', '2D Peak Finder 2', '2D Peak Finder 2',\n",
    "                     '2D Peak Finder 2', '2D Peak Finder 2','2D Peak Finder 2', '2D Peak Finder 2'],\n",
    "       'array_size':['2x2', '3x3', '4x4','5x5','6x6','7x7','8x8','9x9',\n",
    "             '2x2', '3x3', '4x4','5x5','6x6','7x7','8x8','9x9'],\n",
    "       'run_time':[twoByP1T, threeByP1T, fourByP1T, fiveByP1T, sixByP1T, sevenByP1T, eightByP1T, nineByP1T, \n",
    "                   twoByP2T, threeByP2T, fourByP2T, fiveByP2T, sixByP2T, sevenByP2T, eightByP2T, nineByP2T]}"
   ]
  },
  {
   "cell_type": "code",
   "execution_count": 54,
   "metadata": {},
   "outputs": [],
   "source": [
    "df = pd.DataFrame(data)"
   ]
  },
  {
   "cell_type": "code",
   "execution_count": 2,
   "metadata": {},
   "outputs": [
    {
     "ename": "NameError",
     "evalue": "name 'df' is not defined",
     "output_type": "error",
     "traceback": [
      "\u001b[0;31m---------------------------------------------------------------------------\u001b[0m",
      "\u001b[0;31mNameError\u001b[0m                                 Traceback (most recent call last)",
      "\u001b[0;32m<ipython-input-2-00cf07b74dcd>\u001b[0m in \u001b[0;36m<module>\u001b[0;34m\u001b[0m\n\u001b[0;32m----> 1\u001b[0;31m \u001b[0mdf\u001b[0m\u001b[0;34m\u001b[0m\u001b[0;34m\u001b[0m\u001b[0m\n\u001b[0m",
      "\u001b[0;31mNameError\u001b[0m: name 'df' is not defined"
     ]
    }
   ],
   "source": [
    "df"
   ]
  },
  {
   "cell_type": "code",
   "execution_count": 56,
   "metadata": {},
   "outputs": [
    {
     "data": {
      "text/plain": [
       "<matplotlib.axes._subplots.AxesSubplot at 0x7fbbfcad91d0>"
      ]
     },
     "execution_count": 56,
     "metadata": {},
     "output_type": "execute_result"
    },
    {
     "data": {
      "image/png": "[encoded data removed]",
      "text/plain": [
       "<Figure size 864x576 with 1 Axes>"
      ]
     },
     "metadata": {
      "needs_background": "light"
     },
     "output_type": "display_data"
    }
   ],
   "source": [
    "plt.figure(figsize=(12,8))\n",
    "sns.barplot(x='array_size', y='run_time', hue='algorithm', data = df, palette = 'viridis')"
   ]
  },
  {
   "cell_type": "code",
   "execution_count": 57,
   "metadata": {},
   "outputs": [
    {
     "data": {
      "text/html": [
       "<div>\n",
       "<style scoped>\n",
       "    .dataframe tbody tr th:only-of-type {\n",
       "        vertical-align: middle;\n",
       "    }\n",
       "\n",
       "    .dataframe tbody tr th {\n",
       "        vertical-align: top;\n",
       "    }\n",
       "\n",
       "    .dataframe thead th {\n",
       "        text-align: right;\n",
       "    }\n",
       "</style>\n",
       "<table border=\"1\" class=\"dataframe\">\n",
       "  <thead>\n",
       "    <tr style=\"text-align: right;\">\n",
       "      <th></th>\n",
       "      <th></th>\n",
       "      <th>run_time</th>\n",
       "    </tr>\n",
       "    <tr>\n",
       "      <th>array_size</th>\n",
       "      <th>algorithm</th>\n",
       "      <th></th>\n",
       "    </tr>\n",
       "  </thead>\n",
       "  <tbody>\n",
       "    <tr>\n",
       "      <th rowspan=\"2\" valign=\"top\">2x2</th>\n",
       "      <th>2D Peak Finder 1</th>\n",
       "      <td>3.140822</td>\n",
       "    </tr>\n",
       "    <tr>\n",
       "      <th>2D Peak Finder 2</th>\n",
       "      <td>4.549223</td>\n",
       "    </tr>\n",
       "    <tr>\n",
       "      <th rowspan=\"2\" valign=\"top\">3x3</th>\n",
       "      <th>2D Peak Finder 1</th>\n",
       "      <td>5.221962</td>\n",
       "    </tr>\n",
       "    <tr>\n",
       "      <th>2D Peak Finder 2</th>\n",
       "      <td>7.411769</td>\n",
       "    </tr>\n",
       "    <tr>\n",
       "      <th rowspan=\"2\" valign=\"top\">4x4</th>\n",
       "      <th>2D Peak Finder 1</th>\n",
       "      <td>7.468232</td>\n",
       "    </tr>\n",
       "    <tr>\n",
       "      <th>2D Peak Finder 2</th>\n",
       "      <td>7.307856</td>\n",
       "    </tr>\n",
       "    <tr>\n",
       "      <th rowspan=\"2\" valign=\"top\">5x5</th>\n",
       "      <th>2D Peak Finder 1</th>\n",
       "      <td>11.465020</td>\n",
       "    </tr>\n",
       "    <tr>\n",
       "      <th>2D Peak Finder 2</th>\n",
       "      <td>9.631582</td>\n",
       "    </tr>\n",
       "    <tr>\n",
       "      <th rowspan=\"2\" valign=\"top\">6x6</th>\n",
       "      <th>2D Peak Finder 1</th>\n",
       "      <td>14.396178</td>\n",
       "    </tr>\n",
       "    <tr>\n",
       "      <th>2D Peak Finder 2</th>\n",
       "      <td>9.744291</td>\n",
       "    </tr>\n",
       "    <tr>\n",
       "      <th rowspan=\"2\" valign=\"top\">7x7</th>\n",
       "      <th>2D Peak Finder 1</th>\n",
       "      <td>17.865215</td>\n",
       "    </tr>\n",
       "    <tr>\n",
       "      <th>2D Peak Finder 2</th>\n",
       "      <td>9.820541</td>\n",
       "    </tr>\n",
       "    <tr>\n",
       "      <th rowspan=\"2\" valign=\"top\">8x8</th>\n",
       "      <th>2D Peak Finder 1</th>\n",
       "      <td>21.826844</td>\n",
       "    </tr>\n",
       "    <tr>\n",
       "      <th>2D Peak Finder 2</th>\n",
       "      <td>9.866189</td>\n",
       "    </tr>\n",
       "    <tr>\n",
       "      <th rowspan=\"2\" valign=\"top\">9x9</th>\n",
       "      <th>2D Peak Finder 1</th>\n",
       "      <td>27.657984</td>\n",
       "    </tr>\n",
       "    <tr>\n",
       "      <th>2D Peak Finder 2</th>\n",
       "      <td>12.589477</td>\n",
       "    </tr>\n",
       "  </tbody>\n",
       "</table>\n",
       "</div>"
      ],
      "text/plain": [
       "                              run_time\n",
       "array_size algorithm                  \n",
       "2x2        2D Peak Finder 1   3.140822\n",
       "           2D Peak Finder 2   4.549223\n",
       "3x3        2D Peak Finder 1   5.221962\n",
       "           2D Peak Finder 2   7.411769\n",
       "4x4        2D Peak Finder 1   7.468232\n",
       "           2D Peak Finder 2   7.307856\n",
       "5x5        2D Peak Finder 1  11.465020\n",
       "           2D Peak Finder 2   9.631582\n",
       "6x6        2D Peak Finder 1  14.396178\n",
       "           2D Peak Finder 2   9.744291\n",
       "7x7        2D Peak Finder 1  17.865215\n",
       "           2D Peak Finder 2   9.820541\n",
       "8x8        2D Peak Finder 1  21.826844\n",
       "           2D Peak Finder 2   9.866189\n",
       "9x9        2D Peak Finder 1  27.657984\n",
       "           2D Peak Finder 2  12.589477"
      ]
     },
     "execution_count": 57,
     "metadata": {},
     "output_type": "execute_result"
    }
   ],
   "source": [
    "df.pivot_table(values = 'run_time', index = ['array_size', 'algorithm'])"
   ]
  },
  {
   "cell_type": "code",
   "execution_count": null,
   "metadata": {},
   "outputs": [],
   "source": []
  },
  {
   "cell_type": "code",
   "execution_count": null,
   "metadata": {},
   "outputs": [],
   "source": []
  },
  {
   "cell_type": "code",
   "execution_count": null,
   "metadata": {},
   "outputs": [],
   "source": []
  },
  {
   "cell_type": "code",
   "execution_count": null,
   "metadata": {},
   "outputs": [],
   "source": []
  }
 ],
 "metadata": {
  "kernelspec": {
   "display_name": "Python 3 (ipykernel)",
   "language": "python",
   "name": "python3"
  },
  "language_info": {
   "codemirror_mode": {
    "name": "ipython",
    "version": 3
   },
   "file_extension": ".py",
   "mimetype": "text/x-python",
   "name": "python",
   "nbconvert_exporter": "python",
   "pygments_lexer": "ipython3",
   "version": "3.9.6"
  }
 },
 "nbformat": 4,
 "nbformat_minor": 4
}
