{
 "cells": [
  {
   "cell_type": "markdown",
   "metadata": {},
   "source": [
    "# 1D Peak Finder Algorithms"
   ]
  },
  {
   "cell_type": "markdown",
   "metadata": {},
   "source": [
    "## Import Statements"
   ]
  },
  {
   "cell_type": "code",
   "execution_count": 18,
   "metadata": {},
   "outputs": [],
   "source": [
    "import numpy as np\n",
    "from random import randint\n",
    "from timeit import timeit\n",
    "import pandas as pd\n",
    "import seaborn as sns\n",
    "import matplotlib.pyplot as plt\n",
    "%matplotlib inline"
   ]
  },
  {
   "cell_type": "code",
   "execution_count": 19,
   "metadata": {},
   "outputs": [],
   "source": [
    "import time\n",
    "from tqdm import tqdm"
   ]
  },
  {
   "cell_type": "code",
   "execution_count": 20,
   "metadata": {},
   "outputs": [],
   "source": [
    "#timeit('peak1(A)', 'from __main__ import peak1, A')"
   ]
  },
  {
   "cell_type": "markdown",
   "metadata": {},
   "source": [
    "## Worst Case Scenarios"
   ]
  },
  {
   "cell_type": "code",
   "execution_count": 21,
   "metadata": {},
   "outputs": [],
   "source": [
    "WC10000 = [x for x in range(0,10000)] #10000 numbers\n",
    "WC1000 = [x for x in range(0,1000)] #1000 numbers\n",
    "WC100 = [x for x in range(0,100)] #100 numbers\n",
    "WC10 = [x for x in range(0,10)] #10 numbers"
   ]
  },
  {
   "cell_type": "markdown",
   "metadata": {},
   "source": [
    "## Random Lists"
   ]
  },
  {
   "cell_type": "code",
   "execution_count": 22,
   "metadata": {},
   "outputs": [],
   "source": [
    "RL10000 = [randint(0,100) for x in range(0,10000)] #10000 numbers\n",
    "RL1000 = [randint(0,100) for x in range(0,1000)] #1000 numbers\n",
    "RL100 = [randint(0,100) for x in range(0,100)] #100 numbers\n",
    "RL10 = [randint(0,100) for x in range(0,10)] #10 numbers"
   ]
  },
  {
   "cell_type": "markdown",
   "metadata": {},
   "source": [
    "## Peak Finder 1"
   ]
  },
  {
   "cell_type": "markdown",
   "metadata": {},
   "source": [
    "### Definition"
   ]
  },
  {
   "cell_type": "code",
   "execution_count": 23,
   "metadata": {},
   "outputs": [],
   "source": [
    "def peak1(A):\n",
    "    \"\"\"\n",
    "    INPUT: A list of numbers\n",
    "    \n",
    "    RETURNS: The maximum value and a step count (n)\n",
    "    \"\"\"\n",
    "    n = 0\n",
    "    p = A[0]\n",
    "    n += 1 # Set p\n",
    "    \n",
    "    for i in range(len(A)):\n",
    "        n += 2 # Set i and check if\n",
    "        if A[i] > p:\n",
    "            p = A[i]\n",
    "            n += 1 # Set p\n",
    "            \n",
    "    return p,n"
   ]
  },
  {
   "cell_type": "markdown",
   "metadata": {},
   "source": [
    "### Worse Case Tests"
   ]
  },
  {
   "cell_type": "code",
   "execution_count": 24,
   "metadata": {},
   "outputs": [
    {
     "name": "stdout",
     "output_type": "stream",
     "text": [
      "[10000] Peak Finder 1 found peak: 9999 in 30000 steps\n"
     ]
    }
   ],
   "source": [
    "p1WC10000 = peak1(WC10000)\n",
    "print('[10000] Peak Finder 1 found peak: {} in {} steps'.format(p1WC10000[0],p1WC10000[1]))"
   ]
  },
  {
   "cell_type": "code",
   "execution_count": 25,
   "metadata": {},
   "outputs": [
    {
     "name": "stdout",
     "output_type": "stream",
     "text": [
      "[1000] Peak Finder 1 found peak: 999 in 3000 steps\n"
     ]
    }
   ],
   "source": [
    "p1WC1000 = peak1(WC1000)\n",
    "print('[1000] Peak Finder 1 found peak: {} in {} steps'.format(p1WC1000[0],p1WC1000[1]))"
   ]
  },
  {
   "cell_type": "code",
   "execution_count": 26,
   "metadata": {},
   "outputs": [
    {
     "name": "stdout",
     "output_type": "stream",
     "text": [
      "[100] Peak Finder 1 found peak: 99 in 300 steps\n"
     ]
    }
   ],
   "source": [
    "p1WC100 = peak1(WC100)\n",
    "print('[100] Peak Finder 1 found peak: {} in {} steps'.format(p1WC100[0],p1WC100[1]))"
   ]
  },
  {
   "cell_type": "code",
   "execution_count": 27,
   "metadata": {},
   "outputs": [
    {
     "name": "stdout",
     "output_type": "stream",
     "text": [
      "[10] Peak Finder 1 found peak: 9 in 30 steps\n"
     ]
    }
   ],
   "source": [
    "p1WC10 = peak1(WC10)\n",
    "print('[10] Peak Finder 1 found peak: {} in {} steps'.format(p1WC10[0],p1WC10[1]))"
   ]
  },
  {
   "cell_type": "markdown",
   "metadata": {},
   "source": [
    "### Random List Tests"
   ]
  },
  {
   "cell_type": "code",
   "execution_count": 28,
   "metadata": {},
   "outputs": [
    {
     "name": "stdout",
     "output_type": "stream",
     "text": [
      "[10000] Peak Finder 1 found peak: 100 in 20003 steps\n"
     ]
    }
   ],
   "source": [
    "p1RL10000 = peak1(RL10000)\n",
    "print('[10000] Peak Finder 1 found peak: {} in {} steps'.format(p1RL10000[0],p1RL10000[1]))"
   ]
  },
  {
   "cell_type": "code",
   "execution_count": 29,
   "metadata": {},
   "outputs": [
    {
     "name": "stdout",
     "output_type": "stream",
     "text": [
      "[1000] Peak Finder 1 found peak: 100 in 2005 steps\n"
     ]
    }
   ],
   "source": [
    "p1RL1000 = peak1(RL1000)\n",
    "print('[1000] Peak Finder 1 found peak: {} in {} steps'.format(p1RL1000[0],p1RL1000[1]))"
   ]
  },
  {
   "cell_type": "code",
   "execution_count": 30,
   "metadata": {},
   "outputs": [
    {
     "name": "stdout",
     "output_type": "stream",
     "text": [
      "[100] Peak Finder 1 found peak: 97 in 205 steps\n"
     ]
    }
   ],
   "source": [
    "p1RL100 = peak1(RL100)\n",
    "print('[100] Peak Finder 1 found peak: {} in {} steps'.format(p1RL100[0],p1RL100[1]))"
   ]
  },
  {
   "cell_type": "code",
   "execution_count": 31,
   "metadata": {},
   "outputs": [
    {
     "name": "stdout",
     "output_type": "stream",
     "text": [
      "[100] Peak Finder 1 found peak: 97 in 205 steps\n"
     ]
    }
   ],
   "source": [
    "p1RL10 = peak1(RL10)\n",
    "print('[100] Peak Finder 1 found peak: {} in {} steps'.format(p1RL100[0],p1RL100[1]))"
   ]
  },
  {
   "cell_type": "markdown",
   "metadata": {},
   "source": [
    "### Time Tests"
   ]
  },
  {
   "cell_type": "markdown",
   "metadata": {},
   "source": [
    "#### The time test of the 10,000 digit lists were omitted because of the time involved"
   ]
  },
  {
   "cell_type": "code",
   "execution_count": null,
   "metadata": {},
   "outputs": [],
   "source": [
    "#p1WC10000T = timeit('peak1(WC10000)', globals=globals())"
   ]
  },
  {
   "cell_type": "code",
   "execution_count": null,
   "metadata": {},
   "outputs": [],
   "source": [
    "p1WC1000T = timeit('peak1(WC1000)', globals=globals())"
   ]
  },
  {
   "cell_type": "code",
   "execution_count": null,
   "metadata": {},
   "outputs": [],
   "source": [
    "p1WC100T = timeit('peak1(WC100)', globals=globals())"
   ]
  },
  {
   "cell_type": "code",
   "execution_count": null,
   "metadata": {},
   "outputs": [],
   "source": [
    "p1WC10T = timeit('peak1(WC10)', globals=globals())"
   ]
  },
  {
   "cell_type": "code",
   "execution_count": null,
   "metadata": {},
   "outputs": [],
   "source": [
    "#p1RL10000T = timeit('peak1(RL10000)', globals=globals())"
   ]
  },
  {
   "cell_type": "code",
   "execution_count": null,
   "metadata": {},
   "outputs": [],
   "source": [
    "p1RL1000T = timeit('peak1(RL1000)', globals=globals())"
   ]
  },
  {
   "cell_type": "code",
   "execution_count": null,
   "metadata": {},
   "outputs": [],
   "source": [
    "p1RL100T = timeit('peak1(RL100)', globals=globals())"
   ]
  },
  {
   "cell_type": "code",
   "execution_count": null,
   "metadata": {},
   "outputs": [],
   "source": [
    "p1RL10T = timeit('peak1(RL10)', globals=globals())"
   ]
  },
  {
   "cell_type": "markdown",
   "metadata": {},
   "source": [
    "## Peak Finder 2\n",
    "In order to overcome an IndexError, this algorithm was inplemented in two different ways."
   ]
  },
  {
   "cell_type": "markdown",
   "metadata": {},
   "source": [
    "### Type A\n",
    "#### Definition"
   ]
  },
  {
   "cell_type": "code",
   "execution_count": 32,
   "metadata": {},
   "outputs": [],
   "source": [
    "def peak2a(A):\n",
    "    \"\"\"\n",
    "    INPUT: A list of numbers\n",
    "    \n",
    "    RETURNS: The first peak value and a step count (n)\n",
    "    \"\"\"\n",
    "    n = 0\n",
    "    \n",
    "    p = A[0]\n",
    "    n += 1 # Set p\n",
    "    \n",
    "    j=1\n",
    "    n += 1 # Set j\n",
    "    \n",
    "    while j < (len(A)) and p < A[j]:\n",
    "        n += 1 # Check while\n",
    "        try:\n",
    "            p = A[j]\n",
    "            n += 1 # set p\n",
    "            \n",
    "            j += 1\n",
    "            n += 1 # set j\n",
    "        except IndexError:\n",
    "            break\n",
    "            \n",
    "    return p,n"
   ]
  },
  {
   "cell_type": "markdown",
   "metadata": {},
   "source": [
    "### Worse Case Tests"
   ]
  },
  {
   "cell_type": "code",
   "execution_count": 33,
   "metadata": {},
   "outputs": [
    {
     "name": "stdout",
     "output_type": "stream",
     "text": [
      "[10000] Peak Finder 2a found peak: 9999 in 29999 steps\n"
     ]
    }
   ],
   "source": [
    "p2aWC10000 = peak2a(WC10000)\n",
    "print('[10000] Peak Finder 2a found peak: {} in {} steps'.format(p2aWC10000[0],p2aWC10000[1]))"
   ]
  },
  {
   "cell_type": "code",
   "execution_count": 34,
   "metadata": {},
   "outputs": [
    {
     "name": "stdout",
     "output_type": "stream",
     "text": [
      "[1000] Peak Finder 2a found peak: 999 in 2999 steps\n"
     ]
    }
   ],
   "source": [
    "p2aWC1000 = peak2a(WC1000)\n",
    "print('[1000] Peak Finder 2a found peak: {} in {} steps'.format(p2aWC1000[0],p2aWC1000[1]))"
   ]
  },
  {
   "cell_type": "code",
   "execution_count": 35,
   "metadata": {},
   "outputs": [
    {
     "name": "stdout",
     "output_type": "stream",
     "text": [
      "[100] Peak Finder 2a found peak: 99 in 299 steps\n"
     ]
    }
   ],
   "source": [
    "p2aWC100 = peak2a(WC100)\n",
    "print('[100] Peak Finder 2a found peak: {} in {} steps'.format(p2aWC100[0],p2aWC100[1]))"
   ]
  },
  {
   "cell_type": "code",
   "execution_count": 36,
   "metadata": {},
   "outputs": [
    {
     "name": "stdout",
     "output_type": "stream",
     "text": [
      "[10] Peak Finder 2a found peak: 9 in 29 steps\n"
     ]
    }
   ],
   "source": [
    "p2aWC10 = peak2a(WC10)\n",
    "print('[10] Peak Finder 2a found peak: {} in {} steps'.format(p2aWC10[0],p2aWC10[1]))"
   ]
  },
  {
   "cell_type": "markdown",
   "metadata": {},
   "source": [
    "### Random List Tests"
   ]
  },
  {
   "cell_type": "code",
   "execution_count": 37,
   "metadata": {},
   "outputs": [
    {
     "name": "stdout",
     "output_type": "stream",
     "text": [
      "[10000] Peak Finder 2a found peak: 99 in 5 steps\n"
     ]
    }
   ],
   "source": [
    "p2aRL10000 = peak2a(RL10000)\n",
    "print('[10000] Peak Finder 2a found peak: {} in {} steps'.format(p2aRL10000[0],p2aRL10000[1]))"
   ]
  },
  {
   "cell_type": "code",
   "execution_count": 38,
   "metadata": {},
   "outputs": [
    {
     "name": "stdout",
     "output_type": "stream",
     "text": [
      "[1000] Peak Finder 2a found peak: 77 in 2 steps\n"
     ]
    }
   ],
   "source": [
    "p2aRL1000 = peak2a(RL1000)\n",
    "print('[1000] Peak Finder 2a found peak: {} in {} steps'.format(p2aRL1000[0],p2aRL1000[1]))"
   ]
  },
  {
   "cell_type": "code",
   "execution_count": 39,
   "metadata": {},
   "outputs": [
    {
     "name": "stdout",
     "output_type": "stream",
     "text": [
      "[100] Peak Finder 2a found peak: 37 in 5 steps\n"
     ]
    }
   ],
   "source": [
    "p2aRL100 = peak2a(RL100)\n",
    "print('[100] Peak Finder 2a found peak: {} in {} steps'.format(p2aRL100[0],p2aRL100[1]))"
   ]
  },
  {
   "cell_type": "code",
   "execution_count": 40,
   "metadata": {},
   "outputs": [
    {
     "name": "stdout",
     "output_type": "stream",
     "text": [
      "[100] Peak Finder 2a found peak: 37 in 5 steps\n"
     ]
    }
   ],
   "source": [
    "p2aRL10 = peak2a(RL10)\n",
    "print('[100] Peak Finder 2a found peak: {} in {} steps'.format(p2aRL100[0],p2aRL100[1]))"
   ]
  },
  {
   "cell_type": "markdown",
   "metadata": {},
   "source": [
    "### Time Tests"
   ]
  },
  {
   "cell_type": "markdown",
   "metadata": {},
   "source": [
    "#### The time test of the 10,000 digit lists were omitted because of thetime involved"
   ]
  },
  {
   "cell_type": "code",
   "execution_count": null,
   "metadata": {},
   "outputs": [],
   "source": [
    "#p2aWC10000T = timeit('peak2a(WC10000)', globals=globals())"
   ]
  },
  {
   "cell_type": "code",
   "execution_count": null,
   "metadata": {},
   "outputs": [],
   "source": [
    "p2aWC1000T = timeit('peak2a(WC1000)', globals=globals())"
   ]
  },
  {
   "cell_type": "code",
   "execution_count": null,
   "metadata": {},
   "outputs": [],
   "source": [
    "p2aWC100T = timeit('peak2a(WC100)', globals=globals())"
   ]
  },
  {
   "cell_type": "code",
   "execution_count": null,
   "metadata": {},
   "outputs": [],
   "source": [
    "p2aWC10T = timeit('peak2a(WC10)', globals=globals())"
   ]
  },
  {
   "cell_type": "code",
   "execution_count": null,
   "metadata": {},
   "outputs": [],
   "source": [
    "#p2aRL10000T = timeit('peak2a(RL10000)', globals=globals())"
   ]
  },
  {
   "cell_type": "code",
   "execution_count": null,
   "metadata": {},
   "outputs": [],
   "source": [
    "p2aRL1000T = timeit('peak2a(RL1000)', globals=globals())"
   ]
  },
  {
   "cell_type": "code",
   "execution_count": null,
   "metadata": {},
   "outputs": [],
   "source": [
    "p2aRL100T = timeit('peak2a(RL100)', globals=globals())"
   ]
  },
  {
   "cell_type": "code",
   "execution_count": null,
   "metadata": {},
   "outputs": [],
   "source": [
    "p2aRL10T = timeit('peak2a(RL10)', globals=globals())"
   ]
  },
  {
   "cell_type": "markdown",
   "metadata": {},
   "source": [
    "### Type B\n",
    "#### definition"
   ]
  },
  {
   "cell_type": "code",
   "execution_count": 41,
   "metadata": {},
   "outputs": [],
   "source": [
    "# Type b\n",
    "def peak2b(A):\n",
    "    \"\"\"\n",
    "    INPUT: A list of numbers\n",
    "    \n",
    "    RETURNS: The first peak value and a step count (n)\n",
    "    \"\"\"\n",
    "    n = 0\n",
    "    \n",
    "    p = A[0]\n",
    "    n += 1 # Set p\n",
    "    \n",
    "    j=1 # Set j\n",
    "    n += 1\n",
    "    \n",
    "    while j < (len(A)):\n",
    "        n += 1 # Check while\n",
    "        if j < (len(A)) and p < A[j]:\n",
    "            n += 1 # Checked if only\n",
    "            \n",
    "            p = A[j]\n",
    "            n += 1 # Set p\n",
    "            \n",
    "            j += 1\n",
    "            n += 1 # Set j\n",
    "        else:\n",
    "            n += 2 # Checked if and else\n",
    "            break\n",
    "    return p,n"
   ]
  },
  {
   "cell_type": "markdown",
   "metadata": {},
   "source": [
    "### Worse Case Tests"
   ]
  },
  {
   "cell_type": "code",
   "execution_count": 42,
   "metadata": {},
   "outputs": [
    {
     "name": "stdout",
     "output_type": "stream",
     "text": [
      "[10000] Peak Finder 2b found peak: 9999 in 39998 steps\n"
     ]
    }
   ],
   "source": [
    "p2bWC10000 = peak2b(WC10000)\n",
    "print('[10000] Peak Finder 2b found peak: {} in {} steps'.format(p2bWC10000[0],p2bWC10000[1]))"
   ]
  },
  {
   "cell_type": "code",
   "execution_count": 43,
   "metadata": {},
   "outputs": [
    {
     "name": "stdout",
     "output_type": "stream",
     "text": [
      "[1000] Peak Finder 2b found peak: 999 in 3998 steps\n"
     ]
    }
   ],
   "source": [
    "p2bWC1000 = peak2b(WC1000)\n",
    "print('[1000] Peak Finder 2b found peak: {} in {} steps'.format(p2bWC1000[0],p2bWC1000[1]))"
   ]
  },
  {
   "cell_type": "code",
   "execution_count": 44,
   "metadata": {},
   "outputs": [
    {
     "name": "stdout",
     "output_type": "stream",
     "text": [
      "[100] Peak Finder 2b found peak: 99 in 398 steps\n"
     ]
    }
   ],
   "source": [
    "p2bWC100 = peak2b(WC100)\n",
    "print('[100] Peak Finder 2b found peak: {} in {} steps'.format(p2bWC100[0],p2bWC100[1]))"
   ]
  },
  {
   "cell_type": "code",
   "execution_count": 45,
   "metadata": {},
   "outputs": [
    {
     "name": "stdout",
     "output_type": "stream",
     "text": [
      "[10] Peak Finder 2b found peak: 63 in 17 steps\n"
     ]
    }
   ],
   "source": [
    "p2bWC10 = peak2b(RL10)\n",
    "print('[10] Peak Finder 2b found peak: {} in {} steps'.format(p2bWC10[0],p2bWC10[1]))"
   ]
  },
  {
   "cell_type": "markdown",
   "metadata": {},
   "source": [
    "### Random List Tests"
   ]
  },
  {
   "cell_type": "code",
   "execution_count": 46,
   "metadata": {},
   "outputs": [
    {
     "name": "stdout",
     "output_type": "stream",
     "text": [
      "[10000] Peak Finder 2b found peak: 99 in 9 steps\n"
     ]
    }
   ],
   "source": [
    "p2bRL10000 = peak2b(RL10000)\n",
    "print('[10000] Peak Finder 2b found peak: {} in {} steps'.format(p2bRL10000[0],p2bRL10000[1]))"
   ]
  },
  {
   "cell_type": "code",
   "execution_count": 47,
   "metadata": {},
   "outputs": [
    {
     "name": "stdout",
     "output_type": "stream",
     "text": [
      "[1000] Peak Finder 2b found peak: 77 in 5 steps\n"
     ]
    }
   ],
   "source": [
    "p2bRL1000 = peak2b(RL1000)\n",
    "print('[1000] Peak Finder 2b found peak: {} in {} steps'.format(p2bRL1000[0],p2bRL1000[1]))"
   ]
  },
  {
   "cell_type": "code",
   "execution_count": 48,
   "metadata": {},
   "outputs": [
    {
     "name": "stdout",
     "output_type": "stream",
     "text": [
      "[100] Peak Finder 2b found peak: 37 in 9 steps\n"
     ]
    }
   ],
   "source": [
    "p2bRL100 = peak2b(RL100)\n",
    "print('[100] Peak Finder 2b found peak: {} in {} steps'.format(p2bRL100[0],p2bRL100[1]))"
   ]
  },
  {
   "cell_type": "code",
   "execution_count": 49,
   "metadata": {},
   "outputs": [
    {
     "name": "stdout",
     "output_type": "stream",
     "text": [
      "[100] Peak Finder 2b found peak: 37 in 9 steps\n"
     ]
    }
   ],
   "source": [
    "p2bRL10 = peak2b(WC10)\n",
    "print('[100] Peak Finder 2b found peak: {} in {} steps'.format(p2bRL100[0],p2bRL100[1]))"
   ]
  },
  {
   "cell_type": "markdown",
   "metadata": {},
   "source": [
    "### Time Tests"
   ]
  },
  {
   "cell_type": "markdown",
   "metadata": {},
   "source": [
    "#### The time test of the 10,000 digit lists were omitted because of thetime involved"
   ]
  },
  {
   "cell_type": "code",
   "execution_count": null,
   "metadata": {},
   "outputs": [],
   "source": [
    "#p2bWC10000T = timeit('peak2b(WC10000)', globals=globals())"
   ]
  },
  {
   "cell_type": "code",
   "execution_count": null,
   "metadata": {},
   "outputs": [],
   "source": [
    "p2bWC1000T = timeit('peak2b(WC1000)', globals=globals())"
   ]
  },
  {
   "cell_type": "code",
   "execution_count": null,
   "metadata": {},
   "outputs": [],
   "source": [
    "p2bWC100T = timeit('peak2b(WC100)', globals=globals())"
   ]
  },
  {
   "cell_type": "code",
   "execution_count": null,
   "metadata": {},
   "outputs": [],
   "source": [
    "p2bWC10T = timeit('peak2b(WC10)', globals=globals())"
   ]
  },
  {
   "cell_type": "code",
   "execution_count": null,
   "metadata": {},
   "outputs": [],
   "source": [
    "#p2bRL10000T = timeit('peak2b(RL10000)', globals=globals())"
   ]
  },
  {
   "cell_type": "code",
   "execution_count": null,
   "metadata": {},
   "outputs": [],
   "source": [
    "p2bRL1000T = timeit('peak2b(RL1000)', globals=globals())"
   ]
  },
  {
   "cell_type": "code",
   "execution_count": null,
   "metadata": {},
   "outputs": [],
   "source": [
    "p2bRL100T = timeit('peak2b(RL100)', globals=globals())"
   ]
  },
  {
   "cell_type": "code",
   "execution_count": null,
   "metadata": {},
   "outputs": [],
   "source": [
    "p2bRL10T = timeit('peak2b(RL10)', globals=globals())"
   ]
  },
  {
   "cell_type": "markdown",
   "metadata": {},
   "source": [
    "## Peak Finder 3"
   ]
  },
  {
   "cell_type": "code",
   "execution_count": 50,
   "metadata": {},
   "outputs": [],
   "source": [
    "def peak3(A, n=0):\n",
    "    \"\"\"\n",
    "    INPUT: A list of numbers and a step count\n",
    "    \n",
    "    RETURNS: A peak and a step count (n)\n",
    "    \"\"\"\n",
    "    n += 1 # Check if\n",
    "    if len(A) == 1:\n",
    "        return A[0], n\n",
    "    \n",
    "    m = int(len(A)/2)\n",
    "    n += 1 # Set m\n",
    "    \n",
    "    if A[m] < A[m-1]:\n",
    "        n += 1 # Checked if only\n",
    "        return peak3(A[:m], n)\n",
    "    elif m+1 < len(A) and A[m] < A[m+1]:\n",
    "        n += 2 # Checked if and elif only\n",
    "        return peak3(A[m:], n)\n",
    "    else: \n",
    "        n += 3 # Checked if, elif, and else\n",
    "        return A[m], n"
   ]
  },
  {
   "cell_type": "markdown",
   "metadata": {},
   "source": [
    "### Worse Case Tests"
   ]
  },
  {
   "cell_type": "code",
   "execution_count": 51,
   "metadata": {},
   "outputs": [
    {
     "name": "stdout",
     "output_type": "stream",
     "text": [
      "[10000] Peak Finder 3 found peak: 9999 in 57 steps\n"
     ]
    }
   ],
   "source": [
    "p3WC10000 = peak3(WC10000)\n",
    "print('[10000] Peak Finder 3 found peak: {} in {} steps'.format(p3WC10000[0],p3WC10000[1]))"
   ]
  },
  {
   "cell_type": "code",
   "execution_count": 52,
   "metadata": {},
   "outputs": [
    {
     "name": "stdout",
     "output_type": "stream",
     "text": [
      "[1000] Peak Finder 3 found peak: 999 in 41 steps\n"
     ]
    }
   ],
   "source": [
    "p3WC1000 = peak3(WC1000)\n",
    "print('[1000] Peak Finder 3 found peak: {} in {} steps'.format(p3WC1000[0],p3WC1000[1]))"
   ]
  },
  {
   "cell_type": "code",
   "execution_count": 53,
   "metadata": {},
   "outputs": [
    {
     "name": "stdout",
     "output_type": "stream",
     "text": [
      "[100] Peak Finder 3 found peak: 99 in 29 steps\n"
     ]
    }
   ],
   "source": [
    "p3WC100 = peak3(WC100)\n",
    "print('[100] Peak Finder 3 found peak: {} in {} steps'.format(p3WC100[0],p3WC100[1]))"
   ]
  },
  {
   "cell_type": "code",
   "execution_count": 54,
   "metadata": {},
   "outputs": [
    {
     "name": "stdout",
     "output_type": "stream",
     "text": [
      "[10] Peak Finder 3 found peak: 9 in 17 steps\n"
     ]
    }
   ],
   "source": [
    "p3WC10 = peak3(WC10)\n",
    "print('[10] Peak Finder 3 found peak: {} in {} steps'.format(p3WC10[0],p3WC10[1]))"
   ]
  },
  {
   "cell_type": "markdown",
   "metadata": {},
   "source": [
    "### Random List Tests"
   ]
  },
  {
   "cell_type": "code",
   "execution_count": 55,
   "metadata": {},
   "outputs": [
    {
     "name": "stdout",
     "output_type": "stream",
     "text": [
      "[10000] Peak Finder 3 found peak: 93 in 5 steps\n"
     ]
    }
   ],
   "source": [
    "p3RL10000 = peak3(RL10000)\n",
    "print('[10000] Peak Finder 3 found peak: {} in {} steps'.format(p3RL10000[0],p3RL10000[1]))"
   ]
  },
  {
   "cell_type": "code",
   "execution_count": 56,
   "metadata": {},
   "outputs": [
    {
     "name": "stdout",
     "output_type": "stream",
     "text": [
      "[1000] Peak Finder 3 found peak: 46 in 5 steps\n"
     ]
    }
   ],
   "source": [
    "p3RL1000 = peak3(RL1000)\n",
    "print('[1000] Peak Finder 3 found peak: {} in {} steps'.format(p3RL1000[0],p3RL1000[1]))"
   ]
  },
  {
   "cell_type": "code",
   "execution_count": 57,
   "metadata": {},
   "outputs": [
    {
     "name": "stdout",
     "output_type": "stream",
     "text": [
      "[100] Peak Finder 3 found peak: 74 in 5 steps\n"
     ]
    }
   ],
   "source": [
    "p3RL100 = peak3(RL100)\n",
    "print('[100] Peak Finder 3 found peak: {} in {} steps'.format(p3RL100[0],p3RL100[1]))"
   ]
  },
  {
   "cell_type": "code",
   "execution_count": 58,
   "metadata": {},
   "outputs": [
    {
     "name": "stdout",
     "output_type": "stream",
     "text": [
      "[100] Peak Finder 3 found peak: 74 in 5 steps\n"
     ]
    }
   ],
   "source": [
    "p3RL10 = peak3(RL10)\n",
    "print('[100] Peak Finder 3 found peak: {} in {} steps'.format(p3RL100[0],p3RL100[1]))"
   ]
  },
  {
   "cell_type": "markdown",
   "metadata": {},
   "source": [
    "### Time Tests"
   ]
  },
  {
   "cell_type": "markdown",
   "metadata": {},
   "source": [
    "#### The time test of the 10,000 digit lists were omitted because of thetime involved"
   ]
  },
  {
   "cell_type": "code",
   "execution_count": null,
   "metadata": {},
   "outputs": [],
   "source": [
    "#p3WC10000T = timeit('peak3(WC10000)', globals=globals())"
   ]
  },
  {
   "cell_type": "code",
   "execution_count": null,
   "metadata": {},
   "outputs": [],
   "source": [
    "p3WC1000T = timeit('peak3(WC1000)', globals=globals())"
   ]
  },
  {
   "cell_type": "code",
   "execution_count": null,
   "metadata": {},
   "outputs": [],
   "source": [
    "p3WC100T = timeit('peak3(WC100)', globals=globals())"
   ]
  },
  {
   "cell_type": "code",
   "execution_count": null,
   "metadata": {},
   "outputs": [],
   "source": [
    "p3WC10T = timeit('peak3(WC10)', globals=globals())"
   ]
  },
  {
   "cell_type": "code",
   "execution_count": null,
   "metadata": {},
   "outputs": [],
   "source": [
    "#p3RL10000T = timeit('peak3(RL10000)', globals=globals())"
   ]
  },
  {
   "cell_type": "code",
   "execution_count": null,
   "metadata": {},
   "outputs": [],
   "source": [
    "p3RL1000T = timeit('peak3(RL1000)', globals=globals())"
   ]
  },
  {
   "cell_type": "code",
   "execution_count": null,
   "metadata": {},
   "outputs": [],
   "source": [
    "p3RL100T = timeit('peak3(RL100)', globals=globals())"
   ]
  },
  {
   "cell_type": "code",
   "execution_count": null,
   "metadata": {},
   "outputs": [],
   "source": [
    "p3RL10T = timeit('peak3(RL10)', globals=globals())"
   ]
  },
  {
   "cell_type": "markdown",
   "metadata": {},
   "source": [
    "## Step Count Visualizations\n",
    "Only the worse case scenarios will be graphed since they are the most useful for comparison"
   ]
  },
  {
   "cell_type": "code",
   "execution_count": 60,
   "metadata": {},
   "outputs": [],
   "source": [
    "dataSC = {'algorithm':['Peak Finder 1','Peak Finder 1','Peak Finder 1','Peak Finder 1',\n",
    "                     'Peak Finder 2a', 'Peak Finder 2a', 'Peak Finder 2a', 'Peak Finder 2a',\n",
    "                     'Peak Finder 2b', 'Peak Finder 2b', 'Peak Finder 2b', 'Peak Finder 2b',\n",
    "                     'Peak Finder 3', 'Peak Finder 3', 'Peak Finder 3', 'Peak Finder 3',],\n",
    "       'n':['10000', '1000', '100', '10', '10000', '1000', '100', '10', \n",
    "            '10000', '1000', '100', '10', '10000', '1000', '100', '10'],\n",
    "       'step_count':[p1WC10000[1], p1WC1000[1], p1WC100[1], p1WC10[1], \n",
    "                     p2aWC10000[1], p2aWC1000[1], p2aWC100[1], p2aWC10[1], \n",
    "                     p2bWC10000[1], p2bWC1000[1], p2bWC100[1], p2bWC10[1], \n",
    "                     p3WC10000[1], p3WC1000[1], p3WC100[1], p3WC10[1]]}"
   ]
  },
  {
   "cell_type": "code",
   "execution_count": 61,
   "metadata": {},
   "outputs": [],
   "source": [
    "dfSC = pd.DataFrame(dataSC)"
   ]
  },
  {
   "cell_type": "code",
   "execution_count": 62,
   "metadata": {
    "scrolled": true
   },
   "outputs": [
    {
     "data": {
      "text/html": [
       "<div>\n",
       "<style scoped>\n",
       "    .dataframe tbody tr th:only-of-type {\n",
       "        vertical-align: middle;\n",
       "    }\n",
       "\n",
       "    .dataframe tbody tr th {\n",
       "        vertical-align: top;\n",
       "    }\n",
       "\n",
       "    .dataframe thead th {\n",
       "        text-align: right;\n",
       "    }\n",
       "</style>\n",
       "<table border=\"1\" class=\"dataframe\">\n",
       "  <thead>\n",
       "    <tr style=\"text-align: right;\">\n",
       "      <th></th>\n",
       "      <th>algorithm</th>\n",
       "      <th>n</th>\n",
       "      <th>step_count</th>\n",
       "    </tr>\n",
       "  </thead>\n",
       "  <tbody>\n",
       "    <tr>\n",
       "      <th>0</th>\n",
       "      <td>Peak Finder 1</td>\n",
       "      <td>10000</td>\n",
       "      <td>30000</td>\n",
       "    </tr>\n",
       "    <tr>\n",
       "      <th>1</th>\n",
       "      <td>Peak Finder 1</td>\n",
       "      <td>1000</td>\n",
       "      <td>3000</td>\n",
       "    </tr>\n",
       "    <tr>\n",
       "      <th>2</th>\n",
       "      <td>Peak Finder 1</td>\n",
       "      <td>100</td>\n",
       "      <td>300</td>\n",
       "    </tr>\n",
       "    <tr>\n",
       "      <th>3</th>\n",
       "      <td>Peak Finder 1</td>\n",
       "      <td>10</td>\n",
       "      <td>30</td>\n",
       "    </tr>\n",
       "    <tr>\n",
       "      <th>4</th>\n",
       "      <td>Peak Finder 2a</td>\n",
       "      <td>10000</td>\n",
       "      <td>29999</td>\n",
       "    </tr>\n",
       "    <tr>\n",
       "      <th>5</th>\n",
       "      <td>Peak Finder 2a</td>\n",
       "      <td>1000</td>\n",
       "      <td>2999</td>\n",
       "    </tr>\n",
       "    <tr>\n",
       "      <th>6</th>\n",
       "      <td>Peak Finder 2a</td>\n",
       "      <td>100</td>\n",
       "      <td>299</td>\n",
       "    </tr>\n",
       "    <tr>\n",
       "      <th>7</th>\n",
       "      <td>Peak Finder 2a</td>\n",
       "      <td>10</td>\n",
       "      <td>29</td>\n",
       "    </tr>\n",
       "    <tr>\n",
       "      <th>8</th>\n",
       "      <td>Peak Finder 2b</td>\n",
       "      <td>10000</td>\n",
       "      <td>39998</td>\n",
       "    </tr>\n",
       "    <tr>\n",
       "      <th>9</th>\n",
       "      <td>Peak Finder 2b</td>\n",
       "      <td>1000</td>\n",
       "      <td>3998</td>\n",
       "    </tr>\n",
       "    <tr>\n",
       "      <th>10</th>\n",
       "      <td>Peak Finder 2b</td>\n",
       "      <td>100</td>\n",
       "      <td>398</td>\n",
       "    </tr>\n",
       "    <tr>\n",
       "      <th>11</th>\n",
       "      <td>Peak Finder 2b</td>\n",
       "      <td>10</td>\n",
       "      <td>17</td>\n",
       "    </tr>\n",
       "    <tr>\n",
       "      <th>12</th>\n",
       "      <td>Peak Finder 3</td>\n",
       "      <td>10000</td>\n",
       "      <td>57</td>\n",
       "    </tr>\n",
       "    <tr>\n",
       "      <th>13</th>\n",
       "      <td>Peak Finder 3</td>\n",
       "      <td>1000</td>\n",
       "      <td>41</td>\n",
       "    </tr>\n",
       "    <tr>\n",
       "      <th>14</th>\n",
       "      <td>Peak Finder 3</td>\n",
       "      <td>100</td>\n",
       "      <td>29</td>\n",
       "    </tr>\n",
       "    <tr>\n",
       "      <th>15</th>\n",
       "      <td>Peak Finder 3</td>\n",
       "      <td>10</td>\n",
       "      <td>17</td>\n",
       "    </tr>\n",
       "  </tbody>\n",
       "</table>\n",
       "</div>"
      ],
      "text/plain": [
       "         algorithm      n  step_count\n",
       "0    Peak Finder 1  10000       30000\n",
       "1    Peak Finder 1   1000        3000\n",
       "2    Peak Finder 1    100         300\n",
       "3    Peak Finder 1     10          30\n",
       "4   Peak Finder 2a  10000       29999\n",
       "5   Peak Finder 2a   1000        2999\n",
       "6   Peak Finder 2a    100         299\n",
       "7   Peak Finder 2a     10          29\n",
       "8   Peak Finder 2b  10000       39998\n",
       "9   Peak Finder 2b   1000        3998\n",
       "10  Peak Finder 2b    100         398\n",
       "11  Peak Finder 2b     10          17\n",
       "12   Peak Finder 3  10000          57\n",
       "13   Peak Finder 3   1000          41\n",
       "14   Peak Finder 3    100          29\n",
       "15   Peak Finder 3     10          17"
      ]
     },
     "execution_count": 62,
     "metadata": {},
     "output_type": "execute_result"
    }
   ],
   "source": [
    "dfSC"
   ]
  },
  {
   "cell_type": "code",
   "execution_count": 64,
   "metadata": {
    "scrolled": false
   },
   "outputs": [
    {
     "data": {
      "text/plain": [
       "<matplotlib.axes._subplots.AxesSubplot at 0x7f85a02e0250>"
      ]
     },
     "execution_count": 64,
     "metadata": {},
     "output_type": "execute_result"
    },
    {
     "data": {
      "image/png": "[encoded data removed]",
      "text/plain": [
       "<Figure size 864x576 with 1 Axes>"
      ]
     },
     "metadata": {
      "needs_background": "light"
     },
     "output_type": "display_data"
    }
   ],
   "source": [
    "plt.figure(figsize=(12,8))\n",
    "plt.title('1D Peak Finder Step Counts')\n",
    "sns.barplot(x='n', y='step_count', hue='algorithm', data = dfSC, palette = 'viridis')"
   ]
  },
  {
   "cell_type": "code",
   "execution_count": null,
   "metadata": {
    "scrolled": true
   },
   "outputs": [],
   "source": [
    "dfSC.pivot_table(values = 'step_count', index = ['n', 'algorithm'])"
   ]
  },
  {
   "cell_type": "markdown",
   "metadata": {},
   "source": [
    "## Time Test Visualizations\n",
    "Only the worse case scenarios will be graphed since they are the most useful for comparison"
   ]
  },
  {
   "cell_type": "code",
   "execution_count": null,
   "metadata": {},
   "outputs": [],
   "source": [
    "dataRT = {'algorithm':['Peak Finder 1','Peak Finder 1','Peak Finder 1',\n",
    "                      'Peak Finder 2a', 'Peak Finder 2a', 'Peak Finder 2a',\n",
    "                      'Peak Finder 2b', 'Peak Finder 2b', 'Peak Finder 2b',\n",
    "                      'Peak Finder 3', 'Peak Finder 3', 'Peak Finder 3',],\n",
    "       'n':['1000', '100', '10',  '1000', '100', '10', \n",
    "            '1000', '100', '10', '1000', '100', '10'],\n",
    "       'run_time':[p1WC1000T, p1WC100T, p1WC10T, \n",
    "                   p2aWC1000T, p2aWC100T, p2aWC10T, \n",
    "                   p2bWC1000T, p2bWC100T, p2bWC10T, \n",
    "                   p3WC1000T, p3WC100T, p3WC10T]}"
   ]
  },
  {
   "cell_type": "code",
   "execution_count": null,
   "metadata": {},
   "outputs": [],
   "source": [
    "dfRT = pd.DataFrame(dataRT)"
   ]
  },
  {
   "cell_type": "code",
   "execution_count": null,
   "metadata": {
    "scrolled": true
   },
   "outputs": [],
   "source": [
    "dfRT"
   ]
  },
  {
   "cell_type": "code",
   "execution_count": null,
   "metadata": {
    "scrolled": false
   },
   "outputs": [],
   "source": [
    "plt.figure(figsize=(12,8))\n",
    "sns.barplot(x='n', y='run_time', hue='algorithm', data = dfRT, palette = 'viridis')"
   ]
  },
  {
   "cell_type": "code",
   "execution_count": null,
   "metadata": {
    "scrolled": false
   },
   "outputs": [],
   "source": [
    "dfRT.pivot_table(values = 'run_time', index = ['n', 'algorithm'])"
   ]
  },
  {
   "cell_type": "code",
   "execution_count": null,
   "metadata": {},
   "outputs": [],
   "source": []
  }
 ],
 "metadata": {
  "kernelspec": {
   "display_name": "Python 3 (ipykernel)",
   "language": "python",
   "name": "python3"
  },
  "language_info": {
   "codemirror_mode": {
    "name": "ipython",
    "version": 3
   },
   "file_extension": ".py",
   "mimetype": "text/x-python",
   "name": "python",
   "nbconvert_exporter": "python",
   "pygments_lexer": "ipython3",
   "version": "3.9.6"
  }
 },
 "nbformat": 4,
 "nbformat_minor": 4
}
