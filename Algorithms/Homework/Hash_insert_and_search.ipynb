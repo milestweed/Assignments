{
 "cells": [
  {
   "cell_type": "markdown",
   "metadata": {},
   "source": [
    "# Homework 4"
   ]
  },
  {
   "cell_type": "markdown",
   "metadata": {},
   "source": [
    "### Definition of timer"
   ]
  },
  {
   "cell_type": "code",
   "execution_count": 1,
   "metadata": {},
   "outputs": [],
   "source": [
    "class ProgTimer():\n",
    "    \n",
    "    def __init__(self, func):\n",
    "        self.func = func\n",
    "    \n",
    "    def progTimer(self, *args):\n",
    "        from time import time\n",
    "        from tqdm import tqdm\n",
    "        RTs = []\n",
    "        for i in tqdm(range(100000)):\n",
    "            start_time = time()\n",
    "            self.func(*args)\n",
    "            stop_time = time()\n",
    "            RTs.append(stop_time-start_time)\n",
    "        return (sum(RTs)/100000)*10e3"
   ]
  },
  {
   "cell_type": "markdown",
   "metadata": {},
   "source": [
    "### Import statements"
   ]
  },
  {
   "cell_type": "code",
   "execution_count": 2,
   "metadata": {},
   "outputs": [],
   "source": [
    "import random\n",
    "import matplotlib.pyplot as plt"
   ]
  },
  {
   "cell_type": "markdown",
   "metadata": {},
   "source": [
    "###  Defintition of hash-insert and hash-search\n",
    "\n",
    "These functions were created specifically for use with the 10-digit numbers.  It places them in a list of length 1021.  First $h(x) = k\\ mod(p)$ is calculated with a sufficiently large prime.  Next it chooses a position in the hash table by calculating $h'(x) = h(x)\\ mod(1021)$. I choose 9973 because it is not close to a power of two. Since $2^{13} = 8192$ and $2^{14} = 16384$. Hash insert and search both use a linear probe which increases the hash function by one upon finding a non-NIL value or not locating the value."
   ]
  },
  {
   "cell_type": "code",
   "execution_count": 3,
   "metadata": {},
   "outputs": [],
   "source": [
    "def hash_insert(T,k):\n",
    "    i = 0\n",
    "    p = 9973\n",
    "    h = k % p\n",
    "    while i != (len(T)-1):\n",
    "        j = (h + i)%len(T)\n",
    "        if T[j] == None:\n",
    "            T[j] = k\n",
    "            return j\n",
    "        else:\n",
    "            i += 1\n",
    "    if i == (len(T)-1):\n",
    "        print(\"Hash table overflow\")\n",
    "        \n",
    "        \n",
    "def hash_search(T,k):\n",
    "    i = 0\n",
    "    p = 9973\n",
    "    h = k % p\n",
    "    while i != (len(T)-1) or T[(h + i)%len(T)] != None:\n",
    "            j = (h + i)%len(T)\n",
    "            if T[j]==k:\n",
    "                return j\n",
    "            i += 1\n",
    "    return None"
   ]
  },
  {
   "cell_type": "markdown",
   "metadata": {},
   "source": [
    "I created these next two functions to test how hashing the values by only 1021 affected the runtime."
   ]
  },
  {
   "cell_type": "code",
   "execution_count": 4,
   "metadata": {},
   "outputs": [],
   "source": [
    "def hash_insert2(T,k):\n",
    "    i = 0\n",
    "    while i != (len(T)-1):\n",
    "        j = (k + i)%len(T)\n",
    "        if T[j] == None:\n",
    "            T[j] = k\n",
    "            return j\n",
    "        else:\n",
    "            i += 1\n",
    "    if i == (len(T)-1):\n",
    "        print(\"Hash table overflow\")\n",
    "        \n",
    "        \n",
    "def hash_search2(T,k):\n",
    "    i = 0\n",
    "    while i != (len(T)-1) or T[(k + i)%len(T)] != None:\n",
    "            j = (k + i)%len(T)\n",
    "            if T[j]==k:\n",
    "                return j\n",
    "            i += 1\n",
    "    return None"
   ]
  },
  {
   "cell_type": "markdown",
   "metadata": {},
   "source": [
    "## Testing with a larger prime\n",
    "I wanted to test with a much larger prime to see if it made a difference.  I used 264631."
   ]
  },
  {
   "cell_type": "code",
   "execution_count": 5,
   "metadata": {},
   "outputs": [],
   "source": [
    "\n",
    "def hash_insert_test(T,k):\n",
    "    i = 0\n",
    "    p = 264631\n",
    "    h = k % p\n",
    "    while i != (len(T)-1):\n",
    "        j = (h + i)%len(T)\n",
    "        if T[j] == None:\n",
    "            T[j] = k\n",
    "            return j\n",
    "        else:\n",
    "            i += 1\n",
    "    if i == (len(T)-1):\n",
    "        print(\"Hash table overflow\")\n",
    "        \n",
    "        \n",
    "def hash_search_test(T,k):\n",
    "    i = 0\n",
    "    p = 264631\n",
    "    h = k % p\n",
    "    while i != (len(T)-1) or T[(h + i)%len(T)] != None:\n",
    "            j = (h + i)%len(T)\n",
    "            if T[j]==k:\n",
    "                return j\n",
    "            i += 1\n",
    "    return None"
   ]
  },
  {
   "cell_type": "markdown",
   "metadata": {},
   "source": [
    "## Generating the random 10-digit numbers"
   ]
  },
  {
   "cell_type": "code",
   "execution_count": 6,
   "metadata": {},
   "outputs": [],
   "source": [
    "random.seed(1234)"
   ]
  },
  {
   "cell_type": "code",
   "execution_count": 7,
   "metadata": {},
   "outputs": [],
   "source": [
    "keys = [random.randint(1000000000,9999999999) for x in range(1000)]"
   ]
  },
  {
   "cell_type": "markdown",
   "metadata": {},
   "source": [
    "The functions require the hash table to initially be filled with NIL values.  I am using a dictionary structure for my hash table."
   ]
  },
  {
   "cell_type": "code",
   "execution_count": 8,
   "metadata": {},
   "outputs": [],
   "source": [
    "# initializing The hash table\n",
    "T = {}\n",
    "\n",
    "for x in range(1021):\n",
    "    T[x] = None"
   ]
  },
  {
   "cell_type": "markdown",
   "metadata": {},
   "source": [
    "### Insertion into the hash table"
   ]
  },
  {
   "cell_type": "code",
   "execution_count": 9,
   "metadata": {},
   "outputs": [],
   "source": [
    "for k in keys:\n",
    "    hash_insert(T,k)"
   ]
  },
  {
   "cell_type": "markdown",
   "metadata": {},
   "source": [
    "These next lines are to ensure that all 1000 values have been inserted into the table"
   ]
  },
  {
   "cell_type": "code",
   "execution_count": 10,
   "metadata": {},
   "outputs": [],
   "source": [
    "test = list(T.values())"
   ]
  },
  {
   "cell_type": "code",
   "execution_count": 11,
   "metadata": {},
   "outputs": [],
   "source": [
    "test = [x for x in test if x != None]"
   ]
  },
  {
   "cell_type": "code",
   "execution_count": 12,
   "metadata": {},
   "outputs": [
    {
     "name": "stdout",
     "output_type": "stream",
     "text": [
      "There are 1000 numbers in the hash table T\n"
     ]
    }
   ],
   "source": [
    "print(\"There are {} numbers in the hash table T\".format(len(test)))"
   ]
  },
  {
   "cell_type": "markdown",
   "metadata": {},
   "source": [
    "### Generating random values for testing\n",
    "The 50 unique numbers are the index position of a random selection of the 10-digit numbers."
   ]
  },
  {
   "cell_type": "code",
   "execution_count": 13,
   "metadata": {},
   "outputs": [],
   "source": [
    "unique50 = random.sample(range(1000), 50)"
   ]
  },
  {
   "cell_type": "code",
   "execution_count": 14,
   "metadata": {},
   "outputs": [],
   "source": [
    "randkey = [keys[x] for x in unique50]"
   ]
  },
  {
   "cell_type": "markdown",
   "metadata": {},
   "source": [
    "## Testing the runtime for the linear probe hash search"
   ]
  },
  {
   "cell_type": "code",
   "execution_count": 15,
   "metadata": {},
   "outputs": [],
   "source": [
    "timer = ProgTimer(hash_search)"
   ]
  },
  {
   "cell_type": "code",
   "execution_count": 16,
   "metadata": {},
   "outputs": [
    {
     "name": "stderr",
     "output_type": "stream",
     "text": [
      "100%|██████████| 100000/100000 [00:00<00:00, 1675610.33it/s]\n",
      "100%|██████████| 100000/100000 [00:00<00:00, 275988.99it/s]\n",
      "100%|██████████| 100000/100000 [00:00<00:00, 126826.64it/s]\n",
      "100%|██████████| 100000/100000 [00:00<00:00, 909060.25it/s]\n",
      "100%|██████████| 100000/100000 [00:00<00:00, 1587374.59it/s]\n",
      "100%|██████████| 100000/100000 [00:00<00:00, 134355.70it/s]\n",
      "100%|██████████| 100000/100000 [00:00<00:00, 1141602.32it/s]\n",
      "100%|██████████| 100000/100000 [00:06<00:00, 15226.15it/s]\n",
      "100%|██████████| 100000/100000 [00:00<00:00, 1686796.57it/s]\n",
      "100%|██████████| 100000/100000 [00:00<00:00, 1116557.61it/s]\n",
      "100%|██████████| 100000/100000 [00:00<00:00, 1706090.47it/s]\n",
      "100%|██████████| 100000/100000 [00:01<00:00, 72182.75it/s]\n",
      "100%|██████████| 100000/100000 [00:00<00:00, 1733190.63it/s]\n",
      "100%|██████████| 100000/100000 [00:00<00:00, 230757.52it/s]\n",
      "100%|██████████| 100000/100000 [00:01<00:00, 70139.68it/s]\n",
      "100%|██████████| 100000/100000 [00:00<00:00, 1713156.53it/s]\n",
      "100%|██████████| 100000/100000 [00:00<00:00, 1672036.68it/s]\n",
      "100%|██████████| 100000/100000 [00:00<00:00, 1771594.87it/s]\n",
      "100%|██████████| 100000/100000 [00:00<00:00, 186837.09it/s]\n",
      "100%|██████████| 100000/100000 [00:02<00:00, 37575.02it/s]\n",
      "100%|██████████| 100000/100000 [00:00<00:00, 1303862.50it/s]\n",
      "100%|██████████| 100000/100000 [00:00<00:00, 619230.79it/s]\n",
      "100%|██████████| 100000/100000 [00:00<00:00, 461253.65it/s]\n",
      "100%|██████████| 100000/100000 [00:00<00:00, 865309.86it/s]\n",
      "100%|██████████| 100000/100000 [00:00<00:00, 759216.00it/s]\n",
      "100%|██████████| 100000/100000 [00:00<00:00, 1662374.56it/s]\n",
      "100%|██████████| 100000/100000 [00:00<00:00, 1588841.79it/s]\n",
      "100%|██████████| 100000/100000 [00:00<00:00, 915874.89it/s]\n",
      "100%|██████████| 100000/100000 [00:01<00:00, 92852.92it/s]\n",
      "100%|██████████| 100000/100000 [00:00<00:00, 1254990.57it/s]\n",
      "100%|██████████| 100000/100000 [00:00<00:00, 487013.79it/s]\n",
      "100%|██████████| 100000/100000 [00:00<00:00, 439367.58it/s]\n",
      "100%|██████████| 100000/100000 [00:00<00:00, 1697322.28it/s]\n",
      "100%|██████████| 100000/100000 [00:00<00:00, 1070051.94it/s]\n",
      "100%|██████████| 100000/100000 [00:00<00:00, 1679313.59it/s]\n",
      "100%|██████████| 100000/100000 [00:00<00:00, 1153051.08it/s]\n",
      "100%|██████████| 100000/100000 [00:00<00:00, 1310384.21it/s]\n",
      "100%|██████████| 100000/100000 [00:00<00:00, 301002.70it/s]\n",
      "100%|██████████| 100000/100000 [00:00<00:00, 1738485.13it/s]\n",
      "100%|██████████| 100000/100000 [00:00<00:00, 501549.62it/s]\n",
      "100%|██████████| 100000/100000 [00:00<00:00, 1699440.45it/s]\n",
      "100%|██████████| 100000/100000 [00:00<00:00, 1673090.49it/s]\n",
      "100%|██████████| 100000/100000 [00:00<00:00, 693306.62it/s]\n",
      "100%|██████████| 100000/100000 [00:00<00:00, 1664749.87it/s]\n",
      "100%|██████████| 100000/100000 [00:00<00:00, 1679232.91it/s]\n",
      "100%|██████████| 100000/100000 [00:00<00:00, 229920.12it/s]\n",
      "100%|██████████| 100000/100000 [00:01<00:00, 84864.31it/s]\n",
      "100%|██████████| 100000/100000 [00:00<00:00, 1651853.57it/s]\n",
      "100%|██████████| 100000/100000 [00:00<00:00, 686526.14it/s]\n",
      "100%|██████████| 100000/100000 [00:00<00:00, 1674506.55it/s]\n"
     ]
    }
   ],
   "source": [
    "searchtimes = []\n",
    "for k in randkey:\n",
    "    s = timer.progTimer(T, k)\n",
    "    searchtimes.append(s)"
   ]
  },
  {
   "cell_type": "markdown",
   "metadata": {},
   "source": [
    "## Plotting\n",
    "The orange bar has height 25 and is simply the average runtime for comparison purposes"
   ]
  },
  {
   "cell_type": "code",
   "execution_count": 17,
   "metadata": {
    "scrolled": true
   },
   "outputs": [
    {
     "data": {
      "image/png": "[encoded data removed]",
      "text/plain": [
       "<Figure size 432x288 with 1 Axes>"
      ]
     },
     "metadata": {
      "needs_background": "light"
     },
     "output_type": "display_data"
    }
   ],
   "source": [
    "plt.hist(searchtimes)\n",
    "avg = [sum(searchtimes)/50 for x in range(25)]\n",
    "plt.hist(avg, bins = 50, color = 'orange', label = \"average\")\n",
    "plt.title(\"$h'(x) = (x\\ mod(9973))\\ mod(1021)$\")\n",
    "plt.xlim(0, 0.7)\n",
    "plt.xlabel(\"runtime ($ms$)\")\n",
    "plt.legend()\n",
    "plt.savefig(\"plt1.png\")"
   ]
  },
  {
   "cell_type": "markdown",
   "metadata": {},
   "source": [
    "## Testing The hash function without the initial prime"
   ]
  },
  {
   "cell_type": "code",
   "execution_count": 18,
   "metadata": {},
   "outputs": [],
   "source": [
    "T2 = {}"
   ]
  },
  {
   "cell_type": "code",
   "execution_count": 19,
   "metadata": {},
   "outputs": [],
   "source": [
    "for x in range(1021):\n",
    "    T2[x] = None"
   ]
  },
  {
   "cell_type": "code",
   "execution_count": 20,
   "metadata": {},
   "outputs": [],
   "source": [
    "for k in keys:\n",
    "    hash_insert2(T2,k)"
   ]
  },
  {
   "cell_type": "code",
   "execution_count": 21,
   "metadata": {},
   "outputs": [],
   "source": [
    "timer = ProgTimer(hash_search2)"
   ]
  },
  {
   "cell_type": "code",
   "execution_count": 22,
   "metadata": {},
   "outputs": [
    {
     "name": "stderr",
     "output_type": "stream",
     "text": [
      "100%|██████████| 100000/100000 [00:00<00:00, 634520.94it/s]\n",
      "100%|██████████| 100000/100000 [00:02<00:00, 42682.95it/s]\n",
      "100%|██████████| 100000/100000 [00:00<00:00, 558825.51it/s]\n",
      "100%|██████████| 100000/100000 [00:00<00:00, 1730294.88it/s]\n",
      "100%|██████████| 100000/100000 [00:00<00:00, 1745982.53it/s]\n",
      "100%|██████████| 100000/100000 [00:00<00:00, 1264357.59it/s]\n",
      "100%|██████████| 100000/100000 [00:00<00:00, 1750398.13it/s]\n",
      "100%|██████████| 100000/100000 [00:04<00:00, 23472.94it/s]\n",
      "100%|██████████| 100000/100000 [00:00<00:00, 813816.41it/s]\n",
      "100%|██████████| 100000/100000 [00:00<00:00, 1871103.93it/s]\n",
      "100%|██████████| 100000/100000 [00:00<00:00, 1857892.59it/s]\n",
      "100%|██████████| 100000/100000 [00:00<00:00, 1362140.82it/s]\n",
      "100%|██████████| 100000/100000 [00:00<00:00, 1737916.06it/s]\n",
      "100%|██████████| 100000/100000 [00:00<00:00, 1285724.71it/s]\n",
      "100%|██████████| 100000/100000 [00:00<00:00, 1857226.23it/s]\n",
      "100%|██████████| 100000/100000 [00:00<00:00, 1750354.30it/s]\n",
      "100%|██████████| 100000/100000 [00:00<00:00, 1842071.19it/s]\n",
      "100%|██████████| 100000/100000 [00:00<00:00, 1702544.70it/s]\n",
      "100%|██████████| 100000/100000 [00:00<00:00, 833200.04it/s]\n",
      "100%|██████████| 100000/100000 [00:00<00:00, 371160.27it/s]\n",
      "100%|██████████| 100000/100000 [00:00<00:00, 1036915.88it/s]\n",
      "100%|██████████| 100000/100000 [00:05<00:00, 16927.91it/s]\n",
      "100%|██████████| 100000/100000 [00:00<00:00, 863014.86it/s]\n",
      "100%|██████████| 100000/100000 [00:00<00:00, 155290.36it/s]\n",
      "100%|██████████| 100000/100000 [00:03<00:00, 30562.05it/s]\n",
      "100%|██████████| 100000/100000 [00:00<00:00, 1038386.83it/s]\n",
      "100%|██████████| 100000/100000 [00:00<00:00, 1016362.39it/s]\n",
      "100%|██████████| 100000/100000 [00:00<00:00, 107533.57it/s]\n",
      "100%|██████████| 100000/100000 [00:06<00:00, 15056.57it/s]\n",
      "100%|██████████| 100000/100000 [00:00<00:00, 1770248.97it/s]\n",
      "100%|██████████| 100000/100000 [00:00<00:00, 1749901.54it/s]\n",
      "100%|██████████| 100000/100000 [00:00<00:00, 1770547.88it/s]\n",
      "100%|██████████| 100000/100000 [00:00<00:00, 1837962.52it/s]\n",
      "100%|██████████| 100000/100000 [00:00<00:00, 167045.18it/s]\n",
      "100%|██████████| 100000/100000 [00:00<00:00, 1294394.45it/s]\n",
      "100%|██████████| 100000/100000 [00:00<00:00, 1284063.64it/s]\n",
      "100%|██████████| 100000/100000 [00:00<00:00, 1807243.10it/s]\n",
      "100%|██████████| 100000/100000 [00:00<00:00, 579721.72it/s]\n",
      "100%|██████████| 100000/100000 [00:00<00:00, 1755342.86it/s]\n",
      "100%|██████████| 100000/100000 [00:00<00:00, 219695.18it/s]\n",
      "100%|██████████| 100000/100000 [00:00<00:00, 1699261.44it/s]\n",
      "100%|██████████| 100000/100000 [00:00<00:00, 846251.96it/s]\n",
      "100%|██████████| 100000/100000 [00:00<00:00, 1764321.56it/s]\n",
      "100%|██████████| 100000/100000 [00:00<00:00, 1825300.82it/s]\n",
      "100%|██████████| 100000/100000 [00:00<00:00, 1734904.04it/s]\n",
      "100%|██████████| 100000/100000 [00:01<00:00, 92831.92it/s]\n",
      "100%|██████████| 100000/100000 [00:00<00:00, 141157.29it/s]\n",
      "100%|██████████| 100000/100000 [00:00<00:00, 1763164.55it/s]\n",
      "100%|██████████| 100000/100000 [00:00<00:00, 509342.61it/s]\n",
      "100%|██████████| 100000/100000 [00:00<00:00, 1776758.10it/s]\n"
     ]
    }
   ],
   "source": [
    "searchtimes2 = []\n",
    "for k in randkey:\n",
    "    s = timer.progTimer(T2, k)\n",
    "    searchtimes2.append(s)"
   ]
  },
  {
   "cell_type": "code",
   "execution_count": 23,
   "metadata": {
    "scrolled": false
   },
   "outputs": [
    {
     "data": {
      "image/png": "[encoded data removed]",
      "text/plain": [
       "<Figure size 432x288 with 1 Axes>"
      ]
     },
     "metadata": {
      "needs_background": "light"
     },
     "output_type": "display_data"
    }
   ],
   "source": [
    "plt.hist(searchtimes2)\n",
    "avg2 = [sum(searchtimes2)/50 for x in range(25)]\n",
    "plt.hist(avg2, bins = 50, color = 'orange', label = \"average\")\n",
    "plt.title(\"$h(x) = xmod(1021)$\")\n",
    "plt.xlim(0,0.7)\n",
    "plt.xlabel(\"runtime ($ms$)\")\n",
    "plt.legend()\n",
    "plt.savefig(\"plt2.png\")"
   ]
  },
  {
   "cell_type": "markdown",
   "metadata": {},
   "source": [
    "## Testing the hash function that uses a prime close to a power of two"
   ]
  },
  {
   "cell_type": "code",
   "execution_count": 24,
   "metadata": {},
   "outputs": [],
   "source": [
    "T3 = {}"
   ]
  },
  {
   "cell_type": "code",
   "execution_count": 25,
   "metadata": {},
   "outputs": [],
   "source": [
    "for x in range(1021):\n",
    "    T3[x] = None"
   ]
  },
  {
   "cell_type": "code",
   "execution_count": 26,
   "metadata": {},
   "outputs": [],
   "source": [
    "for k in keys:\n",
    "    hash_insert_test(T3,k)"
   ]
  },
  {
   "cell_type": "code",
   "execution_count": 27,
   "metadata": {},
   "outputs": [],
   "source": [
    "timer = ProgTimer(hash_search_test)"
   ]
  },
  {
   "cell_type": "code",
   "execution_count": 28,
   "metadata": {},
   "outputs": [
    {
     "name": "stderr",
     "output_type": "stream",
     "text": [
      "100%|██████████| 100000/100000 [00:00<00:00, 1739112.26it/s]\n",
      "100%|██████████| 100000/100000 [00:00<00:00, 328750.49it/s]\n",
      "100%|██████████| 100000/100000 [00:00<00:00, 1693142.74it/s]\n",
      "100%|██████████| 100000/100000 [00:00<00:00, 1756180.73it/s]\n",
      "100%|██████████| 100000/100000 [00:00<00:00, 1716233.89it/s]\n",
      "100%|██████████| 100000/100000 [00:00<00:00, 414843.07it/s]\n",
      "100%|██████████| 100000/100000 [00:00<00:00, 1742754.22it/s]\n",
      "100%|██████████| 100000/100000 [00:02<00:00, 46297.11it/s]\n",
      "100%|██████████| 100000/100000 [00:00<00:00, 1720069.72it/s]\n",
      "100%|██████████| 100000/100000 [00:00<00:00, 285976.77it/s]\n",
      "100%|██████████| 100000/100000 [00:00<00:00, 1706097.41it/s]\n",
      "100%|██████████| 100000/100000 [00:00<00:00, 535451.49it/s]\n",
      "100%|██████████| 100000/100000 [00:00<00:00, 868112.73it/s]\n",
      "100%|██████████| 100000/100000 [00:00<00:00, 1295669.98it/s]\n",
      "100%|██████████| 100000/100000 [00:00<00:00, 1668345.50it/s]\n",
      "100%|██████████| 100000/100000 [00:00<00:00, 1730908.97it/s]\n",
      "100%|██████████| 100000/100000 [00:00<00:00, 1694476.58it/s]\n",
      "100%|██████████| 100000/100000 [00:00<00:00, 1707430.90it/s]\n",
      "100%|██████████| 100000/100000 [00:00<00:00, 1749879.64it/s]\n",
      "100%|██████████| 100000/100000 [00:00<00:00, 633752.03it/s]\n",
      "100%|██████████| 100000/100000 [00:00<00:00, 168798.05it/s]\n",
      "100%|██████████| 100000/100000 [00:01<00:00, 96069.01it/s]\n",
      "100%|██████████| 100000/100000 [00:00<00:00, 1431117.21it/s]\n",
      "100%|██████████| 100000/100000 [00:00<00:00, 353685.56it/s]\n",
      "100%|██████████| 100000/100000 [00:01<00:00, 56210.89it/s]\n",
      "100%|██████████| 100000/100000 [00:00<00:00, 1738247.37it/s]\n",
      "100%|██████████| 100000/100000 [00:00<00:00, 1760160.48it/s]\n",
      "100%|██████████| 100000/100000 [00:00<00:00, 168910.82it/s]\n",
      "100%|██████████| 100000/100000 [00:02<00:00, 43496.05it/s]\n",
      "100%|██████████| 100000/100000 [00:00<00:00, 829934.03it/s]\n",
      "100%|██████████| 100000/100000 [00:00<00:00, 1370893.66it/s]\n",
      "100%|██████████| 100000/100000 [00:00<00:00, 1742471.85it/s]\n",
      "100%|██████████| 100000/100000 [00:00<00:00, 931916.38it/s]\n",
      "100%|██████████| 100000/100000 [00:00<00:00, 999862.69it/s]\n",
      "100%|██████████| 100000/100000 [00:00<00:00, 1776208.83it/s]\n",
      "100%|██████████| 100000/100000 [00:00<00:00, 623879.43it/s]\n",
      "100%|██████████| 100000/100000 [00:00<00:00, 1742095.51it/s]\n",
      "100%|██████████| 100000/100000 [00:00<00:00, 502236.07it/s]\n",
      "100%|██████████| 100000/100000 [00:00<00:00, 1768576.93it/s]\n",
      "100%|██████████| 100000/100000 [00:02<00:00, 40985.08it/s]\n",
      "100%|██████████| 100000/100000 [00:00<00:00, 1658929.25it/s]\n",
      "100%|██████████| 100000/100000 [00:00<00:00, 1313128.77it/s]\n",
      "100%|██████████| 100000/100000 [00:00<00:00, 919347.87it/s]\n",
      "100%|██████████| 100000/100000 [00:00<00:00, 1720464.83it/s]\n",
      "100%|██████████| 100000/100000 [00:00<00:00, 1655119.29it/s]\n",
      "100%|██████████| 100000/100000 [00:01<00:00, 87311.77it/s]\n",
      "100%|██████████| 100000/100000 [00:00<00:00, 554717.73it/s]\n",
      "100%|██████████| 100000/100000 [00:00<00:00, 1730052.22it/s]\n",
      "100%|██████████| 100000/100000 [00:00<00:00, 1134613.76it/s]\n",
      "100%|██████████| 100000/100000 [00:00<00:00, 486542.07it/s]\n"
     ]
    }
   ],
   "source": [
    "searchtimes3 = []\n",
    "for k in randkey:\n",
    "    s = timer.progTimer(T3, k)\n",
    "    searchtimes3.append(s)"
   ]
  },
  {
   "cell_type": "code",
   "execution_count": 29,
   "metadata": {
    "scrolled": false
   },
   "outputs": [
    {
     "data": {
      "image/png": "[encoded data removed]",
      "text/plain": [
       "<Figure size 432x288 with 1 Axes>"
      ]
     },
     "metadata": {
      "needs_background": "light"
     },
     "output_type": "display_data"
    }
   ],
   "source": [
    "plt.hist(searchtimes3)\n",
    "avg2 = [sum(searchtimes3)/50 for x in range(25)]\n",
    "plt.hist(avg2, bins = 50, color = 'orange', label = \"average\")\n",
    "plt.title(\"$h'(x) = (x\\ mod(264631))\\ mod(1021)$\")\n",
    "plt.xlim(0,0.7)\n",
    "plt.xlabel(\"runtime ($ms$)\")\n",
    "plt.legend()\n",
    "plt.savefig(\"plt3.png\")"
   ]
  },
  {
   "cell_type": "markdown",
   "metadata": {},
   "source": [
    "### Discussion"
   ]
  },
  {
   "cell_type": "markdown",
   "metadata": {},
   "source": [
    "Using the prime in the initial step made a big difference in runtime which was facinating. This must mean that the extra step allows the keys to be more uniformely distributed.  Additionally, changing the prime by making it much larger had a drastic effect on the run time which must mean that it reduces the prime clustering.  It is interesting to see the effect of prime clustering on the runtime of hash-search.  While some of the values are returned almost instantaneously some take quite a bit longer to return because of this effect."
   ]
  }
 ],
 "metadata": {
  "kernelspec": {
   "display_name": "Python 3",
   "language": "python",
   "name": "python3"
  },
  "language_info": {
   "codemirror_mode": {
    "name": "ipython",
    "version": 3
   },
   "file_extension": ".py",
   "mimetype": "text/x-python",
   "name": "python",
   "nbconvert_exporter": "python",
   "pygments_lexer": "ipython3",
   "version": "3.8.3"
  }
 },
 "nbformat": 4,
 "nbformat_minor": 4
}
