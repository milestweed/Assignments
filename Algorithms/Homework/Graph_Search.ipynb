{
 "cells": [
  {
   "cell_type": "markdown",
   "metadata": {},
   "source": [
    "# Assignment 6\n",
    "\n",
    "## Searching and weighted graphs"
   ]
  },
  {
   "cell_type": "markdown",
   "metadata": {},
   "source": [
    "#### Import statements"
   ]
  },
  {
   "cell_type": "code",
   "execution_count": 4,
   "metadata": {},
   "outputs": [],
   "source": [
    "import numpy as np\n",
    "import random\n",
    "import matplotlib.pyplot as plt\n",
    "%matplotlib inline"
   ]
  },
  {
   "cell_type": "markdown",
   "metadata": {},
   "source": [
    "#### Weighted adjacency matrix implementation"
   ]
  },
  {
   "cell_type": "code",
   "execution_count": 285,
   "metadata": {},
   "outputs": [],
   "source": [
    "random.seed(123)\n",
    "N = 10\n",
    "#a = np.random.random_integers(1,4,size=(N,N))\n",
    "a = np.random.randint(1,3,(N,N))\n",
    "A = (a + a.T)\n",
    "for i in range(N):\n",
    "    A[i,i] = 0\n",
    "    \n",
    "b = np.random.randint(1,4,size=(N,N))\n",
    "B = (b + b.T)\n",
    "for i in range(N):\n",
    "    B[i,i] = 0\n",
    "\n",
    "c = np.random.randint(1,4,size=(N,N))\n",
    "C = (c + c.T)\n",
    "for i in range(N):\n",
    "    C[i,i] = 0\n",
    "Z = np.zeros((N,N), dtype = int)\n",
    "\n",
    "R1 = np.block([np.block([A,Z]), Z])\n",
    "R2 = np.block([np.block([Z,B]), Z])\n",
    "R3 = np.block([np.block([Z,Z]), C])\n",
    "\n",
    "P = np.zeros((3*N, 3*N), dtype=int)\n",
    "for i in range(2):\n",
    "    for j in range(1,3):\n",
    "        P[8+j-1, (i+1)*N+j] = 1\n",
    "P = (P+P.T)\n",
    "\n",
    "M1 = np.block([np.block([R1.T, R2.T]), R3.T]) + P"
   ]
  },
  {
   "cell_type": "code",
   "execution_count": 292,
   "metadata": {},
   "outputs": [
    {
     "name": "stdout",
     "output_type": "stream",
     "text": [
      "[[0 4 3 4 4 4 4 3 3 4 0 0 0 0 0 0 0 0 0 0 0 0 0 0 0 0 0 0 0 0]\n",
      " [4 0 4 2 3 4 4 2 2 2 0 0 0 0 0 0 0 0 0 0 0 0 0 0 0 0 0 0 0 0]\n",
      " [3 4 0 3 3 3 3 3 3 3 0 0 0 0 0 0 0 0 0 0 0 0 0 0 0 0 0 0 0 0]\n",
      " [4 2 3 0 2 3 3 3 3 3 0 0 0 0 0 0 0 0 0 0 0 0 0 0 0 0 0 0 0 0]\n",
      " [4 3 3 2 0 3 4 3 4 3 0 0 0 0 0 0 0 0 0 0 0 0 0 0 0 0 0 0 0 0]\n",
      " [4 4 3 3 3 0 3 3 2 3 0 0 0 0 0 0 0 0 0 0 0 0 0 0 0 0 0 0 0 0]\n",
      " [4 4 3 3 4 3 0 2 3 4 0 0 0 0 0 0 0 0 0 0 0 0 0 0 0 0 0 0 0 0]\n",
      " [3 2 3 3 3 3 2 0 3 4 0 0 0 0 0 0 0 0 0 0 0 0 0 0 0 0 0 0 0 0]\n",
      " [3 2 3 3 4 2 3 3 0 2 0 1 0 0 0 0 0 0 0 0 0 1 0 0 0 0 0 0 0 0]\n",
      " [4 2 3 3 3 3 4 4 2 0 0 0 1 0 0 0 0 0 0 0 0 0 1 0 0 0 0 0 0 0]\n",
      " [0 0 0 0 0 0 0 0 0 0 0 5 5 5 3 5 5 2 4 2 0 0 0 0 0 0 0 0 0 0]\n",
      " [0 0 0 0 0 0 0 0 1 0 5 0 4 2 4 5 6 3 4 5 0 0 0 0 0 0 0 0 0 0]\n",
      " [0 0 0 0 0 0 0 0 0 1 5 4 0 2 4 4 6 4 3 5 0 0 0 0 0 0 0 0 0 0]\n",
      " [0 0 0 0 0 0 0 0 0 0 5 2 2 0 2 2 4 2 3 6 0 0 0 0 0 0 0 0 0 0]\n",
      " [0 0 0 0 0 0 0 0 0 0 3 4 4 2 0 4 5 4 3 3 0 0 0 0 0 0 0 0 0 0]\n",
      " [0 0 0 0 0 0 0 0 0 0 5 5 4 2 4 0 4 3 3 3 0 0 0 0 0 0 0 0 0 0]\n",
      " [0 0 0 0 0 0 0 0 0 0 5 6 6 4 5 4 0 5 6 6 0 0 0 0 0 0 0 0 0 0]\n",
      " [0 0 0 0 0 0 0 0 0 0 2 3 4 2 4 3 5 0 6 5 0 0 0 0 0 0 0 0 0 0]\n",
      " [0 0 0 0 0 0 0 0 0 0 4 4 3 3 3 3 6 6 0 6 0 0 0 0 0 0 0 0 0 0]\n",
      " [0 0 0 0 0 0 0 0 0 0 2 5 5 6 3 3 6 5 6 0 0 0 0 0 0 0 0 0 0 0]\n",
      " [0 0 0 0 0 0 0 0 0 0 0 0 0 0 0 0 0 0 0 0 0 6 3 4 3 4 5 4 4 4]\n",
      " [0 0 0 0 0 0 0 0 1 0 0 0 0 0 0 0 0 0 0 0 6 0 4 2 4 2 6 3 5 5]\n",
      " [0 0 0 0 0 0 0 0 0 1 0 0 0 0 0 0 0 0 0 0 3 4 0 5 3 5 4 5 2 2]\n",
      " [0 0 0 0 0 0 0 0 0 0 0 0 0 0 0 0 0 0 0 0 4 2 5 0 3 6 3 3 4 5]\n",
      " [0 0 0 0 0 0 0 0 0 0 0 0 0 0 0 0 0 0 0 0 3 4 3 3 0 3 5 4 4 4]\n",
      " [0 0 0 0 0 0 0 0 0 0 0 0 0 0 0 0 0 0 0 0 4 2 5 6 3 0 5 5 3 2]\n",
      " [0 0 0 0 0 0 0 0 0 0 0 0 0 0 0 0 0 0 0 0 5 6 4 3 5 5 0 4 4 4]\n",
      " [0 0 0 0 0 0 0 0 0 0 0 0 0 0 0 0 0 0 0 0 4 3 5 3 4 5 4 0 6 4]\n",
      " [0 0 0 0 0 0 0 0 0 0 0 0 0 0 0 0 0 0 0 0 4 5 2 4 4 3 4 6 0 5]\n",
      " [0 0 0 0 0 0 0 0 0 0 0 0 0 0 0 0 0 0 0 0 4 5 2 5 4 2 4 4 5 0]]\n"
     ]
    }
   ],
   "source": [
    "print(M1)"
   ]
  },
  {
   "cell_type": "markdown",
   "metadata": {},
   "source": [
    "## Question 1\n",
    "\n",
    "There are 30 vertices on the graphs that are connected by 139 edges.\n",
    "\n",
    "There are three fully connected groups of ten vertices with $\\sum_{i=1}^9 i = 45$ edges each plus four additional edges connecting groups two and three to group one. $(3\\cdot45)+4=139$"
   ]
  },
  {
   "cell_type": "markdown",
   "metadata": {},
   "source": [
    "## Question 2\n",
    "\n",
    "### Depth first search implementation\n",
    "\n",
    "I created a Graph class that takes in an adjacency matrix as an arguments.  The adjacency matrix must first be converted to a graph with the mkGraph function after which DFS can be called.  I included randomization for the time test with mkGraphRand.  This class also includes functions for DAG-shortest-path, Bellman-Ford, and Dijkstra's algorithm."
   ]
  },
  {
   "cell_type": "code",
   "execution_count": 396,
   "metadata": {},
   "outputs": [],
   "source": [
    "class Graph():\n",
    "    \n",
    "    from random import shuffle\n",
    "    from time import time\n",
    "    import numpy as np\n",
    "    \n",
    "    def __init__(self, M):\n",
    "        self.M = M\n",
    "        \n",
    "    def mkGraph(self):\n",
    "        graph = dict()\n",
    "        for i in range(len(self.M)):\n",
    "            graph[i] = []\n",
    "            for j in range (len(self.M[i])):\n",
    "                if self.M[i][j] != 0:\n",
    "                    graph[i].append((j,self.M[i][j]))\n",
    "        self.G = graph\n",
    "        self.vertices = list(range(len(self.G)))\n",
    "        \n",
    "    def mkGraphRand(self):\n",
    "        graph = dict()\n",
    "        for i in range(len(self.M)):\n",
    "            graph[i] = []\n",
    "            for j in range (len(self.M[i])):\n",
    "                if self.M[i][j] != 0:\n",
    "                    graph[i].append((j,self.M[i][j]))\n",
    "        self.G = graph\n",
    "        self.vertices = list(range(len(self.G)))\n",
    "        self.shuffle(self.vertices)\n",
    "\n",
    "    def DFSvisit(self, u):\n",
    "        self.t += 1\n",
    "        self.uStart[u] = self.t\n",
    "        self.uColor[u] = 'y'\n",
    "        neighbors = sorted([x[0] for x in self.G[u]])\n",
    "        for v in neighbors:\n",
    "            if self.uColor[v] == 'w':\n",
    "                self.uPred[v] = u\n",
    "                self.DFSvisit(v)\n",
    "        self.uColor[u] = 'r'\n",
    "        self.t += 1\n",
    "        self.uStop[u] = self.t\n",
    "        self.rt_stp = self.time()\n",
    "        self.rt = (self.rt_stp - self.rt_strt)*10**3\n",
    "        \n",
    "    def DFS(self):\n",
    "        self.rt_strt = self.time()\n",
    "        self.uColor = ['w' for x in range(len(self.M))]\n",
    "        self.uPred  = [None for x in range(len(self.M))]\n",
    "        self.uStart = [None for x in range(len(self.M))]\n",
    "        self.uStop  = [None for x in range(len(self.M))]\n",
    "        self.t = 0\n",
    "        for u in self.vertices:\n",
    "            if self.uColor[u] == 'w':\n",
    "                self.DFSvisit(u)\n",
    "                \n",
    "    def topoSort(self):\n",
    "        endTimes = self.uStop\n",
    "        vert = self.vertices\n",
    "        ts = [(vert[i],endTimes[i]) for i in range(len(vert))]\n",
    "        ts = sorted(ts, key=lambda x: x[1], reverse = True)\n",
    "        return ts\n",
    "    \n",
    "    def DAG_Shotest_Path(self):\n",
    "        self.edges = []\n",
    "        for i in range(len(self.G)):\n",
    "            for j in range(len(self.G[i])):\n",
    "                temp = [i,self.G[i][j][0]]\n",
    "                self.edges.append((temp[0], temp[1], self.G[i][j][1]))\n",
    "        self.edges = set(self.edges)\n",
    "        ts = [x[0] for x in self.topoSort()]\n",
    "\n",
    "        relaxed = {ts[0]:[0,None]}\n",
    "        for i in range(1,len(ts)):\n",
    "            relaxed[ts[i]] = [np.infty, None]\n",
    "\n",
    "        for i in range(len(ts)):\n",
    "            for edge in self.edges:\n",
    "                u = edge[0]\n",
    "                v = edge[1]\n",
    "                w = edge[2]\n",
    "                if relaxed[u][0] + w < relaxed[v][0]:\n",
    "                    relaxed[v][0] = relaxed[u][0] + w\n",
    "                    relaxed[v][1] = u\n",
    "\n",
    "        return relaxed\n",
    "                \n",
    "        \n",
    "    def BellmanFord(self):\n",
    "        vert = self.vertices\n",
    "        \n",
    "        relaxed = {vert[0]:[0,None]}\n",
    "        for i in range(1,len(vert)):\n",
    "            relaxed[vert[i]] = [np.infty, None]\n",
    "            \n",
    "            \n",
    "        self.edges = []\n",
    "        for i in range(len(self.G)):\n",
    "            for j in range(len(self.G[i])):\n",
    "                temp = [i,self.G[i][j][0]]\n",
    "                self.edges.append((temp[0], temp[1], self.G[i][j][1]))\n",
    "        self.edges = set(self.edges)\n",
    "        \n",
    "        for i in range(len(vert)):\n",
    "            for edge in self.edges:\n",
    "                u = edge[0]\n",
    "                v = edge[1]\n",
    "                w = edge[2]\n",
    "                if relaxed[u][0] + w < relaxed[v][0]:\n",
    "                    relaxed[v][0] = relaxed[u][0] + w\n",
    "                    relaxed[v][1] = u\n",
    "        for edge in self.edges:\n",
    "            w = edge[2]\n",
    "            v = edge[1]\n",
    "            u = edge[0]\n",
    "            if relaxed[v][0] > relaxed[u][0] + w:\n",
    "                return False\n",
    "        return True\n",
    "\n",
    "        \n",
    "    def dijkstra(self):\n",
    "        vert = self.vertices\n",
    "        \n",
    "        relaxed = {vert[0]:[0,None]}\n",
    "        for i in range(1,len(vert)):\n",
    "            relaxed[vert[i]] = [np.infty, None]\n",
    "            \n",
    "            \n",
    "        self.edges = []\n",
    "        for i in range(len(self.G)):\n",
    "            for j in range(len(self.G[i])):\n",
    "                temp = [i,self.G[i][j][0]]\n",
    "                self.edges.append((temp[0], temp[1], self.G[i][j][1]))\n",
    "        self.edges = set(self.edges)\n",
    "        \n",
    "        Q = sorted(vert)\n",
    "        S = []\n",
    "        \n",
    "        while len(Q) != 0:\n",
    "            u = Q.pop(0)\n",
    "            S.append(u)\n",
    "            for V in self.G[u]:\n",
    "                v = V[0]\n",
    "                w = V[1]\n",
    "                if relaxed[u][0] + w < relaxed[v][0]:\n",
    "                    relaxed[v][0] = relaxed[u][0] + w\n",
    "                    relaxed[v][1] = u\n",
    "        \n",
    "        return relaxed\n",
    "    \n",
    "    def FW(self):\n",
    "        n = len(self.M)\n",
    "        D0 = [M]\n",
    "        for k in range(1,n):\n",
    "            Dk = np.array([[0 for x in range(n)] for x in range(n)])\n",
    "            for i in range(n):\n",
    "                for j in range(n):\n",
    "                    Dk[i][j] = min([D0[k-1][i][j], D0[k-1][i][k] + D0[k-1][k][j]])\n",
    "            D0.append(Dk)\n",
    "        return D0[n-1]\n",
    "    \n",
    "    def getMaxTime(self):\n",
    "        try:\n",
    "            return max(self.uStop)\n",
    "        except NameError:\n",
    "            print('DFS must be called first.')\n",
    "    \n",
    "    def getRt(self):\n",
    "        try:\n",
    "            return self.rt\n",
    "        except NameError:\n",
    "            print('DFS must be called first.')\n",
    "    \n",
    "    def showGraph(self):\n",
    "        try:\n",
    "            print(self.G)\n",
    "        except NameError:\n",
    "            self.mkGraph()\n",
    "            return self.G\n",
    "        \n",
    "    def getEdges(self):\n",
    "        try:\n",
    "            return self.edges\n",
    "        except NameError:\n",
    "            self.edges = []\n",
    "            for i in range(len(self.G)):\n",
    "                for j in range(len(self.G[i])):\n",
    "                    temp = sorted([i,self.G[i][j][0]])\n",
    "                    self.edges.append((temp[0], temp[1], self.G[i][j][1]))\n",
    "            self.edges = set(self.edges)\n",
    "            return self.edges\n",
    "            \n",
    "        \n",
    "    def __str__(self):\n",
    "        return 'This object contains the graph and\\nassociated method for the following\\nmatrix\\n{}'.format(M)"
   ]
  },
  {
   "cell_type": "code",
   "execution_count": 365,
   "metadata": {},
   "outputs": [
    {
     "name": "stdout",
     "output_type": "stream",
     "text": [
      "[[0 0 0 0 0 0 0 0 0 0 0 0 0 0 0 0 0 0 0 0 0 0 0 0 0 0 0 0 0 0]\n",
      " [0 0 0 0 0 0 0 0 0 0 0 0 0 0 0 0 0 0 0 0 0 0 0 0 0 0 0 0 0 0]\n",
      " [0 0 0 0 0 0 0 0 0 0 0 0 0 0 0 0 0 0 0 0 0 0 0 0 0 0 0 0 0 0]\n",
      " [0 0 0 0 0 0 0 0 0 0 0 0 0 0 0 0 0 0 0 0 0 0 0 0 0 0 0 0 0 0]\n",
      " [0 0 0 0 0 0 0 0 0 0 0 0 0 0 0 0 0 0 0 0 0 0 0 0 0 0 0 0 0 0]\n",
      " [0 0 0 0 0 0 0 0 0 0 0 0 0 0 0 0 0 0 0 0 0 0 0 0 0 0 0 0 0 0]\n",
      " [0 0 0 0 0 0 0 0 0 0 0 0 0 0 0 0 0 0 0 0 0 0 0 0 0 0 0 0 0 0]\n",
      " [0 0 0 0 0 0 0 0 0 0 0 0 0 0 0 0 0 0 0 0 0 0 0 0 0 0 0 0 0 0]\n",
      " [0 0 0 0 0 0 0 0 0 0 0 0 0 0 0 0 0 0 0 0 0 0 0 0 0 0 0 0 0 0]\n",
      " [0 0 0 0 0 0 0 0 0 0 0 0 0 0 0 0 0 0 0 0 0 0 0 0 0 0 0 0 0 0]\n",
      " [0 0 0 0 0 0 0 0 0 0 0 0 0 0 0 0 0 0 0 0 0 0 0 0 0 0 0 0 0 0]\n",
      " [0 0 0 0 0 0 0 0 0 0 0 0 0 0 0 0 0 0 0 0 0 0 0 0 0 0 0 0 0 0]\n",
      " [0 0 0 0 0 0 0 0 0 0 0 0 0 0 0 0 0 0 0 0 0 0 0 0 0 0 0 0 0 0]\n",
      " [0 0 0 0 0 0 0 0 0 0 0 0 0 0 0 0 0 0 0 0 0 0 0 0 0 0 0 0 0 0]\n",
      " [0 0 0 0 0 0 0 0 0 0 0 0 0 0 0 0 0 0 0 0 0 0 0 0 0 0 0 0 0 0]\n",
      " [0 0 0 0 0 0 0 0 0 0 0 0 0 0 0 0 0 0 0 0 0 0 0 0 0 0 0 0 0 0]\n",
      " [0 0 0 0 0 0 0 0 0 0 0 0 0 0 0 0 0 0 0 0 0 0 0 0 0 0 0 0 0 0]\n",
      " [0 0 0 0 0 0 0 0 0 0 0 0 0 0 0 0 0 0 0 0 0 0 0 0 0 0 0 0 0 0]\n",
      " [0 0 0 0 0 0 0 0 0 0 0 0 0 0 0 0 0 0 0 0 0 0 0 0 0 0 0 0 0 0]\n",
      " [0 0 0 0 0 0 0 0 0 0 0 0 0 0 0 0 0 0 0 0 0 0 0 0 0 0 0 0 0 0]\n",
      " [0 0 0 0 0 0 0 0 0 0 0 0 0 0 0 0 0 0 0 0 0 0 0 0 0 0 0 0 0 0]\n",
      " [0 0 0 0 0 0 0 0 0 0 0 0 0 0 0 0 0 0 0 0 0 0 0 0 0 0 0 0 0 0]\n",
      " [0 0 0 0 0 0 0 0 0 0 0 0 0 0 0 0 0 0 0 0 0 0 0 0 0 0 0 0 0 0]\n",
      " [0 0 0 0 0 0 0 0 0 0 0 0 0 0 0 0 0 0 0 0 0 0 0 0 0 0 0 0 0 0]\n",
      " [0 0 0 0 0 0 0 0 0 0 0 0 0 0 0 0 0 0 0 0 0 0 0 0 0 0 0 0 0 0]\n",
      " [0 0 0 0 0 0 0 0 0 0 0 0 0 0 0 0 0 0 0 0 0 0 0 0 0 0 0 0 0 0]\n",
      " [0 0 0 0 0 0 0 0 0 0 0 0 0 0 0 0 0 0 0 0 0 0 0 0 0 0 0 0 0 0]\n",
      " [0 0 0 0 0 0 0 0 0 0 0 0 0 0 0 0 0 0 0 0 0 0 0 0 0 0 0 0 0 0]\n",
      " [0 0 0 0 0 0 0 0 0 0 0 0 0 0 0 0 0 0 0 0 0 0 0 0 0 0 0 0 0 0]\n",
      " [0 0 0 0 0 0 0 0 0 0 0 0 0 0 0 0 0 0 0 0 0 0 0 0 0 0 0 0 0 0]]\n"
     ]
    }
   ],
   "source": [
    "d = np.array([[0 for x in range(30)] for x in range(30)])\n",
    "print(d)"
   ]
  },
  {
   "cell_type": "markdown",
   "metadata": {},
   "source": [
    "### Class function test\n",
    "\n",
    "I tested my implementation on a known example from class and it performs as expected on a DAG."
   ]
  },
  {
   "cell_type": "code",
   "execution_count": 397,
   "metadata": {},
   "outputs": [],
   "source": [
    "M2 = np.array([[0,3,2,1,0,0,0], \n",
    "              [0,0,0,0,5,0,0], \n",
    "              [0,1,0,1,3,4,0], \n",
    "              [0,0,0,0,0,7,0], \n",
    "              [0,0,0,0,0,0,5], \n",
    "              [0,0,0,0,0,0,8], \n",
    "              [0,0,0,0,0,0,0]])"
   ]
  },
  {
   "cell_type": "code",
   "execution_count": 398,
   "metadata": {},
   "outputs": [],
   "source": [
    "G2 = Graph(M2)\n",
    "G2.mkGraph()\n",
    "G2.DFS()"
   ]
  },
  {
   "cell_type": "code",
   "execution_count": 399,
   "metadata": {},
   "outputs": [
    {
     "data": {
      "text/plain": [
       "True"
      ]
     },
     "execution_count": 399,
     "metadata": {},
     "output_type": "execute_result"
    }
   ],
   "source": [
    "G2.BellmanFord()"
   ]
  },
  {
   "cell_type": "code",
   "execution_count": 400,
   "metadata": {},
   "outputs": [
    {
     "data": {
      "text/plain": [
       "{0: [0, None],\n",
       " 2: [2, 0],\n",
       " 3: [1, 0],\n",
       " 5: [6, 2],\n",
       " 1: [3, 0],\n",
       " 4: [5, 2],\n",
       " 6: [10, 4]}"
      ]
     },
     "execution_count": 400,
     "metadata": {},
     "output_type": "execute_result"
    }
   ],
   "source": [
    "G2.DAG_Shotest_Path()"
   ]
  },
  {
   "cell_type": "code",
   "execution_count": 401,
   "metadata": {},
   "outputs": [
    {
     "data": {
      "text/plain": [
       "{0: [0, None],\n",
       " 1: [3, 0],\n",
       " 2: [2, 0],\n",
       " 3: [1, 0],\n",
       " 4: [5, 2],\n",
       " 5: [6, 2],\n",
       " 6: [10, 4]}"
      ]
     },
     "execution_count": 401,
     "metadata": {},
     "output_type": "execute_result"
    }
   ],
   "source": [
    "G2.dijkstra()"
   ]
  },
  {
   "cell_type": "code",
   "execution_count": 402,
   "metadata": {},
   "outputs": [
    {
     "name": "stdout",
     "output_type": "stream",
     "text": [
      "[[0 3 4 2 2 3 2]\n",
      " [3 0 4 4 2 2 3]\n",
      " [4 4 0 4 4 4 3]\n",
      " [2 4 4 0 3 2 3]\n",
      " [2 2 4 3 0 2 4]\n",
      " [3 2 4 2 2 0 2]\n",
      " [2 3 3 3 4 2 0]]\n"
     ]
    }
   ],
   "source": [
    "print(G2.FW())"
   ]
  },
  {
   "cell_type": "markdown",
   "metadata": {},
   "source": [
    "### Connectivity\n",
    "\n",
    "The graph of the original adjacently matrix is fully connected. Every vertex has a connection and there are no isolated groups."
   ]
  },
  {
   "cell_type": "code",
   "execution_count": 403,
   "metadata": {},
   "outputs": [
    {
     "data": {
      "text/plain": [
       "{0: [(1, 4), (2, 3), (3, 4), (4, 4), (5, 4), (6, 4), (7, 3), (8, 3), (9, 4)],\n",
       " 1: [(0, 4), (2, 4), (3, 2), (4, 3), (5, 4), (6, 4), (7, 2), (8, 2), (9, 2)],\n",
       " 2: [(0, 3), (1, 4), (3, 3), (4, 3), (5, 3), (6, 3), (7, 3), (8, 3), (9, 3)],\n",
       " 3: [(0, 4), (1, 2), (2, 3), (4, 2), (5, 3), (6, 3), (7, 3), (8, 3), (9, 3)],\n",
       " 4: [(0, 4), (1, 3), (2, 3), (3, 2), (5, 3), (6, 4), (7, 3), (8, 4), (9, 3)],\n",
       " 5: [(0, 4), (1, 4), (2, 3), (3, 3), (4, 3), (6, 3), (7, 3), (8, 2), (9, 3)],\n",
       " 6: [(0, 4), (1, 4), (2, 3), (3, 3), (4, 4), (5, 3), (7, 2), (8, 3), (9, 4)],\n",
       " 7: [(0, 3), (1, 2), (2, 3), (3, 3), (4, 3), (5, 3), (6, 2), (8, 3), (9, 4)],\n",
       " 8: [(0, 3),\n",
       "  (1, 2),\n",
       "  (2, 3),\n",
       "  (3, 3),\n",
       "  (4, 4),\n",
       "  (5, 2),\n",
       "  (6, 3),\n",
       "  (7, 3),\n",
       "  (9, 2),\n",
       "  (11, 1),\n",
       "  (21, 1)],\n",
       " 9: [(0, 4),\n",
       "  (1, 2),\n",
       "  (2, 3),\n",
       "  (3, 3),\n",
       "  (4, 3),\n",
       "  (5, 3),\n",
       "  (6, 4),\n",
       "  (7, 4),\n",
       "  (8, 2),\n",
       "  (12, 1),\n",
       "  (22, 1)],\n",
       " 10: [(11, 5),\n",
       "  (12, 5),\n",
       "  (13, 5),\n",
       "  (14, 3),\n",
       "  (15, 5),\n",
       "  (16, 5),\n",
       "  (17, 2),\n",
       "  (18, 4),\n",
       "  (19, 2)],\n",
       " 11: [(8, 1),\n",
       "  (10, 5),\n",
       "  (12, 4),\n",
       "  (13, 2),\n",
       "  (14, 4),\n",
       "  (15, 5),\n",
       "  (16, 6),\n",
       "  (17, 3),\n",
       "  (18, 4),\n",
       "  (19, 5)],\n",
       " 12: [(9, 1),\n",
       "  (10, 5),\n",
       "  (11, 4),\n",
       "  (13, 2),\n",
       "  (14, 4),\n",
       "  (15, 4),\n",
       "  (16, 6),\n",
       "  (17, 4),\n",
       "  (18, 3),\n",
       "  (19, 5)],\n",
       " 13: [(10, 5),\n",
       "  (11, 2),\n",
       "  (12, 2),\n",
       "  (14, 2),\n",
       "  (15, 2),\n",
       "  (16, 4),\n",
       "  (17, 2),\n",
       "  (18, 3),\n",
       "  (19, 6)],\n",
       " 14: [(10, 3),\n",
       "  (11, 4),\n",
       "  (12, 4),\n",
       "  (13, 2),\n",
       "  (15, 4),\n",
       "  (16, 5),\n",
       "  (17, 4),\n",
       "  (18, 3),\n",
       "  (19, 3)],\n",
       " 15: [(10, 5),\n",
       "  (11, 5),\n",
       "  (12, 4),\n",
       "  (13, 2),\n",
       "  (14, 4),\n",
       "  (16, 4),\n",
       "  (17, 3),\n",
       "  (18, 3),\n",
       "  (19, 3)],\n",
       " 16: [(10, 5),\n",
       "  (11, 6),\n",
       "  (12, 6),\n",
       "  (13, 4),\n",
       "  (14, 5),\n",
       "  (15, 4),\n",
       "  (17, 5),\n",
       "  (18, 6),\n",
       "  (19, 6)],\n",
       " 17: [(10, 2),\n",
       "  (11, 3),\n",
       "  (12, 4),\n",
       "  (13, 2),\n",
       "  (14, 4),\n",
       "  (15, 3),\n",
       "  (16, 5),\n",
       "  (18, 6),\n",
       "  (19, 5)],\n",
       " 18: [(10, 4),\n",
       "  (11, 4),\n",
       "  (12, 3),\n",
       "  (13, 3),\n",
       "  (14, 3),\n",
       "  (15, 3),\n",
       "  (16, 6),\n",
       "  (17, 6),\n",
       "  (19, 6)],\n",
       " 19: [(10, 2),\n",
       "  (11, 5),\n",
       "  (12, 5),\n",
       "  (13, 6),\n",
       "  (14, 3),\n",
       "  (15, 3),\n",
       "  (16, 6),\n",
       "  (17, 5),\n",
       "  (18, 6)],\n",
       " 20: [(21, 6),\n",
       "  (22, 3),\n",
       "  (23, 4),\n",
       "  (24, 3),\n",
       "  (25, 4),\n",
       "  (26, 5),\n",
       "  (27, 4),\n",
       "  (28, 4),\n",
       "  (29, 4)],\n",
       " 21: [(8, 1),\n",
       "  (20, 6),\n",
       "  (22, 4),\n",
       "  (23, 2),\n",
       "  (24, 4),\n",
       "  (25, 2),\n",
       "  (26, 6),\n",
       "  (27, 3),\n",
       "  (28, 5),\n",
       "  (29, 5)],\n",
       " 22: [(9, 1),\n",
       "  (20, 3),\n",
       "  (21, 4),\n",
       "  (23, 5),\n",
       "  (24, 3),\n",
       "  (25, 5),\n",
       "  (26, 4),\n",
       "  (27, 5),\n",
       "  (28, 2),\n",
       "  (29, 2)],\n",
       " 23: [(20, 4),\n",
       "  (21, 2),\n",
       "  (22, 5),\n",
       "  (24, 3),\n",
       "  (25, 6),\n",
       "  (26, 3),\n",
       "  (27, 3),\n",
       "  (28, 4),\n",
       "  (29, 5)],\n",
       " 24: [(20, 3),\n",
       "  (21, 4),\n",
       "  (22, 3),\n",
       "  (23, 3),\n",
       "  (25, 3),\n",
       "  (26, 5),\n",
       "  (27, 4),\n",
       "  (28, 4),\n",
       "  (29, 4)],\n",
       " 25: [(20, 4),\n",
       "  (21, 2),\n",
       "  (22, 5),\n",
       "  (23, 6),\n",
       "  (24, 3),\n",
       "  (26, 5),\n",
       "  (27, 5),\n",
       "  (28, 3),\n",
       "  (29, 2)],\n",
       " 26: [(20, 5),\n",
       "  (21, 6),\n",
       "  (22, 4),\n",
       "  (23, 3),\n",
       "  (24, 5),\n",
       "  (25, 5),\n",
       "  (27, 4),\n",
       "  (28, 4),\n",
       "  (29, 4)],\n",
       " 27: [(20, 4),\n",
       "  (21, 3),\n",
       "  (22, 5),\n",
       "  (23, 3),\n",
       "  (24, 4),\n",
       "  (25, 5),\n",
       "  (26, 4),\n",
       "  (28, 6),\n",
       "  (29, 4)],\n",
       " 28: [(20, 4),\n",
       "  (21, 5),\n",
       "  (22, 2),\n",
       "  (23, 4),\n",
       "  (24, 4),\n",
       "  (25, 3),\n",
       "  (26, 4),\n",
       "  (27, 6),\n",
       "  (29, 5)],\n",
       " 29: [(20, 4),\n",
       "  (21, 5),\n",
       "  (22, 2),\n",
       "  (23, 5),\n",
       "  (24, 4),\n",
       "  (25, 2),\n",
       "  (26, 4),\n",
       "  (27, 4),\n",
       "  (28, 5)]}"
      ]
     },
     "execution_count": 403,
     "metadata": {},
     "output_type": "execute_result"
    }
   ],
   "source": [
    "G1 = Graph(M1)\n",
    "G1.mkGraph()\n",
    "G1.G # in the format u: [(v,w)]"
   ]
  },
  {
   "cell_type": "code",
   "execution_count": 405,
   "metadata": {},
   "outputs": [
    {
     "name": "stdout",
     "output_type": "stream",
     "text": [
      "[[0 3 4 2 2 3 2 3 4 3 2 2 3 2 2 2 3 4 3 3 3 4 3 3 4 3 2 3 2 4]\n",
      " [3 0 4 4 2 2 3 3 3 4 3 3 4 4 2 3 3 2 3 2 4 3 2 4 4 2 3 2 4 2]\n",
      " [4 4 0 4 4 4 3 4 4 3 3 2 2 2 3 2 3 3 3 3 3 3 2 2 3 4 2 3 4 4]\n",
      " [2 4 4 0 3 2 3 4 4 3 2 3 2 4 3 3 3 3 3 3 4 2 3 4 4 4 4 2 2 3]\n",
      " [2 2 4 3 0 2 4 4 2 4 4 2 2 2 3 3 3 3 2 4 3 3 3 3 3 3 2 3 2 4]\n",
      " [3 2 4 2 2 0 2 2 3 3 3 3 3 2 3 4 3 2 3 4 2 3 4 3 3 4 4 4 3 3]\n",
      " [2 3 3 3 4 2 0 3 2 4 3 3 3 3 3 3 3 2 2 2 2 2 4 3 4 3 4 2 2 4]\n",
      " [3 3 4 4 4 2 3 0 3 3 3 4 3 3 3 4 4 4 4 3 2 3 3 3 3 4 2 3 3 3]\n",
      " [4 3 4 4 2 3 2 3 0 2 4 4 4 2 4 3 2 4 3 4 2 2 3 3 3 3 4 3 3 3]\n",
      " [3 4 3 3 4 3 4 3 2 0 4 3 3 3 3 2 3 3 3 4 3 4 3 3 2 2 3 4 3 3]\n",
      " [2 3 3 2 4 3 3 3 4 4 0 4 3 2 2 4 3 3 4 4 4 3 4 3 4 2 4 3 4 3]\n",
      " [2 3 2 3 2 3 3 4 4 3 4 0 3 4 3 4 4 3 4 3 3 3 2 3 2 2 3 4 3 3]\n",
      " [3 4 2 2 2 3 3 3 4 3 3 3 0 4 3 2 2 3 3 3 3 4 4 2 4 4 3 3 2 2]\n",
      " [2 4 2 4 2 2 3 3 2 3 2 4 4 0 3 4 2 3 2 4 3 3 4 3 3 4 3 2 3 2]\n",
      " [2 2 3 3 3 3 3 3 4 3 2 3 3 3 0 3 3 4 3 4 3 3 2 4 3 3 3 3 4 3]\n",
      " [2 3 2 3 3 4 3 4 3 2 4 4 2 4 3 0 3 4 3 3 2 3 3 3 4 3 3 3 3 4]\n",
      " [3 3 3 3 3 3 3 4 2 3 3 4 2 2 3 3 0 4 2 3 2 3 3 3 3 3 3 4 3 2]\n",
      " [4 2 3 3 3 2 2 4 4 3 3 3 3 3 4 4 4 0 2 3 2 3 3 2 4 2 3 3 3 3]\n",
      " [3 3 3 3 2 3 2 4 3 3 4 4 3 2 3 3 2 2 0 4 3 3 2 3 2 2 4 3 3 2]\n",
      " [3 2 3 3 4 4 2 3 4 4 4 3 3 4 4 3 3 3 4 0 4 3 2 3 2 2 4 3 2 3]\n",
      " [3 4 3 4 3 2 2 2 2 3 4 3 3 3 3 2 2 2 3 4 0 4 2 4 2 3 3 3 2 3]\n",
      " [4 3 3 2 3 3 2 3 2 4 3 3 4 3 3 3 3 3 3 3 4 0 4 2 3 3 3 3 2 3]\n",
      " [3 2 2 3 3 4 4 3 3 3 4 2 4 4 2 3 3 3 2 2 2 4 0 3 4 4 4 2 4 3]\n",
      " [3 4 2 4 3 3 3 3 3 3 3 3 2 3 4 3 3 2 3 3 4 2 3 0 3 3 2 4 3 3]\n",
      " [4 4 3 4 3 3 4 3 3 2 4 2 4 3 3 4 3 4 2 2 2 3 4 3 0 3 4 4 4 4]\n",
      " [3 2 4 4 3 4 3 4 3 2 2 2 4 4 3 3 3 2 2 2 3 3 4 3 3 0 4 2 2 2]\n",
      " [2 3 2 4 2 4 4 2 4 3 4 3 3 3 3 3 3 3 4 4 3 3 4 2 4 4 0 3 3 2]\n",
      " [3 2 3 2 3 4 2 3 3 4 3 4 3 2 3 3 4 3 3 3 3 3 2 4 4 2 3 0 3 3]\n",
      " [2 4 4 2 2 3 2 3 3 3 4 3 2 3 4 3 3 3 3 2 2 2 4 3 4 2 3 3 0 2]\n",
      " [4 2 4 3 4 3 4 3 3 3 3 3 2 2 3 4 2 3 2 3 3 3 3 3 4 2 2 3 2 0]]\n"
     ]
    }
   ],
   "source": [
    "print(G1.FW())"
   ]
  },
  {
   "cell_type": "markdown",
   "metadata": {},
   "source": [
    "### Runtime of DFS"
   ]
  },
  {
   "cell_type": "markdown",
   "metadata": {},
   "source": [
    "The average end time calculated by DFS is 60.  This makes sense because the runtime should be on order $O(|V| + |E|)$. Considering that DFS will only log times for tree edges, if the number of tree edges is 30 and the number of vertices is 30 the average runtime will be 60."
   ]
  },
  {
   "cell_type": "code",
   "execution_count": 322,
   "metadata": {
    "scrolled": true
   },
   "outputs": [
    {
     "name": "stdout",
     "output_type": "stream",
     "text": [
      "\n",
      "        The average maximum integer time logged by DFS is:\n",
      " \n",
      "        60.0\n",
      "\n",
      "        The average runtime in milliseconds is: \n",
      " \n",
      "        0.0497 ms\n",
      "\n",
      "      \n"
     ]
    }
   ],
   "source": [
    "times = []\n",
    "rts = []\n",
    "for i in range(10000):\n",
    "    G1.mkGraphRand()\n",
    "    G1.DFS()\n",
    "    times.append(G1.getMaxTime())\n",
    "    rts.append(G1.getRt())\n",
    "aveTime = np.mean(times)\n",
    "aveRt = np.mean(rts)\n",
    "print('''\n",
    "        The average maximum integer time logged by DFS is:\\n \n",
    "        {}\\n\n",
    "        The average runtime in milliseconds is: \\n \n",
    "        {} ms\\n\n",
    "      '''.format(aveTime, round(aveRt, 4)))"
   ]
  },
  {
   "cell_type": "markdown",
   "metadata": {},
   "source": [
    "## Question 3"
   ]
  },
  {
   "cell_type": "markdown",
   "metadata": {},
   "source": [
    "Since this is an undirected weighted graph I ran Dijkstra's algorithm on it to find the shortest paths between. The gratest distance found was 10.  I discovered the Floyd Warshall algorithm later on, which could help determine if this was the greatest distance between any two pairs but I did not have enough time to make it functional."
   ]
  },
  {
   "cell_type": "code",
   "execution_count": 324,
   "metadata": {},
   "outputs": [
    {
     "data": {
      "text/plain": [
       "{0: [0, None],\n",
       " 1: [4, 0],\n",
       " 2: [3, 0],\n",
       " 3: [4, 0],\n",
       " 4: [4, 0],\n",
       " 5: [4, 0],\n",
       " 6: [4, 0],\n",
       " 7: [3, 0],\n",
       " 8: [3, 0],\n",
       " 9: [4, 0],\n",
       " 10: [9, 11],\n",
       " 11: [4, 8],\n",
       " 12: [5, 9],\n",
       " 13: [6, 11],\n",
       " 14: [8, 11],\n",
       " 15: [8, 13],\n",
       " 16: [10, 11],\n",
       " 17: [7, 11],\n",
       " 18: [8, 11],\n",
       " 19: [9, 11],\n",
       " 20: [8, 22],\n",
       " 21: [4, 8],\n",
       " 22: [5, 9],\n",
       " 23: [6, 21],\n",
       " 24: [8, 21],\n",
       " 25: [6, 21],\n",
       " 26: [9, 22],\n",
       " 27: [7, 21],\n",
       " 28: [7, 22],\n",
       " 29: [7, 22]}"
      ]
     },
     "execution_count": 324,
     "metadata": {},
     "output_type": "execute_result"
    }
   ],
   "source": [
    "G1.mkGraph()\n",
    "G1.dijkstra()"
   ]
  },
  {
   "cell_type": "markdown",
   "metadata": {},
   "source": [
    "## Question 4"
   ]
  },
  {
   "cell_type": "markdown",
   "metadata": {},
   "source": [
    "Looking at the output of Dijkstra's algorithm above, there is only one point that realized the maximum distance (0, 16) while three pairs of points realize the minimum distance (0,2), (0,7), (0,8)."
   ]
  },
  {
   "cell_type": "markdown",
   "metadata": {},
   "source": [
    "## Question 5"
   ]
  },
  {
   "cell_type": "markdown",
   "metadata": {},
   "source": [
    "The graph does remain connected.  It still consists of three highly connected groupings of vertices that are connected to each other via vertices 8 and 9 (zero-indexed)"
   ]
  },
  {
   "cell_type": "code",
   "execution_count": 325,
   "metadata": {},
   "outputs": [],
   "source": [
    "# adjacency matrix with only 0 or 1\n",
    "random.seed(123)\n",
    "N = 10\n",
    "#a = np.random.random_integers(1,4,size=(N,N))\n",
    "a = np.random.randint(0,2,(N,N))\n",
    "A = (a + a.T)\n",
    "for i in range(N):\n",
    "    A[i,i] = 0\n",
    "    \n",
    "b = np.random.randint(0,2,size=(N,N))\n",
    "B = (b + b.T)\n",
    "for i in range(N):\n",
    "    B[i,i] = 0\n",
    "\n",
    "c = np.random.randint(0,2,size=(N,N))\n",
    "C = (c + c.T)\n",
    "for i in range(N):\n",
    "    C[i,i] = 0\n",
    "Z = np.zeros((N,N), dtype = int)\n",
    "\n",
    "R1 = np.block([np.block([A,Z]), Z])\n",
    "R2 = np.block([np.block([Z,B]), Z])\n",
    "R3 = np.block([np.block([Z,Z]), C])\n",
    "\n",
    "P = np.zeros((3*N, 3*N), dtype=int)\n",
    "for i in range(2):\n",
    "    for j in range(1,3):\n",
    "        P[8+j-1, (i+1)*N+j] = 1\n",
    "P = (P+P.T)\n",
    "\n",
    "M3 = np.block([np.block([R1.T, R2.T]), R3.T]) + P"
   ]
  },
  {
   "cell_type": "code",
   "execution_count": 326,
   "metadata": {},
   "outputs": [
    {
     "name": "stdout",
     "output_type": "stream",
     "text": [
      "[[0 0 1 1 0 0 0 2 1 1 0 0 0 0 0 0 0 0 0 0 0 0 0 0 0 0 0 0 0 0]\n",
      " [0 0 1 0 1 2 0 1 1 2 0 0 0 0 0 0 0 0 0 0 0 0 0 0 0 0 0 0 0 0]\n",
      " [1 1 0 0 0 1 1 2 2 0 0 0 0 0 0 0 0 0 0 0 0 0 0 0 0 0 0 0 0 0]\n",
      " [1 0 0 0 0 1 1 2 0 2 0 0 0 0 0 0 0 0 0 0 0 0 0 0 0 0 0 0 0 0]\n",
      " [0 1 0 0 0 2 1 1 0 1 0 0 0 0 0 0 0 0 0 0 0 0 0 0 0 0 0 0 0 0]\n",
      " [0 2 1 1 2 0 1 2 1 1 0 0 0 0 0 0 0 0 0 0 0 0 0 0 0 0 0 0 0 0]\n",
      " [0 0 1 1 1 1 0 2 1 2 0 0 0 0 0 0 0 0 0 0 0 0 0 0 0 0 0 0 0 0]\n",
      " [2 1 2 2 1 2 2 0 0 2 0 0 0 0 0 0 0 0 0 0 0 0 0 0 0 0 0 0 0 0]\n",
      " [1 1 2 0 0 1 1 0 0 0 0 1 0 0 0 0 0 0 0 0 0 1 0 0 0 0 0 0 0 0]\n",
      " [1 2 0 2 1 1 2 2 0 0 0 0 1 0 0 0 0 0 0 0 0 0 1 0 0 0 0 0 0 0]\n",
      " [0 0 0 0 0 0 0 0 0 0 0 1 1 0 2 2 1 1 1 1 0 0 0 0 0 0 0 0 0 0]\n",
      " [0 0 0 0 0 0 0 0 1 0 1 0 1 1 0 1 0 0 0 2 0 0 0 0 0 0 0 0 0 0]\n",
      " [0 0 0 0 0 0 0 0 0 1 1 1 0 0 1 1 1 1 2 0 0 0 0 0 0 0 0 0 0 0]\n",
      " [0 0 0 0 0 0 0 0 0 0 0 1 0 0 0 0 1 1 0 0 0 0 0 0 0 0 0 0 0 0]\n",
      " [0 0 0 0 0 0 0 0 0 0 2 0 1 0 0 1 0 2 1 1 0 0 0 0 0 0 0 0 0 0]\n",
      " [0 0 0 0 0 0 0 0 0 0 2 1 1 0 1 0 1 1 1 1 0 0 0 0 0 0 0 0 0 0]\n",
      " [0 0 0 0 0 0 0 0 0 0 1 0 1 1 0 1 0 0 0 1 0 0 0 0 0 0 0 0 0 0]\n",
      " [0 0 0 0 0 0 0 0 0 0 1 0 1 1 2 1 0 0 1 2 0 0 0 0 0 0 0 0 0 0]\n",
      " [0 0 0 0 0 0 0 0 0 0 1 0 2 0 1 1 0 1 0 1 0 0 0 0 0 0 0 0 0 0]\n",
      " [0 0 0 0 0 0 0 0 0 0 1 2 0 0 1 1 1 2 1 0 0 0 0 0 0 0 0 0 0 0]\n",
      " [0 0 0 0 0 0 0 0 0 0 0 0 0 0 0 0 0 0 0 0 0 1 2 2 2 0 0 2 0 1]\n",
      " [0 0 0 0 0 0 0 0 1 0 0 0 0 0 0 0 0 0 0 0 1 0 2 0 0 0 1 0 1 1]\n",
      " [0 0 0 0 0 0 0 0 0 1 0 0 0 0 0 0 0 0 0 0 2 2 0 1 1 1 2 1 1 1]\n",
      " [0 0 0 0 0 0 0 0 0 0 0 0 0 0 0 0 0 0 0 0 2 0 1 0 2 0 2 0 1 2]\n",
      " [0 0 0 0 0 0 0 0 0 0 0 0 0 0 0 0 0 0 0 0 2 0 1 2 0 2 1 0 2 1]\n",
      " [0 0 0 0 0 0 0 0 0 0 0 0 0 0 0 0 0 0 0 0 0 0 1 0 2 0 2 0 1 2]\n",
      " [0 0 0 0 0 0 0 0 0 0 0 0 0 0 0 0 0 0 0 0 0 1 2 2 1 2 0 2 0 1]\n",
      " [0 0 0 0 0 0 0 0 0 0 0 0 0 0 0 0 0 0 0 0 2 0 1 0 0 0 2 0 2 1]\n",
      " [0 0 0 0 0 0 0 0 0 0 0 0 0 0 0 0 0 0 0 0 0 1 1 1 2 1 0 2 0 1]\n",
      " [0 0 0 0 0 0 0 0 0 0 0 0 0 0 0 0 0 0 0 0 1 1 1 2 1 2 1 1 1 0]]\n"
     ]
    }
   ],
   "source": [
    "print(M3)"
   ]
  },
  {
   "cell_type": "code",
   "execution_count": 328,
   "metadata": {},
   "outputs": [
    {
     "data": {
      "text/plain": [
       "{0: [(2, 1), (3, 1), (7, 2), (8, 1), (9, 1)],\n",
       " 1: [(2, 1), (4, 1), (5, 2), (7, 1), (8, 1), (9, 2)],\n",
       " 2: [(0, 1), (1, 1), (5, 1), (6, 1), (7, 2), (8, 2)],\n",
       " 3: [(0, 1), (5, 1), (6, 1), (7, 2), (9, 2)],\n",
       " 4: [(1, 1), (5, 2), (6, 1), (7, 1), (9, 1)],\n",
       " 5: [(1, 2), (2, 1), (3, 1), (4, 2), (6, 1), (7, 2), (8, 1), (9, 1)],\n",
       " 6: [(2, 1), (3, 1), (4, 1), (5, 1), (7, 2), (8, 1), (9, 2)],\n",
       " 7: [(0, 2), (1, 1), (2, 2), (3, 2), (4, 1), (5, 2), (6, 2), (9, 2)],\n",
       " 8: [(0, 1), (1, 1), (2, 2), (5, 1), (6, 1), (11, 1), (21, 1)],\n",
       " 9: [(0, 1), (1, 2), (3, 2), (4, 1), (5, 1), (6, 2), (7, 2), (12, 1), (22, 1)],\n",
       " 10: [(11, 1), (12, 1), (14, 2), (15, 2), (16, 1), (17, 1), (18, 1), (19, 1)],\n",
       " 11: [(8, 1), (10, 1), (12, 1), (13, 1), (15, 1), (19, 2)],\n",
       " 12: [(9, 1), (10, 1), (11, 1), (14, 1), (15, 1), (16, 1), (17, 1), (18, 2)],\n",
       " 13: [(11, 1), (16, 1), (17, 1)],\n",
       " 14: [(10, 2), (12, 1), (15, 1), (17, 2), (18, 1), (19, 1)],\n",
       " 15: [(10, 2), (11, 1), (12, 1), (14, 1), (16, 1), (17, 1), (18, 1), (19, 1)],\n",
       " 16: [(10, 1), (12, 1), (13, 1), (15, 1), (19, 1)],\n",
       " 17: [(10, 1), (12, 1), (13, 1), (14, 2), (15, 1), (18, 1), (19, 2)],\n",
       " 18: [(10, 1), (12, 2), (14, 1), (15, 1), (17, 1), (19, 1)],\n",
       " 19: [(10, 1), (11, 2), (14, 1), (15, 1), (16, 1), (17, 2), (18, 1)],\n",
       " 20: [(21, 1), (22, 2), (23, 2), (24, 2), (27, 2), (29, 1)],\n",
       " 21: [(8, 1), (20, 1), (22, 2), (26, 1), (28, 1), (29, 1)],\n",
       " 22: [(9, 1),\n",
       "  (20, 2),\n",
       "  (21, 2),\n",
       "  (23, 1),\n",
       "  (24, 1),\n",
       "  (25, 1),\n",
       "  (26, 2),\n",
       "  (27, 1),\n",
       "  (28, 1),\n",
       "  (29, 1)],\n",
       " 23: [(20, 2), (22, 1), (24, 2), (26, 2), (28, 1), (29, 2)],\n",
       " 24: [(20, 2), (22, 1), (23, 2), (25, 2), (26, 1), (28, 2), (29, 1)],\n",
       " 25: [(22, 1), (24, 2), (26, 2), (28, 1), (29, 2)],\n",
       " 26: [(21, 1), (22, 2), (23, 2), (24, 1), (25, 2), (27, 2), (29, 1)],\n",
       " 27: [(20, 2), (22, 1), (26, 2), (28, 2), (29, 1)],\n",
       " 28: [(21, 1), (22, 1), (23, 1), (24, 2), (25, 1), (27, 2), (29, 1)],\n",
       " 29: [(20, 1),\n",
       "  (21, 1),\n",
       "  (22, 1),\n",
       "  (23, 2),\n",
       "  (24, 1),\n",
       "  (25, 2),\n",
       "  (26, 1),\n",
       "  (27, 1),\n",
       "  (28, 1)]}"
      ]
     },
     "execution_count": 328,
     "metadata": {},
     "output_type": "execute_result"
    }
   ],
   "source": [
    "G3 = Graph(M3)\n",
    "G3.mkGraph()\n",
    "G3.DFS()\n",
    "G3.G"
   ]
  },
  {
   "cell_type": "markdown",
   "metadata": {},
   "source": [
    "## Question 6"
   ]
  },
  {
   "cell_type": "markdown",
   "metadata": {},
   "source": [
    "The runtime does scale as expected.  I included a graph of $f(x) = 2*x + 2$ for comaprison. The added two prevented the graphs from overlapping. Both graphs are linear $\\theta(x)$."
   ]
  },
  {
   "cell_type": "code",
   "execution_count": 329,
   "metadata": {},
   "outputs": [],
   "source": [
    "testM = []\n",
    "for n in range(10,50,2):\n",
    "    random.seed(123)\n",
    "    N = n\n",
    "    #a = np.random.random_integers(1,4,size=(N,N))\n",
    "    a = np.random.randint(1,3,(N,N))\n",
    "    A = (a + a.T)\n",
    "    for i in range(N):\n",
    "        A[i,i] = 0\n",
    "\n",
    "    b = np.random.randint(1,4,size=(N,N))\n",
    "    B = (b + b.T)\n",
    "    for i in range(N):\n",
    "        B[i,i] = 0\n",
    "\n",
    "    c = np.random.randint(1,4,size=(N,N))\n",
    "    C = (c + c.T)\n",
    "    for i in range(N):\n",
    "        C[i,i] = 0\n",
    "    Z = np.zeros((N,N), dtype = int)\n",
    "\n",
    "    R1 = np.block([np.block([A,Z]), Z])\n",
    "    R2 = np.block([np.block([Z,B]), Z])\n",
    "    R3 = np.block([np.block([Z,Z]), C])\n",
    "\n",
    "    P = np.zeros((3*N, 3*N), dtype=int)\n",
    "    for i in range(2):\n",
    "        for j in range(1,3):\n",
    "            P[8+j-1, (i+1)*N+j] = 1\n",
    "    P = (P+P.T)\n",
    "\n",
    "    M = np.block([np.block([R1.T, R2.T]), R3.T]) + P\n",
    "\n",
    "    testM.append(M)"
   ]
  },
  {
   "cell_type": "code",
   "execution_count": 338,
   "metadata": {},
   "outputs": [],
   "source": [
    "runTimes = []\n",
    "times = []\n",
    "\n",
    "for M in testM:\n",
    "    # First a Graph object is instanciated and a graph created within it\n",
    "    G = Graph(M)\n",
    "    G.mkGraph()\n",
    "    G.DFS()\n",
    "    times.append(G.getMaxTime())\n",
    "    runTimes.append(G.getRt())"
   ]
  },
  {
   "cell_type": "code",
   "execution_count": 355,
   "metadata": {},
   "outputs": [
    {
     "data": {
      "text/plain": [
       "Text(0, 0.5, 'Logged DFS time')"
      ]
     },
     "execution_count": 355,
     "metadata": {},
     "output_type": "execute_result"
    },
    {
     "data": {
      "image/png": "[encoded data removed]",
      "text/plain": [
       "<Figure size 720x720 with 1 Axes>"
      ]
     },
     "metadata": {
      "needs_background": "light"
     },
     "output_type": "display_data"
    }
   ],
   "source": [
    "X = [x*3 for x in range(10,50,2)]\n",
    "f = [2*x+2 for x in X]\n",
    "plt.figure(figsize=(10,10))\n",
    "plt.plot(X,times)\n",
    "plt.plot(X,f, linestyle='--')\n",
    "plt.title(\"Logged DFS time versus number of vertices\")\n",
    "plt.xlabel(\"Number of vertices\")\n",
    "plt.ylabel(\"Logged DFS time\")"
   ]
  },
  {
   "cell_type": "code",
   "execution_count": null,
   "metadata": {},
   "outputs": [],
   "source": []
  }
 ],
 "metadata": {
  "kernelspec": {
   "display_name": "Python 3",
   "language": "python",
   "name": "python3"
  },
  "language_info": {
   "codemirror_mode": {
    "name": "ipython",
    "version": 3
   },
   "file_extension": ".py",
   "mimetype": "text/x-python",
   "name": "python",
   "nbconvert_exporter": "python",
   "pygments_lexer": "ipython3",
   "version": "3.8.3"
  }
 },
 "nbformat": 4,
 "nbformat_minor": 4
}
