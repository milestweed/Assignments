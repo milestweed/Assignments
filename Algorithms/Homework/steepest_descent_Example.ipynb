{
 "cells": [
  {
   "cell_type": "code",
   "execution_count": 12,
   "metadata": {
    "id": "uO9aWZoIQsgJ"
   },
   "outputs": [],
   "source": [
    "import numpy as np\n",
    "import matplotlib.pyplot as plt\n"
   ]
  },
  {
   "cell_type": "code",
   "execution_count": 5,
   "metadata": {
    "id": "uGEm5NozQg3U"
   },
   "outputs": [],
   "source": [
    "def f(x):\n",
    "    return np.cos(x**3)-x**2+x-1"
   ]
  },
  {
   "cell_type": "code",
   "execution_count": 6,
   "metadata": {
    "id": "tNwgJyQsTVCm"
   },
   "outputs": [],
   "source": [
    "# setup\n",
    "def get_xy(x_arange):\n",
    "  x1, x2, x_bins = x_arange\n",
    "  X = np.linspace(x1, x2, x_bins)\n",
    "  Y = f(X)\n",
    "  \n",
    "  return X, Y"
   ]
  },
  {
   "cell_type": "code",
   "execution_count": 7,
   "metadata": {
    "colab": {
     "base_uri": "https://localhost:8080/",
     "height": 374
    },
    "id": "U5THsRVDTmwu",
    "outputId": "4c0de622-d14f-4768-b8ba-5795f87e5d1f"
   },
   "outputs": [
    {
     "data": {
      "image/png": "[encoded data removed]",
      "text/plain": [
       "<Figure size 1080x432 with 1 Axes>"
      ]
     },
     "metadata": {
      "needs_background": "light"
     },
     "output_type": "display_data"
    }
   ],
   "source": [
    "# figure dim 2x0x1\n",
    "fig = plt.figure(figsize=(15, 6))\n",
    "\n",
    "#===============\n",
    "# plot overview\n",
    "#===============\n",
    "X, Y = get_xy([-2, 2, 1000])\n",
    "\n",
    "plt.plot(X,Y)\n",
    "\n",
    "plt.show()"
   ]
  },
  {
   "cell_type": "code",
   "execution_count": 8,
   "metadata": {
    "id": "apL4mfu0WnNx"
   },
   "outputs": [],
   "source": [
    "def grad_f(x):\n",
    "    # returns gradient of f at x_k\n",
    "    return -3*x**2*np.sin(x**3) - 2*x + 1"
   ]
  },
  {
   "cell_type": "code",
   "execution_count": 9,
   "metadata": {
    "id": "bUmMaCGBW65n"
   },
   "outputs": [],
   "source": [
    "# steepest ascent algorithm\n",
    "\n",
    "def alpha(x_k):\n",
    "    return 0.1\n",
    "\n",
    "def x_k_1(x_k):\n",
    "    a_k = alpha(x_k)\n",
    "    grad_f_x_k = grad_f(x_k)\n",
    "    x_k_1 = x_k + a_k * grad_f(x_k)\n",
    "    return x_k_1\n",
    "\n",
    "def steepest_asc(x_0):\n",
    "    # arrays to store descent progress at each k\n",
    "    X = [x_0]\n",
    "\n",
    "    epsilon = 10 ** (-8)\n",
    "\n",
    "    for k in range(10 ** 4):  # i want to stop after at most k = 10**4-1\n",
    "        if np.abs(grad_f(X[-1])) >= epsilon:\n",
    "            next_X = x_k_1(X[-1])\n",
    "            X.append(next_X)\n",
    "        else:\n",
    "            break\n",
    "    return [len(X), X]"
   ]
  },
  {
   "cell_type": "code",
   "execution_count": 10,
   "metadata": {
    "colab": {
     "base_uri": "https://localhost:8080/"
    },
    "id": "nEbFuBV2XEw0",
    "outputId": "0a170f8f-1ef8-4e1b-e4b6-0a06a260ac1a"
   },
   "outputs": [
    {
     "name": "stdout",
     "output_type": "stream",
     "text": [
      "maximum 0.4668079931572603\n",
      "steps taken 65\n"
     ]
    }
   ],
   "source": [
    "# answer question\n",
    "min_point = np.array([0.5, 1 / 16])\n",
    "x_0 = -0.5\n",
    "\n",
    "steps, X = steepest_asc(x_0)\n",
    "print(\"maximum\", X[-1])\n",
    "print(\"steps taken\", steps)"
   ]
  },
  {
   "cell_type": "code",
   "execution_count": null,
   "metadata": {},
   "outputs": [],
   "source": []
  },
  {
   "cell_type": "code",
   "execution_count": null,
   "metadata": {},
   "outputs": [],
   "source": []
  },
  {
   "cell_type": "code",
   "execution_count": null,
   "metadata": {},
   "outputs": [],
   "source": []
  },
  {
   "cell_type": "code",
   "execution_count": null,
   "metadata": {},
   "outputs": [],
   "source": []
  },
  {
   "cell_type": "code",
   "execution_count": 11,
   "metadata": {},
   "outputs": [
    {
     "name": "stdout",
     "output_type": "stream",
     "text": [
      "(-5, -5, array([[0.5   ],\n",
      "       [0.0625]]))\n"
     ]
    }
   ],
   "source": [
    "#LIST TO APPEND THINGS TO\n",
    "answer_list = []\n",
    "\n",
    "# CREATING THE GRADIENT EQUATION\n",
    "def gradient(x,y):\n",
    "    return np.array([[2*x-1], [16*y-1]])\n",
    "\n",
    "# DEFINING THE HESSIAN\n",
    "hessian = np.array([[(1/2),0], [0, (1/16)]])\n",
    "\n",
    "# IMPLEMENTING NEWTON'S METHOD FOR EACH OF THE STARTING POINTS\n",
    "for i in range(-5,6):\n",
    "    for j in range(-5,6):\n",
    "       \n",
    "        x = np.array([[i], [j]])\n",
    "\n",
    "        # Always finds it in one iteration because the function is in quadratic form\n",
    "        # so there is no need for a while loop.\n",
    "\n",
    "        x_star = x - np.matmul(hessian, gradient(x[0][0], x[1][0]))\n",
    "        \n",
    "        answer_list.append((i,j,x_star))\n",
    "\n",
    "\n",
    "# EVERY SINGLE TUPLE IN THE ANSWER LIST IS GOING TO LOOK VIRTUALLY THE SAME, SO I'M ONLY \n",
    "# PRINTING THE 1ST ONE\n",
    "\n",
    "print(answer_list[0])"
   ]
  },
  {
   "cell_type": "code",
   "execution_count": null,
   "metadata": {},
   "outputs": [],
   "source": []
  },
  {
   "cell_type": "code",
   "execution_count": 13,
   "metadata": {},
   "outputs": [],
   "source": [
    "B = np.eye(2)"
   ]
  },
  {
   "cell_type": "code",
   "execution_count": 14,
   "metadata": {},
   "outputs": [
    {
     "data": {
      "text/plain": [
       "array([[1., 0.],\n",
       "       [0., 1.]])"
      ]
     },
     "execution_count": 14,
     "metadata": {},
     "output_type": "execute_result"
    }
   ],
   "source": [
    "B"
   ]
  },
  {
   "cell_type": "code",
   "execution_count": 15,
   "metadata": {},
   "outputs": [
    {
     "data": {
      "text/plain": [
       "2"
      ]
     },
     "execution_count": 15,
     "metadata": {},
     "output_type": "execute_result"
    }
   ],
   "source": [
    "x.shape[0]"
   ]
  }
 ],
 "metadata": {
  "colab": {
   "collapsed_sections": [],
   "name": "Untitled0.ipynb",
   "provenance": []
  },
  "kernelspec": {
   "display_name": "Python 3",
   "language": "python",
   "name": "python3"
  },
  "language_info": {
   "codemirror_mode": {
    "name": "ipython",
    "version": 3
   },
   "file_extension": ".py",
   "mimetype": "text/x-python",
   "name": "python",
   "nbconvert_exporter": "python",
   "pygments_lexer": "ipython3",
   "version": "3.8.3"
  }
 },
 "nbformat": 4,
 "nbformat_minor": 1
}
