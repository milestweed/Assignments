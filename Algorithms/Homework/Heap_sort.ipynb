{
 "cells": [
  {
   "cell_type": "markdown",
   "metadata": {},
   "source": [
    "# Assignment 3 - Heap Search\n",
    "### Miles Tweed"
   ]
  },
  {
   "cell_type": "markdown",
   "metadata": {},
   "source": [
    "Heap search first requires a max heap which in turn requires the max-heapify function"
   ]
  },
  {
   "cell_type": "markdown",
   "metadata": {},
   "source": [
    "### Import Statements"
   ]
  },
  {
   "cell_type": "code",
   "execution_count": 199,
   "metadata": {},
   "outputs": [],
   "source": [
    "from random import randint\n",
    "import matplotlib.pyplot as plt\n",
    "import numpy as np"
   ]
  },
  {
   "cell_type": "markdown",
   "metadata": {},
   "source": [
    "#### Max Heapify"
   ]
  },
  {
   "cell_type": "code",
   "execution_count": 1,
   "metadata": {},
   "outputs": [],
   "source": [
    "def max_heapify(A, stop, n = 0, i = 0):\n",
    "    '''\n",
    "    INPUT:  (A)    - a list,\n",
    "            (stop) - an index position indicating how much of the list to max_heapify,\n",
    "            (n)    - a passthrough step counting variable,\n",
    "            (i)    - an index position indicating where to begin to heapify\n",
    "    RETURN: (n)    - a step count\n",
    "    '''\n",
    "    largest = i\n",
    "    left_arg = 2*i + 1\n",
    "    right_arg = 2*i + 2\n",
    "    n+=4                                                        # assign variables and check if\n",
    "    if left_arg < stop:\n",
    "        n+=1                                                    # check if\n",
    "        if left_arg < (stop) and A[left_arg] > A[i]:\n",
    "            n+=1                                                # assign largest\n",
    "            largest = left_arg\n",
    "        else:\n",
    "            n+=1                                                # assign largest\n",
    "            largest = i \n",
    "    \n",
    "    n+=1                                                        # check if\n",
    "    if right_arg < stop:\n",
    "        n+=1                                                    # check if\n",
    "        if right_arg < (stop) and A[right_arg] > A[largest]:\n",
    "            n+=1.                                               # assign largest\n",
    "            largest = right_arg\n",
    "    n+=1                                                        # check if\n",
    "    if largest != i:\n",
    "        n+=1                                                    # make switch\n",
    "        A[i], A[largest] = A[largest], A[i]\n",
    "        max_heapify(A,stop = stop,n=n, i=largest)\n",
    "\n",
    "    return n"
   ]
  },
  {
   "cell_type": "markdown",
   "metadata": {},
   "source": [
    "#### Build Max Heap"
   ]
  },
  {
   "cell_type": "code",
   "execution_count": 2,
   "metadata": {},
   "outputs": [],
   "source": [
    "def build_max_heap(A, n=0):\n",
    "    '''\n",
    "    INPUT:  (A)    - a list,\n",
    "            (n)    - a passthrough step counting variable\n",
    "    RETURN: (n)    - a step count\n",
    "    '''\n",
    "    x = len(A)\n",
    "    n+= 1                                           # assign x\n",
    "    for i in range(int(x/2), -1, -1):\n",
    "        n+=1                                        # assign i\n",
    "        max_heapify(A,stop=len(A), n=n ,i=i)\n",
    "    return n"
   ]
  },
  {
   "cell_type": "markdown",
   "metadata": {},
   "source": [
    "#### Heap Sort"
   ]
  },
  {
   "cell_type": "code",
   "execution_count": 3,
   "metadata": {},
   "outputs": [],
   "source": [
    "def heap_sort(A, n = 0):\n",
    "    '''\n",
    "    INPUT:  (A)    - a list,\n",
    "            (n)    - a passthrough step counting variable\n",
    "    RETURN: (n)    - a step count\n",
    "    '''\n",
    "    n += build_max_heap(A)\n",
    "    for i in range((len(A)-1),1, -1):\n",
    "        n+= 2                                      # assign i and make switch\n",
    "        A[0], A[i] = A[i], A[0]\n",
    "        max_heapify(A, stop=(i-1), n=n)\n",
    "    return n"
   ]
  },
  {
   "cell_type": "markdown",
   "metadata": {},
   "source": [
    "## Initial Test\n",
    "\n",
    "To test the functionality of heap sort an unordered list A is created"
   ]
  },
  {
   "cell_type": "code",
   "execution_count": 4,
   "metadata": {},
   "outputs": [],
   "source": [
    "A = [2, 10, 5, 8, 4, 5, 1, 6, 7]"
   ]
  },
  {
   "cell_type": "markdown",
   "metadata": {},
   "source": [
    "Passing the list into heap sort return the number of steps it too to sort the list"
   ]
  },
  {
   "cell_type": "code",
   "execution_count": 5,
   "metadata": {
    "scrolled": true
   },
   "outputs": [
    {
     "data": {
      "text/plain": [
       "20"
      ]
     },
     "execution_count": 5,
     "metadata": {},
     "output_type": "execute_result"
    }
   ],
   "source": [
    "heap_sort(A)"
   ]
  },
  {
   "cell_type": "markdown",
   "metadata": {},
   "source": [
    "The list has been properly sorted"
   ]
  },
  {
   "cell_type": "code",
   "execution_count": 6,
   "metadata": {},
   "outputs": [
    {
     "data": {
      "text/plain": [
       "[1, 2, 4, 5, 5, 6, 7, 8, 10]"
      ]
     },
     "execution_count": 6,
     "metadata": {},
     "output_type": "execute_result"
    }
   ],
   "source": [
    "A"
   ]
  },
  {
   "cell_type": "markdown",
   "metadata": {},
   "source": [
    "## Run Time Tests\n",
    "The following code averages out the step counts for 1000 random lists ranging in size from 20 to 800."
   ]
  },
  {
   "cell_type": "code",
   "execution_count": 192,
   "metadata": {
    "scrolled": false
   },
   "outputs": [
    {
     "data": {
      "text/plain": [
       "{'20': 48.0,\n",
       " '40': 98.0,\n",
       " '60': 148.0,\n",
       " '80': 198.0,\n",
       " '100': 248.0,\n",
       " '120': 298.0,\n",
       " '140': 348.0,\n",
       " '160': 398.0,\n",
       " '180': 448.0,\n",
       " '200': 498.0,\n",
       " '220': 548.0,\n",
       " '240': 598.0,\n",
       " '260': 648.0,\n",
       " '280': 698.0,\n",
       " '300': 748.0,\n",
       " '320': 798.0,\n",
       " '340': 848.0,\n",
       " '360': 898.0,\n",
       " '380': 948.0,\n",
       " '400': 998.0,\n",
       " '420': 1048.0,\n",
       " '440': 1098.0,\n",
       " '460': 1148.0,\n",
       " '480': 1198.0,\n",
       " '500': 1248.0,\n",
       " '520': 1298.0,\n",
       " '540': 1348.0,\n",
       " '560': 1398.0,\n",
       " '580': 1448.0,\n",
       " '600': 1498.0,\n",
       " '620': 1548.0,\n",
       " '640': 1598.0,\n",
       " '660': 1648.0,\n",
       " '680': 1698.0,\n",
       " '700': 1748.0,\n",
       " '720': 1798.0,\n",
       " '740': 1848.0,\n",
       " '760': 1898.0,\n",
       " '780': 1948.0,\n",
       " '800': 1998.0}"
      ]
     },
     "execution_count": 192,
     "metadata": {},
     "output_type": "execute_result"
    }
   ],
   "source": [
    "averages = {}\n",
    "for i in range(1,41):\n",
    "    test_list = [[randint(1,100) for x in range((i*20))] for x in range(1000)]\n",
    "    step_counts = []\n",
    "    for j in range(1000):\n",
    "        step_counts.append(heap_sort(test_list[j]))\n",
    "    averages['{}'.format(i*20)] = sum(step_counts)/1000\n",
    "averages"
   ]
  },
  {
   "cell_type": "markdown",
   "metadata": {},
   "source": [
    "## Plotting and Thoretical Comparison"
   ]
  },
  {
   "cell_type": "markdown",
   "metadata": {},
   "source": [
    "The worst case runtime of heap sort should be on the order of $\\text{O}(n\\log_2{n})$. The run time from the test will be plotted against this function as well as the function $y=x$."
   ]
  },
  {
   "cell_type": "code",
   "execution_count": 208,
   "metadata": {},
   "outputs": [],
   "source": [
    "X = np.linspace(20,800,40)\n",
    "f = [x*np.log2(x) for x in X]"
   ]
  },
  {
   "cell_type": "markdown",
   "metadata": {},
   "source": [
    "This converts the keys to a list of integers."
   ]
  },
  {
   "cell_type": "code",
   "execution_count": 209,
   "metadata": {},
   "outputs": [],
   "source": [
    "list_length = [int(x) for x in list(averages.keys())]"
   ]
  },
  {
   "cell_type": "markdown",
   "metadata": {},
   "source": [
    "The graph shows that heap sort ran better than the theoretical runtime of $n\\log_2(n)$"
   ]
  },
  {
   "cell_type": "code",
   "execution_count": 210,
   "metadata": {},
   "outputs": [
    {
     "data": {
      "image/png": "[encoded data removed]",
      "text/plain": [
       "<Figure size 864x576 with 1 Axes>"
      ]
     },
     "metadata": {
      "needs_background": "light"
     },
     "output_type": "display_data"
    }
   ],
   "source": [
    "plt.figure(figsize = (12,8))\n",
    "plt.plot(list_length, list(averages.values()), color = 'cyan', label = 'Heap Sort')\n",
    "plt.plot(X,f, color = 'magenta', label = '$y=n\\log_2(n)$')\n",
    "plt.plot(X,X, color = 'grey', label = 'y=x')\n",
    "plt.yscale('linear')\n",
    "plt.legend()\n",
    "plt.title('Avg. Runtime')\n",
    "plt.ylabel('Average number of steps')\n",
    "plt.xlabel('Size of input array')\n",
    "plt.savefig('average_runtime_plot.pdf')"
   ]
  }
 ],
 "metadata": {
  "kernelspec": {
   "display_name": "Python 3",
   "language": "python",
   "name": "python3"
  },
  "language_info": {
   "codemirror_mode": {
    "name": "ipython",
    "version": 3
   },
   "file_extension": ".py",
   "mimetype": "text/x-python",
   "name": "python",
   "nbconvert_exporter": "python",
   "pygments_lexer": "ipython3",
   "version": "3.8.3"
  }
 },
 "nbformat": 4,
 "nbformat_minor": 4
}
