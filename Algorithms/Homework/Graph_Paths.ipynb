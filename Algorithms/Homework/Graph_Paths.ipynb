{
 "cells": [
  {
   "cell_type": "markdown",
   "metadata": {},
   "source": [
    "#### Import Statements"
   ]
  },
  {
   "cell_type": "code",
   "execution_count": 1,
   "metadata": {},
   "outputs": [],
   "source": [
    "import numpy as np"
   ]
  },
  {
   "cell_type": "markdown",
   "metadata": {},
   "source": [
    "#### Graph Class"
   ]
  },
  {
   "cell_type": "code",
   "execution_count": 2,
   "metadata": {},
   "outputs": [],
   "source": [
    "class Graph():\n",
    "    \n",
    "    from random import shuffle\n",
    "    from time import time\n",
    "    import numpy as np\n",
    "    \n",
    "    def __init__(self, M):\n",
    "        # Everything is based off of an adjacency matrix\n",
    "        self.M = M\n",
    "        \n",
    "    def mkGraph(self):\n",
    "        # Initialize a dictionary object for the graph\n",
    "        graph = dict()\n",
    "        \n",
    "        # Each row in M is a key in the graph\n",
    "        for i in range(len(self.M)):\n",
    "            graph[i] = []\n",
    "            # Add each connection and weight if not zero\n",
    "            for j in range (len(self.M[i])):\n",
    "                if self.M[i][j] != 0:\n",
    "                    graph[i].append((j,self.M[i][j]))\n",
    "        self.G = graph\n",
    "        self.vertices = list(range(len(self.G)))\n",
    "    \n",
    "    def BFS(self):\n",
    "        Color = ['w' for x in range(len(self.M))]\n",
    "        Pred  = [None for x in range(len(self.M))]\n",
    "        Dist  = [self.np.infty for x in range(len(self.M))]\n",
    "        \n",
    "        s = self.vertices[0]\n",
    "        \n",
    "        Color[s] = 'y'\n",
    "        Dist[s]  = 0\n",
    "        Pred[s]  = None\n",
    "        Q = [s]\n",
    "        while len(Q) != 0:\n",
    "            u = Q.pop(0)\n",
    "            for V in self.G[u]:\n",
    "                v = V[0]\n",
    "                w = V[1]\n",
    "                if Color[v] == 'w':\n",
    "                    Color[v] = 'y'\n",
    "                    Dist[v] = Dist[u] + w\n",
    "                    Pred[v] = u\n",
    "                    Q.append(v)\n",
    "            Color[u] = 'r'\n",
    "        \n",
    "        results = [(x, Dist[x], Pred[x], Color[x]) for x in range(len(Color))]\n",
    "        \n",
    "        return results\n",
    "    \n",
    "    def DFSvisit(self, u):\n",
    "        #Update the start time and color of u\n",
    "        self.t += 1\n",
    "        self.uStart[u] = self.t\n",
    "        self.uColor[u] = 'y'\n",
    "        \n",
    "        # neighbors are every vertex in the graph with key u\n",
    "        neighbors = sorted([x[0] for x in self.G[u]])\n",
    "        \n",
    "        # run DFSvisit on the neighbor if it had not been visited yet\n",
    "        for v in neighbors:\n",
    "            if self.uColor[v] == 'w':\n",
    "                self.uPred[v] = u\n",
    "                self.DFSvisit(v)\n",
    "        \n",
    "        # Update stoptime and color for u\n",
    "        self.uColor[u] = 'r'\n",
    "        self.t += 1\n",
    "        self.uStop[u] = self.t\n",
    "        self.rt_stp = self.time()\n",
    "        self.rt = (self.rt_stp - self.rt_strt)*10**3\n",
    "        \n",
    "    def DFS(self):\n",
    "        # Initialize CPU time\n",
    "        self.rt_strt = self.time()\n",
    "        \n",
    "        # These lists store the results of DFS\n",
    "        self.uColor = ['w' for x in range(len(self.M))]\n",
    "        self.uPred  = [None for x in range(len(self.M))]\n",
    "        self.uStart = [None for x in range(len(self.M))]\n",
    "        self.uStop  = [None for x in range(len(self.M))]\n",
    "        \n",
    "        # Initialize the visit time\n",
    "        self.t = 0\n",
    "        \n",
    "        # for each vertex Perform DFSvisit\n",
    "        for u in self.vertices:\n",
    "            if self.uColor[u] == 'w':\n",
    "                self.DFSvisit(u)\n",
    "                \n",
    "    def topoSort(self):\n",
    "        # Topo sort requires the stop times for each vertex\n",
    "        endTimes = self.uStop\n",
    "        vert = self.vertices\n",
    "        \n",
    "        # combine the vertices and endtimes as tuples\n",
    "        ts = [(vert[i],endTimes[i]) for i in range(len(vert))]\n",
    "        # Sort by descending end time\n",
    "        ts = sorted(ts, key=lambda x: x[1], reverse = True)\n",
    "        return ts\n",
    "    \n",
    "    def DAG_Shotest_Path(self):\n",
    "        \n",
    "        self.edges = []\n",
    "        for i in range(len(self.G)):\n",
    "            for j in range(len(self.G[i])):\n",
    "                temp = [i,self.G[i][j][0]]\n",
    "                self.edges.append((temp[0], temp[1], self.G[i][j][1]))\n",
    "        self.edges = set(self.edges)\n",
    "        ts = [x[0] for x in self.topoSort()]\n",
    "\n",
    "        relaxed = {ts[0]:[0,None]}\n",
    "        for i in range(1,len(ts)):\n",
    "            relaxed[ts[i]] = [self.np.infty, None]\n",
    "\n",
    "        for i in range(len(ts)):\n",
    "            for edge in self.edges:\n",
    "                u = edge[0]\n",
    "                v = edge[1]\n",
    "                w = edge[2]\n",
    "                if relaxed[u][0] + w < relaxed[v][0]:\n",
    "                    relaxed[v][0] = relaxed[u][0] + w\n",
    "                    relaxed[v][1] = u\n",
    "\n",
    "        return relaxed\n",
    "                \n",
    "        \n",
    "    def BellmanFord(self):\n",
    "        vert = self.vertices\n",
    "        \n",
    "        #initialize single source [distance, predecessor]\n",
    "        relaxed = {vert[0]:[0,None]}\n",
    "        for i in range(1,len(vert)):\n",
    "            relaxed[vert[i]] = [self.np.infty, None]\n",
    "            \n",
    "            \n",
    "        self.edges = []\n",
    "        for i in range(len(self.G)):\n",
    "            for j in range(len(self.G[i])):\n",
    "                temp = [i,self.G[i][j][0]]\n",
    "                self.edges.append((temp[0], temp[1], self.G[i][j][1]))\n",
    "        self.edges = set(self.edges)\n",
    "        \n",
    "        for i in range(len(vert)):\n",
    "            for edge in self.edges:\n",
    "                u = edge[0]\n",
    "                v = edge[1]\n",
    "                w = edge[2]\n",
    "                if relaxed[u][0] + w < relaxed[v][0]:\n",
    "                    relaxed[v][0] = relaxed[u][0] + w\n",
    "                    relaxed[v][1] = u\n",
    "        for edge in self.edges:\n",
    "            w = edge[2]\n",
    "            v = edge[1]\n",
    "            u = edge[0]\n",
    "            if relaxed[v][0] > relaxed[u][0] + w:\n",
    "                return False\n",
    "        return True, relaxed\n",
    "\n",
    "        \n",
    "    def dijkstra(self):\n",
    "        vert = self.vertices\n",
    "\n",
    "        #initialize single source [distance, predecessor]\n",
    "        relaxed = {vert[0]:[0,None]}\n",
    "        for i in range(1,len(vert)):\n",
    "            relaxed[vert[i]] = [self.np.infty, None]\n",
    "\n",
    "        # Initialize the Q with the first vertex [vertex, weight]\n",
    "        Q = [(vert[0],0)]\n",
    "\n",
    "        while len(Q) != 0:\n",
    "\n",
    "            # Extract the first element in the Min Q\n",
    "            U = Q.pop(0)\n",
    "            u = U[0]\n",
    "            \n",
    "            # check the adjacent vertices and update\n",
    "            for V in self.G[u]:\n",
    "                v = V[0]\n",
    "                w = V[1]\n",
    "                if relaxed[u][0] + w < relaxed[v][0]:\n",
    "                    relaxed[v][0] = relaxed[u][0] + w\n",
    "                    relaxed[v][1] = u\n",
    "\n",
    "            # Update the min Q\n",
    "            for con in self.G[u]:\n",
    "                Q.append(con)\n",
    "                Q = sorted(Q, key=lambda x: x[1])\n",
    "\n",
    "        return relaxed\n",
    "    \n",
    "    def FW(self):\n",
    "        M = self.M.astype('float')\n",
    "        # init M with infinity everywhere except the diagonal and where weights exist\n",
    "        for i in range(len(M)):\n",
    "            for j in range(len(M)):\n",
    "                if i == j:\n",
    "                    M[i][j] = 0\n",
    "                elif M[i][j] == 0:\n",
    "                    M[i][j] = self.np.infty\n",
    "\n",
    "        #List to keep track of previous matrix\n",
    "        D = [M]\n",
    "        # Update the arrays with the lowest connection\n",
    "        n = len(M)\n",
    "        for k in range(1,n):\n",
    "            Dk = D[k-1]\n",
    "            for i in range(n):\n",
    "                for j in range(n):\n",
    "                    Dk[i][j] = min([D[k-1][i][j], D[k-1][i][k] + D[k-1][k][j]])\n",
    "            D.append(Dk)\n",
    "        return D[n-1]\n",
    "    \n",
    "    def getMaxTime(self):\n",
    "        try:\n",
    "            return max(self.uStop)\n",
    "        except NameError:\n",
    "            print('DFS must be called first.')\n",
    "    \n",
    "    def getRt(self):\n",
    "        try:\n",
    "            return self.rt\n",
    "        except NameError:\n",
    "            print('DFS must be called first.')\n",
    "    \n",
    "    def showGraph(self):\n",
    "        try:\n",
    "            print(self.G)\n",
    "        except NameError:\n",
    "            self.mkGraph()\n",
    "            return self.G\n",
    "        \n",
    "    def getEdges(self):\n",
    "        try:\n",
    "            return self.edges\n",
    "        except:\n",
    "            self.edges = []\n",
    "            for i in range(len(self.G)):\n",
    "                for j in range(len(self.G[i])):\n",
    "                    temp = sorted([i,self.G[i][j][0]])\n",
    "                    self.edges.append((temp[0], temp[1], self.G[i][j][1]))\n",
    "            self.edges = set(self.edges)\n",
    "            return self.edges\n",
    "            \n",
    "    def getEdgesNW(self):\n",
    "        edges = []\n",
    "        for i in range(len(self.G)):\n",
    "            for j in range(len(self.G[i])):\n",
    "                temp = sorted([i,self.G[i][j][0]])\n",
    "                edges.append((temp[0], temp[1]))\n",
    "        edges = list(set(edges))\n",
    "        return edges\n",
    "        \n",
    "    def __str__(self):\n",
    "        return 'This object contains the graph and\\nassociated method for the following\\nmatrix\\n{}'.format(M)"
   ]
  },
  {
   "cell_type": "markdown",
   "metadata": {},
   "source": [
    "### Graph Edges"
   ]
  },
  {
   "cell_type": "code",
   "execution_count": 3,
   "metadata": {},
   "outputs": [],
   "source": [
    "np.random.seed(123)\n",
    "EL = []\n",
    "N = 10\n",
    "for k in range(1,6):\n",
    "    EL.append([0,k,np.random.randint(1,N)])\n",
    "for k in range(1,11):\n",
    "    for j in range(11,15):\n",
    "        T1=np.random.randint(0,2)\n",
    "        if T1==1:\n",
    "            EL.append([k,j,np.random.randint(1,N)])\n",
    "for k in range(11,15):\n",
    "    for j in range(15,20):\n",
    "        T2=np.random.randint(0,2)\n",
    "        if T2==1:\n",
    "            EL.append([k,j,np.random.randint(1,N)])\n",
    "for k in range(15,20):\n",
    "    EL.append([k,20, np.random.randint(1,N)])"
   ]
  },
  {
   "cell_type": "code",
   "execution_count": 4,
   "metadata": {},
   "outputs": [
    {
     "data": {
      "text/plain": [
       "[[0, 1, 3],\n",
       " [0, 2, 3],\n",
       " [0, 3, 7],\n",
       " [0, 4, 2],\n",
       " [0, 5, 4],\n",
       " [1, 12, 7],\n",
       " [1, 13, 1],\n",
       " [1, 14, 1],\n",
       " [2, 13, 4],\n",
       " [3, 11, 5],\n",
       " [4, 11, 8],\n",
       " [4, 12, 3],\n",
       " [4, 14, 3],\n",
       " [5, 12, 9],\n",
       " [5, 13, 1],\n",
       " [5, 14, 4],\n",
       " [7, 11, 6],\n",
       " [7, 14, 3],\n",
       " [8, 11, 9],\n",
       " [8, 12, 6],\n",
       " [8, 14, 3],\n",
       " [9, 14, 3],\n",
       " [10, 12, 5],\n",
       " [10, 14, 4],\n",
       " [11, 19, 5],\n",
       " [12, 15, 7],\n",
       " [12, 16, 2],\n",
       " [12, 17, 6],\n",
       " [12, 18, 3],\n",
       " [13, 16, 3],\n",
       " [13, 17, 2],\n",
       " [13, 18, 6],\n",
       " [13, 19, 1],\n",
       " [14, 16, 2],\n",
       " [14, 18, 4],\n",
       " [14, 19, 6],\n",
       " [15, 20, 8],\n",
       " [16, 20, 3],\n",
       " [17, 20, 4],\n",
       " [18, 20, 4],\n",
       " [19, 20, 4]]"
      ]
     },
     "execution_count": 4,
     "metadata": {},
     "output_type": "execute_result"
    }
   ],
   "source": [
    "EL"
   ]
  },
  {
   "cell_type": "markdown",
   "metadata": {},
   "source": [
    "# Problem 1"
   ]
  },
  {
   "cell_type": "markdown",
   "metadata": {},
   "source": [
    "The following is the adjacency matrix for the list of edges given."
   ]
  },
  {
   "cell_type": "code",
   "execution_count": 5,
   "metadata": {},
   "outputs": [],
   "source": [
    "AM = np.array([[0 for n in range(21)] for m in range(21)])"
   ]
  },
  {
   "cell_type": "code",
   "execution_count": 6,
   "metadata": {},
   "outputs": [],
   "source": [
    "for edge in EL:\n",
    "    i,j,w = edge[0],edge[1],edge[2]\n",
    "    AM[i][j] = w"
   ]
  },
  {
   "cell_type": "code",
   "execution_count": 7,
   "metadata": {},
   "outputs": [
    {
     "data": {
      "text/plain": [
       "array([[0, 3, 3, 7, 2, 4, 0, 0, 0, 0, 0, 0, 0, 0, 0, 0, 0, 0, 0, 0, 0],\n",
       "       [0, 0, 0, 0, 0, 0, 0, 0, 0, 0, 0, 0, 7, 1, 1, 0, 0, 0, 0, 0, 0],\n",
       "       [0, 0, 0, 0, 0, 0, 0, 0, 0, 0, 0, 0, 0, 4, 0, 0, 0, 0, 0, 0, 0],\n",
       "       [0, 0, 0, 0, 0, 0, 0, 0, 0, 0, 0, 5, 0, 0, 0, 0, 0, 0, 0, 0, 0],\n",
       "       [0, 0, 0, 0, 0, 0, 0, 0, 0, 0, 0, 8, 3, 0, 3, 0, 0, 0, 0, 0, 0],\n",
       "       [0, 0, 0, 0, 0, 0, 0, 0, 0, 0, 0, 0, 9, 1, 4, 0, 0, 0, 0, 0, 0],\n",
       "       [0, 0, 0, 0, 0, 0, 0, 0, 0, 0, 0, 0, 0, 0, 0, 0, 0, 0, 0, 0, 0],\n",
       "       [0, 0, 0, 0, 0, 0, 0, 0, 0, 0, 0, 6, 0, 0, 3, 0, 0, 0, 0, 0, 0],\n",
       "       [0, 0, 0, 0, 0, 0, 0, 0, 0, 0, 0, 9, 6, 0, 3, 0, 0, 0, 0, 0, 0],\n",
       "       [0, 0, 0, 0, 0, 0, 0, 0, 0, 0, 0, 0, 0, 0, 3, 0, 0, 0, 0, 0, 0],\n",
       "       [0, 0, 0, 0, 0, 0, 0, 0, 0, 0, 0, 0, 5, 0, 4, 0, 0, 0, 0, 0, 0],\n",
       "       [0, 0, 0, 0, 0, 0, 0, 0, 0, 0, 0, 0, 0, 0, 0, 0, 0, 0, 0, 5, 0],\n",
       "       [0, 0, 0, 0, 0, 0, 0, 0, 0, 0, 0, 0, 0, 0, 0, 7, 2, 6, 3, 0, 0],\n",
       "       [0, 0, 0, 0, 0, 0, 0, 0, 0, 0, 0, 0, 0, 0, 0, 0, 3, 2, 6, 1, 0],\n",
       "       [0, 0, 0, 0, 0, 0, 0, 0, 0, 0, 0, 0, 0, 0, 0, 0, 2, 0, 4, 6, 0],\n",
       "       [0, 0, 0, 0, 0, 0, 0, 0, 0, 0, 0, 0, 0, 0, 0, 0, 0, 0, 0, 0, 8],\n",
       "       [0, 0, 0, 0, 0, 0, 0, 0, 0, 0, 0, 0, 0, 0, 0, 0, 0, 0, 0, 0, 3],\n",
       "       [0, 0, 0, 0, 0, 0, 0, 0, 0, 0, 0, 0, 0, 0, 0, 0, 0, 0, 0, 0, 4],\n",
       "       [0, 0, 0, 0, 0, 0, 0, 0, 0, 0, 0, 0, 0, 0, 0, 0, 0, 0, 0, 0, 4],\n",
       "       [0, 0, 0, 0, 0, 0, 0, 0, 0, 0, 0, 0, 0, 0, 0, 0, 0, 0, 0, 0, 4],\n",
       "       [0, 0, 0, 0, 0, 0, 0, 0, 0, 0, 0, 0, 0, 0, 0, 0, 0, 0, 0, 0, 0]])"
      ]
     },
     "execution_count": 7,
     "metadata": {},
     "output_type": "execute_result"
    }
   ],
   "source": [
    "AM"
   ]
  },
  {
   "cell_type": "markdown",
   "metadata": {},
   "source": [
    "# Problem 2"
   ]
  },
  {
   "cell_type": "code",
   "execution_count": 8,
   "metadata": {},
   "outputs": [],
   "source": [
    "G = Graph(AM)"
   ]
  },
  {
   "cell_type": "code",
   "execution_count": 9,
   "metadata": {},
   "outputs": [],
   "source": [
    "G.mkGraph()"
   ]
  },
  {
   "cell_type": "markdown",
   "metadata": {},
   "source": [
    "Running Floyd Warshall on the adjacency matrix shows that the all pairs shortest path is 9."
   ]
  },
  {
   "cell_type": "code",
   "execution_count": 10,
   "metadata": {},
   "outputs": [
    {
     "name": "stdout",
     "output_type": "stream",
     "text": [
      "9.0\n"
     ]
    }
   ],
   "source": [
    "print(G.FW()[0][20])"
   ]
  },
  {
   "cell_type": "markdown",
   "metadata": {},
   "source": [
    "I defined a function that returned the shortest path as a list of vertices."
   ]
  },
  {
   "cell_type": "code",
   "execution_count": 11,
   "metadata": {},
   "outputs": [],
   "source": [
    "def listShortestPath(R, last, first):\n",
    "    end = last \n",
    "    nxt = R[last][1]\n",
    "    order = [end, nxt]\n",
    "    while nxt != first:\n",
    "        nxt = R[nxt][1]\n",
    "        order.append(nxt)\n",
    "    \n",
    "    order.reverse()\n",
    "    return order"
   ]
  },
  {
   "cell_type": "markdown",
   "metadata": {},
   "source": [
    "Running Dijkstra's algorithm gives a path with length 9 that runs through vertex 19."
   ]
  },
  {
   "cell_type": "code",
   "execution_count": 12,
   "metadata": {
    "scrolled": true
   },
   "outputs": [
    {
     "data": {
      "text/plain": [
       "{0: [0, None],\n",
       " 1: [3, 0],\n",
       " 2: [3, 0],\n",
       " 3: [7, 0],\n",
       " 4: [2, 0],\n",
       " 5: [4, 0],\n",
       " 6: [inf, None],\n",
       " 7: [inf, None],\n",
       " 8: [inf, None],\n",
       " 9: [inf, None],\n",
       " 10: [inf, None],\n",
       " 11: [10, 4],\n",
       " 12: [5, 4],\n",
       " 13: [4, 1],\n",
       " 14: [4, 1],\n",
       " 15: [12, 12],\n",
       " 16: [6, 14],\n",
       " 17: [6, 13],\n",
       " 18: [8, 14],\n",
       " 19: [5, 13],\n",
       " 20: [9, 19]}"
      ]
     },
     "execution_count": 12,
     "metadata": {},
     "output_type": "execute_result"
    }
   ],
   "source": [
    "dijPath = G.dijkstra()\n",
    "dijPath"
   ]
  },
  {
   "cell_type": "code",
   "execution_count": 13,
   "metadata": {},
   "outputs": [
    {
     "data": {
      "text/plain": [
       "[0, 1, 13, 19, 20]"
      ]
     },
     "execution_count": 13,
     "metadata": {},
     "output_type": "execute_result"
    }
   ],
   "source": [
    "listShortestPath(dijPath,20,0)"
   ]
  },
  {
   "cell_type": "markdown",
   "metadata": {},
   "source": [
    "Running Bellman-Ford also returns a path that runs through 19 with length 9 that follows the same order so there seems to be one shortest path."
   ]
  },
  {
   "cell_type": "code",
   "execution_count": 14,
   "metadata": {
    "scrolled": true
   },
   "outputs": [
    {
     "data": {
      "text/plain": [
       "(True,\n",
       " {0: [0, None],\n",
       "  1: [3, 0],\n",
       "  2: [3, 0],\n",
       "  3: [7, 0],\n",
       "  4: [2, 0],\n",
       "  5: [4, 0],\n",
       "  6: [inf, None],\n",
       "  7: [inf, None],\n",
       "  8: [inf, None],\n",
       "  9: [inf, None],\n",
       "  10: [inf, None],\n",
       "  11: [10, 4],\n",
       "  12: [5, 4],\n",
       "  13: [4, 1],\n",
       "  14: [4, 1],\n",
       "  15: [12, 12],\n",
       "  16: [6, 14],\n",
       "  17: [6, 13],\n",
       "  18: [8, 14],\n",
       "  19: [5, 13],\n",
       "  20: [9, 19]})"
      ]
     },
     "execution_count": 14,
     "metadata": {},
     "output_type": "execute_result"
    }
   ],
   "source": [
    "BellPath = G.BellmanFord()\n",
    "BellPath"
   ]
  },
  {
   "cell_type": "code",
   "execution_count": 15,
   "metadata": {},
   "outputs": [
    {
     "data": {
      "text/plain": [
       "[0, 1, 13, 19, 20]"
      ]
     },
     "execution_count": 15,
     "metadata": {},
     "output_type": "execute_result"
    }
   ],
   "source": [
    "listShortestPath(BellPath[1],20,0)"
   ]
  },
  {
   "cell_type": "markdown",
   "metadata": {},
   "source": [
    "# Problem 3"
   ]
  },
  {
   "cell_type": "markdown",
   "metadata": {},
   "source": [
    "First, I created the matrix of probabilities; AM_prob."
   ]
  },
  {
   "cell_type": "code",
   "execution_count": 16,
   "metadata": {},
   "outputs": [],
   "source": [
    "AM_prob = AM.astype('float')"
   ]
  },
  {
   "cell_type": "code",
   "execution_count": 17,
   "metadata": {},
   "outputs": [],
   "source": [
    "for i in range(len(AM_prob)):\n",
    "    for j in range(len(AM_prob)):\n",
    "        if AM_prob[i][j] != 0:\n",
    "            AM_prob[i][j] = 1.0/AM_prob[i][j]"
   ]
  },
  {
   "cell_type": "markdown",
   "metadata": {},
   "source": [
    "I used Dijkstra's algorithm to identify the shorest path and saved it to a variable; R. Then I called the listShortestPath function and saved the output to a variable."
   ]
  },
  {
   "cell_type": "code",
   "execution_count": 18,
   "metadata": {},
   "outputs": [],
   "source": [
    "R = G.dijkstra()"
   ]
  },
  {
   "cell_type": "code",
   "execution_count": 19,
   "metadata": {},
   "outputs": [],
   "source": [
    "path = listShortestPath(R, 20, 0)"
   ]
  },
  {
   "cell_type": "markdown",
   "metadata": {},
   "source": [
    "The following multiplies the probabilities associated with traversing the path (since they are independant)."
   ]
  },
  {
   "cell_type": "code",
   "execution_count": 20,
   "metadata": {},
   "outputs": [],
   "source": [
    "pathProb = 1\n",
    "for i in range(len(path)-1):\n",
    "    m = path[i]\n",
    "    n = path[i+1]\n",
    "    P = AM_prob[m][n]\n",
    "    pathProb *= P"
   ]
  },
  {
   "cell_type": "code",
   "execution_count": 21,
   "metadata": {},
   "outputs": [
    {
     "data": {
      "text/plain": [
       "0.08333333333333333"
      ]
     },
     "execution_count": 21,
     "metadata": {},
     "output_type": "execute_result"
    }
   ],
   "source": [
    "pathProb"
   ]
  },
  {
   "cell_type": "markdown",
   "metadata": {},
   "source": [
    "# Problem 4"
   ]
  },
  {
   "cell_type": "code",
   "execution_count": 22,
   "metadata": {},
   "outputs": [],
   "source": [
    "#Initialization of M\n",
    "M = (AM + AM.T) - (AM + AM.T).diagonal()"
   ]
  },
  {
   "cell_type": "code",
   "execution_count": 23,
   "metadata": {},
   "outputs": [
    {
     "data": {
      "text/plain": [
       "array([[0, 3, 3, 7, 2, 4, 0, 0, 0, 0, 0, 0, 0, 0, 0, 0, 0, 0, 0, 0, 0],\n",
       "       [3, 0, 0, 0, 0, 0, 0, 0, 0, 0, 0, 0, 7, 1, 1, 0, 0, 0, 0, 0, 0],\n",
       "       [3, 0, 0, 0, 0, 0, 0, 0, 0, 0, 0, 0, 0, 4, 0, 0, 0, 0, 0, 0, 0],\n",
       "       [7, 0, 0, 0, 0, 0, 0, 0, 0, 0, 0, 5, 0, 0, 0, 0, 0, 0, 0, 0, 0],\n",
       "       [2, 0, 0, 0, 0, 0, 0, 0, 0, 0, 0, 8, 3, 0, 3, 0, 0, 0, 0, 0, 0],\n",
       "       [4, 0, 0, 0, 0, 0, 0, 0, 0, 0, 0, 0, 9, 1, 4, 0, 0, 0, 0, 0, 0],\n",
       "       [0, 0, 0, 0, 0, 0, 0, 0, 0, 0, 0, 0, 0, 0, 0, 0, 0, 0, 0, 0, 0],\n",
       "       [0, 0, 0, 0, 0, 0, 0, 0, 0, 0, 0, 6, 0, 0, 3, 0, 0, 0, 0, 0, 0],\n",
       "       [0, 0, 0, 0, 0, 0, 0, 0, 0, 0, 0, 9, 6, 0, 3, 0, 0, 0, 0, 0, 0],\n",
       "       [0, 0, 0, 0, 0, 0, 0, 0, 0, 0, 0, 0, 0, 0, 3, 0, 0, 0, 0, 0, 0],\n",
       "       [0, 0, 0, 0, 0, 0, 0, 0, 0, 0, 0, 0, 5, 0, 4, 0, 0, 0, 0, 0, 0],\n",
       "       [0, 0, 0, 5, 8, 0, 0, 6, 9, 0, 0, 0, 0, 0, 0, 0, 0, 0, 0, 5, 0],\n",
       "       [0, 7, 0, 0, 3, 9, 0, 0, 6, 0, 5, 0, 0, 0, 0, 7, 2, 6, 3, 0, 0],\n",
       "       [0, 1, 4, 0, 0, 1, 0, 0, 0, 0, 0, 0, 0, 0, 0, 0, 3, 2, 6, 1, 0],\n",
       "       [0, 1, 0, 0, 3, 4, 0, 3, 3, 3, 4, 0, 0, 0, 0, 0, 2, 0, 4, 6, 0],\n",
       "       [0, 0, 0, 0, 0, 0, 0, 0, 0, 0, 0, 0, 7, 0, 0, 0, 0, 0, 0, 0, 8],\n",
       "       [0, 0, 0, 0, 0, 0, 0, 0, 0, 0, 0, 0, 2, 3, 2, 0, 0, 0, 0, 0, 3],\n",
       "       [0, 0, 0, 0, 0, 0, 0, 0, 0, 0, 0, 0, 6, 2, 0, 0, 0, 0, 0, 0, 4],\n",
       "       [0, 0, 0, 0, 0, 0, 0, 0, 0, 0, 0, 0, 3, 6, 4, 0, 0, 0, 0, 0, 4],\n",
       "       [0, 0, 0, 0, 0, 0, 0, 0, 0, 0, 0, 5, 0, 1, 6, 0, 0, 0, 0, 0, 4],\n",
       "       [0, 0, 0, 0, 0, 0, 0, 0, 0, 0, 0, 0, 0, 0, 0, 8, 3, 4, 4, 4, 0]])"
      ]
     },
     "execution_count": 23,
     "metadata": {},
     "output_type": "execute_result"
    }
   ],
   "source": [
    "M"
   ]
  },
  {
   "cell_type": "code",
   "execution_count": 24,
   "metadata": {},
   "outputs": [],
   "source": [
    "GM = Graph(M)"
   ]
  },
  {
   "cell_type": "code",
   "execution_count": 25,
   "metadata": {},
   "outputs": [],
   "source": [
    "GM.mkGraph()"
   ]
  },
  {
   "cell_type": "code",
   "execution_count": 26,
   "metadata": {},
   "outputs": [],
   "source": [
    "result = GM.FW()"
   ]
  },
  {
   "cell_type": "markdown",
   "metadata": {},
   "source": [
    "The maximum all pairs shortest path for the undirected graph is 22. This was found using  the Floyd Warshall algorithm."
   ]
  },
  {
   "cell_type": "code",
   "execution_count": 27,
   "metadata": {},
   "outputs": [
    {
     "data": {
      "text/plain": [
       "22.0"
      ]
     },
     "execution_count": 27,
     "metadata": {},
     "output_type": "execute_result"
    }
   ],
   "source": [
    "result[np.isfinite(result)].max()"
   ]
  },
  {
   "cell_type": "markdown",
   "metadata": {},
   "source": [
    "# Problem 5"
   ]
  },
  {
   "cell_type": "code",
   "execution_count": 28,
   "metadata": {},
   "outputs": [],
   "source": [
    "from collections import defaultdict \n",
    "   \n",
    "#This class represents a directed graph using adjacency matrix representation \n",
    "class Graph2: \n",
    "   \n",
    "    def __init__(self,graph): \n",
    "        self.graph = graph # residual graph \n",
    "        self. ROW = len(graph) \n",
    "        #self.COL = len(gr[0]) \n",
    "          \n",
    "   \n",
    "    '''Returns true if there is a path from source 's' to sink 't' in \n",
    "    residual graph. Also fills parent[] to store the path '''\n",
    "    def BFS(self,s, t, parent): \n",
    "  \n",
    "        # Mark all the vertices as not visited \n",
    "        visited =[False]*(self.ROW) \n",
    "          \n",
    "        # Create a queue for BFS \n",
    "        queue=[] \n",
    "          \n",
    "        # Mark the source node as visited and enqueue it \n",
    "        queue.append(s) \n",
    "        visited[s] = True\n",
    "           \n",
    "         # Standard BFS Loop \n",
    "        while queue: \n",
    "  \n",
    "            #Dequeue a vertex from queue and print it \n",
    "            u = queue.pop(0) \n",
    "          \n",
    "            # Get all adjacent vertices of the dequeued vertex u \n",
    "            # If a adjacent has not been visited, then mark it \n",
    "            # visited and enqueue it \n",
    "            for ind, val in enumerate(self.graph[u]): \n",
    "                if visited[ind] == False and val > 0 : \n",
    "                    queue.append(ind) \n",
    "                    visited[ind] = True\n",
    "                    parent[ind] = u \n",
    "  \n",
    "        # If we reached sink in BFS starting from source, then return \n",
    "        # true, else false \n",
    "        return True if visited[t] else False\n",
    "              \n",
    "      \n",
    "    # Returns tne maximum flow from s to t in the given graph \n",
    "    def FordFulkerson(self, source, sink): \n",
    "  \n",
    "        # This array is filled by BFS and to store path \n",
    "        parent = [-1]*(self.ROW) \n",
    "  \n",
    "        max_flow = 0 # There is no flow initially \n",
    "  \n",
    "        # Augment the flow while there is path from source to sink \n",
    "        while self.BFS(source, sink, parent) : \n",
    "  \n",
    "            # Find minimum residual capacity of the edges along the \n",
    "            # path filled by BFS. Or we can say find the maximum flow \n",
    "            # through the path found. \n",
    "            path_flow = float(\"Inf\") \n",
    "            s = sink \n",
    "            while(s !=  source): \n",
    "                path_flow = min (path_flow, self.graph[parent[s]][s]) \n",
    "                s = parent[s] \n",
    "  \n",
    "            # Add path flow to overall flow \n",
    "            max_flow +=  path_flow \n",
    "  \n",
    "            # update residual capacities of the edges and reverse edges \n",
    "            # along the path \n",
    "            v = sink \n",
    "            while(v !=  source): \n",
    "                u = parent[v] \n",
    "                self.graph[u][v] -= path_flow \n",
    "                self.graph[v][u] += path_flow \n",
    "                v = parent[v] \n",
    "  \n",
    "        return max_flow "
   ]
  },
  {
   "cell_type": "markdown",
   "metadata": {},
   "source": [
    "I first tested its function using the graph from class which should have a maximal flow of 7.  I performed as expected."
   ]
  },
  {
   "cell_type": "code",
   "execution_count": 29,
   "metadata": {},
   "outputs": [],
   "source": [
    "MF = np.array([[0,1,4,2,0,0,0],\n",
    "               [0,0,0,0,5,0,0],\n",
    "               [0,1,0,1,2,4,0],\n",
    "               [0,0,0,0,0,7,0],\n",
    "               [0,0,0,0,0,0,5],\n",
    "               [0,0,0,0,0,0,3],\n",
    "               [0,0,0,0,0,0,0]])"
   ]
  },
  {
   "cell_type": "code",
   "execution_count": 30,
   "metadata": {},
   "outputs": [],
   "source": [
    "G = Graph2(MF)"
   ]
  },
  {
   "cell_type": "code",
   "execution_count": 31,
   "metadata": {},
   "outputs": [
    {
     "data": {
      "text/plain": [
       "7"
      ]
     },
     "execution_count": 31,
     "metadata": {},
     "output_type": "execute_result"
    }
   ],
   "source": [
    "G.FordFulkerson(0,6)"
   ]
  },
  {
   "cell_type": "markdown",
   "metadata": {},
   "source": [
    "Creating a Graph2 instance with the original adjacency matrix AM and running Ford Fulkerson will give the maximum flow acheivable from 0 to 20."
   ]
  },
  {
   "cell_type": "code",
   "execution_count": 32,
   "metadata": {},
   "outputs": [],
   "source": [
    "G2 = Graph2(AM)"
   ]
  },
  {
   "cell_type": "code",
   "execution_count": 33,
   "metadata": {},
   "outputs": [
    {
     "data": {
      "text/plain": [
       "16"
      ]
     },
     "execution_count": 33,
     "metadata": {},
     "output_type": "execute_result"
    }
   ],
   "source": [
    "# The maximum flow from 0 to 20\n",
    "G2.FordFulkerson(0,20)"
   ]
  },
  {
   "cell_type": "markdown",
   "metadata": {},
   "source": [
    "### Calculating required time"
   ]
  },
  {
   "cell_type": "code",
   "execution_count": 34,
   "metadata": {},
   "outputs": [],
   "source": [
    "class ProgTimer():\n",
    "    \n",
    "    def __init__(self, func):\n",
    "        self.func = func\n",
    "    \n",
    "    def progTimer(self, *args):\n",
    "        from time import time\n",
    "        from tqdm import tqdm\n",
    "        RTs = []\n",
    "        for i in tqdm(range(10000)):\n",
    "            start_time = time()\n",
    "            self.func(*args)\n",
    "            stop_time = time()\n",
    "            RTs.append(stop_time-start_time)\n",
    "        return (sum(RTs)/10000)*10e3"
   ]
  },
  {
   "cell_type": "code",
   "execution_count": 35,
   "metadata": {},
   "outputs": [
    {
     "name": "stderr",
     "output_type": "stream",
     "text": [
      "100%|██████████| 10000/10000 [00:00<00:00, 48124.26it/s]\n"
     ]
    }
   ],
   "source": [
    "timer = ProgTimer(G2.FordFulkerson)\n",
    "time = timer.progTimer(0,20)"
   ]
  },
  {
   "cell_type": "code",
   "execution_count": 36,
   "metadata": {},
   "outputs": [],
   "source": [
    "numEdges = len(EL)\n",
    "numVert = len(AM)"
   ]
  },
  {
   "cell_type": "code",
   "execution_count": 37,
   "metadata": {},
   "outputs": [
    {
     "name": "stdout",
     "output_type": "stream",
     "text": [
      "It took 0.203 milliseconds to calculate the maximum flow for a graph\n",
      " containing 41 edges and 21 vertices.\n"
     ]
    }
   ],
   "source": [
    "print(f'It took {round(time,3)} milliseconds to calculate the maximum flow for a graph\\n containing {numEdges} edges and {numVert} vertices.')"
   ]
  },
  {
   "cell_type": "markdown",
   "metadata": {},
   "source": [
    "Considering that this algorithm uses breadth first search, this implementation of the Ford Fulkerson method is actually the Edmonds-Karp algorithm which should run in $O(VE^2)$ time."
   ]
  },
  {
   "cell_type": "markdown",
   "metadata": {},
   "source": [
    "# Problem 6"
   ]
  },
  {
   "cell_type": "markdown",
   "metadata": {},
   "source": [
    "I created a function that uses the following variables to generate the edges of larger graphs by replacing 20 with n."
   ]
  },
  {
   "cell_type": "code",
   "execution_count": 38,
   "metadata": {},
   "outputs": [
    {
     "name": "stdout",
     "output_type": "stream",
     "text": [
      "6 11 15\n"
     ]
    }
   ],
   "source": [
    "# This is to show that the results of these calculation with 20 result in the\n",
    "# same numbers used in the original graph.\n",
    "a = int(0.25*20) + 1\n",
    "b = int(0.50*20) + 1\n",
    "c = int(0.75*20)\n",
    "print(a,b,c)"
   ]
  },
  {
   "cell_type": "code",
   "execution_count": 39,
   "metadata": {},
   "outputs": [],
   "source": [
    "def genEdges(n):\n",
    "    import numpy as np\n",
    "    np.random.seed(123)\n",
    "    a = int(0.25*n) + 1\n",
    "    b = int(0.50*n) + 1\n",
    "    c = int(0.75*n)\n",
    "    EL = []\n",
    "    N = 10\n",
    "    for k in range(1,a):\n",
    "        EL.append([0,k,np.random.randint(1,N)])\n",
    "    for k in range(1,b):\n",
    "        for j in range(b,c):\n",
    "            T1=np.random.randint(0,2)\n",
    "            if T1==1:\n",
    "                EL.append([k,j,np.random.randint(1,N)])\n",
    "    for k in range(b,c):\n",
    "        for j in range(c,n):\n",
    "            T2=np.random.randint(0,2)\n",
    "            if T2==1:\n",
    "                EL.append([k,j,np.random.randint(1,N)])\n",
    "    for k in range(c,n):\n",
    "        EL.append([k,20, np.random.randint(1,N)])\n",
    "        \n",
    "    return EL"
   ]
  },
  {
   "cell_type": "markdown",
   "metadata": {},
   "source": [
    "This test shows that the altered function generates the same list as the original with input 20."
   ]
  },
  {
   "cell_type": "code",
   "execution_count": 40,
   "metadata": {},
   "outputs": [],
   "source": [
    "EL2 = genEdges(20)"
   ]
  },
  {
   "cell_type": "code",
   "execution_count": 41,
   "metadata": {
    "scrolled": true
   },
   "outputs": [
    {
     "data": {
      "text/plain": [
       "True"
      ]
     },
     "execution_count": 41,
     "metadata": {},
     "output_type": "execute_result"
    }
   ],
   "source": [
    "EL2 == EL"
   ]
  },
  {
   "cell_type": "markdown",
   "metadata": {},
   "source": [
    "### Runtime Tests"
   ]
  },
  {
   "cell_type": "markdown",
   "metadata": {},
   "source": [
    "Since the theoretical runtime of the Edmonds-Karp algorithm is $O(VE^2)$, I expect to see that the runtime plot of the function with graphs of increasing size should be polynomial."
   ]
  },
  {
   "cell_type": "code",
   "execution_count": 42,
   "metadata": {},
   "outputs": [],
   "source": [
    "GF = Graph(MF)"
   ]
  },
  {
   "cell_type": "code",
   "execution_count": 43,
   "metadata": {},
   "outputs": [],
   "source": [
    "GF.mkGraph()"
   ]
  },
  {
   "cell_type": "code",
   "execution_count": 44,
   "metadata": {},
   "outputs": [
    {
     "name": "stderr",
     "output_type": "stream",
     "text": [
      "100%|██████████| 10000/10000 [00:02<00:00, 4858.44it/s]\n",
      "100%|██████████| 10000/10000 [00:04<00:00, 2281.01it/s]\n",
      "100%|██████████| 10000/10000 [00:07<00:00, 1351.86it/s]\n",
      "100%|██████████| 10000/10000 [00:11<00:00, 866.32it/s]\n",
      "100%|██████████| 10000/10000 [00:16<00:00, 620.93it/s]\n",
      "100%|██████████| 10000/10000 [00:21<00:00, 464.65it/s]\n",
      "100%|██████████| 10000/10000 [00:27<00:00, 363.84it/s]\n"
     ]
    }
   ],
   "source": [
    "test = [41, 61, 81, 101, 121, 141, 161]\n",
    "times = []\n",
    "for N in test:\n",
    "    EL = genEdges(N-1)\n",
    "    AM = np.array([[0 for n in range(N)] for m in range(N)])\n",
    "    for edge in EL:\n",
    "        i,j,w = edge[0],edge[1],edge[2]\n",
    "        AM[i][j] = w\n",
    "    G = Graph2(AM)\n",
    "    \n",
    "    timer = ProgTimer(G.FordFulkerson)\n",
    "    times.append(timer.progTimer(0,N-1))"
   ]
  },
  {
   "cell_type": "code",
   "execution_count": 45,
   "metadata": {},
   "outputs": [],
   "source": [
    "import matplotlib.pyplot as plt\n",
    "%matplotlib inline"
   ]
  },
  {
   "cell_type": "markdown",
   "metadata": {},
   "source": [
    "Indeed, the line of best fit that most closely fits the runtime is polynomial."
   ]
  },
  {
   "cell_type": "code",
   "execution_count": 46,
   "metadata": {
    "scrolled": false
   },
   "outputs": [
    {
     "data": {
      "text/plain": [
       "Text(0, 0.5, 'Milliseconds')"
      ]
     },
     "execution_count": 46,
     "metadata": {},
     "output_type": "execute_result"
    },
    {
     "data": {
      "image/png": "[encoded data removed]",
      "text/plain": [
       "<Figure size 1080x720 with 1 Axes>"
      ]
     },
     "metadata": {
      "needs_background": "light"
     },
     "output_type": "display_data"
    }
   ],
   "source": [
    "plt.figure(figsize=(15,10))\n",
    "test = np.array(test).astype('float')\n",
    "ml, bl = np.polyfit(test,times,1)\n",
    "m2, b2, c2 = np.polyfit(test,times,2)\n",
    "a3, b3, c3, d3 = np.polyfit(test,times,3)\n",
    "plt.plot(test,times, 'o')\n",
    "plt.plot(test, ml*test+bl, color='blue', label='Linear Fit')\n",
    "plt.plot(test, m2*test**2 + b2*test + c2, color='green', label='Polynomial Fit')\n",
    "plt.title('Runtime')\n",
    "plt.legend()\n",
    "plt.xlabel('Graph Size (Vertices)')\n",
    "plt.ylabel('Milliseconds')"
   ]
  }
 ],
 "metadata": {
  "kernelspec": {
   "display_name": "Python 3 (ipykernel)",
   "language": "python",
   "name": "python3"
  },
  "language_info": {
   "codemirror_mode": {
    "name": "ipython",
    "version": 3
   },
   "file_extension": ".py",
   "mimetype": "text/x-python",
   "name": "python",
   "nbconvert_exporter": "python",
   "pygments_lexer": "ipython3",
   "version": "3.8.8"
  }
 },
 "nbformat": 4,
 "nbformat_minor": 4
}
