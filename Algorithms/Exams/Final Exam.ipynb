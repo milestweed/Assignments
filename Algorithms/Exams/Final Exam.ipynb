{
 "cells": [
  {
   "cell_type": "markdown",
   "metadata": {},
   "source": [
    "On my honor I have neither given nor received help from anyone\n",
    "during this exam. - MILES TWEED\n"
   ]
  },
  {
   "cell_type": "code",
   "execution_count": 1,
   "metadata": {},
   "outputs": [],
   "source": [
    "import numpy as np\n",
    "import matplotlib.pyplot as plt\n",
    "from mpl_toolkits.mplot3d import Axes3D\n",
    "import math\n",
    "import sympy as sym\n",
    "import random"
   ]
  },
  {
   "cell_type": "markdown",
   "metadata": {},
   "source": [
    "# QUESTION 1"
   ]
  },
  {
   "cell_type": "code",
   "execution_count": 2,
   "metadata": {},
   "outputs": [],
   "source": [
    "def f(n):\n",
    "    x = []\n",
    "    for k in range(1,int(n)+1):\n",
    "        x.append(1/k)\n",
    "        \n",
    "    return (n+1)**2 * sum(x)\n",
    "\n",
    "def g(n):\n",
    "    x = []\n",
    "    for k in range(1,int(n)+1):\n",
    "        x.append(k + 1/k)\n",
    "        \n",
    "    return np.log(n+1) * sum(x)    "
   ]
  },
  {
   "cell_type": "code",
   "execution_count": 3,
   "metadata": {},
   "outputs": [
    {
     "name": "stderr",
     "output_type": "stream",
     "text": [
      "<ipython-input-3-395cffbb0a5d>:4: RuntimeWarning: invalid value encountered in double_scalars\n",
      "  y3 = [f(x)/g(x) for x in X]\n",
      "<ipython-input-3-395cffbb0a5d>:5: RuntimeWarning: invalid value encountered in double_scalars\n",
      "  y4 = [g(x)/f(x) for x in X]\n"
     ]
    }
   ],
   "source": [
    "X = np.linspace(0,10)\n",
    "y1 = [f(x) for x in X]\n",
    "y2 = [g(x) for x in X]\n",
    "y3 = [f(x)/g(x) for x in X]\n",
    "y4 = [g(x)/f(x) for x in X]"
   ]
  },
  {
   "cell_type": "code",
   "execution_count": 4,
   "metadata": {
    "scrolled": true
   },
   "outputs": [
    {
     "data": {
      "text/plain": [
       "<matplotlib.legend.Legend at 0x7f4b56e5bdf0>"
      ]
     },
     "execution_count": 4,
     "metadata": {},
     "output_type": "execute_result"
    },
    {
     "data": {
      "image/png": "[encoded data removed]",
      "text/plain": [
       "<Figure size 432x288 with 1 Axes>"
      ]
     },
     "metadata": {
      "needs_background": "light"
     },
     "output_type": "display_data"
    }
   ],
   "source": [
    "plt.plot(X,y1, color = 'blue', label = 'f(n)')\n",
    "plt.plot(X,y2, color = 'red', label = 'g(n)')\n",
    "plt.plot(X,y3, color = 'green', label = 'f(n)/g(n)')\n",
    "plt.plot(X,y4, color = 'purple', label = 'g(n)/f(n)')\n",
    "plt.legend()"
   ]
  },
  {
   "cell_type": "code",
   "execution_count": 5,
   "metadata": {
    "scrolled": true
   },
   "outputs": [
    {
     "name": "stderr",
     "output_type": "stream",
     "text": [
      "<ipython-input-5-0a8fca93a7ca>:4: RuntimeWarning: invalid value encountered in double_scalars\n",
      "  y3 = [f(x)/g(x) for x in X]\n",
      "<ipython-input-5-0a8fca93a7ca>:5: RuntimeWarning: invalid value encountered in double_scalars\n",
      "  y4 = [g(x)/f(x) for x in X]\n"
     ]
    },
    {
     "data": {
      "text/plain": [
       "<matplotlib.legend.Legend at 0x7f4b56d5e7f0>"
      ]
     },
     "execution_count": 5,
     "metadata": {},
     "output_type": "execute_result"
    },
    {
     "data": {
      "image/png": "[encoded data removed]",
      "text/plain": [
       "<Figure size 432x288 with 1 Axes>"
      ]
     },
     "metadata": {
      "needs_background": "light"
     },
     "output_type": "display_data"
    }
   ],
   "source": [
    "X = np.linspace(0,10000)\n",
    "y1 = [f(x) for x in X]\n",
    "y2 = [g(x) for x in X]\n",
    "y3 = [f(x)/g(x) for x in X]\n",
    "y4 = [g(x)/f(x) for x in X]\n",
    "plt.plot(X,y3, color = 'green', label = 'f(n)/g(n)')\n",
    "plt.plot(X,y4, color = 'purple', label = 'g(n)/f(n)')\n",
    "plt.legend()"
   ]
  },
  {
   "cell_type": "markdown",
   "metadata": {},
   "source": [
    "Looking at the graphs, I would conclude that $f(n) = \\theta{g(n)}$. considering the largest factors as $n\\rightarrow \\infty$ for the ratio of $\\frac{f(n)}{g(n)}$, $\\frac{(n+1)^2(\\frac{1}{n})}{\\log{(n+1)}\\cdot (n+\\frac{1}{n})} = \\lim{n\\rightarrow\\infty}\\frac{(n+1)^2}{\\log(n+1)\\cdot(n^2 + 1)} = 1$"
   ]
  },
  {
   "cell_type": "markdown",
   "metadata": {},
   "source": [
    "# QUESTION 2"
   ]
  },
  {
   "cell_type": "code",
   "execution_count": 6,
   "metadata": {},
   "outputs": [],
   "source": [
    "np.random.seed(123)\n",
    "A = []\n",
    "N = 50\n",
    "c1 = 5\n",
    "e = 7\n",
    "\n",
    "for i in range(N):\n",
    "    for j in range(c1):\n",
    "        for k in range(c1):\n",
    "            T1 = np.random.randint(1,c1+1)\n",
    "            if T1 > 1:\n",
    "                A.append([c1*i+j, c1*(i + 1) + k, np.random.randint(1,e)])"
   ]
  },
  {
   "cell_type": "markdown",
   "metadata": {},
   "source": [
    "# a)"
   ]
  },
  {
   "cell_type": "markdown",
   "metadata": {},
   "source": [
    "## My graph implementation"
   ]
  },
  {
   "cell_type": "code",
   "execution_count": 7,
   "metadata": {},
   "outputs": [],
   "source": [
    "class Graph():\n",
    "    \n",
    "    from random import shuffle\n",
    "    from time import time\n",
    "    import numpy as np\n",
    "    \n",
    "    def __init__(self, M):\n",
    "        # Everything is based off of an adjacency matrix\n",
    "        self.M = M\n",
    "        \n",
    "    def mkGraph(self):\n",
    "        # Initialize a dictionary object for the graph\n",
    "        graph = dict()\n",
    "        \n",
    "        # Each row in M is a key in the graph\n",
    "        for i in range(len(self.M)):\n",
    "            graph[i] = []\n",
    "            # Add each connection and weight if not zero\n",
    "            for j in range (len(self.M[i])):\n",
    "                if self.M[i][j] != 0:\n",
    "                    graph[i].append((j,self.M[i][j]))\n",
    "        self.G = graph\n",
    "        self.vertices = list(range(len(self.G)))\n",
    "    \n",
    "    def BFS(self):\n",
    "        Color = ['w' for x in range(len(self.M))]\n",
    "        Pred  = [None for x in range(len(self.M))]\n",
    "        Dist  = [self.np.infty for x in range(len(self.M))]\n",
    "        \n",
    "        s = self.vertices[0]\n",
    "        \n",
    "        Color[s] = 'y'\n",
    "        Dist[s]  = 0\n",
    "        Pred[s]  = None\n",
    "        Q = [s]\n",
    "        while len(Q) != 0:\n",
    "            u = Q.pop(0)\n",
    "            for V in self.G[u]:\n",
    "                v = V[0]\n",
    "                w = V[1]\n",
    "                if Color[v] == 'w':\n",
    "                    Color[v] = 'y'\n",
    "                    Dist[v] = Dist[u] + w\n",
    "                    Pred[v] = u\n",
    "                    Q.append(v)\n",
    "            Color[u] = 'r'\n",
    "        \n",
    "        results = [(x, Dist[x], Pred[x], Color[x]) for x in range(len(Color))]\n",
    "        \n",
    "        return results\n",
    "    \n",
    "    def DFSvisit(self, u):\n",
    "        #Update the start time and color of u\n",
    "        self.t += 1\n",
    "        self.uStart[u] = self.t\n",
    "        self.uColor[u] = 'y'\n",
    "        \n",
    "        # neighbors are every vertex in the graph with key u\n",
    "        neighbors = sorted([x[0] for x in self.G[u]])\n",
    "        \n",
    "        # run DFSvisit on the neighbor if it had not been visited yet\n",
    "        for v in neighbors:\n",
    "            if self.uColor[v] == 'w':\n",
    "                self.uPred[v] = u\n",
    "                self.DFSvisit(v)\n",
    "        \n",
    "        # Update stoptime and color for u\n",
    "        self.uColor[u] = 'r'\n",
    "        self.t += 1\n",
    "        self.uStop[u] = self.t\n",
    "        self.rt_stp = self.time()\n",
    "        self.rt = (self.rt_stp - self.rt_strt)*10**3\n",
    "        \n",
    "    def DFS(self):\n",
    "        # Initialize CPU time\n",
    "        self.rt_strt = self.time()\n",
    "        \n",
    "        # These lists store the results of DFS\n",
    "        self.uColor = ['w' for x in range(len(self.M))]\n",
    "        self.uPred  = [None for x in range(len(self.M))]\n",
    "        self.uStart = [None for x in range(len(self.M))]\n",
    "        self.uStop  = [None for x in range(len(self.M))]\n",
    "        \n",
    "        # Initialize the visit time\n",
    "        self.t = 0\n",
    "        \n",
    "        # for each vertex Perform DFSvisit\n",
    "        for u in self.vertices:\n",
    "            if self.uColor[u] == 'w':\n",
    "                self.DFSvisit(u)\n",
    "                \n",
    "    def topoSort(self):\n",
    "        # Topo sort requires the stop times for each vertex\n",
    "        endTimes = self.uStop\n",
    "        vert = self.vertices\n",
    "        \n",
    "        # combine the vertices and endtimes as tuples\n",
    "        ts = [(vert[i],endTimes[i]) for i in range(len(vert))]\n",
    "        # Sort by descending end time\n",
    "        ts = sorted(ts, key=lambda x: x[1], reverse = True)\n",
    "        return ts\n",
    "    \n",
    "    def DAG_Shotest_Path(self):\n",
    "        \n",
    "        self.edges = []\n",
    "        for i in range(len(self.G)):\n",
    "            for j in range(len(self.G[i])):\n",
    "                temp = [i,self.G[i][j][0]]\n",
    "                self.edges.append((temp[0], temp[1], self.G[i][j][1]))\n",
    "        self.edges = set(self.edges)\n",
    "        ts = [x[0] for x in self.topoSort()]\n",
    "\n",
    "        relaxed = {ts[0]:[0,None]}\n",
    "        for i in range(1,len(ts)):\n",
    "            relaxed[ts[i]] = [self.np.infty, None]\n",
    "\n",
    "        for i in range(len(ts)):\n",
    "            for edge in self.edges:\n",
    "                u = edge[0]\n",
    "                v = edge[1]\n",
    "                w = edge[2]\n",
    "                if relaxed[u][0] + w < relaxed[v][0]:\n",
    "                    relaxed[v][0] = relaxed[u][0] + w\n",
    "                    relaxed[v][1] = u\n",
    "\n",
    "        return relaxed\n",
    "                \n",
    "        \n",
    "    def BellmanFord(self):\n",
    "        vert = self.vertices\n",
    "        \n",
    "        #initialize single source [distance, predecessor]\n",
    "        relaxed = {vert[0]:[0,None]}\n",
    "        for i in range(1,len(vert)):\n",
    "            relaxed[vert[i]] = [self.np.infty, None]\n",
    "            \n",
    "            \n",
    "        self.edges = []\n",
    "        for i in range(len(self.G)):\n",
    "            for j in range(len(self.G[i])):\n",
    "                temp = [i,self.G[i][j][0]]\n",
    "                self.edges.append((temp[0], temp[1], self.G[i][j][1]))\n",
    "        self.edges = set(self.edges)\n",
    "        \n",
    "        for i in range(len(vert)):\n",
    "            for edge in self.edges:\n",
    "                u = edge[0]\n",
    "                v = edge[1]\n",
    "                w = edge[2]\n",
    "                if relaxed[u][0] + w < relaxed[v][0]:\n",
    "                    relaxed[v][0] = relaxed[u][0] + w\n",
    "                    relaxed[v][1] = u\n",
    "        for edge in self.edges:\n",
    "            w = edge[2]\n",
    "            v = edge[1]\n",
    "            u = edge[0]\n",
    "            if relaxed[v][0] > relaxed[u][0] + w:\n",
    "                return False\n",
    "        return True, relaxed\n",
    "\n",
    "        \n",
    "    def dijkstra(self):\n",
    "        vert = self.vertices\n",
    "\n",
    "        #initialize single source [distance, predecessor]\n",
    "        relaxed = {vert[0]:[0,None]}\n",
    "        for i in range(1,len(vert)):\n",
    "            relaxed[vert[i]] = [self.np.infty, None]\n",
    "\n",
    "        # Initialize the Q with the first vertex [vertex, weight]\n",
    "        Q = [(vert[0],0)]\n",
    "\n",
    "        while len(Q) != 0:\n",
    "\n",
    "            # Extract the first element in the Min Q\n",
    "            U = Q.pop(0)\n",
    "            u = U[0]\n",
    "            \n",
    "            # check the adjacent vertices and update\n",
    "            for V in self.G[u]:\n",
    "                v = V[0]\n",
    "                w = V[1]\n",
    "                if relaxed[u][0] + w < relaxed[v][0]:\n",
    "                    relaxed[v][0] = relaxed[u][0] + w\n",
    "                    relaxed[v][1] = u\n",
    "\n",
    "            # Update the min Q\n",
    "            for con in self.G[u]:\n",
    "                Q.append(con)\n",
    "                Q = sorted(Q, key=lambda x: x[1])\n",
    "\n",
    "        return relaxed\n",
    "    \n",
    "    def FW(self):\n",
    "        M = self.M.astype('float')\n",
    "        # init M with infinity everywhere except the diagonal and where weights exist\n",
    "        for i in range(len(M)):\n",
    "            for j in range(len(M)):\n",
    "                if i == j:\n",
    "                    M[i][j] = 0\n",
    "                elif M[i][j] == 0:\n",
    "                    M[i][j] = self.np.infty\n",
    "\n",
    "        #List to keep track of previous matrix\n",
    "        D = [M]\n",
    "        # Update the arrays with the lowest connection\n",
    "        n = len(M)\n",
    "        for k in range(1,n):\n",
    "            Dk = D[k-1]\n",
    "            for i in range(n):\n",
    "                for j in range(n):\n",
    "                    Dk[i][j] = min([D[k-1][i][j], D[k-1][i][k] + D[k-1][k][j]])\n",
    "            D.append(Dk)\n",
    "        return D[n-1]\n",
    "    \n",
    "    def getMaxTime(self):\n",
    "        try:\n",
    "            return max(self.uStop)\n",
    "        except NameError:\n",
    "            print('DFS must be called first.')\n",
    "    \n",
    "    def getRt(self):\n",
    "        try:\n",
    "            return self.rt\n",
    "        except NameError:\n",
    "            print('DFS must be called first.')\n",
    "    \n",
    "    def showGraph(self):\n",
    "        try:\n",
    "            print(self.G)\n",
    "        except NameError:\n",
    "            self.mkGraph()\n",
    "            return self.G\n",
    "        \n",
    "    def getEdges(self):\n",
    "        try:\n",
    "            return self.edges\n",
    "        except:\n",
    "            self.edges = []\n",
    "            for i in range(len(self.G)):\n",
    "                for j in range(len(self.G[i])):\n",
    "                    temp = sorted([i,self.G[i][j][0]])\n",
    "                    self.edges.append((temp[0], temp[1], self.G[i][j][1]))\n",
    "            self.edges = set(self.edges)\n",
    "            return self.edges\n",
    "            \n",
    "    def getEdgesNW(self):\n",
    "        edges = []\n",
    "        for i in range(len(self.G)):\n",
    "            for j in range(len(self.G[i])):\n",
    "                temp = sorted([i,self.G[i][j][0]])\n",
    "                edges.append((temp[0], temp[1]))\n",
    "        edges = list(set(edges))\n",
    "        return edges\n",
    "        \n",
    "    def __str__(self):\n",
    "        return 'This object contains the graph and\\nassociated method for the following\\nmatrix\\n{}'.format(M)"
   ]
  },
  {
   "cell_type": "code",
   "execution_count": 8,
   "metadata": {},
   "outputs": [],
   "source": [
    "G = Graph(A)"
   ]
  },
  {
   "cell_type": "code",
   "execution_count": 9,
   "metadata": {},
   "outputs": [],
   "source": [
    "G.mkGraph()"
   ]
  },
  {
   "cell_type": "markdown",
   "metadata": {},
   "source": [
    "## i)"
   ]
  },
  {
   "cell_type": "code",
   "execution_count": 10,
   "metadata": {},
   "outputs": [
    {
     "data": {
      "text/plain": [
       "2992"
      ]
     },
     "execution_count": 10,
     "metadata": {},
     "output_type": "execute_result"
    }
   ],
   "source": [
    "# The number of edges in the graph\n",
    "len(G.getEdges())"
   ]
  },
  {
   "cell_type": "markdown",
   "metadata": {},
   "source": [
    "## ii)\n",
    "\n",
    "The number of vertices is the same as the number of entries in the adjacency list"
   ]
  },
  {
   "cell_type": "code",
   "execution_count": 11,
   "metadata": {},
   "outputs": [
    {
     "data": {
      "text/plain": [
       "999"
      ]
     },
     "execution_count": 11,
     "metadata": {},
     "output_type": "execute_result"
    }
   ],
   "source": [
    "len(G.vertices)"
   ]
  },
  {
   "cell_type": "code",
   "execution_count": 12,
   "metadata": {},
   "outputs": [
    {
     "data": {
      "text/plain": [
       "999"
      ]
     },
     "execution_count": 12,
     "metadata": {},
     "output_type": "execute_result"
    }
   ],
   "source": [
    "len(A)"
   ]
  },
  {
   "cell_type": "markdown",
   "metadata": {},
   "source": [
    "# b)\n",
    "### i)"
   ]
  },
  {
   "cell_type": "markdown",
   "metadata": {},
   "source": [
    "Dijkstra's\n",
    "\n",
    "Runtime: $O(|V|^2+|E|)$"
   ]
  },
  {
   "cell_type": "markdown",
   "metadata": {},
   "source": [
    "### ii)"
   ]
  },
  {
   "cell_type": "markdown",
   "metadata": {},
   "source": [
    "DFS\n",
    "\n",
    "Runtime: $O(|V|+|E|)$"
   ]
  },
  {
   "cell_type": "markdown",
   "metadata": {},
   "source": [
    "### iii)"
   ]
  },
  {
   "cell_type": "markdown",
   "metadata": {},
   "source": [
    "Bellman-Ford\n",
    "\n",
    "Runtime: $O(|V||E|)$"
   ]
  },
  {
   "cell_type": "markdown",
   "metadata": {},
   "source": [
    "### iv)"
   ]
  },
  {
   "cell_type": "markdown",
   "metadata": {},
   "source": [
    "DAG shortest path or BFS\n",
    "\n",
    "Runtimes: $O(|V|+|E|)$"
   ]
  },
  {
   "cell_type": "markdown",
   "metadata": {},
   "source": [
    "# c)"
   ]
  },
  {
   "cell_type": "markdown",
   "metadata": {},
   "source": [
    "The runtimes of these three algorithms vary so I would likely provide it with several graphs of varying size and connectivity and see how the runtime scales. The runtimes are as follows:$$\\text{Bellman Ford: }O(|V||E|)$$ $$\\text{DAG Shortest-Paths: }O(|V|+|E|)$$ $$\\text{Dijkstra's: }O(|V|^2+|E|)$$\n"
   ]
  },
  {
   "cell_type": "markdown",
   "metadata": {},
   "source": [
    "If the runtime was roughly linear regardless of the input I could conclude that DAG Shortest paths was used, if the the runtime scaled quadratically with increasing the number of verticies I could conclude dijkstra's and if it scales quadratically when both the vertices and edges were icreased but roughly linearly when using a sparsely connected graph I could conclude Bellman ford."
   ]
  },
  {
   "cell_type": "markdown",
   "metadata": {},
   "source": [
    "# QUESTION 3"
   ]
  },
  {
   "cell_type": "code",
   "execution_count": 13,
   "metadata": {},
   "outputs": [],
   "source": [
    "x, y = sym.symbols('x y')"
   ]
  },
  {
   "cell_type": "code",
   "execution_count": 14,
   "metadata": {},
   "outputs": [],
   "source": [
    "f = (x-2)**2 + y**2\n",
    "g = (x**2 + y**2)*((x-2)**2 + y**2)"
   ]
  },
  {
   "cell_type": "markdown",
   "metadata": {},
   "source": [
    "# a)"
   ]
  },
  {
   "cell_type": "code",
   "execution_count": 15,
   "metadata": {},
   "outputs": [
    {
     "name": "stdout",
     "output_type": "stream",
     "text": [
      "[2*x - 4 2*y]\n"
     ]
    }
   ],
   "source": [
    "f_x = f.diff(x)\n",
    "f_y = f.diff(y)\n",
    "grad_f = np.array([f_x, f_y])\n",
    "print(grad_f)"
   ]
  },
  {
   "cell_type": "code",
   "execution_count": 16,
   "metadata": {
    "scrolled": true
   },
   "outputs": [
    {
     "name": "stdout",
     "output_type": "stream",
     "text": [
      "[2*x*(y**2 + (x - 2)**2) + (2*x - 4)*(x**2 + y**2)\n",
      " 2*y*(x**2 + y**2) + 2*y*(y**2 + (x - 2)**2)]\n"
     ]
    }
   ],
   "source": [
    "g_x = g.diff(x)\n",
    "g_y = g.diff(y)\n",
    "grad_g = np.array([g_x, g_y])\n",
    "print(grad_g)"
   ]
  },
  {
   "cell_type": "markdown",
   "metadata": {},
   "source": [
    "# b)"
   ]
  },
  {
   "cell_type": "code",
   "execution_count": 17,
   "metadata": {},
   "outputs": [
    {
     "name": "stdout",
     "output_type": "stream",
     "text": [
      "The critical point for f is:  [2 0]\n"
     ]
    }
   ],
   "source": [
    "fcx = sym.solve(f_x, x)\n",
    "fcy = sym.solve(f_y, y)\n",
    "critPtf = np.array([fcx[0], fcy[0]]) \n",
    "print('The critical point for f is: ',critPtf)"
   ]
  },
  {
   "cell_type": "code",
   "execution_count": 18,
   "metadata": {},
   "outputs": [
    {
     "name": "stdout",
     "output_type": "stream",
     "text": [
      "The critical point for g is:  [1 0]\n"
     ]
    }
   ],
   "source": [
    "gcx = sym.solve(g_x, x)\n",
    "gcy = sym.solve(g_y, y)\n",
    "critPtg = np.array([gcx[0], gcy[0]]) \n",
    "print('The critical point for g is: ',critPtg)"
   ]
  },
  {
   "cell_type": "code",
   "execution_count": 19,
   "metadata": {},
   "outputs": [],
   "source": [
    "f_xx = f.diff(x,x)\n",
    "f_yx = f.diff(y,x)\n",
    "f_xy = f.diff(x,y)\n",
    "f_yy = f.diff(y,y)"
   ]
  },
  {
   "cell_type": "code",
   "execution_count": 20,
   "metadata": {},
   "outputs": [],
   "source": [
    "g_xx = g.diff(x,x)\n",
    "g_yx = g.diff(y,x)\n",
    "g_xy = g.diff(x,y)\n",
    "g_yy = g.diff(y,y)"
   ]
  },
  {
   "cell_type": "code",
   "execution_count": 21,
   "metadata": {},
   "outputs": [],
   "source": [
    "H_f = np.array([[f_xx, f_xy],[f_yx, f_yy]])\n",
    "H_g = np.array([[g_xx.subs({'x':1,'y':0}), g_xy.subs({'x':1,'y':0})],[g_yx.subs({'x':1,'y':0}), g_yy.subs({'x':1,'y':0})]])"
   ]
  },
  {
   "cell_type": "code",
   "execution_count": 22,
   "metadata": {},
   "outputs": [
    {
     "name": "stdout",
     "output_type": "stream",
     "text": [
      "[[2 0]\n",
      " [0 2]]\n"
     ]
    }
   ],
   "source": [
    "print(H_f)"
   ]
  },
  {
   "cell_type": "code",
   "execution_count": 23,
   "metadata": {},
   "outputs": [
    {
     "name": "stdout",
     "output_type": "stream",
     "text": [
      "[[-4 0]\n",
      " [0 4]]\n"
     ]
    }
   ],
   "source": [
    "print(H_g)"
   ]
  },
  {
   "cell_type": "markdown",
   "metadata": {},
   "source": [
    "# d)"
   ]
  },
  {
   "cell_type": "code",
   "execution_count": 24,
   "metadata": {},
   "outputs": [
    {
     "name": "stdout",
     "output_type": "stream",
     "text": [
      "starting at  (3, 3)  the minima was found in  56  iterations\n"
     ]
    }
   ],
   "source": [
    "def a_k(x,y):\n",
    "    return 0.1\n",
    "\n",
    "def f_x(x,y):\n",
    "    return (a_k(x,y)*(grad_f[0].subs({'x':x,'y':y})))\n",
    "\n",
    "def f_y(x,y):\n",
    "    return (a_k(x,y)*(grad_f[1].subs({'x':x,'y':y})))\n",
    "\n",
    "X=[3]\n",
    "Y=[3]\n",
    "\n",
    "X.append(f_x(X[0],Y[0]))\n",
    "Y.append(f_y(X[0],Y[0]))\n",
    "\n",
    "while ((math.floor((X[len(X)-2]*10**6 - X[len(X)-1]*10**6)) != 0) and \n",
    "       (math.floor((Y[len(Y)-2]*10**6 - Y[len(Y)-1]*10**6)) != 0) ):\n",
    "    X.append(X[len(X) - 1] - f_x(X[len(X)-1],Y[len(Y)-1]))\n",
    "    Y.append(Y[len(Y) - 1] - f_y(X[len(X)-1],Y[len(Y)-1]))\n",
    "\n",
    "print('starting at ',(X[0],Y[0]), ' the minima was found in ',len(X),' iterations')"
   ]
  },
  {
   "cell_type": "markdown",
   "metadata": {},
   "source": [
    "# e)"
   ]
  },
  {
   "cell_type": "code",
   "execution_count": 25,
   "metadata": {
    "scrolled": true
   },
   "outputs": [
    {
     "name": "stdout",
     "output_type": "stream",
     "text": [
      "starting at  (3, 3)  the minima was found in  2  iterations\n"
     ]
    }
   ],
   "source": [
    "def a_k(x,y):\n",
    "    alphaNume  = grad_f.T.dot(grad_f).subs({'x':x,'y':y})\n",
    "    alphaDenom = grad_f.T.dot(H_f.dot(grad_f)).subs({'x':x,'y':y})\n",
    "    return float(alphaNume)/float(alphaDenom)\n",
    "\n",
    "def f_x(x,y):\n",
    "    return (a_k(x,y)*(grad_f[0].subs({'x':x,'y':y})))\n",
    "\n",
    "def f_y(x,y):\n",
    "    return (a_k(x,y)*(grad_f[1].subs({'x':x,'y':y})))\n",
    "\n",
    "X=[3]\n",
    "Y=[3]\n",
    "\n",
    "X.append(f_x(X[0],Y[0]))\n",
    "Y.append(f_y(X[0],Y[0]))\n",
    "\n",
    "while ((math.floor((X[len(X)-2]*10**6 - X[len(X)-1]*10**6)) != 0) and \n",
    "       (math.floor((Y[len(Y)-2]*10**6 - Y[len(Y)-1]*10**6)) != 0) ):\n",
    "    X.append(X[len(X) - 1] - f_x(X[len(X)-1],Y[len(Y)-1]))\n",
    "    Y.append(Y[len(Y) - 1] - f_y(X[len(X)-1],Y[len(Y)-1]))\n",
    "\n",
    "print('starting at ',(X[0],Y[0]), ' the minima was found in ',len(X),' iterations')"
   ]
  },
  {
   "cell_type": "markdown",
   "metadata": {},
   "source": [
    "# f) (This takes a long time)"
   ]
  },
  {
   "cell_type": "code",
   "execution_count": 26,
   "metadata": {
    "scrolled": false
   },
   "outputs": [
    {
     "name": "stdout",
     "output_type": "stream",
     "text": [
      "The average number of iteration is 93.14\n"
     ]
    }
   ],
   "source": [
    "def a_k(x,y):\n",
    "    return 0.1\n",
    "\n",
    "def f_x(x,y):\n",
    "    return (a_k(x,y)*(grad_f[0].subs({'x':x,'y':y})))\n",
    "\n",
    "def f_y(x,y):\n",
    "    return (a_k(x,y)*(grad_f[1].subs({'x':x,'y':y})))\n",
    "\n",
    "I = [random.randint(-3,3) for x in range(10)]\n",
    "J = [random.randint(-3,3) for x in range(10)]\n",
    "\n",
    "iterations = []\n",
    "\n",
    "for i in I:\n",
    "    for j in J:\n",
    "        X=[i]\n",
    "        Y=[j]\n",
    "\n",
    "        X.append(f_x(X[0],Y[0]))\n",
    "        Y.append(f_y(X[0],Y[0]))\n",
    "\n",
    "        while ((math.floor((X[len(X)-2]*10**6 - X[len(X)-1]*10**6)) != 0) and \n",
    "               (math.floor((Y[len(Y)-2]*10**6 - Y[len(Y)-1]*10**6)) != 0) ):\n",
    "            X.append(X[len(X) - 1] - f_x(X[len(X)-1],Y[len(Y)-1]))\n",
    "            Y.append(Y[len(Y) - 1] - f_y(X[len(X)-1],Y[len(Y)-1]))\n",
    "            \n",
    "        iterations.append(len(X))\n",
    "        \n",
    "print('The average number of iteration is {}'.format(sum(iterations)/len(iterations)))"
   ]
  },
  {
   "cell_type": "markdown",
   "metadata": {},
   "source": [
    "# g)"
   ]
  },
  {
   "cell_type": "markdown",
   "metadata": {},
   "source": [
    "The hessian matrix is a matrix of partial second derivatives. $H=\\begin{pmatrix}\\frac{\\partial^2{f}}{\\partial{x}^2}&\\frac{\\partial^2{f}}{\\partial{x}\\partial{y}}\\\\\\frac{\\partial^2{f}}{\\partial{y}\\partial{x}}&\\frac{\\partial^2{f}}{\\partial{y}^2}\\end{pmatrix}$.  It will be a definite-positive diagonal matrix in this case since there will be no cross products."
   ]
  },
  {
   "cell_type": "code",
   "execution_count": 29,
   "metadata": {},
   "outputs": [
    {
     "name": "stdout",
     "output_type": "stream",
     "text": [
      "[[2 0]\n",
      " [0 2]]\n"
     ]
    }
   ],
   "source": [
    "H = np.matrix([[f.diff(x,x),f.diff(x,y)],[f.diff(y,x),f.diff(y,y)]])\n",
    "print(H)"
   ]
  },
  {
   "cell_type": "code",
   "execution_count": 31,
   "metadata": {},
   "outputs": [
    {
     "name": "stdout",
     "output_type": "stream",
     "text": [
      "[2*x - 4 2*y]\n"
     ]
    }
   ],
   "source": [
    "f_x = f.diff(x)\n",
    "f_y = f.diff(y)\n",
    "grad_f = np.array([f_x, f_y])\n",
    "print(grad_f)"
   ]
  },
  {
   "cell_type": "code",
   "execution_count": 32,
   "metadata": {},
   "outputs": [
    {
     "name": "stdout",
     "output_type": "stream",
     "text": [
      "starting at  (3, 3)  the minima was found in  2  iterations\n"
     ]
    }
   ],
   "source": [
    "def fox(x,y):\n",
    "    return float(f_x.subs({'x':x,'y':y})/f_xx)\n",
    "\n",
    "def foy(x,y):\n",
    "    return float(f_y.subs({'x':x,'y':y})/f_yy)\n",
    "\n",
    "\n",
    "X=[3]\n",
    "Y=[3]\n",
    "\n",
    "X.append(fox(X[0],Y[0]))\n",
    "Y.append(foy(X[0],Y[0]))\n",
    "\n",
    "while ((math.floor((X[len(X)-2]*10**6 - X[len(X)-1]*10**6)) != 0) and \n",
    "       (math.floor((Y[len(Y)-2]*10**6 - Y[len(Y)-1]*10**6)) != 0) ):\n",
    "    X.append(X[len(X) - 1] - fox(X[len(X)-1],Y[len(Y)-1]))\n",
    "    Y.append(Y[len(Y) - 1] - foy(X[len(X)-1],Y[len(Y)-1]))\n",
    "\n",
    "print('starting at ',(X[0],Y[0]), ' the minima was found in ',len(X),' iterations')"
   ]
  },
  {
   "cell_type": "code",
   "execution_count": null,
   "metadata": {},
   "outputs": [],
   "source": []
  }
 ],
 "metadata": {
  "kernelspec": {
   "display_name": "Python 3 (ipykernel)",
   "language": "python",
   "name": "python3"
  },
  "language_info": {
   "codemirror_mode": {
    "name": "ipython",
    "version": 3
   },
   "file_extension": ".py",
   "mimetype": "text/x-python",
   "name": "python",
   "nbconvert_exporter": "python",
   "pygments_lexer": "ipython3",
   "version": "3.8.8"
  }
 },
 "nbformat": 4,
 "nbformat_minor": 4
}
