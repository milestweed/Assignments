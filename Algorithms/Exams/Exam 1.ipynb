{
 "cells": [
  {
   "cell_type": "markdown",
   "metadata": {},
   "source": [
    "### Miles Tweed\n",
    "#### On my honor, I have neither given nor recieved help from anyone during this exam.\n",
    "-Miles Tweed\n",
    "\n",
    "### Import statements"
   ]
  },
  {
   "cell_type": "code",
   "execution_count": 1,
   "metadata": {},
   "outputs": [],
   "source": [
    "import numpy as np\n",
    "import matplotlib.pyplot as plt\n",
    "import random\n",
    "import math\n",
    "%matplotlib inline"
   ]
  },
  {
   "cell_type": "code",
   "execution_count": 2,
   "metadata": {},
   "outputs": [],
   "source": [
    "class ProgTimer():\n",
    "    \n",
    "    def __init__(self, func):\n",
    "        self.func = func\n",
    "    \n",
    "    def progTimer(self, *args):\n",
    "        from time import time\n",
    "        from tqdm import tqdm\n",
    "        RTs = []\n",
    "        for i in tqdm(range(100000)):\n",
    "            start_time = time()\n",
    "            self.func(*args)\n",
    "            stop_time = time()\n",
    "            RTs.append(stop_time-start_time)\n",
    "        return (sum(RTs)/100000)*10e3"
   ]
  },
  {
   "cell_type": "markdown",
   "metadata": {},
   "source": [
    "## Question 1\n",
    "### a "
   ]
  },
  {
   "cell_type": "code",
   "execution_count": 3,
   "metadata": {},
   "outputs": [],
   "source": [
    "X = np.linspace(0,100)"
   ]
  },
  {
   "cell_type": "code",
   "execution_count": 4,
   "metadata": {},
   "outputs": [],
   "source": [
    "f = [np.log(4*x**2 + 10) for x in X]"
   ]
  },
  {
   "cell_type": "code",
   "execution_count": 5,
   "metadata": {},
   "outputs": [],
   "source": [
    "g = [2*x + 7 for x in X]"
   ]
  },
  {
   "cell_type": "code",
   "execution_count": 6,
   "metadata": {},
   "outputs": [
    {
     "data": {
      "text/plain": [
       "<matplotlib.legend.Legend at 0x7faaf8059eb0>"
      ]
     },
     "execution_count": 6,
     "metadata": {},
     "output_type": "execute_result"
    },
    {
     "data": {
      "image/png": "[encoded data removed]",
      "text/plain": [
       "<Figure size 432x288 with 1 Axes>"
      ]
     },
     "metadata": {
      "needs_background": "light"
     },
     "output_type": "display_data"
    }
   ],
   "source": [
    "plt.plot(X,f, color = 'blue', label = 'f(n)')\n",
    "plt.plot(X,g, color = 'red', label = 'g(n)')\n",
    "plt.plot(X,[f[x]/g[x] for x in range(len(f))], color = 'green', label = 'f(n)/g(n)')\n",
    "plt.plot(X,[g[x]/f[x] for x in range(len(f))], color = 'purple', label = 'g(n)/f(n)')\n",
    "plt.legend()"
   ]
  },
  {
   "cell_type": "markdown",
   "metadata": {},
   "source": [
    "### b"
   ]
  },
  {
   "cell_type": "markdown",
   "metadata": {},
   "source": [
    "For all $n > N \\rightarrow f(n) < g(n)$ and the ratio of $\\frac{f(n)}{g(n)}$ goes to zero as $n \\rightarrow \\infty$"
   ]
  },
  {
   "cell_type": "markdown",
   "metadata": {},
   "source": [
    "### c"
   ]
  },
  {
   "cell_type": "code",
   "execution_count": 7,
   "metadata": {},
   "outputs": [],
   "source": [
    "f2 = [np.sqrt(4*x**2 + 10) for x in X]"
   ]
  },
  {
   "cell_type": "code",
   "execution_count": 8,
   "metadata": {},
   "outputs": [
    {
     "data": {
      "text/plain": [
       "<matplotlib.legend.Legend at 0x7faaea32d910>"
      ]
     },
     "execution_count": 8,
     "metadata": {},
     "output_type": "execute_result"
    },
    {
     "data": {
      "image/png": "[encoded data removed]",
      "text/plain": [
       "<Figure size 432x288 with 1 Axes>"
      ]
     },
     "metadata": {
      "needs_background": "light"
     },
     "output_type": "display_data"
    }
   ],
   "source": [
    "plt.plot(X,f2, color = 'blue', label = 'f(n)')\n",
    "plt.plot(X,g, color = 'red', label = 'g(n)')\n",
    "plt.plot(X,[f2[x]/g[x] for x in range(len(f))], color = 'green', label = 'f2(n)/g(n)')\n",
    "plt.plot(X,[g[x]/f2[x] for x in range(len(f))], color = 'purple', label = 'g(n)/f2(n)')\n",
    "plt.legend()"
   ]
  },
  {
   "cell_type": "markdown",
   "metadata": {},
   "source": [
    "In this case both $f(n)$ and $g(n)$ are on the order of $\\theta(n)$.  This can be seen by simplifying $f(n)$ to $f(n) = 2n\\sqrt{1+\\frac{1}{2n} + \\frac{5}{n^2}}$.  Now the ratio of $\\frac{f(n)}{g(n)}$ becomes $\\frac{(1+\\frac{7}{2n})}{\\sqrt{1+\\frac{1}{2n} + \\frac{5}{n^2}}}$ which is bounded by one as $n \\rightarrow \\infty$. $\\therefore f(n) = O(g(n)) = \\theta(n)$"
   ]
  },
  {
   "cell_type": "markdown",
   "metadata": {},
   "source": [
    "## Question 2\n",
    "### a"
   ]
  },
  {
   "cell_type": "markdown",
   "metadata": {},
   "source": [
    "i. $O(n^2)$ for insertion sort because this iterative algorithm uses nested for loops and would have to run over the entire list for every value in the list to make all of the required comparisons\n",
    "\n",
    "ii. Merge-sort is a recursive alsorithm that has a worse case runtime of $O(n\\log_2(n))$. The recusion splits the list in half everytime in a total of$\\log_2(n)$ steps while the combination step compares every base case in a total of $n$ steps.\n",
    "\n",
    "iii. Quicksort has a worse case runtime of $O(n^2)$ if the list is highly skewed. This is because if the pivots are allways the largest numbers all of the sublist will be only one less that the previous one.\n",
    "\n",
    "iv. Heap-sort has a worse case runtime of $O(n\\log_2(n))$ because, no matter what, create_max_heap only need to run $\\log_2(n)$ times while the compination step always runsin $n$ steps"
   ]
  },
  {
   "cell_type": "markdown",
   "metadata": {},
   "source": [
    "### b"
   ]
  },
  {
   "cell_type": "code",
   "execution_count": 9,
   "metadata": {},
   "outputs": [],
   "source": [
    "random.seed(1234)\n",
    "A = [random.randint(1,10e6) for x in range(100)]\n",
    "\n",
    "A = sorted(A)\n",
    "\n",
    "if len(A)%2 == 1:\n",
    "    med = A[math.floor(len(A)/2)]\n",
    "else:\n",
    "    med = (A[math.floor(len(A)/2)] + A[math.floor(len(A)/2-1)])/2"
   ]
  },
  {
   "cell_type": "code",
   "execution_count": 37,
   "metadata": {},
   "outputs": [
    {
     "name": "stdout",
     "output_type": "stream",
     "text": [
      "input:\n",
      " [96977, 125687, 245263, 265759, 292395, 323793, 455144, 516974, 585964, 664204, 674524, 688920, 760500, 771171, 908910, 1058268, 1083176, 1150402, 1184276, 1263689, 1278994, 1408250, 1491979, 1520748, 1531546, 1651248, 1860408, 1919532, 1960427, 2078306, 2369409, 2412034, 2420042, 2492334, 2592943, 2593263, 2751518, 2803682, 2851647, 2975323, 3071752, 3114219, 3355984, 3608686, 3973009, 4180079, 4191420, 4470361, 4522895, 4557885, 4614423, 4643660, 4960670, 5037742, 5073918, 5123640, 5595371, 5732906, 5806410, 5808790, 5865186, 5949799, 5959924, 6330840, 6479085, 6983530, 6984771, 7315870, 7346274, 7375204, 7394267, 7606589, 7619234, 7777045, 7793051, 7816481, 7853737, 7899387, 7932720, 7984863, 8070452, 8124299, 8166336, 8319096, 8331258, 8440344, 8524536, 8641021, 8710943, 8886610, 8894630, 9077954, 9335390, 9350450, 9447354, 9714054, 9768158, 9778782, 9857093, 9981038]\n"
     ]
    }
   ],
   "source": [
    "print(\"input:\\n\",A)"
   ]
  },
  {
   "cell_type": "code",
   "execution_count": 39,
   "metadata": {},
   "outputs": [
    {
     "name": "stdout",
     "output_type": "stream",
     "text": [
      "output:\n",
      " 4586154.0\n"
     ]
    }
   ],
   "source": [
    "print(\"output:\\n\",med)"
   ]
  },
  {
   "cell_type": "markdown",
   "metadata": {},
   "source": [
    "### c"
   ]
  },
  {
   "cell_type": "code",
   "execution_count": 12,
   "metadata": {},
   "outputs": [],
   "source": [
    "def alg():\n",
    "    random.seed(1234)\n",
    "    A = [random.randint(1,10e6) for x in range(100)]\n",
    "\n",
    "    A = sorted(A)\n",
    "\n",
    "    if len(A)%2 == 1:\n",
    "        med = A[math.floor(len(A)/2)]\n",
    "    else:\n",
    "        med = (A[math.floor(len(A)/2)] + A[math.floor(len(A)/2-1)])/2"
   ]
  },
  {
   "cell_type": "code",
   "execution_count": 13,
   "metadata": {},
   "outputs": [],
   "source": [
    "timer = ProgTimer(alg)"
   ]
  },
  {
   "cell_type": "code",
   "execution_count": 14,
   "metadata": {},
   "outputs": [
    {
     "name": "stderr",
     "output_type": "stream",
     "text": [
      "100%|██████████| 100000/100000 [00:06<00:00, 15451.22it/s]\n"
     ]
    },
    {
     "data": {
      "text/plain": [
       "0.6414793968200684"
      ]
     },
     "execution_count": 14,
     "metadata": {},
     "output_type": "execute_result"
    }
   ],
   "source": [
    "timer.progTimer() # returns time in ms"
   ]
  },
  {
   "cell_type": "markdown",
   "metadata": {},
   "source": [
    "### d"
   ]
  },
  {
   "cell_type": "code",
   "execution_count": 15,
   "metadata": {},
   "outputs": [],
   "source": [
    "lists = [[random.randint(1,10e6) for x in range(100)] for x in range(10)]\n",
    "def alg2(A):\n",
    "\n",
    "    A = sorted(A)\n",
    "\n",
    "    if len(A)%2 == 1:\n",
    "        med = A[math.floor(len(A)/2)]\n",
    "    else:\n",
    "        med = (A[math.floor(len(A)/2)] + A[math.floor(len(A)/2-1)])/2"
   ]
  },
  {
   "cell_type": "code",
   "execution_count": 28,
   "metadata": {},
   "outputs": [
    {
     "name": "stderr",
     "output_type": "stream",
     "text": [
      "100%|██████████| 100000/100000 [00:00<00:00, 423532.74it/s]\n",
      "100%|██████████| 100000/100000 [00:00<00:00, 426085.86it/s]\n",
      "100%|██████████| 100000/100000 [00:00<00:00, 425589.10it/s]\n",
      "100%|██████████| 100000/100000 [00:00<00:00, 420776.04it/s]\n",
      "100%|██████████| 100000/100000 [00:00<00:00, 425264.17it/s]\n",
      "100%|██████████| 100000/100000 [00:00<00:00, 405927.62it/s]\n",
      "100%|██████████| 100000/100000 [00:00<00:00, 420770.55it/s]\n",
      "100%|██████████| 100000/100000 [00:00<00:00, 407338.95it/s]\n",
      "100%|██████████| 100000/100000 [00:00<00:00, 425404.78it/s]\n",
      "100%|██████████| 100000/100000 [00:00<00:00, 408744.19it/s]\n"
     ]
    }
   ],
   "source": [
    "runtimesD = []\n",
    "timer2 = ProgTimer(alg2)\n",
    "for i in range(10):\n",
    "    runtimesD.append((timer2.progTimer(lists[i])))"
   ]
  },
  {
   "cell_type": "code",
   "execution_count": 29,
   "metadata": {},
   "outputs": [
    {
     "data": {
      "text/plain": [
       "[0.0208066463470459,\n",
       " 0.02076714038848877,\n",
       " 0.020861434936523437,\n",
       " 0.02104651927947998,\n",
       " 0.0207474946975708,\n",
       " 0.021921801567077636,\n",
       " 0.02103705406188965,\n",
       " 0.021711802482604983,\n",
       " 0.020734381675720216,\n",
       " 0.021680498123168947]"
      ]
     },
     "execution_count": 29,
     "metadata": {},
     "output_type": "execute_result"
    }
   ],
   "source": [
    "runtimesD"
   ]
  },
  {
   "cell_type": "code",
   "execution_count": 33,
   "metadata": {},
   "outputs": [
    {
     "data": {
      "text/plain": [
       "(0.0, 0.1)"
      ]
     },
     "execution_count": 33,
     "metadata": {},
     "output_type": "execute_result"
    },
    {
     "data": {
      "image/png": "[encoded data removed]",
      "text/plain": [
       "<Figure size 432x288 with 1 Axes>"
      ]
     },
     "metadata": {
      "needs_background": "light"
     },
     "output_type": "display_data"
    }
   ],
   "source": [
    "plt.plot(range(10),runtimesD)\n",
    "plt.ylim(0,0.1)"
   ]
  },
  {
   "cell_type": "markdown",
   "metadata": {},
   "source": [
    "### e"
   ]
  },
  {
   "cell_type": "code",
   "execution_count": 22,
   "metadata": {},
   "outputs": [],
   "source": [
    "lists2 = [[random.randint(1,10e6) for x in range(y)] for y in [100,200,300,400,500,600,700,800,900,1000]]"
   ]
  },
  {
   "cell_type": "code",
   "execution_count": 25,
   "metadata": {},
   "outputs": [
    {
     "name": "stderr",
     "output_type": "stream",
     "text": [
      "100%|██████████| 100000/100000 [00:00<00:00, 417448.77it/s]\n",
      "100%|██████████| 100000/100000 [00:00<00:00, 238616.42it/s]\n",
      "100%|██████████| 100000/100000 [00:00<00:00, 127644.86it/s]\n",
      "100%|██████████| 100000/100000 [00:01<00:00, 70971.02it/s]\n",
      "100%|██████████| 100000/100000 [00:02<00:00, 48447.96it/s]\n",
      "100%|██████████| 100000/100000 [00:02<00:00, 36787.63it/s]\n",
      "100%|██████████| 100000/100000 [00:03<00:00, 29606.19it/s]\n",
      "100%|██████████| 100000/100000 [00:04<00:00, 23864.06it/s]\n",
      "100%|██████████| 100000/100000 [00:04<00:00, 20604.62it/s]\n",
      "100%|██████████| 100000/100000 [00:05<00:00, 17916.50it/s]\n"
     ]
    }
   ],
   "source": [
    "runtimesE = []\n",
    "for i in range(len(lists2)):\n",
    "    runtimesE.append(timer2.progTimer(lists2[i]))"
   ]
  },
  {
   "cell_type": "code",
   "execution_count": 27,
   "metadata": {},
   "outputs": [
    {
     "data": {
      "text/plain": [
       "[0.02128114700317383,\n",
       " 0.039151573181152345,\n",
       " 0.07538883686065674,\n",
       " 0.13756418228149414,\n",
       " 0.20263433456420898,\n",
       " 0.26737165451049805,\n",
       " 0.3334830045700073,\n",
       " 0.4140043497085571,\n",
       " 0.4797541379928589,\n",
       " 0.552318000793457]"
      ]
     },
     "execution_count": 27,
     "metadata": {},
     "output_type": "execute_result"
    }
   ],
   "source": [
    "runtimesE"
   ]
  },
  {
   "cell_type": "code",
   "execution_count": 36,
   "metadata": {},
   "outputs": [
    {
     "data": {
      "text/plain": [
       "[<matplotlib.lines.Line2D at 0x7faae8ef8e50>]"
      ]
     },
     "execution_count": 36,
     "metadata": {},
     "output_type": "execute_result"
    },
    {
     "data": {
      "image/png": "[encoded data removed]",
      "text/plain": [
       "<Figure size 432x288 with 1 Axes>"
      ]
     },
     "metadata": {
      "needs_background": "light"
     },
     "output_type": "display_data"
    }
   ],
   "source": [
    "plt.plot([100,200,300,400,500,600,700,800,900,1000],runtimesE)"
   ]
  },
  {
   "cell_type": "markdown",
   "metadata": {},
   "source": [
    "### F"
   ]
  },
  {
   "cell_type": "markdown",
   "metadata": {},
   "source": [
    "The alteration in part E can be used to eliminate insertion sort because we would expect to see quadratic growth with this type of test and we do not. This is because insertion sort has a quadratic runtime on average. However we could not use this test to eliminate Quicksort because the average runtime for Quicksort is the same as for Mergesort"
   ]
  },
  {
   "cell_type": "markdown",
   "metadata": {},
   "source": [
    "## Question 3\n",
    "### 1.a"
   ]
  },
  {
   "cell_type": "markdown",
   "metadata": {},
   "source": [
    "```\n",
    "INPUT = A,N\n",
    "FOR i IN RANGE A.LENGTH DO\n",
    "     IF A[i] EQUALS N DO\n",
    "         RETURN TRUE\n",
    "     END IF\n",
    "```"
   ]
  },
  {
   "cell_type": "markdown",
   "metadata": {},
   "source": [
    "### 1.b\n",
    "```\n",
    "FIND(INPUT = A,N)\n",
    "    IF A EQUALS N DO\n",
    "        RETURN TRUE\n",
    "    ELSE DO\n",
    "        i EQUALS FLOOR(A.LENGTH/2)\n",
    "        RETURN FIND(A[0:i-1],N)\n",
    "        RETURN FIND(A[i:n],N)\n",
    "```"
   ]
  },
  {
   "cell_type": "markdown",
   "metadata": {},
   "source": [
    "### 1.c"
   ]
  },
  {
   "cell_type": "markdown",
   "metadata": {},
   "source": [
    "The algorithm in 1.a has a worse case runtime of $O(n)$ because if the item is at the end of the list the algorithm has to iterate over the entire list\n",
    "\n",
    "The algorithm in 1.b had a runtime of $O(log(n))$ because it divides and conquers by splitting the list in half at every recusion."
   ]
  },
  {
   "cell_type": "markdown",
   "metadata": {},
   "source": [
    "### 2.a"
   ]
  },
  {
   "cell_type": "markdown",
   "metadata": {},
   "source": [
    "The brute force solution would be to calculate the sum of every combinations of items in the list. Since this list would have $n!$ permutation of the items in the list, The runtime would be on order $\\theta(n!)$"
   ]
  },
  {
   "cell_type": "markdown",
   "metadata": {},
   "source": [
    "### 2.b"
   ]
  },
  {
   "cell_type": "markdown",
   "metadata": {},
   "source": [
    "Yes this would be a candidate for dynamic programming.  This is because it is a question that involves subsets of a list which are an optimal substructure. Additionally the subproblems would all be of the same sort, namely a calculation of the sum of a subset."
   ]
  },
  {
   "cell_type": "code",
   "execution_count": null,
   "metadata": {},
   "outputs": [],
   "source": []
  }
 ],
 "metadata": {
  "kernelspec": {
   "display_name": "Python 3 (ipykernel)",
   "language": "python",
   "name": "python3"
  },
  "language_info": {
   "codemirror_mode": {
    "name": "ipython",
    "version": 3
   },
   "file_extension": ".py",
   "mimetype": "text/x-python",
   "name": "python",
   "nbconvert_exporter": "python",
   "pygments_lexer": "ipython3",
   "version": "3.8.8"
  }
 },
 "nbformat": 4,
 "nbformat_minor": 4
}
