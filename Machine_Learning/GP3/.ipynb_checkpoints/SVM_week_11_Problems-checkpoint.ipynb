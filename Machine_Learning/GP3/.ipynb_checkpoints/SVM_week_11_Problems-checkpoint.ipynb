{
 "cells": [
  {
   "cell_type": "code",
   "execution_count": 1,
   "id": "impossible-happening",
   "metadata": {},
   "outputs": [],
   "source": [
    "import pandas as pd\n",
    "from sklearn.utils import parallel_backend\n",
    "from sklearn.model_selection import cross_val_score, KFold\n",
    "from sklearn import datasets\n",
    "from sklearn import svm\n",
    "from joblibspark import register_spark"
   ]
  },
  {
   "cell_type": "code",
   "execution_count": 2,
   "id": "changing-conjunction",
   "metadata": {},
   "outputs": [],
   "source": [
    "register_spark() # register spark backend"
   ]
  },
  {
   "cell_type": "code",
   "execution_count": 3,
   "id": "surgical-dynamics",
   "metadata": {},
   "outputs": [
    {
     "data": {
      "text/html": [
       "<div>\n",
       "<style scoped>\n",
       "    .dataframe tbody tr th:only-of-type {\n",
       "        vertical-align: middle;\n",
       "    }\n",
       "\n",
       "    .dataframe tbody tr th {\n",
       "        vertical-align: top;\n",
       "    }\n",
       "\n",
       "    .dataframe thead th {\n",
       "        text-align: right;\n",
       "    }\n",
       "</style>\n",
       "<table border=\"1\" class=\"dataframe\">\n",
       "  <thead>\n",
       "    <tr style=\"text-align: right;\">\n",
       "      <th></th>\n",
       "      <th>label</th>\n",
       "      <th>1x1</th>\n",
       "      <th>1x2</th>\n",
       "      <th>1x3</th>\n",
       "      <th>1x4</th>\n",
       "      <th>1x5</th>\n",
       "      <th>1x6</th>\n",
       "      <th>1x7</th>\n",
       "      <th>1x8</th>\n",
       "      <th>1x9</th>\n",
       "      <th>...</th>\n",
       "      <th>28x19</th>\n",
       "      <th>28x20</th>\n",
       "      <th>28x21</th>\n",
       "      <th>28x22</th>\n",
       "      <th>28x23</th>\n",
       "      <th>28x24</th>\n",
       "      <th>28x25</th>\n",
       "      <th>28x26</th>\n",
       "      <th>28x27</th>\n",
       "      <th>28x28</th>\n",
       "    </tr>\n",
       "  </thead>\n",
       "  <tbody>\n",
       "    <tr>\n",
       "      <th>0</th>\n",
       "      <td>5</td>\n",
       "      <td>0</td>\n",
       "      <td>0</td>\n",
       "      <td>0</td>\n",
       "      <td>0</td>\n",
       "      <td>0</td>\n",
       "      <td>0</td>\n",
       "      <td>0</td>\n",
       "      <td>0</td>\n",
       "      <td>0</td>\n",
       "      <td>...</td>\n",
       "      <td>0</td>\n",
       "      <td>0</td>\n",
       "      <td>0</td>\n",
       "      <td>0</td>\n",
       "      <td>0</td>\n",
       "      <td>0</td>\n",
       "      <td>0</td>\n",
       "      <td>0</td>\n",
       "      <td>0</td>\n",
       "      <td>0</td>\n",
       "    </tr>\n",
       "    <tr>\n",
       "      <th>1</th>\n",
       "      <td>0</td>\n",
       "      <td>0</td>\n",
       "      <td>0</td>\n",
       "      <td>0</td>\n",
       "      <td>0</td>\n",
       "      <td>0</td>\n",
       "      <td>0</td>\n",
       "      <td>0</td>\n",
       "      <td>0</td>\n",
       "      <td>0</td>\n",
       "      <td>...</td>\n",
       "      <td>0</td>\n",
       "      <td>0</td>\n",
       "      <td>0</td>\n",
       "      <td>0</td>\n",
       "      <td>0</td>\n",
       "      <td>0</td>\n",
       "      <td>0</td>\n",
       "      <td>0</td>\n",
       "      <td>0</td>\n",
       "      <td>0</td>\n",
       "    </tr>\n",
       "    <tr>\n",
       "      <th>2</th>\n",
       "      <td>4</td>\n",
       "      <td>0</td>\n",
       "      <td>0</td>\n",
       "      <td>0</td>\n",
       "      <td>0</td>\n",
       "      <td>0</td>\n",
       "      <td>0</td>\n",
       "      <td>0</td>\n",
       "      <td>0</td>\n",
       "      <td>0</td>\n",
       "      <td>...</td>\n",
       "      <td>0</td>\n",
       "      <td>0</td>\n",
       "      <td>0</td>\n",
       "      <td>0</td>\n",
       "      <td>0</td>\n",
       "      <td>0</td>\n",
       "      <td>0</td>\n",
       "      <td>0</td>\n",
       "      <td>0</td>\n",
       "      <td>0</td>\n",
       "    </tr>\n",
       "    <tr>\n",
       "      <th>3</th>\n",
       "      <td>1</td>\n",
       "      <td>0</td>\n",
       "      <td>0</td>\n",
       "      <td>0</td>\n",
       "      <td>0</td>\n",
       "      <td>0</td>\n",
       "      <td>0</td>\n",
       "      <td>0</td>\n",
       "      <td>0</td>\n",
       "      <td>0</td>\n",
       "      <td>...</td>\n",
       "      <td>0</td>\n",
       "      <td>0</td>\n",
       "      <td>0</td>\n",
       "      <td>0</td>\n",
       "      <td>0</td>\n",
       "      <td>0</td>\n",
       "      <td>0</td>\n",
       "      <td>0</td>\n",
       "      <td>0</td>\n",
       "      <td>0</td>\n",
       "    </tr>\n",
       "    <tr>\n",
       "      <th>4</th>\n",
       "      <td>9</td>\n",
       "      <td>0</td>\n",
       "      <td>0</td>\n",
       "      <td>0</td>\n",
       "      <td>0</td>\n",
       "      <td>0</td>\n",
       "      <td>0</td>\n",
       "      <td>0</td>\n",
       "      <td>0</td>\n",
       "      <td>0</td>\n",
       "      <td>...</td>\n",
       "      <td>0</td>\n",
       "      <td>0</td>\n",
       "      <td>0</td>\n",
       "      <td>0</td>\n",
       "      <td>0</td>\n",
       "      <td>0</td>\n",
       "      <td>0</td>\n",
       "      <td>0</td>\n",
       "      <td>0</td>\n",
       "      <td>0</td>\n",
       "    </tr>\n",
       "  </tbody>\n",
       "</table>\n",
       "<p>5 rows × 785 columns</p>\n",
       "</div>"
      ],
      "text/plain": [
       "   label  1x1  1x2  1x3  1x4  1x5  1x6  1x7  1x8  1x9  ...  28x19  28x20  \\\n",
       "0      5    0    0    0    0    0    0    0    0    0  ...      0      0   \n",
       "1      0    0    0    0    0    0    0    0    0    0  ...      0      0   \n",
       "2      4    0    0    0    0    0    0    0    0    0  ...      0      0   \n",
       "3      1    0    0    0    0    0    0    0    0    0  ...      0      0   \n",
       "4      9    0    0    0    0    0    0    0    0    0  ...      0      0   \n",
       "\n",
       "   28x21  28x22  28x23  28x24  28x25  28x26  28x27  28x28  \n",
       "0      0      0      0      0      0      0      0      0  \n",
       "1      0      0      0      0      0      0      0      0  \n",
       "2      0      0      0      0      0      0      0      0  \n",
       "3      0      0      0      0      0      0      0      0  \n",
       "4      0      0      0      0      0      0      0      0  \n",
       "\n",
       "[5 rows x 785 columns]"
      ]
     },
     "execution_count": 3,
     "metadata": {},
     "output_type": "execute_result"
    }
   ],
   "source": [
    "trainDF = pd.read_csv(\"./data/mnist_train.csv\")\n",
    "trainDF.head()"
   ]
  },
  {
   "cell_type": "code",
   "execution_count": 4,
   "id": "civil-allen",
   "metadata": {},
   "outputs": [],
   "source": [
    "y_train = trainDF.iloc[:,0]\n",
    "X_train = trainDF.iloc[:,1:]"
   ]
  },
  {
   "cell_type": "code",
   "execution_count": 5,
   "id": "proved-leadership",
   "metadata": {
    "scrolled": true
   },
   "outputs": [
    {
     "data": {
      "text/html": [
       "<div>\n",
       "<style scoped>\n",
       "    .dataframe tbody tr th:only-of-type {\n",
       "        vertical-align: middle;\n",
       "    }\n",
       "\n",
       "    .dataframe tbody tr th {\n",
       "        vertical-align: top;\n",
       "    }\n",
       "\n",
       "    .dataframe thead th {\n",
       "        text-align: right;\n",
       "    }\n",
       "</style>\n",
       "<table border=\"1\" class=\"dataframe\">\n",
       "  <thead>\n",
       "    <tr style=\"text-align: right;\">\n",
       "      <th></th>\n",
       "      <th>label</th>\n",
       "      <th>1x1</th>\n",
       "      <th>1x2</th>\n",
       "      <th>1x3</th>\n",
       "      <th>1x4</th>\n",
       "      <th>1x5</th>\n",
       "      <th>1x6</th>\n",
       "      <th>1x7</th>\n",
       "      <th>1x8</th>\n",
       "      <th>1x9</th>\n",
       "      <th>...</th>\n",
       "      <th>28x19</th>\n",
       "      <th>28x20</th>\n",
       "      <th>28x21</th>\n",
       "      <th>28x22</th>\n",
       "      <th>28x23</th>\n",
       "      <th>28x24</th>\n",
       "      <th>28x25</th>\n",
       "      <th>28x26</th>\n",
       "      <th>28x27</th>\n",
       "      <th>28x28</th>\n",
       "    </tr>\n",
       "  </thead>\n",
       "  <tbody>\n",
       "    <tr>\n",
       "      <th>0</th>\n",
       "      <td>7</td>\n",
       "      <td>0</td>\n",
       "      <td>0</td>\n",
       "      <td>0</td>\n",
       "      <td>0</td>\n",
       "      <td>0</td>\n",
       "      <td>0</td>\n",
       "      <td>0</td>\n",
       "      <td>0</td>\n",
       "      <td>0</td>\n",
       "      <td>...</td>\n",
       "      <td>0</td>\n",
       "      <td>0</td>\n",
       "      <td>0</td>\n",
       "      <td>0</td>\n",
       "      <td>0</td>\n",
       "      <td>0</td>\n",
       "      <td>0</td>\n",
       "      <td>0</td>\n",
       "      <td>0</td>\n",
       "      <td>0</td>\n",
       "    </tr>\n",
       "    <tr>\n",
       "      <th>1</th>\n",
       "      <td>2</td>\n",
       "      <td>0</td>\n",
       "      <td>0</td>\n",
       "      <td>0</td>\n",
       "      <td>0</td>\n",
       "      <td>0</td>\n",
       "      <td>0</td>\n",
       "      <td>0</td>\n",
       "      <td>0</td>\n",
       "      <td>0</td>\n",
       "      <td>...</td>\n",
       "      <td>0</td>\n",
       "      <td>0</td>\n",
       "      <td>0</td>\n",
       "      <td>0</td>\n",
       "      <td>0</td>\n",
       "      <td>0</td>\n",
       "      <td>0</td>\n",
       "      <td>0</td>\n",
       "      <td>0</td>\n",
       "      <td>0</td>\n",
       "    </tr>\n",
       "    <tr>\n",
       "      <th>2</th>\n",
       "      <td>1</td>\n",
       "      <td>0</td>\n",
       "      <td>0</td>\n",
       "      <td>0</td>\n",
       "      <td>0</td>\n",
       "      <td>0</td>\n",
       "      <td>0</td>\n",
       "      <td>0</td>\n",
       "      <td>0</td>\n",
       "      <td>0</td>\n",
       "      <td>...</td>\n",
       "      <td>0</td>\n",
       "      <td>0</td>\n",
       "      <td>0</td>\n",
       "      <td>0</td>\n",
       "      <td>0</td>\n",
       "      <td>0</td>\n",
       "      <td>0</td>\n",
       "      <td>0</td>\n",
       "      <td>0</td>\n",
       "      <td>0</td>\n",
       "    </tr>\n",
       "    <tr>\n",
       "      <th>3</th>\n",
       "      <td>0</td>\n",
       "      <td>0</td>\n",
       "      <td>0</td>\n",
       "      <td>0</td>\n",
       "      <td>0</td>\n",
       "      <td>0</td>\n",
       "      <td>0</td>\n",
       "      <td>0</td>\n",
       "      <td>0</td>\n",
       "      <td>0</td>\n",
       "      <td>...</td>\n",
       "      <td>0</td>\n",
       "      <td>0</td>\n",
       "      <td>0</td>\n",
       "      <td>0</td>\n",
       "      <td>0</td>\n",
       "      <td>0</td>\n",
       "      <td>0</td>\n",
       "      <td>0</td>\n",
       "      <td>0</td>\n",
       "      <td>0</td>\n",
       "    </tr>\n",
       "    <tr>\n",
       "      <th>4</th>\n",
       "      <td>4</td>\n",
       "      <td>0</td>\n",
       "      <td>0</td>\n",
       "      <td>0</td>\n",
       "      <td>0</td>\n",
       "      <td>0</td>\n",
       "      <td>0</td>\n",
       "      <td>0</td>\n",
       "      <td>0</td>\n",
       "      <td>0</td>\n",
       "      <td>...</td>\n",
       "      <td>0</td>\n",
       "      <td>0</td>\n",
       "      <td>0</td>\n",
       "      <td>0</td>\n",
       "      <td>0</td>\n",
       "      <td>0</td>\n",
       "      <td>0</td>\n",
       "      <td>0</td>\n",
       "      <td>0</td>\n",
       "      <td>0</td>\n",
       "    </tr>\n",
       "  </tbody>\n",
       "</table>\n",
       "<p>5 rows × 785 columns</p>\n",
       "</div>"
      ],
      "text/plain": [
       "   label  1x1  1x2  1x3  1x4  1x5  1x6  1x7  1x8  1x9  ...  28x19  28x20  \\\n",
       "0      7    0    0    0    0    0    0    0    0    0  ...      0      0   \n",
       "1      2    0    0    0    0    0    0    0    0    0  ...      0      0   \n",
       "2      1    0    0    0    0    0    0    0    0    0  ...      0      0   \n",
       "3      0    0    0    0    0    0    0    0    0    0  ...      0      0   \n",
       "4      4    0    0    0    0    0    0    0    0    0  ...      0      0   \n",
       "\n",
       "   28x21  28x22  28x23  28x24  28x25  28x26  28x27  28x28  \n",
       "0      0      0      0      0      0      0      0      0  \n",
       "1      0      0      0      0      0      0      0      0  \n",
       "2      0      0      0      0      0      0      0      0  \n",
       "3      0      0      0      0      0      0      0      0  \n",
       "4      0      0      0      0      0      0      0      0  \n",
       "\n",
       "[5 rows x 785 columns]"
      ]
     },
     "execution_count": 5,
     "metadata": {},
     "output_type": "execute_result"
    }
   ],
   "source": [
    "testDF = pd.read_csv(\"./data/mnist_test.csv\")\n",
    "testDF.head()"
   ]
  },
  {
   "cell_type": "code",
   "execution_count": 6,
   "id": "individual-cambridge",
   "metadata": {},
   "outputs": [],
   "source": [
    "y_test = testDF.iloc[:,0]\n",
    "X_test = testDF.iloc[:,1:]"
   ]
  },
  {
   "cell_type": "markdown",
   "id": "turkish-roulette",
   "metadata": {},
   "source": [
    "# Cross-Validation\n",
    "\n",
    "The tuning parameter for the support vector classifier is C and the default value is 1.  We first tested the default model and then chose 2 other values to compare to. We chose a value under the default (0.5) and one larger than the default (10)."
   ]
  },
  {
   "cell_type": "markdown",
   "id": "amazing-valley",
   "metadata": {},
   "source": [
    "## Poly Kernel One"
   ]
  },
  {
   "cell_type": "code",
   "execution_count": 7,
   "id": "adjusted-amateur",
   "metadata": {},
   "outputs": [],
   "source": [
    "kfold = KFold(n_splits=5)"
   ]
  },
  {
   "cell_type": "code",
   "execution_count": 8,
   "id": "deadly-premiere",
   "metadata": {},
   "outputs": [],
   "source": [
    "clf_PolyOne = svm.SVC(kernel='poly', C=1)"
   ]
  },
  {
   "cell_type": "code",
   "execution_count": 9,
   "id": "pleased-sampling",
   "metadata": {},
   "outputs": [
    {
     "name": "stdout",
     "output_type": "stream",
     "text": [
      "[0.97441667 0.97316667 0.97316667 0.97108333 0.97675   ]\n"
     ]
    }
   ],
   "source": [
    "with parallel_backend('spark', n_jobs=-1):\n",
    "    p1scores = cross_val_score(clf_PolyOne, X_train, y_train, cv=kfold)\n",
    "\n",
    "print(p1scores)"
   ]
  },
  {
   "cell_type": "markdown",
   "id": "stock-oxide",
   "metadata": {},
   "source": [
    "## Poly Kernel Two"
   ]
  },
  {
   "cell_type": "code",
   "execution_count": 10,
   "id": "motivated-enhancement",
   "metadata": {},
   "outputs": [],
   "source": [
    "clf_PolyTwo = svm.SVC(kernel='poly', C=0.5)"
   ]
  },
  {
   "cell_type": "code",
   "execution_count": 11,
   "id": "documented-irish",
   "metadata": {},
   "outputs": [
    {
     "name": "stdout",
     "output_type": "stream",
     "text": [
      "[0.97041667 0.96866667 0.96766667 0.967      0.97333333]\n"
     ]
    }
   ],
   "source": [
    "with parallel_backend('spark', n_jobs=-1):\n",
    "    p2scores = cross_val_score(clf_PolyTwo, X_train, y_train, cv=kfold)\n",
    "\n",
    "print(p2scores)"
   ]
  },
  {
   "cell_type": "markdown",
   "id": "impressed-trouble",
   "metadata": {},
   "source": [
    "## Poly Kernel Three"
   ]
  },
  {
   "cell_type": "code",
   "execution_count": 12,
   "id": "fancy-brief",
   "metadata": {},
   "outputs": [],
   "source": [
    "clf_PolyThree = svm.SVC(kernel='poly', C=10)"
   ]
  },
  {
   "cell_type": "code",
   "execution_count": 13,
   "id": "applicable-commercial",
   "metadata": {
    "scrolled": true
   },
   "outputs": [
    {
     "name": "stdout",
     "output_type": "stream",
     "text": [
      "[0.97833333 0.976      0.97558333 0.97391667 0.97791667]\n"
     ]
    }
   ],
   "source": [
    "with parallel_backend('spark', n_jobs=-1):\n",
    "    p3scores = cross_val_score(clf_PolyThree, X_train, y_train, cv=kfold)\n",
    "\n",
    "print(p3scores)"
   ]
  },
  {
   "cell_type": "markdown",
   "id": "growing-merchandise",
   "metadata": {},
   "source": [
    "## Radial Kernel One"
   ]
  },
  {
   "cell_type": "code",
   "execution_count": 15,
   "id": "documentary-voice",
   "metadata": {},
   "outputs": [],
   "source": [
    "clf_RadialOne = svm.SVC(kernel='rbf', C=1)"
   ]
  },
  {
   "cell_type": "code",
   "execution_count": 16,
   "id": "noted-access",
   "metadata": {},
   "outputs": [
    {
     "name": "stdout",
     "output_type": "stream",
     "text": [
      "[0.97925    0.97575    0.97733333 0.97383333 0.97858333]\n"
     ]
    }
   ],
   "source": [
    "with parallel_backend('spark', n_jobs=-1):\n",
    "    r1scores = cross_val_score(clf_RadialOne, X_train, y_train, cv=kfold)\n",
    "\n",
    "print(r1scores)"
   ]
  },
  {
   "cell_type": "markdown",
   "id": "sticky-windows",
   "metadata": {},
   "source": [
    "## Radial Kernel Two"
   ]
  },
  {
   "cell_type": "code",
   "execution_count": 17,
   "id": "concerned-meter",
   "metadata": {},
   "outputs": [],
   "source": [
    "clf_RadialTwo = svm.SVC(kernel='rbf', C=0.5)"
   ]
  },
  {
   "cell_type": "code",
   "execution_count": 18,
   "id": "breathing-multiple",
   "metadata": {},
   "outputs": [
    {
     "name": "stdout",
     "output_type": "stream",
     "text": [
      "[0.97458333 0.97208333 0.97016667 0.969      0.97408333]\n"
     ]
    }
   ],
   "source": [
    "with parallel_backend('spark', n_jobs=-1):\n",
    "    r2scores = cross_val_score(clf_RadialTwo, X_train, y_train, cv=kfold)\n",
    "\n",
    "print(r2scores)"
   ]
  },
  {
   "cell_type": "markdown",
   "id": "understood-senate",
   "metadata": {},
   "source": [
    "## Radial Kernel Three"
   ]
  },
  {
   "cell_type": "code",
   "execution_count": 19,
   "id": "occasional-mountain",
   "metadata": {},
   "outputs": [],
   "source": [
    "clf_RadialThree = svm.SVC(kernel='rbf', C=10)"
   ]
  },
  {
   "cell_type": "code",
   "execution_count": 20,
   "id": "armed-stationery",
   "metadata": {},
   "outputs": [
    {
     "name": "stdout",
     "output_type": "stream",
     "text": [
      "[0.98466667 0.98216667 0.98       0.97875    0.98341667]\n"
     ]
    }
   ],
   "source": [
    "with parallel_backend('spark', n_jobs=-1):\n",
    "    r3scores = cross_val_score(clf_RadialThree, X_train, y_train, cv=kfold)\n",
    "\n",
    "print(r3scores)"
   ]
  },
  {
   "cell_type": "markdown",
   "id": "individual-worthy",
   "metadata": {},
   "source": [
    "## Visualization"
   ]
  },
  {
   "cell_type": "code",
   "execution_count": 29,
   "id": "ceramic-cleaner",
   "metadata": {},
   "outputs": [],
   "source": [
    "import numpy as np\n",
    "import matplotlib.pyplot as plt\n",
    "%matplotlib inline"
   ]
  },
  {
   "cell_type": "code",
   "execution_count": 40,
   "id": "popular-reverse",
   "metadata": {},
   "outputs": [
    {
     "data": {
      "text/plain": [
       "Text(0.5, 1.0, 'Poly and Radial SVM Model Accuracy')"
      ]
     },
     "execution_count": 40,
     "metadata": {},
     "output_type": "execute_result"
    },
    {
     "data": {
      "image/png": "[encoded data removed]",
      "text/plain": [
       "<Figure size 432x288 with 1 Axes>"
      ]
     },
     "metadata": {
      "needs_background": "light"
     },
     "output_type": "display_data"
    }
   ],
   "source": [
    "plt.bar(x = [\"Poly Model 1\",\n",
    "             \"Poly Model 2\",\n",
    "             \"Poly Model 3\",\n",
    "             \"Radial Model 1\",\n",
    "             \"Radial Model 2\",\n",
    "             \"Radial Model 3\"],\n",
    "       height = [np.mean(p1scores),\n",
    "                 np.mean(p2scores),\n",
    "                 np.mean(p3scores),\n",
    "                 np.mean(r1scores),\n",
    "                 np.mean(r2scores),\n",
    "                 np.mean(r3scores)],\n",
    "       yerr = [np.std(p1scores),\n",
    "               np.std(p2scores),\n",
    "               np.std(p3scores),\n",
    "               np.std(r1scores),\n",
    "               np.std(r2scores),\n",
    "               np.std(r3scores)],\n",
    "        color = ['#f94144',\n",
    "                 '#f3722c',\n",
    "                 '#f9c74f',\n",
    "                 '#90be6d',\n",
    "                 '#43aa8b',\n",
    "                 '#577590'])\n",
    "plt.ylim(0.95, 1)\n",
    "plt.xticks(rotation = 60)\n",
    "plt.ylabel('Accuracy')\n",
    "plt.title(\"Poly and Radial SVM Model Accuracy\")"
   ]
  },
  {
   "cell_type": "code",
   "execution_count": 37,
   "id": "piano-demand",
   "metadata": {},
   "outputs": [],
   "source": [
    "df = pd.DataFrame({\"Model\":[\"Poly Model 1\",\n",
    "                            \"Poly Model 2\",\n",
    "                            \"Poly Model 3\",\n",
    "                            \"Radial Model 1\",\n",
    "                            \"Radial Model 2\",\n",
    "                            \"Radial Model 3\"],\n",
    "                   \"Accuracy\":[np.mean(p1scores),\n",
    "                               np.mean(p2scores),\n",
    "                               np.mean(p3scores),\n",
    "                               np.mean(r1scores),\n",
    "                               np.mean(r2scores),\n",
    "                               np.mean(r3scores)],\n",
    "                   \"Fold Deviation\":[np.std(p1scores),\n",
    "                                     np.std(p2scores),\n",
    "                                     np.std(p3scores),\n",
    "                                     np.std(r1scores),\n",
    "                                     np.std(r2scores),\n",
    "                                     np.std(r3scores)]})"
   ]
  },
  {
   "cell_type": "code",
   "execution_count": 39,
   "id": "mysterious-service",
   "metadata": {},
   "outputs": [
    {
     "data": {
      "text/html": [
       "<div>\n",
       "<style scoped>\n",
       "    .dataframe tbody tr th:only-of-type {\n",
       "        vertical-align: middle;\n",
       "    }\n",
       "\n",
       "    .dataframe tbody tr th {\n",
       "        vertical-align: top;\n",
       "    }\n",
       "\n",
       "    .dataframe thead th {\n",
       "        text-align: right;\n",
       "    }\n",
       "</style>\n",
       "<table border=\"1\" class=\"dataframe\">\n",
       "  <thead>\n",
       "    <tr style=\"text-align: right;\">\n",
       "      <th></th>\n",
       "      <th>Model</th>\n",
       "      <th>Accuracy</th>\n",
       "      <th>Fold Deviation</th>\n",
       "    </tr>\n",
       "  </thead>\n",
       "  <tbody>\n",
       "    <tr>\n",
       "      <th>0</th>\n",
       "      <td>Poly Model 1</td>\n",
       "      <td>0.973717</td>\n",
       "      <td>0.001856</td>\n",
       "    </tr>\n",
       "    <tr>\n",
       "      <th>1</th>\n",
       "      <td>Poly Model 2</td>\n",
       "      <td>0.969417</td>\n",
       "      <td>0.002272</td>\n",
       "    </tr>\n",
       "    <tr>\n",
       "      <th>2</th>\n",
       "      <td>Poly Model 3</td>\n",
       "      <td>0.976350</td>\n",
       "      <td>0.001614</td>\n",
       "    </tr>\n",
       "    <tr>\n",
       "      <th>3</th>\n",
       "      <td>Radial Model 1</td>\n",
       "      <td>0.976950</td>\n",
       "      <td>0.001963</td>\n",
       "    </tr>\n",
       "    <tr>\n",
       "      <th>4</th>\n",
       "      <td>Radial Model 2</td>\n",
       "      <td>0.971983</td>\n",
       "      <td>0.002162</td>\n",
       "    </tr>\n",
       "    <tr>\n",
       "      <th>5</th>\n",
       "      <td>Radial Model 3</td>\n",
       "      <td>0.981800</td>\n",
       "      <td>0.002168</td>\n",
       "    </tr>\n",
       "  </tbody>\n",
       "</table>\n",
       "</div>"
      ],
      "text/plain": [
       "            Model  Accuracy  Fold Deviation\n",
       "0    Poly Model 1  0.973717        0.001856\n",
       "1    Poly Model 2  0.969417        0.002272\n",
       "2    Poly Model 3  0.976350        0.001614\n",
       "3  Radial Model 1  0.976950        0.001963\n",
       "4  Radial Model 2  0.971983        0.002162\n",
       "5  Radial Model 3  0.981800        0.002168"
      ]
     },
     "execution_count": 39,
     "metadata": {},
     "output_type": "execute_result"
    }
   ],
   "source": [
    "df"
   ]
  },
  {
   "cell_type": "markdown",
   "id": "optical-knock",
   "metadata": {},
   "source": [
    "## Model Testing\n",
    "\n",
    "Overall, the radial classifiers outperformed the polynomial classifiers for each choice of C. The best accuracy for both kernels was found using C=10, therefore, the third radial model performed the best overall.\n",
    "\n",
    "**Best Overall Model (Radial Three)**"
   ]
  },
  {
   "cell_type": "code",
   "execution_count": 42,
   "id": "extra-memory",
   "metadata": {},
   "outputs": [],
   "source": [
    "with parallel_backend('spark',n_jobs=-1):\n",
    "    clf_RadialThree.fit(X_train, y_train)"
   ]
  },
  {
   "cell_type": "code",
   "execution_count": 45,
   "id": "willing-kentucky",
   "metadata": {},
   "outputs": [],
   "source": [
    "predictions = clf_RadialThree.predict(X_test)"
   ]
  },
  {
   "cell_type": "code",
   "execution_count": 46,
   "id": "composed-explorer",
   "metadata": {},
   "outputs": [],
   "source": [
    "from sklearn.metrics import classification_report"
   ]
  },
  {
   "cell_type": "markdown",
   "id": "joint-avatar",
   "metadata": {},
   "source": [
    "**Results:** The results of the model on the test set were identical to the cross validation results. "
   ]
  },
  {
   "cell_type": "code",
   "execution_count": 47,
   "id": "willing-taste",
   "metadata": {},
   "outputs": [
    {
     "name": "stdout",
     "output_type": "stream",
     "text": [
      "              precision    recall  f1-score   support\n",
      "\n",
      "           0       0.99      0.98      0.99       989\n",
      "           1       0.99      0.99      0.99      1138\n",
      "           2       0.98      0.98      0.98      1035\n",
      "           3       0.99      0.98      0.98      1018\n",
      "           4       0.98      0.98      0.98       983\n",
      "           5       0.98      0.99      0.98       885\n",
      "           6       0.99      0.99      0.99       953\n",
      "           7       0.98      0.98      0.98      1025\n",
      "           8       0.98      0.98      0.98       969\n",
      "           9       0.97      0.98      0.97      1005\n",
      "\n",
      "    accuracy                           0.98     10000\n",
      "   macro avg       0.98      0.98      0.98     10000\n",
      "weighted avg       0.98      0.98      0.98     10000\n",
      "\n"
     ]
    }
   ],
   "source": [
    "print(classification_report(predictions, y_test))"
   ]
  },
  {
   "cell_type": "markdown",
   "id": "external-limitation",
   "metadata": {},
   "source": [
    "**Best Polynomial Model (Poly Three)**\n",
    "\n",
    "We decided to run the best polynomial model on the test set as well to see if the results would be similar and they were."
   ]
  },
  {
   "cell_type": "code",
   "execution_count": 48,
   "id": "electronic-chassis",
   "metadata": {},
   "outputs": [],
   "source": [
    "with parallel_backend('spark',n_jobs=-1):\n",
    "    clf_PolyThree.fit(X_train, y_train)\n",
    "    predictionsP3 = clf_PolyThree.predict(X_test)"
   ]
  },
  {
   "cell_type": "code",
   "execution_count": 49,
   "id": "endless-solomon",
   "metadata": {},
   "outputs": [],
   "source": [
    "from sklearn.metrics import classification_report"
   ]
  },
  {
   "cell_type": "code",
   "execution_count": 50,
   "id": "broadband-coordinator",
   "metadata": {
    "scrolled": true
   },
   "outputs": [
    {
     "name": "stdout",
     "output_type": "stream",
     "text": [
      "              precision    recall  f1-score   support\n",
      "\n",
      "           0       0.99      0.98      0.98       995\n",
      "           1       0.99      0.98      0.99      1149\n",
      "           2       0.97      0.98      0.98      1024\n",
      "           3       0.98      0.98      0.98      1010\n",
      "           4       0.98      0.98      0.98       986\n",
      "           5       0.97      0.98      0.97       888\n",
      "           6       0.98      0.98      0.98       954\n",
      "           7       0.97      0.98      0.98      1024\n",
      "           8       0.98      0.98      0.98       972\n",
      "           9       0.97      0.98      0.97       998\n",
      "\n",
      "    accuracy                           0.98     10000\n",
      "   macro avg       0.98      0.98      0.98     10000\n",
      "weighted avg       0.98      0.98      0.98     10000\n",
      "\n"
     ]
    }
   ],
   "source": [
    "print(classification_report(predictionsP3, y_test))"
   ]
  },
  {
   "cell_type": "markdown",
   "id": "suspected-supplement",
   "metadata": {},
   "source": [
    "**Worst Model Performance**\n",
    "\n",
    "We also tested the worst model and the results were similar."
   ]
  },
  {
   "cell_type": "code",
   "execution_count": 53,
   "id": "inappropriate-sleeve",
   "metadata": {},
   "outputs": [],
   "source": [
    "with parallel_backend('spark',n_jobs=-1):\n",
    "    clf_PolyTwo.fit(X_train, y_train)\n",
    "    predictionsP2 = clf_PolyTwo.predict(X_test)"
   ]
  },
  {
   "cell_type": "code",
   "execution_count": 54,
   "id": "excessive-battle",
   "metadata": {},
   "outputs": [],
   "source": [
    "from sklearn.metrics import classification_report"
   ]
  },
  {
   "cell_type": "code",
   "execution_count": 55,
   "id": "meaningful-parliament",
   "metadata": {
    "scrolled": true
   },
   "outputs": [
    {
     "name": "stdout",
     "output_type": "stream",
     "text": [
      "              precision    recall  f1-score   support\n",
      "\n",
      "           0       0.99      0.98      0.98       992\n",
      "           1       0.99      0.97      0.98      1163\n",
      "           2       0.97      0.97      0.97      1030\n",
      "           3       0.97      0.98      0.97       997\n",
      "           4       0.98      0.97      0.97       994\n",
      "           5       0.97      0.96      0.97       901\n",
      "           6       0.98      0.98      0.98       952\n",
      "           7       0.96      0.97      0.97      1019\n",
      "           8       0.97      0.98      0.97       964\n",
      "           9       0.95      0.97      0.96       988\n",
      "\n",
      "    accuracy                           0.97     10000\n",
      "   macro avg       0.97      0.97      0.97     10000\n",
      "weighted avg       0.97      0.97      0.97     10000\n",
      "\n"
     ]
    }
   ],
   "source": [
    "print(classification_report(predictionsP2, y_test))"
   ]
  },
  {
   "cell_type": "code",
   "execution_count": null,
   "id": "ignored-samba",
   "metadata": {},
   "outputs": [],
   "source": []
  }
 ],
 "metadata": {
  "kernelspec": {
   "display_name": "Python 3 (ipykernel)",
   "language": "python",
   "name": "python3"
  },
  "language_info": {
   "codemirror_mode": {
    "name": "ipython",
    "version": 3
   },
   "file_extension": ".py",
   "mimetype": "text/x-python",
   "name": "python",
   "nbconvert_exporter": "python",
   "pygments_lexer": "ipython3",
   "version": "3.9.6"
  }
 },
 "nbformat": 4,
 "nbformat_minor": 5
}
