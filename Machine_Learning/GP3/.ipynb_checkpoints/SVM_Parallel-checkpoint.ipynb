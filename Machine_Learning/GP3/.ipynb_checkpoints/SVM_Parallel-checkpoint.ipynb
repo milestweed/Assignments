{
 "cells": [
  {
   "cell_type": "code",
   "execution_count": 1,
   "id": "precise-couple",
   "metadata": {},
   "outputs": [],
   "source": [
    "import pandas as pd\n",
    "from sklearn.utils import parallel_backend\n",
    "from sklearn.model_selection import cross_val_score, KFold\n",
    "from sklearn import datasets\n",
    "from sklearn import svm\n",
    "from joblibspark import register_spark"
   ]
  },
  {
   "cell_type": "code",
   "execution_count": 2,
   "id": "enabling-sullivan",
   "metadata": {},
   "outputs": [],
   "source": [
    "register_spark() # register spark backend"
   ]
  },
  {
   "cell_type": "code",
   "execution_count": 3,
   "id": "facial-register",
   "metadata": {},
   "outputs": [
    {
     "data": {
      "text/html": [
       "<div>\n",
       "<style scoped>\n",
       "    .dataframe tbody tr th:only-of-type {\n",
       "        vertical-align: middle;\n",
       "    }\n",
       "\n",
       "    .dataframe tbody tr th {\n",
       "        vertical-align: top;\n",
       "    }\n",
       "\n",
       "    .dataframe thead th {\n",
       "        text-align: right;\n",
       "    }\n",
       "</style>\n",
       "<table border=\"1\" class=\"dataframe\">\n",
       "  <thead>\n",
       "    <tr style=\"text-align: right;\">\n",
       "      <th></th>\n",
       "      <th>label</th>\n",
       "      <th>1x1</th>\n",
       "      <th>1x2</th>\n",
       "      <th>1x3</th>\n",
       "      <th>1x4</th>\n",
       "      <th>1x5</th>\n",
       "      <th>1x6</th>\n",
       "      <th>1x7</th>\n",
       "      <th>1x8</th>\n",
       "      <th>1x9</th>\n",
       "      <th>...</th>\n",
       "      <th>28x19</th>\n",
       "      <th>28x20</th>\n",
       "      <th>28x21</th>\n",
       "      <th>28x22</th>\n",
       "      <th>28x23</th>\n",
       "      <th>28x24</th>\n",
       "      <th>28x25</th>\n",
       "      <th>28x26</th>\n",
       "      <th>28x27</th>\n",
       "      <th>28x28</th>\n",
       "    </tr>\n",
       "  </thead>\n",
       "  <tbody>\n",
       "    <tr>\n",
       "      <th>0</th>\n",
       "      <td>5</td>\n",
       "      <td>0</td>\n",
       "      <td>0</td>\n",
       "      <td>0</td>\n",
       "      <td>0</td>\n",
       "      <td>0</td>\n",
       "      <td>0</td>\n",
       "      <td>0</td>\n",
       "      <td>0</td>\n",
       "      <td>0</td>\n",
       "      <td>...</td>\n",
       "      <td>0</td>\n",
       "      <td>0</td>\n",
       "      <td>0</td>\n",
       "      <td>0</td>\n",
       "      <td>0</td>\n",
       "      <td>0</td>\n",
       "      <td>0</td>\n",
       "      <td>0</td>\n",
       "      <td>0</td>\n",
       "      <td>0</td>\n",
       "    </tr>\n",
       "    <tr>\n",
       "      <th>1</th>\n",
       "      <td>0</td>\n",
       "      <td>0</td>\n",
       "      <td>0</td>\n",
       "      <td>0</td>\n",
       "      <td>0</td>\n",
       "      <td>0</td>\n",
       "      <td>0</td>\n",
       "      <td>0</td>\n",
       "      <td>0</td>\n",
       "      <td>0</td>\n",
       "      <td>...</td>\n",
       "      <td>0</td>\n",
       "      <td>0</td>\n",
       "      <td>0</td>\n",
       "      <td>0</td>\n",
       "      <td>0</td>\n",
       "      <td>0</td>\n",
       "      <td>0</td>\n",
       "      <td>0</td>\n",
       "      <td>0</td>\n",
       "      <td>0</td>\n",
       "    </tr>\n",
       "    <tr>\n",
       "      <th>2</th>\n",
       "      <td>4</td>\n",
       "      <td>0</td>\n",
       "      <td>0</td>\n",
       "      <td>0</td>\n",
       "      <td>0</td>\n",
       "      <td>0</td>\n",
       "      <td>0</td>\n",
       "      <td>0</td>\n",
       "      <td>0</td>\n",
       "      <td>0</td>\n",
       "      <td>...</td>\n",
       "      <td>0</td>\n",
       "      <td>0</td>\n",
       "      <td>0</td>\n",
       "      <td>0</td>\n",
       "      <td>0</td>\n",
       "      <td>0</td>\n",
       "      <td>0</td>\n",
       "      <td>0</td>\n",
       "      <td>0</td>\n",
       "      <td>0</td>\n",
       "    </tr>\n",
       "    <tr>\n",
       "      <th>3</th>\n",
       "      <td>1</td>\n",
       "      <td>0</td>\n",
       "      <td>0</td>\n",
       "      <td>0</td>\n",
       "      <td>0</td>\n",
       "      <td>0</td>\n",
       "      <td>0</td>\n",
       "      <td>0</td>\n",
       "      <td>0</td>\n",
       "      <td>0</td>\n",
       "      <td>...</td>\n",
       "      <td>0</td>\n",
       "      <td>0</td>\n",
       "      <td>0</td>\n",
       "      <td>0</td>\n",
       "      <td>0</td>\n",
       "      <td>0</td>\n",
       "      <td>0</td>\n",
       "      <td>0</td>\n",
       "      <td>0</td>\n",
       "      <td>0</td>\n",
       "    </tr>\n",
       "    <tr>\n",
       "      <th>4</th>\n",
       "      <td>9</td>\n",
       "      <td>0</td>\n",
       "      <td>0</td>\n",
       "      <td>0</td>\n",
       "      <td>0</td>\n",
       "      <td>0</td>\n",
       "      <td>0</td>\n",
       "      <td>0</td>\n",
       "      <td>0</td>\n",
       "      <td>0</td>\n",
       "      <td>...</td>\n",
       "      <td>0</td>\n",
       "      <td>0</td>\n",
       "      <td>0</td>\n",
       "      <td>0</td>\n",
       "      <td>0</td>\n",
       "      <td>0</td>\n",
       "      <td>0</td>\n",
       "      <td>0</td>\n",
       "      <td>0</td>\n",
       "      <td>0</td>\n",
       "    </tr>\n",
       "  </tbody>\n",
       "</table>\n",
       "<p>5 rows × 785 columns</p>\n",
       "</div>"
      ],
      "text/plain": [
       "   label  1x1  1x2  1x3  1x4  1x5  1x6  1x7  1x8  1x9  ...  28x19  28x20  \\\n",
       "0      5    0    0    0    0    0    0    0    0    0  ...      0      0   \n",
       "1      0    0    0    0    0    0    0    0    0    0  ...      0      0   \n",
       "2      4    0    0    0    0    0    0    0    0    0  ...      0      0   \n",
       "3      1    0    0    0    0    0    0    0    0    0  ...      0      0   \n",
       "4      9    0    0    0    0    0    0    0    0    0  ...      0      0   \n",
       "\n",
       "   28x21  28x22  28x23  28x24  28x25  28x26  28x27  28x28  \n",
       "0      0      0      0      0      0      0      0      0  \n",
       "1      0      0      0      0      0      0      0      0  \n",
       "2      0      0      0      0      0      0      0      0  \n",
       "3      0      0      0      0      0      0      0      0  \n",
       "4      0      0      0      0      0      0      0      0  \n",
       "\n",
       "[5 rows x 785 columns]"
      ]
     },
     "execution_count": 3,
     "metadata": {},
     "output_type": "execute_result"
    }
   ],
   "source": [
    "trainDF = pd.read_csv(\"./data/mnist_train.csv\")\n",
    "trainDF.head()"
   ]
  },
  {
   "cell_type": "code",
   "execution_count": 4,
   "id": "irish-religious",
   "metadata": {},
   "outputs": [],
   "source": [
    "y_train = trainDF.iloc[:,0]\n",
    "X_train = trainDF.iloc[:,1:]"
   ]
  },
  {
   "cell_type": "code",
   "execution_count": 5,
   "id": "classified-seattle",
   "metadata": {
    "scrolled": true
   },
   "outputs": [
    {
     "data": {
      "text/html": [
       "<div>\n",
       "<style scoped>\n",
       "    .dataframe tbody tr th:only-of-type {\n",
       "        vertical-align: middle;\n",
       "    }\n",
       "\n",
       "    .dataframe tbody tr th {\n",
       "        vertical-align: top;\n",
       "    }\n",
       "\n",
       "    .dataframe thead th {\n",
       "        text-align: right;\n",
       "    }\n",
       "</style>\n",
       "<table border=\"1\" class=\"dataframe\">\n",
       "  <thead>\n",
       "    <tr style=\"text-align: right;\">\n",
       "      <th></th>\n",
       "      <th>label</th>\n",
       "      <th>1x1</th>\n",
       "      <th>1x2</th>\n",
       "      <th>1x3</th>\n",
       "      <th>1x4</th>\n",
       "      <th>1x5</th>\n",
       "      <th>1x6</th>\n",
       "      <th>1x7</th>\n",
       "      <th>1x8</th>\n",
       "      <th>1x9</th>\n",
       "      <th>...</th>\n",
       "      <th>28x19</th>\n",
       "      <th>28x20</th>\n",
       "      <th>28x21</th>\n",
       "      <th>28x22</th>\n",
       "      <th>28x23</th>\n",
       "      <th>28x24</th>\n",
       "      <th>28x25</th>\n",
       "      <th>28x26</th>\n",
       "      <th>28x27</th>\n",
       "      <th>28x28</th>\n",
       "    </tr>\n",
       "  </thead>\n",
       "  <tbody>\n",
       "    <tr>\n",
       "      <th>0</th>\n",
       "      <td>7</td>\n",
       "      <td>0</td>\n",
       "      <td>0</td>\n",
       "      <td>0</td>\n",
       "      <td>0</td>\n",
       "      <td>0</td>\n",
       "      <td>0</td>\n",
       "      <td>0</td>\n",
       "      <td>0</td>\n",
       "      <td>0</td>\n",
       "      <td>...</td>\n",
       "      <td>0</td>\n",
       "      <td>0</td>\n",
       "      <td>0</td>\n",
       "      <td>0</td>\n",
       "      <td>0</td>\n",
       "      <td>0</td>\n",
       "      <td>0</td>\n",
       "      <td>0</td>\n",
       "      <td>0</td>\n",
       "      <td>0</td>\n",
       "    </tr>\n",
       "    <tr>\n",
       "      <th>1</th>\n",
       "      <td>2</td>\n",
       "      <td>0</td>\n",
       "      <td>0</td>\n",
       "      <td>0</td>\n",
       "      <td>0</td>\n",
       "      <td>0</td>\n",
       "      <td>0</td>\n",
       "      <td>0</td>\n",
       "      <td>0</td>\n",
       "      <td>0</td>\n",
       "      <td>...</td>\n",
       "      <td>0</td>\n",
       "      <td>0</td>\n",
       "      <td>0</td>\n",
       "      <td>0</td>\n",
       "      <td>0</td>\n",
       "      <td>0</td>\n",
       "      <td>0</td>\n",
       "      <td>0</td>\n",
       "      <td>0</td>\n",
       "      <td>0</td>\n",
       "    </tr>\n",
       "    <tr>\n",
       "      <th>2</th>\n",
       "      <td>1</td>\n",
       "      <td>0</td>\n",
       "      <td>0</td>\n",
       "      <td>0</td>\n",
       "      <td>0</td>\n",
       "      <td>0</td>\n",
       "      <td>0</td>\n",
       "      <td>0</td>\n",
       "      <td>0</td>\n",
       "      <td>0</td>\n",
       "      <td>...</td>\n",
       "      <td>0</td>\n",
       "      <td>0</td>\n",
       "      <td>0</td>\n",
       "      <td>0</td>\n",
       "      <td>0</td>\n",
       "      <td>0</td>\n",
       "      <td>0</td>\n",
       "      <td>0</td>\n",
       "      <td>0</td>\n",
       "      <td>0</td>\n",
       "    </tr>\n",
       "    <tr>\n",
       "      <th>3</th>\n",
       "      <td>0</td>\n",
       "      <td>0</td>\n",
       "      <td>0</td>\n",
       "      <td>0</td>\n",
       "      <td>0</td>\n",
       "      <td>0</td>\n",
       "      <td>0</td>\n",
       "      <td>0</td>\n",
       "      <td>0</td>\n",
       "      <td>0</td>\n",
       "      <td>...</td>\n",
       "      <td>0</td>\n",
       "      <td>0</td>\n",
       "      <td>0</td>\n",
       "      <td>0</td>\n",
       "      <td>0</td>\n",
       "      <td>0</td>\n",
       "      <td>0</td>\n",
       "      <td>0</td>\n",
       "      <td>0</td>\n",
       "      <td>0</td>\n",
       "    </tr>\n",
       "    <tr>\n",
       "      <th>4</th>\n",
       "      <td>4</td>\n",
       "      <td>0</td>\n",
       "      <td>0</td>\n",
       "      <td>0</td>\n",
       "      <td>0</td>\n",
       "      <td>0</td>\n",
       "      <td>0</td>\n",
       "      <td>0</td>\n",
       "      <td>0</td>\n",
       "      <td>0</td>\n",
       "      <td>...</td>\n",
       "      <td>0</td>\n",
       "      <td>0</td>\n",
       "      <td>0</td>\n",
       "      <td>0</td>\n",
       "      <td>0</td>\n",
       "      <td>0</td>\n",
       "      <td>0</td>\n",
       "      <td>0</td>\n",
       "      <td>0</td>\n",
       "      <td>0</td>\n",
       "    </tr>\n",
       "  </tbody>\n",
       "</table>\n",
       "<p>5 rows × 785 columns</p>\n",
       "</div>"
      ],
      "text/plain": [
       "   label  1x1  1x2  1x3  1x4  1x5  1x6  1x7  1x8  1x9  ...  28x19  28x20  \\\n",
       "0      7    0    0    0    0    0    0    0    0    0  ...      0      0   \n",
       "1      2    0    0    0    0    0    0    0    0    0  ...      0      0   \n",
       "2      1    0    0    0    0    0    0    0    0    0  ...      0      0   \n",
       "3      0    0    0    0    0    0    0    0    0    0  ...      0      0   \n",
       "4      4    0    0    0    0    0    0    0    0    0  ...      0      0   \n",
       "\n",
       "   28x21  28x22  28x23  28x24  28x25  28x26  28x27  28x28  \n",
       "0      0      0      0      0      0      0      0      0  \n",
       "1      0      0      0      0      0      0      0      0  \n",
       "2      0      0      0      0      0      0      0      0  \n",
       "3      0      0      0      0      0      0      0      0  \n",
       "4      0      0      0      0      0      0      0      0  \n",
       "\n",
       "[5 rows x 785 columns]"
      ]
     },
     "execution_count": 5,
     "metadata": {},
     "output_type": "execute_result"
    }
   ],
   "source": [
    "testDF = pd.read_csv(\"./data/mnist_test.csv\")\n",
    "testDF.head()"
   ]
  },
  {
   "cell_type": "code",
   "execution_count": 6,
   "id": "fatal-country",
   "metadata": {},
   "outputs": [],
   "source": [
    "y_test = testDF.iloc[:,0]\n",
    "X_test = testDF.iloc[:,1:]"
   ]
  },
  {
   "cell_type": "markdown",
   "id": "double-defeat",
   "metadata": {},
   "source": [
    "## Poly Kernel One"
   ]
  },
  {
   "cell_type": "code",
   "execution_count": 7,
   "id": "impaired-executive",
   "metadata": {},
   "outputs": [],
   "source": [
    "kfold = KFold(n_splits=5)"
   ]
  },
  {
   "cell_type": "code",
   "execution_count": 8,
   "id": "ready-superior",
   "metadata": {},
   "outputs": [],
   "source": [
    "clf_PolyOne = svm.SVC(kernel='poly', C=1)"
   ]
  },
  {
   "cell_type": "code",
   "execution_count": 9,
   "id": "hispanic-nightlife",
   "metadata": {},
   "outputs": [
    {
     "name": "stdout",
     "output_type": "stream",
     "text": [
      "[0.97441667 0.97316667 0.97316667 0.97108333 0.97675   ]\n"
     ]
    }
   ],
   "source": [
    "with parallel_backend('spark', n_jobs=-1):\n",
    "    p1scores = cross_val_score(clf_PolyOne, X_train, y_train, cv=kfold)\n",
    "\n",
    "print(p1scores)"
   ]
  },
  {
   "cell_type": "markdown",
   "id": "worse-scheduling",
   "metadata": {},
   "source": [
    "## Poly Kernel Two"
   ]
  },
  {
   "cell_type": "code",
   "execution_count": 10,
   "id": "taken-dining",
   "metadata": {},
   "outputs": [],
   "source": [
    "clf_PolyTwo = svm.SVC(kernel='poly', C=0.5)"
   ]
  },
  {
   "cell_type": "code",
   "execution_count": 11,
   "id": "broad-ranking",
   "metadata": {},
   "outputs": [
    {
     "name": "stdout",
     "output_type": "stream",
     "text": [
      "[0.97041667 0.96866667 0.96766667 0.967      0.97333333]\n"
     ]
    }
   ],
   "source": [
    "with parallel_backend('spark', n_jobs=-1):\n",
    "    p2scores = cross_val_score(clf_PolyTwo, X_train, y_train, cv=kfold)\n",
    "\n",
    "print(p2scores)"
   ]
  },
  {
   "cell_type": "markdown",
   "id": "flexible-vulnerability",
   "metadata": {},
   "source": [
    "## Poly Kernel Three"
   ]
  },
  {
   "cell_type": "code",
   "execution_count": 12,
   "id": "infrared-classification",
   "metadata": {},
   "outputs": [],
   "source": [
    "clf_PolyThree = svm.SVC(kernel='poly', C=10)"
   ]
  },
  {
   "cell_type": "code",
   "execution_count": 13,
   "id": "commercial-actor",
   "metadata": {},
   "outputs": [
    {
     "name": "stdout",
     "output_type": "stream",
     "text": [
      "[0.97833333 0.976      0.97558333 0.97391667 0.97791667]\n"
     ]
    }
   ],
   "source": [
    "with parallel_backend('spark', n_jobs=-1):\n",
    "    p3scores = cross_val_score(clf_PolyThree, X_train, y_train, cv=kfold)\n",
    "\n",
    "print(p3scores)"
   ]
  },
  {
   "cell_type": "markdown",
   "id": "recent-interview",
   "metadata": {},
   "source": [
    "## Radial Kernel One"
   ]
  },
  {
   "cell_type": "code",
   "execution_count": 15,
   "id": "consistent-spokesman",
   "metadata": {},
   "outputs": [],
   "source": [
    "clf_RadialOne = svm.SVC(kernel='rbf', C=1)"
   ]
  },
  {
   "cell_type": "code",
   "execution_count": 16,
   "id": "sensitive-quarter",
   "metadata": {},
   "outputs": [
    {
     "name": "stdout",
     "output_type": "stream",
     "text": [
      "[0.97925    0.97575    0.97733333 0.97383333 0.97858333]\n"
     ]
    }
   ],
   "source": [
    "with parallel_backend('spark', n_jobs=-1):\n",
    "    r1scores = cross_val_score(clf_RadialOne, X_train, y_train, cv=kfold)\n",
    "\n",
    "print(r1scores)"
   ]
  },
  {
   "cell_type": "markdown",
   "id": "stuffed-queue",
   "metadata": {},
   "source": [
    "## Radial Kernel Two"
   ]
  },
  {
   "cell_type": "code",
   "execution_count": 17,
   "id": "front-ceremony",
   "metadata": {},
   "outputs": [],
   "source": [
    "clf_RadialTwo = svm.SVC(kernel='rbf', C=0.5)"
   ]
  },
  {
   "cell_type": "code",
   "execution_count": 18,
   "id": "regular-research",
   "metadata": {},
   "outputs": [
    {
     "name": "stdout",
     "output_type": "stream",
     "text": [
      "[0.97458333 0.97208333 0.97016667 0.969      0.97408333]\n"
     ]
    }
   ],
   "source": [
    "with parallel_backend('spark', n_jobs=-1):\n",
    "    r2scores = cross_val_score(clf_RadialTwo, X_train, y_train, cv=kfold)\n",
    "\n",
    "print(r2scores)"
   ]
  },
  {
   "cell_type": "markdown",
   "id": "alert-soviet",
   "metadata": {},
   "source": [
    "## Radial Kernel Three"
   ]
  },
  {
   "cell_type": "code",
   "execution_count": 19,
   "id": "mighty-peter",
   "metadata": {},
   "outputs": [],
   "source": [
    "clf_RadialThree = svm.SVC(kernel='rbf', C=10)"
   ]
  },
  {
   "cell_type": "code",
   "execution_count": 20,
   "id": "fancy-courtesy",
   "metadata": {},
   "outputs": [
    {
     "name": "stdout",
     "output_type": "stream",
     "text": [
      "[0.98466667 0.98216667 0.98       0.97875    0.98341667]\n"
     ]
    }
   ],
   "source": [
    "with parallel_backend('spark', n_jobs=-1):\n",
    "    r3scores = cross_val_score(clf_RadialThree, X_train, y_train, cv=kfold)\n",
    "\n",
    "print(r3scores)"
   ]
  },
  {
   "cell_type": "code",
   "execution_count": null,
   "id": "spectacular-porter",
   "metadata": {},
   "outputs": [],
   "source": []
  },
  {
   "cell_type": "markdown",
   "id": "heard-adaptation",
   "metadata": {},
   "source": [
    "## Visualization"
   ]
  },
  {
   "cell_type": "code",
   "execution_count": 29,
   "id": "suburban-sector",
   "metadata": {},
   "outputs": [],
   "source": [
    "import numpy as np\n",
    "import matplotlib.pyplot as plt\n",
    "%matplotlib inline"
   ]
  },
  {
   "cell_type": "code",
   "execution_count": null,
   "id": "annual-chemistry",
   "metadata": {},
   "outputs": [],
   "source": [
    "plt.bar(x = [\"Poly Model 1\",\n",
    "             \"Poly Model 2\",\n",
    "             \"Poly Model 3\",\n",
    "             \"Radial Model 1\",\n",
    "             \"Radial Model 2\",\n",
    "             \"Radial Model 3\"],\n",
    "       height = [np.mean(p1scores),\n",
    "            np.mean(p2scores),\n",
    "            np.mean(p3scores),\n",
    "            np.mean(r1scores),\n",
    "            np.mean(r2scores),\n",
    "            np.mean(r3scores)],\n",
    "       yerr = [np.std(p1scores),\n",
    "               np.std(p2scores),\n",
    "               np.std(p3scores),\n",
    "               np.std(r1scores),\n",
    "               np.std(r2scores),\n",
    "               np.std(r3scores)],\n",
    "        color = []"
   ]
  },
  {
   "cell_type": "markdown",
   "id": "seven-clear",
   "metadata": {},
   "source": [
    "### With Grid Search CV"
   ]
  },
  {
   "cell_type": "code",
   "execution_count": null,
   "id": "optical-renaissance",
   "metadata": {},
   "outputs": [],
   "source": [
    "from sklearn.model_selection import GridSearchCV"
   ]
  },
  {
   "cell_type": "code",
   "execution_count": null,
   "id": "assigned-water",
   "metadata": {},
   "outputs": [],
   "source": [
    "est = svm.SVC()"
   ]
  },
  {
   "cell_type": "code",
   "execution_count": null,
   "id": "fifty-producer",
   "metadata": {},
   "outputs": [],
   "source": [
    "parameters = {\"kernel\": ('poly','rbf'), \n",
    "              \"C\":[0.5, 1, 1.5, 5, 20], \n",
    "              'gamma':[\"scale\",\"auto\"]}"
   ]
  },
  {
   "cell_type": "code",
   "execution_count": null,
   "id": "future-church",
   "metadata": {},
   "outputs": [],
   "source": [
    "clf = GridSearchCV(est, parameters, cv=5)"
   ]
  },
  {
   "cell_type": "code",
   "execution_count": null,
   "id": "written-commitment",
   "metadata": {},
   "outputs": [],
   "source": [
    "with parallel_backend('spark',n_jobs=-1):\n",
    "    clf.fit(X_train, y_train)"
   ]
  },
  {
   "cell_type": "code",
   "execution_count": null,
   "id": "rolled-effects",
   "metadata": {},
   "outputs": [],
   "source": []
  }
 ],
 "metadata": {
  "kernelspec": {
   "display_name": "Python 3",
   "language": "python",
   "name": "python3"
  },
  "language_info": {
   "codemirror_mode": {
    "name": "ipython",
    "version": 3
   },
   "file_extension": ".py",
   "mimetype": "text/x-python",
   "name": "python",
   "nbconvert_exporter": "python",
   "pygments_lexer": "ipython3",
   "version": "3.8.8"
  }
 },
 "nbformat": 4,
 "nbformat_minor": 5
}
