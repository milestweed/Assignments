{
 "cells": [
  {
   "cell_type": "code",
   "execution_count": 4,
   "metadata": {
    "colab": {
     "base_uri": "https://localhost:8080/"
    },
    "id": "zCtC9h6wo31v",
    "outputId": "039003ec-7222-47c5-e773-a4a6130fbcd9"
   },
   "outputs": [
    {
     "name": "stdout",
     "output_type": "stream",
     "text": [
      "/home/mtweed/Documents/New_College/S_2/Machine_Learning/Problem_Sets/GP4\n"
     ]
    },
    {
     "data": {
      "text/plain": [
       "<torch._C.Generator at 0x7fba9804f450>"
      ]
     },
     "execution_count": 4,
     "metadata": {},
     "output_type": "execute_result"
    }
   ],
   "source": [
    "import os\n",
    "import torch\n",
    "import torchvision\n",
    "from torchvision import datasets, models, transforms\n",
    "import torch.utils.data as data\n",
    "import torch.nn as nn\n",
    "import torch.optim as optim\n",
    "from torch.optim import lr_scheduler\n",
    "import time, os, copy, argparse\n",
    "import multiprocessing\n",
    "from matplotlib import pyplot as plt\n",
    "from torchvision import transforms\n",
    "print(os.getcwd())\n",
    "\n",
    "device = torch.device(\"cuda:0\" if torch.cuda.is_available() else \"cpu\")\n",
    "device\n",
    "\n",
    "torch.manual_seed(1)"
   ]
  },
  {
   "cell_type": "markdown",
   "metadata": {
    "id": "spCd62FzPD_W"
   },
   "source": [
    "# Introduction"
   ]
  },
  {
   "cell_type": "markdown",
   "metadata": {
    "id": "YAw88Rn2Nz29"
   },
   "source": [
    "The task for this assignment was to construct a convolutional neural network that could classify impressionist paintings with respect to their artists. The goal was to train a model that acquire roughly ~50% accuracy. \n",
    "\n",
    "As an initial frame for this assignment, we chose to apply transfer learning procedures so as to familiarize ourselves with the method and the power that comes with using a \"headless\" pre-trained network. In this we tested the efficacy of the `resnet18` and `inception` models.\n",
    "\n",
    "For our custom models, we chose to evaluate different model architectures and variations on the structures such as dropout and batch-normalization. The models and their corresponding architectures are outlined below\n",
    "\n",
    "- Initial Model\n",
    "    - 2 Convolutional Layers\n",
    "        - 16 channels, 3x3 kernel, 1 stride, 1 padding\n",
    "        - 32 channels, 3x3 kernel, 1 stride, 1 padding\n",
    "    - 2 Max-pooling layers\n",
    "        - 2x2\n",
    "    - 2 Fully Connected Layers\n",
    "- Overfit Model\n",
    "    - 1 Convolutional Layer \n",
    "        - 16 channels, 3x3 kernel, 1 stride, 1 padding\n",
    "    - 1 Max pooling layer \n",
    "        - 2x2\n",
    "    - 2 Fully Connected Layers\n",
    "- Dropout Model\n",
    "    - 1 Convolutional Layer \n",
    "        - 16 channels, 3x3 kernel, 1 stride, 1 padding\n",
    "    - 1 Max pooling layer \n",
    "        - 2x2\n",
    "    - 1 Dropout layer\n",
    "    - 2 Fully Connected Layers\n",
    "\n",
    "For all these models we chose to use the `Adam` optimizer with a learning rate of 0.001"
   ]
  },
  {
   "cell_type": "markdown",
   "metadata": {
    "id": "m3NXmbLsNtyq"
   },
   "source": [
    "# Transfer Learning\n",
    "\n"
   ]
  },
  {
   "cell_type": "markdown",
   "metadata": {
    "id": "koGymH2ou1ZJ"
   },
   "source": [
    "## Res-Net 18"
   ]
  },
  {
   "cell_type": "code",
   "execution_count": 1,
   "metadata": {
    "id": "eKs0PQWRpE0a"
   },
   "outputs": [],
   "source": [
    "train_dir = \"data/training/\"\n",
    "val_dir = \"data/validation/\""
   ]
  },
  {
   "cell_type": "code",
   "execution_count": 2,
   "metadata": {
    "colab": {
     "base_uri": "https://localhost:8080/"
    },
    "id": "8H2FQN2LpGK_",
    "outputId": "31831f24-36e7-47a0-a812-497be77fd13b"
   },
   "outputs": [
    {
     "ename": "NameError",
     "evalue": "name 'datasets' is not defined",
     "output_type": "error",
     "traceback": [
      "\u001b[0;31m---------------------------------------------------------------------------\u001b[0m",
      "\u001b[0;31mNameError\u001b[0m                                 Traceback (most recent call last)",
      "\u001b[0;32m<ipython-input-2-4da905e1e79e>\u001b[0m in \u001b[0;36m<module>\u001b[0;34m\u001b[0m\n\u001b[0;32m----> 1\u001b[0;31m \u001b[0mtrain_data\u001b[0m \u001b[0;34m=\u001b[0m \u001b[0mdatasets\u001b[0m\u001b[0;34m.\u001b[0m\u001b[0mImageFolder\u001b[0m\u001b[0;34m(\u001b[0m\u001b[0mroot\u001b[0m\u001b[0;34m=\u001b[0m\u001b[0mtrain_dir\u001b[0m\u001b[0;34m,\u001b[0m \u001b[0mtransform\u001b[0m \u001b[0;34m=\u001b[0m \u001b[0mtransforms\u001b[0m\u001b[0;34m.\u001b[0m\u001b[0mToTensor\u001b[0m\u001b[0;34m(\u001b[0m\u001b[0;34m)\u001b[0m\u001b[0;34m)\u001b[0m\u001b[0;34m\u001b[0m\u001b[0;34m\u001b[0m\u001b[0m\n\u001b[0m\u001b[1;32m      2\u001b[0m \u001b[0mval_data\u001b[0m \u001b[0;34m=\u001b[0m \u001b[0mdatasets\u001b[0m\u001b[0;34m.\u001b[0m\u001b[0mImageFolder\u001b[0m\u001b[0;34m(\u001b[0m\u001b[0mroot\u001b[0m\u001b[0;34m=\u001b[0m\u001b[0mval_dir\u001b[0m\u001b[0;34m,\u001b[0m \u001b[0mtransform\u001b[0m \u001b[0;34m=\u001b[0m \u001b[0mtransforms\u001b[0m\u001b[0;34m.\u001b[0m\u001b[0mToTensor\u001b[0m\u001b[0;34m(\u001b[0m\u001b[0;34m)\u001b[0m\u001b[0;34m)\u001b[0m\u001b[0;34m\u001b[0m\u001b[0;34m\u001b[0m\u001b[0m\n\u001b[1;32m      3\u001b[0m \u001b[0;34m\u001b[0m\u001b[0m\n\u001b[1;32m      4\u001b[0m \u001b[0mtrain_loader\u001b[0m \u001b[0;34m=\u001b[0m \u001b[0mdata\u001b[0m\u001b[0;34m.\u001b[0m\u001b[0mDataLoader\u001b[0m\u001b[0;34m(\u001b[0m\u001b[0mtrain_data\u001b[0m\u001b[0;34m,\u001b[0m \u001b[0mbatch_size\u001b[0m\u001b[0;34m=\u001b[0m\u001b[0;36m4\u001b[0m\u001b[0;34m,\u001b[0m \u001b[0mshuffle\u001b[0m\u001b[0;34m=\u001b[0m\u001b[0;32mTrue\u001b[0m\u001b[0;34m,\u001b[0m \u001b[0mpin_memory\u001b[0m\u001b[0;34m=\u001b[0m\u001b[0;32mTrue\u001b[0m\u001b[0;34m,\u001b[0m \u001b[0mdrop_last\u001b[0m\u001b[0;34m=\u001b[0m\u001b[0;32mTrue\u001b[0m\u001b[0;34m)\u001b[0m\u001b[0;34m\u001b[0m\u001b[0;34m\u001b[0m\u001b[0m\n\u001b[1;32m      5\u001b[0m \u001b[0mval_loader\u001b[0m \u001b[0;34m=\u001b[0m \u001b[0mdata\u001b[0m\u001b[0;34m.\u001b[0m\u001b[0mDataLoader\u001b[0m\u001b[0;34m(\u001b[0m\u001b[0mval_data\u001b[0m\u001b[0;34m,\u001b[0m \u001b[0mbatch_size\u001b[0m\u001b[0;34m=\u001b[0m\u001b[0;36m4\u001b[0m\u001b[0;34m,\u001b[0m \u001b[0mshuffle\u001b[0m\u001b[0;34m=\u001b[0m\u001b[0;32mTrue\u001b[0m\u001b[0;34m,\u001b[0m \u001b[0mpin_memory\u001b[0m\u001b[0;34m=\u001b[0m\u001b[0;32mTrue\u001b[0m\u001b[0;34m,\u001b[0m \u001b[0mdrop_last\u001b[0m\u001b[0;34m=\u001b[0m\u001b[0;32mTrue\u001b[0m\u001b[0;34m)\u001b[0m\u001b[0;34m\u001b[0m\u001b[0;34m\u001b[0m\u001b[0m\n",
      "\u001b[0;31mNameError\u001b[0m: name 'datasets' is not defined"
     ]
    }
   ],
   "source": [
    "train_data = datasets.ImageFolder(root=train_dir, transform = transforms.ToTensor())\n",
    "val_data = datasets.ImageFolder(root=val_dir, transform = transforms.ToTensor())\n",
    "\n",
    "train_loader = data.DataLoader(train_data, batch_size=4, shuffle=True, pin_memory=True, drop_last=True)\n",
    "val_loader = data.DataLoader(val_data, batch_size=4, shuffle=True, pin_memory=True, drop_last=True)\n",
    "\n",
    "class_names = train_data.classes\n",
    "print(class_names)"
   ]
  },
  {
   "cell_type": "code",
   "execution_count": 9,
   "metadata": {
    "colab": {
     "base_uri": "https://localhost:8080/",
     "height": 124,
     "referenced_widgets": [
      "0512984f92434a4dbb2815f8b032c851",
      "ffd6fe5dcbfd47aeaf32d647345ff7ac",
      "84829db16dff4a7392dd565d404d639d",
      "bd114cccdc3b47a19e0352b7f674e82c",
      "799e6a46ff564f099e60f531f4359918",
      "38ce881d0dd242c19a05c44740cf2c48",
      "1a83172f81df46c8b51fa8d11bd4f558",
      "692395ae90894868b030ac3e45a6c66f"
     ]
    },
    "id": "au6xIZi4pLnN",
    "outputId": "e6ba3125-18b3-4d4c-a4ff-da25c1b827c4"
   },
   "outputs": [
    {
     "name": "stderr",
     "output_type": "stream",
     "text": [
      "Downloading: \"https://download.pytorch.org/models/resnet18-5c106cde.pth\" to /root/.cache/torch/hub/checkpoints/resnet18-5c106cde.pth\n"
     ]
    },
    {
     "data": {
      "application/vnd.jupyter.widget-view+json": {
       "model_id": "0512984f92434a4dbb2815f8b032c851",
       "version_major": 2,
       "version_minor": 0
      },
      "text/plain": [
       "HBox(children=(FloatProgress(value=0.0, max=46827520.0), HTML(value='')))"
      ]
     },
     "metadata": {
      "tags": []
     },
     "output_type": "display_data"
    },
    {
     "name": "stdout",
     "output_type": "stream",
     "text": [
      "\n",
      "512\n"
     ]
    }
   ],
   "source": [
    "# Get pre-trained model\n",
    "model_rn18 = models.resnet18(pretrained=True)\n",
    "\n",
    "#Get input for new fully connected layer\n",
    "n_ftrs = model_rn18.fc.in_features\n",
    "# set fully connected layers to \n",
    "model_rn18.fc = nn.Linear(n_ftrs,len(class_names))\n",
    "print(n_ftrs)\n",
    "\n",
    "model_rn18 = model_rn18.to(device)"
   ]
  },
  {
   "cell_type": "code",
   "execution_count": 10,
   "metadata": {
    "id": "VvCT38nKpN4F"
   },
   "outputs": [],
   "source": [
    "criterion = nn.CrossEntropyLoss()\n",
    "optimizer = optim.SGD(model_rn18.parameters(), lr=0.001, momentum=0.95)\n",
    "scheduler = lr_scheduler.StepLR(optimizer, step_size=7, gamma=0.1)\n",
    "\n",
    "# Set number of Epochs\n",
    "n_epochs = 10"
   ]
  },
  {
   "cell_type": "code",
   "execution_count": 11,
   "metadata": {
    "colab": {
     "base_uri": "https://localhost:8080/",
     "height": 414
    },
    "id": "LIgUYqWHpP8y",
    "outputId": "d8e21454-dcba-49d1-b98f-4c27f3ade424"
   },
   "outputs": [
    {
     "name": "stdout",
     "output_type": "stream",
     "text": [
      "0\n"
     ]
    },
    {
     "ename": "KeyboardInterrupt",
     "evalue": "ignored",
     "output_type": "error",
     "traceback": [
      "\u001b[0;31m---------------------------------------------------------------------------\u001b[0m",
      "\u001b[0;31mKeyboardInterrupt\u001b[0m                         Traceback (most recent call last)",
      "\u001b[0;32m<ipython-input-11-189df75e0225>\u001b[0m in \u001b[0;36m<module>\u001b[0;34m()\u001b[0m\n\u001b[1;32m     10\u001b[0m   \u001b[0mrun_corr\u001b[0m \u001b[0;34m=\u001b[0m \u001b[0;36m0\u001b[0m\u001b[0;34m\u001b[0m\u001b[0;34m\u001b[0m\u001b[0m\n\u001b[1;32m     11\u001b[0m   \u001b[0mmodel_rn18\u001b[0m\u001b[0;34m.\u001b[0m\u001b[0mtrain\u001b[0m\u001b[0;34m(\u001b[0m\u001b[0;34m)\u001b[0m\u001b[0;34m\u001b[0m\u001b[0;34m\u001b[0m\u001b[0m\n\u001b[0;32m---> 12\u001b[0;31m   \u001b[0;32mfor\u001b[0m \u001b[0minputs\u001b[0m\u001b[0;34m,\u001b[0m \u001b[0mlabels\u001b[0m \u001b[0;32min\u001b[0m \u001b[0mtrain_loader\u001b[0m\u001b[0;34m:\u001b[0m\u001b[0;34m\u001b[0m\u001b[0;34m\u001b[0m\u001b[0m\n\u001b[0m\u001b[1;32m     13\u001b[0m     \u001b[0minputs\u001b[0m \u001b[0;34m=\u001b[0m \u001b[0minputs\u001b[0m\u001b[0;34m.\u001b[0m\u001b[0mto\u001b[0m\u001b[0;34m(\u001b[0m\u001b[0mdevice\u001b[0m\u001b[0;34m)\u001b[0m\u001b[0;34m\u001b[0m\u001b[0;34m\u001b[0m\u001b[0m\n\u001b[1;32m     14\u001b[0m     \u001b[0mlabels\u001b[0m \u001b[0;34m=\u001b[0m \u001b[0mlabels\u001b[0m\u001b[0;34m.\u001b[0m\u001b[0mto\u001b[0m\u001b[0;34m(\u001b[0m\u001b[0mdevice\u001b[0m\u001b[0;34m)\u001b[0m\u001b[0;34m\u001b[0m\u001b[0;34m\u001b[0m\u001b[0m\n",
      "\u001b[0;32m/usr/local/lib/python3.7/dist-packages/torch/utils/data/dataloader.py\u001b[0m in \u001b[0;36m__next__\u001b[0;34m(self)\u001b[0m\n\u001b[1;32m    515\u001b[0m             \u001b[0;32mif\u001b[0m \u001b[0mself\u001b[0m\u001b[0;34m.\u001b[0m\u001b[0m_sampler_iter\u001b[0m \u001b[0;32mis\u001b[0m \u001b[0;32mNone\u001b[0m\u001b[0;34m:\u001b[0m\u001b[0;34m\u001b[0m\u001b[0;34m\u001b[0m\u001b[0m\n\u001b[1;32m    516\u001b[0m                 \u001b[0mself\u001b[0m\u001b[0;34m.\u001b[0m\u001b[0m_reset\u001b[0m\u001b[0;34m(\u001b[0m\u001b[0;34m)\u001b[0m\u001b[0;34m\u001b[0m\u001b[0;34m\u001b[0m\u001b[0m\n\u001b[0;32m--> 517\u001b[0;31m             \u001b[0mdata\u001b[0m \u001b[0;34m=\u001b[0m \u001b[0mself\u001b[0m\u001b[0;34m.\u001b[0m\u001b[0m_next_data\u001b[0m\u001b[0;34m(\u001b[0m\u001b[0;34m)\u001b[0m\u001b[0;34m\u001b[0m\u001b[0;34m\u001b[0m\u001b[0m\n\u001b[0m\u001b[1;32m    518\u001b[0m             \u001b[0mself\u001b[0m\u001b[0;34m.\u001b[0m\u001b[0m_num_yielded\u001b[0m \u001b[0;34m+=\u001b[0m \u001b[0;36m1\u001b[0m\u001b[0;34m\u001b[0m\u001b[0;34m\u001b[0m\u001b[0m\n\u001b[1;32m    519\u001b[0m             \u001b[0;32mif\u001b[0m \u001b[0mself\u001b[0m\u001b[0;34m.\u001b[0m\u001b[0m_dataset_kind\u001b[0m \u001b[0;34m==\u001b[0m \u001b[0m_DatasetKind\u001b[0m\u001b[0;34m.\u001b[0m\u001b[0mIterable\u001b[0m \u001b[0;32mand\u001b[0m\u001b[0;31m \u001b[0m\u001b[0;31m\\\u001b[0m\u001b[0;34m\u001b[0m\u001b[0;34m\u001b[0m\u001b[0m\n",
      "\u001b[0;32m/usr/local/lib/python3.7/dist-packages/torch/utils/data/dataloader.py\u001b[0m in \u001b[0;36m_next_data\u001b[0;34m(self)\u001b[0m\n\u001b[1;32m    555\u001b[0m     \u001b[0;32mdef\u001b[0m \u001b[0m_next_data\u001b[0m\u001b[0;34m(\u001b[0m\u001b[0mself\u001b[0m\u001b[0;34m)\u001b[0m\u001b[0;34m:\u001b[0m\u001b[0;34m\u001b[0m\u001b[0;34m\u001b[0m\u001b[0m\n\u001b[1;32m    556\u001b[0m         \u001b[0mindex\u001b[0m \u001b[0;34m=\u001b[0m \u001b[0mself\u001b[0m\u001b[0;34m.\u001b[0m\u001b[0m_next_index\u001b[0m\u001b[0;34m(\u001b[0m\u001b[0;34m)\u001b[0m  \u001b[0;31m# may raise StopIteration\u001b[0m\u001b[0;34m\u001b[0m\u001b[0;34m\u001b[0m\u001b[0m\n\u001b[0;32m--> 557\u001b[0;31m         \u001b[0mdata\u001b[0m \u001b[0;34m=\u001b[0m \u001b[0mself\u001b[0m\u001b[0;34m.\u001b[0m\u001b[0m_dataset_fetcher\u001b[0m\u001b[0;34m.\u001b[0m\u001b[0mfetch\u001b[0m\u001b[0;34m(\u001b[0m\u001b[0mindex\u001b[0m\u001b[0;34m)\u001b[0m  \u001b[0;31m# may raise StopIteration\u001b[0m\u001b[0;34m\u001b[0m\u001b[0;34m\u001b[0m\u001b[0m\n\u001b[0m\u001b[1;32m    558\u001b[0m         \u001b[0;32mif\u001b[0m \u001b[0mself\u001b[0m\u001b[0;34m.\u001b[0m\u001b[0m_pin_memory\u001b[0m\u001b[0;34m:\u001b[0m\u001b[0;34m\u001b[0m\u001b[0;34m\u001b[0m\u001b[0m\n\u001b[1;32m    559\u001b[0m             \u001b[0mdata\u001b[0m \u001b[0;34m=\u001b[0m \u001b[0m_utils\u001b[0m\u001b[0;34m.\u001b[0m\u001b[0mpin_memory\u001b[0m\u001b[0;34m.\u001b[0m\u001b[0mpin_memory\u001b[0m\u001b[0;34m(\u001b[0m\u001b[0mdata\u001b[0m\u001b[0;34m)\u001b[0m\u001b[0;34m\u001b[0m\u001b[0;34m\u001b[0m\u001b[0m\n",
      "\u001b[0;32m/usr/local/lib/python3.7/dist-packages/torch/utils/data/_utils/fetch.py\u001b[0m in \u001b[0;36mfetch\u001b[0;34m(self, possibly_batched_index)\u001b[0m\n\u001b[1;32m     42\u001b[0m     \u001b[0;32mdef\u001b[0m \u001b[0mfetch\u001b[0m\u001b[0;34m(\u001b[0m\u001b[0mself\u001b[0m\u001b[0;34m,\u001b[0m \u001b[0mpossibly_batched_index\u001b[0m\u001b[0;34m)\u001b[0m\u001b[0;34m:\u001b[0m\u001b[0;34m\u001b[0m\u001b[0;34m\u001b[0m\u001b[0m\n\u001b[1;32m     43\u001b[0m         \u001b[0;32mif\u001b[0m \u001b[0mself\u001b[0m\u001b[0;34m.\u001b[0m\u001b[0mauto_collation\u001b[0m\u001b[0;34m:\u001b[0m\u001b[0;34m\u001b[0m\u001b[0;34m\u001b[0m\u001b[0m\n\u001b[0;32m---> 44\u001b[0;31m             \u001b[0mdata\u001b[0m \u001b[0;34m=\u001b[0m \u001b[0;34m[\u001b[0m\u001b[0mself\u001b[0m\u001b[0;34m.\u001b[0m\u001b[0mdataset\u001b[0m\u001b[0;34m[\u001b[0m\u001b[0midx\u001b[0m\u001b[0;34m]\u001b[0m \u001b[0;32mfor\u001b[0m \u001b[0midx\u001b[0m \u001b[0;32min\u001b[0m \u001b[0mpossibly_batched_index\u001b[0m\u001b[0;34m]\u001b[0m\u001b[0;34m\u001b[0m\u001b[0;34m\u001b[0m\u001b[0m\n\u001b[0m\u001b[1;32m     45\u001b[0m         \u001b[0;32melse\u001b[0m\u001b[0;34m:\u001b[0m\u001b[0;34m\u001b[0m\u001b[0;34m\u001b[0m\u001b[0m\n\u001b[1;32m     46\u001b[0m             \u001b[0mdata\u001b[0m \u001b[0;34m=\u001b[0m \u001b[0mself\u001b[0m\u001b[0;34m.\u001b[0m\u001b[0mdataset\u001b[0m\u001b[0;34m[\u001b[0m\u001b[0mpossibly_batched_index\u001b[0m\u001b[0;34m]\u001b[0m\u001b[0;34m\u001b[0m\u001b[0;34m\u001b[0m\u001b[0m\n",
      "\u001b[0;32m/usr/local/lib/python3.7/dist-packages/torch/utils/data/_utils/fetch.py\u001b[0m in \u001b[0;36m<listcomp>\u001b[0;34m(.0)\u001b[0m\n\u001b[1;32m     42\u001b[0m     \u001b[0;32mdef\u001b[0m \u001b[0mfetch\u001b[0m\u001b[0;34m(\u001b[0m\u001b[0mself\u001b[0m\u001b[0;34m,\u001b[0m \u001b[0mpossibly_batched_index\u001b[0m\u001b[0;34m)\u001b[0m\u001b[0;34m:\u001b[0m\u001b[0;34m\u001b[0m\u001b[0;34m\u001b[0m\u001b[0m\n\u001b[1;32m     43\u001b[0m         \u001b[0;32mif\u001b[0m \u001b[0mself\u001b[0m\u001b[0;34m.\u001b[0m\u001b[0mauto_collation\u001b[0m\u001b[0;34m:\u001b[0m\u001b[0;34m\u001b[0m\u001b[0;34m\u001b[0m\u001b[0m\n\u001b[0;32m---> 44\u001b[0;31m             \u001b[0mdata\u001b[0m \u001b[0;34m=\u001b[0m \u001b[0;34m[\u001b[0m\u001b[0mself\u001b[0m\u001b[0;34m.\u001b[0m\u001b[0mdataset\u001b[0m\u001b[0;34m[\u001b[0m\u001b[0midx\u001b[0m\u001b[0;34m]\u001b[0m \u001b[0;32mfor\u001b[0m \u001b[0midx\u001b[0m \u001b[0;32min\u001b[0m \u001b[0mpossibly_batched_index\u001b[0m\u001b[0;34m]\u001b[0m\u001b[0;34m\u001b[0m\u001b[0;34m\u001b[0m\u001b[0m\n\u001b[0m\u001b[1;32m     45\u001b[0m         \u001b[0;32melse\u001b[0m\u001b[0;34m:\u001b[0m\u001b[0;34m\u001b[0m\u001b[0;34m\u001b[0m\u001b[0m\n\u001b[1;32m     46\u001b[0m             \u001b[0mdata\u001b[0m \u001b[0;34m=\u001b[0m \u001b[0mself\u001b[0m\u001b[0;34m.\u001b[0m\u001b[0mdataset\u001b[0m\u001b[0;34m[\u001b[0m\u001b[0mpossibly_batched_index\u001b[0m\u001b[0;34m]\u001b[0m\u001b[0;34m\u001b[0m\u001b[0;34m\u001b[0m\u001b[0m\n",
      "\u001b[0;32m/usr/local/lib/python3.7/dist-packages/torchvision/datasets/folder.py\u001b[0m in \u001b[0;36m__getitem__\u001b[0;34m(self, index)\u001b[0m\n\u001b[1;32m    176\u001b[0m         \"\"\"\n\u001b[1;32m    177\u001b[0m         \u001b[0mpath\u001b[0m\u001b[0;34m,\u001b[0m \u001b[0mtarget\u001b[0m \u001b[0;34m=\u001b[0m \u001b[0mself\u001b[0m\u001b[0;34m.\u001b[0m\u001b[0msamples\u001b[0m\u001b[0;34m[\u001b[0m\u001b[0mindex\u001b[0m\u001b[0;34m]\u001b[0m\u001b[0;34m\u001b[0m\u001b[0;34m\u001b[0m\u001b[0m\n\u001b[0;32m--> 178\u001b[0;31m         \u001b[0msample\u001b[0m \u001b[0;34m=\u001b[0m \u001b[0mself\u001b[0m\u001b[0;34m.\u001b[0m\u001b[0mloader\u001b[0m\u001b[0;34m(\u001b[0m\u001b[0mpath\u001b[0m\u001b[0;34m)\u001b[0m\u001b[0;34m\u001b[0m\u001b[0;34m\u001b[0m\u001b[0m\n\u001b[0m\u001b[1;32m    179\u001b[0m         \u001b[0;32mif\u001b[0m \u001b[0mself\u001b[0m\u001b[0;34m.\u001b[0m\u001b[0mtransform\u001b[0m \u001b[0;32mis\u001b[0m \u001b[0;32mnot\u001b[0m \u001b[0;32mNone\u001b[0m\u001b[0;34m:\u001b[0m\u001b[0;34m\u001b[0m\u001b[0;34m\u001b[0m\u001b[0m\n\u001b[1;32m    180\u001b[0m             \u001b[0msample\u001b[0m \u001b[0;34m=\u001b[0m \u001b[0mself\u001b[0m\u001b[0;34m.\u001b[0m\u001b[0mtransform\u001b[0m\u001b[0;34m(\u001b[0m\u001b[0msample\u001b[0m\u001b[0;34m)\u001b[0m\u001b[0;34m\u001b[0m\u001b[0;34m\u001b[0m\u001b[0m\n",
      "\u001b[0;32m/usr/local/lib/python3.7/dist-packages/torchvision/datasets/folder.py\u001b[0m in \u001b[0;36mdefault_loader\u001b[0;34m(path)\u001b[0m\n\u001b[1;32m    213\u001b[0m         \u001b[0;32mreturn\u001b[0m \u001b[0maccimage_loader\u001b[0m\u001b[0;34m(\u001b[0m\u001b[0mpath\u001b[0m\u001b[0;34m)\u001b[0m\u001b[0;34m\u001b[0m\u001b[0;34m\u001b[0m\u001b[0m\n\u001b[1;32m    214\u001b[0m     \u001b[0;32melse\u001b[0m\u001b[0;34m:\u001b[0m\u001b[0;34m\u001b[0m\u001b[0;34m\u001b[0m\u001b[0m\n\u001b[0;32m--> 215\u001b[0;31m         \u001b[0;32mreturn\u001b[0m \u001b[0mpil_loader\u001b[0m\u001b[0;34m(\u001b[0m\u001b[0mpath\u001b[0m\u001b[0;34m)\u001b[0m\u001b[0;34m\u001b[0m\u001b[0;34m\u001b[0m\u001b[0m\n\u001b[0m\u001b[1;32m    216\u001b[0m \u001b[0;34m\u001b[0m\u001b[0m\n\u001b[1;32m    217\u001b[0m \u001b[0;34m\u001b[0m\u001b[0m\n",
      "\u001b[0;32m/usr/local/lib/python3.7/dist-packages/torchvision/datasets/folder.py\u001b[0m in \u001b[0;36mpil_loader\u001b[0;34m(path)\u001b[0m\n\u001b[1;32m    194\u001b[0m     \u001b[0;31m# open path as file to avoid ResourceWarning (https://github.com/python-pillow/Pillow/issues/835)\u001b[0m\u001b[0;34m\u001b[0m\u001b[0;34m\u001b[0m\u001b[0;34m\u001b[0m\u001b[0m\n\u001b[1;32m    195\u001b[0m     \u001b[0;32mwith\u001b[0m \u001b[0mopen\u001b[0m\u001b[0;34m(\u001b[0m\u001b[0mpath\u001b[0m\u001b[0;34m,\u001b[0m \u001b[0;34m'rb'\u001b[0m\u001b[0;34m)\u001b[0m \u001b[0;32mas\u001b[0m \u001b[0mf\u001b[0m\u001b[0;34m:\u001b[0m\u001b[0;34m\u001b[0m\u001b[0;34m\u001b[0m\u001b[0m\n\u001b[0;32m--> 196\u001b[0;31m         \u001b[0mimg\u001b[0m \u001b[0;34m=\u001b[0m \u001b[0mImage\u001b[0m\u001b[0;34m.\u001b[0m\u001b[0mopen\u001b[0m\u001b[0;34m(\u001b[0m\u001b[0mf\u001b[0m\u001b[0;34m)\u001b[0m\u001b[0;34m\u001b[0m\u001b[0;34m\u001b[0m\u001b[0m\n\u001b[0m\u001b[1;32m    197\u001b[0m         \u001b[0;32mreturn\u001b[0m \u001b[0mimg\u001b[0m\u001b[0;34m.\u001b[0m\u001b[0mconvert\u001b[0m\u001b[0;34m(\u001b[0m\u001b[0;34m'RGB'\u001b[0m\u001b[0;34m)\u001b[0m\u001b[0;34m\u001b[0m\u001b[0;34m\u001b[0m\u001b[0m\n\u001b[1;32m    198\u001b[0m \u001b[0;34m\u001b[0m\u001b[0m\n",
      "\u001b[0;32m/usr/local/lib/python3.7/dist-packages/PIL/Image.py\u001b[0m in \u001b[0;36mopen\u001b[0;34m(fp, mode)\u001b[0m\n\u001b[1;32m   2850\u001b[0m         \u001b[0mexclusive_fp\u001b[0m \u001b[0;34m=\u001b[0m \u001b[0;32mTrue\u001b[0m\u001b[0;34m\u001b[0m\u001b[0;34m\u001b[0m\u001b[0m\n\u001b[1;32m   2851\u001b[0m \u001b[0;34m\u001b[0m\u001b[0m\n\u001b[0;32m-> 2852\u001b[0;31m     \u001b[0mprefix\u001b[0m \u001b[0;34m=\u001b[0m \u001b[0mfp\u001b[0m\u001b[0;34m.\u001b[0m\u001b[0mread\u001b[0m\u001b[0;34m(\u001b[0m\u001b[0;36m16\u001b[0m\u001b[0;34m)\u001b[0m\u001b[0;34m\u001b[0m\u001b[0;34m\u001b[0m\u001b[0m\n\u001b[0m\u001b[1;32m   2853\u001b[0m \u001b[0;34m\u001b[0m\u001b[0m\n\u001b[1;32m   2854\u001b[0m     \u001b[0mpreinit\u001b[0m\u001b[0;34m(\u001b[0m\u001b[0;34m)\u001b[0m\u001b[0;34m\u001b[0m\u001b[0;34m\u001b[0m\u001b[0m\n",
      "\u001b[0;31mKeyboardInterrupt\u001b[0m: "
     ]
    }
   ],
   "source": [
    "phase = 'training'\n",
    "\n",
    "best_model_wts = copy.deepcopy(model_rn18.state_dict())\n",
    "best_acc = 0\n",
    "\n",
    "for epoch in range(n_epochs):\n",
    "  phase = 'training'\n",
    "  print(epoch)\n",
    "  run_loss = 0\n",
    "  run_corr = 0\n",
    "  model_rn18.train()\n",
    "  for inputs, labels in train_loader:\n",
    "    inputs = inputs.to(device)\n",
    "    labels = labels.to(device)\n",
    "    optimizer.zero_grad()\n",
    "    with torch.set_grad_enabled(True):\n",
    "      outputs = model_rn18(inputs)\n",
    "      _, preds = torch.max(outputs, 1)\n",
    "      loss = criterion(outputs, labels)\n",
    "        \n",
    "      loss.backward()\n",
    "      optimizer.step()\n",
    "        \n",
    "    run_loss += loss.item() + inputs.size(0)\n",
    "    run_corr += torch.sum(preds == labels.data)\n",
    "\n",
    "  scheduler.step()\n",
    "  \n",
    "  epoch_loss = run_loss / len(train_data)\n",
    "  epoch_acc = run_corr.double() / len(train_data)\n",
    "  print('Training: \\n {} Loss: {:.4f} Acc: {:.4f}'.format(epoch, epoch_loss, epoch_acc))\n",
    "\n",
    "  phase = 'validation'\n",
    "  run_loss = 0\n",
    "  run_corr = 0\n",
    "  model_rn18.eval()\n",
    "  for inputs, labels in val_loader:\n",
    "    inputs = inputs.to(device)\n",
    "    labels = labels.to(device)\n",
    "    optimizer.zero_grad()\n",
    "    with torch.set_grad_enabled(False):\n",
    "      outputs = model_rn18(inputs)\n",
    "      _, preds = torch.max(outputs, 1)\n",
    "      loss = criterion(outputs, labels)\n",
    "              \n",
    "    run_loss += loss.item() + inputs.size(0)\n",
    "    run_corr += torch.sum(preds == labels.data)\n",
    "\n",
    "  epoch_loss = run_loss / len(val_data)\n",
    "  epoch_acc = run_corr.double() / len(val_data)\n",
    "\n",
    "  if epoch_acc > best_acc:\n",
    "    best_acc = epoch_acc\n",
    "    best_model_wts = copy.deepcopy(model_rn18.state_dict())\n",
    "  \n",
    "  print('Validation: \\n {} Loss: {:.4f} Acc: {:.4f}'.format(epoch, epoch_loss, epoch_acc))\n",
    "\n",
    "torch.save(model_rn18, 'rn18_nonnormalized.pt')"
   ]
  },
  {
   "cell_type": "markdown",
   "metadata": {
    "id": "Gppj14Bou3u6"
   },
   "source": [
    "## Inception Net"
   ]
  },
  {
   "cell_type": "markdown",
   "metadata": {
    "id": "g5Dvuoj0H4Ii"
   },
   "source": [
    "# CODE I STOLE"
   ]
  },
  {
   "cell_type": "code",
   "execution_count": 12,
   "metadata": {
    "id": "2SIHNrw2IRW9"
   },
   "outputs": [],
   "source": [
    "image_transforms = { \n",
    "    'train': transforms.Compose([\n",
    "        transforms.ToTensor(),\n",
    "        #transforms.Normalize([0.485, 0.456, 0.406],\n",
    "        #                     [0.229, 0.224, 0.225])\n",
    "    ]),\n",
    "    'valid': transforms.Compose([\n",
    "        transforms.ToTensor(),\n",
    "        #transforms.Normalize([0.485, 0.456, 0.406],\n",
    "        #                     [0.229, 0.224, 0.225])\n",
    "    ])\n",
    "}"
   ]
  },
  {
   "cell_type": "code",
   "execution_count": 13,
   "metadata": {
    "id": "ZHKSeOwMH5fd"
   },
   "outputs": [],
   "source": [
    "# Load data from folders\n",
    "dataset = {\n",
    "    'train': datasets.ImageFolder(root=train_dir, transform=image_transforms['train']),\n",
    "    'valid': datasets.ImageFolder(root=val_dir, transform=image_transforms['valid'])\n",
    "}\n",
    "  \n",
    "# Size of train and validation data\n",
    "dataset_sizes = {\n",
    "    'train':len(dataset['train']),\n",
    "    'valid':len(dataset['valid'])\n",
    "}"
   ]
  },
  {
   "cell_type": "code",
   "execution_count": 14,
   "metadata": {
    "colab": {
     "base_uri": "https://localhost:8080/"
    },
    "id": "AgZAd47BIF5X",
    "outputId": "37544edf-7548-4c07-8875-dc49ad412895"
   },
   "outputs": [
    {
     "name": "stdout",
     "output_type": "stream",
     "text": [
      "Classes: ['Cezanne', 'Degas', 'Gauguin', 'Hassam', 'Matisse', 'Monet', 'Pissarro', 'Renoir', 'Sargent', 'VanGogh']\n",
      "Training-set size: 3988 \n",
      "Validation-set size: 594\n"
     ]
    }
   ],
   "source": [
    "dataloaders = {\n",
    "    'train':data.DataLoader(dataset['train'], batch_size=10, shuffle=True, pin_memory=True, drop_last=True),\n",
    "    'valid':data.DataLoader(dataset['valid'], batch_size=10, shuffle=True, pin_memory=True, drop_last=True)\n",
    "}\n",
    " \n",
    "# Class names or target labels\n",
    "class_names = dataset['train'].classes\n",
    "print(\"Classes:\", class_names)\n",
    "  \n",
    "# Print the train and validation data sizes\n",
    "print(\"Training-set size:\",dataset_sizes['train'],\n",
    "      \"\\nValidation-set size:\", dataset_sizes['valid'])\n",
    " \n",
    "# Set default device as gpu, if available\n",
    "device = torch.device(\"cuda:0\" if torch.cuda.is_available() else \"cpu\")"
   ]
  },
  {
   "cell_type": "code",
   "execution_count": 15,
   "metadata": {
    "id": "3RkD_tPeItB2"
   },
   "outputs": [],
   "source": [
    "def train_model(model, criterion, optimizer, scheduler, num_epochs=10):\n",
    "    since = time.time()\n",
    "    best_model_wts = copy.deepcopy(model.state_dict())\n",
    "    best_acc = 0.0\n",
    "    \n",
    "    #Epoch Results\n",
    "    results = {\"train\": {\"loss\" : [], \"acc\": []},\\\n",
    "               \"valid\": {\"loss\" : [], \"acc\": []}}\n",
    "     \n",
    "    for epoch in range(num_epochs):\n",
    "        print(f'Epoch: {epoch + 1}/{n_epochs}')\n",
    "        print('**' * 8, '\\n')\n",
    "\n",
    "        #iterate through phases during each epoch\n",
    "        for phase in ['train', 'valid']:\n",
    "            if phase == 'train':\n",
    "                model.train()  \n",
    "            else:\n",
    "                model.eval()  \n",
    "            running_loss = 0.0\n",
    "            running_corrects = 0\n",
    " \n",
    "            #iterate through images in phase\n",
    "            for inputs, labels in dataloaders[phase]:\n",
    "                inputs, labels = inputs.to(device), labels.to(device)\n",
    " \n",
    "                #zero parameter gradients\n",
    "                optimizer.zero_grad()\n",
    " \n",
    "                with torch.set_grad_enabled(phase == 'train'): #enable auto_grad if training, disable if validating\n",
    "                    outputs = model(inputs)\n",
    "                    _, preds = torch.max(outputs, 1)\n",
    "                    loss = criterion(outputs, labels)\n",
    " \n",
    "                    if phase == 'train': #Back-propogate and modify if training\n",
    "                        loss.backward()\n",
    "                        optimizer.step()\n",
    "\n",
    "                #track loss and accuracy\n",
    "                running_loss += loss.item() * inputs.size(0)\n",
    "                running_corrects += torch.sum(preds == labels.data)\n",
    "            \n",
    "            if phase == 'train': # Adjust learning rate if training\n",
    "                scheduler.step()\n",
    "            \n",
    "            epoch_loss = running_loss / dataset_sizes[phase]\n",
    "            epoch_acc = running_corrects.double() / dataset_sizes[phase]\n",
    "            print('{} Loss: {:.4f} Acc: {:.4f}'.format(phase, epoch_loss, epoch_acc))\n",
    " \n",
    "# Record training loss and accuracy for each phase\n",
    "            results[phase][\"loss\"].append(epoch_loss)\n",
    "            results[phase][\"acc\"].append(epoch_acc)\n",
    " \n",
    "# deep copy the model\n",
    "            if phase == 'valid' and epoch_acc > best_acc:\n",
    "                best_acc = epoch_acc\n",
    "                best_model_wts = copy.deepcopy(model.state_dict())\n",
    "            \n",
    "    time_elapsed = time.time() - since\n",
    "    print(f'Training complete in {round(time_elapsed // 60)}m {time_elapsed % 60}s')\n",
    "    print(f'Best val Acc: {best_acc}')\n",
    " \n",
    "# load best model weights\n",
    "    model.load_state_dict(best_model_wts)\n",
    "    return model, results\n"
   ]
  },
  {
   "cell_type": "markdown",
   "metadata": {
    "id": "bM0JnYppDzgO"
   },
   "source": [
    "# Custom Models\n",
    "https://algorithmia.com/blog/convolutional-neural-nets-in-pytorch"
   ]
  },
  {
   "cell_type": "markdown",
   "metadata": {
    "id": "KNERIv_IUzbU"
   },
   "source": [
    "## 2 Conv w/ 2 Linear FC Layers"
   ]
  },
  {
   "cell_type": "markdown",
   "metadata": {
    "id": "3dp-lqPPwHf6"
   },
   "source": [
    "### Overfit"
   ]
  },
  {
   "cell_type": "code",
   "execution_count": 16,
   "metadata": {
    "id": "Oip4ubrhJP02"
   },
   "outputs": [],
   "source": [
    "from torch.autograd import Variable\n",
    "import torch.nn.functional as F\n",
    "\n",
    "class overfit2_CNN(torch.nn.Module):\n",
    "    \n",
    "    #Our batch shape for input x is (3, 256, 256)\n",
    "    \n",
    "    def __init__(self):\n",
    "        super(overfit2_CNN, self).__init__()\n",
    "        \n",
    "        #Input channels = 3, output channels = 16\n",
    "        self.conv1 = torch.nn.Conv2d(3, 16, kernel_size=3, stride=1, padding=1)\n",
    "        self.pool1 = torch.nn.MaxPool2d(kernel_size=2, stride=2, padding=0)\n",
    "        \n",
    "        self.conv2 = torch.nn.Conv2d(16, 32, kernel_size=3, stride=1, padding=1)\n",
    "        self.pool2 = torch.nn.MaxPool2d(kernel_size=2, stride=2, padding=0)\n",
    "    \n",
    "        self.fc1 = torch.nn.Linear(32 * 64 * 64, 64)\n",
    "        self.fc2 = torch.nn.Linear(64, 10)\n",
    "        \n",
    "    def forward(self, x):\n",
    "        \n",
    "        #Computes the activation of the first convolution\n",
    "        # 3 -> 16 Channels\n",
    "        x = F.relu(self.conv1(x))\n",
    "        #Size changes from (16, 256, 256) to (16, 128, 128)\n",
    "        x = self.pool1(x)\n",
    "\n",
    "\n",
    "        # 16 -> 32 Channels\n",
    "        x = F.relu(self.conv2(x))\n",
    "        #Size changes from (32, 128, 128) to (32, 64, 64)\n",
    "        x = self.pool2(x)\n",
    "\n",
    "        #Reshape data to input to the input layer of the neural net\n",
    "        #Size changes from (32, 64, 64) to (1, 131072)\n",
    "        x = x.view(-1, 32 * 64 * 64)\n",
    "        \n",
    "        #Computes the activation of the first fully connected layer\n",
    "        #Size changes from (1, 131072) to (1, 64)\n",
    "        x = F.relu(self.fc1(x))\n",
    "        #Size changes from (1, 64) to (1, 10)\n",
    "        x = self.fc2(x)\n",
    "        return(x)"
   ]
  },
  {
   "cell_type": "code",
   "execution_count": 17,
   "metadata": {
    "id": "U1Eh1w1NIZpq"
   },
   "outputs": [],
   "source": [
    "myCNN = overfit2_CNN()\n",
    "myCNN = myCNN.to(device)\n",
    "\n",
    "criterion = nn.CrossEntropyLoss()\n",
    "optimizer = optim.Adam(myCNN.parameters(), lr=0.001)\n",
    "exp_lr_scheduler= lr_scheduler.StepLR(optimizer, step_size=3, gamma=0.1)\n",
    "# Set number of Epochs\n",
    "n_epochs = 10"
   ]
  },
  {
   "cell_type": "code",
   "execution_count": 18,
   "metadata": {
    "colab": {
     "base_uri": "https://localhost:8080/",
     "height": 1000
    },
    "id": "HJ6b-T4ttCj7",
    "outputId": "f7adafb2-bf94-4642-8816-6cc0a99bfd7a"
   },
   "outputs": [
    {
     "name": "stdout",
     "output_type": "stream",
     "text": [
      "Epoch: 1/10\n",
      "**************** \n",
      "\n"
     ]
    },
    {
     "ename": "KeyboardInterrupt",
     "evalue": "ignored",
     "output_type": "error",
     "traceback": [
      "\u001b[0;31m---------------------------------------------------------------------------\u001b[0m",
      "\u001b[0;31mKeyboardInterrupt\u001b[0m                         Traceback (most recent call last)",
      "\u001b[0;32m<ipython-input-18-5c2fc25987f2>\u001b[0m in \u001b[0;36m<module>\u001b[0;34m()\u001b[0m\n\u001b[0;32m----> 1\u001b[0;31m \u001b[0moverfit2_model\u001b[0m\u001b[0;34m,\u001b[0m \u001b[0moverfit2_results\u001b[0m \u001b[0;34m=\u001b[0m \u001b[0mtrain_model\u001b[0m\u001b[0;34m(\u001b[0m\u001b[0mmyCNN\u001b[0m\u001b[0;34m,\u001b[0m \u001b[0mcriterion\u001b[0m\u001b[0;34m,\u001b[0m \u001b[0moptimizer\u001b[0m\u001b[0;34m,\u001b[0m \u001b[0mexp_lr_scheduler\u001b[0m\u001b[0;34m,\u001b[0m\u001b[0mnum_epochs\u001b[0m\u001b[0;34m=\u001b[0m\u001b[0mn_epochs\u001b[0m\u001b[0;34m)\u001b[0m\u001b[0;34m\u001b[0m\u001b[0;34m\u001b[0m\u001b[0m\n\u001b[0m",
      "\u001b[0;32m<ipython-input-15-efcfabba38f1>\u001b[0m in \u001b[0;36mtrain_model\u001b[0;34m(model, criterion, optimizer, scheduler, num_epochs)\u001b[0m\n\u001b[1;32m     21\u001b[0m \u001b[0;34m\u001b[0m\u001b[0m\n\u001b[1;32m     22\u001b[0m             \u001b[0;31m#iterate through images in phase\u001b[0m\u001b[0;34m\u001b[0m\u001b[0;34m\u001b[0m\u001b[0;34m\u001b[0m\u001b[0m\n\u001b[0;32m---> 23\u001b[0;31m             \u001b[0;32mfor\u001b[0m \u001b[0minputs\u001b[0m\u001b[0;34m,\u001b[0m \u001b[0mlabels\u001b[0m \u001b[0;32min\u001b[0m \u001b[0mdataloaders\u001b[0m\u001b[0;34m[\u001b[0m\u001b[0mphase\u001b[0m\u001b[0;34m]\u001b[0m\u001b[0;34m:\u001b[0m\u001b[0;34m\u001b[0m\u001b[0;34m\u001b[0m\u001b[0m\n\u001b[0m\u001b[1;32m     24\u001b[0m                 \u001b[0minputs\u001b[0m\u001b[0;34m,\u001b[0m \u001b[0mlabels\u001b[0m \u001b[0;34m=\u001b[0m \u001b[0minputs\u001b[0m\u001b[0;34m.\u001b[0m\u001b[0mto\u001b[0m\u001b[0;34m(\u001b[0m\u001b[0mdevice\u001b[0m\u001b[0;34m)\u001b[0m\u001b[0;34m,\u001b[0m \u001b[0mlabels\u001b[0m\u001b[0;34m.\u001b[0m\u001b[0mto\u001b[0m\u001b[0;34m(\u001b[0m\u001b[0mdevice\u001b[0m\u001b[0;34m)\u001b[0m\u001b[0;34m\u001b[0m\u001b[0;34m\u001b[0m\u001b[0m\n\u001b[1;32m     25\u001b[0m \u001b[0;34m\u001b[0m\u001b[0m\n",
      "\u001b[0;32m/usr/local/lib/python3.7/dist-packages/torch/utils/data/dataloader.py\u001b[0m in \u001b[0;36m__next__\u001b[0;34m(self)\u001b[0m\n\u001b[1;32m    515\u001b[0m             \u001b[0;32mif\u001b[0m \u001b[0mself\u001b[0m\u001b[0;34m.\u001b[0m\u001b[0m_sampler_iter\u001b[0m \u001b[0;32mis\u001b[0m \u001b[0;32mNone\u001b[0m\u001b[0;34m:\u001b[0m\u001b[0;34m\u001b[0m\u001b[0;34m\u001b[0m\u001b[0m\n\u001b[1;32m    516\u001b[0m                 \u001b[0mself\u001b[0m\u001b[0;34m.\u001b[0m\u001b[0m_reset\u001b[0m\u001b[0;34m(\u001b[0m\u001b[0;34m)\u001b[0m\u001b[0;34m\u001b[0m\u001b[0;34m\u001b[0m\u001b[0m\n\u001b[0;32m--> 517\u001b[0;31m             \u001b[0mdata\u001b[0m \u001b[0;34m=\u001b[0m \u001b[0mself\u001b[0m\u001b[0;34m.\u001b[0m\u001b[0m_next_data\u001b[0m\u001b[0;34m(\u001b[0m\u001b[0;34m)\u001b[0m\u001b[0;34m\u001b[0m\u001b[0;34m\u001b[0m\u001b[0m\n\u001b[0m\u001b[1;32m    518\u001b[0m             \u001b[0mself\u001b[0m\u001b[0;34m.\u001b[0m\u001b[0m_num_yielded\u001b[0m \u001b[0;34m+=\u001b[0m \u001b[0;36m1\u001b[0m\u001b[0;34m\u001b[0m\u001b[0;34m\u001b[0m\u001b[0m\n\u001b[1;32m    519\u001b[0m             \u001b[0;32mif\u001b[0m \u001b[0mself\u001b[0m\u001b[0;34m.\u001b[0m\u001b[0m_dataset_kind\u001b[0m \u001b[0;34m==\u001b[0m \u001b[0m_DatasetKind\u001b[0m\u001b[0;34m.\u001b[0m\u001b[0mIterable\u001b[0m \u001b[0;32mand\u001b[0m\u001b[0;31m \u001b[0m\u001b[0;31m\\\u001b[0m\u001b[0;34m\u001b[0m\u001b[0;34m\u001b[0m\u001b[0m\n",
      "\u001b[0;32m/usr/local/lib/python3.7/dist-packages/torch/utils/data/dataloader.py\u001b[0m in \u001b[0;36m_next_data\u001b[0;34m(self)\u001b[0m\n\u001b[1;32m    555\u001b[0m     \u001b[0;32mdef\u001b[0m \u001b[0m_next_data\u001b[0m\u001b[0;34m(\u001b[0m\u001b[0mself\u001b[0m\u001b[0;34m)\u001b[0m\u001b[0;34m:\u001b[0m\u001b[0;34m\u001b[0m\u001b[0;34m\u001b[0m\u001b[0m\n\u001b[1;32m    556\u001b[0m         \u001b[0mindex\u001b[0m \u001b[0;34m=\u001b[0m \u001b[0mself\u001b[0m\u001b[0;34m.\u001b[0m\u001b[0m_next_index\u001b[0m\u001b[0;34m(\u001b[0m\u001b[0;34m)\u001b[0m  \u001b[0;31m# may raise StopIteration\u001b[0m\u001b[0;34m\u001b[0m\u001b[0;34m\u001b[0m\u001b[0m\n\u001b[0;32m--> 557\u001b[0;31m         \u001b[0mdata\u001b[0m \u001b[0;34m=\u001b[0m \u001b[0mself\u001b[0m\u001b[0;34m.\u001b[0m\u001b[0m_dataset_fetcher\u001b[0m\u001b[0;34m.\u001b[0m\u001b[0mfetch\u001b[0m\u001b[0;34m(\u001b[0m\u001b[0mindex\u001b[0m\u001b[0;34m)\u001b[0m  \u001b[0;31m# may raise StopIteration\u001b[0m\u001b[0;34m\u001b[0m\u001b[0;34m\u001b[0m\u001b[0m\n\u001b[0m\u001b[1;32m    558\u001b[0m         \u001b[0;32mif\u001b[0m \u001b[0mself\u001b[0m\u001b[0;34m.\u001b[0m\u001b[0m_pin_memory\u001b[0m\u001b[0;34m:\u001b[0m\u001b[0;34m\u001b[0m\u001b[0;34m\u001b[0m\u001b[0m\n\u001b[1;32m    559\u001b[0m             \u001b[0mdata\u001b[0m \u001b[0;34m=\u001b[0m \u001b[0m_utils\u001b[0m\u001b[0;34m.\u001b[0m\u001b[0mpin_memory\u001b[0m\u001b[0;34m.\u001b[0m\u001b[0mpin_memory\u001b[0m\u001b[0;34m(\u001b[0m\u001b[0mdata\u001b[0m\u001b[0;34m)\u001b[0m\u001b[0;34m\u001b[0m\u001b[0;34m\u001b[0m\u001b[0m\n",
      "\u001b[0;32m/usr/local/lib/python3.7/dist-packages/torch/utils/data/_utils/fetch.py\u001b[0m in \u001b[0;36mfetch\u001b[0;34m(self, possibly_batched_index)\u001b[0m\n\u001b[1;32m     42\u001b[0m     \u001b[0;32mdef\u001b[0m \u001b[0mfetch\u001b[0m\u001b[0;34m(\u001b[0m\u001b[0mself\u001b[0m\u001b[0;34m,\u001b[0m \u001b[0mpossibly_batched_index\u001b[0m\u001b[0;34m)\u001b[0m\u001b[0;34m:\u001b[0m\u001b[0;34m\u001b[0m\u001b[0;34m\u001b[0m\u001b[0m\n\u001b[1;32m     43\u001b[0m         \u001b[0;32mif\u001b[0m \u001b[0mself\u001b[0m\u001b[0;34m.\u001b[0m\u001b[0mauto_collation\u001b[0m\u001b[0;34m:\u001b[0m\u001b[0;34m\u001b[0m\u001b[0;34m\u001b[0m\u001b[0m\n\u001b[0;32m---> 44\u001b[0;31m             \u001b[0mdata\u001b[0m \u001b[0;34m=\u001b[0m \u001b[0;34m[\u001b[0m\u001b[0mself\u001b[0m\u001b[0;34m.\u001b[0m\u001b[0mdataset\u001b[0m\u001b[0;34m[\u001b[0m\u001b[0midx\u001b[0m\u001b[0;34m]\u001b[0m \u001b[0;32mfor\u001b[0m \u001b[0midx\u001b[0m \u001b[0;32min\u001b[0m \u001b[0mpossibly_batched_index\u001b[0m\u001b[0;34m]\u001b[0m\u001b[0;34m\u001b[0m\u001b[0;34m\u001b[0m\u001b[0m\n\u001b[0m\u001b[1;32m     45\u001b[0m         \u001b[0;32melse\u001b[0m\u001b[0;34m:\u001b[0m\u001b[0;34m\u001b[0m\u001b[0;34m\u001b[0m\u001b[0m\n\u001b[1;32m     46\u001b[0m             \u001b[0mdata\u001b[0m \u001b[0;34m=\u001b[0m \u001b[0mself\u001b[0m\u001b[0;34m.\u001b[0m\u001b[0mdataset\u001b[0m\u001b[0;34m[\u001b[0m\u001b[0mpossibly_batched_index\u001b[0m\u001b[0;34m]\u001b[0m\u001b[0;34m\u001b[0m\u001b[0;34m\u001b[0m\u001b[0m\n",
      "\u001b[0;32m/usr/local/lib/python3.7/dist-packages/torch/utils/data/_utils/fetch.py\u001b[0m in \u001b[0;36m<listcomp>\u001b[0;34m(.0)\u001b[0m\n\u001b[1;32m     42\u001b[0m     \u001b[0;32mdef\u001b[0m \u001b[0mfetch\u001b[0m\u001b[0;34m(\u001b[0m\u001b[0mself\u001b[0m\u001b[0;34m,\u001b[0m \u001b[0mpossibly_batched_index\u001b[0m\u001b[0;34m)\u001b[0m\u001b[0;34m:\u001b[0m\u001b[0;34m\u001b[0m\u001b[0;34m\u001b[0m\u001b[0m\n\u001b[1;32m     43\u001b[0m         \u001b[0;32mif\u001b[0m \u001b[0mself\u001b[0m\u001b[0;34m.\u001b[0m\u001b[0mauto_collation\u001b[0m\u001b[0;34m:\u001b[0m\u001b[0;34m\u001b[0m\u001b[0;34m\u001b[0m\u001b[0m\n\u001b[0;32m---> 44\u001b[0;31m             \u001b[0mdata\u001b[0m \u001b[0;34m=\u001b[0m \u001b[0;34m[\u001b[0m\u001b[0mself\u001b[0m\u001b[0;34m.\u001b[0m\u001b[0mdataset\u001b[0m\u001b[0;34m[\u001b[0m\u001b[0midx\u001b[0m\u001b[0;34m]\u001b[0m \u001b[0;32mfor\u001b[0m \u001b[0midx\u001b[0m \u001b[0;32min\u001b[0m \u001b[0mpossibly_batched_index\u001b[0m\u001b[0;34m]\u001b[0m\u001b[0;34m\u001b[0m\u001b[0;34m\u001b[0m\u001b[0m\n\u001b[0m\u001b[1;32m     45\u001b[0m         \u001b[0;32melse\u001b[0m\u001b[0;34m:\u001b[0m\u001b[0;34m\u001b[0m\u001b[0;34m\u001b[0m\u001b[0m\n\u001b[1;32m     46\u001b[0m             \u001b[0mdata\u001b[0m \u001b[0;34m=\u001b[0m \u001b[0mself\u001b[0m\u001b[0;34m.\u001b[0m\u001b[0mdataset\u001b[0m\u001b[0;34m[\u001b[0m\u001b[0mpossibly_batched_index\u001b[0m\u001b[0;34m]\u001b[0m\u001b[0;34m\u001b[0m\u001b[0;34m\u001b[0m\u001b[0m\n",
      "\u001b[0;32m/usr/local/lib/python3.7/dist-packages/torchvision/datasets/folder.py\u001b[0m in \u001b[0;36m__getitem__\u001b[0;34m(self, index)\u001b[0m\n\u001b[1;32m    176\u001b[0m         \"\"\"\n\u001b[1;32m    177\u001b[0m         \u001b[0mpath\u001b[0m\u001b[0;34m,\u001b[0m \u001b[0mtarget\u001b[0m \u001b[0;34m=\u001b[0m \u001b[0mself\u001b[0m\u001b[0;34m.\u001b[0m\u001b[0msamples\u001b[0m\u001b[0;34m[\u001b[0m\u001b[0mindex\u001b[0m\u001b[0;34m]\u001b[0m\u001b[0;34m\u001b[0m\u001b[0;34m\u001b[0m\u001b[0m\n\u001b[0;32m--> 178\u001b[0;31m         \u001b[0msample\u001b[0m \u001b[0;34m=\u001b[0m \u001b[0mself\u001b[0m\u001b[0;34m.\u001b[0m\u001b[0mloader\u001b[0m\u001b[0;34m(\u001b[0m\u001b[0mpath\u001b[0m\u001b[0;34m)\u001b[0m\u001b[0;34m\u001b[0m\u001b[0;34m\u001b[0m\u001b[0m\n\u001b[0m\u001b[1;32m    179\u001b[0m         \u001b[0;32mif\u001b[0m \u001b[0mself\u001b[0m\u001b[0;34m.\u001b[0m\u001b[0mtransform\u001b[0m \u001b[0;32mis\u001b[0m \u001b[0;32mnot\u001b[0m \u001b[0;32mNone\u001b[0m\u001b[0;34m:\u001b[0m\u001b[0;34m\u001b[0m\u001b[0;34m\u001b[0m\u001b[0m\n\u001b[1;32m    180\u001b[0m             \u001b[0msample\u001b[0m \u001b[0;34m=\u001b[0m \u001b[0mself\u001b[0m\u001b[0;34m.\u001b[0m\u001b[0mtransform\u001b[0m\u001b[0;34m(\u001b[0m\u001b[0msample\u001b[0m\u001b[0;34m)\u001b[0m\u001b[0;34m\u001b[0m\u001b[0;34m\u001b[0m\u001b[0m\n",
      "\u001b[0;32m/usr/local/lib/python3.7/dist-packages/torchvision/datasets/folder.py\u001b[0m in \u001b[0;36mdefault_loader\u001b[0;34m(path)\u001b[0m\n\u001b[1;32m    213\u001b[0m         \u001b[0;32mreturn\u001b[0m \u001b[0maccimage_loader\u001b[0m\u001b[0;34m(\u001b[0m\u001b[0mpath\u001b[0m\u001b[0;34m)\u001b[0m\u001b[0;34m\u001b[0m\u001b[0;34m\u001b[0m\u001b[0m\n\u001b[1;32m    214\u001b[0m     \u001b[0;32melse\u001b[0m\u001b[0;34m:\u001b[0m\u001b[0;34m\u001b[0m\u001b[0;34m\u001b[0m\u001b[0m\n\u001b[0;32m--> 215\u001b[0;31m         \u001b[0;32mreturn\u001b[0m \u001b[0mpil_loader\u001b[0m\u001b[0;34m(\u001b[0m\u001b[0mpath\u001b[0m\u001b[0;34m)\u001b[0m\u001b[0;34m\u001b[0m\u001b[0;34m\u001b[0m\u001b[0m\n\u001b[0m\u001b[1;32m    216\u001b[0m \u001b[0;34m\u001b[0m\u001b[0m\n\u001b[1;32m    217\u001b[0m \u001b[0;34m\u001b[0m\u001b[0m\n",
      "\u001b[0;32m/usr/local/lib/python3.7/dist-packages/torchvision/datasets/folder.py\u001b[0m in \u001b[0;36mpil_loader\u001b[0;34m(path)\u001b[0m\n\u001b[1;32m    194\u001b[0m     \u001b[0;31m# open path as file to avoid ResourceWarning (https://github.com/python-pillow/Pillow/issues/835)\u001b[0m\u001b[0;34m\u001b[0m\u001b[0;34m\u001b[0m\u001b[0;34m\u001b[0m\u001b[0m\n\u001b[1;32m    195\u001b[0m     \u001b[0;32mwith\u001b[0m \u001b[0mopen\u001b[0m\u001b[0;34m(\u001b[0m\u001b[0mpath\u001b[0m\u001b[0;34m,\u001b[0m \u001b[0;34m'rb'\u001b[0m\u001b[0;34m)\u001b[0m \u001b[0;32mas\u001b[0m \u001b[0mf\u001b[0m\u001b[0;34m:\u001b[0m\u001b[0;34m\u001b[0m\u001b[0;34m\u001b[0m\u001b[0m\n\u001b[0;32m--> 196\u001b[0;31m         \u001b[0mimg\u001b[0m \u001b[0;34m=\u001b[0m \u001b[0mImage\u001b[0m\u001b[0;34m.\u001b[0m\u001b[0mopen\u001b[0m\u001b[0;34m(\u001b[0m\u001b[0mf\u001b[0m\u001b[0;34m)\u001b[0m\u001b[0;34m\u001b[0m\u001b[0;34m\u001b[0m\u001b[0m\n\u001b[0m\u001b[1;32m    197\u001b[0m         \u001b[0;32mreturn\u001b[0m \u001b[0mimg\u001b[0m\u001b[0;34m.\u001b[0m\u001b[0mconvert\u001b[0m\u001b[0;34m(\u001b[0m\u001b[0;34m'RGB'\u001b[0m\u001b[0;34m)\u001b[0m\u001b[0;34m\u001b[0m\u001b[0;34m\u001b[0m\u001b[0m\n\u001b[1;32m    198\u001b[0m \u001b[0;34m\u001b[0m\u001b[0m\n",
      "\u001b[0;32m/usr/local/lib/python3.7/dist-packages/PIL/Image.py\u001b[0m in \u001b[0;36mopen\u001b[0;34m(fp, mode)\u001b[0m\n\u001b[1;32m   2850\u001b[0m         \u001b[0mexclusive_fp\u001b[0m \u001b[0;34m=\u001b[0m \u001b[0;32mTrue\u001b[0m\u001b[0;34m\u001b[0m\u001b[0;34m\u001b[0m\u001b[0m\n\u001b[1;32m   2851\u001b[0m \u001b[0;34m\u001b[0m\u001b[0m\n\u001b[0;32m-> 2852\u001b[0;31m     \u001b[0mprefix\u001b[0m \u001b[0;34m=\u001b[0m \u001b[0mfp\u001b[0m\u001b[0;34m.\u001b[0m\u001b[0mread\u001b[0m\u001b[0;34m(\u001b[0m\u001b[0;36m16\u001b[0m\u001b[0;34m)\u001b[0m\u001b[0;34m\u001b[0m\u001b[0;34m\u001b[0m\u001b[0m\n\u001b[0m\u001b[1;32m   2853\u001b[0m \u001b[0;34m\u001b[0m\u001b[0m\n\u001b[1;32m   2854\u001b[0m     \u001b[0mpreinit\u001b[0m\u001b[0;34m(\u001b[0m\u001b[0;34m)\u001b[0m\u001b[0;34m\u001b[0m\u001b[0;34m\u001b[0m\u001b[0m\n",
      "\u001b[0;31mKeyboardInterrupt\u001b[0m: "
     ]
    }
   ],
   "source": [
    "overfit2_model, overfit2_results = train_model(myCNN, criterion, optimizer, exp_lr_scheduler,num_epochs=n_epochs)"
   ]
  },
  {
   "cell_type": "code",
   "execution_count": null,
   "metadata": {
    "id": "-eO-SE6onGpg"
   },
   "outputs": [],
   "source": [
    "fig, axs = plt.subplots(nrows = 1, ncols = 2)\n",
    "\n",
    "for i in range(2):\n",
    "    if i == 0:\n",
    "        val = \"acc\"\n",
    "    else:\n",
    "        val = \"loss\"\n",
    "    axs[i].plot(overfit2_results[\"train\"][val])\n",
    "    axs[i].plot(overfit2_results[\"valid\"][val])"
   ]
  },
  {
   "cell_type": "markdown",
   "metadata": {
    "id": "lyvPSm4sU3Ak"
   },
   "source": [
    "### w/ Dropout"
   ]
  },
  {
   "cell_type": "code",
   "execution_count": null,
   "metadata": {
    "id": "0LOlPWuHU2Jv"
   },
   "outputs": [],
   "source": [
    "from torch.autograd import Variable\n",
    "import torch.nn.functional as F\n",
    "\n",
    "class dropout2_CNN(torch.nn.Module):\n",
    "    \n",
    "    #Our batch shape for input x is (3, 256, 256)\n",
    "    \n",
    "    def __init__(self):\n",
    "        super(dropout2_CNN, self).__init__()\n",
    "        \n",
    "        #Input channels = 3, output channels = 16\n",
    "        self.conv1 = torch.nn.Conv2d(3, 16, kernel_size=3, stride=1, padding=1)\n",
    "        self.pool1 = torch.nn.MaxPool2d(kernel_size=2, stride=2, padding=0)\n",
    "        \n",
    "        self.conv2 = torch.nn.Conv2d(16, 32, kernel_size=3, stride=1, padding=1)\n",
    "        self.pool2 = torch.nn.MaxPool2d(kernel_size=2, stride=2, padding=0)\n",
    "    \n",
    "        self.drop = nn.Dropout2d(p = 0.5)\n",
    "\n",
    "        self.fc1 = torch.nn.Linear(32 * 64 * 64, 64)\n",
    "        self.fc2 = torch.nn.Linear(64, 10)\n",
    "        \n",
    "    def forward(self, x):\n",
    "        \n",
    "        #Computes the activation of the first convolution\n",
    "        # 3 -> 16 Channels\n",
    "        x = F.relu(self.conv1(x))\n",
    "        #Size changes from (16, 256, 256) to (16, 128, 128)\n",
    "        x = self.pool1(x)\n",
    "\n",
    "\n",
    "        # 16 -> 32 Channels\n",
    "        x = F.relu(self.conv2(x))\n",
    "        #Size changes from (32, 128, 128) to (32, 64, 64)\n",
    "        x = self.pool2(x)\n",
    "\n",
    "        #Reshape data to input to the input layer of the neural net\n",
    "        #Size changes from (32, 64, 64) to (1, 131072)\n",
    "        x = x.view(-1, 32 * 64 * 64)\n",
    "\n",
    "        #Dropout\n",
    "        x = self.drop(x)\n",
    "        \n",
    "        #Computes the activation of the first fully connected layer\n",
    "        #Size changes from (1, 131072) to (1, 64)\n",
    "        x = F.relu(self.fc1(x))\n",
    "        #Size changes from (1, 64) to (1, 10)\n",
    "        x = self.fc2(x)\n",
    "        return(x)"
   ]
  },
  {
   "cell_type": "code",
   "execution_count": null,
   "metadata": {
    "id": "6RM4EGjVU2Jv"
   },
   "outputs": [],
   "source": [
    "myCNN = dropout2_CNN()\n",
    "myCNN = myCNN.to(device)\n",
    "\n",
    "criterion = nn.CrossEntropyLoss()\n",
    "optimizer = optim.Adam(myCNN.parameters(), lr=0.001)\n",
    "exp_lr_scheduler= lr_scheduler.StepLR(optimizer, step_size=3, gamma=0.1)\n",
    "# Set number of Epochs\n",
    "n_epochs = 10"
   ]
  },
  {
   "cell_type": "code",
   "execution_count": null,
   "metadata": {
    "id": "hg8dgnFXU2Jx"
   },
   "outputs": [],
   "source": [
    "dropout2_model, dropout2_results = train_model(myCNN, criterion, optimizer, exp_lr_scheduler,num_epochs=n_epochs)"
   ]
  },
  {
   "cell_type": "code",
   "execution_count": null,
   "metadata": {
    "id": "ecTeNceCqORd"
   },
   "outputs": [],
   "source": [
    "fig, axs = plt.subplots(nrows = 1, ncols = 2)\n",
    "\n",
    "for i in range(2):\n",
    "    if i == 0:\n",
    "        val = \"acc\"\n",
    "    else:\n",
    "        val = \"loss\"\n",
    "    axs[i].plot(dropout2_results[\"train\"][val])\n",
    "    axs[i].plot(dropout2_results[\"valid\"][val])"
   ]
  },
  {
   "cell_type": "markdown",
   "metadata": {
    "id": "OrRm-1sDXA_W"
   },
   "source": [
    "### w/ Batch-Norm"
   ]
  },
  {
   "cell_type": "code",
   "execution_count": null,
   "metadata": {
    "id": "qOglTQlaXA_X"
   },
   "outputs": [],
   "source": [
    "from torch.autograd import Variable\n",
    "import torch.nn.functional as F\n",
    "\n",
    "class batchnorm2_CNN(torch.nn.Module):\n",
    "    \n",
    "    #Our batch shape for input x is (3, 256, 256)\n",
    "    def __init__(self):\n",
    "        super(batchnorm2_CNN, self).__init__()\n",
    "        \n",
    "        #Input channels = 3, output channels = 16\n",
    "        self.conv1 = torch.nn.Conv2d(3, 16, kernel_size=3, stride=1, padding=1)\n",
    "        self.pool1 = torch.nn.MaxPool2d(kernel_size=2, stride=2, padding=0)\n",
    "        \n",
    "        self.conv2 = torch.nn.Conv2d(16, 32, kernel_size=3, stride=1, padding=1)\n",
    "        self.bn2d = nn.BatchNorm2d(32)\n",
    "        self.pool2 = torch.nn.MaxPool2d(kernel_size=2, stride=2, padding=0)\n",
    "    \n",
    "\n",
    "        self.fc1 = torch.nn.Linear(32 * 64 * 64, 64)\n",
    "        self.bn1d = nn.BatchNorm1d(64)\n",
    "        self.fc2 = torch.nn.Linear(64, 10)\n",
    "        \n",
    "    def forward(self, x):\n",
    "        \n",
    "        #Computes the activation of the first convolution\n",
    "        # 3 -> 16 Channels\n",
    "        x = F.relu(self.conv1(x))\n",
    "        #Size changes from (16, 256, 256) to (16, 128, 128)\n",
    "        x = self.pool1(x)\n",
    "\n",
    "\n",
    "        # 16 -> 32 Channels\n",
    "        x = F.relu(self.bn2d(self.conv2(x)))\n",
    "        #Size changes from (16, 128, 128) to (32, 64, 64)\n",
    "        x = self.pool2(x)\n",
    "\n",
    "        #Reshape data to input to the input layer of the neural net\n",
    "        #Size changes from (32, 64, 64) to (1, 131072)\n",
    "        x = x.view(-1, 32 * 64 * 64)\n",
    "        \n",
    "        #Computes the activation of the first fully connected layer\n",
    "        #Size changes from (1, 131072) to (1, 64)\n",
    "        x = F.relu(self.bn1d(self.fc1(x)))\n",
    "        #Size changes from (1, 64) to (1, 10)\n",
    "        x = self.fc2(x)\n",
    "        return(x)"
   ]
  },
  {
   "cell_type": "code",
   "execution_count": null,
   "metadata": {
    "id": "Rm6VwRgFXA_X"
   },
   "outputs": [],
   "source": [
    "myCNN = batchnorm2_CNN()\n",
    "myCNN = myCNN.to(device)\n",
    "\n",
    "criterion = nn.CrossEntropyLoss()\n",
    "optimizer = optim.Adam(myCNN.parameters(), lr=0.001)\n",
    "exp_lr_scheduler= lr_scheduler.StepLR(optimizer, step_size=7, gamma=0.1)\n",
    "# Set number of Epochs\n",
    "n_epochs = 10"
   ]
  },
  {
   "cell_type": "code",
   "execution_count": null,
   "metadata": {
    "colab": {
     "base_uri": "https://localhost:8080/"
    },
    "id": "ihIkeNBpXA_Y",
    "outputId": "803529b4-27cd-4ed5-c623-1ce45d7f3e8c"
   },
   "outputs": [
    {
     "name": "stdout",
     "output_type": "stream",
     "text": [
      "Epoch: 1/10\n",
      "**************** \n",
      "\n",
      "train Loss: 2.1575 Acc: 0.2144\n",
      "valid Loss: 2.2034 Acc: 0.2020\n",
      "Epoch: 2/10\n",
      "**************** \n",
      "\n",
      "train Loss: 2.0255 Acc: 0.2728\n",
      "valid Loss: 2.1939 Acc: 0.2306\n",
      "Epoch: 3/10\n",
      "**************** \n",
      "\n",
      "train Loss: 1.9118 Acc: 0.3267\n",
      "valid Loss: 2.0873 Acc: 0.2626\n",
      "Epoch: 4/10\n",
      "**************** \n",
      "\n",
      "train Loss: 1.6885 Acc: 0.4233\n",
      "valid Loss: 1.9382 Acc: 0.3316\n",
      "Epoch: 5/10\n",
      "**************** \n",
      "\n",
      "train Loss: 1.5776 Acc: 0.4802\n",
      "valid Loss: 1.9445 Acc: 0.2963\n",
      "Epoch: 6/10\n",
      "**************** \n",
      "\n",
      "train Loss: 1.4494 Acc: 0.5431\n",
      "valid Loss: 1.9304 Acc: 0.3401\n",
      "Epoch: 7/10\n",
      "**************** \n",
      "\n",
      "train Loss: 1.3089 Acc: 0.6091\n",
      "valid Loss: 1.9032 Acc: 0.3283\n",
      "Epoch: 8/10\n",
      "**************** \n",
      "\n",
      "train Loss: 1.2796 Acc: 0.6186\n",
      "valid Loss: 1.9380 Acc: 0.3266\n",
      "Epoch: 9/10\n",
      "**************** \n",
      "\n",
      "train Loss: 1.2621 Acc: 0.6284\n",
      "valid Loss: 1.8903 Acc: 0.3552\n",
      "Epoch: 10/10\n",
      "**************** \n",
      "\n",
      "train Loss: 1.2378 Acc: 0.6369\n",
      "valid Loss: 1.9081 Acc: 0.3316\n",
      "Training complete in 3m 45.72390842437744s\n",
      "Best val Acc: 0.3552188552188552\n"
     ]
    }
   ],
   "source": [
    "batchnorm2_model, batchnorm2_results = train_model(myCNN, criterion, optimizer, exp_lr_scheduler,num_epochs=n_epochs)"
   ]
  },
  {
   "cell_type": "code",
   "execution_count": null,
   "metadata": {
    "colab": {
     "base_uri": "https://localhost:8080/",
     "height": 265
    },
    "id": "fSo8KrUqq4VZ",
    "outputId": "a3e858e7-5863-46cd-88f2-f6bcdeacb694"
   },
   "outputs": [
    {
     "data": {
      "image/png": "[encoded data removed]",
      "text/plain": [
       "<Figure size 432x288 with 2 Axes>"
      ]
     },
     "metadata": {
      "needs_background": "light",
      "tags": []
     },
     "output_type": "display_data"
    }
   ],
   "source": [
    "fig, axs = plt.subplots(nrows = 1, ncols = 2)\n",
    "\n",
    "for i in range(2):\n",
    "    if i == 0:\n",
    "        val = \"acc\"\n",
    "    else:\n",
    "        val = \"loss\"\n",
    "    axs[i].plot(batchnorm2_results[\"train\"][val])\n",
    "    axs[i].plot(batchnorm2_results[\"valid\"][val])"
   ]
  },
  {
   "cell_type": "markdown",
   "metadata": {
    "id": "JAPC-Zj-vDnR"
   },
   "source": [
    "## 2 Conv w/ 1 Linear FC Layer & Crop (256)"
   ]
  },
  {
   "cell_type": "code",
   "execution_count": 19,
   "metadata": {
    "id": "AV4UvD8GyAUM"
   },
   "outputs": [],
   "source": [
    "data_transforms = {\n",
    "    'training':transforms.Compose([\n",
    "        transforms.RandomResizedCrop(256),\n",
    "        transforms.RandomHorizontalFlip(),\n",
    "        transforms.ToTensor(),\n",
    "        transforms.Normalize([0.485, 0.456, 0.406], [0.229, 0.224, 0.225])\n",
    "    ]),\n",
    "    'validation':transforms.Compose([\n",
    "        transforms.Resize(256),\n",
    "        transforms.CenterCrop(256),\n",
    "        transforms.ToTensor(),\n",
    "        transforms.Normalize([0.485, 0.456, 0.406], [0.229, 0.224, 0.225])\n",
    "    ]),\n",
    "}"
   ]
  },
  {
   "cell_type": "code",
   "execution_count": 20,
   "metadata": {
    "id": "cqFBxXqiyRRF"
   },
   "outputs": [],
   "source": [
    "# Load data from folders\n",
    "dataset = {\n",
    "    'train': datasets.ImageFolder(root=train_dir, transform=image_transforms['train']),\n",
    "    'valid': datasets.ImageFolder(root=val_dir, transform=image_transforms['valid'])\n",
    "}\n",
    "  \n",
    "# Size of train and validation data\n",
    "dataset_sizes = {\n",
    "    'train':len(dataset['train']),\n",
    "    'valid':len(dataset['valid'])\n",
    "}"
   ]
  },
  {
   "cell_type": "code",
   "execution_count": 22,
   "metadata": {
    "colab": {
     "base_uri": "https://localhost:8080/"
    },
    "id": "J7QQ8Z8YyTqa",
    "outputId": "67a76e9f-50f1-4b6a-d8df-763a96692c65"
   },
   "outputs": [
    {
     "name": "stdout",
     "output_type": "stream",
     "text": [
      "Classes: ['Cezanne', 'Degas', 'Gauguin', 'Hassam', 'Matisse', 'Monet', 'Pissarro', 'Renoir', 'Sargent', 'VanGogh']\n",
      "Training-set size: 3988 \n",
      "Validation-set size: 594\n"
     ]
    }
   ],
   "source": [
    "dataloaders = {\n",
    "    'train':data.DataLoader(dataset['train'], batch_size=10, shuffle=True, pin_memory=True, drop_last=True),\n",
    "    'valid':data.DataLoader(dataset['valid'], batch_size=10, shuffle=True, pin_memory=True, drop_last=True)\n",
    "}\n",
    " \n",
    "# Class names or target labels\n",
    "class_names = dataset['train'].classes\n",
    "print(\"Classes:\", class_names)\n",
    "  \n",
    "# Print the train and validation data sizes\n",
    "print(\"Training-set size:\",dataset_sizes['train'],\n",
    "      \"\\nValidation-set size:\", dataset_sizes['valid'])\n",
    " \n",
    "# Set default device as gpu, if available\n",
    "device = torch.device(\"cuda:0\" if torch.cuda.is_available() else \"cpu\")"
   ]
  },
  {
   "cell_type": "code",
   "execution_count": 42,
   "metadata": {
    "id": "HWoGJmNWvIgF"
   },
   "outputs": [],
   "source": [
    "class CNNModel(nn.Module):\n",
    "    def __init__(self):\n",
    "        super(CNNModel, self).__init__()\n",
    "        \n",
    "        # Convolution 1\n",
    "        self.cnn1 = nn.Conv2d(in_channels=3, out_channels=16, kernel_size=3, stride=1, padding=0)\n",
    "        self.relu1 = nn.ReLU()\n",
    "        \n",
    "        # Max pool 1\n",
    "        self.maxpool1 = nn.MaxPool2d(kernel_size=2)\n",
    "     \n",
    "        # Convolution 2\n",
    "        self.cnn2 = nn.Conv2d(in_channels=16, out_channels=32, kernel_size=3, stride=1, padding=0)\n",
    "        self.relu2 = nn.ReLU()\n",
    "        \n",
    "        # Max pool 2\n",
    "        self.maxpool2 = nn.MaxPool2d(kernel_size=2)\n",
    "        # Fully connected 1\n",
    "        self.fc1 = nn.Linear(32 * 62 * 62, 10) \n",
    "    \n",
    "    def forward(self, x):\n",
    "        # Set 1\n",
    "        out = self.cnn1(x)\n",
    "        out = self.relu1(out)\n",
    "        out = self.maxpool1(out)\n",
    "        \n",
    "        # Set 2\n",
    "        out = self.cnn2(out)\n",
    "        out = self.relu2(out)\n",
    "        out = self.maxpool2(out)\n",
    "\n",
    "        #Flatten\n",
    "        out = out.view(out.size(0), -1)\n",
    "\n",
    "        #Dense\n",
    "        out = self.fc1(out)\n",
    "        \n",
    "        return out"
   ]
  },
  {
   "cell_type": "code",
   "execution_count": 43,
   "metadata": {
    "id": "2gIAgXOuwB99"
   },
   "outputs": [],
   "source": [
    "myCNN = CNNModel()\n",
    "myCNN = myCNN.to(device)\n",
    "\n",
    "criterion = nn.CrossEntropyLoss()\n",
    "optimizer = optim.Adam(myCNN.parameters(), lr=0.001)\n",
    "exp_lr_scheduler= lr_scheduler.StepLR(optimizer, step_size=7, gamma=0.1)\n",
    "# Set number of Epochs\n",
    "n_epochs = 10"
   ]
  },
  {
   "cell_type": "code",
   "execution_count": 45,
   "metadata": {
    "colab": {
     "base_uri": "https://localhost:8080/",
     "height": 354
    },
    "id": "Woz2s2N_wB9-",
    "outputId": "0b0edea5-a068-4019-f585-dce7aa765abf"
   },
   "outputs": [
    {
     "name": "stdout",
     "output_type": "stream",
     "text": [
      "Epoch: 1/10\n",
      "**************** \n",
      "\n"
     ]
    },
    {
     "ename": "KeyboardInterrupt",
     "evalue": "ignored",
     "output_type": "error",
     "traceback": [
      "\u001b[0;31m---------------------------------------------------------------------------\u001b[0m",
      "\u001b[0;31mKeyboardInterrupt\u001b[0m                         Traceback (most recent call last)",
      "\u001b[0;32m<ipython-input-45-c3f0ead9b5a3>\u001b[0m in \u001b[0;36m<module>\u001b[0;34m()\u001b[0m\n\u001b[0;32m----> 1\u001b[0;31m \u001b[0mConv2_model\u001b[0m\u001b[0;34m,\u001b[0m \u001b[0mConv2_results\u001b[0m \u001b[0;34m=\u001b[0m \u001b[0mtrain_model\u001b[0m\u001b[0;34m(\u001b[0m\u001b[0mmyCNN\u001b[0m\u001b[0;34m,\u001b[0m \u001b[0mcriterion\u001b[0m\u001b[0;34m,\u001b[0m \u001b[0moptimizer\u001b[0m\u001b[0;34m,\u001b[0m \u001b[0mexp_lr_scheduler\u001b[0m\u001b[0;34m,\u001b[0m\u001b[0mnum_epochs\u001b[0m\u001b[0;34m=\u001b[0m\u001b[0mn_epochs\u001b[0m\u001b[0;34m)\u001b[0m\u001b[0;34m\u001b[0m\u001b[0;34m\u001b[0m\u001b[0m\n\u001b[0m",
      "\u001b[0;32m<ipython-input-15-efcfabba38f1>\u001b[0m in \u001b[0;36mtrain_model\u001b[0;34m(model, criterion, optimizer, scheduler, num_epochs)\u001b[0m\n\u001b[1;32m     37\u001b[0m \u001b[0;34m\u001b[0m\u001b[0m\n\u001b[1;32m     38\u001b[0m                 \u001b[0;31m#track loss and accuracy\u001b[0m\u001b[0;34m\u001b[0m\u001b[0;34m\u001b[0m\u001b[0;34m\u001b[0m\u001b[0m\n\u001b[0;32m---> 39\u001b[0;31m                 \u001b[0mrunning_loss\u001b[0m \u001b[0;34m+=\u001b[0m \u001b[0mloss\u001b[0m\u001b[0;34m.\u001b[0m\u001b[0mitem\u001b[0m\u001b[0;34m(\u001b[0m\u001b[0;34m)\u001b[0m \u001b[0;34m*\u001b[0m \u001b[0minputs\u001b[0m\u001b[0;34m.\u001b[0m\u001b[0msize\u001b[0m\u001b[0;34m(\u001b[0m\u001b[0;36m0\u001b[0m\u001b[0;34m)\u001b[0m\u001b[0;34m\u001b[0m\u001b[0;34m\u001b[0m\u001b[0m\n\u001b[0m\u001b[1;32m     40\u001b[0m                 \u001b[0mrunning_corrects\u001b[0m \u001b[0;34m+=\u001b[0m \u001b[0mtorch\u001b[0m\u001b[0;34m.\u001b[0m\u001b[0msum\u001b[0m\u001b[0;34m(\u001b[0m\u001b[0mpreds\u001b[0m \u001b[0;34m==\u001b[0m \u001b[0mlabels\u001b[0m\u001b[0;34m.\u001b[0m\u001b[0mdata\u001b[0m\u001b[0;34m)\u001b[0m\u001b[0;34m\u001b[0m\u001b[0;34m\u001b[0m\u001b[0m\n\u001b[1;32m     41\u001b[0m \u001b[0;34m\u001b[0m\u001b[0m\n",
      "\u001b[0;31mKeyboardInterrupt\u001b[0m: "
     ]
    }
   ],
   "source": [
    "Conv2_model, Conv2_results = train_model(myCNN, criterion, optimizer, exp_lr_scheduler,num_epochs=n_epochs)"
   ]
  },
  {
   "cell_type": "code",
   "execution_count": null,
   "metadata": {
    "id": "uv8QgqjgwB9_"
   },
   "outputs": [],
   "source": [
    "fig, axs = plt.subplots(nrows = 1, ncols = 2)\n",
    "\n",
    "for i in range(2):\n",
    "    if i == 0:\n",
    "        val = \"acc\"\n",
    "    else:\n",
    "        val = \"loss\"\n",
    "    axs[i].plot(Conv2_results[\"train\"][val])\n",
    "    axs[i].plot(Conv2_results[\"valid\"][val])"
   ]
  },
  {
   "cell_type": "markdown",
   "metadata": {
    "id": "WeKfVWZyU9Xq"
   },
   "source": [
    "## 1 Conv"
   ]
  },
  {
   "cell_type": "markdown",
   "metadata": {
    "id": "_DPvzp5jppe1"
   },
   "source": [
    "### Overfit"
   ]
  },
  {
   "cell_type": "code",
   "execution_count": 3,
   "metadata": {
    "colab": {
     "base_uri": "https://localhost:8080/",
     "height": 244
    },
    "id": "JMcr6hUpEK_5",
    "outputId": "6275d7ad-85e2-473c-e483-77100f1b5f37"
   },
   "outputs": [
    {
     "ename": "NameError",
     "evalue": "ignored",
     "output_type": "error",
     "traceback": [
      "\u001b[0;31m---------------------------------------------------------------------------\u001b[0m",
      "\u001b[0;31mNameError\u001b[0m                                 Traceback (most recent call last)",
      "\u001b[0;32m<ipython-input-3-c3059361af1c>\u001b[0m in \u001b[0;36m<module>\u001b[0;34m()\u001b[0m\n\u001b[1;32m      2\u001b[0m \u001b[0;32mimport\u001b[0m \u001b[0mtorch\u001b[0m\u001b[0;34m.\u001b[0m\u001b[0mnn\u001b[0m\u001b[0;34m.\u001b[0m\u001b[0mfunctional\u001b[0m \u001b[0;32mas\u001b[0m \u001b[0mF\u001b[0m\u001b[0;34m\u001b[0m\u001b[0;34m\u001b[0m\u001b[0m\n\u001b[1;32m      3\u001b[0m \u001b[0;34m\u001b[0m\u001b[0m\n\u001b[0;32m----> 4\u001b[0;31m \u001b[0;32mclass\u001b[0m \u001b[0moverfit1_CNN\u001b[0m\u001b[0;34m(\u001b[0m\u001b[0mtorch\u001b[0m\u001b[0;34m.\u001b[0m\u001b[0mnn\u001b[0m\u001b[0;34m.\u001b[0m\u001b[0mModule\u001b[0m\u001b[0;34m)\u001b[0m\u001b[0;34m:\u001b[0m\u001b[0;34m\u001b[0m\u001b[0;34m\u001b[0m\u001b[0m\n\u001b[0m\u001b[1;32m      5\u001b[0m \u001b[0;34m\u001b[0m\u001b[0m\n\u001b[1;32m      6\u001b[0m     \u001b[0;31m#Our batch shape for input x is (3, 256, 256)\u001b[0m\u001b[0;34m\u001b[0m\u001b[0;34m\u001b[0m\u001b[0;34m\u001b[0m\u001b[0m\n",
      "\u001b[0;31mNameError\u001b[0m: name 'torch' is not defined"
     ]
    }
   ],
   "source": [
    "from torch.autograd import Variable\n",
    "import torch.nn.functional as F\n",
    "\n",
    "class overfit1_CNN(torch.nn.Module):\n",
    "    \n",
    "    #Our batch shape for input x is (3, 256, 256)\n",
    "    \n",
    "    def __init__(self):\n",
    "        super(overfit1_CNN, self).__init__()\n",
    "        \n",
    "        #Input channels = 3, output channels = 16\n",
    "        self.conv1 = torch.nn.Conv2d(3, 16, kernel_size=3, stride=1, padding=1)\n",
    "        self.pool1 = torch.nn.MaxPool2d(kernel_size=2, stride=2, padding=0)\n",
    "        \n",
    "        #262144 input features, 64 output features (see sizing flow below)\n",
    "        self.fc1 = torch.nn.Linear(16 * 128 * 128, 64)\n",
    "        \n",
    "        #64 input features, 10 output features for our 10 defined classes\n",
    "        self.fc2 = torch.nn.Linear(64, 10)\n",
    "        \n",
    "    def forward(self, x):\n",
    "        \n",
    "        #Computes the activation of the first convolution\n",
    "        #Size changes from (3, 256, 256) to (16, 256, 256)\n",
    "        x = F.relu(self.conv1(x))\n",
    "        #Size changes from (16, 256, 256) to (16, 128, 128)\n",
    "        x = self.pool1(x)\n",
    "\n",
    "        #Reshape data to input to the input layer of the neural net\n",
    "        #Size changes from (16, 128, 128) to (1, 262144)\n",
    "        x = x.view(-1, 16 * 128 * 128)\n",
    "        \n",
    "        #Computes the activation of the first fully connected layer\n",
    "        #Size changes from (1, 262144) to (1, 64)\n",
    "        x = F.relu(self.fc1(x))\n",
    "        \n",
    "        #Computes the second fully connected layer (activation applied later)\n",
    "        #Size changes from (1, 64) to (1, 10)\n",
    "        #x = self.norm2(x)\n",
    "        x = self.fc2(x)\n",
    "        return(x)"
   ]
  },
  {
   "cell_type": "code",
   "execution_count": null,
   "metadata": {
    "id": "9_QsX_geJmBx"
   },
   "outputs": [],
   "source": [
    "train_data = datasets.ImageFolder(root=train_dir, transform = transforms.ToTensor())\n",
    "val_data = datasets.ImageFolder(root=val_dir, transform = transforms.ToTensor())\n",
    "\n",
    "train_loader = data.DataLoader(train_data, batch_size=4, shuffle=True, pin_memory=True, drop_last=True)\n",
    "val_loader = data.DataLoader(val_data, batch_size=4, shuffle=True, pin_memory=True, drop_last=True)\n",
    "\n",
    "class_names = train_data.classes\n",
    "print(class_names)"
   ]
  },
  {
   "cell_type": "code",
   "execution_count": null,
   "metadata": {
    "id": "tb-5wqO8ZJD9"
   },
   "outputs": [],
   "source": [
    "myCNN = overfit1_CNN()\n",
    "myCNN = myCNN.to(device)\n",
    "\n",
    "criterion = nn.CrossEntropyLoss()\n",
    "optimizer = optim.Adam(myCNN.parameters(), lr=0.001)\n",
    "scheduler = lr_scheduler.StepLR(optimizer, step_size=3, gamma=0.1)\n",
    "# Set number of Epochs\n",
    "n_epochs = 10"
   ]
  },
  {
   "cell_type": "code",
   "execution_count": null,
   "metadata": {
    "colab": {
     "base_uri": "https://localhost:8080/",
     "height": 190
    },
    "id": "PByCnUxqtVJS",
    "outputId": "10027a78-0ece-409f-d6e3-e8f3633ad07f"
   },
   "outputs": [
    {
     "ename": "NameError",
     "evalue": "ignored",
     "output_type": "error",
     "traceback": [
      "\u001b[0;31m---------------------------------------------------------------------------\u001b[0m",
      "\u001b[0;31mNameError\u001b[0m                                 Traceback (most recent call last)",
      "\u001b[0;32m<ipython-input-2-29f72287cc56>\u001b[0m in \u001b[0;36m<module>\u001b[0;34m()\u001b[0m\n\u001b[0;32m----> 1\u001b[0;31m \u001b[0moverfit1_model\u001b[0m\u001b[0;34m,\u001b[0m \u001b[0moverfit1_results\u001b[0m \u001b[0;34m=\u001b[0m \u001b[0mtrain_model\u001b[0m\u001b[0;34m(\u001b[0m\u001b[0mmyCNN\u001b[0m\u001b[0;34m,\u001b[0m \u001b[0mcriterion\u001b[0m\u001b[0;34m,\u001b[0m \u001b[0moptimizer\u001b[0m\u001b[0;34m,\u001b[0m \u001b[0mexp_lr_scheduler\u001b[0m\u001b[0;34m,\u001b[0m\u001b[0mnum_epochs\u001b[0m\u001b[0;34m=\u001b[0m\u001b[0mn_epochs\u001b[0m\u001b[0;34m)\u001b[0m\u001b[0;34m\u001b[0m\u001b[0;34m\u001b[0m\u001b[0m\n\u001b[0m",
      "\u001b[0;31mNameError\u001b[0m: name 'train_model' is not defined"
     ]
    }
   ],
   "source": [
    "overfit1_model, overfit1_results = train_model(myCNN, criterion, optimizer, exp_lr_scheduler,num_epochs=n_epochs)"
   ]
  },
  {
   "cell_type": "code",
   "execution_count": null,
   "metadata": {
    "colab": {
     "base_uri": "https://localhost:8080/",
     "height": 268
    },
    "id": "N24SFBlorLrZ",
    "outputId": "ad846c5f-9c11-4cd8-bbae-9052fb01cc0d"
   },
   "outputs": [
    {
     "data": {
      "image/png": "[encoded data removed]",
      "text/plain": [
       "<Figure size 432x288 with 2 Axes>"
      ]
     },
     "metadata": {
      "needs_background": "light",
      "tags": []
     },
     "output_type": "display_data"
    }
   ],
   "source": [
    "fig, axs = plt.subplots(nrows = 1, ncols = 2)\n",
    "\n",
    "for i in range(2):\n",
    "    if i == 0:\n",
    "        val = \"acc\"\n",
    "    else:\n",
    "        val = \"loss\"\n",
    "    axs[i].plot(overfit1_results[\"train\"][val])\n",
    "    axs[i].plot(overfit1_results[\"valid\"][val])"
   ]
  },
  {
   "cell_type": "code",
   "execution_count": null,
   "metadata": {
    "colab": {
     "base_uri": "https://localhost:8080/"
    },
    "id": "F3fIlecFWIkq",
    "outputId": "8551249e-f676-43d6-8973-13b9a12d1367"
   },
   "outputs": [
    {
     "name": "stdout",
     "output_type": "stream",
     "text": [
      "0\n",
      "Training: \n",
      " 0 Loss: 1.5768 Acc: 0.0950\n",
      "Validation: \n",
      " 0 Loss: 1.5691 Acc: 0.1667\n",
      "1\n",
      "Training: \n",
      " 1 Loss: 1.5759 Acc: 0.0913\n",
      "Validation: \n",
      " 1 Loss: 1.5705 Acc: 0.0000\n",
      "2\n",
      "Training: \n",
      " 2 Loss: 1.5758 Acc: 0.0908\n",
      "Validation: \n",
      " 2 Loss: 1.5706 Acc: 0.0000\n",
      "3\n",
      "Training: \n",
      " 3 Loss: 1.5758 Acc: 0.0898\n",
      "Validation: \n",
      " 3 Loss: 1.5704 Acc: 0.1667\n",
      "4\n",
      "Training: \n",
      " 4 Loss: 1.5758 Acc: 0.0955\n",
      "Validation: \n",
      " 4 Loss: 1.5708 Acc: 0.0000\n",
      "5\n",
      "Training: \n",
      " 5 Loss: 1.5758 Acc: 0.0955\n",
      "Validation: \n",
      " 5 Loss: 1.5703 Acc: 0.1667\n",
      "6\n",
      "Training: \n",
      " 6 Loss: 1.5758 Acc: 0.0928\n",
      "Validation: \n",
      " 6 Loss: 1.5702 Acc: 0.1650\n",
      "7\n",
      "Training: \n",
      " 7 Loss: 1.5757 Acc: 0.1001\n",
      "Validation: \n",
      " 7 Loss: 1.5702 Acc: 0.1667\n",
      "8\n",
      "Training: \n",
      " 8 Loss: 1.5757 Acc: 0.0988\n",
      "Validation: \n",
      " 8 Loss: 1.5702 Acc: 0.1667\n",
      "9\n",
      "Training: \n",
      " 9 Loss: 1.5757 Acc: 0.0958\n",
      "Validation: \n",
      " 9 Loss: 1.5702 Acc: 0.1667\n"
     ]
    }
   ],
   "source": [
    "phase = 'training'\n",
    "\n",
    "best_model_wts = copy.deepcopy(myCNN.state_dict())\n",
    "best_acc = 0\n",
    "\n",
    "for epoch in range(n_epochs):\n",
    "  phase = 'training'\n",
    "  print(epoch)\n",
    "  run_loss = 0\n",
    "  run_corr = 0\n",
    "  myCNN.train()\n",
    "  for inputs, labels in train_loader:\n",
    "    inputs = inputs.to(device)\n",
    "    labels = labels.to(device)\n",
    "    optimizer.zero_grad()\n",
    "    with torch.set_grad_enabled(True):\n",
    "      outputs = myCNN(inputs)\n",
    "      _, preds = torch.max(outputs, 1)\n",
    "      loss = criterion(outputs, labels)\n",
    "        \n",
    "      loss.backward()\n",
    "      optimizer.step()\n",
    "        \n",
    "    run_loss += loss.item() + inputs.size(0)\n",
    "    run_corr += torch.sum(preds == labels.data)\n",
    "\n",
    "  scheduler.step()\n",
    "  \n",
    "  epoch_loss = run_loss / len(train_data)\n",
    "  epoch_acc = run_corr.double() / len(train_data)\n",
    "  print('Training: \\n {} Loss: {:.4f} Acc: {:.4f}'.format(epoch, epoch_loss, epoch_acc))\n",
    "\n",
    "  phase = 'validation'\n",
    "  run_loss = 0\n",
    "  run_corr = 0\n",
    "  myCNN.eval()\n",
    "  for inputs, labels in val_loader:\n",
    "    inputs = inputs.to(device)\n",
    "    labels = labels.to(device)\n",
    "    optimizer.zero_grad()\n",
    "    with torch.set_grad_enabled(False):\n",
    "      outputs = myCNN(inputs)\n",
    "      _, preds = torch.max(outputs, 1)\n",
    "      loss = criterion(outputs, labels)\n",
    "              \n",
    "    run_loss += loss.item() + inputs.size(0)\n",
    "    run_corr += torch.sum(preds == labels.data)\n",
    "\n",
    "  epoch_loss = run_loss / len(val_data)\n",
    "  epoch_acc = run_corr.double() / len(val_data)\n",
    "\n",
    "  if epoch_acc > best_acc:\n",
    "    best_acc = epoch_acc\n",
    "    best_model_wts = copy.deepcopy(myCNN.state_dict())\n",
    "  \n",
    "  print('Validation: \\n {} Loss: {:.4f} Acc: {:.4f}'.format(epoch, epoch_loss, epoch_acc))\n",
    "\n",
    "torch.save(myCNN, 'custom_cnn.pt')"
   ]
  },
  {
   "cell_type": "markdown",
   "metadata": {
    "id": "u91rITcYp3Eo"
   },
   "source": [
    "### w/ Dropout"
   ]
  },
  {
   "cell_type": "code",
   "execution_count": null,
   "metadata": {
    "id": "Dq-psfAHp5uI"
   },
   "outputs": [],
   "source": [
    "from torch.autograd import Variable\n",
    "import torch.nn.functional as F\n",
    "\n",
    "class dropout1_CNN(torch.nn.Module):\n",
    "    \n",
    "    #Our batch shape for input x is (3, 256, 256)\n",
    "    \n",
    "    def __init__(self):\n",
    "        super(dropout1_CNN, self).__init__()\n",
    "        \n",
    "        #Input channels = 3, output channels = 16\n",
    "        self.conv1 = torch.nn.Conv2d(3, 16, kernel_size=3, stride=1, padding=1)\n",
    "        self.pool1 = torch.nn.MaxPool2d(kernel_size=2, stride=2, padding=0)\n",
    "        \n",
    "        self.drop = nn.Dropout2d(p = 0.5)\n",
    "\n",
    "        #262144 input features, 64 output features (see sizing flow below)\n",
    "        self.fc1 = torch.nn.Linear(16 * 128 * 128, 64)\n",
    "        #64 input features, 10 output features for our 10 defined classes\n",
    "        self.fc2 = torch.nn.Linear(64, 10)\n",
    "        \n",
    "    def forward(self, x):\n",
    "        \n",
    "        #Computes the activation of the first convolution\n",
    "        #Size changes from (3, 256, 256) to (16, 256, 256)\n",
    "        x = F.relu(self.conv1(x))\n",
    "        #Size changes from (16, 256, 256) to (16, 128, 128)\n",
    "        x = self.pool1(x)\n",
    "\n",
    "        #Reshape data to input to the input layer of the neural net\n",
    "        #Size changes from (16, 128, 128) to (1, 262144)\n",
    "        x = x.view(-1, 16 * 128 * 128)\n",
    "        \n",
    "        #Dropout\n",
    "        x = self.drop(x)\n",
    "\n",
    "        #Computes the activation of the first fully connected layer\n",
    "        #Size changes from (1, 262144) to (1, 64)\n",
    "        x = F.relu(self.fc1(x))\n",
    "        \n",
    "        #Computes the second fully connected layer (activation applied later)\n",
    "        #Size changes from (1, 64) to (1, 10)\n",
    "        #x = self.norm2(x)\n",
    "        x = self.fc2(x)\n",
    "        return(x)"
   ]
  },
  {
   "cell_type": "code",
   "execution_count": null,
   "metadata": {
    "id": "oCSWTi9HqLiS"
   },
   "outputs": [],
   "source": [
    "myCNN = dropout1_CNN()\n",
    "myCNN = myCNN.to(device)\n",
    "\n",
    "criterion = nn.CrossEntropyLoss()\n",
    "optimizer = optim.Adam(myCNN.parameters(), lr=0.001)\n",
    "scheduler = lr_scheduler.StepLR(optimizer, step_size=7, gamma=0.1)\n",
    "# Set number of Epochs\n",
    "n_epochs = 10"
   ]
  },
  {
   "cell_type": "code",
   "execution_count": null,
   "metadata": {
    "colab": {
     "base_uri": "https://localhost:8080/"
    },
    "id": "wwnpFbKW7XcX",
    "outputId": "722d47ed-1060-4bcc-c604-6c6d10885dcc"
   },
   "outputs": [
    {
     "name": "stdout",
     "output_type": "stream",
     "text": [
      "Epoch: 1/10\n",
      "**************** \n",
      "\n",
      "train Loss: 2.5924 Acc: 0.1158\n",
      "valid Loss: 2.2548 Acc: 0.1902\n",
      "Epoch: 2/10\n",
      "**************** \n",
      "\n",
      "train Loss: 2.2770 Acc: 0.1231\n",
      "valid Loss: 2.2710 Acc: 0.1566\n",
      "Epoch: 3/10\n",
      "**************** \n",
      "\n",
      "train Loss: 2.2591 Acc: 0.1377\n",
      "valid Loss: 2.2639 Acc: 0.1751\n",
      "Epoch: 4/10\n",
      "**************** \n",
      "\n",
      "train Loss: 2.2452 Acc: 0.1474\n",
      "valid Loss: 2.2530 Acc: 0.1549\n",
      "Epoch: 5/10\n",
      "**************** \n",
      "\n",
      "train Loss: 2.2107 Acc: 0.1507\n",
      "valid Loss: 2.2059 Acc: 0.1178\n",
      "Epoch: 6/10\n",
      "**************** \n",
      "\n",
      "train Loss: 2.1159 Acc: 0.2121\n",
      "valid Loss: 2.1872 Acc: 0.1313\n",
      "Epoch: 7/10\n",
      "**************** \n",
      "\n",
      "train Loss: 1.9709 Acc: 0.2711\n",
      "valid Loss: 2.1727 Acc: 0.1919\n",
      "Epoch: 8/10\n",
      "**************** \n",
      "\n",
      "train Loss: 1.7662 Acc: 0.3648\n",
      "valid Loss: 2.3013 Acc: 0.1566\n",
      "Epoch: 9/10\n",
      "**************** \n",
      "\n",
      "train Loss: 1.5180 Acc: 0.4584\n",
      "valid Loss: 2.3409 Acc: 0.2138\n",
      "Epoch: 10/10\n",
      "**************** \n",
      "\n",
      "train Loss: 1.2904 Acc: 0.5484\n",
      "valid Loss: 2.4929 Acc: 0.2104\n",
      "Training complete in 3m 40.95201349258423s\n",
      "Best val Acc: 0.2138047138047138\n"
     ]
    }
   ],
   "source": [
    "dropout1_model, dropout1_results = train_model(myCNN, criterion, optimizer, exp_lr_scheduler,num_epochs=n_epochs)"
   ]
  },
  {
   "cell_type": "code",
   "execution_count": null,
   "metadata": {
    "colab": {
     "base_uri": "https://localhost:8080/",
     "height": 265
    },
    "id": "gFBM3lOfsVND",
    "outputId": "11a08fe4-ff51-433a-d781-09506baaa668"
   },
   "outputs": [
    {
     "data": {
      "image/png": "[encoded data removed]",
      "text/plain": [
       "<Figure size 432x288 with 2 Axes>"
      ]
     },
     "metadata": {
      "needs_background": "light",
      "tags": []
     },
     "output_type": "display_data"
    }
   ],
   "source": [
    "fig, axs = plt.subplots(nrows = 1, ncols = 2)\n",
    "\n",
    "for i in range(2):\n",
    "    if i == 0:\n",
    "        val = \"acc\"\n",
    "    else:\n",
    "        val = \"loss\"\n",
    "    axs[i].plot(dropout1_results[\"train\"][val])\n",
    "    axs[i].plot(dropout1_results[\"valid\"][val])"
   ]
  },
  {
   "cell_type": "markdown",
   "metadata": {
    "id": "NW99LBEdUc8k"
   },
   "source": [
    "#### More Dropouts\n",
    "\n",
    "\n",
    "Checking to see if more dropouts improve the model."
   ]
  },
  {
   "cell_type": "code",
   "execution_count": null,
   "metadata": {
    "id": "nspU9OuBUbvF"
   },
   "outputs": [],
   "source": [
    "from torch.autograd import Variable\n",
    "import torch.nn.functional as F\n",
    "\n",
    "class dropout1_CNN(torch.nn.Module):\n",
    "    \n",
    "    #Our batch shape for input x is (3, 256, 256)\n",
    "    \n",
    "    def __init__(self):\n",
    "        super(dropout1_CNN, self).__init__()\n",
    "        \n",
    "        #Input channels = 3, output channels = 16\n",
    "        self.conv1 = torch.nn.Conv2d(3, 16, kernel_size=3, stride=1, padding=1)\n",
    "        self.pool1 = torch.nn.MaxPool2d(kernel_size=2, stride=2, padding=0)\n",
    "        \n",
    "        self.drop = nn.Dropout2d(p = 0.5)\n",
    "\n",
    "        #262144 input features, 64 output features (see sizing flow below)\n",
    "        self.fc1 = torch.nn.Linear(16 * 128 * 128, 64)\n",
    "        #64 input features, 10 output features for our 10 defined classes\n",
    "        self.fc2 = torch.nn.Linear(64, 10)\n",
    "        \n",
    "    def forward(self, x):\n",
    "        \n",
    "        #Computes the activation of the first convolution\n",
    "        #Size changes from (3, 256, 256) to (16, 256, 256)\n",
    "        x = F.relu(self.conv1(x))\n",
    "        #Size changes from (16, 256, 256) to (16, 128, 128)\n",
    "        x = self.pool1(x)\n",
    "\n",
    "        #Reshape data to input to the input layer of the neural net\n",
    "        #Size changes from (16, 128, 128) to (1, 262144)\n",
    "        x = x.view(-1, 16 * 128 * 128)\n",
    "        \n",
    "        #Dropout\n",
    "        x = self.drop(x)\n",
    "\n",
    "        #Computes the activation of the first fully connected layer\n",
    "        #Size changes from (1, 262144) to (1, 64)\n",
    "        x = F.relu(self.fc1(x))\n",
    "        \n",
    "        #Computes the second fully connected layer (activation applied later)\n",
    "        #Size changes from (1, 64) to (1, 10)\n",
    "        #x = self.norm2(x)\n",
    "        x = self.fc2(x)\n",
    "        return(x)"
   ]
  },
  {
   "cell_type": "code",
   "execution_count": null,
   "metadata": {
    "id": "RaAQ02qEUbvF"
   },
   "outputs": [],
   "source": [
    "myCNN = dropout1_CNN()\n",
    "myCNN = myCNN.to(device)\n",
    "\n",
    "criterion = nn.CrossEntropyLoss()\n",
    "optimizer = optim.Adam(myCNN.parameters(), lr=0.001)\n",
    "scheduler = lr_scheduler.StepLR(optimizer, step_size=7, gamma=0.1)\n",
    "# Set number of Epochs\n",
    "n_epochs = 10"
   ]
  },
  {
   "cell_type": "code",
   "execution_count": null,
   "metadata": {
    "colab": {
     "base_uri": "https://localhost:8080/"
    },
    "id": "9dynEaG9UbvH",
    "outputId": "722d47ed-1060-4bcc-c604-6c6d10885dcc"
   },
   "outputs": [
    {
     "name": "stdout",
     "output_type": "stream",
     "text": [
      "Epoch: 1/10\n",
      "**************** \n",
      "\n",
      "train Loss: 2.5924 Acc: 0.1158\n",
      "valid Loss: 2.2548 Acc: 0.1902\n",
      "Epoch: 2/10\n",
      "**************** \n",
      "\n",
      "train Loss: 2.2770 Acc: 0.1231\n",
      "valid Loss: 2.2710 Acc: 0.1566\n",
      "Epoch: 3/10\n",
      "**************** \n",
      "\n",
      "train Loss: 2.2591 Acc: 0.1377\n",
      "valid Loss: 2.2639 Acc: 0.1751\n",
      "Epoch: 4/10\n",
      "**************** \n",
      "\n",
      "train Loss: 2.2452 Acc: 0.1474\n",
      "valid Loss: 2.2530 Acc: 0.1549\n",
      "Epoch: 5/10\n",
      "**************** \n",
      "\n",
      "train Loss: 2.2107 Acc: 0.1507\n",
      "valid Loss: 2.2059 Acc: 0.1178\n",
      "Epoch: 6/10\n",
      "**************** \n",
      "\n",
      "train Loss: 2.1159 Acc: 0.2121\n",
      "valid Loss: 2.1872 Acc: 0.1313\n",
      "Epoch: 7/10\n",
      "**************** \n",
      "\n",
      "train Loss: 1.9709 Acc: 0.2711\n",
      "valid Loss: 2.1727 Acc: 0.1919\n",
      "Epoch: 8/10\n",
      "**************** \n",
      "\n",
      "train Loss: 1.7662 Acc: 0.3648\n",
      "valid Loss: 2.3013 Acc: 0.1566\n",
      "Epoch: 9/10\n",
      "**************** \n",
      "\n",
      "train Loss: 1.5180 Acc: 0.4584\n",
      "valid Loss: 2.3409 Acc: 0.2138\n",
      "Epoch: 10/10\n",
      "**************** \n",
      "\n",
      "train Loss: 1.2904 Acc: 0.5484\n",
      "valid Loss: 2.4929 Acc: 0.2104\n",
      "Training complete in 3m 40.95201349258423s\n",
      "Best val Acc: 0.2138047138047138\n"
     ]
    }
   ],
   "source": [
    "dropout1_model, dropout1_results = train_model(myCNN, criterion, optimizer, exp_lr_scheduler,num_epochs=n_epochs)"
   ]
  },
  {
   "cell_type": "markdown",
   "metadata": {
    "id": "37KNOhg5aC4W"
   },
   "source": [
    "### w/ Batch Norm"
   ]
  },
  {
   "cell_type": "code",
   "execution_count": null,
   "metadata": {
    "id": "FBU_QjOiaE7U"
   },
   "outputs": [],
   "source": [
    "from torch.autograd import Variable\n",
    "import torch.nn.functional as F\n",
    "\n",
    "class batchnorm1_CNN(torch.nn.Module):\n",
    "    \n",
    "    #Our batch shape for input x is (3, 256, 256)\n",
    "    \n",
    "    def __init__(self):\n",
    "        super(batchnorm1_CNN, self).__init__()\n",
    "        \n",
    "        #Input channels = 3, output channels = 16\n",
    "        self.conv1 = torch.nn.Conv2d(3, 16, kernel_size=3, stride=1, padding=1)\n",
    "        self.bn2d = nn.BatchNorm2d(16)\n",
    "        self.pool1 = torch.nn.MaxPool2d(kernel_size=2, stride=2, padding=0)\n",
    "\n",
    "        #262144 input features, 64 output features (see sizing flow below)\n",
    "        self.fc1 = torch.nn.Linear(16 * 128 * 128, 64)\n",
    "\n",
    "        self.bn1d = nn.BatchNorm1d(64)\n",
    "        #64 input features, 10 output features for our 10 defined classes\n",
    "        self.fc2 = torch.nn.Linear(64, 10)\n",
    "        \n",
    "    def forward(self, x):\n",
    "        \n",
    "        #Computes the activation of the first convolution\n",
    "        #Size changes from (3, 256, 256) to (16, 256, 256)\n",
    "        x = F.relu(self.bn2d(self.conv1(x)))\n",
    "        #Size changes from (16, 256, 256) to (16, 128, 128)\n",
    "        x = self.pool1(x)\n",
    "\n",
    "        #Reshape data to input to the input layer of the neural net\n",
    "        #Size changes from (16, 128, 128) to (1, 262144)\n",
    "        x = x.view(-1, 16 * 128 * 128)\n",
    "\n",
    "        #Computes the activation of the first fully connected layer\n",
    "        #Size changes from (1, 262144) to (1, 64)\n",
    "        x = F.relu(self.bn1d(self.fc1(x)))\n",
    "        \n",
    "        #Computes the second fully connected layer (activation applied later)\n",
    "        #Size changes from (1, 64) to (1, 10)\n",
    "        #x = self.norm2(x)\n",
    "        x = self.fc2(x)\n",
    "        return(x)"
   ]
  },
  {
   "cell_type": "code",
   "execution_count": null,
   "metadata": {
    "id": "lycynAEHaE7V"
   },
   "outputs": [],
   "source": [
    "myCNN = batchnorm1_CNN()\n",
    "myCNN = myCNN.to(device)\n",
    "\n",
    "criterion = nn.CrossEntropyLoss()\n",
    "optimizer = optim.Adam(myCNN.parameters(), lr=0.001)\n",
    "scheduler = lr_scheduler.StepLR(optimizer, step_size=7, gamma=0.1)\n",
    "# Set number of Epochs\n",
    "n_epochs = 10"
   ]
  },
  {
   "cell_type": "code",
   "execution_count": null,
   "metadata": {
    "colab": {
     "base_uri": "https://localhost:8080/"
    },
    "id": "c0CifgDYaE7W",
    "outputId": "e5518ad5-63e3-42cc-da2d-9620c6ba0f27"
   },
   "outputs": [
    {
     "name": "stdout",
     "output_type": "stream",
     "text": [
      "Epoch: 1/10\n",
      "**************** \n",
      "\n",
      "train Loss: 2.1791 Acc: 0.2026\n",
      "valid Loss: 2.1308 Acc: 0.2290\n",
      "Epoch: 2/10\n",
      "**************** \n",
      "\n",
      "train Loss: 2.0433 Acc: 0.2736\n",
      "valid Loss: 2.1880 Acc: 0.1970\n",
      "Epoch: 3/10\n",
      "**************** \n",
      "\n",
      "train Loss: 1.9337 Acc: 0.3255\n",
      "valid Loss: 2.1116 Acc: 0.2508\n",
      "Epoch: 4/10\n",
      "**************** \n",
      "\n",
      "train Loss: 1.7554 Acc: 0.4132\n",
      "valid Loss: 2.3436 Acc: 0.2407\n",
      "Epoch: 5/10\n",
      "**************** \n",
      "\n",
      "train Loss: 1.3482 Acc: 0.5742\n",
      "valid Loss: 2.3477 Acc: 0.2020\n",
      "Epoch: 6/10\n",
      "**************** \n",
      "\n",
      "train Loss: 0.9415 Acc: 0.7292\n",
      "valid Loss: 2.4438 Acc: 0.1953\n",
      "Epoch: 7/10\n",
      "**************** \n",
      "\n",
      "train Loss: 0.6543 Acc: 0.8157\n",
      "valid Loss: 3.0491 Acc: 0.1397\n",
      "Epoch: 8/10\n",
      "**************** \n",
      "\n",
      "train Loss: 0.4879 Acc: 0.8581\n",
      "valid Loss: 2.4299 Acc: 0.2391\n",
      "Epoch: 9/10\n",
      "**************** \n",
      "\n",
      "train Loss: 0.3697 Acc: 0.9007\n",
      "valid Loss: 2.9204 Acc: 0.1818\n",
      "Epoch: 10/10\n",
      "**************** \n",
      "\n",
      "train Loss: 0.3137 Acc: 0.9110\n",
      "valid Loss: 2.5644 Acc: 0.2407\n",
      "Training complete in 4m 0.3351094722747803s\n",
      "Best val Acc: 0.2508417508417508\n"
     ]
    }
   ],
   "source": [
    "batchnorm1_model, batchnorm1_results= train_model(myCNN, criterion, optimizer, exp_lr_scheduler,num_epochs=n_epochs)"
   ]
  },
  {
   "cell_type": "markdown",
   "metadata": {
    "id": "vtPDv3V_T341"
   },
   "source": [
    "Even with batch normalization, it appears that the model is over-fitting worse than it did in the dropout model."
   ]
  },
  {
   "cell_type": "code",
   "execution_count": null,
   "metadata": {
    "colab": {
     "base_uri": "https://localhost:8080/",
     "height": 265
    },
    "id": "zjQG32Brsfzo",
    "outputId": "ce895186-e4a9-4c24-8a2d-dce8cf5a8f77"
   },
   "outputs": [
    {
     "data": {
      "image/png": "[encoded data removed]",
      "text/plain": [
       "<Figure size 432x288 with 2 Axes>"
      ]
     },
     "metadata": {
      "needs_background": "light",
      "tags": []
     },
     "output_type": "display_data"
    }
   ],
   "source": [
    "fig, axs = plt.subplots(nrows = 1, ncols = 2)\n",
    "\n",
    "for i in range(2):\n",
    "    if i == 0:\n",
    "        val = \"acc\"\n",
    "    else:\n",
    "        val = \"loss\"\n",
    "    axs[i].plot(batchnorm1_results[\"train\"][val])\n",
    "    axs[i].plot(batchnorm1_results[\"valid\"][val])"
   ]
  },
  {
   "cell_type": "markdown",
   "metadata": {
    "id": "HUSMgdi5b9yb"
   },
   "source": [
    "# Test Models\n"
   ]
  },
  {
   "cell_type": "markdown",
   "metadata": {
    "id": "vQdBWofKf3jI"
   },
   "source": [
    "# Best Model\n",
    "\n",
    "Building off of the \"Baseline CNN\" architecture mentioned in [this paper from stanford](http://cs231n.stanford.edu/reports/2017/pdfs/406.pdf), our best model returned an accuracy on the validation set of ~35% after 10 epochs."
   ]
  },
  {
   "cell_type": "code",
   "execution_count": null,
   "metadata": {
    "id": "EiVUlBKzervO"
   },
   "outputs": [],
   "source": [
    "from torch.autograd import Variable\n",
    "import torch.nn.functional as F\n",
    "\n",
    "class best_CNN(torch.nn.Module):\n",
    "    \n",
    "    #Our batch shape for input x is (3, 256, 256)\n",
    "    \n",
    "    def __init__(self):\n",
    "        super(best_CNN, self).__init__()\n",
    "        \n",
    "        #Input channels = 3, output channels = 16\n",
    "        self.conv1 = torch.nn.Conv2d(3, 32, kernel_size=3, stride=2, padding=1)\n",
    "        self.pool1 = torch.nn.MaxPool2d(kernel_size=2, stride=2, padding=0)\n",
    "        \n",
    "        self.conv2 = torch.nn.Conv2d(32, 32, kernel_size=3, stride=2, padding=1)\n",
    "        self.bn2d = nn.BatchNorm2d(32)\n",
    "        self.pool2 = torch.nn.MaxPool2d(kernel_size=2, stride=2, padding=0)\n",
    "    \n",
    "\n",
    "        self.fc1 = torch.nn.Linear(32 * 16 * 16, 256)\n",
    "        self.bn1d = nn.BatchNorm1d(256)\n",
    "        self.fc2 = torch.nn.Linear(256, 10)\n",
    "        \n",
    "    def forward(self, x):\n",
    "        \n",
    "        #Computes the activation of the first convolution\n",
    "        # 3 -> 16 Channels\n",
    "        x = F.relu(self.conv1(x))\n",
    "        #Size changes from (16, 256, 256) to (16, 128, 128)\n",
    "        x = self.pool1(x)\n",
    "\n",
    "        # 16 -> 32 Channels\n",
    "        x = F.relu(self.bn2d(self.conv2(x)))\n",
    "        #Size changes from (32, 128, 128) to (32, 64, 64)\n",
    "        x = self.pool2(x)\n",
    "\n",
    "        #Reshape data to input to the input layer of the neural net\n",
    "        #Size changes from (32, 64, 64) to (1, 131072)\n",
    "        x = x.view(-1, 32 * 16 * 16)\n",
    "        \n",
    "        #Computes the activation of the first fully connected layer\n",
    "        #Size changes from (1, 131072) to (1, 64)\n",
    "        x = F.relu(self.bn1d(self.fc1(x)))\n",
    "        #Size changes from (1, 64) to (1, 10)\n",
    "        x = self.fc2(x)\n",
    "        return(x)"
   ]
  },
  {
   "cell_type": "code",
   "execution_count": null,
   "metadata": {
    "id": "_6Yg8U9Beuc5"
   },
   "outputs": [],
   "source": [
    "myCNN = best_CNN()\n",
    "myCNN = myCNN.to(device)\n",
    "\n",
    "criterion = nn.CrossEntropyLoss()\n",
    "optimizer = optim.Adam(myCNN.parameters(), lr=0.001)\n",
    "exp_lr_scheduler= lr_scheduler.StepLR(optimizer, step_size=3, gamma=0.1)\n",
    "# Set number of Epochs\n",
    "n_epochs = 10"
   ]
  },
  {
   "cell_type": "code",
   "execution_count": null,
   "metadata": {
    "colab": {
     "base_uri": "https://localhost:8080/"
    },
    "id": "nJoLPrCneuc7",
    "outputId": "ca06a8f6-1438-4708-fca3-47314c4042e0"
   },
   "outputs": [
    {
     "name": "stdout",
     "output_type": "stream",
     "text": [
      "Epoch: 1/10\n",
      "**************** \n",
      "\n",
      "train Loss: 2.1451 Acc: 0.2197\n",
      "valid Loss: 2.2553 Acc: 0.1869\n",
      "Epoch: 2/10\n",
      "**************** \n",
      "\n",
      "train Loss: 2.0121 Acc: 0.2864\n",
      "valid Loss: 2.1694 Acc: 0.2205\n",
      "Epoch: 3/10\n",
      "**************** \n",
      "\n",
      "train Loss: 1.9050 Acc: 0.3290\n",
      "valid Loss: 2.3639 Acc: 0.2071\n",
      "Epoch: 4/10\n",
      "**************** \n",
      "\n",
      "train Loss: 1.7220 Acc: 0.4218\n",
      "valid Loss: 1.9111 Acc: 0.3316\n",
      "Epoch: 5/10\n",
      "**************** \n",
      "\n",
      "train Loss: 1.6173 Acc: 0.4481\n",
      "valid Loss: 1.8910 Acc: 0.3333\n",
      "Epoch: 6/10\n",
      "**************** \n",
      "\n",
      "train Loss: 1.5373 Acc: 0.4777\n",
      "valid Loss: 1.8457 Acc: 0.3586\n",
      "Epoch: 7/10\n",
      "**************** \n",
      "\n",
      "train Loss: 1.4511 Acc: 0.5186\n",
      "valid Loss: 1.8444 Acc: 0.3300\n",
      "Epoch: 8/10\n",
      "**************** \n",
      "\n",
      "train Loss: 1.4355 Acc: 0.5231\n",
      "valid Loss: 1.8224 Acc: 0.3502\n",
      "Epoch: 9/10\n",
      "**************** \n",
      "\n",
      "train Loss: 1.4305 Acc: 0.5246\n",
      "valid Loss: 1.8450 Acc: 0.3434\n",
      "Epoch: 10/10\n",
      "**************** \n",
      "\n",
      "train Loss: 1.4152 Acc: 0.5351\n",
      "valid Loss: 1.8477 Acc: 0.3367\n",
      "Training complete in 2m 58.17250370979309s\n",
      "Best val Acc: 0.35858585858585856\n"
     ]
    }
   ],
   "source": [
    "best_model, best_results = train_model(myCNN, criterion, optimizer, exp_lr_scheduler,num_epochs=n_epochs)"
   ]
  },
  {
   "cell_type": "code",
   "execution_count": null,
   "metadata": {
    "colab": {
     "base_uri": "https://localhost:8080/",
     "height": 268
    },
    "id": "2xcGcGi5s018",
    "outputId": "9434f108-a053-47b6-e88a-ce996c2346ee"
   },
   "outputs": [
    {
     "data": {
      "image/png": "[encoded data removed]",
      "text/plain": [
       "<Figure size 432x288 with 2 Axes>"
      ]
     },
     "metadata": {
      "needs_background": "light",
      "tags": []
     },
     "output_type": "display_data"
    }
   ],
   "source": [
    "fig, axs = plt.subplots(nrows = 1, ncols = 2)\n",
    "\n",
    "for i in range(2):\n",
    "    if i == 0:\n",
    "        val = \"acc\"\n",
    "    else:\n",
    "        val = \"loss\"\n",
    "    axs[i].plot(best_results[\"train\"][val])\n",
    "    axs[i].plot(best_results[\"valid\"][val])"
   ]
  },
  {
   "cell_type": "code",
   "execution_count": 47,
   "metadata": {
    "colab": {
     "base_uri": "https://localhost:8080/",
     "height": 244
    },
    "id": "tlYyWj2eVoEl",
    "outputId": "5070a8bf-2fc3-41eb-a17d-f115f64c6cb3"
   },
   "outputs": [
    {
     "ename": "NameError",
     "evalue": "ignored",
     "output_type": "error",
     "traceback": [
      "\u001b[0;31m---------------------------------------------------------------------------\u001b[0m",
      "\u001b[0;31mNameError\u001b[0m                                 Traceback (most recent call last)",
      "\u001b[0;32m<ipython-input-47-c9b36ee3bf14>\u001b[0m in \u001b[0;36m<module>\u001b[0;34m()\u001b[0m\n\u001b[1;32m      6\u001b[0m         \u001b[0minputs\u001b[0m \u001b[0;34m=\u001b[0m \u001b[0minputs\u001b[0m\u001b[0;34m.\u001b[0m\u001b[0mto\u001b[0m\u001b[0;34m(\u001b[0m\u001b[0mdevice\u001b[0m\u001b[0;34m)\u001b[0m\u001b[0;34m\u001b[0m\u001b[0;34m\u001b[0m\u001b[0m\n\u001b[1;32m      7\u001b[0m         \u001b[0mclasses\u001b[0m \u001b[0;34m=\u001b[0m \u001b[0mclasses\u001b[0m\u001b[0;34m.\u001b[0m\u001b[0mto\u001b[0m\u001b[0;34m(\u001b[0m\u001b[0mdevice\u001b[0m\u001b[0;34m)\u001b[0m\u001b[0;34m\u001b[0m\u001b[0;34m\u001b[0m\u001b[0m\n\u001b[0;32m----> 8\u001b[0;31m         \u001b[0moutputs\u001b[0m \u001b[0;34m=\u001b[0m \u001b[0mbest_model\u001b[0m\u001b[0;34m(\u001b[0m\u001b[0minputs\u001b[0m\u001b[0;34m)\u001b[0m\u001b[0;34m\u001b[0m\u001b[0;34m\u001b[0m\u001b[0m\n\u001b[0m\u001b[1;32m      9\u001b[0m         \u001b[0m_\u001b[0m\u001b[0;34m,\u001b[0m \u001b[0mpreds\u001b[0m \u001b[0;34m=\u001b[0m \u001b[0mtorch\u001b[0m\u001b[0;34m.\u001b[0m\u001b[0mmax\u001b[0m\u001b[0;34m(\u001b[0m\u001b[0moutputs\u001b[0m\u001b[0;34m,\u001b[0m \u001b[0;36m1\u001b[0m\u001b[0;34m)\u001b[0m\u001b[0;34m\u001b[0m\u001b[0;34m\u001b[0m\u001b[0m\n\u001b[1;32m     10\u001b[0m         \u001b[0;32mfor\u001b[0m \u001b[0mt\u001b[0m\u001b[0;34m,\u001b[0m \u001b[0mp\u001b[0m \u001b[0;32min\u001b[0m \u001b[0mzip\u001b[0m\u001b[0;34m(\u001b[0m\u001b[0mclasses\u001b[0m\u001b[0;34m.\u001b[0m\u001b[0mview\u001b[0m\u001b[0;34m(\u001b[0m\u001b[0;34m-\u001b[0m\u001b[0;36m1\u001b[0m\u001b[0;34m)\u001b[0m\u001b[0;34m,\u001b[0m \u001b[0mpreds\u001b[0m\u001b[0;34m.\u001b[0m\u001b[0mview\u001b[0m\u001b[0;34m(\u001b[0m\u001b[0;34m-\u001b[0m\u001b[0;36m1\u001b[0m\u001b[0;34m)\u001b[0m\u001b[0;34m)\u001b[0m\u001b[0;34m:\u001b[0m\u001b[0;34m\u001b[0m\u001b[0;34m\u001b[0m\u001b[0m\n",
      "\u001b[0;31mNameError\u001b[0m: name 'best_model' is not defined"
     ]
    }
   ],
   "source": [
    "nb_classes = 10\n",
    "\n",
    "confusion_matrix = torch.zeros(nb_classes, nb_classes)\n",
    "with torch.no_grad():\n",
    "    for i, (inputs, classes) in enumerate(dataloaders['valid']):\n",
    "        inputs = inputs.to(device)\n",
    "        classes = classes.to(device)\n",
    "        outputs = best_model(inputs)\n",
    "        _, preds = torch.max(outputs, 1)\n",
    "        for t, p in zip(classes.view(-1), preds.view(-1)):\n",
    "                confusion_matrix[t.long(), p.long()] += 1\n",
    "\n",
    "print(confusion_matrix)"
   ]
  }
 ],
 "metadata": {
  "accelerator": "GPU",
  "colab": {
   "collapsed_sections": [],
   "name": "ClassifyImpressionists.ipynb",
   "provenance": [],
   "toc_visible": true
  },
  "kernelspec": {
   "display_name": "Python 3",
   "language": "python",
   "name": "python3"
  },
  "language_info": {
   "codemirror_mode": {
    "name": "ipython",
    "version": 3
   },
   "file_extension": ".py",
   "mimetype": "text/x-python",
   "name": "python",
   "nbconvert_exporter": "python",
   "pygments_lexer": "ipython3",
   "version": "3.8.8"
  },
  "widgets": {
   "application/vnd.jupyter.widget-state+json": {
    "0512984f92434a4dbb2815f8b032c851": {
     "model_module": "@jupyter-widgets/controls",
     "model_name": "HBoxModel",
     "state": {
      "_dom_classes": [],
      "_model_module": "@jupyter-widgets/controls",
      "_model_module_version": "1.5.0",
      "_model_name": "HBoxModel",
      "_view_count": null,
      "_view_module": "@jupyter-widgets/controls",
      "_view_module_version": "1.5.0",
      "_view_name": "HBoxView",
      "box_style": "",
      "children": [
       "IPY_MODEL_84829db16dff4a7392dd565d404d639d",
       "IPY_MODEL_bd114cccdc3b47a19e0352b7f674e82c"
      ],
      "layout": "IPY_MODEL_ffd6fe5dcbfd47aeaf32d647345ff7ac"
     }
    },
    "1a83172f81df46c8b51fa8d11bd4f558": {
     "model_module": "@jupyter-widgets/controls",
     "model_name": "DescriptionStyleModel",
     "state": {
      "_model_module": "@jupyter-widgets/controls",
      "_model_module_version": "1.5.0",
      "_model_name": "DescriptionStyleModel",
      "_view_count": null,
      "_view_module": "@jupyter-widgets/base",
      "_view_module_version": "1.2.0",
      "_view_name": "StyleView",
      "description_width": ""
     }
    },
    "38ce881d0dd242c19a05c44740cf2c48": {
     "model_module": "@jupyter-widgets/base",
     "model_name": "LayoutModel",
     "state": {
      "_model_module": "@jupyter-widgets/base",
      "_model_module_version": "1.2.0",
      "_model_name": "LayoutModel",
      "_view_count": null,
      "_view_module": "@jupyter-widgets/base",
      "_view_module_version": "1.2.0",
      "_view_name": "LayoutView",
      "align_content": null,
      "align_items": null,
      "align_self": null,
      "border": null,
      "bottom": null,
      "display": null,
      "flex": null,
      "flex_flow": null,
      "grid_area": null,
      "grid_auto_columns": null,
      "grid_auto_flow": null,
      "grid_auto_rows": null,
      "grid_column": null,
      "grid_gap": null,
      "grid_row": null,
      "grid_template_areas": null,
      "grid_template_columns": null,
      "grid_template_rows": null,
      "height": null,
      "justify_content": null,
      "justify_items": null,
      "left": null,
      "margin": null,
      "max_height": null,
      "max_width": null,
      "min_height": null,
      "min_width": null,
      "object_fit": null,
      "object_position": null,
      "order": null,
      "overflow": null,
      "overflow_x": null,
      "overflow_y": null,
      "padding": null,
      "right": null,
      "top": null,
      "visibility": null,
      "width": null
     }
    },
    "692395ae90894868b030ac3e45a6c66f": {
     "model_module": "@jupyter-widgets/base",
     "model_name": "LayoutModel",
     "state": {
      "_model_module": "@jupyter-widgets/base",
      "_model_module_version": "1.2.0",
      "_model_name": "LayoutModel",
      "_view_count": null,
      "_view_module": "@jupyter-widgets/base",
      "_view_module_version": "1.2.0",
      "_view_name": "LayoutView",
      "align_content": null,
      "align_items": null,
      "align_self": null,
      "border": null,
      "bottom": null,
      "display": null,
      "flex": null,
      "flex_flow": null,
      "grid_area": null,
      "grid_auto_columns": null,
      "grid_auto_flow": null,
      "grid_auto_rows": null,
      "grid_column": null,
      "grid_gap": null,
      "grid_row": null,
      "grid_template_areas": null,
      "grid_template_columns": null,
      "grid_template_rows": null,
      "height": null,
      "justify_content": null,
      "justify_items": null,
      "left": null,
      "margin": null,
      "max_height": null,
      "max_width": null,
      "min_height": null,
      "min_width": null,
      "object_fit": null,
      "object_position": null,
      "order": null,
      "overflow": null,
      "overflow_x": null,
      "overflow_y": null,
      "padding": null,
      "right": null,
      "top": null,
      "visibility": null,
      "width": null
     }
    },
    "799e6a46ff564f099e60f531f4359918": {
     "model_module": "@jupyter-widgets/controls",
     "model_name": "ProgressStyleModel",
     "state": {
      "_model_module": "@jupyter-widgets/controls",
      "_model_module_version": "1.5.0",
      "_model_name": "ProgressStyleModel",
      "_view_count": null,
      "_view_module": "@jupyter-widgets/base",
      "_view_module_version": "1.2.0",
      "_view_name": "StyleView",
      "bar_color": null,
      "description_width": "initial"
     }
    },
    "84829db16dff4a7392dd565d404d639d": {
     "model_module": "@jupyter-widgets/controls",
     "model_name": "FloatProgressModel",
     "state": {
      "_dom_classes": [],
      "_model_module": "@jupyter-widgets/controls",
      "_model_module_version": "1.5.0",
      "_model_name": "FloatProgressModel",
      "_view_count": null,
      "_view_module": "@jupyter-widgets/controls",
      "_view_module_version": "1.5.0",
      "_view_name": "ProgressView",
      "bar_style": "success",
      "description": "100%",
      "description_tooltip": null,
      "layout": "IPY_MODEL_38ce881d0dd242c19a05c44740cf2c48",
      "max": 46827520,
      "min": 0,
      "orientation": "horizontal",
      "style": "IPY_MODEL_799e6a46ff564f099e60f531f4359918",
      "value": 46827520
     }
    },
    "bd114cccdc3b47a19e0352b7f674e82c": {
     "model_module": "@jupyter-widgets/controls",
     "model_name": "HTMLModel",
     "state": {
      "_dom_classes": [],
      "_model_module": "@jupyter-widgets/controls",
      "_model_module_version": "1.5.0",
      "_model_name": "HTMLModel",
      "_view_count": null,
      "_view_module": "@jupyter-widgets/controls",
      "_view_module_version": "1.5.0",
      "_view_name": "HTMLView",
      "description": "",
      "description_tooltip": null,
      "layout": "IPY_MODEL_692395ae90894868b030ac3e45a6c66f",
      "placeholder": "​",
      "style": "IPY_MODEL_1a83172f81df46c8b51fa8d11bd4f558",
      "value": " 44.7M/44.7M [06:28&lt;00:00, 120kB/s]"
     }
    },
    "ffd6fe5dcbfd47aeaf32d647345ff7ac": {
     "model_module": "@jupyter-widgets/base",
     "model_name": "LayoutModel",
     "state": {
      "_model_module": "@jupyter-widgets/base",
      "_model_module_version": "1.2.0",
      "_model_name": "LayoutModel",
      "_view_count": null,
      "_view_module": "@jupyter-widgets/base",
      "_view_module_version": "1.2.0",
      "_view_name": "LayoutView",
      "align_content": null,
      "align_items": null,
      "align_self": null,
      "border": null,
      "bottom": null,
      "display": null,
      "flex": null,
      "flex_flow": null,
      "grid_area": null,
      "grid_auto_columns": null,
      "grid_auto_flow": null,
      "grid_auto_rows": null,
      "grid_column": null,
      "grid_gap": null,
      "grid_row": null,
      "grid_template_areas": null,
      "grid_template_columns": null,
      "grid_template_rows": null,
      "height": null,
      "justify_content": null,
      "justify_items": null,
      "left": null,
      "margin": null,
      "max_height": null,
      "max_width": null,
      "min_height": null,
      "min_width": null,
      "object_fit": null,
      "object_position": null,
      "order": null,
      "overflow": null,
      "overflow_x": null,
      "overflow_y": null,
      "padding": null,
      "right": null,
      "top": null,
      "visibility": null,
      "width": null
     }
    }
   }
  }
 },
 "nbformat": 4,
 "nbformat_minor": 1
}
