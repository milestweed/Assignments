{
 "cells": [
  {
   "cell_type": "code",
   "execution_count": 4,
   "metadata": {
    "colab": {
     "base_uri": "https://localhost:8080/"
    },
    "id": "zCtC9h6wo31v",
    "outputId": "039003ec-7222-47c5-e773-a4a6130fbcd9"
   },
   "outputs": [
    {
     "name": "stdout",
     "output_type": "stream",
     "text": [
      "/home/mtweed/Documents/New_College/S_2/Machine_Learning/Problem_Sets/GP4\n"
     ]
    },
    {
     "data": {
      "text/plain": [
       "<torch._C.Generator at 0x7fba9804f450>"
      ]
     },
     "execution_count": 4,
     "metadata": {},
     "output_type": "execute_result"
    }
   ],
   "source": [
    "import os\n",
    "import torch\n",
    "import torchvision\n",
    "from torchvision import datasets, models, transforms\n",
    "import torch.utils.data as data\n",
    "import torch.nn as nn\n",
    "import torch.optim as optim\n",
    "from torch.optim import lr_scheduler\n",
    "import time, os, copy, argparse\n",
    "import multiprocessing\n",
    "from matplotlib import pyplot as plt\n",
    "from torchvision import transforms\n",
    "print(os.getcwd())\n",
    "\n",
    "device = torch.device(\"cuda:0\" if torch.cuda.is_available() else \"cpu\")\n",
    "device\n",
    "\n",
    "torch.manual_seed(1)"
   ]
  },
  {
   "cell_type": "markdown",
   "metadata": {
    "id": "spCd62FzPD_W"
   },
   "source": [
    "# Introduction"
   ]
  },
  {
   "cell_type": "markdown",
   "metadata": {
    "id": "YAw88Rn2Nz29"
   },
   "source": [
    "The task for this assignment was to construct a convolutional neural network that could classify impressionist paintings with respect to their artists. The goal was to train a model that acquire roughly ~50% accuracy. \n",
    "\n",
    "As an initial frame for this assignment, we chose to apply transfer learning procedures so as to familiarize ourselves with the method and the power that comes with using a \"headless\" pre-trained network. In this we tested the efficacy of the `resnet18` and `inception` models.\n",
    "\n",
    "For our custom models, we chose to evaluate different model architectures and variations on the structures such as dropout and batch-normalization. The models and their corresponding architectures are outlined below\n",
    "\n",
    "- Initial Model\n",
    "    - 2 Convolutional Layers\n",
    "        - 16 channels, 3x3 kernel, 1 stride, 1 padding\n",
    "        - 32 channels, 3x3 kernel, 1 stride, 1 padding\n",
    "    - 2 Max-pooling layers\n",
    "        - 2x2\n",
    "    - 2 Fully Connected Layers\n",
    "- Overfit Model\n",
    "    - 1 Convolutional Layer \n",
    "        - 16 channels, 3x3 kernel, 1 stride, 1 padding\n",
    "    - 1 Max pooling layer \n",
    "        - 2x2\n",
    "    - 2 Fully Connected Layers\n",
    "- Dropout Model\n",
    "    - 1 Convolutional Layer \n",
    "        - 16 channels, 3x3 kernel, 1 stride, 1 padding\n",
    "    - 1 Max pooling layer \n",
    "        - 2x2\n",
    "    - 1 Dropout layer\n",
    "    - 2 Fully Connected Layers\n",
    "\n",
    "For all these models we chose to use the `Adam` optimizer with a learning rate of 0.001"
   ]
  },
  {
   "cell_type": "markdown",
   "metadata": {
    "id": "m3NXmbLsNtyq"
   },
   "source": [
    "# Transfer Learning\n",
    "\n"
   ]
  },
  {
   "cell_type": "markdown",
   "metadata": {
    "id": "koGymH2ou1ZJ"
   },
   "source": [
    "## Res-Net 18"
   ]
  },
  {
   "cell_type": "code",
   "execution_count": 5,
   "metadata": {
    "id": "eKs0PQWRpE0a"
   },
   "outputs": [],
   "source": [
    "train_dir = \"data/training/\"\n",
    "val_dir = \"data/validation/\""
   ]
  },
  {
   "cell_type": "code",
   "execution_count": 10,
   "metadata": {
    "colab": {
     "base_uri": "https://localhost:8080/"
    },
    "id": "8H2FQN2LpGK_",
    "outputId": "31831f24-36e7-47a0-a812-497be77fd13b"
   },
   "outputs": [
    {
     "name": "stdout",
     "output_type": "stream",
     "text": [
      "['Cezanne', 'Degas', 'Gauguin', 'Hassam', 'Matisse', 'Monet', 'Pissarro', 'Renoir', 'Sargent', 'VanGogh']\n"
     ]
    }
   ],
   "source": [
    "data_transforms = {\n",
    "    'training':transforms.Compose([\n",
    "        transforms.RandomResizedCrop(256),\n",
    "        transforms.RandomHorizontalFlip(),\n",
    "        transforms.ToTensor()\n",
    "    ]),\n",
    "    'validation':transforms.Compose([\n",
    "        transforms.CenterCrop(256),\n",
    "        transforms.ToTensor()\n",
    "    ]),\n",
    "}\n",
    "train_data = datasets.ImageFolder(root=train_dir, transform = data_transforms['training'])\n",
    "val_data = datasets.ImageFolder(root=val_dir, transform = data_transforms['validation'])\n",
    "\n",
    "train_loader = data.DataLoader(train_data, batch_size=4, shuffle=True, pin_memory=True, drop_last=True)\n",
    "val_loader = data.DataLoader(val_data, batch_size=4, shuffle=True, pin_memory=True, drop_last=True)\n",
    "\n",
    "class_names = train_data.classes\n",
    "print(class_names)"
   ]
  },
  {
   "cell_type": "code",
   "execution_count": 11,
   "metadata": {
    "colab": {
     "base_uri": "https://localhost:8080/",
     "height": 124,
     "referenced_widgets": [
      "0512984f92434a4dbb2815f8b032c851",
      "ffd6fe5dcbfd47aeaf32d647345ff7ac",
      "84829db16dff4a7392dd565d404d639d",
      "bd114cccdc3b47a19e0352b7f674e82c",
      "799e6a46ff564f099e60f531f4359918",
      "38ce881d0dd242c19a05c44740cf2c48",
      "1a83172f81df46c8b51fa8d11bd4f558",
      "692395ae90894868b030ac3e45a6c66f"
     ]
    },
    "id": "au6xIZi4pLnN",
    "outputId": "e6ba3125-18b3-4d4c-a4ff-da25c1b827c4"
   },
   "outputs": [
    {
     "name": "stdout",
     "output_type": "stream",
     "text": [
      "512\n"
     ]
    }
   ],
   "source": [
    "# Get pre-trained model\n",
    "model_rn18 = models.resnet18(pretrained=True)\n",
    "\n",
    "#Get input for new fully connected layer\n",
    "n_ftrs = model_rn18.fc.in_features\n",
    "# set fully connected layers to \n",
    "model_rn18.fc = nn.Linear(n_ftrs,len(class_names))\n",
    "print(n_ftrs)\n",
    "\n",
    "model_rn18 = model_rn18.to(device)"
   ]
  },
  {
   "cell_type": "code",
   "execution_count": 12,
   "metadata": {
    "id": "VvCT38nKpN4F"
   },
   "outputs": [],
   "source": [
    "criterion = nn.CrossEntropyLoss()\n",
    "optimizer = optim.SGD(model_rn18.parameters(), lr=0.001, momentum=0.95)\n",
    "scheduler = lr_scheduler.StepLR(optimizer, step_size=7, gamma=0.1)\n",
    "\n",
    "# Set number of Epochs\n",
    "n_epochs = 10"
   ]
  },
  {
   "cell_type": "code",
   "execution_count": 13,
   "metadata": {
    "colab": {
     "base_uri": "https://localhost:8080/",
     "height": 414
    },
    "id": "LIgUYqWHpP8y",
    "outputId": "d8e21454-dcba-49d1-b98f-4c27f3ade424"
   },
   "outputs": [
    {
     "name": "stdout",
     "output_type": "stream",
     "text": [
      "0\n",
      "Training: \n",
      " 0 Loss: 1.5822 Acc: 0.2989\n",
      "Validation: \n",
      " 0 Loss: 1.6152 Acc: 0.3010\n",
      "1\n",
      "Training: \n",
      " 1 Loss: 1.4514 Acc: 0.4200\n",
      "Validation: \n",
      " 1 Loss: 1.5247 Acc: 0.3515\n",
      "2\n",
      "Training: \n",
      " 2 Loss: 1.3877 Acc: 0.4900\n",
      "Validation: \n",
      " 2 Loss: 1.4282 Acc: 0.4485\n",
      "3\n",
      "Training: \n",
      " 3 Loss: 1.3552 Acc: 0.5281\n",
      "Validation: \n",
      " 3 Loss: 1.4650 Acc: 0.4303\n",
      "4\n",
      "Training: \n",
      " 4 Loss: 1.3386 Acc: 0.5604\n",
      "Validation: \n",
      " 4 Loss: 1.4382 Acc: 0.4576\n",
      "5\n",
      "Training: \n",
      " 5 Loss: 1.3266 Acc: 0.5730\n",
      "Validation: \n",
      " 5 Loss: 1.4001 Acc: 0.4758\n",
      "6\n",
      "Training: \n",
      " 6 Loss: 1.3007 Acc: 0.5995\n",
      "Validation: \n",
      " 6 Loss: 1.4409 Acc: 0.4889\n",
      "7\n",
      "Training: \n",
      " 7 Loss: 1.2435 Acc: 0.6803\n",
      "Validation: \n",
      " 7 Loss: 1.3483 Acc: 0.5424\n",
      "8\n",
      "Training: \n",
      " 8 Loss: 1.2198 Acc: 0.7154\n",
      "Validation: \n",
      " 8 Loss: 1.3422 Acc: 0.5596\n",
      "9\n",
      "Training: \n",
      " 9 Loss: 1.2083 Acc: 0.7324\n",
      "Validation: \n",
      " 9 Loss: 1.3294 Acc: 0.5768\n"
     ]
    }
   ],
   "source": [
    "phase = 'training'\n",
    "\n",
    "best_model_wts = copy.deepcopy(model_rn18.state_dict())\n",
    "best_acc = 0\n",
    "\n",
    "for epoch in range(n_epochs):\n",
    "  phase = 'training'\n",
    "  print(epoch)\n",
    "  run_loss = 0\n",
    "  run_corr = 0\n",
    "  model_rn18.train()\n",
    "  for inputs, labels in train_loader:\n",
    "    inputs = inputs.to(device)\n",
    "    labels = labels.to(device)\n",
    "    optimizer.zero_grad()\n",
    "    with torch.set_grad_enabled(True):\n",
    "      outputs = model_rn18(inputs)\n",
    "      _, preds = torch.max(outputs, 1)\n",
    "      loss = criterion(outputs, labels)\n",
    "        \n",
    "      loss.backward()\n",
    "      optimizer.step()\n",
    "        \n",
    "    run_loss += loss.item() + inputs.size(0)\n",
    "    run_corr += torch.sum(preds == labels.data)\n",
    "\n",
    "  scheduler.step()\n",
    "  \n",
    "  epoch_loss = run_loss / len(train_data)\n",
    "  epoch_acc = run_corr.double() / len(train_data)\n",
    "  print('Training: \\n {} Loss: {:.4f} Acc: {:.4f}'.format(epoch, epoch_loss, epoch_acc))\n",
    "\n",
    "  phase = 'validation'\n",
    "  run_loss = 0\n",
    "  run_corr = 0\n",
    "  model_rn18.eval()\n",
    "  for inputs, labels in val_loader:\n",
    "    inputs = inputs.to(device)\n",
    "    labels = labels.to(device)\n",
    "    optimizer.zero_grad()\n",
    "    with torch.set_grad_enabled(False):\n",
    "      outputs = model_rn18(inputs)\n",
    "      _, preds = torch.max(outputs, 1)\n",
    "      loss = criterion(outputs, labels)\n",
    "              \n",
    "    run_loss += loss.item() + inputs.size(0)\n",
    "    run_corr += torch.sum(preds == labels.data)\n",
    "\n",
    "  epoch_loss = run_loss / len(val_data)\n",
    "  epoch_acc = run_corr.double() / len(val_data)\n",
    "\n",
    "  if epoch_acc > best_acc:\n",
    "    best_acc = epoch_acc\n",
    "    best_model_wts = copy.deepcopy(model_rn18.state_dict())\n",
    "  \n",
    "  print('Validation: \\n {} Loss: {:.4f} Acc: {:.4f}'.format(epoch, epoch_loss, epoch_acc))\n",
    "\n",
    "torch.save(model_rn18, 'rn18_nonnormalized.pt')"
   ]
  },
  {
   "cell_type": "markdown",
   "metadata": {
    "id": "Gppj14Bou3u6"
   },
   "source": [
    "## Inception Net"
   ]
  },
  {
   "cell_type": "markdown",
   "metadata": {
    "id": "g5Dvuoj0H4Ii"
   },
   "source": [
    "# CODE I STOLE"
   ]
  },
  {
   "cell_type": "code",
   "execution_count": 21,
   "metadata": {
    "id": "2SIHNrw2IRW9"
   },
   "outputs": [],
   "source": [
    "image_transforms = { \n",
    "    'train': transforms.Compose([\n",
    "        transforms.RandomResizedCrop(256),\n",
    "        transforms.RandomHorizontalFlip(),\n",
    "        transforms.ToTensor(),\n",
    "        #transforms.Normalize([0.485, 0.456, 0.406],\n",
    "        #                     [0.229, 0.224, 0.225])\n",
    "    ]),\n",
    "    'valid': transforms.Compose([\n",
    "        transforms.RandomResizedCrop(256),\n",
    "        transforms.ToTensor(),\n",
    "        #transforms.Normalize([0.485, 0.456, 0.406],\n",
    "        #                     [0.229, 0.224, 0.225])\n",
    "    ])\n",
    "}"
   ]
  },
  {
   "cell_type": "code",
   "execution_count": 22,
   "metadata": {
    "id": "ZHKSeOwMH5fd"
   },
   "outputs": [],
   "source": [
    "# Load data from folders\n",
    "dataset = {\n",
    "    'train': datasets.ImageFolder(root=train_dir, transform=image_transforms['train']),\n",
    "    'valid': datasets.ImageFolder(root=val_dir, transform=image_transforms['valid'])\n",
    "}\n",
    "  \n",
    "# Size of train and validation data\n",
    "dataset_sizes = {\n",
    "    'train':len(dataset['train']),\n",
    "    'valid':len(dataset['valid'])\n",
    "}"
   ]
  },
  {
   "cell_type": "code",
   "execution_count": 23,
   "metadata": {
    "colab": {
     "base_uri": "https://localhost:8080/"
    },
    "id": "AgZAd47BIF5X",
    "outputId": "37544edf-7548-4c07-8875-dc49ad412895"
   },
   "outputs": [
    {
     "name": "stdout",
     "output_type": "stream",
     "text": [
      "Classes: ['Cezanne', 'Degas', 'Gauguin', 'Hassam', 'Matisse', 'Monet', 'Pissarro', 'Renoir', 'Sargent', 'VanGogh']\n",
      "Training-set size: 3988 \n",
      "Validation-set size: 990\n"
     ]
    }
   ],
   "source": [
    "dataloaders = {\n",
    "    'train':data.DataLoader(dataset['train'], batch_size=10, shuffle=True, pin_memory=True, drop_last=True),\n",
    "    'valid':data.DataLoader(dataset['valid'], batch_size=10, shuffle=True, pin_memory=True, drop_last=True)\n",
    "}\n",
    " \n",
    "# Class names or target labels\n",
    "class_names = dataset['train'].classes\n",
    "print(\"Classes:\", class_names)\n",
    "  \n",
    "# Print the train and validation data sizes\n",
    "print(\"Training-set size:\",dataset_sizes['train'],\n",
    "      \"\\nValidation-set size:\", dataset_sizes['valid'])\n",
    " \n",
    "# Set default device as gpu, if available\n",
    "device = torch.device(\"cuda:0\" if torch.cuda.is_available() else \"cpu\")"
   ]
  },
  {
   "cell_type": "code",
   "execution_count": 24,
   "metadata": {
    "id": "3RkD_tPeItB2"
   },
   "outputs": [],
   "source": [
    "def train_model(model, criterion, optimizer, scheduler, num_epochs=10):\n",
    "    since = time.time()\n",
    "    best_model_wts = copy.deepcopy(model.state_dict())\n",
    "    best_acc = 0.0\n",
    "    \n",
    "    #Epoch Results\n",
    "    results = {\"train\": {\"loss\" : [], \"acc\": []},\\\n",
    "               \"valid\": {\"loss\" : [], \"acc\": []}}\n",
    "     \n",
    "    for epoch in range(num_epochs):\n",
    "        print(f'Epoch: {epoch + 1}/{n_epochs}')\n",
    "        print('**' * 8, '\\n')\n",
    "\n",
    "        #iterate through phases during each epoch\n",
    "        for phase in ['train', 'valid']:\n",
    "            if phase == 'train':\n",
    "                model.train()  \n",
    "            else:\n",
    "                model.eval()  \n",
    "            running_loss = 0.0\n",
    "            running_corrects = 0\n",
    " \n",
    "            #iterate through images in phase\n",
    "            for inputs, labels in dataloaders[phase]:\n",
    "                inputs, labels = inputs.to(device), labels.to(device)\n",
    " \n",
    "                #zero parameter gradients\n",
    "                optimizer.zero_grad()\n",
    " \n",
    "                with torch.set_grad_enabled(phase == 'train'): #enable auto_grad if training, disable if validating\n",
    "                    outputs = model(inputs)\n",
    "                    _, preds = torch.max(outputs, 1)\n",
    "                    loss = criterion(outputs, labels)\n",
    " \n",
    "                    if phase == 'train': #Back-propogate and modify if training\n",
    "                        loss.backward()\n",
    "                        optimizer.step()\n",
    "\n",
    "                #track loss and accuracy\n",
    "                running_loss += loss.item() * inputs.size(0)\n",
    "                running_corrects += torch.sum(preds == labels.data)\n",
    "            \n",
    "            if phase == 'train': # Adjust learning rate if training\n",
    "                scheduler.step()\n",
    "            \n",
    "            epoch_loss = running_loss / dataset_sizes[phase]\n",
    "            epoch_acc = running_corrects.double() / dataset_sizes[phase]\n",
    "            print('{} Loss: {:.4f} Acc: {:.4f}'.format(phase, epoch_loss, epoch_acc))\n",
    " \n",
    "# Record training loss and accuracy for each phase\n",
    "            results[phase][\"loss\"].append(epoch_loss)\n",
    "            results[phase][\"acc\"].append(epoch_acc)\n",
    " \n",
    "# deep copy the model\n",
    "            if phase == 'valid' and epoch_acc > best_acc:\n",
    "                best_acc = epoch_acc\n",
    "                best_model_wts = copy.deepcopy(model.state_dict())\n",
    "            \n",
    "    time_elapsed = time.time() - since\n",
    "    print(f'Training complete in {round(time_elapsed // 60)}m {time_elapsed % 60}s')\n",
    "    print(f'Best val Acc: {best_acc}')\n",
    " \n",
    "# load best model weights\n",
    "    model.load_state_dict(best_model_wts)\n",
    "    return model, results\n"
   ]
  },
  {
   "cell_type": "markdown",
   "metadata": {
    "id": "bM0JnYppDzgO"
   },
   "source": [
    "# Custom Models\n",
    "https://algorithmia.com/blog/convolutional-neural-nets-in-pytorch"
   ]
  },
  {
   "cell_type": "markdown",
   "metadata": {
    "id": "KNERIv_IUzbU"
   },
   "source": [
    "## 2 Conv w/ 2 Linear FC Layers"
   ]
  },
  {
   "cell_type": "markdown",
   "metadata": {
    "id": "3dp-lqPPwHf6"
   },
   "source": [
    "### Overfit"
   ]
  },
  {
   "cell_type": "code",
   "execution_count": 25,
   "metadata": {
    "id": "Oip4ubrhJP02"
   },
   "outputs": [],
   "source": [
    "from torch.autograd import Variable\n",
    "import torch.nn.functional as F\n",
    "\n",
    "class overfit2_CNN(torch.nn.Module):\n",
    "    \n",
    "    #Our batch shape for input x is (3, 256, 256)\n",
    "    \n",
    "    def __init__(self):\n",
    "        super(overfit2_CNN, self).__init__()\n",
    "        \n",
    "        #Input channels = 3, output channels = 16\n",
    "        self.conv1 = torch.nn.Conv2d(3, 16, kernel_size=3, stride=1, padding=1)\n",
    "        self.pool1 = torch.nn.MaxPool2d(kernel_size=2, stride=2, padding=0)\n",
    "        \n",
    "        self.conv2 = torch.nn.Conv2d(16, 32, kernel_size=3, stride=1, padding=1)\n",
    "        self.pool2 = torch.nn.MaxPool2d(kernel_size=2, stride=2, padding=0)\n",
    "    \n",
    "        self.fc1 = torch.nn.Linear(32 * 64 * 64, 64)\n",
    "        self.fc2 = torch.nn.Linear(64, 10)\n",
    "        \n",
    "    def forward(self, x):\n",
    "        \n",
    "        #Computes the activation of the first convolution\n",
    "        # 3 -> 16 Channels\n",
    "        x = F.relu(self.conv1(x))\n",
    "        #Size changes from (16, 256, 256) to (16, 128, 128)\n",
    "        x = self.pool1(x)\n",
    "\n",
    "\n",
    "        # 16 -> 32 Channels\n",
    "        x = F.relu(self.conv2(x))\n",
    "        #Size changes from (32, 128, 128) to (32, 64, 64)\n",
    "        x = self.pool2(x)\n",
    "\n",
    "        #Reshape data to input to the input layer of the neural net\n",
    "        #Size changes from (32, 64, 64) to (1, 131072)\n",
    "        x = x.view(-1, 32 * 64 * 64)\n",
    "        \n",
    "        #Computes the activation of the first fully connected layer\n",
    "        #Size changes from (1, 131072) to (1, 64)\n",
    "        x = F.relu(self.fc1(x))\n",
    "        #Size changes from (1, 64) to (1, 10)\n",
    "        x = self.fc2(x)\n",
    "        return(x)"
   ]
  },
  {
   "cell_type": "code",
   "execution_count": 26,
   "metadata": {
    "id": "U1Eh1w1NIZpq"
   },
   "outputs": [],
   "source": [
    "myCNN = overfit2_CNN()\n",
    "myCNN = myCNN.to(device)\n",
    "\n",
    "criterion = nn.CrossEntropyLoss()\n",
    "optimizer = optim.Adam(myCNN.parameters(), lr=0.001)\n",
    "exp_lr_scheduler= lr_scheduler.StepLR(optimizer, step_size=3, gamma=0.1)\n",
    "# Set number of Epochs\n",
    "n_epochs = 10"
   ]
  },
  {
   "cell_type": "code",
   "execution_count": 27,
   "metadata": {
    "colab": {
     "base_uri": "https://localhost:8080/",
     "height": 1000
    },
    "id": "HJ6b-T4ttCj7",
    "outputId": "f7adafb2-bf94-4642-8816-6cc0a99bfd7a"
   },
   "outputs": [
    {
     "name": "stdout",
     "output_type": "stream",
     "text": [
      "Epoch: 1/10\n",
      "**************** \n",
      "\n",
      "train Loss: 2.1697 Acc: 0.2029\n",
      "valid Loss: 2.0595 Acc: 0.2869\n",
      "Epoch: 2/10\n",
      "**************** \n",
      "\n",
      "train Loss: 1.9930 Acc: 0.2889\n",
      "valid Loss: 2.0175 Acc: 0.3030\n",
      "Epoch: 3/10\n",
      "**************** \n",
      "\n",
      "train Loss: 1.9289 Acc: 0.3302\n",
      "valid Loss: 1.9424 Acc: 0.3323\n",
      "Epoch: 4/10\n",
      "**************** \n",
      "\n",
      "train Loss: 1.7998 Acc: 0.3754\n",
      "valid Loss: 1.8566 Acc: 0.3747\n",
      "Epoch: 5/10\n",
      "**************** \n",
      "\n",
      "train Loss: 1.7744 Acc: 0.3974\n",
      "valid Loss: 1.8538 Acc: 0.3727\n",
      "Epoch: 6/10\n",
      "**************** \n",
      "\n",
      "train Loss: 1.7644 Acc: 0.3994\n",
      "valid Loss: 1.8301 Acc: 0.3879\n",
      "Epoch: 7/10\n",
      "**************** \n",
      "\n",
      "train Loss: 1.7487 Acc: 0.3967\n",
      "valid Loss: 1.8318 Acc: 0.3768\n",
      "Epoch: 8/10\n",
      "**************** \n",
      "\n",
      "train Loss: 1.7563 Acc: 0.3884\n",
      "valid Loss: 1.8072 Acc: 0.3949\n",
      "Epoch: 9/10\n",
      "**************** \n",
      "\n",
      "train Loss: 1.7508 Acc: 0.4030\n",
      "valid Loss: 1.8254 Acc: 0.3586\n",
      "Epoch: 10/10\n",
      "**************** \n",
      "\n",
      "train Loss: 1.7335 Acc: 0.3992\n",
      "valid Loss: 1.8268 Acc: 0.3848\n",
      "Training complete in 19m 12.536524534225464s\n",
      "Best val Acc: 0.39494949494949494\n"
     ]
    }
   ],
   "source": [
    "overfit2_model, overfit2_results = train_model(myCNN, criterion, optimizer, exp_lr_scheduler,num_epochs=n_epochs)"
   ]
  },
  {
   "cell_type": "code",
   "execution_count": 28,
   "metadata": {
    "id": "-eO-SE6onGpg"
   },
   "outputs": [
    {
     "data": {
      "image/png": "[encoded data removed]",
      "text/plain": [
       "<Figure size 432x288 with 2 Axes>"
      ]
     },
     "metadata": {
      "needs_background": "light"
     },
     "output_type": "display_data"
    }
   ],
   "source": [
    "fig, axs = plt.subplots(nrows = 1, ncols = 2)\n",
    "\n",
    "for i in range(2):\n",
    "    if i == 0:\n",
    "        val = \"acc\"\n",
    "    else:\n",
    "        val = \"loss\"\n",
    "    axs[i].plot(overfit2_results[\"train\"][val])\n",
    "    axs[i].plot(overfit2_results[\"valid\"][val])"
   ]
  },
  {
   "cell_type": "markdown",
   "metadata": {
    "id": "lyvPSm4sU3Ak"
   },
   "source": [
    "### w/ Dropout"
   ]
  },
  {
   "cell_type": "code",
   "execution_count": 29,
   "metadata": {
    "id": "0LOlPWuHU2Jv"
   },
   "outputs": [],
   "source": [
    "from torch.autograd import Variable\n",
    "import torch.nn.functional as F\n",
    "\n",
    "class dropout2_CNN(torch.nn.Module):\n",
    "    \n",
    "    #Our batch shape for input x is (3, 256, 256)\n",
    "    \n",
    "    def __init__(self):\n",
    "        super(dropout2_CNN, self).__init__()\n",
    "        \n",
    "        #Input channels = 3, output channels = 16\n",
    "        self.conv1 = torch.nn.Conv2d(3, 16, kernel_size=3, stride=1, padding=1)\n",
    "        self.pool1 = torch.nn.MaxPool2d(kernel_size=2, stride=2, padding=0)\n",
    "        \n",
    "        self.conv2 = torch.nn.Conv2d(16, 32, kernel_size=3, stride=1, padding=1)\n",
    "        self.pool2 = torch.nn.MaxPool2d(kernel_size=2, stride=2, padding=0)\n",
    "    \n",
    "        self.drop = nn.Dropout2d(p = 0.5)\n",
    "\n",
    "        self.fc1 = torch.nn.Linear(32 * 64 * 64, 64)\n",
    "        self.fc2 = torch.nn.Linear(64, 10)\n",
    "        \n",
    "    def forward(self, x):\n",
    "        \n",
    "        #Computes the activation of the first convolution\n",
    "        # 3 -> 16 Channels\n",
    "        x = F.relu(self.conv1(x))\n",
    "        #Size changes from (16, 256, 256) to (16, 128, 128)\n",
    "        x = self.pool1(x)\n",
    "\n",
    "\n",
    "        # 16 -> 32 Channels\n",
    "        x = F.relu(self.conv2(x))\n",
    "        #Size changes from (32, 128, 128) to (32, 64, 64)\n",
    "        x = self.pool2(x)\n",
    "\n",
    "        #Reshape data to input to the input layer of the neural net\n",
    "        #Size changes from (32, 64, 64) to (1, 131072)\n",
    "        x = x.view(-1, 32 * 64 * 64)\n",
    "\n",
    "        #Dropout\n",
    "        x = self.drop(x)\n",
    "        \n",
    "        #Computes the activation of the first fully connected layer\n",
    "        #Size changes from (1, 131072) to (1, 64)\n",
    "        x = F.relu(self.fc1(x))\n",
    "        #Size changes from (1, 64) to (1, 10)\n",
    "        x = self.fc2(x)\n",
    "        return(x)"
   ]
  },
  {
   "cell_type": "code",
   "execution_count": 30,
   "metadata": {
    "id": "6RM4EGjVU2Jv"
   },
   "outputs": [],
   "source": [
    "myCNN = dropout2_CNN()\n",
    "myCNN = myCNN.to(device)\n",
    "\n",
    "criterion = nn.CrossEntropyLoss()\n",
    "optimizer = optim.Adam(myCNN.parameters(), lr=0.001)\n",
    "exp_lr_scheduler= lr_scheduler.StepLR(optimizer, step_size=3, gamma=0.1)\n",
    "# Set number of Epochs\n",
    "n_epochs = 10"
   ]
  },
  {
   "cell_type": "code",
   "execution_count": 31,
   "metadata": {
    "id": "hg8dgnFXU2Jx",
    "scrolled": false
   },
   "outputs": [
    {
     "name": "stdout",
     "output_type": "stream",
     "text": [
      "Epoch: 1/10\n",
      "**************** \n",
      "\n",
      "train Loss: 2.1657 Acc: 0.2239\n",
      "valid Loss: 2.0683 Acc: 0.2869\n",
      "Epoch: 2/10\n",
      "**************** \n",
      "\n",
      "train Loss: 2.0228 Acc: 0.2876\n",
      "valid Loss: 2.0491 Acc: 0.2747\n",
      "Epoch: 3/10\n",
      "**************** \n",
      "\n",
      "train Loss: 1.9405 Acc: 0.3227\n",
      "valid Loss: 2.0181 Acc: 0.3152\n",
      "Epoch: 4/10\n",
      "**************** \n",
      "\n",
      "train Loss: 1.8101 Acc: 0.3701\n",
      "valid Loss: 1.8659 Acc: 0.3535\n",
      "Epoch: 5/10\n",
      "**************** \n",
      "\n",
      "train Loss: 1.7896 Acc: 0.3764\n",
      "valid Loss: 1.8634 Acc: 0.3616\n",
      "Epoch: 6/10\n",
      "**************** \n",
      "\n",
      "train Loss: 1.7693 Acc: 0.3947\n",
      "valid Loss: 1.8429 Acc: 0.3778\n",
      "Epoch: 7/10\n",
      "**************** \n",
      "\n",
      "train Loss: 1.7435 Acc: 0.3969\n",
      "valid Loss: 1.8455 Acc: 0.3667\n",
      "Epoch: 8/10\n",
      "**************** \n",
      "\n",
      "train Loss: 1.7457 Acc: 0.3962\n",
      "valid Loss: 1.8585 Acc: 0.3667\n",
      "Epoch: 9/10\n",
      "**************** \n",
      "\n",
      "train Loss: 1.7395 Acc: 0.3952\n",
      "valid Loss: 1.8431 Acc: 0.3636\n",
      "Epoch: 10/10\n",
      "**************** \n",
      "\n",
      "train Loss: 1.7486 Acc: 0.3887\n",
      "valid Loss: 1.8397 Acc: 0.3606\n",
      "Training complete in 19m 7.134598016738892s\n",
      "Best val Acc: 0.37777777777777777\n"
     ]
    }
   ],
   "source": [
    "dropout2_model, dropout2_results = train_model(myCNN, criterion, optimizer, exp_lr_scheduler,num_epochs=n_epochs)"
   ]
  },
  {
   "cell_type": "code",
   "execution_count": 32,
   "metadata": {
    "id": "ecTeNceCqORd"
   },
   "outputs": [
    {
     "data": {
      "image/png": "[encoded data removed]",
      "text/plain": [
       "<Figure size 432x288 with 2 Axes>"
      ]
     },
     "metadata": {
      "needs_background": "light"
     },
     "output_type": "display_data"
    }
   ],
   "source": [
    "fig, axs = plt.subplots(nrows = 1, ncols = 2)\n",
    "\n",
    "for i in range(2):\n",
    "    if i == 0:\n",
    "        val = \"acc\"\n",
    "    else:\n",
    "        val = \"loss\"\n",
    "    axs[i].plot(dropout2_results[\"train\"][val])\n",
    "    axs[i].plot(dropout2_results[\"valid\"][val])"
   ]
  },
  {
   "cell_type": "markdown",
   "metadata": {
    "id": "OrRm-1sDXA_W"
   },
   "source": [
    "### w/ Batch-Norm"
   ]
  },
  {
   "cell_type": "code",
   "execution_count": 33,
   "metadata": {
    "id": "qOglTQlaXA_X"
   },
   "outputs": [],
   "source": [
    "from torch.autograd import Variable\n",
    "import torch.nn.functional as F\n",
    "\n",
    "class batchnorm2_CNN(torch.nn.Module):\n",
    "    \n",
    "    #Our batch shape for input x is (3, 256, 256)\n",
    "    def __init__(self):\n",
    "        super(batchnorm2_CNN, self).__init__()\n",
    "        \n",
    "        #Input channels = 3, output channels = 16\n",
    "        self.conv1 = torch.nn.Conv2d(3, 16, kernel_size=3, stride=1, padding=1)\n",
    "        self.pool1 = torch.nn.MaxPool2d(kernel_size=2, stride=2, padding=0)\n",
    "        \n",
    "        self.conv2 = torch.nn.Conv2d(16, 32, kernel_size=3, stride=1, padding=1)\n",
    "        self.bn2d = nn.BatchNorm2d(32)\n",
    "        self.pool2 = torch.nn.MaxPool2d(kernel_size=2, stride=2, padding=0)\n",
    "    \n",
    "\n",
    "        self.fc1 = torch.nn.Linear(32 * 64 * 64, 64)\n",
    "        self.bn1d = nn.BatchNorm1d(64)\n",
    "        self.fc2 = torch.nn.Linear(64, 10)\n",
    "        \n",
    "    def forward(self, x):\n",
    "        \n",
    "        #Computes the activation of the first convolution\n",
    "        # 3 -> 16 Channels\n",
    "        x = F.relu(self.conv1(x))\n",
    "        #Size changes from (16, 256, 256) to (16, 128, 128)\n",
    "        x = self.pool1(x)\n",
    "\n",
    "\n",
    "        # 16 -> 32 Channels\n",
    "        x = F.relu(self.bn2d(self.conv2(x)))\n",
    "        #Size changes from (16, 128, 128) to (32, 64, 64)\n",
    "        x = self.pool2(x)\n",
    "\n",
    "        #Reshape data to input to the input layer of the neural net\n",
    "        #Size changes from (32, 64, 64) to (1, 131072)\n",
    "        x = x.view(-1, 32 * 64 * 64)\n",
    "        \n",
    "        #Computes the activation of the first fully connected layer\n",
    "        #Size changes from (1, 131072) to (1, 64)\n",
    "        x = F.relu(self.bn1d(self.fc1(x)))\n",
    "        #Size changes from (1, 64) to (1, 10)\n",
    "        x = self.fc2(x)\n",
    "        return(x)"
   ]
  },
  {
   "cell_type": "code",
   "execution_count": 34,
   "metadata": {
    "id": "Rm6VwRgFXA_X"
   },
   "outputs": [],
   "source": [
    "myCNN = batchnorm2_CNN()\n",
    "myCNN = myCNN.to(device)\n",
    "\n",
    "criterion = nn.CrossEntropyLoss()\n",
    "optimizer = optim.Adam(myCNN.parameters(), lr=0.001)\n",
    "exp_lr_scheduler= lr_scheduler.StepLR(optimizer, step_size=7, gamma=0.1)\n",
    "# Set number of Epochs\n",
    "n_epochs = 10"
   ]
  },
  {
   "cell_type": "code",
   "execution_count": 35,
   "metadata": {
    "colab": {
     "base_uri": "https://localhost:8080/"
    },
    "id": "ihIkeNBpXA_Y",
    "outputId": "803529b4-27cd-4ed5-c623-1ce45d7f3e8c"
   },
   "outputs": [
    {
     "name": "stdout",
     "output_type": "stream",
     "text": [
      "Epoch: 1/10\n",
      "**************** \n",
      "\n",
      "train Loss: 2.0340 Acc: 0.2738\n",
      "valid Loss: 2.1526 Acc: 0.2545\n",
      "Epoch: 2/10\n",
      "**************** \n",
      "\n",
      "train Loss: 1.9118 Acc: 0.3310\n",
      "valid Loss: 1.9510 Acc: 0.3283\n",
      "Epoch: 3/10\n",
      "**************** \n",
      "\n",
      "train Loss: 1.8503 Acc: 0.3448\n",
      "valid Loss: 1.8560 Acc: 0.3566\n",
      "Epoch: 4/10\n",
      "**************** \n",
      "\n",
      "train Loss: 1.7994 Acc: 0.3679\n",
      "valid Loss: 1.8303 Acc: 0.3586\n",
      "Epoch: 5/10\n",
      "**************** \n",
      "\n",
      "train Loss: 1.7765 Acc: 0.3809\n",
      "valid Loss: 2.0584 Acc: 0.3101\n",
      "Epoch: 6/10\n",
      "**************** \n",
      "\n",
      "train Loss: 1.7592 Acc: 0.3829\n",
      "valid Loss: 2.0557 Acc: 0.2939\n",
      "Epoch: 7/10\n",
      "**************** \n",
      "\n",
      "train Loss: 1.7233 Acc: 0.3929\n",
      "valid Loss: 1.7898 Acc: 0.3859\n",
      "Epoch: 8/10\n",
      "**************** \n",
      "\n",
      "train Loss: 1.6374 Acc: 0.4250\n",
      "valid Loss: 1.6735 Acc: 0.4051\n",
      "Epoch: 9/10\n",
      "**************** \n",
      "\n",
      "train Loss: 1.6303 Acc: 0.4366\n",
      "valid Loss: 1.6337 Acc: 0.4475\n",
      "Epoch: 10/10\n",
      "**************** \n",
      "\n",
      "train Loss: 1.6120 Acc: 0.4391\n",
      "valid Loss: 1.6565 Acc: 0.4303\n",
      "Training complete in 19m 31.845080852508545s\n",
      "Best val Acc: 0.44747474747474747\n"
     ]
    }
   ],
   "source": [
    "batchnorm2_model, batchnorm2_results = train_model(myCNN, criterion, optimizer, exp_lr_scheduler,num_epochs=n_epochs)"
   ]
  },
  {
   "cell_type": "code",
   "execution_count": 36,
   "metadata": {
    "colab": {
     "base_uri": "https://localhost:8080/",
     "height": 265
    },
    "id": "fSo8KrUqq4VZ",
    "outputId": "a3e858e7-5863-46cd-88f2-f6bcdeacb694"
   },
   "outputs": [
    {
     "data": {
      "image/png": "[encoded data removed]",
      "text/plain": [
       "<Figure size 432x288 with 2 Axes>"
      ]
     },
     "metadata": {
      "needs_background": "light"
     },
     "output_type": "display_data"
    }
   ],
   "source": [
    "fig, axs = plt.subplots(nrows = 1, ncols = 2)\n",
    "\n",
    "for i in range(2):\n",
    "    if i == 0:\n",
    "        val = \"acc\"\n",
    "    else:\n",
    "        val = \"loss\"\n",
    "    axs[i].plot(batchnorm2_results[\"train\"][val])\n",
    "    axs[i].plot(batchnorm2_results[\"valid\"][val])"
   ]
  },
  {
   "cell_type": "markdown",
   "metadata": {
    "id": "JAPC-Zj-vDnR"
   },
   "source": [
    "## 2 Conv w/ 1 Linear FC Layer & Crop (256)"
   ]
  },
  {
   "cell_type": "code",
   "execution_count": 43,
   "metadata": {
    "id": "AV4UvD8GyAUM"
   },
   "outputs": [],
   "source": [
    "data_transforms = {\n",
    "    'training':transforms.Compose([\n",
    "        transforms.RandomResizedCrop(256),\n",
    "        transforms.RandomHorizontalFlip(),\n",
    "        transforms.ToTensor(),\n",
    "        transforms.Normalize([0.485, 0.456, 0.406], [0.229, 0.224, 0.225])\n",
    "    ]),\n",
    "    'validation':transforms.Compose([\n",
    "        transforms.RandomResizedCrop(256),\n",
    "        transforms.ToTensor(),\n",
    "        transforms.Normalize([0.485, 0.456, 0.406], [0.229, 0.224, 0.225])\n",
    "    ]),\n",
    "}"
   ]
  },
  {
   "cell_type": "code",
   "execution_count": 44,
   "metadata": {
    "id": "cqFBxXqiyRRF"
   },
   "outputs": [],
   "source": [
    "# Load data from folders\n",
    "dataset = {\n",
    "    'train': datasets.ImageFolder(root=train_dir, transform=image_transforms['train']),\n",
    "    'valid': datasets.ImageFolder(root=val_dir, transform=image_transforms['valid'])\n",
    "}\n",
    "  \n",
    "# Size of train and validation data\n",
    "dataset_sizes = {\n",
    "    'train':len(dataset['train']),\n",
    "    'valid':len(dataset['valid'])\n",
    "}"
   ]
  },
  {
   "cell_type": "code",
   "execution_count": 45,
   "metadata": {
    "colab": {
     "base_uri": "https://localhost:8080/"
    },
    "id": "J7QQ8Z8YyTqa",
    "outputId": "67a76e9f-50f1-4b6a-d8df-763a96692c65"
   },
   "outputs": [
    {
     "name": "stdout",
     "output_type": "stream",
     "text": [
      "Classes: ['Cezanne', 'Degas', 'Gauguin', 'Hassam', 'Matisse', 'Monet', 'Pissarro', 'Renoir', 'Sargent', 'VanGogh']\n",
      "Training-set size: 3988 \n",
      "Validation-set size: 990\n"
     ]
    }
   ],
   "source": [
    "dataloaders = {\n",
    "    'train':data.DataLoader(dataset['train'], batch_size=10, shuffle=True, pin_memory=True, drop_last=True),\n",
    "    'valid':data.DataLoader(dataset['valid'], batch_size=10, shuffle=True, pin_memory=True, drop_last=True)\n",
    "}\n",
    " \n",
    "# Class names or target labels\n",
    "class_names = dataset['train'].classes\n",
    "print(\"Classes:\", class_names)\n",
    "  \n",
    "# Print the train and validation data sizes\n",
    "print(\"Training-set size:\",dataset_sizes['train'],\n",
    "      \"\\nValidation-set size:\", dataset_sizes['valid'])\n",
    " \n",
    "# Set default device as gpu, if available\n",
    "device = torch.device(\"cuda:0\" if torch.cuda.is_available() else \"cpu\")"
   ]
  },
  {
   "cell_type": "code",
   "execution_count": 46,
   "metadata": {
    "id": "HWoGJmNWvIgF"
   },
   "outputs": [],
   "source": [
    "class CNNModel(nn.Module):\n",
    "    def __init__(self):\n",
    "        super(CNNModel, self).__init__()\n",
    "        \n",
    "        # Convolution 1 - In: [3, 256, 256], Out:[16, 254, 254]\n",
    "        self.cnn1 = nn.Conv2d(in_channels=3, out_channels=16, kernel_size=3, stride=1, padding=0)\n",
    "        self.relu1 = nn.ReLU()\n",
    "        \n",
    "        # Max pool 1 - In: [16, 254, 254], Out:[16, 127, 127]\n",
    "        self.maxpool1 = nn.MaxPool2d(kernel_size=2)\n",
    "     \n",
    "        # Convolution 2 - In: [16, 127, 127], Out:[32, 125, 125]\n",
    "        self.cnn2 = nn.Conv2d(in_channels=16, out_channels=32, kernel_size=3, stride=1, padding=0)\n",
    "        self.relu2 = nn.ReLU()\n",
    "        \n",
    "        # Max pool 2 - In: [32, 125, 125], Out:[32, 62, 62]\n",
    "        self.maxpool2 = nn.MaxPool2d(kernel_size=2)\n",
    "        # Fully connected 1\n",
    "        self.fc1 = nn.Linear(32 * 62 * 62, 10) \n",
    "    \n",
    "    def forward(self, x):\n",
    "        # Set 1\n",
    "        out = self.cnn1(x)\n",
    "        out = self.relu1(out)\n",
    "        out = self.maxpool1(out)\n",
    "        \n",
    "        # Set 2\n",
    "        out = self.cnn2(out)\n",
    "        out = self.relu2(out)\n",
    "        out = self.maxpool2(out)\n",
    "\n",
    "        #Flatten\n",
    "        out = out.view(out.size(0), -1)\n",
    "\n",
    "        #Dense\n",
    "        out = self.fc1(out)\n",
    "        \n",
    "        return out"
   ]
  },
  {
   "cell_type": "code",
   "execution_count": 47,
   "metadata": {
    "id": "2gIAgXOuwB99"
   },
   "outputs": [],
   "source": [
    "myCNN = CNNModel()\n",
    "myCNN = myCNN.to(device)\n",
    "\n",
    "criterion = nn.CrossEntropyLoss()\n",
    "optimizer = optim.Adam(myCNN.parameters(), lr=0.001)\n",
    "exp_lr_scheduler= lr_scheduler.StepLR(optimizer, step_size=7, gamma=0.1)\n",
    "# Set number of Epochs\n",
    "n_epochs = 10"
   ]
  },
  {
   "cell_type": "code",
   "execution_count": 48,
   "metadata": {
    "colab": {
     "base_uri": "https://localhost:8080/",
     "height": 354
    },
    "id": "Woz2s2N_wB9-",
    "outputId": "0b0edea5-a068-4019-f585-dce7aa765abf"
   },
   "outputs": [
    {
     "name": "stdout",
     "output_type": "stream",
     "text": [
      "Epoch: 1/10\n",
      "**************** \n",
      "\n",
      "train Loss: 2.3955 Acc: 0.0978\n",
      "valid Loss: 2.3026 Acc: 0.1000\n",
      "Epoch: 2/10\n",
      "**************** \n",
      "\n",
      "train Loss: 2.2995 Acc: 0.0940\n",
      "valid Loss: 2.3026 Acc: 0.1000\n",
      "Epoch: 3/10\n",
      "**************** \n",
      "\n",
      "train Loss: 2.2983 Acc: 0.0973\n",
      "valid Loss: 2.3026 Acc: 0.1000\n",
      "Epoch: 4/10\n",
      "**************** \n",
      "\n",
      "train Loss: 2.2980 Acc: 0.0940\n",
      "valid Loss: 2.3026 Acc: 0.1000\n",
      "Epoch: 5/10\n",
      "**************** \n",
      "\n",
      "train Loss: 2.2979 Acc: 0.0860\n",
      "valid Loss: 2.3026 Acc: 0.1000\n",
      "Epoch: 6/10\n",
      "**************** \n",
      "\n",
      "train Loss: 2.2984 Acc: 0.0888\n",
      "valid Loss: 2.3026 Acc: 0.1000\n",
      "Epoch: 7/10\n",
      "**************** \n",
      "\n",
      "train Loss: 2.2984 Acc: 0.0938\n",
      "valid Loss: 2.3026 Acc: 0.1000\n",
      "Epoch: 8/10\n",
      "**************** \n",
      "\n",
      "train Loss: 2.2980 Acc: 0.0973\n",
      "valid Loss: 2.3026 Acc: 0.1000\n",
      "Epoch: 9/10\n",
      "**************** \n",
      "\n",
      "train Loss: 2.2980 Acc: 0.0968\n",
      "valid Loss: 2.3026 Acc: 0.1000\n",
      "Epoch: 10/10\n",
      "**************** \n",
      "\n",
      "train Loss: 2.2980 Acc: 0.0953\n",
      "valid Loss: 2.3026 Acc: 0.1000\n",
      "Training complete in 19m 14.09978437423706s\n",
      "Best val Acc: 0.1\n"
     ]
    }
   ],
   "source": [
    "Conv2_model, Conv2_results = train_model(myCNN, criterion, optimizer, exp_lr_scheduler,num_epochs=n_epochs)"
   ]
  },
  {
   "cell_type": "code",
   "execution_count": 49,
   "metadata": {
    "id": "uv8QgqjgwB9_"
   },
   "outputs": [
    {
     "data": {
      "image/png": "[encoded data removed]",
      "text/plain": [
       "<Figure size 432x288 with 2 Axes>"
      ]
     },
     "metadata": {
      "needs_background": "light"
     },
     "output_type": "display_data"
    }
   ],
   "source": [
    "fig, axs = plt.subplots(nrows = 1, ncols = 2)\n",
    "\n",
    "for i in range(2):\n",
    "    if i == 0:\n",
    "        val = \"acc\"\n",
    "    else:\n",
    "        val = \"loss\"\n",
    "    axs[i].plot(Conv2_results[\"train\"][val])\n",
    "    axs[i].plot(Conv2_results[\"valid\"][val])"
   ]
  },
  {
   "cell_type": "markdown",
   "metadata": {
    "id": "WeKfVWZyU9Xq"
   },
   "source": [
    "## 1 Conv"
   ]
  },
  {
   "cell_type": "markdown",
   "metadata": {
    "id": "_DPvzp5jppe1"
   },
   "source": [
    "### Overfit"
   ]
  },
  {
   "cell_type": "code",
   "execution_count": 50,
   "metadata": {
    "colab": {
     "base_uri": "https://localhost:8080/",
     "height": 244
    },
    "id": "JMcr6hUpEK_5",
    "outputId": "6275d7ad-85e2-473c-e483-77100f1b5f37"
   },
   "outputs": [],
   "source": [
    "from torch.autograd import Variable\n",
    "import torch.nn.functional as F\n",
    "\n",
    "class overfit1_CNN(torch.nn.Module):\n",
    "    \n",
    "    #Our batch shape for input x is (3, 256, 256)\n",
    "    \n",
    "    def __init__(self):\n",
    "        super(overfit1_CNN, self).__init__()\n",
    "        \n",
    "        #Input channels = 3, output channels = 16\n",
    "        self.conv1 = torch.nn.Conv2d(3, 16, kernel_size=3, stride=1, padding=1)\n",
    "        self.pool1 = torch.nn.MaxPool2d(kernel_size=2, stride=2, padding=0)\n",
    "        \n",
    "        #262144 input features, 64 output features (see sizing flow below)\n",
    "        self.fc1 = torch.nn.Linear(16 * 128 * 128, 64)\n",
    "        \n",
    "        #64 input features, 10 output features for our 10 defined classes\n",
    "        self.fc2 = torch.nn.Linear(64, 10)\n",
    "        \n",
    "    def forward(self, x):\n",
    "        \n",
    "        #Computes the activation of the first convolution\n",
    "        #Size changes from (3, 256, 256) to (16, 256, 256)\n",
    "        x = F.relu(self.conv1(x))\n",
    "        #Size changes from (16, 256, 256) to (16, 128, 128)\n",
    "        x = self.pool1(x)\n",
    "\n",
    "        #Reshape data to input to the input layer of the neural net\n",
    "        #Size changes from (16, 128, 128) to (1, 262144)\n",
    "        x = x.view(-1, 16 * 128 * 128)\n",
    "        \n",
    "        #Computes the activation of the first fully connected layer\n",
    "        #Size changes from (1, 262144) to (1, 64)\n",
    "        x = F.relu(self.fc1(x))\n",
    "        \n",
    "        #Computes the second fully connected layer (activation applied later)\n",
    "        #Size changes from (1, 64) to (1, 10)\n",
    "        #x = self.norm2(x)\n",
    "        x = self.fc2(x)\n",
    "        return(x)"
   ]
  },
  {
   "cell_type": "code",
   "execution_count": 51,
   "metadata": {
    "id": "9_QsX_geJmBx"
   },
   "outputs": [
    {
     "name": "stdout",
     "output_type": "stream",
     "text": [
      "['Cezanne', 'Degas', 'Gauguin', 'Hassam', 'Matisse', 'Monet', 'Pissarro', 'Renoir', 'Sargent', 'VanGogh']\n"
     ]
    }
   ],
   "source": [
    "train_data = datasets.ImageFolder(root=train_dir, transform = transforms.ToTensor())\n",
    "val_data = datasets.ImageFolder(root=val_dir, transform = transforms.ToTensor())\n",
    "\n",
    "train_loader = data.DataLoader(train_data, batch_size=4, shuffle=True, pin_memory=True, drop_last=True)\n",
    "val_loader = data.DataLoader(val_data, batch_size=4, shuffle=True, pin_memory=True, drop_last=True)\n",
    "\n",
    "class_names = train_data.classes\n",
    "print(class_names)"
   ]
  },
  {
   "cell_type": "code",
   "execution_count": 52,
   "metadata": {
    "id": "tb-5wqO8ZJD9"
   },
   "outputs": [],
   "source": [
    "myCNN = overfit1_CNN()\n",
    "myCNN = myCNN.to(device)\n",
    "\n",
    "criterion = nn.CrossEntropyLoss()\n",
    "optimizer = optim.Adam(myCNN.parameters(), lr=0.001)\n",
    "scheduler = lr_scheduler.StepLR(optimizer, step_size=3, gamma=0.1)\n",
    "# Set number of Epochs\n",
    "n_epochs = 10"
   ]
  },
  {
   "cell_type": "code",
   "execution_count": 53,
   "metadata": {
    "colab": {
     "base_uri": "https://localhost:8080/",
     "height": 190
    },
    "id": "PByCnUxqtVJS",
    "outputId": "10027a78-0ece-409f-d6e3-e8f3633ad07f"
   },
   "outputs": [
    {
     "name": "stdout",
     "output_type": "stream",
     "text": [
      "Epoch: 1/10\n",
      "**************** \n",
      "\n",
      "train Loss: 2.3784 Acc: 0.1788\n",
      "valid Loss: 2.1825 Acc: 0.2212\n",
      "Epoch: 2/10\n",
      "**************** \n",
      "\n",
      "train Loss: 2.1111 Acc: 0.2427\n",
      "valid Loss: 2.0951 Acc: 0.2606\n",
      "Epoch: 3/10\n",
      "**************** \n",
      "\n",
      "train Loss: 2.0314 Acc: 0.2721\n",
      "valid Loss: 2.0935 Acc: 0.2444\n",
      "Epoch: 4/10\n",
      "**************** \n",
      "\n",
      "train Loss: 1.9877 Acc: 0.2909\n",
      "valid Loss: 2.0014 Acc: 0.3030\n",
      "Epoch: 5/10\n",
      "**************** \n",
      "\n",
      "train Loss: 1.9296 Acc: 0.3144\n",
      "valid Loss: 1.9921 Acc: 0.3172\n",
      "Epoch: 6/10\n",
      "**************** \n",
      "\n",
      "train Loss: 1.9263 Acc: 0.3122\n",
      "valid Loss: 1.9378 Acc: 0.3212\n",
      "Epoch: 7/10\n",
      "**************** \n",
      "\n",
      "train Loss: 1.9044 Acc: 0.3260\n",
      "valid Loss: 1.9530 Acc: 0.3313\n",
      "Epoch: 8/10\n",
      "**************** \n",
      "\n",
      "train Loss: 1.8991 Acc: 0.3285\n",
      "valid Loss: 1.9690 Acc: 0.3081\n",
      "Epoch: 9/10\n",
      "**************** \n",
      "\n",
      "train Loss: 1.8823 Acc: 0.3327\n",
      "valid Loss: 1.9057 Acc: 0.3444\n",
      "Epoch: 10/10\n",
      "**************** \n",
      "\n",
      "train Loss: 1.8602 Acc: 0.3490\n",
      "valid Loss: 1.9172 Acc: 0.3242\n",
      "Training complete in 18m 55.9312961101532s\n",
      "Best val Acc: 0.34444444444444444\n"
     ]
    }
   ],
   "source": [
    "overfit1_model, overfit1_results = train_model(myCNN, criterion, optimizer, exp_lr_scheduler,num_epochs=n_epochs)"
   ]
  },
  {
   "cell_type": "code",
   "execution_count": 54,
   "metadata": {
    "colab": {
     "base_uri": "https://localhost:8080/",
     "height": 268
    },
    "id": "N24SFBlorLrZ",
    "outputId": "ad846c5f-9c11-4cd8-bbae-9052fb01cc0d"
   },
   "outputs": [
    {
     "data": {
      "image/png": "[encoded data removed]",
      "text/plain": [
       "<Figure size 432x288 with 2 Axes>"
      ]
     },
     "metadata": {
      "needs_background": "light"
     },
     "output_type": "display_data"
    }
   ],
   "source": [
    "fig, axs = plt.subplots(nrows = 1, ncols = 2)\n",
    "\n",
    "for i in range(2):\n",
    "    if i == 0:\n",
    "        val = \"acc\"\n",
    "    else:\n",
    "        val = \"loss\"\n",
    "    axs[i].plot(overfit1_results[\"train\"][val])\n",
    "    axs[i].plot(overfit1_results[\"valid\"][val])"
   ]
  },
  {
   "cell_type": "markdown",
   "metadata": {
    "id": "u91rITcYp3Eo"
   },
   "source": [
    "### w/ Dropout"
   ]
  },
  {
   "cell_type": "code",
   "execution_count": 57,
   "metadata": {
    "id": "Dq-psfAHp5uI"
   },
   "outputs": [],
   "source": [
    "from torch.autograd import Variable\n",
    "import torch.nn.functional as F\n",
    "\n",
    "class dropout1_CNN(torch.nn.Module):\n",
    "    \n",
    "    #Our batch shape for input x is (3, 256, 256)\n",
    "    \n",
    "    def __init__(self):\n",
    "        super(dropout1_CNN, self).__init__()\n",
    "        \n",
    "        #Input channels = 3, output channels = 16\n",
    "        self.conv1 = torch.nn.Conv2d(3, 16, kernel_size=3, stride=1, padding=1)\n",
    "        self.pool1 = torch.nn.MaxPool2d(kernel_size=2, stride=2, padding=0)\n",
    "        \n",
    "        self.drop = nn.Dropout2d(p = 0.5)\n",
    "\n",
    "        #262144 input features, 64 output features (see sizing flow below)\n",
    "        self.fc1 = torch.nn.Linear(16 * 128 * 128, 64)\n",
    "        #64 input features, 10 output features for our 10 defined classes\n",
    "        self.fc2 = torch.nn.Linear(64, 10)\n",
    "        \n",
    "    def forward(self, x):\n",
    "        \n",
    "        #Computes the activation of the first convolution\n",
    "        #Size changes from (3, 256, 256) to (16, 256, 256)\n",
    "        x = F.relu(self.conv1(x))\n",
    "        #Size changes from (16, 256, 256) to (16, 128, 128)\n",
    "        x = self.pool1(x)\n",
    "\n",
    "        #Reshape data to input to the input layer of the neural net\n",
    "        #Size changes from (16, 128, 128) to (1, 262144)\n",
    "        x = x.view(-1, 16 * 128 * 128)\n",
    "        \n",
    "        #Dropout\n",
    "        x = self.drop(x)\n",
    "\n",
    "        #Computes the activation of the first fully connected layer\n",
    "        #Size changes from (1, 262144) to (1, 64)\n",
    "        x = F.relu(self.fc1(x))\n",
    "        \n",
    "        #Computes the second fully connected layer (activation applied later)\n",
    "        #Size changes from (1, 64) to (1, 10)\n",
    "        #x = self.norm2(x)\n",
    "        x = self.fc2(x)\n",
    "        return(x)"
   ]
  },
  {
   "cell_type": "code",
   "execution_count": 58,
   "metadata": {
    "id": "oCSWTi9HqLiS"
   },
   "outputs": [],
   "source": [
    "myCNN = dropout1_CNN()\n",
    "myCNN = myCNN.to(device)\n",
    "\n",
    "criterion = nn.CrossEntropyLoss()\n",
    "optimizer = optim.Adam(myCNN.parameters(), lr=0.001)\n",
    "scheduler = lr_scheduler.StepLR(optimizer, step_size=7, gamma=0.1)\n",
    "# Set number of Epochs\n",
    "n_epochs = 10"
   ]
  },
  {
   "cell_type": "code",
   "execution_count": 59,
   "metadata": {
    "colab": {
     "base_uri": "https://localhost:8080/"
    },
    "id": "wwnpFbKW7XcX",
    "outputId": "722d47ed-1060-4bcc-c604-6c6d10885dcc"
   },
   "outputs": [
    {
     "name": "stdout",
     "output_type": "stream",
     "text": [
      "Epoch: 1/10\n",
      "**************** \n",
      "\n",
      "train Loss: 2.8499 Acc: 0.1299\n",
      "valid Loss: 2.3019 Acc: 0.1141\n",
      "Epoch: 2/10\n",
      "**************** \n",
      "\n",
      "train Loss: 2.2527 Acc: 0.1464\n",
      "valid Loss: 2.2628 Acc: 0.1455\n",
      "Epoch: 3/10\n",
      "**************** \n",
      "\n",
      "train Loss: 2.2259 Acc: 0.1705\n",
      "valid Loss: 2.2192 Acc: 0.1758\n",
      "Epoch: 4/10\n",
      "**************** \n",
      "\n",
      "train Loss: 2.1822 Acc: 0.1898\n",
      "valid Loss: 2.2109 Acc: 0.1758\n",
      "Epoch: 5/10\n",
      "**************** \n",
      "\n",
      "train Loss: 2.1618 Acc: 0.2189\n",
      "valid Loss: 2.1628 Acc: 0.2333\n",
      "Epoch: 6/10\n",
      "**************** \n",
      "\n",
      "train Loss: 2.1131 Acc: 0.2289\n",
      "valid Loss: 2.1580 Acc: 0.2141\n",
      "Epoch: 7/10\n",
      "**************** \n",
      "\n",
      "train Loss: 2.0861 Acc: 0.2237\n",
      "valid Loss: 2.1023 Acc: 0.2232\n",
      "Epoch: 8/10\n",
      "**************** \n",
      "\n",
      "train Loss: 2.0811 Acc: 0.2372\n",
      "valid Loss: 2.0927 Acc: 0.2374\n",
      "Epoch: 9/10\n",
      "**************** \n",
      "\n",
      "train Loss: 2.0432 Acc: 0.2635\n",
      "valid Loss: 2.0683 Acc: 0.2232\n",
      "Epoch: 10/10\n",
      "**************** \n",
      "\n",
      "train Loss: 2.0086 Acc: 0.2733\n",
      "valid Loss: 2.0670 Acc: 0.2717\n",
      "Training complete in 19m 0.8566892147064209s\n",
      "Best val Acc: 0.2717171717171717\n"
     ]
    }
   ],
   "source": [
    "dropout1_model, dropout1_results = train_model(myCNN, criterion, optimizer, exp_lr_scheduler,num_epochs=n_epochs)"
   ]
  },
  {
   "cell_type": "code",
   "execution_count": 60,
   "metadata": {
    "colab": {
     "base_uri": "https://localhost:8080/",
     "height": 265
    },
    "id": "gFBM3lOfsVND",
    "outputId": "11a08fe4-ff51-433a-d781-09506baaa668"
   },
   "outputs": [
    {
     "data": {
      "image/png": "[encoded data removed]",
      "text/plain": [
       "<Figure size 432x288 with 2 Axes>"
      ]
     },
     "metadata": {
      "needs_background": "light"
     },
     "output_type": "display_data"
    }
   ],
   "source": [
    "fig, axs = plt.subplots(nrows = 1, ncols = 2)\n",
    "\n",
    "for i in range(2):\n",
    "    if i == 0:\n",
    "        val = \"acc\"\n",
    "    else:\n",
    "        val = \"loss\"\n",
    "    axs[i].plot(dropout1_results[\"train\"][val])\n",
    "    axs[i].plot(dropout1_results[\"valid\"][val])"
   ]
  },
  {
   "cell_type": "markdown",
   "metadata": {
    "id": "NW99LBEdUc8k"
   },
   "source": [
    "#### More Dropouts\n",
    "\n",
    "\n",
    "Checking to see if more dropouts improve the model."
   ]
  },
  {
   "cell_type": "code",
   "execution_count": 61,
   "metadata": {
    "id": "nspU9OuBUbvF"
   },
   "outputs": [],
   "source": [
    "from torch.autograd import Variable\n",
    "import torch.nn.functional as F\n",
    "\n",
    "class dropout1_CNN(torch.nn.Module):\n",
    "    \n",
    "    #Our batch shape for input x is (3, 256, 256)\n",
    "    \n",
    "    def __init__(self):\n",
    "        super(dropout1_CNN, self).__init__()\n",
    "        \n",
    "        #Input channels = 3, output channels = 16\n",
    "        self.conv1 = torch.nn.Conv2d(3, 16, kernel_size=3, stride=1, padding=1)\n",
    "        self.pool1 = torch.nn.MaxPool2d(kernel_size=2, stride=2, padding=0)\n",
    "        \n",
    "        self.drop = nn.Dropout2d(p = 0.5)\n",
    "\n",
    "        #262144 input features, 64 output features (see sizing flow below)\n",
    "        self.fc1 = torch.nn.Linear(16 * 128 * 128, 64)\n",
    "        #64 input features, 10 output features for our 10 defined classes\n",
    "        self.fc2 = torch.nn.Linear(64, 10)\n",
    "        \n",
    "    def forward(self, x):\n",
    "        \n",
    "        #Computes the activation of the first convolution\n",
    "        #Size changes from (3, 256, 256) to (16, 256, 256)\n",
    "        x = F.relu(self.conv1(x))\n",
    "        #Size changes from (16, 256, 256) to (16, 128, 128)\n",
    "        x = self.pool1(x)\n",
    "\n",
    "        #Reshape data to input to the input layer of the neural net\n",
    "        #Size changes from (16, 128, 128) to (1, 262144)\n",
    "        x = x.view(-1, 16 * 128 * 128)\n",
    "        \n",
    "\n",
    "\n",
    "        #Computes the activation of the first fully connected layer\n",
    "        #Size changes from (1, 262144) to (1, 64)\n",
    "        x = F.relu(self.fc1(x))\n",
    "        \n",
    "        #Dropout\n",
    "        x = self.drop(x)\n",
    "        #Computes the second fully connected layer (activation applied later)\n",
    "        #Size changes from (1, 64) to (1, 10)\n",
    "        #x = self.norm2(x)\n",
    "        x = self.fc2(x)\n",
    "        return(x)"
   ]
  },
  {
   "cell_type": "code",
   "execution_count": 62,
   "metadata": {
    "id": "RaAQ02qEUbvF"
   },
   "outputs": [],
   "source": [
    "myCNN = dropout1_CNN()\n",
    "myCNN = myCNN.to(device)\n",
    "\n",
    "criterion = nn.CrossEntropyLoss()\n",
    "optimizer = optim.Adam(myCNN.parameters(), lr=0.001)\n",
    "scheduler = lr_scheduler.StepLR(optimizer, step_size=7, gamma=0.1)\n",
    "# Set number of Epochs\n",
    "n_epochs = 10"
   ]
  },
  {
   "cell_type": "code",
   "execution_count": null,
   "metadata": {
    "colab": {
     "base_uri": "https://localhost:8080/"
    },
    "id": "9dynEaG9UbvH",
    "outputId": "722d47ed-1060-4bcc-c604-6c6d10885dcc"
   },
   "outputs": [
    {
     "name": "stdout",
     "output_type": "stream",
     "text": [
      "Epoch: 1/10\n",
      "**************** \n",
      "\n",
      "train Loss: 2.6403 Acc: 0.0995\n",
      "valid Loss: 2.3031 Acc: 0.1010\n",
      "Epoch: 2/10\n",
      "**************** \n",
      "\n",
      "train Loss: 2.2990 Acc: 0.0995\n",
      "valid Loss: 2.3028 Acc: 0.1010\n",
      "Epoch: 3/10\n",
      "**************** \n",
      "\n",
      "train Loss: 2.2986 Acc: 0.1001\n",
      "valid Loss: 2.3027 Acc: 0.1000\n",
      "Epoch: 4/10\n",
      "**************** \n",
      "\n",
      "train Loss: 2.2984 Acc: 0.0998\n",
      "valid Loss: 2.3026 Acc: 0.1000\n",
      "Epoch: 5/10\n",
      "**************** \n",
      "\n",
      "train Loss: 2.2984 Acc: 0.0918\n",
      "valid Loss: 2.3026 Acc: 0.1000\n",
      "Epoch: 6/10\n",
      "**************** \n",
      "\n",
      "train Loss: 2.2984 Acc: 0.0883\n",
      "valid Loss: 2.3026 Acc: 0.1000\n",
      "Epoch: 7/10\n",
      "**************** \n",
      "\n"
     ]
    }
   ],
   "source": [
    "dropout1_model, dropout1_results = train_model(myCNN, criterion, optimizer, exp_lr_scheduler,num_epochs=n_epochs)"
   ]
  },
  {
   "cell_type": "markdown",
   "metadata": {
    "id": "37KNOhg5aC4W"
   },
   "source": [
    "### w/ Batch Norm"
   ]
  },
  {
   "cell_type": "code",
   "execution_count": null,
   "metadata": {
    "id": "FBU_QjOiaE7U"
   },
   "outputs": [],
   "source": [
    "from torch.autograd import Variable\n",
    "import torch.nn.functional as F\n",
    "\n",
    "class batchnorm1_CNN(torch.nn.Module):\n",
    "    \n",
    "    #Our batch shape for input x is (3, 256, 256)\n",
    "    \n",
    "    def __init__(self):\n",
    "        super(batchnorm1_CNN, self).__init__()\n",
    "        \n",
    "        #Input channels = 3, output channels = 16\n",
    "        self.conv1 = torch.nn.Conv2d(3, 16, kernel_size=3, stride=1, padding=1)\n",
    "        self.bn2d = nn.BatchNorm2d(16)\n",
    "        self.pool1 = torch.nn.MaxPool2d(kernel_size=2, stride=2, padding=0)\n",
    "\n",
    "        #262144 input features, 64 output features (see sizing flow below)\n",
    "        self.fc1 = torch.nn.Linear(16 * 128 * 128, 64)\n",
    "\n",
    "        self.bn1d = nn.BatchNorm1d(64)\n",
    "        #64 input features, 10 output features for our 10 defined classes\n",
    "        self.fc2 = torch.nn.Linear(64, 10)\n",
    "        \n",
    "    def forward(self, x):\n",
    "        \n",
    "        #Computes the activation of the first convolution\n",
    "        #Size changes from (3, 256, 256) to (16, 256, 256)\n",
    "        x = F.relu(self.bn2d(self.conv1(x)))\n",
    "        #Size changes from (16, 256, 256) to (16, 128, 128)\n",
    "        x = self.pool1(x)\n",
    "\n",
    "        #Reshape data to input to the input layer of the neural net\n",
    "        #Size changes from (16, 128, 128) to (1, 262144)\n",
    "        x = x.view(-1, 16 * 128 * 128)\n",
    "\n",
    "        #Computes the activation of the first fully connected layer\n",
    "        #Size changes from (1, 262144) to (1, 64)\n",
    "        x = F.relu(self.bn1d(self.fc1(x)))\n",
    "        \n",
    "        #Computes the second fully connected layer (activation applied later)\n",
    "        #Size changes from (1, 64) to (1, 10)\n",
    "        #x = self.norm2(x)\n",
    "        x = self.fc2(x)\n",
    "        return(x)"
   ]
  },
  {
   "cell_type": "code",
   "execution_count": null,
   "metadata": {
    "id": "lycynAEHaE7V"
   },
   "outputs": [],
   "source": [
    "myCNN = batchnorm1_CNN()\n",
    "myCNN = myCNN.to(device)\n",
    "\n",
    "criterion = nn.CrossEntropyLoss()\n",
    "optimizer = optim.Adam(myCNN.parameters(), lr=0.001)\n",
    "scheduler = lr_scheduler.StepLR(optimizer, step_size=7, gamma=0.1)\n",
    "# Set number of Epochs\n",
    "n_epochs = 10"
   ]
  },
  {
   "cell_type": "code",
   "execution_count": null,
   "metadata": {
    "colab": {
     "base_uri": "https://localhost:8080/"
    },
    "id": "c0CifgDYaE7W",
    "outputId": "e5518ad5-63e3-42cc-da2d-9620c6ba0f27"
   },
   "outputs": [],
   "source": [
    "batchnorm1_model, batchnorm1_results= train_model(myCNN, criterion, optimizer, exp_lr_scheduler,num_epochs=n_epochs)"
   ]
  },
  {
   "cell_type": "markdown",
   "metadata": {
    "id": "vtPDv3V_T341"
   },
   "source": [
    "Even with batch normalization, it appears that the model is over-fitting worse than it did in the dropout model."
   ]
  },
  {
   "cell_type": "code",
   "execution_count": null,
   "metadata": {
    "colab": {
     "base_uri": "https://localhost:8080/",
     "height": 265
    },
    "id": "zjQG32Brsfzo",
    "outputId": "ce895186-e4a9-4c24-8a2d-dce8cf5a8f77"
   },
   "outputs": [],
   "source": [
    "fig, axs = plt.subplots(nrows = 1, ncols = 2)\n",
    "\n",
    "for i in range(2):\n",
    "    if i == 0:\n",
    "        val = \"acc\"\n",
    "    else:\n",
    "        val = \"loss\"\n",
    "    axs[i].plot(batchnorm1_results[\"train\"][val])\n",
    "    axs[i].plot(batchnorm1_results[\"valid\"][val])"
   ]
  },
  {
   "cell_type": "markdown",
   "metadata": {
    "id": "HUSMgdi5b9yb"
   },
   "source": [
    "# Test Models\n"
   ]
  },
  {
   "cell_type": "markdown",
   "metadata": {
    "id": "vQdBWofKf3jI"
   },
   "source": [
    "# Best Model\n",
    "\n",
    "Building off of the \"Baseline CNN\" architecture mentioned in [this paper from stanford](http://cs231n.stanford.edu/reports/2017/pdfs/406.pdf), our best model returned an accuracy on the validation set of ~35% after 10 epochs."
   ]
  },
  {
   "cell_type": "code",
   "execution_count": null,
   "metadata": {
    "id": "EiVUlBKzervO"
   },
   "outputs": [],
   "source": [
    "from torch.autograd import Variable\n",
    "import torch.nn.functional as F\n",
    "\n",
    "class best_CNN(torch.nn.Module):\n",
    "    \n",
    "    #Our batch shape for input x is (3, 256, 256)\n",
    "    \n",
    "    def __init__(self):\n",
    "        super(best_CNN, self).__init__()\n",
    "        \n",
    "        #Input channels = 3, output channels = 16\n",
    "        self.conv1 = torch.nn.Conv2d(3, 32, kernel_size=3, stride=2, padding=1)\n",
    "        self.pool1 = torch.nn.MaxPool2d(kernel_size=2, stride=2, padding=0)\n",
    "        \n",
    "        self.conv2 = torch.nn.Conv2d(32, 32, kernel_size=3, stride=2, padding=1)\n",
    "        self.bn2d = nn.BatchNorm2d(32)\n",
    "        self.pool2 = torch.nn.MaxPool2d(kernel_size=2, stride=2, padding=0)\n",
    "    \n",
    "\n",
    "        self.fc1 = torch.nn.Linear(32 * 16 * 16, 256)\n",
    "        self.bn1d = nn.BatchNorm1d(256)\n",
    "        self.fc2 = torch.nn.Linear(256, 10)\n",
    "        \n",
    "    def forward(self, x):\n",
    "        \n",
    "        #Computes the activation of the first convolution\n",
    "        # 3 -> 16 Channels\n",
    "        x = F.relu(self.conv1(x))\n",
    "        #Size changes from (16, 256, 256) to (16, 128, 128)\n",
    "        x = self.pool1(x)\n",
    "\n",
    "        # 16 -> 32 Channels\n",
    "        x = F.relu(self.bn2d(self.conv2(x)))\n",
    "        #Size changes from (32, 128, 128) to (32, 64, 64)\n",
    "        x = self.pool2(x)\n",
    "\n",
    "        #Reshape data to input to the input layer of the neural net\n",
    "        #Size changes from (32, 64, 64) to (1, 131072)\n",
    "        x = x.view(-1, 32 * 16 * 16)\n",
    "        \n",
    "        #Computes the activation of the first fully connected layer\n",
    "        #Size changes from (1, 131072) to (1, 64)\n",
    "        x = F.relu(self.bn1d(self.fc1(x)))\n",
    "        #Size changes from (1, 64) to (1, 10)\n",
    "        x = self.fc2(x)\n",
    "        return(x)"
   ]
  },
  {
   "cell_type": "code",
   "execution_count": null,
   "metadata": {
    "id": "_6Yg8U9Beuc5"
   },
   "outputs": [],
   "source": [
    "myCNN = best_CNN()\n",
    "myCNN = myCNN.to(device)\n",
    "\n",
    "criterion = nn.CrossEntropyLoss()\n",
    "optimizer = optim.Adam(myCNN.parameters(), lr=0.001)\n",
    "exp_lr_scheduler= lr_scheduler.StepLR(optimizer, step_size=3, gamma=0.1)\n",
    "# Set number of Epochs\n",
    "n_epochs = 10"
   ]
  },
  {
   "cell_type": "code",
   "execution_count": null,
   "metadata": {
    "colab": {
     "base_uri": "https://localhost:8080/"
    },
    "id": "nJoLPrCneuc7",
    "outputId": "ca06a8f6-1438-4708-fca3-47314c4042e0"
   },
   "outputs": [],
   "source": [
    "best_model, best_results = train_model(myCNN, criterion, optimizer, exp_lr_scheduler,num_epochs=n_epochs)"
   ]
  },
  {
   "cell_type": "code",
   "execution_count": null,
   "metadata": {
    "colab": {
     "base_uri": "https://localhost:8080/",
     "height": 268
    },
    "id": "2xcGcGi5s018",
    "outputId": "9434f108-a053-47b6-e88a-ce996c2346ee"
   },
   "outputs": [],
   "source": [
    "fig, axs = plt.subplots(nrows = 1, ncols = 2)\n",
    "\n",
    "for i in range(2):\n",
    "    if i == 0:\n",
    "        val = \"acc\"\n",
    "    else:\n",
    "        val = \"loss\"\n",
    "    axs[i].plot(best_results[\"train\"][val])\n",
    "    axs[i].plot(best_results[\"valid\"][val])"
   ]
  },
  {
   "cell_type": "code",
   "execution_count": null,
   "metadata": {
    "colab": {
     "base_uri": "https://localhost:8080/",
     "height": 244
    },
    "id": "tlYyWj2eVoEl",
    "outputId": "5070a8bf-2fc3-41eb-a17d-f115f64c6cb3"
   },
   "outputs": [],
   "source": [
    "nb_classes = 10\n",
    "\n",
    "confusion_matrix = torch.zeros(nb_classes, nb_classes)\n",
    "with torch.no_grad():\n",
    "    for i, (inputs, classes) in enumerate(dataloaders['valid']):\n",
    "        inputs = inputs.to(device)\n",
    "        classes = classes.to(device)\n",
    "        outputs = best_model(inputs)\n",
    "        _, preds = torch.max(outputs, 1)\n",
    "        for t, p in zip(classes.view(-1), preds.view(-1)):\n",
    "                confusion_matrix[t.long(), p.long()] += 1\n",
    "\n",
    "print(confusion_matrix)"
   ]
  },
  {
   "cell_type": "code",
   "execution_count": null,
   "metadata": {},
   "outputs": [],
   "source": []
  }
 ],
 "metadata": {
  "accelerator": "GPU",
  "colab": {
   "collapsed_sections": [],
   "name": "ClassifyImpressionists.ipynb",
   "provenance": [],
   "toc_visible": true
  },
  "kernelspec": {
   "display_name": "Python 3",
   "language": "python",
   "name": "python3"
  },
  "language_info": {
   "codemirror_mode": {
    "name": "ipython",
    "version": 3
   },
   "file_extension": ".py",
   "mimetype": "text/x-python",
   "name": "python",
   "nbconvert_exporter": "python",
   "pygments_lexer": "ipython3",
   "version": "3.8.8"
  },
  "widgets": {
   "application/vnd.jupyter.widget-state+json": {
    "0512984f92434a4dbb2815f8b032c851": {
     "model_module": "@jupyter-widgets/controls",
     "model_name": "HBoxModel",
     "state": {
      "_dom_classes": [],
      "_model_module": "@jupyter-widgets/controls",
      "_model_module_version": "1.5.0",
      "_model_name": "HBoxModel",
      "_view_count": null,
      "_view_module": "@jupyter-widgets/controls",
      "_view_module_version": "1.5.0",
      "_view_name": "HBoxView",
      "box_style": "",
      "children": [
       "IPY_MODEL_84829db16dff4a7392dd565d404d639d",
       "IPY_MODEL_bd114cccdc3b47a19e0352b7f674e82c"
      ],
      "layout": "IPY_MODEL_ffd6fe5dcbfd47aeaf32d647345ff7ac"
     }
    },
    "1a83172f81df46c8b51fa8d11bd4f558": {
     "model_module": "@jupyter-widgets/controls",
     "model_name": "DescriptionStyleModel",
     "state": {
      "_model_module": "@jupyter-widgets/controls",
      "_model_module_version": "1.5.0",
      "_model_name": "DescriptionStyleModel",
      "_view_count": null,
      "_view_module": "@jupyter-widgets/base",
      "_view_module_version": "1.2.0",
      "_view_name": "StyleView",
      "description_width": ""
     }
    },
    "38ce881d0dd242c19a05c44740cf2c48": {
     "model_module": "@jupyter-widgets/base",
     "model_name": "LayoutModel",
     "state": {
      "_model_module": "@jupyter-widgets/base",
      "_model_module_version": "1.2.0",
      "_model_name": "LayoutModel",
      "_view_count": null,
      "_view_module": "@jupyter-widgets/base",
      "_view_module_version": "1.2.0",
      "_view_name": "LayoutView",
      "align_content": null,
      "align_items": null,
      "align_self": null,
      "border": null,
      "bottom": null,
      "display": null,
      "flex": null,
      "flex_flow": null,
      "grid_area": null,
      "grid_auto_columns": null,
      "grid_auto_flow": null,
      "grid_auto_rows": null,
      "grid_column": null,
      "grid_gap": null,
      "grid_row": null,
      "grid_template_areas": null,
      "grid_template_columns": null,
      "grid_template_rows": null,
      "height": null,
      "justify_content": null,
      "justify_items": null,
      "left": null,
      "margin": null,
      "max_height": null,
      "max_width": null,
      "min_height": null,
      "min_width": null,
      "object_fit": null,
      "object_position": null,
      "order": null,
      "overflow": null,
      "overflow_x": null,
      "overflow_y": null,
      "padding": null,
      "right": null,
      "top": null,
      "visibility": null,
      "width": null
     }
    },
    "692395ae90894868b030ac3e45a6c66f": {
     "model_module": "@jupyter-widgets/base",
     "model_name": "LayoutModel",
     "state": {
      "_model_module": "@jupyter-widgets/base",
      "_model_module_version": "1.2.0",
      "_model_name": "LayoutModel",
      "_view_count": null,
      "_view_module": "@jupyter-widgets/base",
      "_view_module_version": "1.2.0",
      "_view_name": "LayoutView",
      "align_content": null,
      "align_items": null,
      "align_self": null,
      "border": null,
      "bottom": null,
      "display": null,
      "flex": null,
      "flex_flow": null,
      "grid_area": null,
      "grid_auto_columns": null,
      "grid_auto_flow": null,
      "grid_auto_rows": null,
      "grid_column": null,
      "grid_gap": null,
      "grid_row": null,
      "grid_template_areas": null,
      "grid_template_columns": null,
      "grid_template_rows": null,
      "height": null,
      "justify_content": null,
      "justify_items": null,
      "left": null,
      "margin": null,
      "max_height": null,
      "max_width": null,
      "min_height": null,
      "min_width": null,
      "object_fit": null,
      "object_position": null,
      "order": null,
      "overflow": null,
      "overflow_x": null,
      "overflow_y": null,
      "padding": null,
      "right": null,
      "top": null,
      "visibility": null,
      "width": null
     }
    },
    "799e6a46ff564f099e60f531f4359918": {
     "model_module": "@jupyter-widgets/controls",
     "model_name": "ProgressStyleModel",
     "state": {
      "_model_module": "@jupyter-widgets/controls",
      "_model_module_version": "1.5.0",
      "_model_name": "ProgressStyleModel",
      "_view_count": null,
      "_view_module": "@jupyter-widgets/base",
      "_view_module_version": "1.2.0",
      "_view_name": "StyleView",
      "bar_color": null,
      "description_width": "initial"
     }
    },
    "84829db16dff4a7392dd565d404d639d": {
     "model_module": "@jupyter-widgets/controls",
     "model_name": "FloatProgressModel",
     "state": {
      "_dom_classes": [],
      "_model_module": "@jupyter-widgets/controls",
      "_model_module_version": "1.5.0",
      "_model_name": "FloatProgressModel",
      "_view_count": null,
      "_view_module": "@jupyter-widgets/controls",
      "_view_module_version": "1.5.0",
      "_view_name": "ProgressView",
      "bar_style": "success",
      "description": "100%",
      "description_tooltip": null,
      "layout": "IPY_MODEL_38ce881d0dd242c19a05c44740cf2c48",
      "max": 46827520,
      "min": 0,
      "orientation": "horizontal",
      "style": "IPY_MODEL_799e6a46ff564f099e60f531f4359918",
      "value": 46827520
     }
    },
    "bd114cccdc3b47a19e0352b7f674e82c": {
     "model_module": "@jupyter-widgets/controls",
     "model_name": "HTMLModel",
     "state": {
      "_dom_classes": [],
      "_model_module": "@jupyter-widgets/controls",
      "_model_module_version": "1.5.0",
      "_model_name": "HTMLModel",
      "_view_count": null,
      "_view_module": "@jupyter-widgets/controls",
      "_view_module_version": "1.5.0",
      "_view_name": "HTMLView",
      "description": "",
      "description_tooltip": null,
      "layout": "IPY_MODEL_692395ae90894868b030ac3e45a6c66f",
      "placeholder": "​",
      "style": "IPY_MODEL_1a83172f81df46c8b51fa8d11bd4f558",
      "value": " 44.7M/44.7M [06:28&lt;00:00, 120kB/s]"
     }
    },
    "ffd6fe5dcbfd47aeaf32d647345ff7ac": {
     "model_module": "@jupyter-widgets/base",
     "model_name": "LayoutModel",
     "state": {
      "_model_module": "@jupyter-widgets/base",
      "_model_module_version": "1.2.0",
      "_model_name": "LayoutModel",
      "_view_count": null,
      "_view_module": "@jupyter-widgets/base",
      "_view_module_version": "1.2.0",
      "_view_name": "LayoutView",
      "align_content": null,
      "align_items": null,
      "align_self": null,
      "border": null,
      "bottom": null,
      "display": null,
      "flex": null,
      "flex_flow": null,
      "grid_area": null,
      "grid_auto_columns": null,
      "grid_auto_flow": null,
      "grid_auto_rows": null,
      "grid_column": null,
      "grid_gap": null,
      "grid_row": null,
      "grid_template_areas": null,
      "grid_template_columns": null,
      "grid_template_rows": null,
      "height": null,
      "justify_content": null,
      "justify_items": null,
      "left": null,
      "margin": null,
      "max_height": null,
      "max_width": null,
      "min_height": null,
      "min_width": null,
      "object_fit": null,
      "object_position": null,
      "order": null,
      "overflow": null,
      "overflow_x": null,
      "overflow_y": null,
      "padding": null,
      "right": null,
      "top": null,
      "visibility": null,
      "width": null
     }
    }
   }
  }
 },
 "nbformat": 4,
 "nbformat_minor": 1
}
