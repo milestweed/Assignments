{
 "cells": [
  {
   "cell_type": "code",
   "execution_count": 48,
   "metadata": {
    "colab": {
     "base_uri": "https://localhost:8080/"
    },
    "id": "zCtC9h6wo31v",
    "outputId": "40bb3d5d-4cf3-4d1a-eeb9-8c720f74285a"
   },
   "outputs": [
    {
     "name": "stdout",
     "output_type": "stream",
     "text": [
      "/content\n"
     ]
    },
    {
     "data": {
      "text/plain": [
       "<torch._C.Generator at 0x7f4704e5df70>"
      ]
     },
     "execution_count": 48,
     "metadata": {
      "tags": []
     },
     "output_type": "execute_result"
    }
   ],
   "source": [
    "import os\n",
    "import torch\n",
    "import torchvision\n",
    "from torchvision import datasets, models, transforms\n",
    "import torch.utils.data as data\n",
    "import torch.nn as nn\n",
    "import torch.optim as optim\n",
    "from torch.optim import lr_scheduler\n",
    "import time, os, copy, argparse\n",
    "from matplotlib import pyplot as plt\n",
    "from torchvision import transforms\n",
    "print(os.getcwd())\n",
    "\n",
    "device = torch.device(\"cuda:0\" if torch.cuda.is_available() else \"cpu\")\n",
    "device\n",
    "\n",
    "torch.manual_seed(1)"
   ]
  },
  {
   "cell_type": "markdown",
   "metadata": {
    "id": "spCd62FzPD_W"
   },
   "source": [
    "# Introduction"
   ]
  },
  {
   "cell_type": "markdown",
   "metadata": {
    "id": "YAw88Rn2Nz29"
   },
   "source": [
    "The task for this assignment was to construct a convolutional neural network that could classify impressionist paintings with respect to their artists. The goal was to train a model that acquire roughly ~50% accuracy. \n",
    "\n",
    "As an initial frame for this assignment, we chose to apply transfer learning procedures so as to familiarize ourselves with the method and the power that comes with using a \"headless\" pre-trained network. In this we tested the efficacy of the `resnet18` and `inception` models.\n",
    "\n",
    "For our custom models, we chose to evaluate different model architectures and variations on the structures such as dropout and batch-normalization. The models and their corresponding architectures are outlined below\n",
    "\n",
    "- Initial Model\n",
    "    - 2 Convolutional Layers\n",
    "        - 16 channels, 3x3 kernel, 1 stride, 1 padding\n",
    "        - 32 channels, 3x3 kernel, 1 stride, 1 padding\n",
    "    - 2 Max-pooling layers\n",
    "        - 2x2\n",
    "    - 2 Fully Connected Layers\n",
    "- Overfit Model\n",
    "    - 1 Convolutional Layer \n",
    "        - 16 channels, 3x3 kernel, 1 stride, 1 padding\n",
    "    - 1 Max pooling layer \n",
    "        - 2x2\n",
    "    - 2 Fully Connected Layers\n",
    "- Dropout Model\n",
    "    - 1 Convolutional Layer \n",
    "        - 16 channels, 3x3 kernel, 1 stride, 1 padding\n",
    "    - 1 Max pooling layer \n",
    "        - 2x2\n",
    "    - 1 Dropout layer\n",
    "    - 2 Fully Connected Layers\n",
    "\n",
    "For all these models we chose to use the `Adam` optimizer with a learning rate of 0.001\n",
    "\n",
    "Note: We end up just applying a bunch of different architectures to see what sitcks"
   ]
  },
  {
   "cell_type": "code",
   "execution_count": 49,
   "metadata": {
    "colab": {
     "base_uri": "https://localhost:8080/"
    },
    "id": "cxrWfak4q_FT",
    "outputId": "25215bb1-d8d6-4403-f2aa-861ced4d8d36"
   },
   "outputs": [
    {
     "name": "stdout",
     "output_type": "stream",
     "text": [
      "Drive already mounted at /content/drive; to attempt to forcibly remount, call drive.mount(\"/content/drive\", force_remount=True).\n"
     ]
    }
   ],
   "source": [
    "from google.colab import drive\n",
    "drive.mount('/content/drive')"
   ]
  },
  {
   "cell_type": "code",
   "execution_count": 50,
   "metadata": {
    "id": "eKs0PQWRpE0a"
   },
   "outputs": [],
   "source": [
    "train_dir = \"drive/Shareddrives/impressionists/256x256/training/\"\n",
    "val_dir = \"drive/Shareddrives/impressionists/256x256/validation/\""
   ]
  },
  {
   "cell_type": "markdown",
   "metadata": {
    "id": "m3NXmbLsNtyq"
   },
   "source": [
    "# Transfer Learning\n",
    "\n"
   ]
  },
  {
   "cell_type": "markdown",
   "metadata": {
    "id": "koGymH2ou1ZJ"
   },
   "source": [
    "## Res-Net 18"
   ]
  },
  {
   "cell_type": "code",
   "execution_count": 51,
   "metadata": {
    "colab": {
     "base_uri": "https://localhost:8080/"
    },
    "id": "8H2FQN2LpGK_",
    "outputId": "d5927e94-a175-49e8-82b1-c2a873c8b6ea"
   },
   "outputs": [
    {
     "name": "stdout",
     "output_type": "stream",
     "text": [
      "['Cezanne', 'Degas', 'Gauguin', 'Hassam', 'Matisse', 'Monet', 'Pissarro', 'Renoir', 'Sargent', 'VanGogh']\n"
     ]
    }
   ],
   "source": [
    "train_data = datasets.ImageFolder(root=train_dir, transform = transforms.ToTensor())\n",
    "val_data = datasets.ImageFolder(root=val_dir, transform = transforms.ToTensor())\n",
    "\n",
    "train_loader = data.DataLoader(train_data, batch_size=4, shuffle=True, pin_memory=True, drop_last=True)\n",
    "val_loader = data.DataLoader(val_data, batch_size=4, shuffle=True, pin_memory=True, drop_last=True)\n",
    "\n",
    "class_names = train_data.classes\n",
    "print(class_names)"
   ]
  },
  {
   "cell_type": "code",
   "execution_count": 52,
   "metadata": {
    "colab": {
     "base_uri": "https://localhost:8080/"
    },
    "id": "au6xIZi4pLnN",
    "outputId": "eaf9b3a2-0ba2-4aa4-b17e-87ab35fdf89e"
   },
   "outputs": [
    {
     "name": "stdout",
     "output_type": "stream",
     "text": [
      "512\n"
     ]
    }
   ],
   "source": [
    "# Get pre-trained model\n",
    "model_rn18 = models.resnet18(pretrained=True)\n",
    "\n",
    "#Get input for new fully connected layer\n",
    "n_ftrs = model_rn18.fc.in_features\n",
    "# set fully connected layers to \n",
    "model_rn18.fc = nn.Linear(n_ftrs,len(class_names))\n",
    "print(n_ftrs)\n",
    "\n",
    "model_rn18 = model_rn18.to(device)"
   ]
  },
  {
   "cell_type": "code",
   "execution_count": 53,
   "metadata": {
    "id": "VvCT38nKpN4F"
   },
   "outputs": [],
   "source": [
    "criterion = nn.CrossEntropyLoss()\n",
    "optimizer = optim.SGD(model_rn18.parameters(), lr=0.001, momentum=0.95)\n",
    "scheduler = lr_scheduler.StepLR(optimizer, step_size=7, gamma=0.1)\n",
    "\n",
    "# Set number of Epochs\n",
    "n_epochs = 10"
   ]
  },
  {
   "cell_type": "code",
   "execution_count": 54,
   "metadata": {
    "colab": {
     "base_uri": "https://localhost:8080/"
    },
    "id": "LIgUYqWHpP8y",
    "outputId": "d4057d32-eed2-41d7-ef45-6c84bd92766d"
   },
   "outputs": [
    {
     "name": "stdout",
     "output_type": "stream",
     "text": [
      "0\n",
      "Training: \n",
      " 0 Loss: 1.6083 Acc: 0.2044\n",
      "Validation: \n",
      " 0 Loss: 1.5638 Acc: 0.2795\n",
      "1\n",
      "Training: \n",
      " 1 Loss: 1.4917 Acc: 0.3265\n",
      "Validation: \n",
      " 1 Loss: 1.5071 Acc: 0.3418\n",
      "2\n",
      "Training: \n",
      " 2 Loss: 1.4348 Acc: 0.4065\n",
      "Validation: \n",
      " 2 Loss: 1.3872 Acc: 0.4865\n",
      "3\n",
      "Training: \n",
      " 3 Loss: 1.3987 Acc: 0.4694\n",
      "Validation: \n",
      " 3 Loss: 1.4425 Acc: 0.4512\n",
      "4\n",
      "Training: \n",
      " 4 Loss: 1.3665 Acc: 0.5060\n",
      "Validation: \n",
      " 4 Loss: 1.3840 Acc: 0.4899\n",
      "5\n",
      "Training: \n",
      " 5 Loss: 1.3261 Acc: 0.5692\n",
      "Validation: \n",
      " 5 Loss: 1.4259 Acc: 0.4630\n",
      "6\n",
      "Training: \n",
      " 6 Loss: 1.2952 Acc: 0.6041\n",
      "Validation: \n",
      " 6 Loss: 1.3521 Acc: 0.5707\n",
      "7\n",
      "Training: \n",
      " 7 Loss: 1.1659 Acc: 0.7854\n",
      "Validation: \n",
      " 7 Loss: 1.2950 Acc: 0.6313\n",
      "8\n",
      "Training: \n",
      " 8 Loss: 1.1322 Acc: 0.8340\n",
      "Validation: \n",
      " 8 Loss: 1.3052 Acc: 0.6330\n",
      "9\n",
      "Training: \n",
      " 9 Loss: 1.1121 Acc: 0.8551\n",
      "Validation: \n",
      " 9 Loss: 1.3647 Acc: 0.6061\n"
     ]
    }
   ],
   "source": [
    "phase = 'training'\n",
    "\n",
    "best_model_wts = copy.deepcopy(model_rn18.state_dict())\n",
    "best_acc = 0\n",
    "\n",
    "for epoch in range(n_epochs):\n",
    "  phase = 'training'\n",
    "  print(epoch)\n",
    "  run_loss = 0\n",
    "  run_corr = 0\n",
    "  model_rn18.train()\n",
    "  for inputs, labels in train_loader:\n",
    "    inputs = inputs.to(device)\n",
    "    labels = labels.to(device)\n",
    "    optimizer.zero_grad()\n",
    "    with torch.set_grad_enabled(True):\n",
    "      outputs = model_rn18(inputs)\n",
    "      _, preds = torch.max(outputs, 1)\n",
    "      loss = criterion(outputs, labels)\n",
    "        \n",
    "      loss.backward()\n",
    "      optimizer.step()\n",
    "        \n",
    "    run_loss += loss.item() + inputs.size(0)\n",
    "    run_corr += torch.sum(preds == labels.data)\n",
    "\n",
    "  scheduler.step()\n",
    "  \n",
    "  epoch_loss = run_loss / len(train_data)\n",
    "  epoch_acc = run_corr.double() / len(train_data)\n",
    "  print('Training: \\n {} Loss: {:.4f} Acc: {:.4f}'.format(epoch, epoch_loss, epoch_acc))\n",
    "\n",
    "  phase = 'validation'\n",
    "  run_loss = 0\n",
    "  run_corr = 0\n",
    "  model_rn18.eval()\n",
    "  for inputs, labels in val_loader:\n",
    "    inputs = inputs.to(device)\n",
    "    labels = labels.to(device)\n",
    "    optimizer.zero_grad()\n",
    "    with torch.set_grad_enabled(False):\n",
    "      outputs = model_rn18(inputs)\n",
    "      _, preds = torch.max(outputs, 1)\n",
    "      loss = criterion(outputs, labels)\n",
    "              \n",
    "    run_loss += loss.item() + inputs.size(0)\n",
    "    run_corr += torch.sum(preds == labels.data)\n",
    "\n",
    "  epoch_loss = run_loss / len(val_data)\n",
    "  epoch_acc = run_corr.double() / len(val_data)\n",
    "\n",
    "  if epoch_acc > best_acc:\n",
    "    best_acc = epoch_acc\n",
    "    best_model_wts = copy.deepcopy(model_rn18.state_dict())\n",
    "  \n",
    "  print('Validation: \\n {} Loss: {:.4f} Acc: {:.4f}'.format(epoch, epoch_loss, epoch_acc))\n",
    "\n",
    "torch.save(model_rn18, 'rn18_nonnormalized.pt')"
   ]
  },
  {
   "cell_type": "markdown",
   "metadata": {
    "id": "g5Dvuoj0H4Ii"
   },
   "source": []
  },
  {
   "cell_type": "code",
   "execution_count": 55,
   "metadata": {
    "id": "2SIHNrw2IRW9"
   },
   "outputs": [],
   "source": [
    "image_transforms = { \n",
    "    'train': transforms.Compose([\n",
    "        transforms.ToTensor()\n",
    "    ]),\n",
    "    'valid': transforms.Compose([\n",
    "        transforms.ToTensor(),\n",
    "        #transforms.Normalize([0.485, 0.456, 0.406],\n",
    "        #                     [0.229, 0.224, 0.225])\n",
    "    ])\n",
    "}"
   ]
  },
  {
   "cell_type": "code",
   "execution_count": 56,
   "metadata": {
    "id": "ZHKSeOwMH5fd"
   },
   "outputs": [],
   "source": [
    "# Load data from folders\n",
    "dataset = {\n",
    "    'train': datasets.ImageFolder(root=train_dir, transform=image_transforms['train']),\n",
    "    'valid': datasets.ImageFolder(root=val_dir, transform=image_transforms['valid'])\n",
    "}\n",
    "  \n",
    "# Size of train and validation data\n",
    "dataset_sizes = {\n",
    "    'train':len(dataset['train']),\n",
    "    'valid':len(dataset['valid'])\n",
    "}"
   ]
  },
  {
   "cell_type": "code",
   "execution_count": 57,
   "metadata": {
    "colab": {
     "base_uri": "https://localhost:8080/"
    },
    "id": "AgZAd47BIF5X",
    "outputId": "c015e4d5-4082-40ce-8e18-06a898f3060a"
   },
   "outputs": [
    {
     "name": "stdout",
     "output_type": "stream",
     "text": [
      "Classes: ['Cezanne', 'Degas', 'Gauguin', 'Hassam', 'Matisse', 'Monet', 'Pissarro', 'Renoir', 'Sargent', 'VanGogh']\n",
      "Training-set size: 3988 \n",
      "Validation-set size: 594\n"
     ]
    }
   ],
   "source": [
    "dataloaders = {\n",
    "    'train':data.DataLoader(dataset['train'], batch_size=10, shuffle=True, pin_memory=True, drop_last=True),\n",
    "    'valid':data.DataLoader(dataset['valid'], batch_size=10, shuffle=True, pin_memory=True, drop_last=True)\n",
    "}\n",
    " \n",
    "# Class names or target labels\n",
    "class_names = dataset['train'].classes\n",
    "print(\"Classes:\", class_names)\n",
    "  \n",
    "# Print the train and validation data sizes\n",
    "print(\"Training-set size:\",dataset_sizes['train'],\n",
    "      \"\\nValidation-set size:\", dataset_sizes['valid'])\n",
    " \n",
    "# Set default device as gpu, if available\n",
    "device = torch.device(\"cuda:0\" if torch.cuda.is_available() else \"cpu\")"
   ]
  },
  {
   "cell_type": "code",
   "execution_count": 58,
   "metadata": {
    "id": "3RkD_tPeItB2"
   },
   "outputs": [],
   "source": [
    "def train_model(model, criterion, optimizer, scheduler, num_epochs=10):\n",
    "    since = time.time()\n",
    "    best_model_wts = copy.deepcopy(model.state_dict())\n",
    "    best_acc = 0.0\n",
    "    \n",
    "    #Epoch Results\n",
    "    results = {\"train\": {\"loss\" : [], \"acc\": []},\\\n",
    "               \"valid\": {\"loss\" : [], \"acc\": []}}\n",
    "     \n",
    "    for epoch in range(num_epochs):\n",
    "        print(f'Epoch: {epoch + 1}/{n_epochs}')\n",
    "        print('**' * 8, '\\n')\n",
    "\n",
    "        #iterate through phases during each epoch\n",
    "        for phase in ['train', 'valid']:\n",
    "            if phase == 'train':\n",
    "                model.train()  \n",
    "            else:\n",
    "                model.eval()  \n",
    "            running_loss = 0.0\n",
    "            running_corrects = 0\n",
    " \n",
    "            #iterate through images in phase\n",
    "            for inputs, labels in dataloaders[phase]:\n",
    "                inputs, labels = inputs.to(device), labels.to(device)\n",
    " \n",
    "                #zero parameter gradients\n",
    "                optimizer.zero_grad()\n",
    " \n",
    "                with torch.set_grad_enabled(phase == 'train'): #enable auto_grad if training, disable if validating\n",
    "                    outputs = model(inputs)\n",
    "                    _, preds = torch.max(outputs, 1)\n",
    "                    loss = criterion(outputs, labels)\n",
    " \n",
    "                    if phase == 'train': #Back-propogate and modify if training\n",
    "                        loss.backward()\n",
    "                        optimizer.step()\n",
    "\n",
    "                #track loss and accuracy\n",
    "                running_loss += loss.item() * inputs.size(0)\n",
    "                running_corrects += torch.sum(preds == labels.data)\n",
    "            \n",
    "            if phase == 'train': # Adjust learning rate if training\n",
    "                scheduler.step()\n",
    "            \n",
    "            epoch_loss = running_loss / dataset_sizes[phase]\n",
    "            epoch_acc = running_corrects.double() / dataset_sizes[phase]\n",
    "            print('{} Loss: {:.4f} Acc: {:.4f}'.format(phase, epoch_loss, epoch_acc))\n",
    " \n",
    "# Record training loss and accuracy for each phase\n",
    "            results[phase][\"loss\"].append(epoch_loss)\n",
    "            results[phase][\"acc\"].append(epoch_acc)\n",
    " \n",
    "# deep copy the model\n",
    "            if phase == 'valid' and epoch_acc > best_acc:\n",
    "                best_acc = epoch_acc\n",
    "                best_model_wts = copy.deepcopy(model.state_dict())\n",
    "            \n",
    "    time_elapsed = time.time() - since\n",
    "    print(f'Training complete in {round(time_elapsed // 60)}m {time_elapsed % 60}s')\n",
    "    print(f'Best val Acc: {best_acc}')\n",
    " \n",
    "# load best model weights\n",
    "    model.load_state_dict(best_model_wts)\n",
    "    return model, results\n"
   ]
  },
  {
   "cell_type": "markdown",
   "metadata": {
    "id": "bM0JnYppDzgO"
   },
   "source": [
    "# Custom Models\n",
    "https://algorithmia.com/blog/convolutional-neural-nets-in-pytorch"
   ]
  },
  {
   "cell_type": "markdown",
   "metadata": {
    "id": "KNERIv_IUzbU"
   },
   "source": [
    "## 2 Conv w/ 2 Linear FC Layers"
   ]
  },
  {
   "cell_type": "markdown",
   "metadata": {
    "id": "3dp-lqPPwHf6"
   },
   "source": [
    "### Overfit"
   ]
  },
  {
   "cell_type": "code",
   "execution_count": 59,
   "metadata": {
    "id": "Oip4ubrhJP02"
   },
   "outputs": [],
   "source": [
    "from torch.autograd import Variable\n",
    "import torch.nn.functional as F\n",
    "\n",
    "class overfit2_CNN(torch.nn.Module):\n",
    "    \n",
    "    #Our batch shape for input x is (3, 256, 256)\n",
    "    \n",
    "    def __init__(self):\n",
    "        super(overfit2_CNN, self).__init__()\n",
    "        \n",
    "        #Input channels = 3, output channels = 16\n",
    "        self.conv1 = torch.nn.Conv2d(3, 16, kernel_size=3, stride=1, padding=1)\n",
    "        self.pool1 = torch.nn.MaxPool2d(kernel_size=2, stride=2, padding=0)\n",
    "        \n",
    "        self.conv2 = torch.nn.Conv2d(16, 32, kernel_size=3, stride=1, padding=1)\n",
    "        self.pool2 = torch.nn.MaxPool2d(kernel_size=2, stride=2, padding=0)\n",
    "    \n",
    "        self.fc1 = torch.nn.Linear(32 * 64 * 64, 64)\n",
    "        self.fc2 = torch.nn.Linear(64, 10)\n",
    "        \n",
    "    def forward(self, x):\n",
    "        \n",
    "        #Computes the activation of the first convolution\n",
    "        # 3 -> 16 Channels\n",
    "        x = F.relu(self.conv1(x))\n",
    "        #Size changes from (16, 256, 256) to (16, 128, 128)\n",
    "        x = self.pool1(x)\n",
    "\n",
    "\n",
    "        # 16 -> 32 Channels\n",
    "        x = F.relu(self.conv2(x))\n",
    "        #Size changes from (32, 128, 128) to (32, 64, 64)\n",
    "        x = self.pool2(x)\n",
    "\n",
    "        #Reshape data to input to the input layer of the neural net\n",
    "        #Size changes from (32, 64, 64) to (1, 131072)\n",
    "        x = x.view(-1, 32 * 64 * 64)\n",
    "        \n",
    "        #Computes the activation of the first fully connected layer\n",
    "        #Size changes from (1, 131072) to (1, 64)\n",
    "        x = F.relu(self.fc1(x))\n",
    "        #Size changes from (1, 64) to (1, 10)\n",
    "        x = self.fc2(x)\n",
    "        return(x)"
   ]
  },
  {
   "cell_type": "code",
   "execution_count": 60,
   "metadata": {
    "id": "U1Eh1w1NIZpq"
   },
   "outputs": [],
   "source": [
    "myCNN = overfit2_CNN()\n",
    "myCNN = myCNN.to(device)\n",
    "\n",
    "criterion = nn.CrossEntropyLoss()\n",
    "optimizer = optim.Adam(myCNN.parameters(), lr=0.001)\n",
    "exp_lr_scheduler= lr_scheduler.StepLR(optimizer, step_size=3, gamma=0.1)\n",
    "# Set number of Epochs\n",
    "n_epochs = 10"
   ]
  },
  {
   "cell_type": "code",
   "execution_count": 61,
   "metadata": {
    "colab": {
     "base_uri": "https://localhost:8080/"
    },
    "id": "HJ6b-T4ttCj7",
    "outputId": "7586eb92-53d9-41c5-80bc-975e3711777a"
   },
   "outputs": [
    {
     "name": "stdout",
     "output_type": "stream",
     "text": [
      "Epoch: 1/10\n",
      "**************** \n",
      "\n",
      "train Loss: 2.2228 Acc: 0.1863\n",
      "valid Loss: 2.1881 Acc: 0.1751\n",
      "Epoch: 2/10\n",
      "**************** \n",
      "\n",
      "train Loss: 2.0858 Acc: 0.2530\n",
      "valid Loss: 2.1196 Acc: 0.2525\n",
      "Epoch: 3/10\n",
      "**************** \n",
      "\n",
      "train Loss: 1.8420 Acc: 0.3669\n",
      "valid Loss: 2.0652 Acc: 0.3081\n",
      "Epoch: 4/10\n",
      "**************** \n",
      "\n",
      "train Loss: 1.3535 Acc: 0.5677\n",
      "valid Loss: 2.2073 Acc: 0.2542\n",
      "Epoch: 5/10\n",
      "**************** \n",
      "\n",
      "train Loss: 1.2084 Acc: 0.6138\n",
      "valid Loss: 2.2869 Acc: 0.2778\n",
      "Epoch: 6/10\n",
      "**************** \n",
      "\n",
      "train Loss: 1.1062 Acc: 0.6439\n",
      "valid Loss: 2.3381 Acc: 0.2761\n",
      "Epoch: 7/10\n",
      "**************** \n",
      "\n",
      "train Loss: 1.0091 Acc: 0.6848\n",
      "valid Loss: 2.3606 Acc: 0.2795\n",
      "Epoch: 8/10\n",
      "**************** \n",
      "\n",
      "train Loss: 0.9950 Acc: 0.6888\n",
      "valid Loss: 2.3613 Acc: 0.2778\n",
      "Epoch: 9/10\n",
      "**************** \n",
      "\n",
      "train Loss: 0.9830 Acc: 0.6921\n",
      "valid Loss: 2.3774 Acc: 0.2862\n",
      "Epoch: 10/10\n",
      "**************** \n",
      "\n",
      "train Loss: 0.9721 Acc: 0.6966\n",
      "valid Loss: 2.3720 Acc: 0.2862\n",
      "Training complete in 3m 32.05394434928894s\n",
      "Best val Acc: 0.30808080808080807\n"
     ]
    }
   ],
   "source": [
    "overfit2_model, overfit2_results = train_model(myCNN, criterion, optimizer, exp_lr_scheduler,num_epochs=n_epochs)"
   ]
  },
  {
   "cell_type": "code",
   "execution_count": 62,
   "metadata": {
    "colab": {
     "base_uri": "https://localhost:8080/",
     "height": 265
    },
    "id": "-eO-SE6onGpg",
    "outputId": "6672ecde-ab1f-433a-bffb-3095294d64a8"
   },
   "outputs": [
    {
     "data": {
      "image/png": "[encoded data removed]",
      "text/plain": [
       "<Figure size 432x288 with 2 Axes>"
      ]
     },
     "metadata": {
      "needs_background": "light",
      "tags": []
     },
     "output_type": "display_data"
    }
   ],
   "source": [
    "fig, axs = plt.subplots(nrows = 1, ncols = 2)\n",
    "\n",
    "for i in range(2):\n",
    "    if i == 0:\n",
    "        val = \"acc\"\n",
    "    else:\n",
    "        val = \"loss\"\n",
    "    axs[i].plot(overfit2_results[\"train\"][val])\n",
    "    axs[i].plot(overfit2_results[\"valid\"][val])"
   ]
  },
  {
   "cell_type": "markdown",
   "metadata": {
    "id": "lyvPSm4sU3Ak"
   },
   "source": [
    "### w/ Dropout"
   ]
  },
  {
   "cell_type": "code",
   "execution_count": 63,
   "metadata": {
    "id": "0LOlPWuHU2Jv"
   },
   "outputs": [],
   "source": [
    "from torch.autograd import Variable\n",
    "import torch.nn.functional as F\n",
    "\n",
    "class dropout2_CNN(torch.nn.Module):\n",
    "    \n",
    "    #Our batch shape for input x is (3, 256, 256)\n",
    "    \n",
    "    def __init__(self):\n",
    "        super(dropout2_CNN, self).__init__()\n",
    "        \n",
    "        #Input channels = 3, output channels = 16\n",
    "        self.conv1 = torch.nn.Conv2d(3, 16, kernel_size=3, stride=1, padding=1)\n",
    "        self.pool1 = torch.nn.MaxPool2d(kernel_size=2, stride=2, padding=0)\n",
    "        \n",
    "        self.conv2 = torch.nn.Conv2d(16, 32, kernel_size=3, stride=1, padding=1)\n",
    "        self.pool2 = torch.nn.MaxPool2d(kernel_size=2, stride=2, padding=0)\n",
    "    \n",
    "        self.drop = nn.Dropout2d(p = 0.5)\n",
    "\n",
    "        self.fc1 = torch.nn.Linear(32 * 64 * 64, 64)\n",
    "        self.fc2 = torch.nn.Linear(64, 10)\n",
    "        \n",
    "    def forward(self, x):\n",
    "        \n",
    "        #Computes the activation of the first convolution\n",
    "        # 3 -> 16 Channels\n",
    "        x = F.relu(self.conv1(x))\n",
    "        #Size changes from (16, 256, 256) to (16, 128, 128)\n",
    "        x = self.pool1(x)\n",
    "\n",
    "\n",
    "        # 16 -> 32 Channels\n",
    "        x = F.relu(self.conv2(x))\n",
    "        #Size changes from (32, 128, 128) to (32, 64, 64)\n",
    "        x = self.pool2(x)\n",
    "\n",
    "        #Reshape data to input to the input layer of the neural net\n",
    "        #Size changes from (32, 64, 64) to (1, 131072)\n",
    "        x = x.view(-1, 32 * 64 * 64)\n",
    "\n",
    "        #Dropout\n",
    "        x = self.drop(x)\n",
    "        \n",
    "        #Computes the activation of the first fully connected layer\n",
    "        #Size changes from (1, 131072) to (1, 64)\n",
    "        x = F.relu(self.fc1(x))\n",
    "        #Size changes from (1, 64) to (1, 10)\n",
    "        x = self.fc2(x)\n",
    "        return(x)"
   ]
  },
  {
   "cell_type": "code",
   "execution_count": 64,
   "metadata": {
    "id": "6RM4EGjVU2Jv"
   },
   "outputs": [],
   "source": [
    "myCNN = dropout2_CNN()\n",
    "myCNN = myCNN.to(device)\n",
    "\n",
    "criterion = nn.CrossEntropyLoss()\n",
    "optimizer = optim.Adam(myCNN.parameters(), lr=0.001)\n",
    "exp_lr_scheduler= lr_scheduler.StepLR(optimizer, step_size=3, gamma=0.1)\n",
    "# Set number of Epochs\n",
    "n_epochs = 10"
   ]
  },
  {
   "cell_type": "code",
   "execution_count": 65,
   "metadata": {
    "colab": {
     "base_uri": "https://localhost:8080/"
    },
    "id": "hg8dgnFXU2Jx",
    "outputId": "59c74582-567e-4476-ef84-dd421d0c512d"
   },
   "outputs": [
    {
     "name": "stdout",
     "output_type": "stream",
     "text": [
      "Epoch: 1/10\n",
      "**************** \n",
      "\n",
      "train Loss: 2.2777 Acc: 0.1362\n",
      "valid Loss: 2.1882 Acc: 0.1347\n",
      "Epoch: 2/10\n",
      "**************** \n",
      "\n",
      "train Loss: 2.1604 Acc: 0.1978\n",
      "valid Loss: 2.1556 Acc: 0.1734\n",
      "Epoch: 3/10\n",
      "**************** \n",
      "\n",
      "train Loss: 2.0428 Acc: 0.2678\n",
      "valid Loss: 2.1274 Acc: 0.2306\n",
      "Epoch: 4/10\n",
      "**************** \n",
      "\n",
      "train Loss: 1.7909 Acc: 0.3811\n",
      "valid Loss: 2.0411 Acc: 0.2593\n",
      "Epoch: 5/10\n",
      "**************** \n",
      "\n",
      "train Loss: 1.7068 Acc: 0.4173\n",
      "valid Loss: 2.0468 Acc: 0.2710\n",
      "Epoch: 6/10\n",
      "**************** \n",
      "\n",
      "train Loss: 1.6249 Acc: 0.4519\n",
      "valid Loss: 2.0188 Acc: 0.2929\n",
      "Epoch: 7/10\n",
      "**************** \n",
      "\n",
      "train Loss: 1.5328 Acc: 0.4935\n",
      "valid Loss: 2.0438 Acc: 0.2862\n",
      "Epoch: 8/10\n",
      "**************** \n",
      "\n",
      "train Loss: 1.5128 Acc: 0.5018\n",
      "valid Loss: 2.0507 Acc: 0.2912\n",
      "Epoch: 9/10\n",
      "**************** \n",
      "\n",
      "train Loss: 1.5044 Acc: 0.5133\n",
      "valid Loss: 2.0675 Acc: 0.2795\n",
      "Epoch: 10/10\n",
      "**************** \n",
      "\n",
      "train Loss: 1.4997 Acc: 0.5098\n",
      "valid Loss: 2.0630 Acc: 0.2828\n",
      "Training complete in 3m 29.88563108444214s\n",
      "Best val Acc: 0.29292929292929293\n"
     ]
    }
   ],
   "source": [
    "dropout2_model, dropout2_results = train_model(myCNN, criterion, optimizer, exp_lr_scheduler,num_epochs=n_epochs)"
   ]
  },
  {
   "cell_type": "code",
   "execution_count": 66,
   "metadata": {
    "colab": {
     "base_uri": "https://localhost:8080/",
     "height": 265
    },
    "id": "ecTeNceCqORd",
    "outputId": "4d16cfd9-7b84-4f78-c3bb-e5bc7ff1266d"
   },
   "outputs": [
    {
     "data": {
      "image/png": "[encoded data removed]",
      "text/plain": [
       "<Figure size 432x288 with 2 Axes>"
      ]
     },
     "metadata": {
      "needs_background": "light",
      "tags": []
     },
     "output_type": "display_data"
    }
   ],
   "source": [
    "fig, axs = plt.subplots(nrows = 1, ncols = 2)\n",
    "\n",
    "for i in range(2):\n",
    "    if i == 0:\n",
    "        val = \"acc\"\n",
    "    else:\n",
    "        val = \"loss\"\n",
    "    axs[i].plot(dropout2_results[\"train\"][val])\n",
    "    axs[i].plot(dropout2_results[\"valid\"][val])"
   ]
  },
  {
   "cell_type": "markdown",
   "metadata": {
    "id": "OrRm-1sDXA_W"
   },
   "source": [
    "### w/ Batch-Norm"
   ]
  },
  {
   "cell_type": "code",
   "execution_count": 67,
   "metadata": {
    "id": "qOglTQlaXA_X"
   },
   "outputs": [],
   "source": [
    "from torch.autograd import Variable\n",
    "import torch.nn.functional as F\n",
    "\n",
    "class batchnorm2_CNN(torch.nn.Module):\n",
    "    \n",
    "    #Our batch shape for input x is (3, 256, 256)\n",
    "    def __init__(self):\n",
    "        super(batchnorm2_CNN, self).__init__()\n",
    "        \n",
    "        #Input channels = 3, output channels = 16\n",
    "        self.conv1 = torch.nn.Conv2d(3, 16, kernel_size=3, stride=1, padding=1)\n",
    "        self.pool1 = torch.nn.MaxPool2d(kernel_size=2, stride=2, padding=0)\n",
    "        \n",
    "        self.conv2 = torch.nn.Conv2d(16, 32, kernel_size=3, stride=1, padding=1)\n",
    "        self.bn2d = nn.BatchNorm2d(32)\n",
    "        self.pool2 = torch.nn.MaxPool2d(kernel_size=2, stride=2, padding=0)\n",
    "    \n",
    "\n",
    "        self.fc1 = torch.nn.Linear(32 * 64 * 64, 64)\n",
    "        self.bn1d = nn.BatchNorm1d(64)\n",
    "        self.fc2 = torch.nn.Linear(64, 10)\n",
    "        \n",
    "    def forward(self, x):\n",
    "        \n",
    "        #Computes the activation of the first convolution\n",
    "        # 3 -> 16 Channels\n",
    "        x = F.relu(self.conv1(x))\n",
    "        #Size changes from (16, 256, 256) to (16, 128, 128)\n",
    "        x = self.pool1(x)\n",
    "\n",
    "\n",
    "        # 16 -> 32 Channels\n",
    "        x = F.relu(self.bn2d(self.conv2(x)))\n",
    "        #Size changes from (16, 128, 128) to (32, 64, 64)\n",
    "        x = self.pool2(x)\n",
    "\n",
    "        #Reshape data to input to the input layer of the neural net\n",
    "        #Size changes from (32, 64, 64) to (1, 131072)\n",
    "        x = x.view(-1, 32 * 64 * 64)\n",
    "        \n",
    "        #Computes the activation of the first fully connected layer\n",
    "        #Size changes from (1, 131072) to (1, 64)\n",
    "        x = F.relu(self.bn1d(self.fc1(x)))\n",
    "        #Size changes from (1, 64) to (1, 10)\n",
    "        x = self.fc2(x)\n",
    "        return(x)"
   ]
  },
  {
   "cell_type": "code",
   "execution_count": 68,
   "metadata": {
    "id": "Rm6VwRgFXA_X"
   },
   "outputs": [],
   "source": [
    "myCNN = batchnorm2_CNN()\n",
    "myCNN = myCNN.to(device)\n",
    "\n",
    "criterion = nn.CrossEntropyLoss()\n",
    "optimizer = optim.Adam(myCNN.parameters(), lr=0.001)\n",
    "exp_lr_scheduler= lr_scheduler.StepLR(optimizer, step_size=7, gamma=0.1)\n",
    "# Set number of Epochs\n",
    "n_epochs = 10"
   ]
  },
  {
   "cell_type": "code",
   "execution_count": 69,
   "metadata": {
    "colab": {
     "base_uri": "https://localhost:8080/"
    },
    "id": "ihIkeNBpXA_Y",
    "outputId": "05a3a6c8-95f0-4f8f-bd55-4557727747a0"
   },
   "outputs": [
    {
     "name": "stdout",
     "output_type": "stream",
     "text": [
      "Epoch: 1/10\n",
      "**************** \n",
      "\n",
      "train Loss: 2.1446 Acc: 0.2144\n",
      "valid Loss: 2.2927 Acc: 0.1397\n",
      "Epoch: 2/10\n",
      "**************** \n",
      "\n",
      "train Loss: 2.0333 Acc: 0.2768\n",
      "valid Loss: 2.1770 Acc: 0.2020\n",
      "Epoch: 3/10\n",
      "**************** \n",
      "\n",
      "train Loss: 1.9234 Acc: 0.3358\n",
      "valid Loss: 2.0084 Acc: 0.2980\n",
      "Epoch: 4/10\n",
      "**************** \n",
      "\n",
      "train Loss: 1.7594 Acc: 0.3957\n",
      "valid Loss: 2.1901 Acc: 0.2104\n",
      "Epoch: 5/10\n",
      "**************** \n",
      "\n",
      "train Loss: 1.4869 Acc: 0.5113\n",
      "valid Loss: 2.1556 Acc: 0.2677\n",
      "Epoch: 6/10\n",
      "**************** \n",
      "\n",
      "train Loss: 0.9886 Acc: 0.6991\n",
      "valid Loss: 3.9193 Acc: 0.0960\n",
      "Epoch: 7/10\n",
      "**************** \n",
      "\n",
      "train Loss: 0.5968 Acc: 0.8335\n",
      "valid Loss: 2.6958 Acc: 0.1886\n",
      "Epoch: 8/10\n",
      "**************** \n",
      "\n",
      "train Loss: 0.3044 Acc: 0.9303\n",
      "valid Loss: 2.2405 Acc: 0.3098\n",
      "Epoch: 9/10\n",
      "**************** \n",
      "\n",
      "train Loss: 0.2410 Acc: 0.9446\n",
      "valid Loss: 2.3095 Acc: 0.2912\n",
      "Epoch: 10/10\n",
      "**************** \n",
      "\n",
      "train Loss: 0.2001 Acc: 0.9601\n",
      "valid Loss: 2.3521 Acc: 0.2795\n",
      "Training complete in 3m 25.86018204689026s\n",
      "Best val Acc: 0.30976430976430974\n"
     ]
    }
   ],
   "source": [
    "batchnorm2_model, batchnorm2_results = train_model(myCNN, criterion, optimizer, exp_lr_scheduler,num_epochs=n_epochs)"
   ]
  },
  {
   "cell_type": "code",
   "execution_count": 70,
   "metadata": {
    "colab": {
     "base_uri": "https://localhost:8080/",
     "height": 269
    },
    "id": "fSo8KrUqq4VZ",
    "outputId": "e3180770-bb1a-4ab3-b8af-936eb1b69abc"
   },
   "outputs": [
    {
     "data": {
      "image/png": "[encoded data removed]",
      "text/plain": [
       "<Figure size 432x288 with 2 Axes>"
      ]
     },
     "metadata": {
      "needs_background": "light",
      "tags": []
     },
     "output_type": "display_data"
    }
   ],
   "source": [
    "fig, axs = plt.subplots(nrows = 1, ncols = 2)\n",
    "\n",
    "for i in range(2):\n",
    "    if i == 0:\n",
    "        val = \"acc\"\n",
    "    else:\n",
    "        val = \"loss\"\n",
    "    axs[i].plot(batchnorm2_results[\"train\"][val])\n",
    "    axs[i].plot(batchnorm2_results[\"valid\"][val])"
   ]
  },
  {
   "cell_type": "markdown",
   "metadata": {
    "id": "JAPC-Zj-vDnR"
   },
   "source": [
    "## 2 Conv w/ 1 Linear FC Layer & Crop (256)"
   ]
  },
  {
   "cell_type": "code",
   "execution_count": 71,
   "metadata": {
    "id": "AV4UvD8GyAUM"
   },
   "outputs": [],
   "source": [
    "data_transforms = {\n",
    "    'training':transforms.Compose([\n",
    "        transforms.RandomResizedCrop(256),\n",
    "        transforms.RandomHorizontalFlip(),\n",
    "        transforms.ToTensor(),\n",
    "        transforms.Normalize([0.485, 0.456, 0.406], [0.229, 0.224, 0.225])\n",
    "    ]),\n",
    "    'validation':transforms.Compose([\n",
    "        transforms.Resize(256),\n",
    "        transforms.CenterCrop(256),\n",
    "        transforms.ToTensor(),\n",
    "        transforms.Normalize([0.485, 0.456, 0.406], [0.229, 0.224, 0.225])\n",
    "    ]),\n",
    "}"
   ]
  },
  {
   "cell_type": "code",
   "execution_count": 72,
   "metadata": {
    "id": "cqFBxXqiyRRF"
   },
   "outputs": [],
   "source": [
    "# Load data from folders\n",
    "dataset = {\n",
    "    'train': datasets.ImageFolder(root=train_dir, transform=image_transforms['train']),\n",
    "    'valid': datasets.ImageFolder(root=val_dir, transform=image_transforms['valid'])\n",
    "}\n",
    "  \n",
    "# Size of train and validation data\n",
    "dataset_sizes = {\n",
    "    'train':len(dataset['train']),\n",
    "    'valid':len(dataset['valid'])\n",
    "}"
   ]
  },
  {
   "cell_type": "code",
   "execution_count": 73,
   "metadata": {
    "colab": {
     "base_uri": "https://localhost:8080/"
    },
    "id": "J7QQ8Z8YyTqa",
    "outputId": "1f2b75d8-9ac2-4f50-f137-8e31c22e919f"
   },
   "outputs": [
    {
     "name": "stdout",
     "output_type": "stream",
     "text": [
      "Classes: ['Cezanne', 'Degas', 'Gauguin', 'Hassam', 'Matisse', 'Monet', 'Pissarro', 'Renoir', 'Sargent', 'VanGogh']\n",
      "Training-set size: 3988 \n",
      "Validation-set size: 594\n"
     ]
    }
   ],
   "source": [
    "dataloaders = {\n",
    "    'train':data.DataLoader(dataset['train'], batch_size=10, shuffle=True, pin_memory=True, drop_last=True),\n",
    "    'valid':data.DataLoader(dataset['valid'], batch_size=10, shuffle=True, pin_memory=True, drop_last=True)\n",
    "}\n",
    " \n",
    "# Class names or target labels\n",
    "class_names = dataset['train'].classes\n",
    "print(\"Classes:\", class_names)\n",
    "  \n",
    "# Print the train and validation data sizes\n",
    "print(\"Training-set size:\",dataset_sizes['train'],\n",
    "      \"\\nValidation-set size:\", dataset_sizes['valid'])\n",
    " \n",
    "# Set default device as gpu, if available\n",
    "device = torch.device(\"cuda:0\" if torch.cuda.is_available() else \"cpu\")"
   ]
  },
  {
   "cell_type": "code",
   "execution_count": 74,
   "metadata": {
    "id": "HWoGJmNWvIgF"
   },
   "outputs": [],
   "source": [
    "class CNNModel(nn.Module):\n",
    "    def __init__(self):\n",
    "        super(CNNModel, self).__init__()\n",
    "        \n",
    "        # Convolution 1\n",
    "        self.cnn1 = nn.Conv2d(in_channels=3, out_channels=16, kernel_size=3, stride=1, padding=0)\n",
    "        self.relu1 = nn.ReLU()\n",
    "        \n",
    "        # Max pool 1\n",
    "        self.maxpool1 = nn.MaxPool2d(kernel_size=2)\n",
    "     \n",
    "        # Convolution 2\n",
    "        self.cnn2 = nn.Conv2d(in_channels=16, out_channels=32, kernel_size=3, stride=1, padding=0)\n",
    "        self.relu2 = nn.ReLU()\n",
    "        \n",
    "        # Max pool 2\n",
    "        self.maxpool2 = nn.MaxPool2d(kernel_size=2)\n",
    "        # Fully connected 1\n",
    "        self.fc1 = nn.Linear(32 * 62 * 62, 10) \n",
    "    \n",
    "    def forward(self, x):\n",
    "        # Set 1\n",
    "        out = self.cnn1(x)\n",
    "        out = self.relu1(out)\n",
    "        out = self.maxpool1(out)\n",
    "        \n",
    "        # Set 2\n",
    "        out = self.cnn2(out)\n",
    "        out = self.relu2(out)\n",
    "        out = self.maxpool2(out)\n",
    "\n",
    "        #Flatten\n",
    "        out = out.view(out.size(0), -1)\n",
    "\n",
    "        #Dense\n",
    "        out = self.fc1(out)\n",
    "        \n",
    "        return out"
   ]
  },
  {
   "cell_type": "code",
   "execution_count": 75,
   "metadata": {
    "id": "2gIAgXOuwB99"
   },
   "outputs": [],
   "source": [
    "myCNN = CNNModel()\n",
    "myCNN = myCNN.to(device)\n",
    "\n",
    "criterion = nn.CrossEntropyLoss()\n",
    "optimizer = optim.Adam(myCNN.parameters(), lr=0.001)\n",
    "exp_lr_scheduler= lr_scheduler.StepLR(optimizer, step_size=7, gamma=0.1)\n",
    "# Set number of Epochs\n",
    "n_epochs = 10"
   ]
  },
  {
   "cell_type": "code",
   "execution_count": 76,
   "metadata": {
    "colab": {
     "base_uri": "https://localhost:8080/"
    },
    "id": "Woz2s2N_wB9-",
    "outputId": "828608b2-edf6-4809-86ea-dd989588aa00"
   },
   "outputs": [
    {
     "name": "stdout",
     "output_type": "stream",
     "text": [
      "Epoch: 1/10\n",
      "**************** \n",
      "\n",
      "train Loss: 2.4288 Acc: 0.1259\n",
      "valid Loss: 2.2846 Acc: 0.1414\n",
      "Epoch: 2/10\n",
      "**************** \n",
      "\n",
      "train Loss: 2.2535 Acc: 0.1705\n",
      "valid Loss: 2.2976 Acc: 0.1246\n",
      "Epoch: 3/10\n",
      "**************** \n",
      "\n",
      "train Loss: 2.2067 Acc: 0.2004\n",
      "valid Loss: 2.2746 Acc: 0.1734\n",
      "Epoch: 4/10\n",
      "**************** \n",
      "\n",
      "train Loss: 1.9759 Acc: 0.3282\n",
      "valid Loss: 2.4015 Acc: 0.2071\n",
      "Epoch: 5/10\n",
      "**************** \n",
      "\n",
      "train Loss: 1.5322 Acc: 0.4980\n",
      "valid Loss: 2.6921 Acc: 0.2020\n",
      "Epoch: 6/10\n",
      "**************** \n",
      "\n",
      "train Loss: 1.1436 Acc: 0.6316\n",
      "valid Loss: 3.5144 Acc: 0.1801\n",
      "Epoch: 7/10\n",
      "**************** \n",
      "\n",
      "train Loss: 0.8681 Acc: 0.7239\n",
      "valid Loss: 4.5208 Acc: 0.1785\n",
      "Epoch: 8/10\n",
      "**************** \n",
      "\n",
      "train Loss: 0.6542 Acc: 0.7976\n",
      "valid Loss: 4.7528 Acc: 0.1970\n",
      "Epoch: 9/10\n",
      "**************** \n",
      "\n",
      "train Loss: 0.6148 Acc: 0.8067\n",
      "valid Loss: 4.9629 Acc: 0.2003\n",
      "Epoch: 10/10\n",
      "**************** \n",
      "\n",
      "train Loss: 0.5867 Acc: 0.8157\n",
      "valid Loss: 5.1055 Acc: 0.2003\n",
      "Training complete in 3m 14.635875225067139s\n",
      "Best val Acc: 0.20707070707070707\n"
     ]
    }
   ],
   "source": [
    "Conv2_model, Conv2_results = train_model(myCNN, criterion, optimizer, exp_lr_scheduler,num_epochs=n_epochs)"
   ]
  },
  {
   "cell_type": "code",
   "execution_count": 77,
   "metadata": {
    "colab": {
     "base_uri": "https://localhost:8080/",
     "height": 265
    },
    "id": "uv8QgqjgwB9_",
    "outputId": "4007202e-a495-481e-e19c-a7fbd83c3039"
   },
   "outputs": [
    {
     "data": {
      "image/png": "[encoded data removed]",
      "text/plain": [
       "<Figure size 432x288 with 2 Axes>"
      ]
     },
     "metadata": {
      "needs_background": "light",
      "tags": []
     },
     "output_type": "display_data"
    }
   ],
   "source": [
    "fig, axs = plt.subplots(nrows = 1, ncols = 2)\n",
    "\n",
    "for i in range(2):\n",
    "    if i == 0:\n",
    "        val = \"acc\"\n",
    "    else:\n",
    "        val = \"loss\"\n",
    "    axs[i].plot(Conv2_results[\"train\"][val])\n",
    "    axs[i].plot(Conv2_results[\"valid\"][val])"
   ]
  },
  {
   "cell_type": "markdown",
   "metadata": {
    "id": "WeKfVWZyU9Xq"
   },
   "source": [
    "## 1 Conv"
   ]
  },
  {
   "cell_type": "markdown",
   "metadata": {
    "id": "u91rITcYp3Eo"
   },
   "source": [
    "### w/ Dropout"
   ]
  },
  {
   "cell_type": "code",
   "execution_count": 84,
   "metadata": {
    "id": "Dq-psfAHp5uI"
   },
   "outputs": [],
   "source": [
    "from torch.autograd import Variable\n",
    "import torch.nn.functional as F\n",
    "\n",
    "class dropout1_CNN(torch.nn.Module):\n",
    "    \n",
    "    #Our batch shape for input x is (3, 256, 256)\n",
    "    \n",
    "    def __init__(self):\n",
    "        super(dropout1_CNN, self).__init__()\n",
    "        \n",
    "        #Input channels = 3, output channels = 16\n",
    "        self.conv1 = torch.nn.Conv2d(3, 16, kernel_size=3, stride=1, padding=1)\n",
    "        self.pool1 = torch.nn.MaxPool2d(kernel_size=2, stride=2, padding=0)\n",
    "        \n",
    "        self.drop = nn.Dropout2d(p = 0.5)\n",
    "\n",
    "        #262144 input features, 64 output features (see sizing flow below)\n",
    "        self.fc1 = torch.nn.Linear(16 * 128 * 128, 64)\n",
    "        #64 input features, 10 output features for our 10 defined classes\n",
    "        self.fc2 = torch.nn.Linear(64, 10)\n",
    "        \n",
    "    def forward(self, x):\n",
    "        \n",
    "        #Computes the activation of the first convolution\n",
    "        #Size changes from (3, 256, 256) to (16, 256, 256)\n",
    "        x = F.relu(self.conv1(x))\n",
    "        #Size changes from (16, 256, 256) to (16, 128, 128)\n",
    "        x = self.pool1(x)\n",
    "\n",
    "        #Reshape data to input to the input layer of the neural net\n",
    "        #Size changes from (16, 128, 128) to (1, 262144)\n",
    "        x = x.view(-1, 16 * 128 * 128)\n",
    "        \n",
    "        #Dropout\n",
    "        x = self.drop(x)\n",
    "\n",
    "        #Computes the activation of the first fully connected layer\n",
    "        #Size changes from (1, 262144) to (1, 64)\n",
    "        x = F.relu(self.fc1(x))\n",
    "        \n",
    "        #Computes the second fully connected layer (activation applied later)\n",
    "        #Size changes from (1, 64) to (1, 10)\n",
    "        #x = self.norm2(x)\n",
    "        x = self.fc2(x)\n",
    "        return(x)"
   ]
  },
  {
   "cell_type": "code",
   "execution_count": 85,
   "metadata": {
    "id": "oCSWTi9HqLiS"
   },
   "outputs": [],
   "source": [
    "myCNN = dropout1_CNN()\n",
    "myCNN = myCNN.to(device)\n",
    "\n",
    "criterion = nn.CrossEntropyLoss()\n",
    "optimizer = optim.Adam(myCNN.parameters(), lr=0.001)\n",
    "scheduler = lr_scheduler.StepLR(optimizer, step_size=7, gamma=0.1)\n",
    "# Set number of Epochs\n",
    "n_epochs = 10"
   ]
  },
  {
   "cell_type": "code",
   "execution_count": 86,
   "metadata": {
    "colab": {
     "base_uri": "https://localhost:8080/"
    },
    "id": "wwnpFbKW7XcX",
    "outputId": "d847170a-8e07-4658-acdf-7b244f6bddd7"
   },
   "outputs": [
    {
     "name": "stdout",
     "output_type": "stream",
     "text": [
      "Epoch: 1/10\n",
      "**************** \n",
      "\n",
      "train Loss: 2.4340 Acc: 0.1153\n",
      "valid Loss: 2.2908 Acc: 0.1532\n",
      "Epoch: 2/10\n",
      "**************** \n",
      "\n",
      "train Loss: 2.2618 Acc: 0.1226\n",
      "valid Loss: 2.2675 Acc: 0.1616\n",
      "Epoch: 3/10\n",
      "**************** \n",
      "\n",
      "train Loss: 2.2455 Acc: 0.1374\n",
      "valid Loss: 2.2765 Acc: 0.1734\n",
      "Epoch: 4/10\n",
      "**************** \n",
      "\n",
      "train Loss: 2.2194 Acc: 0.1580\n",
      "valid Loss: 2.2481 Acc: 0.0993\n",
      "Epoch: 5/10\n",
      "**************** \n",
      "\n",
      "train Loss: 2.1664 Acc: 0.1856\n",
      "valid Loss: 2.2109 Acc: 0.1953\n",
      "Epoch: 6/10\n",
      "**************** \n",
      "\n",
      "train Loss: 2.0562 Acc: 0.2350\n",
      "valid Loss: 2.1930 Acc: 0.1751\n",
      "Epoch: 7/10\n",
      "**************** \n",
      "\n",
      "train Loss: 1.8970 Acc: 0.3024\n",
      "valid Loss: 2.0732 Acc: 0.2626\n",
      "Epoch: 8/10\n",
      "**************** \n",
      "\n",
      "train Loss: 1.6470 Acc: 0.3964\n",
      "valid Loss: 2.2895 Acc: 0.1481\n",
      "Epoch: 9/10\n",
      "**************** \n",
      "\n",
      "train Loss: 1.3637 Acc: 0.5125\n",
      "valid Loss: 2.2296 Acc: 0.2643\n",
      "Epoch: 10/10\n",
      "**************** \n",
      "\n",
      "train Loss: 1.1428 Acc: 0.5995\n",
      "valid Loss: 2.7192 Acc: 0.1869\n",
      "Training complete in 3m 21.8719801902771s\n",
      "Best val Acc: 0.2643097643097643\n"
     ]
    }
   ],
   "source": [
    "dropout1_model, dropout1_results = train_model(myCNN, criterion, optimizer, exp_lr_scheduler,num_epochs=n_epochs)"
   ]
  },
  {
   "cell_type": "code",
   "execution_count": 87,
   "metadata": {
    "colab": {
     "base_uri": "https://localhost:8080/",
     "height": 265
    },
    "id": "gFBM3lOfsVND",
    "outputId": "67af7306-552f-4e05-ccb4-10889c222df2"
   },
   "outputs": [
    {
     "data": {
      "image/png": "[encoded data removed]",
      "text/plain": [
       "<Figure size 432x288 with 2 Axes>"
      ]
     },
     "metadata": {
      "needs_background": "light",
      "tags": []
     },
     "output_type": "display_data"
    }
   ],
   "source": [
    "fig, axs = plt.subplots(nrows = 1, ncols = 2)\n",
    "\n",
    "for i in range(2):\n",
    "    if i == 0:\n",
    "        val = \"acc\"\n",
    "    else:\n",
    "        val = \"loss\"\n",
    "    axs[i].plot(dropout1_results[\"train\"][val])\n",
    "    axs[i].plot(dropout1_results[\"valid\"][val])"
   ]
  },
  {
   "cell_type": "markdown",
   "metadata": {
    "id": "NW99LBEdUc8k"
   },
   "source": [
    "#### More Dropouts\n",
    "\n",
    "\n",
    "Checking to see if more dropouts improve the model."
   ]
  },
  {
   "cell_type": "code",
   "execution_count": 106,
   "metadata": {
    "id": "nspU9OuBUbvF"
   },
   "outputs": [],
   "source": [
    "from torch.autograd import Variable\n",
    "import torch.nn.functional as F\n",
    "\n",
    "class dropouts_CNN(torch.nn.Module):\n",
    "    \n",
    "    #Our batch shape for input x is (3, 256, 256)\n",
    "    \n",
    "    def __init__(self):\n",
    "        super(dropouts_CNN, self).__init__()\n",
    "        \n",
    "        #Input channels = 3, output channels = 16\n",
    "        self.conv1 = torch.nn.Conv2d(3, 16, kernel_size=3, stride=1, padding=1)\n",
    "        self.pool1 = torch.nn.MaxPool2d(kernel_size=2, stride=2, padding=0)\n",
    "        \n",
    "        self.drop = nn.Dropout2d(p = 0.5)\n",
    "\n",
    "        #262144 input features, 64 output features (see sizing flow below)\n",
    "        self.fc1 = torch.nn.Linear(16 * 128 * 128, 64)\n",
    "        #64 input features, 10 output features for our 10 defined classes\n",
    "        self.fc2 = torch.nn.Linear(64, 10)\n",
    "        \n",
    "    def forward(self, x):\n",
    "        \n",
    "        #Computes the activation of the first convolution\n",
    "        #Size changes from (3, 256, 256) to (16, 256, 256)\n",
    "        x = F.relu(self.conv1(x))\n",
    "        #Size changes from (16, 256, 256) to (16, 128, 128)\n",
    "        x = self.pool1(x)\n",
    "\n",
    "        #Reshape data to input to the input layer of the neural net\n",
    "        #Size changes from (16, 128, 128) to (1, 262144)\n",
    "        x = x.view(-1, 16 * 128 * 128)\n",
    "        \n",
    "        #Dropout\n",
    "        x = self.drop(x)\n",
    "\n",
    "        #Computes the activation of the first fully connected layer\n",
    "        #Size changes from (1, 262144) to (1, 64)\n",
    "        x = F.relu(self.fc1(x))\n",
    "        \n",
    "        x = self.drop(x)\n",
    "        #Computes the second fully connected layer (activation applied later)\n",
    "        #Size changes from (1, 64) to (1, 10)\n",
    "        #x = self.norm2(x)\n",
    "        x = self.fc2(x)\n",
    "        return(x)"
   ]
  },
  {
   "cell_type": "code",
   "execution_count": 89,
   "metadata": {
    "id": "RaAQ02qEUbvF"
   },
   "outputs": [],
   "source": [
    "myCNN = dropout1_CNN()\n",
    "myCNN = myCNN.to(device)\n",
    "\n",
    "criterion = nn.CrossEntropyLoss()\n",
    "optimizer = optim.Adam(myCNN.parameters(), lr=0.001)\n",
    "scheduler = lr_scheduler.StepLR(optimizer, step_size=7, gamma=0.1)\n",
    "# Set number of Epochs\n",
    "n_epochs = 10"
   ]
  },
  {
   "cell_type": "code",
   "execution_count": 90,
   "metadata": {
    "colab": {
     "base_uri": "https://localhost:8080/"
    },
    "id": "9dynEaG9UbvH",
    "outputId": "313ee594-decb-445d-833e-304ed0c69f04"
   },
   "outputs": [
    {
     "name": "stdout",
     "output_type": "stream",
     "text": [
      "Epoch: 1/10\n",
      "**************** \n",
      "\n",
      "train Loss: 2.3861 Acc: 0.1169\n",
      "valid Loss: 2.3076 Acc: 0.0135\n",
      "Epoch: 2/10\n",
      "**************** \n",
      "\n",
      "train Loss: 2.2696 Acc: 0.1261\n",
      "valid Loss: 2.2993 Acc: 0.1616\n",
      "Epoch: 3/10\n",
      "**************** \n",
      "\n",
      "train Loss: 2.2670 Acc: 0.1274\n",
      "valid Loss: 2.2725 Acc: 0.2071\n",
      "Epoch: 4/10\n",
      "**************** \n",
      "\n",
      "train Loss: 2.2410 Acc: 0.1560\n",
      "valid Loss: 2.2390 Acc: 0.1263\n",
      "Epoch: 5/10\n",
      "**************** \n",
      "\n",
      "train Loss: 2.2009 Acc: 0.1632\n",
      "valid Loss: 2.1963 Acc: 0.2542\n",
      "Epoch: 6/10\n",
      "**************** \n",
      "\n",
      "train Loss: 2.1802 Acc: 0.1813\n",
      "valid Loss: 2.2282 Acc: 0.1835\n",
      "Epoch: 7/10\n",
      "**************** \n",
      "\n",
      "train Loss: 2.1280 Acc: 0.2064\n",
      "valid Loss: 2.2286 Acc: 0.2071\n",
      "Epoch: 8/10\n",
      "**************** \n",
      "\n",
      "train Loss: 2.0583 Acc: 0.2284\n",
      "valid Loss: 2.1564 Acc: 0.2441\n",
      "Epoch: 9/10\n",
      "**************** \n",
      "\n",
      "train Loss: 2.0046 Acc: 0.2633\n",
      "valid Loss: 2.2223 Acc: 0.1380\n",
      "Epoch: 10/10\n",
      "**************** \n",
      "\n",
      "train Loss: 1.8664 Acc: 0.3200\n",
      "valid Loss: 2.1539 Acc: 0.2205\n",
      "Training complete in 3m 20.916225910186768s\n",
      "Best val Acc: 0.2542087542087542\n"
     ]
    }
   ],
   "source": [
    "dropout1_model, dropout1_results = train_model(myCNN, criterion, optimizer, exp_lr_scheduler,num_epochs=n_epochs)"
   ]
  },
  {
   "cell_type": "code",
   "execution_count": 92,
   "metadata": {
    "colab": {
     "base_uri": "https://localhost:8080/",
     "height": 265
    },
    "id": "Wqr3H08udQru",
    "outputId": "3a9b77fc-8308-43d4-bb1a-c9920404032c"
   },
   "outputs": [
    {
     "data": {
      "image/png": "[encoded data removed]",
      "text/plain": [
       "<Figure size 432x288 with 2 Axes>"
      ]
     },
     "metadata": {
      "needs_background": "light",
      "tags": []
     },
     "output_type": "display_data"
    }
   ],
   "source": [
    "fig, axs = plt.subplots(nrows = 1, ncols = 2)\n",
    "\n",
    "for i in range(2):\n",
    "    if i == 0:\n",
    "        val = \"acc\"\n",
    "    else:\n",
    "        val = \"loss\"\n",
    "    axs[i].plot(dropout1_results[\"train\"][val])\n",
    "    axs[i].plot(dropout1_results[\"valid\"][val])"
   ]
  },
  {
   "cell_type": "markdown",
   "metadata": {
    "id": "x3segDGDgucx"
   },
   "source": [
    "#### With more epochs (25)\n",
    "\n"
   ]
  },
  {
   "cell_type": "code",
   "execution_count": 105,
   "metadata": {
    "id": "7uGW32O0gtvy"
   },
   "outputs": [],
   "source": [
    "myCNN = dropout1_CNN()\n",
    "myCNN = myCNN.to(device)\n",
    "\n",
    "criterion = nn.CrossEntropyLoss()\n",
    "optimizer = optim.Adam(myCNN.parameters(), lr=0.001)\n",
    "scheduler = lr_scheduler.StepLR(optimizer, step_size=7, gamma=0.1)\n",
    "# Set number of Epochs\n",
    "n_epochs = 25"
   ]
  },
  {
   "cell_type": "code",
   "execution_count": 98,
   "metadata": {
    "colab": {
     "base_uri": "https://localhost:8080/"
    },
    "id": "61HFyaWjgtv0",
    "outputId": "f4169e1b-95e3-4fef-f9f4-d04f6cb2e51b"
   },
   "outputs": [
    {
     "name": "stdout",
     "output_type": "stream",
     "text": [
      "Epoch: 1/10\n",
      "**************** \n",
      "\n",
      "train Loss: 2.4586 Acc: 0.0983\n",
      "valid Loss: 2.2785 Acc: 0.0000\n",
      "Epoch: 2/10\n",
      "**************** \n",
      "\n",
      "train Loss: 2.2992 Acc: 0.1001\n",
      "valid Loss: 2.2816 Acc: 0.0000\n",
      "Epoch: 3/10\n",
      "**************** \n",
      "\n",
      "train Loss: 2.2988 Acc: 0.0940\n",
      "valid Loss: 2.2835 Acc: 0.0000\n",
      "Epoch: 4/10\n",
      "**************** \n",
      "\n",
      "train Loss: 2.2986 Acc: 0.0930\n",
      "valid Loss: 2.2843 Acc: 0.0000\n",
      "Epoch: 5/10\n",
      "**************** \n",
      "\n",
      "train Loss: 2.2985 Acc: 0.0900\n",
      "valid Loss: 2.2857 Acc: 0.0000\n",
      "Epoch: 6/10\n",
      "**************** \n",
      "\n",
      "train Loss: 2.2984 Acc: 0.0913\n",
      "valid Loss: 2.2863 Acc: 0.0000\n",
      "Epoch: 7/10\n",
      "**************** \n",
      "\n",
      "train Loss: 2.2984 Acc: 0.0918\n",
      "valid Loss: 2.2861 Acc: 0.0000\n",
      "Epoch: 8/10\n",
      "**************** \n",
      "\n",
      "train Loss: 2.2984 Acc: 0.0958\n",
      "valid Loss: 2.2860 Acc: 0.1633\n",
      "Epoch: 9/10\n",
      "**************** \n",
      "\n",
      "train Loss: 2.2984 Acc: 0.0950\n",
      "valid Loss: 2.2876 Acc: 0.0000\n",
      "Epoch: 10/10\n",
      "**************** \n",
      "\n",
      "train Loss: 2.2984 Acc: 0.0888\n",
      "valid Loss: 2.2875 Acc: 0.1633\n",
      "Training complete in 3m 19.36478066444397s\n",
      "Best val Acc: 0.1632996632996633\n"
     ]
    }
   ],
   "source": [
    "dropout1_model, dropout1_results = train_model(myCNN, criterion, optimizer, exp_lr_scheduler,num_epochs=n_epochs)"
   ]
  },
  {
   "cell_type": "code",
   "execution_count": 99,
   "metadata": {
    "colab": {
     "base_uri": "https://localhost:8080/",
     "height": 265
    },
    "id": "38B1jQ_fgtv1",
    "outputId": "e63282bf-537a-4360-c794-416f98d84850"
   },
   "outputs": [
    {
     "data": {
      "image/png": "[encoded data removed]",
      "text/plain": [
       "<Figure size 432x288 with 2 Axes>"
      ]
     },
     "metadata": {
      "needs_background": "light",
      "tags": []
     },
     "output_type": "display_data"
    }
   ],
   "source": [
    "fig, axs = plt.subplots(nrows = 1, ncols = 2)\n",
    "\n",
    "for i in range(2):\n",
    "    if i == 0:\n",
    "        val = \"acc\"\n",
    "    else:\n",
    "        val = \"loss\"\n",
    "    axs[i].plot(dropout1_results[\"train\"][val])\n",
    "    axs[i].plot(dropout1_results[\"valid\"][val])"
   ]
  },
  {
   "cell_type": "markdown",
   "metadata": {
    "id": "37KNOhg5aC4W"
   },
   "source": [
    "### w/ Batch Norm"
   ]
  },
  {
   "cell_type": "code",
   "execution_count": 93,
   "metadata": {
    "id": "FBU_QjOiaE7U"
   },
   "outputs": [],
   "source": [
    "from torch.autograd import Variable\n",
    "import torch.nn.functional as F\n",
    "\n",
    "class batchnorm1_CNN(torch.nn.Module):\n",
    "    \n",
    "    #Our batch shape for input x is (3, 256, 256)\n",
    "    \n",
    "    def __init__(self):\n",
    "        super(batchnorm1_CNN, self).__init__()\n",
    "        \n",
    "        #Input channels = 3, output channels = 16\n",
    "        self.conv1 = torch.nn.Conv2d(3, 16, kernel_size=3, stride=1, padding=1)\n",
    "        self.bn2d = nn.BatchNorm2d(16)\n",
    "        self.pool1 = torch.nn.MaxPool2d(kernel_size=2, stride=2, padding=0)\n",
    "\n",
    "        #262144 input features, 64 output features (see sizing flow below)\n",
    "        self.fc1 = torch.nn.Linear(16 * 128 * 128, 64)\n",
    "\n",
    "        self.bn1d = nn.BatchNorm1d(64)\n",
    "        #64 input features, 10 output features for our 10 defined classes\n",
    "        self.fc2 = torch.nn.Linear(64, 10)\n",
    "        \n",
    "    def forward(self, x):\n",
    "        \n",
    "        #Computes the activation of the first convolution\n",
    "        #Size changes from (3, 256, 256) to (16, 256, 256)\n",
    "        x = F.relu(self.bn2d(self.conv1(x)))\n",
    "        #Size changes from (16, 256, 256) to (16, 128, 128)\n",
    "        x = self.pool1(x)\n",
    "\n",
    "        #Reshape data to input to the input layer of the neural net\n",
    "        #Size changes from (16, 128, 128) to (1, 262144)\n",
    "        x = x.view(-1, 16 * 128 * 128)\n",
    "\n",
    "        #Computes the activation of the first fully connected layer\n",
    "        #Size changes from (1, 262144) to (1, 64)\n",
    "        x = F.relu(self.bn1d(self.fc1(x)))\n",
    "        \n",
    "        #Computes the second fully connected layer (activation applied later)\n",
    "        #Size changes from (1, 64) to (1, 10)\n",
    "        #x = self.norm2(x)\n",
    "        x = self.fc2(x)\n",
    "        return(x)"
   ]
  },
  {
   "cell_type": "code",
   "execution_count": 94,
   "metadata": {
    "id": "lycynAEHaE7V"
   },
   "outputs": [],
   "source": [
    "myCNN = batchnorm1_CNN()\n",
    "myCNN = myCNN.to(device)\n",
    "\n",
    "criterion = nn.CrossEntropyLoss()\n",
    "optimizer = optim.Adam(myCNN.parameters(), lr=0.001)\n",
    "scheduler = lr_scheduler.StepLR(optimizer, step_size=7, gamma=0.1)\n",
    "# Set number of Epochs\n",
    "n_epochs = 10"
   ]
  },
  {
   "cell_type": "code",
   "execution_count": 95,
   "metadata": {
    "colab": {
     "base_uri": "https://localhost:8080/"
    },
    "id": "c0CifgDYaE7W",
    "outputId": "6df0bf4a-cd97-45ad-d08e-c9b1aecdb677"
   },
   "outputs": [
    {
     "name": "stdout",
     "output_type": "stream",
     "text": [
      "Epoch: 1/10\n",
      "**************** \n",
      "\n",
      "train Loss: 2.1527 Acc: 0.2194\n",
      "valid Loss: 2.0556 Acc: 0.2559\n",
      "Epoch: 2/10\n",
      "**************** \n",
      "\n",
      "train Loss: 2.0241 Acc: 0.2791\n",
      "valid Loss: 2.0786 Acc: 0.2441\n",
      "Epoch: 3/10\n",
      "**************** \n",
      "\n",
      "train Loss: 1.9025 Acc: 0.3368\n",
      "valid Loss: 2.1317 Acc: 0.2391\n",
      "Epoch: 4/10\n",
      "**************** \n",
      "\n",
      "train Loss: 1.6989 Acc: 0.4376\n",
      "valid Loss: 2.5651 Acc: 0.1902\n",
      "Epoch: 5/10\n",
      "**************** \n",
      "\n",
      "train Loss: 1.3159 Acc: 0.5900\n",
      "valid Loss: 2.1808 Acc: 0.2896\n",
      "Epoch: 6/10\n",
      "**************** \n",
      "\n",
      "train Loss: 0.9485 Acc: 0.7164\n",
      "valid Loss: 1.9945 Acc: 0.2929\n",
      "Epoch: 7/10\n",
      "**************** \n",
      "\n",
      "train Loss: 0.6730 Acc: 0.8107\n",
      "valid Loss: 2.4283 Acc: 0.2391\n",
      "Epoch: 8/10\n",
      "**************** \n",
      "\n",
      "train Loss: 0.5155 Acc: 0.8556\n",
      "valid Loss: 2.4564 Acc: 0.2660\n",
      "Epoch: 9/10\n",
      "**************** \n",
      "\n",
      "train Loss: 0.4063 Acc: 0.8784\n",
      "valid Loss: 3.2196 Acc: 0.2071\n",
      "Epoch: 10/10\n",
      "**************** \n",
      "\n",
      "train Loss: 0.3439 Acc: 0.9020\n",
      "valid Loss: 2.8518 Acc: 0.2845\n",
      "Training complete in 3m 22.95911431312561s\n",
      "Best val Acc: 0.29292929292929293\n"
     ]
    }
   ],
   "source": [
    "batchnorm1_model, batchnorm1_results= train_model(myCNN, criterion, optimizer, exp_lr_scheduler,num_epochs=n_epochs)"
   ]
  },
  {
   "cell_type": "markdown",
   "metadata": {
    "id": "vtPDv3V_T341"
   },
   "source": [
    "Even with batch normalization, it appears that the model is over-fitting worse than it did in the dropout model."
   ]
  },
  {
   "cell_type": "code",
   "execution_count": 96,
   "metadata": {
    "colab": {
     "base_uri": "https://localhost:8080/",
     "height": 265
    },
    "id": "zjQG32Brsfzo",
    "outputId": "aa3f3b3e-e977-46c6-e027-2e0c65f6eb18"
   },
   "outputs": [
    {
     "data": {
      "image/png": "[encoded data removed]",
      "text/plain": [
       "<Figure size 432x288 with 2 Axes>"
      ]
     },
     "metadata": {
      "needs_background": "light",
      "tags": []
     },
     "output_type": "display_data"
    }
   ],
   "source": [
    "fig, axs = plt.subplots(nrows = 1, ncols = 2)\n",
    "\n",
    "for i in range(2):\n",
    "    if i == 0:\n",
    "        val = \"acc\"\n",
    "    else:\n",
    "        val = \"loss\"\n",
    "    axs[i].plot(batchnorm1_results[\"train\"][val])\n",
    "    axs[i].plot(batchnorm1_results[\"valid\"][val])"
   ]
  },
  {
   "cell_type": "markdown",
   "metadata": {
    "id": "HUSMgdi5b9yb"
   },
   "source": [
    "# Test Models\n"
   ]
  },
  {
   "cell_type": "markdown",
   "metadata": {
    "id": "vQdBWofKf3jI"
   },
   "source": [
    "# Best Model\n",
    "\n",
    "Building off of the \"Baseline CNN\" architecture mentioned in [this paper from stanford](http://cs231n.stanford.edu/reports/2017/pdfs/406.pdf), our best model returned an accuracy on the validation set of ~35% after 10 epochs."
   ]
  },
  {
   "cell_type": "code",
   "execution_count": 100,
   "metadata": {
    "id": "EiVUlBKzervO"
   },
   "outputs": [],
   "source": [
    "from torch.autograd import Variable\n",
    "import torch.nn.functional as F\n",
    "\n",
    "class best_CNN(torch.nn.Module):\n",
    "    \n",
    "    #Our batch shape for input x is (3, 256, 256)\n",
    "    \n",
    "    def __init__(self):\n",
    "        super(best_CNN, self).__init__()\n",
    "        \n",
    "        #Input channels = 3, output channels = 16\n",
    "        self.conv1 = torch.nn.Conv2d(3, 32, kernel_size=3, stride=2, padding=1)\n",
    "        self.pool1 = torch.nn.MaxPool2d(kernel_size=2, stride=2, padding=0)\n",
    "        \n",
    "        self.conv2 = torch.nn.Conv2d(32, 32, kernel_size=3, stride=2, padding=1)\n",
    "        self.bn2d = nn.BatchNorm2d(32)\n",
    "        self.pool2 = torch.nn.MaxPool2d(kernel_size=2, stride=2, padding=0)\n",
    "    \n",
    "\n",
    "        self.fc1 = torch.nn.Linear(32 * 16 * 16, 256)\n",
    "        self.bn1d = nn.BatchNorm1d(256)\n",
    "        self.fc2 = torch.nn.Linear(256, 10)\n",
    "        \n",
    "    def forward(self, x):\n",
    "        \n",
    "        #Computes the activation of the first convolution\n",
    "        # 3 -> 16 Channels\n",
    "        x = F.relu(self.conv1(x))\n",
    "        #Size changes from (16, 256, 256) to (16, 128, 128)\n",
    "        x = self.pool1(x)\n",
    "\n",
    "        # 16 -> 32 Channels\n",
    "        x = F.relu(self.bn2d(self.conv2(x)))\n",
    "        #Size changes from (32, 128, 128) to (32, 64, 64)\n",
    "        x = self.pool2(x)\n",
    "\n",
    "        #Reshape data to input to the input layer of the neural net\n",
    "        #Size changes from (32, 64, 64) to (1, 131072)\n",
    "        x = x.view(-1, 32 * 16 * 16)\n",
    "        \n",
    "        #Computes the activation of the first fully connected layer\n",
    "        #Size changes from (1, 131072) to (1, 64)\n",
    "        x = F.relu(self.bn1d(self.fc1(x)))\n",
    "        #Size changes from (1, 64) to (1, 10)\n",
    "        x = self.fc2(x)\n",
    "        return(x)"
   ]
  },
  {
   "cell_type": "code",
   "execution_count": 101,
   "metadata": {
    "id": "_6Yg8U9Beuc5"
   },
   "outputs": [],
   "source": [
    "myCNN = best_CNN()\n",
    "myCNN = myCNN.to(device)\n",
    "\n",
    "criterion = nn.CrossEntropyLoss()\n",
    "optimizer = optim.Adam(myCNN.parameters(), lr=0.001)\n",
    "exp_lr_scheduler= lr_scheduler.StepLR(optimizer, step_size=3, gamma=0.1)\n",
    "# Set number of Epochs\n",
    "n_epochs = 10"
   ]
  },
  {
   "cell_type": "code",
   "execution_count": 102,
   "metadata": {
    "colab": {
     "base_uri": "https://localhost:8080/"
    },
    "id": "nJoLPrCneuc7",
    "outputId": "017239d2-e194-454d-84f2-1b72154b03ec"
   },
   "outputs": [
    {
     "name": "stdout",
     "output_type": "stream",
     "text": [
      "Epoch: 1/10\n",
      "**************** \n",
      "\n",
      "train Loss: 2.1338 Acc: 0.2307\n",
      "valid Loss: 2.0212 Acc: 0.2576\n",
      "Epoch: 2/10\n",
      "**************** \n",
      "\n",
      "train Loss: 2.0002 Acc: 0.2936\n",
      "valid Loss: 2.1007 Acc: 0.2424\n",
      "Epoch: 3/10\n",
      "**************** \n",
      "\n",
      "train Loss: 1.8887 Acc: 0.3390\n",
      "valid Loss: 2.1373 Acc: 0.2323\n",
      "Epoch: 4/10\n",
      "**************** \n",
      "\n",
      "train Loss: 1.6625 Acc: 0.4343\n",
      "valid Loss: 1.8683 Acc: 0.3401\n",
      "Epoch: 5/10\n",
      "**************** \n",
      "\n",
      "train Loss: 1.5717 Acc: 0.4712\n",
      "valid Loss: 1.8827 Acc: 0.3283\n",
      "Epoch: 6/10\n",
      "**************** \n",
      "\n",
      "train Loss: 1.4845 Acc: 0.5050\n",
      "valid Loss: 1.8339 Acc: 0.3552\n",
      "Epoch: 7/10\n",
      "**************** \n",
      "\n",
      "train Loss: 1.3977 Acc: 0.5376\n",
      "valid Loss: 1.8722 Acc: 0.3485\n",
      "Epoch: 8/10\n",
      "**************** \n",
      "\n",
      "train Loss: 1.3705 Acc: 0.5451\n",
      "valid Loss: 1.8412 Acc: 0.3451\n",
      "Epoch: 9/10\n",
      "**************** \n",
      "\n",
      "train Loss: 1.3723 Acc: 0.5419\n",
      "valid Loss: 1.8718 Acc: 0.3418\n",
      "Epoch: 10/10\n",
      "**************** \n",
      "\n",
      "train Loss: 1.3548 Acc: 0.5574\n",
      "valid Loss: 1.8616 Acc: 0.3434\n",
      "Training complete in 2m 37.948039531707764s\n",
      "Best val Acc: 0.3552188552188552\n"
     ]
    }
   ],
   "source": [
    "best_model, best_results = train_model(myCNN, criterion, optimizer, exp_lr_scheduler,num_epochs=n_epochs)"
   ]
  },
  {
   "cell_type": "code",
   "execution_count": 103,
   "metadata": {
    "colab": {
     "base_uri": "https://localhost:8080/",
     "height": 265
    },
    "id": "2xcGcGi5s018",
    "outputId": "f934f079-ceab-41f1-8e6b-7059251ef3b6"
   },
   "outputs": [
    {
     "data": {
      "image/png": "[encoded data removed]",
      "text/plain": [
       "<Figure size 432x288 with 2 Axes>"
      ]
     },
     "metadata": {
      "needs_background": "light",
      "tags": []
     },
     "output_type": "display_data"
    }
   ],
   "source": [
    "fig, axs = plt.subplots(nrows = 1, ncols = 2)\n",
    "\n",
    "for i in range(2):\n",
    "    if i == 0:\n",
    "        val = \"acc\"\n",
    "    else:\n",
    "        val = \"loss\"\n",
    "    axs[i].plot(best_results[\"train\"][val])\n",
    "    axs[i].plot(best_results[\"valid\"][val])"
   ]
  }
 ],
 "metadata": {
  "accelerator": "GPU",
  "colab": {
   "collapsed_sections": [],
   "name": "ClassifyImpressionists.ipynb",
   "provenance": [],
   "toc_visible": true
  },
  "kernelspec": {
   "display_name": "Python 3",
   "language": "python",
   "name": "python3"
  },
  "language_info": {
   "codemirror_mode": {
    "name": "ipython",
    "version": 3
   },
   "file_extension": ".py",
   "mimetype": "text/x-python",
   "name": "python",
   "nbconvert_exporter": "python",
   "pygments_lexer": "ipython3",
   "version": "3.8.8"
  }
 },
 "nbformat": 4,
 "nbformat_minor": 1
}
