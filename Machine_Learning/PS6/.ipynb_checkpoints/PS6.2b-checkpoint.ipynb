{
 "cells": [
  {
   "cell_type": "code",
   "execution_count": 394,
   "metadata": {},
   "outputs": [],
   "source": [
    "import torch\n",
    "from torch.autograd import Variable\n",
    "import torch.nn as nn\n",
    "import torch.nn.functional as F\n",
    "import torch.optim as optim\n",
    "import matplotlib.pyplot as plt\n",
    "import itertools"
   ]
  },
  {
   "cell_type": "markdown",
   "metadata": {},
   "source": [
    "# Problem 2b"
   ]
  },
  {
   "cell_type": "code",
   "execution_count": 395,
   "metadata": {},
   "outputs": [],
   "source": [
    "\n",
    "num_epochs = 500"
   ]
  },
  {
   "cell_type": "code",
   "execution_count": 396,
   "metadata": {},
   "outputs": [],
   "source": [
    "class model(nn.Module):\n",
    "    \n",
    "    def __init__(self):\n",
    "        super(model, self).__init__()\n",
    "        self.n1 = nn.Linear(2, 2, True)\n",
    "        self.n2 = nn.Linear(2, 1, True)\n",
    "        \n",
    "\n",
    "            \n",
    "\n",
    "    def forward(self, x):\n",
    "        \n",
    "        x = F.relu(self.n1(x))\n",
    "        x = F.relu(self.n2(x))\n",
    "        return x\n",
    "    \n",
    "    "
   ]
  },
  {
   "cell_type": "code",
   "execution_count": 397,
   "metadata": {},
   "outputs": [],
   "source": [
    "\n",
    "network= model()\n",
    "\n",
    "x1 = list(range(-3,3))\n",
    "x2 = list(range(-3,3))\n",
    "y = []\n",
    "for i in x1:\n",
    "    for j in x2:\n",
    "        y.append( max((max(i*(-1) + j*(-1) + 1, 0) * -1 +  max(i*(1) + j*(1) - 1, 0) * -1) + 1, 0))\n",
    "\n",
    "\n",
    "x = list(map(lambda s: Variable(torch.Tensor([s])), [\n",
    "    \n",
    "    [i,j] for i,j in itertools.product(x1,x2)\n",
    "]\n",
    "))\n",
    "\n",
    "\n",
    "\n",
    "y = list(map(lambda s: Variable(torch.Tensor([s])), [\n",
    "    max(max(xi[0][0]*(-1)+xi[0][1]*(-1) + 1,0)*-1 + max(xi[0][0]*1+xi[0][1]*1 - 1,0)*-1 +1,0) for xi in x\n",
    "\n",
    "]))"
   ]
  },
  {
   "cell_type": "code",
   "execution_count": 398,
   "metadata": {},
   "outputs": [],
   "source": [
    "loss_func = nn.MSELoss()\n",
    "optimizer = optim.SGD(network.parameters(), lr=0.05)\n"
   ]
  },
  {
   "cell_type": "code",
   "execution_count": 399,
   "metadata": {},
   "outputs": [
    {
     "name": "stdout",
     "output_type": "stream",
     "text": [
      "499\r"
     ]
    }
   ],
   "source": [
    "\n",
    "for i in range(0, num_epochs):\n",
    "    for features, target in zip(x, y):\n",
    "        \n",
    "        optimizer.zero_grad()   \n",
    "        \n",
    "        output = network(features)\n",
    "        loss = loss_func(output, target)\n",
    "    \n",
    "        loss.backward()\n",
    "        \n",
    "        optimizer.step()\n",
    "    print(f'{i}',end='\\r')\n",
    "\n",
    "  \n"
   ]
  },
  {
   "cell_type": "code",
   "execution_count": 400,
   "metadata": {},
   "outputs": [
    {
     "name": "stdout",
     "output_type": "stream",
     "text": [
      "Input:[-3,-3] Target:[0] Predicted:[0.0] Error:[0.0]\n",
      "Input:[-3,-2] Target:[0] Predicted:[0.0] Error:[0.0]\n",
      "Input:[-3,-1] Target:[0] Predicted:[0.0] Error:[0.0]\n",
      "Input:[-3,0] Target:[0] Predicted:[0.0] Error:[0.0]\n",
      "Input:[-3,1] Target:[0] Predicted:[0.0] Error:[0.0]\n",
      "Input:[-3,2] Target:[0] Predicted:[0.0] Error:[0.0]\n",
      "Input:[-2,-3] Target:[0] Predicted:[0.0] Error:[0.0]\n",
      "Input:[-2,-2] Target:[0] Predicted:[0.0] Error:[0.0]\n",
      "Input:[-2,-1] Target:[0] Predicted:[0.0] Error:[0.0]\n",
      "Input:[-2,0] Target:[0] Predicted:[0.0] Error:[0.0]\n",
      "Input:[-2,1] Target:[0] Predicted:[0.0] Error:[0.0]\n",
      "Input:[-2,2] Target:[0] Predicted:[0.0] Error:[0.0]\n",
      "Input:[-1,-3] Target:[0] Predicted:[0.0] Error:[0.0]\n",
      "Input:[-1,-2] Target:[0] Predicted:[0.0] Error:[0.0]\n",
      "Input:[-1,-1] Target:[0] Predicted:[0.0] Error:[0.0]\n",
      "Input:[-1,0] Target:[0] Predicted:[0.0] Error:[0.0]\n",
      "Input:[-1,1] Target:[0] Predicted:[0.0] Error:[0.0]\n",
      "Input:[-1,2] Target:[1] Predicted:[0.0] Error:[1.0]\n",
      "Input:[0,-3] Target:[0] Predicted:[0.0] Error:[0.0]\n",
      "Input:[0,-2] Target:[0] Predicted:[0.0] Error:[0.0]\n",
      "Input:[0,-1] Target:[0] Predicted:[0.0] Error:[0.0]\n",
      "Input:[0,0] Target:[0] Predicted:[0.0] Error:[0.0]\n",
      "Input:[0,1] Target:[1] Predicted:[0.0] Error:[1.0]\n",
      "Input:[0,2] Target:[0] Predicted:[0.0] Error:[0.0]\n",
      "Input:[1,-3] Target:[0] Predicted:[0.0] Error:[0.0]\n",
      "Input:[1,-2] Target:[0] Predicted:[0.0] Error:[0.0]\n",
      "Input:[1,-1] Target:[0] Predicted:[0.0] Error:[0.0]\n",
      "Input:[1,0] Target:[1] Predicted:[0.0] Error:[1.0]\n",
      "Input:[1,1] Target:[0] Predicted:[0.0] Error:[0.0]\n",
      "Input:[1,2] Target:[0] Predicted:[0.0] Error:[0.0]\n",
      "Input:[2,-3] Target:[0] Predicted:[0.0] Error:[0.0]\n",
      "Input:[2,-2] Target:[0] Predicted:[0.0] Error:[0.0]\n",
      "Input:[2,-1] Target:[1] Predicted:[0.0] Error:[1.0]\n",
      "Input:[2,0] Target:[0] Predicted:[0.0] Error:[0.0]\n",
      "Input:[2,1] Target:[0] Predicted:[0.0] Error:[0.0]\n",
      "Input:[2,2] Target:[0] Predicted:[0.0] Error:[0.0]\n"
     ]
    }
   ],
   "source": [
    "for input, target in zip(x, y):\n",
    "    output = network(input)\n",
    "    print(\"Input:[{},{}] Target:[{}] Predicted:[{}] Error:[{}]\".format(\n",
    "        int(input.data.numpy()[0][0]),\n",
    "        int(input.data.numpy()[0][1]),\n",
    "        int(target.data.numpy()[0]),\n",
    "        round(float(output.data.numpy()[0]), 4),\n",
    "        round(float(abs(target.data.numpy()[0] - output.data.numpy()[0])), 4)\n",
    "    ))"
   ]
  },
  {
   "cell_type": "code",
   "execution_count": 401,
   "metadata": {},
   "outputs": [
    {
     "name": "stdout",
     "output_type": "stream",
     "text": [
      "n1.weight tensor([[-0.4603,  0.4539],\n",
      "        [ 0.5973, -0.0822]])\n",
      "n1.bias tensor([-0.2386, -0.0559])\n",
      "n2.weight tensor([[-0.1062, -0.6607]])\n",
      "n2.bias tensor([-0.0314])\n"
     ]
    }
   ],
   "source": [
    "for name, param in network.named_parameters():\n",
    "    if param.requires_grad:\n",
    "        print (name, param.data)"
   ]
  }
 ],
 "metadata": {
  "kernelspec": {
   "display_name": "Python 3",
   "language": "python",
   "name": "python3"
  },
  "language_info": {
   "codemirror_mode": {
    "name": "ipython",
    "version": 3
   },
   "file_extension": ".py",
   "mimetype": "text/x-python",
   "name": "python",
   "nbconvert_exporter": "python",
   "pygments_lexer": "ipython3",
   "version": "3.8.6"
  }
 },
 "nbformat": 4,
 "nbformat_minor": 5
}
