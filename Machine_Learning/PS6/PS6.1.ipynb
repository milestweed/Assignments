{
 "cells": [
  {
   "cell_type": "code",
   "execution_count": 2,
   "id": "potential-incidence",
   "metadata": {},
   "outputs": [],
   "source": [
    "import numpy as np\n",
    "import pandas as pd\n",
    "import matplotlib.pyplot as plt\n",
    "import seaborn as sns\n",
    "%matplotlib inline"
   ]
  },
  {
   "cell_type": "code",
   "execution_count": 10,
   "id": "tired-norman",
   "metadata": {},
   "outputs": [],
   "source": [
    "from six.moves import urllib\n",
    "opener = urllib.request.build_opener()\n",
    "opener.addheaders = [('User-agent', 'Mozilla/5.0')]\n",
    "urllib.request.install_opener(opener)"
   ]
  },
  {
   "cell_type": "markdown",
   "id": "difficult-motor",
   "metadata": {},
   "source": [
    "# Problem 1"
   ]
  },
  {
   "cell_type": "code",
   "execution_count": 59,
   "id": "suited-navigation",
   "metadata": {},
   "outputs": [],
   "source": [
    "training_set = np.array([[0,3],[1,2],[2,1],[3,0]])"
   ]
  },
  {
   "cell_type": "code",
   "execution_count": 60,
   "id": "going-paragraph",
   "metadata": {},
   "outputs": [
    {
     "name": "stdout",
     "output_type": "stream",
     "text": [
      "[[0 3]\n",
      " [1 2]\n",
      " [2 1]\n",
      " [3 0]]\n"
     ]
    }
   ],
   "source": [
    "print(training_set)"
   ]
  },
  {
   "cell_type": "code",
   "execution_count": 65,
   "id": "subtle-plane",
   "metadata": {},
   "outputs": [],
   "source": [
    "def calc_e(ts, w = [1,1]):\n",
    "    es = []\n",
    "    for s in ts:\n",
    "        x0 = s[0]\n",
    "        x1 = s[1]\n",
    "        w0 = w[0]\n",
    "        w1 = w[1]\n",
    "        es.append(((x0 - 2*x1) - (x0*w0 + x1*w1))**2)\n",
    "\n",
    "    return((1/4)*sum(es))"
   ]
  },
  {
   "cell_type": "code",
   "execution_count": 66,
   "id": "desirable-alaska",
   "metadata": {},
   "outputs": [],
   "source": [
    "def update_weights(ts, w = [1,1]):\n",
    "    w0s = []\n",
    "    w1s = []\n",
    "    w0 = w[0]\n",
    "    w1 = w[1]\n",
    "    for s in ts:\n",
    "        x0 = s[0]\n",
    "        x1 = s[1]\n",
    "        w0s.append(2*x0*(2*x1 - x0 + x0*w0 + x1*w1))\n",
    "        w1s.append(2*x1*(2*x1 - x0 + x0*w0 + x1*w1))\n",
    "    \n",
    "    w0 = w[0] - (1/10)* (1/4)*sum(w0s)\n",
    "    w1 = w[1] - (1/10) * (1/4)*sum(w1s)\n",
    "    return([w0,w1])"
   ]
  },
  {
   "cell_type": "code",
   "execution_count": 67,
   "id": "timely-correction",
   "metadata": {},
   "outputs": [],
   "source": [
    "e = calc_e(training_set)\n",
    "w = update_weights(training_set)\n",
    "plot_e = [e]\n",
    "steps = [0]\n",
    "plot_w0 = [w[0]]\n",
    "plot_w1 = [w[1]]"
   ]
  },
  {
   "cell_type": "code",
   "execution_count": 68,
   "id": "growing-bullet",
   "metadata": {},
   "outputs": [],
   "source": [
    "c = 0\n",
    "while abs(e) > 0.01:\n",
    "    c+=1\n",
    "    steps.append(c)\n",
    "    \n",
    "    e = calc_e(training_set, w)\n",
    "    plot_e.append(e)\n",
    "    \n",
    "    w = update_weights(training_set, w)\n",
    "    plot_w0.append(w[0])\n",
    "    plot_w1.append(w[1])"
   ]
  },
  {
   "cell_type": "code",
   "execution_count": 69,
   "id": "ceramic-chocolate",
   "metadata": {},
   "outputs": [
    {
     "data": {
      "text/plain": [
       "6"
      ]
     },
     "execution_count": 69,
     "metadata": {},
     "output_type": "execute_result"
    }
   ],
   "source": [
    "c"
   ]
  },
  {
   "cell_type": "code",
   "execution_count": 70,
   "id": "answering-conversion",
   "metadata": {},
   "outputs": [
    {
     "data": {
      "text/plain": [
       "0.002746582051500002"
      ]
     },
     "execution_count": 70,
     "metadata": {},
     "output_type": "execute_result"
    }
   ],
   "source": [
    "e"
   ]
  },
  {
   "cell_type": "code",
   "execution_count": 71,
   "id": "medical-weapon",
   "metadata": {},
   "outputs": [
    {
     "data": {
      "text/plain": [
       "[0.9882814, -1.9882811]"
      ]
     },
     "execution_count": 71,
     "metadata": {},
     "output_type": "execute_result"
    }
   ],
   "source": [
    "w"
   ]
  },
  {
   "cell_type": "code",
   "execution_count": 74,
   "id": "gross-glass",
   "metadata": {},
   "outputs": [
    {
     "data": {
      "text/plain": [
       "<matplotlib.collections.PathCollection at 0x7f6c97bfcf10>"
      ]
     },
     "execution_count": 74,
     "metadata": {},
     "output_type": "execute_result"
    },
    {
     "data": {
      "image/png": "[encoded data removed]",
      "text/plain": [
       "<Figure size 1080x360 with 2 Axes>"
      ]
     },
     "metadata": {
      "needs_background": "light"
     },
     "output_type": "display_data"
    }
   ],
   "source": [
    "fig, (ax0,ax1) = plt.subplots(ncols=2, nrows = 1, figsize = [15,5])\n",
    "ax0.plot(steps, plot_e)\n",
    "ax1.scatter(plot_w0, plot_w1)"
   ]
  }
 ],
 "metadata": {
  "kernelspec": {
   "display_name": "Python 3 (ipykernel)",
   "language": "python",
   "name": "python3"
  },
  "language_info": {
   "codemirror_mode": {
    "name": "ipython",
    "version": 3
   },
   "file_extension": ".py",
   "mimetype": "text/x-python",
   "name": "python",
   "nbconvert_exporter": "python",
   "pygments_lexer": "ipython3",
   "version": "3.9.6"
  }
 },
 "nbformat": 4,
 "nbformat_minor": 5
}
