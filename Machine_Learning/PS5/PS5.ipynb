{
 "cells": [
  {
   "cell_type": "code",
   "execution_count": 1,
   "id": "secret-surname",
   "metadata": {},
   "outputs": [],
   "source": [
    "import numpy as np\n",
    "import matplotlib.pyplot as plt\n",
    "import pandas as pd\n",
    "import seaborn as sns\n",
    "import statsmodels.api as sm\n",
    "import statsmodels.formula.api as smf\n",
    "from regressors import stats\n",
    "from sklearn.linear_model import LogisticRegressionCV as LRCV, LinearRegression\n",
    "from sklearn.preprocessing import PolynomialFeatures\n",
    "from sklearn.metrics import confusion_matrix, classification_report, mean_squared_error\n",
    "from sklearn.model_selection import cross_val_score, LeaveOneOut, KFold\n",
    "from sklearn.pipeline import make_pipeline\n",
    "from regressors import stats"
   ]
  },
  {
   "cell_type": "code",
   "execution_count": 2,
   "id": "cheap-bosnia",
   "metadata": {},
   "outputs": [],
   "source": [
    "np.random.seed(123)"
   ]
  },
  {
   "cell_type": "markdown",
   "id": "confused-clothing",
   "metadata": {},
   "source": [
    "# Problem 1"
   ]
  },
  {
   "cell_type": "markdown",
   "id": "dynamic-driver",
   "metadata": {},
   "source": [
    "### Data Generation"
   ]
  },
  {
   "cell_type": "code",
   "execution_count": 3,
   "id": "noted-cabinet",
   "metadata": {},
   "outputs": [],
   "source": [
    "arr = np.array([[np.random.uniform(-1,1) for i in range(1000)] for j in range(50)])"
   ]
  },
  {
   "cell_type": "code",
   "execution_count": 4,
   "id": "original-smith",
   "metadata": {},
   "outputs": [],
   "source": [
    "df = pd.DataFrame(arr)"
   ]
  },
  {
   "cell_type": "code",
   "execution_count": 5,
   "id": "presidential-fusion",
   "metadata": {},
   "outputs": [
    {
     "data": {
      "text/html": [
       "<div>\n",
       "<style scoped>\n",
       "    .dataframe tbody tr th:only-of-type {\n",
       "        vertical-align: middle;\n",
       "    }\n",
       "\n",
       "    .dataframe tbody tr th {\n",
       "        vertical-align: top;\n",
       "    }\n",
       "\n",
       "    .dataframe thead th {\n",
       "        text-align: right;\n",
       "    }\n",
       "</style>\n",
       "<table border=\"1\" class=\"dataframe\">\n",
       "  <thead>\n",
       "    <tr style=\"text-align: right;\">\n",
       "      <th></th>\n",
       "      <th>0</th>\n",
       "      <th>1</th>\n",
       "      <th>2</th>\n",
       "      <th>3</th>\n",
       "      <th>4</th>\n",
       "      <th>5</th>\n",
       "      <th>6</th>\n",
       "      <th>7</th>\n",
       "      <th>8</th>\n",
       "      <th>9</th>\n",
       "      <th>...</th>\n",
       "      <th>990</th>\n",
       "      <th>991</th>\n",
       "      <th>992</th>\n",
       "      <th>993</th>\n",
       "      <th>994</th>\n",
       "      <th>995</th>\n",
       "      <th>996</th>\n",
       "      <th>997</th>\n",
       "      <th>998</th>\n",
       "      <th>999</th>\n",
       "    </tr>\n",
       "  </thead>\n",
       "  <tbody>\n",
       "    <tr>\n",
       "      <th>0</th>\n",
       "      <td>0.392938</td>\n",
       "      <td>-0.427721</td>\n",
       "      <td>-0.546297</td>\n",
       "      <td>0.102630</td>\n",
       "      <td>0.438938</td>\n",
       "      <td>-0.153787</td>\n",
       "      <td>0.961528</td>\n",
       "      <td>0.369659</td>\n",
       "      <td>-0.038136</td>\n",
       "      <td>-0.215765</td>\n",
       "      <td>...</td>\n",
       "      <td>-0.073284</td>\n",
       "      <td>-0.883226</td>\n",
       "      <td>0.077316</td>\n",
       "      <td>-0.707929</td>\n",
       "      <td>0.268170</td>\n",
       "      <td>-0.471205</td>\n",
       "      <td>0.381831</td>\n",
       "      <td>-0.305708</td>\n",
       "      <td>-0.991663</td>\n",
       "      <td>-0.410211</td>\n",
       "    </tr>\n",
       "    <tr>\n",
       "      <th>1</th>\n",
       "      <td>-0.836211</td>\n",
       "      <td>-0.009921</td>\n",
       "      <td>-0.422220</td>\n",
       "      <td>0.279984</td>\n",
       "      <td>-0.000128</td>\n",
       "      <td>-0.927910</td>\n",
       "      <td>-0.362732</td>\n",
       "      <td>-0.021882</td>\n",
       "      <td>0.144408</td>\n",
       "      <td>-0.790257</td>\n",
       "      <td>...</td>\n",
       "      <td>0.431159</td>\n",
       "      <td>0.584337</td>\n",
       "      <td>0.652559</td>\n",
       "      <td>0.540061</td>\n",
       "      <td>0.380856</td>\n",
       "      <td>-0.613975</td>\n",
       "      <td>0.463301</td>\n",
       "      <td>-0.450577</td>\n",
       "      <td>0.443635</td>\n",
       "      <td>-0.804274</td>\n",
       "    </tr>\n",
       "    <tr>\n",
       "      <th>2</th>\n",
       "      <td>-0.153968</td>\n",
       "      <td>-0.213963</td>\n",
       "      <td>-0.926598</td>\n",
       "      <td>0.768039</td>\n",
       "      <td>0.352960</td>\n",
       "      <td>0.556515</td>\n",
       "      <td>0.331442</td>\n",
       "      <td>-0.314000</td>\n",
       "      <td>0.013588</td>\n",
       "      <td>-0.742509</td>\n",
       "      <td>...</td>\n",
       "      <td>-0.545743</td>\n",
       "      <td>0.013392</td>\n",
       "      <td>-0.249211</td>\n",
       "      <td>0.008112</td>\n",
       "      <td>-0.461449</td>\n",
       "      <td>0.220235</td>\n",
       "      <td>0.243973</td>\n",
       "      <td>-0.582165</td>\n",
       "      <td>0.134944</td>\n",
       "      <td>-0.109569</td>\n",
       "    </tr>\n",
       "    <tr>\n",
       "      <th>3</th>\n",
       "      <td>0.938852</td>\n",
       "      <td>0.443567</td>\n",
       "      <td>-0.636217</td>\n",
       "      <td>0.764057</td>\n",
       "      <td>-0.045957</td>\n",
       "      <td>0.693714</td>\n",
       "      <td>0.661815</td>\n",
       "      <td>-0.965299</td>\n",
       "      <td>-0.532676</td>\n",
       "      <td>0.822183</td>\n",
       "      <td>...</td>\n",
       "      <td>-0.229259</td>\n",
       "      <td>0.528065</td>\n",
       "      <td>0.143618</td>\n",
       "      <td>0.235813</td>\n",
       "      <td>-0.664904</td>\n",
       "      <td>0.103549</td>\n",
       "      <td>0.089398</td>\n",
       "      <td>0.475035</td>\n",
       "      <td>0.406200</td>\n",
       "      <td>0.245757</td>\n",
       "    </tr>\n",
       "    <tr>\n",
       "      <th>4</th>\n",
       "      <td>-0.682005</td>\n",
       "      <td>0.937566</td>\n",
       "      <td>0.218337</td>\n",
       "      <td>-0.672491</td>\n",
       "      <td>0.608307</td>\n",
       "      <td>-0.717667</td>\n",
       "      <td>-0.458174</td>\n",
       "      <td>0.125900</td>\n",
       "      <td>-0.695532</td>\n",
       "      <td>-0.826452</td>\n",
       "      <td>...</td>\n",
       "      <td>-0.011333</td>\n",
       "      <td>0.946683</td>\n",
       "      <td>-0.489144</td>\n",
       "      <td>-0.841033</td>\n",
       "      <td>0.685729</td>\n",
       "      <td>0.003297</td>\n",
       "      <td>-0.285188</td>\n",
       "      <td>-0.136751</td>\n",
       "      <td>0.885420</td>\n",
       "      <td>-0.912014</td>\n",
       "    </tr>\n",
       "  </tbody>\n",
       "</table>\n",
       "<p>5 rows × 1000 columns</p>\n",
       "</div>"
      ],
      "text/plain": [
       "        0         1         2         3         4         5         6    \\\n",
       "0  0.392938 -0.427721 -0.546297  0.102630  0.438938 -0.153787  0.961528   \n",
       "1 -0.836211 -0.009921 -0.422220  0.279984 -0.000128 -0.927910 -0.362732   \n",
       "2 -0.153968 -0.213963 -0.926598  0.768039  0.352960  0.556515  0.331442   \n",
       "3  0.938852  0.443567 -0.636217  0.764057 -0.045957  0.693714  0.661815   \n",
       "4 -0.682005  0.937566  0.218337 -0.672491  0.608307 -0.717667 -0.458174   \n",
       "\n",
       "        7         8         9    ...       990       991       992       993  \\\n",
       "0  0.369659 -0.038136 -0.215765  ... -0.073284 -0.883226  0.077316 -0.707929   \n",
       "1 -0.021882  0.144408 -0.790257  ...  0.431159  0.584337  0.652559  0.540061   \n",
       "2 -0.314000  0.013588 -0.742509  ... -0.545743  0.013392 -0.249211  0.008112   \n",
       "3 -0.965299 -0.532676  0.822183  ... -0.229259  0.528065  0.143618  0.235813   \n",
       "4  0.125900 -0.695532 -0.826452  ... -0.011333  0.946683 -0.489144 -0.841033   \n",
       "\n",
       "        994       995       996       997       998       999  \n",
       "0  0.268170 -0.471205  0.381831 -0.305708 -0.991663 -0.410211  \n",
       "1  0.380856 -0.613975  0.463301 -0.450577  0.443635 -0.804274  \n",
       "2 -0.461449  0.220235  0.243973 -0.582165  0.134944 -0.109569  \n",
       "3 -0.664904  0.103549  0.089398  0.475035  0.406200  0.245757  \n",
       "4  0.685729  0.003297 -0.285188 -0.136751  0.885420 -0.912014  \n",
       "\n",
       "[5 rows x 1000 columns]"
      ]
     },
     "execution_count": 5,
     "metadata": {},
     "output_type": "execute_result"
    }
   ],
   "source": [
    "df.head()"
   ]
  },
  {
   "cell_type": "markdown",
   "id": "wrong-reconstruction",
   "metadata": {},
   "source": [
    "### Adding Class Markers"
   ]
  },
  {
   "cell_type": "code",
   "execution_count": 6,
   "id": "civic-cycling",
   "metadata": {},
   "outputs": [],
   "source": [
    "c = [np.random.randint(0,2) for i in range(50)]"
   ]
  },
  {
   "cell_type": "code",
   "execution_count": 7,
   "id": "optimum-retrieval",
   "metadata": {},
   "outputs": [],
   "source": [
    "df['class'] = c"
   ]
  },
  {
   "cell_type": "code",
   "execution_count": 8,
   "id": "detailed-ethnic",
   "metadata": {},
   "outputs": [
    {
     "data": {
      "text/html": [
       "<div>\n",
       "<style scoped>\n",
       "    .dataframe tbody tr th:only-of-type {\n",
       "        vertical-align: middle;\n",
       "    }\n",
       "\n",
       "    .dataframe tbody tr th {\n",
       "        vertical-align: top;\n",
       "    }\n",
       "\n",
       "    .dataframe thead th {\n",
       "        text-align: right;\n",
       "    }\n",
       "</style>\n",
       "<table border=\"1\" class=\"dataframe\">\n",
       "  <thead>\n",
       "    <tr style=\"text-align: right;\">\n",
       "      <th></th>\n",
       "      <th>0</th>\n",
       "      <th>1</th>\n",
       "      <th>2</th>\n",
       "      <th>3</th>\n",
       "      <th>4</th>\n",
       "      <th>5</th>\n",
       "      <th>6</th>\n",
       "      <th>7</th>\n",
       "      <th>8</th>\n",
       "      <th>9</th>\n",
       "      <th>...</th>\n",
       "      <th>991</th>\n",
       "      <th>992</th>\n",
       "      <th>993</th>\n",
       "      <th>994</th>\n",
       "      <th>995</th>\n",
       "      <th>996</th>\n",
       "      <th>997</th>\n",
       "      <th>998</th>\n",
       "      <th>999</th>\n",
       "      <th>class</th>\n",
       "    </tr>\n",
       "  </thead>\n",
       "  <tbody>\n",
       "    <tr>\n",
       "      <th>0</th>\n",
       "      <td>0.392938</td>\n",
       "      <td>-0.427721</td>\n",
       "      <td>-0.546297</td>\n",
       "      <td>0.102630</td>\n",
       "      <td>0.438938</td>\n",
       "      <td>-0.153787</td>\n",
       "      <td>0.961528</td>\n",
       "      <td>0.369659</td>\n",
       "      <td>-0.038136</td>\n",
       "      <td>-0.215765</td>\n",
       "      <td>...</td>\n",
       "      <td>-0.883226</td>\n",
       "      <td>0.077316</td>\n",
       "      <td>-0.707929</td>\n",
       "      <td>0.268170</td>\n",
       "      <td>-0.471205</td>\n",
       "      <td>0.381831</td>\n",
       "      <td>-0.305708</td>\n",
       "      <td>-0.991663</td>\n",
       "      <td>-0.410211</td>\n",
       "      <td>1</td>\n",
       "    </tr>\n",
       "    <tr>\n",
       "      <th>1</th>\n",
       "      <td>-0.836211</td>\n",
       "      <td>-0.009921</td>\n",
       "      <td>-0.422220</td>\n",
       "      <td>0.279984</td>\n",
       "      <td>-0.000128</td>\n",
       "      <td>-0.927910</td>\n",
       "      <td>-0.362732</td>\n",
       "      <td>-0.021882</td>\n",
       "      <td>0.144408</td>\n",
       "      <td>-0.790257</td>\n",
       "      <td>...</td>\n",
       "      <td>0.584337</td>\n",
       "      <td>0.652559</td>\n",
       "      <td>0.540061</td>\n",
       "      <td>0.380856</td>\n",
       "      <td>-0.613975</td>\n",
       "      <td>0.463301</td>\n",
       "      <td>-0.450577</td>\n",
       "      <td>0.443635</td>\n",
       "      <td>-0.804274</td>\n",
       "      <td>0</td>\n",
       "    </tr>\n",
       "    <tr>\n",
       "      <th>2</th>\n",
       "      <td>-0.153968</td>\n",
       "      <td>-0.213963</td>\n",
       "      <td>-0.926598</td>\n",
       "      <td>0.768039</td>\n",
       "      <td>0.352960</td>\n",
       "      <td>0.556515</td>\n",
       "      <td>0.331442</td>\n",
       "      <td>-0.314000</td>\n",
       "      <td>0.013588</td>\n",
       "      <td>-0.742509</td>\n",
       "      <td>...</td>\n",
       "      <td>0.013392</td>\n",
       "      <td>-0.249211</td>\n",
       "      <td>0.008112</td>\n",
       "      <td>-0.461449</td>\n",
       "      <td>0.220235</td>\n",
       "      <td>0.243973</td>\n",
       "      <td>-0.582165</td>\n",
       "      <td>0.134944</td>\n",
       "      <td>-0.109569</td>\n",
       "      <td>1</td>\n",
       "    </tr>\n",
       "    <tr>\n",
       "      <th>3</th>\n",
       "      <td>0.938852</td>\n",
       "      <td>0.443567</td>\n",
       "      <td>-0.636217</td>\n",
       "      <td>0.764057</td>\n",
       "      <td>-0.045957</td>\n",
       "      <td>0.693714</td>\n",
       "      <td>0.661815</td>\n",
       "      <td>-0.965299</td>\n",
       "      <td>-0.532676</td>\n",
       "      <td>0.822183</td>\n",
       "      <td>...</td>\n",
       "      <td>0.528065</td>\n",
       "      <td>0.143618</td>\n",
       "      <td>0.235813</td>\n",
       "      <td>-0.664904</td>\n",
       "      <td>0.103549</td>\n",
       "      <td>0.089398</td>\n",
       "      <td>0.475035</td>\n",
       "      <td>0.406200</td>\n",
       "      <td>0.245757</td>\n",
       "      <td>0</td>\n",
       "    </tr>\n",
       "    <tr>\n",
       "      <th>4</th>\n",
       "      <td>-0.682005</td>\n",
       "      <td>0.937566</td>\n",
       "      <td>0.218337</td>\n",
       "      <td>-0.672491</td>\n",
       "      <td>0.608307</td>\n",
       "      <td>-0.717667</td>\n",
       "      <td>-0.458174</td>\n",
       "      <td>0.125900</td>\n",
       "      <td>-0.695532</td>\n",
       "      <td>-0.826452</td>\n",
       "      <td>...</td>\n",
       "      <td>0.946683</td>\n",
       "      <td>-0.489144</td>\n",
       "      <td>-0.841033</td>\n",
       "      <td>0.685729</td>\n",
       "      <td>0.003297</td>\n",
       "      <td>-0.285188</td>\n",
       "      <td>-0.136751</td>\n",
       "      <td>0.885420</td>\n",
       "      <td>-0.912014</td>\n",
       "      <td>0</td>\n",
       "    </tr>\n",
       "  </tbody>\n",
       "</table>\n",
       "<p>5 rows × 1001 columns</p>\n",
       "</div>"
      ],
      "text/plain": [
       "          0         1         2         3         4         5         6  \\\n",
       "0  0.392938 -0.427721 -0.546297  0.102630  0.438938 -0.153787  0.961528   \n",
       "1 -0.836211 -0.009921 -0.422220  0.279984 -0.000128 -0.927910 -0.362732   \n",
       "2 -0.153968 -0.213963 -0.926598  0.768039  0.352960  0.556515  0.331442   \n",
       "3  0.938852  0.443567 -0.636217  0.764057 -0.045957  0.693714  0.661815   \n",
       "4 -0.682005  0.937566  0.218337 -0.672491  0.608307 -0.717667 -0.458174   \n",
       "\n",
       "          7         8         9  ...       991       992       993       994  \\\n",
       "0  0.369659 -0.038136 -0.215765  ... -0.883226  0.077316 -0.707929  0.268170   \n",
       "1 -0.021882  0.144408 -0.790257  ...  0.584337  0.652559  0.540061  0.380856   \n",
       "2 -0.314000  0.013588 -0.742509  ...  0.013392 -0.249211  0.008112 -0.461449   \n",
       "3 -0.965299 -0.532676  0.822183  ...  0.528065  0.143618  0.235813 -0.664904   \n",
       "4  0.125900 -0.695532 -0.826452  ...  0.946683 -0.489144 -0.841033  0.685729   \n",
       "\n",
       "        995       996       997       998       999  class  \n",
       "0 -0.471205  0.381831 -0.305708 -0.991663 -0.410211      1  \n",
       "1 -0.613975  0.463301 -0.450577  0.443635 -0.804274      0  \n",
       "2  0.220235  0.243973 -0.582165  0.134944 -0.109569      1  \n",
       "3  0.103549  0.089398  0.475035  0.406200  0.245757      0  \n",
       "4  0.003297 -0.285188 -0.136751  0.885420 -0.912014      0  \n",
       "\n",
       "[5 rows x 1001 columns]"
      ]
     },
     "execution_count": 8,
     "metadata": {},
     "output_type": "execute_result"
    }
   ],
   "source": [
    "df.head()"
   ]
  },
  {
   "cell_type": "markdown",
   "id": "supreme-breathing",
   "metadata": {},
   "source": [
    "### Choosing Correlated Predictors"
   ]
  },
  {
   "cell_type": "code",
   "execution_count": 9,
   "id": "military-tulsa",
   "metadata": {},
   "outputs": [],
   "source": [
    "# This returns the correllation of every variable with the class marker (including class itself with a correlation of 1)\n",
    "cor = df.corr().loc['class',:]"
   ]
  },
  {
   "cell_type": "markdown",
   "id": "daily-london",
   "metadata": {},
   "source": [
    "There are zero predictors (excluding class with a correlation of 1) that have a correlation $\\ge 0.50$."
   ]
  },
  {
   "cell_type": "code",
   "execution_count": 10,
   "id": "animated-order",
   "metadata": {},
   "outputs": [
    {
     "data": {
      "text/plain": [
       "1"
      ]
     },
     "execution_count": 10,
     "metadata": {},
     "output_type": "execute_result"
    }
   ],
   "source": [
    "len(cor[cor.abs() >= 0.5])"
   ]
  },
  {
   "cell_type": "markdown",
   "id": "stylish-representation",
   "metadata": {},
   "source": [
    "Through trial and error I discovered that exactly 50 predictors (excluding class) have a correlation $\\ge 0.2853$ so these will be the 50 predictors that I will use."
   ]
  },
  {
   "cell_type": "code",
   "execution_count": 11,
   "id": "french-cannon",
   "metadata": {},
   "outputs": [
    {
     "data": {
      "text/plain": [
       "51"
      ]
     },
     "execution_count": 11,
     "metadata": {},
     "output_type": "execute_result"
    }
   ],
   "source": [
    "len(cor[cor.abs() >= 0.2853])"
   ]
  },
  {
   "cell_type": "code",
   "execution_count": 12,
   "id": "comparative-touch",
   "metadata": {},
   "outputs": [],
   "source": [
    "# all 50 chosen predictors\n",
    "preds = cor[cor.abs() >= 0.2853][:-1]"
   ]
  },
  {
   "cell_type": "code",
   "execution_count": 13,
   "id": "german-ethnic",
   "metadata": {},
   "outputs": [],
   "source": [
    "# indices of chosen predictors + class (corresponding to column of the DataFrame)\n",
    "chosen = list(preds.index)"
   ]
  },
  {
   "cell_type": "code",
   "execution_count": 14,
   "id": "correct-cholesterol",
   "metadata": {},
   "outputs": [
    {
     "data": {
      "text/plain": [
       "50"
      ]
     },
     "execution_count": 14,
     "metadata": {},
     "output_type": "execute_result"
    }
   ],
   "source": [
    "len(chosen)"
   ]
  },
  {
   "cell_type": "code",
   "execution_count": 15,
   "id": "bibliographic-brisbane",
   "metadata": {},
   "outputs": [],
   "source": [
    "X = df.loc[:,chosen]"
   ]
  },
  {
   "cell_type": "code",
   "execution_count": 16,
   "id": "prostate-brunei",
   "metadata": {},
   "outputs": [
    {
     "data": {
      "text/plain": [
       "(50, 50)"
      ]
     },
     "execution_count": 16,
     "metadata": {},
     "output_type": "execute_result"
    }
   ],
   "source": [
    "X.shape"
   ]
  },
  {
   "cell_type": "code",
   "execution_count": 17,
   "id": "stuffed-quilt",
   "metadata": {},
   "outputs": [],
   "source": [
    "y = df.loc[:,\"class\"]"
   ]
  },
  {
   "cell_type": "code",
   "execution_count": 18,
   "id": "ranging-concentration",
   "metadata": {},
   "outputs": [
    {
     "data": {
      "text/plain": [
       "(50,)"
      ]
     },
     "execution_count": 18,
     "metadata": {},
     "output_type": "execute_result"
    }
   ],
   "source": [
    "y.shape"
   ]
  },
  {
   "cell_type": "markdown",
   "id": "cooperative-continent",
   "metadata": {},
   "source": [
    "### Model Training"
   ]
  },
  {
   "cell_type": "code",
   "execution_count": 19,
   "id": "color-budget",
   "metadata": {},
   "outputs": [],
   "source": [
    "model = LRCV(cv = 5).fit(X,y)"
   ]
  },
  {
   "cell_type": "markdown",
   "id": "friendly-plate",
   "metadata": {},
   "source": [
    "### Estimated test error\n",
    "\n",
    "I used the model score which is the proportion of correct predictions averaged over all of the crossvalidation steps to calculated the estimated test error. This estimated near perfect prediction with an error of only 2%."
   ]
  },
  {
   "cell_type": "code",
   "execution_count": 20,
   "id": "earned-breakfast",
   "metadata": {},
   "outputs": [
    {
     "name": "stdout",
     "output_type": "stream",
     "text": [
      "\n",
      "The estimated test error:  0.02\n"
     ]
    }
   ],
   "source": [
    "print(\"\\nThe estimated test error: \",round(1-model.score(X,y),4))"
   ]
  },
  {
   "cell_type": "markdown",
   "id": "excessive-custody",
   "metadata": {},
   "source": [
    "### Data Generation (Test set)\n",
    "I would expect the actual test error to be much lower (likely 50%) so to test this I generated a testing in the exact same way as the training data without resetting the seed. Then I can see how the model performs on the 50 most correlated variables from this set as well as the data from the columns used to train the model because there should be no guarantee that the best predictors in the first set are the best predictors for the second."
   ]
  },
  {
   "cell_type": "code",
   "execution_count": 21,
   "id": "premium-iraqi",
   "metadata": {},
   "outputs": [],
   "source": [
    "arr2 = np.array([[np.random.uniform(-1,1) for i in range(1000)] for j in range(50)])"
   ]
  },
  {
   "cell_type": "code",
   "execution_count": 22,
   "id": "presidential-light",
   "metadata": {},
   "outputs": [],
   "source": [
    "df2 = pd.DataFrame(arr2)"
   ]
  },
  {
   "cell_type": "code",
   "execution_count": 23,
   "id": "grand-rugby",
   "metadata": {},
   "outputs": [
    {
     "data": {
      "text/html": [
       "<div>\n",
       "<style scoped>\n",
       "    .dataframe tbody tr th:only-of-type {\n",
       "        vertical-align: middle;\n",
       "    }\n",
       "\n",
       "    .dataframe tbody tr th {\n",
       "        vertical-align: top;\n",
       "    }\n",
       "\n",
       "    .dataframe thead th {\n",
       "        text-align: right;\n",
       "    }\n",
       "</style>\n",
       "<table border=\"1\" class=\"dataframe\">\n",
       "  <thead>\n",
       "    <tr style=\"text-align: right;\">\n",
       "      <th></th>\n",
       "      <th>0</th>\n",
       "      <th>1</th>\n",
       "      <th>2</th>\n",
       "      <th>3</th>\n",
       "      <th>4</th>\n",
       "      <th>5</th>\n",
       "      <th>6</th>\n",
       "      <th>7</th>\n",
       "      <th>8</th>\n",
       "      <th>9</th>\n",
       "      <th>...</th>\n",
       "      <th>990</th>\n",
       "      <th>991</th>\n",
       "      <th>992</th>\n",
       "      <th>993</th>\n",
       "      <th>994</th>\n",
       "      <th>995</th>\n",
       "      <th>996</th>\n",
       "      <th>997</th>\n",
       "      <th>998</th>\n",
       "      <th>999</th>\n",
       "    </tr>\n",
       "  </thead>\n",
       "  <tbody>\n",
       "    <tr>\n",
       "      <th>0</th>\n",
       "      <td>0.538252</td>\n",
       "      <td>-0.030956</td>\n",
       "      <td>-0.446332</td>\n",
       "      <td>-0.467406</td>\n",
       "      <td>-0.535048</td>\n",
       "      <td>-0.443504</td>\n",
       "      <td>-0.150983</td>\n",
       "      <td>-0.779912</td>\n",
       "      <td>0.335208</td>\n",
       "      <td>0.499239</td>\n",
       "      <td>...</td>\n",
       "      <td>-0.208983</td>\n",
       "      <td>-0.573543</td>\n",
       "      <td>-0.607929</td>\n",
       "      <td>-0.068793</td>\n",
       "      <td>-0.678454</td>\n",
       "      <td>0.557892</td>\n",
       "      <td>-0.333676</td>\n",
       "      <td>-0.903262</td>\n",
       "      <td>0.743485</td>\n",
       "      <td>0.570385</td>\n",
       "    </tr>\n",
       "    <tr>\n",
       "      <th>1</th>\n",
       "      <td>-0.627637</td>\n",
       "      <td>-0.607606</td>\n",
       "      <td>0.325883</td>\n",
       "      <td>0.815414</td>\n",
       "      <td>-0.885176</td>\n",
       "      <td>0.737653</td>\n",
       "      <td>-0.045355</td>\n",
       "      <td>-0.774557</td>\n",
       "      <td>-0.616945</td>\n",
       "      <td>-0.535096</td>\n",
       "      <td>...</td>\n",
       "      <td>0.518480</td>\n",
       "      <td>-0.683186</td>\n",
       "      <td>-0.297481</td>\n",
       "      <td>-0.674904</td>\n",
       "      <td>0.346656</td>\n",
       "      <td>0.741484</td>\n",
       "      <td>0.495606</td>\n",
       "      <td>-0.272584</td>\n",
       "      <td>0.140784</td>\n",
       "      <td>-0.034379</td>\n",
       "    </tr>\n",
       "    <tr>\n",
       "      <th>2</th>\n",
       "      <td>-0.595599</td>\n",
       "      <td>-0.832299</td>\n",
       "      <td>0.841999</td>\n",
       "      <td>-0.003383</td>\n",
       "      <td>0.966023</td>\n",
       "      <td>-0.523947</td>\n",
       "      <td>-0.454031</td>\n",
       "      <td>0.471007</td>\n",
       "      <td>-0.160582</td>\n",
       "      <td>-0.020579</td>\n",
       "      <td>...</td>\n",
       "      <td>-0.200261</td>\n",
       "      <td>0.489633</td>\n",
       "      <td>0.357920</td>\n",
       "      <td>0.804157</td>\n",
       "      <td>0.619011</td>\n",
       "      <td>0.369197</td>\n",
       "      <td>-0.274946</td>\n",
       "      <td>-0.627865</td>\n",
       "      <td>0.652312</td>\n",
       "      <td>0.006655</td>\n",
       "    </tr>\n",
       "    <tr>\n",
       "      <th>3</th>\n",
       "      <td>0.929054</td>\n",
       "      <td>-0.128504</td>\n",
       "      <td>0.183159</td>\n",
       "      <td>-0.887731</td>\n",
       "      <td>0.302255</td>\n",
       "      <td>0.561635</td>\n",
       "      <td>0.881414</td>\n",
       "      <td>0.331947</td>\n",
       "      <td>0.113955</td>\n",
       "      <td>0.202942</td>\n",
       "      <td>...</td>\n",
       "      <td>0.662654</td>\n",
       "      <td>0.727683</td>\n",
       "      <td>0.242081</td>\n",
       "      <td>0.159884</td>\n",
       "      <td>0.168873</td>\n",
       "      <td>0.852190</td>\n",
       "      <td>0.146076</td>\n",
       "      <td>0.151956</td>\n",
       "      <td>0.510998</td>\n",
       "      <td>0.516571</td>\n",
       "    </tr>\n",
       "    <tr>\n",
       "      <th>4</th>\n",
       "      <td>-0.771568</td>\n",
       "      <td>-0.032992</td>\n",
       "      <td>0.356966</td>\n",
       "      <td>0.792431</td>\n",
       "      <td>0.581706</td>\n",
       "      <td>0.271162</td>\n",
       "      <td>-0.911384</td>\n",
       "      <td>-0.570173</td>\n",
       "      <td>0.640641</td>\n",
       "      <td>-0.077466</td>\n",
       "      <td>...</td>\n",
       "      <td>0.642708</td>\n",
       "      <td>-0.378193</td>\n",
       "      <td>0.589274</td>\n",
       "      <td>0.987445</td>\n",
       "      <td>-0.506934</td>\n",
       "      <td>-0.026494</td>\n",
       "      <td>0.668174</td>\n",
       "      <td>0.424575</td>\n",
       "      <td>-0.563916</td>\n",
       "      <td>0.232473</td>\n",
       "    </tr>\n",
       "  </tbody>\n",
       "</table>\n",
       "<p>5 rows × 1000 columns</p>\n",
       "</div>"
      ],
      "text/plain": [
       "        0         1         2         3         4         5         6    \\\n",
       "0  0.538252 -0.030956 -0.446332 -0.467406 -0.535048 -0.443504 -0.150983   \n",
       "1 -0.627637 -0.607606  0.325883  0.815414 -0.885176  0.737653 -0.045355   \n",
       "2 -0.595599 -0.832299  0.841999 -0.003383  0.966023 -0.523947 -0.454031   \n",
       "3  0.929054 -0.128504  0.183159 -0.887731  0.302255  0.561635  0.881414   \n",
       "4 -0.771568 -0.032992  0.356966  0.792431  0.581706  0.271162 -0.911384   \n",
       "\n",
       "        7         8         9    ...       990       991       992       993  \\\n",
       "0 -0.779912  0.335208  0.499239  ... -0.208983 -0.573543 -0.607929 -0.068793   \n",
       "1 -0.774557 -0.616945 -0.535096  ...  0.518480 -0.683186 -0.297481 -0.674904   \n",
       "2  0.471007 -0.160582 -0.020579  ... -0.200261  0.489633  0.357920  0.804157   \n",
       "3  0.331947  0.113955  0.202942  ...  0.662654  0.727683  0.242081  0.159884   \n",
       "4 -0.570173  0.640641 -0.077466  ...  0.642708 -0.378193  0.589274  0.987445   \n",
       "\n",
       "        994       995       996       997       998       999  \n",
       "0 -0.678454  0.557892 -0.333676 -0.903262  0.743485  0.570385  \n",
       "1  0.346656  0.741484  0.495606 -0.272584  0.140784 -0.034379  \n",
       "2  0.619011  0.369197 -0.274946 -0.627865  0.652312  0.006655  \n",
       "3  0.168873  0.852190  0.146076  0.151956  0.510998  0.516571  \n",
       "4 -0.506934 -0.026494  0.668174  0.424575 -0.563916  0.232473  \n",
       "\n",
       "[5 rows x 1000 columns]"
      ]
     },
     "execution_count": 23,
     "metadata": {},
     "output_type": "execute_result"
    }
   ],
   "source": [
    "df2.head()"
   ]
  },
  {
   "cell_type": "markdown",
   "id": "military-winter",
   "metadata": {},
   "source": [
    "### Adding Class Markers (Test Set)"
   ]
  },
  {
   "cell_type": "code",
   "execution_count": 24,
   "id": "interesting-drinking",
   "metadata": {},
   "outputs": [],
   "source": [
    "c2 = [np.random.randint(0,2) for i in range(50)]"
   ]
  },
  {
   "cell_type": "code",
   "execution_count": 25,
   "id": "cross-serve",
   "metadata": {},
   "outputs": [],
   "source": [
    "df2['class'] = c2"
   ]
  },
  {
   "cell_type": "code",
   "execution_count": 26,
   "id": "greatest-awareness",
   "metadata": {},
   "outputs": [
    {
     "data": {
      "text/html": [
       "<div>\n",
       "<style scoped>\n",
       "    .dataframe tbody tr th:only-of-type {\n",
       "        vertical-align: middle;\n",
       "    }\n",
       "\n",
       "    .dataframe tbody tr th {\n",
       "        vertical-align: top;\n",
       "    }\n",
       "\n",
       "    .dataframe thead th {\n",
       "        text-align: right;\n",
       "    }\n",
       "</style>\n",
       "<table border=\"1\" class=\"dataframe\">\n",
       "  <thead>\n",
       "    <tr style=\"text-align: right;\">\n",
       "      <th></th>\n",
       "      <th>0</th>\n",
       "      <th>1</th>\n",
       "      <th>2</th>\n",
       "      <th>3</th>\n",
       "      <th>4</th>\n",
       "      <th>5</th>\n",
       "      <th>6</th>\n",
       "      <th>7</th>\n",
       "      <th>8</th>\n",
       "      <th>9</th>\n",
       "      <th>...</th>\n",
       "      <th>991</th>\n",
       "      <th>992</th>\n",
       "      <th>993</th>\n",
       "      <th>994</th>\n",
       "      <th>995</th>\n",
       "      <th>996</th>\n",
       "      <th>997</th>\n",
       "      <th>998</th>\n",
       "      <th>999</th>\n",
       "      <th>class</th>\n",
       "    </tr>\n",
       "  </thead>\n",
       "  <tbody>\n",
       "    <tr>\n",
       "      <th>0</th>\n",
       "      <td>0.538252</td>\n",
       "      <td>-0.030956</td>\n",
       "      <td>-0.446332</td>\n",
       "      <td>-0.467406</td>\n",
       "      <td>-0.535048</td>\n",
       "      <td>-0.443504</td>\n",
       "      <td>-0.150983</td>\n",
       "      <td>-0.779912</td>\n",
       "      <td>0.335208</td>\n",
       "      <td>0.499239</td>\n",
       "      <td>...</td>\n",
       "      <td>-0.573543</td>\n",
       "      <td>-0.607929</td>\n",
       "      <td>-0.068793</td>\n",
       "      <td>-0.678454</td>\n",
       "      <td>0.557892</td>\n",
       "      <td>-0.333676</td>\n",
       "      <td>-0.903262</td>\n",
       "      <td>0.743485</td>\n",
       "      <td>0.570385</td>\n",
       "      <td>0</td>\n",
       "    </tr>\n",
       "    <tr>\n",
       "      <th>1</th>\n",
       "      <td>-0.627637</td>\n",
       "      <td>-0.607606</td>\n",
       "      <td>0.325883</td>\n",
       "      <td>0.815414</td>\n",
       "      <td>-0.885176</td>\n",
       "      <td>0.737653</td>\n",
       "      <td>-0.045355</td>\n",
       "      <td>-0.774557</td>\n",
       "      <td>-0.616945</td>\n",
       "      <td>-0.535096</td>\n",
       "      <td>...</td>\n",
       "      <td>-0.683186</td>\n",
       "      <td>-0.297481</td>\n",
       "      <td>-0.674904</td>\n",
       "      <td>0.346656</td>\n",
       "      <td>0.741484</td>\n",
       "      <td>0.495606</td>\n",
       "      <td>-0.272584</td>\n",
       "      <td>0.140784</td>\n",
       "      <td>-0.034379</td>\n",
       "      <td>1</td>\n",
       "    </tr>\n",
       "    <tr>\n",
       "      <th>2</th>\n",
       "      <td>-0.595599</td>\n",
       "      <td>-0.832299</td>\n",
       "      <td>0.841999</td>\n",
       "      <td>-0.003383</td>\n",
       "      <td>0.966023</td>\n",
       "      <td>-0.523947</td>\n",
       "      <td>-0.454031</td>\n",
       "      <td>0.471007</td>\n",
       "      <td>-0.160582</td>\n",
       "      <td>-0.020579</td>\n",
       "      <td>...</td>\n",
       "      <td>0.489633</td>\n",
       "      <td>0.357920</td>\n",
       "      <td>0.804157</td>\n",
       "      <td>0.619011</td>\n",
       "      <td>0.369197</td>\n",
       "      <td>-0.274946</td>\n",
       "      <td>-0.627865</td>\n",
       "      <td>0.652312</td>\n",
       "      <td>0.006655</td>\n",
       "      <td>0</td>\n",
       "    </tr>\n",
       "    <tr>\n",
       "      <th>3</th>\n",
       "      <td>0.929054</td>\n",
       "      <td>-0.128504</td>\n",
       "      <td>0.183159</td>\n",
       "      <td>-0.887731</td>\n",
       "      <td>0.302255</td>\n",
       "      <td>0.561635</td>\n",
       "      <td>0.881414</td>\n",
       "      <td>0.331947</td>\n",
       "      <td>0.113955</td>\n",
       "      <td>0.202942</td>\n",
       "      <td>...</td>\n",
       "      <td>0.727683</td>\n",
       "      <td>0.242081</td>\n",
       "      <td>0.159884</td>\n",
       "      <td>0.168873</td>\n",
       "      <td>0.852190</td>\n",
       "      <td>0.146076</td>\n",
       "      <td>0.151956</td>\n",
       "      <td>0.510998</td>\n",
       "      <td>0.516571</td>\n",
       "      <td>0</td>\n",
       "    </tr>\n",
       "    <tr>\n",
       "      <th>4</th>\n",
       "      <td>-0.771568</td>\n",
       "      <td>-0.032992</td>\n",
       "      <td>0.356966</td>\n",
       "      <td>0.792431</td>\n",
       "      <td>0.581706</td>\n",
       "      <td>0.271162</td>\n",
       "      <td>-0.911384</td>\n",
       "      <td>-0.570173</td>\n",
       "      <td>0.640641</td>\n",
       "      <td>-0.077466</td>\n",
       "      <td>...</td>\n",
       "      <td>-0.378193</td>\n",
       "      <td>0.589274</td>\n",
       "      <td>0.987445</td>\n",
       "      <td>-0.506934</td>\n",
       "      <td>-0.026494</td>\n",
       "      <td>0.668174</td>\n",
       "      <td>0.424575</td>\n",
       "      <td>-0.563916</td>\n",
       "      <td>0.232473</td>\n",
       "      <td>0</td>\n",
       "    </tr>\n",
       "  </tbody>\n",
       "</table>\n",
       "<p>5 rows × 1001 columns</p>\n",
       "</div>"
      ],
      "text/plain": [
       "          0         1         2         3         4         5         6  \\\n",
       "0  0.538252 -0.030956 -0.446332 -0.467406 -0.535048 -0.443504 -0.150983   \n",
       "1 -0.627637 -0.607606  0.325883  0.815414 -0.885176  0.737653 -0.045355   \n",
       "2 -0.595599 -0.832299  0.841999 -0.003383  0.966023 -0.523947 -0.454031   \n",
       "3  0.929054 -0.128504  0.183159 -0.887731  0.302255  0.561635  0.881414   \n",
       "4 -0.771568 -0.032992  0.356966  0.792431  0.581706  0.271162 -0.911384   \n",
       "\n",
       "          7         8         9  ...       991       992       993       994  \\\n",
       "0 -0.779912  0.335208  0.499239  ... -0.573543 -0.607929 -0.068793 -0.678454   \n",
       "1 -0.774557 -0.616945 -0.535096  ... -0.683186 -0.297481 -0.674904  0.346656   \n",
       "2  0.471007 -0.160582 -0.020579  ...  0.489633  0.357920  0.804157  0.619011   \n",
       "3  0.331947  0.113955  0.202942  ...  0.727683  0.242081  0.159884  0.168873   \n",
       "4 -0.570173  0.640641 -0.077466  ... -0.378193  0.589274  0.987445 -0.506934   \n",
       "\n",
       "        995       996       997       998       999  class  \n",
       "0  0.557892 -0.333676 -0.903262  0.743485  0.570385      0  \n",
       "1  0.741484  0.495606 -0.272584  0.140784 -0.034379      1  \n",
       "2  0.369197 -0.274946 -0.627865  0.652312  0.006655      0  \n",
       "3  0.852190  0.146076  0.151956  0.510998  0.516571      0  \n",
       "4 -0.026494  0.668174  0.424575 -0.563916  0.232473      0  \n",
       "\n",
       "[5 rows x 1001 columns]"
      ]
     },
     "execution_count": 26,
     "metadata": {},
     "output_type": "execute_result"
    }
   ],
   "source": [
    "df2.head()"
   ]
  },
  {
   "cell_type": "markdown",
   "id": "threatened-dealing",
   "metadata": {},
   "source": [
    "### Choosing Correlated Predictors (Test Set)"
   ]
  },
  {
   "cell_type": "code",
   "execution_count": 27,
   "id": "outside-superintendent",
   "metadata": {},
   "outputs": [],
   "source": [
    "# This returns the correllation of every variable with the class marker (including class itself with a correlation of 1)\n",
    "cor2 = df2.corr().loc['class',:]"
   ]
  },
  {
   "cell_type": "markdown",
   "id": "painful-analyst",
   "metadata": {},
   "source": [
    "There are zero predictors (excluding class with a correlation of 1) that have a correlation $\\ge 0.50$."
   ]
  },
  {
   "cell_type": "code",
   "execution_count": 28,
   "id": "designing-queue",
   "metadata": {},
   "outputs": [
    {
     "data": {
      "text/plain": [
       "1"
      ]
     },
     "execution_count": 28,
     "metadata": {},
     "output_type": "execute_result"
    }
   ],
   "source": [
    "len(cor2[cor2.abs() >= 0.5])"
   ]
  },
  {
   "cell_type": "markdown",
   "id": "correct-reasoning",
   "metadata": {},
   "source": [
    "Through trial and error I discovered that exactly 50 predictors (excluding class) have a correlation $\\ge 0.275$ so these will be the 50 predictors that I will use."
   ]
  },
  {
   "cell_type": "code",
   "execution_count": 29,
   "id": "black-account",
   "metadata": {},
   "outputs": [
    {
     "data": {
      "text/plain": [
       "51"
      ]
     },
     "execution_count": 29,
     "metadata": {},
     "output_type": "execute_result"
    }
   ],
   "source": [
    "len(cor2[cor2.abs() >= 0.275])"
   ]
  },
  {
   "cell_type": "code",
   "execution_count": 30,
   "id": "fiscal-disaster",
   "metadata": {},
   "outputs": [],
   "source": [
    "# all 50 chosen predictors\n",
    "preds2 = cor2[cor2.abs() >= 0.275][:-1]"
   ]
  },
  {
   "cell_type": "code",
   "execution_count": 31,
   "id": "billion-ceremony",
   "metadata": {},
   "outputs": [],
   "source": [
    "# indices of chosen predictors + class (corresponding to column of the DataFrame)\n",
    "chosen2 = list(preds2.index)"
   ]
  },
  {
   "cell_type": "code",
   "execution_count": 32,
   "id": "artistic-tiffany",
   "metadata": {},
   "outputs": [
    {
     "data": {
      "text/plain": [
       "50"
      ]
     },
     "execution_count": 32,
     "metadata": {},
     "output_type": "execute_result"
    }
   ],
   "source": [
    "len(chosen2)"
   ]
  },
  {
   "cell_type": "markdown",
   "id": "bright-family",
   "metadata": {},
   "source": [
    "## Prediction with original predictors"
   ]
  },
  {
   "cell_type": "code",
   "execution_count": 33,
   "id": "powerful-yemen",
   "metadata": {},
   "outputs": [],
   "source": [
    "X1 = df2.loc[:,chosen]"
   ]
  },
  {
   "cell_type": "code",
   "execution_count": 34,
   "id": "wireless-connecticut",
   "metadata": {},
   "outputs": [
    {
     "data": {
      "text/plain": [
       "(50, 50)"
      ]
     },
     "execution_count": 34,
     "metadata": {},
     "output_type": "execute_result"
    }
   ],
   "source": [
    "X1.shape"
   ]
  },
  {
   "cell_type": "code",
   "execution_count": 35,
   "id": "static-commercial",
   "metadata": {},
   "outputs": [],
   "source": [
    "y1 = df2.loc[:,\"class\"]"
   ]
  },
  {
   "cell_type": "code",
   "execution_count": 36,
   "id": "radio-narrow",
   "metadata": {},
   "outputs": [
    {
     "data": {
      "text/plain": [
       "(50,)"
      ]
     },
     "execution_count": 36,
     "metadata": {},
     "output_type": "execute_result"
    }
   ],
   "source": [
    "y1.shape"
   ]
  },
  {
   "cell_type": "code",
   "execution_count": 37,
   "id": "persistent-enforcement",
   "metadata": {},
   "outputs": [],
   "source": [
    "prediction1 = model.predict(X1)"
   ]
  },
  {
   "cell_type": "code",
   "execution_count": 38,
   "id": "adaptive-spell",
   "metadata": {},
   "outputs": [
    {
     "name": "stdout",
     "output_type": "stream",
     "text": [
      "[[22  6]\n",
      " [15  7]]\n"
     ]
    }
   ],
   "source": [
    "print(confusion_matrix(y1, prediction1))"
   ]
  },
  {
   "cell_type": "markdown",
   "id": "heard-helping",
   "metadata": {},
   "source": [
    "Actual Test Error"
   ]
  },
  {
   "cell_type": "code",
   "execution_count": 39,
   "id": "functional-pleasure",
   "metadata": {},
   "outputs": [
    {
     "name": "stdout",
     "output_type": "stream",
     "text": [
      "              precision    recall  f1-score   support\n",
      "\n",
      "           0       0.59      0.79      0.68        28\n",
      "           1       0.54      0.32      0.40        22\n",
      "\n",
      "    accuracy                           0.58        50\n",
      "   macro avg       0.57      0.55      0.54        50\n",
      "weighted avg       0.57      0.58      0.56        50\n",
      "\n"
     ]
    }
   ],
   "source": [
    "print(classification_report(y1, prediction1))"
   ]
  },
  {
   "cell_type": "markdown",
   "id": "disturbed-airfare",
   "metadata": {},
   "source": [
    "The test error for the original predictors but with new (similarly generated) data was much higher (0.43)."
   ]
  },
  {
   "cell_type": "markdown",
   "id": "illegal-albuquerque",
   "metadata": {},
   "source": [
    "## Prediction with new most correlated predictors"
   ]
  },
  {
   "cell_type": "code",
   "execution_count": 40,
   "id": "optical-speaker",
   "metadata": {},
   "outputs": [],
   "source": [
    "X2 = df2.loc[:,chosen2]"
   ]
  },
  {
   "cell_type": "code",
   "execution_count": 41,
   "id": "portuguese-humidity",
   "metadata": {},
   "outputs": [
    {
     "data": {
      "text/plain": [
       "(50, 50)"
      ]
     },
     "execution_count": 41,
     "metadata": {},
     "output_type": "execute_result"
    }
   ],
   "source": [
    "X2.shape"
   ]
  },
  {
   "cell_type": "code",
   "execution_count": 42,
   "id": "overhead-dairy",
   "metadata": {},
   "outputs": [],
   "source": [
    "y2 = df2.loc[:,\"class\"]"
   ]
  },
  {
   "cell_type": "code",
   "execution_count": 43,
   "id": "related-survey",
   "metadata": {},
   "outputs": [
    {
     "data": {
      "text/plain": [
       "(50,)"
      ]
     },
     "execution_count": 43,
     "metadata": {},
     "output_type": "execute_result"
    }
   ],
   "source": [
    "y2.shape"
   ]
  },
  {
   "cell_type": "code",
   "execution_count": 44,
   "id": "spoken-effectiveness",
   "metadata": {},
   "outputs": [],
   "source": [
    "prediction2 = model.predict(X2)"
   ]
  },
  {
   "cell_type": "code",
   "execution_count": 45,
   "id": "behind-profit",
   "metadata": {},
   "outputs": [
    {
     "name": "stdout",
     "output_type": "stream",
     "text": [
      "[[19  9]\n",
      " [14  8]]\n"
     ]
    }
   ],
   "source": [
    "print(confusion_matrix(y2, prediction2))"
   ]
  },
  {
   "cell_type": "markdown",
   "id": "italic-blend",
   "metadata": {},
   "source": [
    "Actual Test Error"
   ]
  },
  {
   "cell_type": "code",
   "execution_count": 46,
   "id": "american-moral",
   "metadata": {},
   "outputs": [
    {
     "name": "stdout",
     "output_type": "stream",
     "text": [
      "              precision    recall  f1-score   support\n",
      "\n",
      "           0       0.58      0.68      0.62        28\n",
      "           1       0.47      0.36      0.41        22\n",
      "\n",
      "    accuracy                           0.54        50\n",
      "   macro avg       0.52      0.52      0.52        50\n",
      "weighted avg       0.53      0.54      0.53        50\n",
      "\n"
     ]
    }
   ],
   "source": [
    "print(classification_report(y2, prediction2))"
   ]
  },
  {
   "cell_type": "markdown",
   "id": "induced-beauty",
   "metadata": {},
   "source": [
    "Even with the 50 most correlated predictors for this dataset the model had a higher error than expected (0.52). As expected, even though the model predicted that the test error would be near perfect, the actual accuracy of the model is only 50%.  The correct way would be to apply cross validation to the entire process.  The folds would be created initally before any filtering or cherry picking was performed and then the process would be applied to all fold identically."
   ]
  },
  {
   "cell_type": "markdown",
   "id": "level-miniature",
   "metadata": {},
   "source": [
    "# Problem 2"
   ]
  },
  {
   "cell_type": "markdown",
   "id": "preliminary-camping",
   "metadata": {},
   "source": [
    "### A"
   ]
  },
  {
   "cell_type": "code",
   "execution_count": 47,
   "id": "material-leone",
   "metadata": {},
   "outputs": [],
   "source": [
    "X_trains = []\n",
    "y_trains = []\n",
    "for i in range(2):\n",
    "    x = pd.Series([np.random.uniform(0,5) for x in range(15)])\n",
    "    y = x**3 - 5*x**2 + x + 2\n",
    "    y = y.map(lambda x: x + np.random.normal(loc = 0, scale = 2))\n",
    "    y_trains.append(list(y))\n",
    "    X_trains.append(list(x))"
   ]
  },
  {
   "cell_type": "markdown",
   "id": "verified-ghost",
   "metadata": {},
   "source": [
    "## B"
   ]
  },
  {
   "cell_type": "code",
   "execution_count": 48,
   "id": "suitable-import",
   "metadata": {},
   "outputs": [
    {
     "data": {
      "text/plain": [
       "<matplotlib.collections.PathCollection at 0x7f442dcb14c0>"
      ]
     },
     "execution_count": 48,
     "metadata": {},
     "output_type": "execute_result"
    },
    {
     "data": {
      "image/png": "[encoded data removed]",
      "text/plain": [
       "<Figure size 1080x360 with 3 Axes>"
      ]
     },
     "metadata": {
      "needs_background": "light"
     },
     "output_type": "display_data"
    }
   ],
   "source": [
    "fig, ((ax1,ax2,ax3)) = plt.subplots(nrows=1, ncols=3, figsize=(15,5))\n",
    "for xs,ys in zip(X_trains,y_trains):\n",
    "    ax3.scatter(xs,ys)\n",
    "ax1.scatter(X_trains[0],y_trains[0])\n",
    "ax2.scatter(X_trains[1],y_trains[1],c='orange')"
   ]
  },
  {
   "cell_type": "markdown",
   "id": "optional-reader",
   "metadata": {},
   "source": [
    "Looking at the scatter plots of the data, training set 2 (in orange) seems to be more linear.  I would expect a lower degree polynomial to fit set 2 better and a higher degree polynomial to fit set 1 better even though both are created using the same function."
   ]
  },
  {
   "cell_type": "markdown",
   "id": "concrete-guitar",
   "metadata": {},
   "source": [
    "## C"
   ]
  },
  {
   "cell_type": "code",
   "execution_count": 49,
   "id": "printable-scholarship",
   "metadata": {},
   "outputs": [],
   "source": [
    "models = pd.DataFrame(columns = ['set','model','degree','train_MSE'])\n",
    "plot_data1 = pd.DataFrame(columns=['degree','x','y'])\n",
    "plot_data2 = pd.DataFrame(columns=['degree','x','y'])\n",
    "lm = LinearRegression(copy_X = True)\n",
    "st = []\n",
    "\n",
    "c = 0\n",
    "for X,y in zip(X_trains,y_trains):\n",
    "    c += 1\n",
    "    for i in [1,2,3,4,5]:\n",
    "        model = make_pipeline(PolynomialFeatures(degree = i), LinearRegression(copy_X=True))\n",
    "        model.fit(np.array(X).reshape(-1,1), np.array(y).reshape(-1,1))\n",
    "        \n",
    "        loo = LeaveOneOut()\n",
    "        crossvalidation = loo.get_n_splits(X)\n",
    "        \n",
    "        scores = cross_val_score(model, np.array(X).reshape(-1,1), np.array(y).reshape(-1,1), scoring=\"neg_mean_squared_error\", cv=LeaveOneOut(), n_jobs=1)\n",
    "        mse = np.mean(np.abs(scores))\n",
    "        models = models.append({'set':c, 'model':model, 'degree':i, 'train_MSE':mse}, ignore_index = True)\n",
    "        \n",
    "        \n",
    "        if c == 1:\n",
    "            poly = PolynomialFeatures(i)\n",
    "            polyx = poly.fit_transform(np.array(X).reshape(-1,1))\n",
    "            pred = model[1].predict(polyx)\n",
    "            for xs,ys,true in zip(X, pred.reshape(1,-1)[0],y):\n",
    "                plot_data1 = plot_data1.append({'degree':i,'x':xs,'y':ys,'true':true}, ignore_index=True)\n",
    "                \n",
    "        if c == 2:\n",
    "            poly = PolynomialFeatures(i)\n",
    "            polyx = poly.fit_transform(np.array(X).reshape(-1,1))\n",
    "            pred = model[1].predict(polyx)\n",
    "            for xs,ys,true in zip(X, pred.reshape(1,-1)[0],y):\n",
    "                plot_data2 = plot_data2.append({'degree':i,'x':xs,'y':ys,'true':true}, ignore_index=True)\n",
    "                \n",
    "plot_data1 = plot_data1.sort_values(by=['degree','x'])\n",
    "plot_data2 = plot_data2.sort_values(by=['degree','x'])"
   ]
  },
  {
   "cell_type": "markdown",
   "id": "indian-compilation",
   "metadata": {},
   "source": [
    "## D"
   ]
  },
  {
   "cell_type": "markdown",
   "id": "spare-poster",
   "metadata": {},
   "source": [
    "As can be seen below, these charts compare the predictions for one data point over all 5 models and, for this point, both sets had the most accurate predictions with a 4th degree polynomial."
   ]
  },
  {
   "cell_type": "code",
   "execution_count": 50,
   "id": "specific-welcome",
   "metadata": {},
   "outputs": [
    {
     "data": {
      "text/html": [
       "<div>\n",
       "<style scoped>\n",
       "    .dataframe tbody tr th:only-of-type {\n",
       "        vertical-align: middle;\n",
       "    }\n",
       "\n",
       "    .dataframe tbody tr th {\n",
       "        vertical-align: top;\n",
       "    }\n",
       "\n",
       "    .dataframe thead th {\n",
       "        text-align: right;\n",
       "    }\n",
       "</style>\n",
       "<table border=\"1\" class=\"dataframe\">\n",
       "  <thead>\n",
       "    <tr style=\"text-align: right;\">\n",
       "      <th></th>\n",
       "      <th>x</th>\n",
       "      <th>y</th>\n",
       "      <th>true</th>\n",
       "    </tr>\n",
       "    <tr>\n",
       "      <th>degree</th>\n",
       "      <th></th>\n",
       "      <th></th>\n",
       "      <th></th>\n",
       "    </tr>\n",
       "  </thead>\n",
       "  <tbody>\n",
       "    <tr>\n",
       "      <th>1.0</th>\n",
       "      <td>0.077333</td>\n",
       "      <td>-2.619262</td>\n",
       "      <td>4.368445</td>\n",
       "    </tr>\n",
       "    <tr>\n",
       "      <th>2.0</th>\n",
       "      <td>0.077333</td>\n",
       "      <td>5.854607</td>\n",
       "      <td>4.368445</td>\n",
       "    </tr>\n",
       "    <tr>\n",
       "      <th>3.0</th>\n",
       "      <td>0.077333</td>\n",
       "      <td>2.808205</td>\n",
       "      <td>4.368445</td>\n",
       "    </tr>\n",
       "    <tr>\n",
       "      <th>4.0</th>\n",
       "      <td>0.077333</td>\n",
       "      <td>4.101857</td>\n",
       "      <td>4.368445</td>\n",
       "    </tr>\n",
       "    <tr>\n",
       "      <th>5.0</th>\n",
       "      <td>0.077333</td>\n",
       "      <td>3.433951</td>\n",
       "      <td>4.368445</td>\n",
       "    </tr>\n",
       "  </tbody>\n",
       "</table>\n",
       "</div>"
      ],
      "text/plain": [
       "               x         y      true\n",
       "degree                              \n",
       "1.0     0.077333 -2.619262  4.368445\n",
       "2.0     0.077333  5.854607  4.368445\n",
       "3.0     0.077333  2.808205  4.368445\n",
       "4.0     0.077333  4.101857  4.368445\n",
       "5.0     0.077333  3.433951  4.368445"
      ]
     },
     "execution_count": 50,
     "metadata": {},
     "output_type": "execute_result"
    }
   ],
   "source": [
    "plot_data1.groupby('degree').first()"
   ]
  },
  {
   "cell_type": "code",
   "execution_count": 51,
   "id": "collective-vegetarian",
   "metadata": {},
   "outputs": [
    {
     "data": {
      "text/html": [
       "<div>\n",
       "<style scoped>\n",
       "    .dataframe tbody tr th:only-of-type {\n",
       "        vertical-align: middle;\n",
       "    }\n",
       "\n",
       "    .dataframe tbody tr th {\n",
       "        vertical-align: top;\n",
       "    }\n",
       "\n",
       "    .dataframe thead th {\n",
       "        text-align: right;\n",
       "    }\n",
       "</style>\n",
       "<table border=\"1\" class=\"dataframe\">\n",
       "  <thead>\n",
       "    <tr style=\"text-align: right;\">\n",
       "      <th></th>\n",
       "      <th>x</th>\n",
       "      <th>y</th>\n",
       "      <th>true</th>\n",
       "    </tr>\n",
       "    <tr>\n",
       "      <th>degree</th>\n",
       "      <th></th>\n",
       "      <th></th>\n",
       "      <th></th>\n",
       "    </tr>\n",
       "  </thead>\n",
       "  <tbody>\n",
       "    <tr>\n",
       "      <th>1.0</th>\n",
       "      <td>0.117165</td>\n",
       "      <td>2.643451</td>\n",
       "      <td>3.880601</td>\n",
       "    </tr>\n",
       "    <tr>\n",
       "      <th>2.0</th>\n",
       "      <td>0.117165</td>\n",
       "      <td>5.806187</td>\n",
       "      <td>3.880601</td>\n",
       "    </tr>\n",
       "    <tr>\n",
       "      <th>3.0</th>\n",
       "      <td>0.117165</td>\n",
       "      <td>3.166744</td>\n",
       "      <td>3.880601</td>\n",
       "    </tr>\n",
       "    <tr>\n",
       "      <th>4.0</th>\n",
       "      <td>0.117165</td>\n",
       "      <td>3.421468</td>\n",
       "      <td>3.880601</td>\n",
       "    </tr>\n",
       "    <tr>\n",
       "      <th>5.0</th>\n",
       "      <td>0.117165</td>\n",
       "      <td>4.166571</td>\n",
       "      <td>3.880601</td>\n",
       "    </tr>\n",
       "  </tbody>\n",
       "</table>\n",
       "</div>"
      ],
      "text/plain": [
       "               x         y      true\n",
       "degree                              \n",
       "1.0     0.117165  2.643451  3.880601\n",
       "2.0     0.117165  5.806187  3.880601\n",
       "3.0     0.117165  3.166744  3.880601\n",
       "4.0     0.117165  3.421468  3.880601\n",
       "5.0     0.117165  4.166571  3.880601"
      ]
     },
     "execution_count": 51,
     "metadata": {},
     "output_type": "execute_result"
    }
   ],
   "source": [
    "plot_data2.groupby('degree').first()"
   ]
  },
  {
   "cell_type": "markdown",
   "id": "athletic-deployment",
   "metadata": {},
   "source": [
    "## E"
   ]
  },
  {
   "cell_type": "code",
   "execution_count": 52,
   "id": "fitting-broadway",
   "metadata": {},
   "outputs": [
    {
     "data": {
      "text/plain": [
       "<matplotlib.legend.Legend at 0x7f4428a54340>"
      ]
     },
     "execution_count": 52,
     "metadata": {},
     "output_type": "execute_result"
    },
    {
     "data": {
      "image/png": "[encoded data removed]",
      "text/plain": [
       "<Figure size 1080x360 with 3 Axes>"
      ]
     },
     "metadata": {
      "needs_background": "light"
     },
     "output_type": "display_data"
    }
   ],
   "source": [
    "fig, (ax1,ax2,ax3) = plt.subplots(nrows=1,ncols=3,figsize=(15,5))\n",
    "for i in [1,2]:\n",
    "    x = models.loc[models['set']==i, 'degree']\n",
    "    y = models.loc[models['set']==i, 'train_MSE']\n",
    "    ax1.plot(x,y,label='MSE set'+str(i))\n",
    "ax1.legend()\n",
    "\n",
    "ax2.scatter(X_trains[0],y_trains[0])\n",
    "for i in [1,2,3,4,5]:\n",
    "    x = plot_data1.loc[plot_data1['degree']==i, 'x']\n",
    "    y = plot_data1.loc[plot_data1['degree']==i, 'y']\n",
    "    ax2.plot(x,y,label=\"degree\"+str(i))\n",
    "\n",
    "    \n",
    "ax3.scatter(X_trains[1],y_trains[1],c=\"orange\")\n",
    "for i in [1,2,3,4,5]:\n",
    "    x = plot_data2.loc[plot_data2['degree']==i, 'x']\n",
    "    y = plot_data2.loc[plot_data2['degree']==i, 'y']\n",
    "    ax3.plot(x,y,label=\"degree\"+str(i))\n",
    "ax3.legend()"
   ]
  },
  {
   "cell_type": "markdown",
   "id": "powered-notice",
   "metadata": {},
   "source": [
    "For training set 1 the best fit overall was found using the fourth degree polynomial while the best fit for training set 2 was found using the 3rd degree polynomial. This is exactly what I expected from analysing the scatter plots. The general trend of the second training set seemed more linear while training set 1 was more parabolic."
   ]
  },
  {
   "cell_type": "code",
   "execution_count": 53,
   "id": "fantastic-drill",
   "metadata": {},
   "outputs": [
    {
     "data": {
      "text/html": [
       "<div>\n",
       "<style scoped>\n",
       "    .dataframe tbody tr th:only-of-type {\n",
       "        vertical-align: middle;\n",
       "    }\n",
       "\n",
       "    .dataframe tbody tr th {\n",
       "        vertical-align: top;\n",
       "    }\n",
       "\n",
       "    .dataframe thead th {\n",
       "        text-align: right;\n",
       "    }\n",
       "</style>\n",
       "<table border=\"1\" class=\"dataframe\">\n",
       "  <thead>\n",
       "    <tr style=\"text-align: right;\">\n",
       "      <th></th>\n",
       "      <th></th>\n",
       "      <th>train_MSE</th>\n",
       "    </tr>\n",
       "    <tr>\n",
       "      <th>degree</th>\n",
       "      <th>set</th>\n",
       "      <th></th>\n",
       "    </tr>\n",
       "  </thead>\n",
       "  <tbody>\n",
       "    <tr>\n",
       "      <th rowspan=\"2\" valign=\"top\">1</th>\n",
       "      <th>1</th>\n",
       "      <td>35.590937</td>\n",
       "    </tr>\n",
       "    <tr>\n",
       "      <th>2</th>\n",
       "      <td>11.420456</td>\n",
       "    </tr>\n",
       "    <tr>\n",
       "      <th rowspan=\"2\" valign=\"top\">2</th>\n",
       "      <th>1</th>\n",
       "      <td>11.158414</td>\n",
       "    </tr>\n",
       "    <tr>\n",
       "      <th>2</th>\n",
       "      <td>7.832166</td>\n",
       "    </tr>\n",
       "    <tr>\n",
       "      <th rowspan=\"2\" valign=\"top\">3</th>\n",
       "      <th>1</th>\n",
       "      <td>6.820551</td>\n",
       "    </tr>\n",
       "    <tr>\n",
       "      <th>2</th>\n",
       "      <td>5.238768</td>\n",
       "    </tr>\n",
       "    <tr>\n",
       "      <th rowspan=\"2\" valign=\"top\">4</th>\n",
       "      <th>1</th>\n",
       "      <td>3.473110</td>\n",
       "    </tr>\n",
       "    <tr>\n",
       "      <th>2</th>\n",
       "      <td>6.307269</td>\n",
       "    </tr>\n",
       "    <tr>\n",
       "      <th rowspan=\"2\" valign=\"top\">5</th>\n",
       "      <th>1</th>\n",
       "      <td>7.725682</td>\n",
       "    </tr>\n",
       "    <tr>\n",
       "      <th>2</th>\n",
       "      <td>7.210262</td>\n",
       "    </tr>\n",
       "  </tbody>\n",
       "</table>\n",
       "</div>"
      ],
      "text/plain": [
       "            train_MSE\n",
       "degree set           \n",
       "1      1    35.590937\n",
       "       2    11.420456\n",
       "2      1    11.158414\n",
       "       2     7.832166\n",
       "3      1     6.820551\n",
       "       2     5.238768\n",
       "4      1     3.473110\n",
       "       2     6.307269\n",
       "5      1     7.725682\n",
       "       2     7.210262"
      ]
     },
     "execution_count": 53,
     "metadata": {},
     "output_type": "execute_result"
    }
   ],
   "source": [
    "models.groupby(['degree','set']).mean()"
   ]
  },
  {
   "cell_type": "markdown",
   "id": "laughing-flour",
   "metadata": {},
   "source": [
    "## F"
   ]
  },
  {
   "cell_type": "markdown",
   "id": "alone-council",
   "metadata": {},
   "source": [
    "Regardless of how I reshaped my data I was unable to get the summary to print.  If given the opportunity I will continue to debug this and then I could comment on the effect of the statistical significance on the estimates."
   ]
  },
  {
   "cell_type": "code",
   "execution_count": 54,
   "id": "vanilla-ethernet",
   "metadata": {},
   "outputs": [
    {
     "data": {
      "text/html": [
       "<div>\n",
       "<style scoped>\n",
       "    .dataframe tbody tr th:only-of-type {\n",
       "        vertical-align: middle;\n",
       "    }\n",
       "\n",
       "    .dataframe tbody tr th {\n",
       "        vertical-align: top;\n",
       "    }\n",
       "\n",
       "    .dataframe thead th {\n",
       "        text-align: right;\n",
       "    }\n",
       "</style>\n",
       "<table border=\"1\" class=\"dataframe\">\n",
       "  <thead>\n",
       "    <tr style=\"text-align: right;\">\n",
       "      <th></th>\n",
       "      <th>set</th>\n",
       "      <th>model</th>\n",
       "      <th>degree</th>\n",
       "      <th>train_MSE</th>\n",
       "    </tr>\n",
       "  </thead>\n",
       "  <tbody>\n",
       "    <tr>\n",
       "      <th>0</th>\n",
       "      <td>1</td>\n",
       "      <td>(PolynomialFeatures(degree=1), LinearRegressio...</td>\n",
       "      <td>1</td>\n",
       "      <td>35.590937</td>\n",
       "    </tr>\n",
       "    <tr>\n",
       "      <th>1</th>\n",
       "      <td>1</td>\n",
       "      <td>(PolynomialFeatures(), LinearRegression())</td>\n",
       "      <td>2</td>\n",
       "      <td>11.158414</td>\n",
       "    </tr>\n",
       "    <tr>\n",
       "      <th>2</th>\n",
       "      <td>1</td>\n",
       "      <td>(PolynomialFeatures(degree=3), LinearRegressio...</td>\n",
       "      <td>3</td>\n",
       "      <td>6.820551</td>\n",
       "    </tr>\n",
       "    <tr>\n",
       "      <th>3</th>\n",
       "      <td>1</td>\n",
       "      <td>(PolynomialFeatures(degree=4), LinearRegressio...</td>\n",
       "      <td>4</td>\n",
       "      <td>3.473110</td>\n",
       "    </tr>\n",
       "    <tr>\n",
       "      <th>4</th>\n",
       "      <td>1</td>\n",
       "      <td>(PolynomialFeatures(degree=5), LinearRegressio...</td>\n",
       "      <td>5</td>\n",
       "      <td>7.725682</td>\n",
       "    </tr>\n",
       "    <tr>\n",
       "      <th>5</th>\n",
       "      <td>2</td>\n",
       "      <td>(PolynomialFeatures(degree=1), LinearRegressio...</td>\n",
       "      <td>1</td>\n",
       "      <td>11.420456</td>\n",
       "    </tr>\n",
       "    <tr>\n",
       "      <th>6</th>\n",
       "      <td>2</td>\n",
       "      <td>(PolynomialFeatures(), LinearRegression())</td>\n",
       "      <td>2</td>\n",
       "      <td>7.832166</td>\n",
       "    </tr>\n",
       "    <tr>\n",
       "      <th>7</th>\n",
       "      <td>2</td>\n",
       "      <td>(PolynomialFeatures(degree=3), LinearRegressio...</td>\n",
       "      <td>3</td>\n",
       "      <td>5.238768</td>\n",
       "    </tr>\n",
       "    <tr>\n",
       "      <th>8</th>\n",
       "      <td>2</td>\n",
       "      <td>(PolynomialFeatures(degree=4), LinearRegressio...</td>\n",
       "      <td>4</td>\n",
       "      <td>6.307269</td>\n",
       "    </tr>\n",
       "    <tr>\n",
       "      <th>9</th>\n",
       "      <td>2</td>\n",
       "      <td>(PolynomialFeatures(degree=5), LinearRegressio...</td>\n",
       "      <td>5</td>\n",
       "      <td>7.210262</td>\n",
       "    </tr>\n",
       "  </tbody>\n",
       "</table>\n",
       "</div>"
      ],
      "text/plain": [
       "  set                                              model degree  train_MSE\n",
       "0   1  (PolynomialFeatures(degree=1), LinearRegressio...      1  35.590937\n",
       "1   1         (PolynomialFeatures(), LinearRegression())      2  11.158414\n",
       "2   1  (PolynomialFeatures(degree=3), LinearRegressio...      3   6.820551\n",
       "3   1  (PolynomialFeatures(degree=4), LinearRegressio...      4   3.473110\n",
       "4   1  (PolynomialFeatures(degree=5), LinearRegressio...      5   7.725682\n",
       "5   2  (PolynomialFeatures(degree=1), LinearRegressio...      1  11.420456\n",
       "6   2         (PolynomialFeatures(), LinearRegression())      2   7.832166\n",
       "7   2  (PolynomialFeatures(degree=3), LinearRegressio...      3   5.238768\n",
       "8   2  (PolynomialFeatures(degree=4), LinearRegressio...      4   6.307269\n",
       "9   2  (PolynomialFeatures(degree=5), LinearRegressio...      5   7.210262"
      ]
     },
     "execution_count": 54,
     "metadata": {},
     "output_type": "execute_result"
    }
   ],
   "source": [
    "models"
   ]
  },
  {
   "cell_type": "code",
   "execution_count": 55,
   "id": "encouraging-providence",
   "metadata": {},
   "outputs": [],
   "source": [
    "m = models.loc[1,'model'][1]"
   ]
  },
  {
   "cell_type": "code",
   "execution_count": 56,
   "id": "greatest-wrist",
   "metadata": {},
   "outputs": [
    {
     "data": {
      "text/plain": [
       "2"
      ]
     },
     "execution_count": 56,
     "metadata": {},
     "output_type": "execute_result"
    }
   ],
   "source": [
    "m.rank_"
   ]
  },
  {
   "cell_type": "code",
   "execution_count": 58,
   "id": "advised-crown",
   "metadata": {},
   "outputs": [
    {
     "data": {
      "text/plain": [
       "[3.0819297637717,\n",
       " 3.430675896273118,\n",
       " 3.8944860568881556,\n",
       " 2.738915559581254,\n",
       " 4.1371711074631445,\n",
       " 1.0999930783766643,\n",
       " 0.11716470208533225,\n",
       " 3.5721510731353847,\n",
       " 0.7547868909192329,\n",
       " 4.24414456712875,\n",
       " 0.5539610459635957,\n",
       " 0.37447420350314564,\n",
       " 2.421366929845701,\n",
       " 1.2314715388719804,\n",
       " 3.866788928945804]"
      ]
     },
     "execution_count": 58,
     "metadata": {},
     "output_type": "execute_result"
    }
   ],
   "source": [
    "X"
   ]
  },
  {
   "cell_type": "code",
   "execution_count": 116,
   "id": "clinical-framing",
   "metadata": {},
   "outputs": [],
   "source": [
    "mods = models.loc[:,\"model\"]\n",
    "m = mods[1][1]"
   ]
  },
  {
   "cell_type": "code",
   "execution_count": 117,
   "id": "italic-nirvana",
   "metadata": {},
   "outputs": [
    {
     "data": {
      "text/plain": [
       "2"
      ]
     },
     "execution_count": 117,
     "metadata": {},
     "output_type": "execute_result"
    }
   ],
   "source": [
    "m.rank_"
   ]
  },
  {
   "cell_type": "code",
   "execution_count": 118,
   "id": "reasonable-closure",
   "metadata": {},
   "outputs": [],
   "source": [
    "X =  np.array(X)"
   ]
  },
  {
   "cell_type": "code",
   "execution_count": 119,
   "id": "nominated-investigator",
   "metadata": {},
   "outputs": [],
   "source": [
    "X = X.reshape(-1,1)"
   ]
  },
  {
   "cell_type": "code",
   "execution_count": 120,
   "id": "mature-alberta",
   "metadata": {},
   "outputs": [
    {
     "data": {
      "text/plain": [
       "array([[3.08192976],\n",
       "       [3.4306759 ],\n",
       "       [3.89448606],\n",
       "       [2.73891556],\n",
       "       [4.13717111],\n",
       "       [1.09999308],\n",
       "       [0.1171647 ],\n",
       "       [3.57215107],\n",
       "       [0.75478689],\n",
       "       [4.24414457],\n",
       "       [0.55396105],\n",
       "       [0.3744742 ],\n",
       "       [2.42136693],\n",
       "       [1.23147154],\n",
       "       [3.86678893]])"
      ]
     },
     "execution_count": 120,
     "metadata": {},
     "output_type": "execute_result"
    }
   ],
   "source": [
    "X"
   ]
  },
  {
   "cell_type": "code",
   "execution_count": 121,
   "id": "brazilian-salad",
   "metadata": {},
   "outputs": [],
   "source": [
    "poly = PolynomialFeatures(2)\n",
    "polyx = poly.fit_transform(X)"
   ]
  },
  {
   "cell_type": "code",
   "execution_count": 122,
   "id": "detected-coach",
   "metadata": {},
   "outputs": [
    {
     "data": {
      "text/plain": [
       "array([[1.00000000e+00, 3.08192976e+00, 9.49829107e+00],\n",
       "       [1.00000000e+00, 3.43067590e+00, 1.17695371e+01],\n",
       "       [1.00000000e+00, 3.89448606e+00, 1.51670216e+01],\n",
       "       [1.00000000e+00, 2.73891556e+00, 7.50165844e+00],\n",
       "       [1.00000000e+00, 4.13717111e+00, 1.71161848e+01],\n",
       "       [1.00000000e+00, 1.09999308e+00, 1.20998477e+00],\n",
       "       [1.00000000e+00, 1.17164702e-01, 1.37275674e-02],\n",
       "       [1.00000000e+00, 3.57215107e+00, 1.27602633e+01],\n",
       "       [1.00000000e+00, 7.54786891e-01, 5.69703251e-01],\n",
       "       [1.00000000e+00, 4.24414457e+00, 1.80127631e+01],\n",
       "       [1.00000000e+00, 5.53961046e-01, 3.06872840e-01],\n",
       "       [1.00000000e+00, 3.74474204e-01, 1.40230929e-01],\n",
       "       [1.00000000e+00, 2.42136693e+00, 5.86301781e+00],\n",
       "       [1.00000000e+00, 1.23147154e+00, 1.51652215e+00],\n",
       "       [1.00000000e+00, 3.86678893e+00, 1.49520566e+01]])"
      ]
     },
     "execution_count": 122,
     "metadata": {},
     "output_type": "execute_result"
    }
   ],
   "source": [
    "polyx"
   ]
  },
  {
   "cell_type": "code",
   "execution_count": 123,
   "id": "induced-disney",
   "metadata": {},
   "outputs": [
    {
     "data": {
      "text/plain": [
       "(15, 3)"
      ]
     },
     "execution_count": 123,
     "metadata": {},
     "output_type": "execute_result"
    }
   ],
   "source": [
    "polyx.shape"
   ]
  },
  {
   "cell_type": "code",
   "execution_count": 124,
   "id": "extra-dancing",
   "metadata": {},
   "outputs": [
    {
     "data": {
      "text/plain": [
       "numpy.ndarray"
      ]
     },
     "execution_count": 124,
     "metadata": {},
     "output_type": "execute_result"
    }
   ],
   "source": [
    "type(polyx)"
   ]
  },
  {
   "cell_type": "code",
   "execution_count": 125,
   "id": "green-shock",
   "metadata": {},
   "outputs": [],
   "source": [
    "xlabels = np.array(['intercept', 'X1','X2'])"
   ]
  },
  {
   "cell_type": "code",
   "execution_count": 126,
   "id": "anonymous-desktop",
   "metadata": {},
   "outputs": [
    {
     "data": {
      "text/plain": [
       "(3,)"
      ]
     },
     "execution_count": 126,
     "metadata": {},
     "output_type": "execute_result"
    }
   ],
   "source": [
    "xlabels.shape"
   ]
  },
  {
   "cell_type": "code",
   "execution_count": 127,
   "id": "modern-asthma",
   "metadata": {},
   "outputs": [
    {
     "data": {
      "text/plain": [
       "numpy.ndarray"
      ]
     },
     "execution_count": 127,
     "metadata": {},
     "output_type": "execute_result"
    }
   ],
   "source": [
    "type(xlabels)"
   ]
  },
  {
   "cell_type": "code",
   "execution_count": 128,
   "id": "exciting-probe",
   "metadata": {},
   "outputs": [],
   "source": [
    "y = np.array(y)"
   ]
  },
  {
   "cell_type": "code",
   "execution_count": 129,
   "id": "virtual-jackson",
   "metadata": {},
   "outputs": [
    {
     "data": {
      "text/plain": [
       "(15,)"
      ]
     },
     "execution_count": 129,
     "metadata": {},
     "output_type": "execute_result"
    }
   ],
   "source": [
    "y.shape"
   ]
  },
  {
   "cell_type": "code",
   "execution_count": 130,
   "id": "included-poultry",
   "metadata": {},
   "outputs": [
    {
     "data": {
      "text/plain": [
       "numpy.ndarray"
      ]
     },
     "execution_count": 130,
     "metadata": {},
     "output_type": "execute_result"
    }
   ],
   "source": [
    "type(y)"
   ]
  },
  {
   "cell_type": "code",
   "execution_count": 132,
   "id": "noble-hawaii",
   "metadata": {},
   "outputs": [
    {
     "ename": "ValueError",
     "evalue": "all the input array dimensions for the concatenation axis must match exactly, but along dimension 1, the array at index 0 has size 1 and the array at index 1 has size 3",
     "output_type": "error",
     "traceback": [
      "\u001b[0;31m---------------------------------------------------------------------------\u001b[0m",
      "\u001b[0;31mValueError\u001b[0m                                Traceback (most recent call last)",
      "\u001b[0;32m<ipython-input-132-3475d659f25b>\u001b[0m in \u001b[0;36m<module>\u001b[0;34m\u001b[0m\n\u001b[0;32m----> 1\u001b[0;31m \u001b[0mstats\u001b[0m\u001b[0;34m.\u001b[0m\u001b[0msummary\u001b[0m\u001b[0;34m(\u001b[0m\u001b[0mm\u001b[0m\u001b[0;34m,\u001b[0m \u001b[0mpolyx\u001b[0m\u001b[0;34m,\u001b[0m \u001b[0my\u001b[0m\u001b[0;34m)\u001b[0m\u001b[0;34m\u001b[0m\u001b[0;34m\u001b[0m\u001b[0m\n\u001b[0m",
      "\u001b[0;32m~/anaconda3/lib/python3.8/site-packages/regressors/stats.py\u001b[0m in \u001b[0;36msummary\u001b[0;34m(clf, X, y, xlabels)\u001b[0m\n\u001b[1;32m    250\u001b[0m         \u001b[0mcolumns\u001b[0m\u001b[0;34m=\u001b[0m\u001b[0;34m[\u001b[0m\u001b[0;34m'Estimate'\u001b[0m\u001b[0;34m,\u001b[0m \u001b[0;34m'Std. Error'\u001b[0m\u001b[0;34m,\u001b[0m \u001b[0;34m't value'\u001b[0m\u001b[0;34m,\u001b[0m \u001b[0;34m'p value'\u001b[0m\u001b[0;34m]\u001b[0m\u001b[0;34m\u001b[0m\u001b[0;34m\u001b[0m\u001b[0m\n\u001b[1;32m    251\u001b[0m     )\n\u001b[0;32m--> 252\u001b[0;31m     coef_df['Estimate'] = np.concatenate(\n\u001b[0m\u001b[1;32m    253\u001b[0m         (np.round(np.array([clf.intercept_]), 6), np.round((clf.coef_), 6)))\n\u001b[1;32m    254\u001b[0m     \u001b[0mcoef_df\u001b[0m\u001b[0;34m[\u001b[0m\u001b[0;34m'Std. Error'\u001b[0m\u001b[0;34m]\u001b[0m \u001b[0;34m=\u001b[0m \u001b[0mnp\u001b[0m\u001b[0;34m.\u001b[0m\u001b[0mround\u001b[0m\u001b[0;34m(\u001b[0m\u001b[0mcoef_se\u001b[0m\u001b[0;34m(\u001b[0m\u001b[0mclf\u001b[0m\u001b[0;34m,\u001b[0m \u001b[0mX\u001b[0m\u001b[0;34m,\u001b[0m \u001b[0my\u001b[0m\u001b[0;34m)\u001b[0m\u001b[0;34m,\u001b[0m \u001b[0;36m6\u001b[0m\u001b[0;34m)\u001b[0m\u001b[0;34m\u001b[0m\u001b[0;34m\u001b[0m\u001b[0m\n",
      "\u001b[0;32m<__array_function__ internals>\u001b[0m in \u001b[0;36mconcatenate\u001b[0;34m(*args, **kwargs)\u001b[0m\n",
      "\u001b[0;31mValueError\u001b[0m: all the input array dimensions for the concatenation axis must match exactly, but along dimension 1, the array at index 0 has size 1 and the array at index 1 has size 3"
     ]
    }
   ],
   "source": [
    "stats.summary(m, polyx, y)"
   ]
  },
  {
   "cell_type": "code",
   "execution_count": 138,
   "id": "automatic-circulation",
   "metadata": {},
   "outputs": [
    {
     "data": {
      "text/plain": [
       "array([[3.08192976],\n",
       "       [3.4306759 ],\n",
       "       [3.89448606],\n",
       "       [2.73891556],\n",
       "       [4.13717111],\n",
       "       [1.09999308],\n",
       "       [0.1171647 ],\n",
       "       [3.57215107],\n",
       "       [0.75478689],\n",
       "       [4.24414457],\n",
       "       [0.55396105],\n",
       "       [0.3744742 ],\n",
       "       [2.42136693],\n",
       "       [1.23147154],\n",
       "       [3.86678893]])"
      ]
     },
     "execution_count": 138,
     "metadata": {},
     "output_type": "execute_result"
    }
   ],
   "source": [
    "X"
   ]
  },
  {
   "cell_type": "code",
   "execution_count": 157,
   "id": "modular-middle",
   "metadata": {},
   "outputs": [],
   "source": [
    "xlabels = ['intercept']"
   ]
  },
  {
   "cell_type": "code",
   "execution_count": 158,
   "id": "alpha-heavy",
   "metadata": {},
   "outputs": [
    {
     "data": {
      "text/plain": [
       "['intercept']"
      ]
     },
     "execution_count": 158,
     "metadata": {},
     "output_type": "execute_result"
    }
   ],
   "source": [
    "xlabels"
   ]
  },
  {
   "cell_type": "code",
   "execution_count": 161,
   "id": "grand-gather",
   "metadata": {},
   "outputs": [],
   "source": [
    "xlabels.extend([\"X1\",\"X2\"])"
   ]
  },
  {
   "cell_type": "code",
   "execution_count": 162,
   "id": "rapid-primary",
   "metadata": {},
   "outputs": [
    {
     "data": {
      "text/plain": [
       "['intercept', ['X1', 'X2'], 'X1', 'X2']"
      ]
     },
     "execution_count": 162,
     "metadata": {},
     "output_type": "execute_result"
    }
   ],
   "source": [
    "xlabels"
   ]
  },
  {
   "cell_type": "code",
   "execution_count": 166,
   "id": "usual-chapel",
   "metadata": {},
   "outputs": [
    {
     "name": "stdout",
     "output_type": "stream",
     "text": [
      "['intercept', 'X1']\n",
      "['intercept', 'X1', 'X2']\n",
      "['intercept', 'X1', 'X2', 'X3']\n",
      "['intercept', 'X1', 'X2', 'X3', 'X4']\n",
      "['intercept', 'X1', 'X2', 'X3', 'X4', 'X5']\n"
     ]
    }
   ],
   "source": [
    "for i in [1,2,3,4,5]:\n",
    "    xlabels = [\"intercept\"]\n",
    "    xlabels.extend([\"X\"+str(x+1) for x in range(i)])\n",
    "    print(xlabels)"
   ]
  },
  {
   "cell_type": "code",
   "execution_count": 173,
   "id": "better-locator",
   "metadata": {},
   "outputs": [
    {
     "name": "stdout",
     "output_type": "stream",
     "text": [
      "LinearRegression()\n",
      "['intercept' 'X^1']\n",
      "(15, 2) \n",
      " [  4.16657075   2.07592774   1.33924943   0.82501129  -0.03863909\n",
      "  -0.50746754  -9.02056552 -11.2334927  -12.61949145 -12.6162001\n",
      " -12.20327    -10.75156447 -10.58754     -9.12860075  -8.56586288]\n"
     ]
    },
    {
     "ename": "LinAlgError",
     "evalue": "Singular matrix",
     "output_type": "error",
     "traceback": [
      "\u001b[0;31m---------------------------------------------------------------------------\u001b[0m",
      "\u001b[0;31mLinAlgError\u001b[0m                               Traceback (most recent call last)",
      "\u001b[0;32m<ipython-input-173-8a580841fbff>\u001b[0m in \u001b[0;36m<module>\u001b[0;34m\u001b[0m\n\u001b[1;32m      9\u001b[0m     \u001b[0mprint\u001b[0m\u001b[0;34m(\u001b[0m\u001b[0mxlabels\u001b[0m\u001b[0;34m)\u001b[0m\u001b[0;34m\u001b[0m\u001b[0;34m\u001b[0m\u001b[0m\n\u001b[1;32m     10\u001b[0m     \u001b[0mprint\u001b[0m\u001b[0;34m(\u001b[0m\u001b[0mpolyx\u001b[0m\u001b[0;34m.\u001b[0m\u001b[0mshape\u001b[0m\u001b[0;34m,\u001b[0m\u001b[0;34m'\\n'\u001b[0m\u001b[0;34m,\u001b[0m \u001b[0my\u001b[0m\u001b[0;34m)\u001b[0m\u001b[0;34m\u001b[0m\u001b[0;34m\u001b[0m\u001b[0m\n\u001b[0;32m---> 11\u001b[0;31m     \u001b[0mprint\u001b[0m\u001b[0;34m(\u001b[0m\u001b[0mstats\u001b[0m\u001b[0;34m.\u001b[0m\u001b[0msummary\u001b[0m\u001b[0;34m(\u001b[0m\u001b[0mm\u001b[0m\u001b[0;34m,\u001b[0m \u001b[0mpolyx\u001b[0m\u001b[0;34m,\u001b[0m \u001b[0my\u001b[0m\u001b[0;34m,\u001b[0m \u001b[0mxlabels\u001b[0m\u001b[0;34m)\u001b[0m\u001b[0;34m)\u001b[0m\u001b[0;34m\u001b[0m\u001b[0;34m\u001b[0m\u001b[0m\n\u001b[0m",
      "\u001b[0;32m~/anaconda3/lib/python3.8/site-packages/regressors/stats.py\u001b[0m in \u001b[0;36msummary\u001b[0;34m(clf, X, y, xlabels)\u001b[0m\n\u001b[1;32m    252\u001b[0m     coef_df['Estimate'] = np.concatenate(\n\u001b[1;32m    253\u001b[0m         (np.round(np.array([clf.intercept_]), 6), np.round((clf.coef_), 6)))\n\u001b[0;32m--> 254\u001b[0;31m     \u001b[0mcoef_df\u001b[0m\u001b[0;34m[\u001b[0m\u001b[0;34m'Std. Error'\u001b[0m\u001b[0;34m]\u001b[0m \u001b[0;34m=\u001b[0m \u001b[0mnp\u001b[0m\u001b[0;34m.\u001b[0m\u001b[0mround\u001b[0m\u001b[0;34m(\u001b[0m\u001b[0mcoef_se\u001b[0m\u001b[0;34m(\u001b[0m\u001b[0mclf\u001b[0m\u001b[0;34m,\u001b[0m \u001b[0mX\u001b[0m\u001b[0;34m,\u001b[0m \u001b[0my\u001b[0m\u001b[0;34m)\u001b[0m\u001b[0;34m,\u001b[0m \u001b[0;36m6\u001b[0m\u001b[0;34m)\u001b[0m\u001b[0;34m\u001b[0m\u001b[0;34m\u001b[0m\u001b[0m\n\u001b[0m\u001b[1;32m    255\u001b[0m     \u001b[0mcoef_df\u001b[0m\u001b[0;34m[\u001b[0m\u001b[0;34m't value'\u001b[0m\u001b[0;34m]\u001b[0m \u001b[0;34m=\u001b[0m \u001b[0mnp\u001b[0m\u001b[0;34m.\u001b[0m\u001b[0mround\u001b[0m\u001b[0;34m(\u001b[0m\u001b[0mcoef_tval\u001b[0m\u001b[0;34m(\u001b[0m\u001b[0mclf\u001b[0m\u001b[0;34m,\u001b[0m \u001b[0mX\u001b[0m\u001b[0;34m,\u001b[0m \u001b[0my\u001b[0m\u001b[0;34m)\u001b[0m\u001b[0;34m,\u001b[0m \u001b[0;36m4\u001b[0m\u001b[0;34m)\u001b[0m\u001b[0;34m\u001b[0m\u001b[0;34m\u001b[0m\u001b[0m\n\u001b[1;32m    256\u001b[0m     \u001b[0mcoef_df\u001b[0m\u001b[0;34m[\u001b[0m\u001b[0;34m'p value'\u001b[0m\u001b[0;34m]\u001b[0m \u001b[0;34m=\u001b[0m \u001b[0mnp\u001b[0m\u001b[0;34m.\u001b[0m\u001b[0mround\u001b[0m\u001b[0;34m(\u001b[0m\u001b[0mcoef_pval\u001b[0m\u001b[0;34m(\u001b[0m\u001b[0mclf\u001b[0m\u001b[0;34m,\u001b[0m \u001b[0mX\u001b[0m\u001b[0;34m,\u001b[0m \u001b[0my\u001b[0m\u001b[0;34m)\u001b[0m\u001b[0;34m,\u001b[0m \u001b[0;36m6\u001b[0m\u001b[0;34m)\u001b[0m\u001b[0;34m\u001b[0m\u001b[0;34m\u001b[0m\u001b[0m\n",
      "\u001b[0;32m~/anaconda3/lib/python3.8/site-packages/regressors/stats.py\u001b[0m in \u001b[0;36mcoef_se\u001b[0;34m(clf, X, y)\u001b[0m\n\u001b[1;32m    145\u001b[0m     se_matrix = scipy.linalg.sqrtm(\n\u001b[1;32m    146\u001b[0m         \u001b[0mmetrics\u001b[0m\u001b[0;34m.\u001b[0m\u001b[0mmean_squared_error\u001b[0m\u001b[0;34m(\u001b[0m\u001b[0my\u001b[0m\u001b[0;34m,\u001b[0m \u001b[0mclf\u001b[0m\u001b[0;34m.\u001b[0m\u001b[0mpredict\u001b[0m\u001b[0;34m(\u001b[0m\u001b[0mX\u001b[0m\u001b[0;34m)\u001b[0m\u001b[0;34m)\u001b[0m \u001b[0;34m*\u001b[0m\u001b[0;34m\u001b[0m\u001b[0;34m\u001b[0m\u001b[0m\n\u001b[0;32m--> 147\u001b[0;31m         \u001b[0mnp\u001b[0m\u001b[0;34m.\u001b[0m\u001b[0mlinalg\u001b[0m\u001b[0;34m.\u001b[0m\u001b[0minv\u001b[0m\u001b[0;34m(\u001b[0m\u001b[0mX1\u001b[0m\u001b[0;34m.\u001b[0m\u001b[0mT\u001b[0m \u001b[0;34m*\u001b[0m \u001b[0mX1\u001b[0m\u001b[0;34m)\u001b[0m\u001b[0;34m\u001b[0m\u001b[0;34m\u001b[0m\u001b[0m\n\u001b[0m\u001b[1;32m    148\u001b[0m     )\n\u001b[1;32m    149\u001b[0m     \u001b[0;32mreturn\u001b[0m \u001b[0mnp\u001b[0m\u001b[0;34m.\u001b[0m\u001b[0mdiagonal\u001b[0m\u001b[0;34m(\u001b[0m\u001b[0mse_matrix\u001b[0m\u001b[0;34m)\u001b[0m\u001b[0;34m\u001b[0m\u001b[0;34m\u001b[0m\u001b[0m\n",
      "\u001b[0;32m<__array_function__ internals>\u001b[0m in \u001b[0;36minv\u001b[0;34m(*args, **kwargs)\u001b[0m\n",
      "\u001b[0;32m~/anaconda3/lib/python3.8/site-packages/numpy/linalg/linalg.py\u001b[0m in \u001b[0;36minv\u001b[0;34m(a)\u001b[0m\n\u001b[1;32m    545\u001b[0m     \u001b[0msignature\u001b[0m \u001b[0;34m=\u001b[0m \u001b[0;34m'D->D'\u001b[0m \u001b[0;32mif\u001b[0m \u001b[0misComplexType\u001b[0m\u001b[0;34m(\u001b[0m\u001b[0mt\u001b[0m\u001b[0;34m)\u001b[0m \u001b[0;32melse\u001b[0m \u001b[0;34m'd->d'\u001b[0m\u001b[0;34m\u001b[0m\u001b[0;34m\u001b[0m\u001b[0m\n\u001b[1;32m    546\u001b[0m     \u001b[0mextobj\u001b[0m \u001b[0;34m=\u001b[0m \u001b[0mget_linalg_error_extobj\u001b[0m\u001b[0;34m(\u001b[0m\u001b[0m_raise_linalgerror_singular\u001b[0m\u001b[0;34m)\u001b[0m\u001b[0;34m\u001b[0m\u001b[0;34m\u001b[0m\u001b[0m\n\u001b[0;32m--> 547\u001b[0;31m     \u001b[0mainv\u001b[0m \u001b[0;34m=\u001b[0m \u001b[0m_umath_linalg\u001b[0m\u001b[0;34m.\u001b[0m\u001b[0minv\u001b[0m\u001b[0;34m(\u001b[0m\u001b[0ma\u001b[0m\u001b[0;34m,\u001b[0m \u001b[0msignature\u001b[0m\u001b[0;34m=\u001b[0m\u001b[0msignature\u001b[0m\u001b[0;34m,\u001b[0m \u001b[0mextobj\u001b[0m\u001b[0;34m=\u001b[0m\u001b[0mextobj\u001b[0m\u001b[0;34m)\u001b[0m\u001b[0;34m\u001b[0m\u001b[0;34m\u001b[0m\u001b[0m\n\u001b[0m\u001b[1;32m    548\u001b[0m     \u001b[0;32mreturn\u001b[0m \u001b[0mwrap\u001b[0m\u001b[0;34m(\u001b[0m\u001b[0mainv\u001b[0m\u001b[0;34m.\u001b[0m\u001b[0mastype\u001b[0m\u001b[0;34m(\u001b[0m\u001b[0mresult_t\u001b[0m\u001b[0;34m,\u001b[0m \u001b[0mcopy\u001b[0m\u001b[0;34m=\u001b[0m\u001b[0;32mFalse\u001b[0m\u001b[0;34m)\u001b[0m\u001b[0;34m)\u001b[0m\u001b[0;34m\u001b[0m\u001b[0;34m\u001b[0m\u001b[0m\n\u001b[1;32m    549\u001b[0m \u001b[0;34m\u001b[0m\u001b[0m\n",
      "\u001b[0;32m~/anaconda3/lib/python3.8/site-packages/numpy/linalg/linalg.py\u001b[0m in \u001b[0;36m_raise_linalgerror_singular\u001b[0;34m(err, flag)\u001b[0m\n\u001b[1;32m     95\u001b[0m \u001b[0;34m\u001b[0m\u001b[0m\n\u001b[1;32m     96\u001b[0m \u001b[0;32mdef\u001b[0m \u001b[0m_raise_linalgerror_singular\u001b[0m\u001b[0;34m(\u001b[0m\u001b[0merr\u001b[0m\u001b[0;34m,\u001b[0m \u001b[0mflag\u001b[0m\u001b[0;34m)\u001b[0m\u001b[0;34m:\u001b[0m\u001b[0;34m\u001b[0m\u001b[0;34m\u001b[0m\u001b[0m\n\u001b[0;32m---> 97\u001b[0;31m     \u001b[0;32mraise\u001b[0m \u001b[0mLinAlgError\u001b[0m\u001b[0;34m(\u001b[0m\u001b[0;34m\"Singular matrix\"\u001b[0m\u001b[0;34m)\u001b[0m\u001b[0;34m\u001b[0m\u001b[0;34m\u001b[0m\u001b[0m\n\u001b[0m\u001b[1;32m     98\u001b[0m \u001b[0;34m\u001b[0m\u001b[0m\n\u001b[1;32m     99\u001b[0m \u001b[0;32mdef\u001b[0m \u001b[0m_raise_linalgerror_nonposdef\u001b[0m\u001b[0;34m(\u001b[0m\u001b[0merr\u001b[0m\u001b[0;34m,\u001b[0m \u001b[0mflag\u001b[0m\u001b[0;34m)\u001b[0m\u001b[0;34m:\u001b[0m\u001b[0;34m\u001b[0m\u001b[0;34m\u001b[0m\u001b[0m\n",
      "\u001b[0;31mLinAlgError\u001b[0m: Singular matrix"
     ]
    }
   ],
   "source": [
    "for i in [1,2,3,4,5]:\n",
    "    poly = PolynomialFeatures(i)\n",
    "    polyx = poly.fit_transform(X)\n",
    "    m = lm.fit(polyx,y)\n",
    "    xlabels = [\"intercept\"]\n",
    "    xlabels.extend([\"X^\"+str(x+1) for x in range(i)])\n",
    "    xlabels = np.array(xlabels)\n",
    "    print(m)\n",
    "    print(xlabels)\n",
    "    print(polyx.shape,'\\n', y)\n",
    "    print(stats.summary(m, polyx, y, xlabels))"
   ]
  },
  {
   "cell_type": "markdown",
   "id": "endless-study",
   "metadata": {},
   "source": [
    "# Problem 3"
   ]
  },
  {
   "cell_type": "code",
   "execution_count": null,
   "id": "placed-merchandise",
   "metadata": {},
   "outputs": [],
   "source": [
    "boston = pd.read_csv('boston.csv', index_col=0)"
   ]
  },
  {
   "cell_type": "code",
   "execution_count": null,
   "id": "dutch-turning",
   "metadata": {},
   "outputs": [],
   "source": [
    "boston.head()"
   ]
  },
  {
   "cell_type": "markdown",
   "id": "suspected-summit",
   "metadata": {},
   "source": [
    "### (a)"
   ]
  },
  {
   "cell_type": "code",
   "execution_count": null,
   "id": "authentic-montreal",
   "metadata": {},
   "outputs": [],
   "source": [
    "mu_hat = boston.loc[:,'medv'].mean()"
   ]
  },
  {
   "cell_type": "code",
   "execution_count": null,
   "id": "operating-interstate",
   "metadata": {},
   "outputs": [],
   "source": [
    "mu_hat"
   ]
  },
  {
   "cell_type": "markdown",
   "id": "fluid-jones",
   "metadata": {},
   "source": [
    "### (b)"
   ]
  },
  {
   "cell_type": "code",
   "execution_count": null,
   "id": "separate-atmosphere",
   "metadata": {},
   "outputs": [],
   "source": [
    "medv = boston.loc[:,'medv']"
   ]
  },
  {
   "cell_type": "code",
   "execution_count": null,
   "id": "successful-headquarters",
   "metadata": {},
   "outputs": [],
   "source": [
    "np.std(medv)/np.sqrt(len(medv))"
   ]
  },
  {
   "cell_type": "markdown",
   "id": "herbal-romania",
   "metadata": {},
   "source": [
    "This value represents the accuracy to which to sample was able to infer the population mean."
   ]
  },
  {
   "cell_type": "markdown",
   "id": "macro-astrology",
   "metadata": {},
   "source": [
    "### (c)"
   ]
  },
  {
   "cell_type": "code",
   "execution_count": null,
   "id": "electric-accused",
   "metadata": {},
   "outputs": [],
   "source": [
    "def bootstrap(series,func=np.mean, *args):\n",
    "    boots = []\n",
    "    for i in range(10000):\n",
    "        indices = [np.random.randint(len(series)) for x in range(int(len(series)/3))]\n",
    "        sample = series.iloc[indices]\n",
    "        boots.append(func(sample, *args))\n",
    "    \n",
    "    sns.histplot(boots)\n",
    "    plt.title(\"Dist. of Bootstrap estimate\")\n",
    "    return(boots)"
   ]
  },
  {
   "cell_type": "code",
   "execution_count": null,
   "id": "broke-success",
   "metadata": {},
   "outputs": [],
   "source": [
    "def sd_err(series):\n",
    "    return(np.std(series)/np.sqrt(len(series)))"
   ]
  },
  {
   "cell_type": "code",
   "execution_count": null,
   "id": "interpreted-deficit",
   "metadata": {},
   "outputs": [],
   "source": [
    "boots = bootstrap(medv, sd_err)"
   ]
  },
  {
   "cell_type": "markdown",
   "id": "continent-facial",
   "metadata": {},
   "source": [
    "Distribution of the bootstrap estimates for Standard error."
   ]
  },
  {
   "cell_type": "code",
   "execution_count": null,
   "id": "downtown-warrant",
   "metadata": {},
   "outputs": [],
   "source": [
    "SE = np.mean(boots)\n",
    "print(\"\\nBootstrap estimate of the standard error: \" + str(SE))"
   ]
  },
  {
   "cell_type": "markdown",
   "id": "swiss-visitor",
   "metadata": {},
   "source": [
    "The standard error calculated via boot strap was larger than the for the direct calculation."
   ]
  },
  {
   "cell_type": "markdown",
   "id": "solved-nature",
   "metadata": {},
   "source": [
    "### (d)"
   ]
  },
  {
   "cell_type": "code",
   "execution_count": null,
   "id": "incorrect-possession",
   "metadata": {},
   "outputs": [],
   "source": [
    "boot_means = bootstrap(medv)"
   ]
  },
  {
   "cell_type": "markdown",
   "id": "prompt-preliminary",
   "metadata": {},
   "source": [
    "Distribution of Bootstrap estimates for the mean."
   ]
  },
  {
   "cell_type": "code",
   "execution_count": null,
   "id": "substantial-legislature",
   "metadata": {},
   "outputs": [],
   "source": [
    "mu = np.mean(boot_means)\n",
    "print(\"\\n95% confidence interval of bootstrap estimate of the mean: \" + str((mu-1.96*(SE),mu+1.96*(SE))))"
   ]
  },
  {
   "cell_type": "markdown",
   "id": "nuclear-morgan",
   "metadata": {},
   "source": [
    "```\n",
    "\tOne Sample t-test\n",
    "\n",
    "data:  Boston$medv\n",
    "t = 55.111, df = 505, p-value <\n",
    "2.2e-16\n",
    "alternative hypothesis: true mean is not equal to 0\n",
    "95 percent confidence interval:\n",
    " 21.72953 23.33608\n",
    "sample estimates:\n",
    "mean of x \n",
    " 22.53281 \n",
    "\n",
    "```"
   ]
  },
  {
   "cell_type": "markdown",
   "id": "incorporate-johnson",
   "metadata": {},
   "source": [
    "The cofidence interval was much wider using the bootstrap estimate than with using the t.test() function.  This agrees with the earlier statements about the value of the standard error."
   ]
  },
  {
   "cell_type": "markdown",
   "id": "continued-watts",
   "metadata": {},
   "source": [
    "### (e)"
   ]
  },
  {
   "cell_type": "code",
   "execution_count": null,
   "id": "registered-values",
   "metadata": {},
   "outputs": [],
   "source": [
    "dmed = np.median(medv)\n",
    "print(\"Direct estimate of the median: \",dmed)"
   ]
  },
  {
   "cell_type": "markdown",
   "id": "temporal-lobby",
   "metadata": {},
   "source": [
    "### (f)"
   ]
  },
  {
   "cell_type": "code",
   "execution_count": null,
   "id": "olympic-devon",
   "metadata": {},
   "outputs": [],
   "source": [
    "boot_meds = bootstrap(medv, np.median)"
   ]
  },
  {
   "cell_type": "markdown",
   "id": "expensive-afternoon",
   "metadata": {},
   "source": [
    "Distribution of Bootstrap estimates for the median."
   ]
  },
  {
   "cell_type": "code",
   "execution_count": null,
   "id": "vanilla-median",
   "metadata": {},
   "outputs": [],
   "source": [
    "med = np.mean(boot_meds)\n",
    "print(\"\\nBootstrap estimate of the median: \" + str(med))"
   ]
  },
  {
   "cell_type": "code",
   "execution_count": null,
   "id": "front-hamburg",
   "metadata": {},
   "outputs": [],
   "source": [
    "SE_med = np.std(boot_meds)/np.sqrt(len(boot_meds))\n",
    "print(\"\\nBootstrap estimate of Standard Error of the median: \",SE_med)"
   ]
  },
  {
   "cell_type": "markdown",
   "id": "regulated-persian",
   "metadata": {},
   "source": [
    "The distribution of the bootstrap estimates for median were not as normal as the distributions for mean or standard error.  The standard error for the mean calculated via bootstrap was very small (0.006)."
   ]
  },
  {
   "cell_type": "markdown",
   "id": "medium-spyware",
   "metadata": {},
   "source": [
    "### (h)"
   ]
  },
  {
   "cell_type": "code",
   "execution_count": null,
   "id": "strange-mountain",
   "metadata": {},
   "outputs": [],
   "source": [
    "p10 = np.percentile(medv, 10)\n",
    "print(\"\\nDirect estimate of the 10th percentile: \",p10)"
   ]
  },
  {
   "cell_type": "markdown",
   "id": "accepting-smart",
   "metadata": {},
   "source": [
    "### (g)"
   ]
  },
  {
   "cell_type": "code",
   "execution_count": null,
   "id": "assisted-worst",
   "metadata": {},
   "outputs": [],
   "source": [
    "boot_p10s = bootstrap(medv, np.percentile, 10)"
   ]
  },
  {
   "cell_type": "code",
   "execution_count": null,
   "id": "computational-johnston",
   "metadata": {},
   "outputs": [],
   "source": [
    "bp10 = np.mean(boot_p10s)\n",
    "print(\"\\nBootstrap estimate of the 10th percentile: \",bp10)"
   ]
  },
  {
   "cell_type": "markdown",
   "id": "essential-tournament",
   "metadata": {},
   "source": [
    "Again, the distribution of the bootstrap estimate was not very even and seems to be skewed left.  The estimate is very close to the direct estimate taken from the full sample."
   ]
  },
  {
   "cell_type": "code",
   "execution_count": null,
   "id": "negative-orbit",
   "metadata": {},
   "outputs": [],
   "source": []
  }
 ],
 "metadata": {
  "kernelspec": {
   "display_name": "Python 3 (ipykernel)",
   "language": "python",
   "name": "python3"
  },
  "language_info": {
   "codemirror_mode": {
    "name": "ipython",
    "version": 3
   },
   "file_extension": ".py",
   "mimetype": "text/x-python",
   "name": "python",
   "nbconvert_exporter": "python",
   "pygments_lexer": "ipython3",
   "version": "3.8.8"
  }
 },
 "nbformat": 4,
 "nbformat_minor": 5
}
