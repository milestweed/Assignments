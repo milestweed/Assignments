{
 "cells": [
  {
   "cell_type": "markdown",
   "metadata": {},
   "source": [
    "Rick Hutchison"
   ]
  },
  {
   "cell_type": "markdown",
   "metadata": {},
   "source": [
    " based on     https://nextjournal.com/gkoehler/pytorch-mnist"
   ]
  },
  {
   "cell_type": "code",
   "execution_count": 7,
   "metadata": {},
   "outputs": [],
   "source": [
    "import torch\n",
    "import torchvision\n",
    "import torchvision.datasets as dsets\n",
    "from torchvision import transforms"
   ]
  },
  {
   "cell_type": "markdown",
   "metadata": {},
   "source": [
    "Preparing the Dataset"
   ]
  },
  {
   "cell_type": "markdown",
   "metadata": {},
   "source": [
    "Define parameters   "
   ]
  },
  {
   "cell_type": "code",
   "execution_count": 5,
   "metadata": {},
   "outputs": [
    {
     "data": {
      "text/plain": [
       "<torch._C.Generator at 0x7ff288030310>"
      ]
     },
     "execution_count": 5,
     "metadata": {},
     "output_type": "execute_result"
    }
   ],
   "source": [
    "n_epochs = 3\n",
    "batch_size_train = 64\n",
    "batch_size_test = 1000\n",
    "learning_rate = 0.01\n",
    "momentum = 0.5\n",
    "log_interval = 10\n",
    "\n",
    "random_seed = 1\n",
    "torch.backends.cudnn.enabled = False\n",
    "torch.manual_seed(random_seed)"
   ]
  },
  {
   "cell_type": "markdown",
   "metadata": {},
   "source": [
    "load data"
   ]
  },
  {
   "cell_type": "markdown",
   "metadata": {},
   "source": [
    "taken from previous homework 3"
   ]
  },
  {
   "cell_type": "code",
   "execution_count": 8,
   "metadata": {},
   "outputs": [],
   "source": [
    "train_dataset = dsets.MNIST(root='/home/mtweed/Documents/New_College/_Misl/data', train=True, transform=transforms.ToTensor(), download=False)\n",
    "test_dataset = dsets.MNIST(root='/home/mtweed/Documents/New_College/_Misl/data', train=False, transform=transforms.ToTensor())"
   ]
  },
  {
   "cell_type": "code",
   "execution_count": 9,
   "metadata": {},
   "outputs": [
    {
     "name": "stdout",
     "output_type": "stream",
     "text": [
      "Downloading http://yann.lecun.com/exdb/mnist/train-images-idx3-ubyte.gz to train_dataset/MNIST/raw/train-images-idx3-ubyte.gz\n"
     ]
    },
    {
     "data": {
      "application/vnd.jupyter.widget-view+json": {
       "model_id": "e9ff683f6eba4848979b93f202fdb590",
       "version_major": 2,
       "version_minor": 0
      },
      "text/plain": [
       "0it [00:00, ?it/s]"
      ]
     },
     "metadata": {},
     "output_type": "display_data"
    },
    {
     "name": "stdout",
     "output_type": "stream",
     "text": [
      "Extracting train_dataset/MNIST/raw/train-images-idx3-ubyte.gz to train_dataset/MNIST/raw\n",
      "Downloading http://yann.lecun.com/exdb/mnist/train-labels-idx1-ubyte.gz to train_dataset/MNIST/raw/train-labels-idx1-ubyte.gz\n"
     ]
    },
    {
     "data": {
      "application/vnd.jupyter.widget-view+json": {
       "model_id": "e0808f495e86491a823c2b1d20be8196",
       "version_major": 2,
       "version_minor": 0
      },
      "text/plain": [
       "0it [00:00, ?it/s]"
      ]
     },
     "metadata": {},
     "output_type": "display_data"
    },
    {
     "name": "stdout",
     "output_type": "stream",
     "text": [
      "Extracting train_dataset/MNIST/raw/train-labels-idx1-ubyte.gz to train_dataset/MNIST/raw\n",
      "Downloading http://yann.lecun.com/exdb/mnist/t10k-images-idx3-ubyte.gz to train_dataset/MNIST/raw/t10k-images-idx3-ubyte.gz\n"
     ]
    },
    {
     "data": {
      "application/vnd.jupyter.widget-view+json": {
       "model_id": "e3bdb2e1bc50467d872ce2e03e7b26a7",
       "version_major": 2,
       "version_minor": 0
      },
      "text/plain": [
       "0it [00:00, ?it/s]"
      ]
     },
     "metadata": {},
     "output_type": "display_data"
    },
    {
     "name": "stdout",
     "output_type": "stream",
     "text": [
      "Extracting train_dataset/MNIST/raw/t10k-images-idx3-ubyte.gz to train_dataset/MNIST/raw\n",
      "Downloading http://yann.lecun.com/exdb/mnist/t10k-labels-idx1-ubyte.gz to train_dataset/MNIST/raw/t10k-labels-idx1-ubyte.gz\n"
     ]
    },
    {
     "data": {
      "application/vnd.jupyter.widget-view+json": {
       "model_id": "4d5defdb1aca4aac82579525a6ff33eb",
       "version_major": 2,
       "version_minor": 0
      },
      "text/plain": [
       "0it [00:00, ?it/s]"
      ]
     },
     "metadata": {},
     "output_type": "display_data"
    },
    {
     "name": "stdout",
     "output_type": "stream",
     "text": [
      "Extracting train_dataset/MNIST/raw/t10k-labels-idx1-ubyte.gz to train_dataset/MNIST/raw\n",
      "Processing...\n",
      "Done!\n",
      "Downloading http://yann.lecun.com/exdb/mnist/train-images-idx3-ubyte.gz to test_dataset/MNIST/raw/train-images-idx3-ubyte.gz\n"
     ]
    },
    {
     "name": "stderr",
     "output_type": "stream",
     "text": [
      "/home/mtweed/anaconda3/lib/python3.8/site-packages/torchvision/datasets/mnist.py:480: UserWarning: The given NumPy array is not writeable, and PyTorch does not support non-writeable tensors. This means you can write to the underlying (supposedly non-writeable) NumPy array using the tensor. You may want to copy the array to protect its data or make it writeable before converting it to a tensor. This type of warning will be suppressed for the rest of this program. (Triggered internally at  /tmp/pip-req-build-o899_72q/torch/csrc/utils/tensor_numpy.cpp:143.)\n",
      "  return torch.from_numpy(parsed.astype(m[2], copy=False)).view(*s)\n"
     ]
    },
    {
     "data": {
      "application/vnd.jupyter.widget-view+json": {
       "model_id": "8227913a5ed54be38c5a333491a534d4",
       "version_major": 2,
       "version_minor": 0
      },
      "text/plain": [
       "0it [00:00, ?it/s]"
      ]
     },
     "metadata": {},
     "output_type": "display_data"
    },
    {
     "name": "stdout",
     "output_type": "stream",
     "text": [
      "Extracting test_dataset/MNIST/raw/train-images-idx3-ubyte.gz to test_dataset/MNIST/raw\n",
      "Downloading http://yann.lecun.com/exdb/mnist/train-labels-idx1-ubyte.gz to test_dataset/MNIST/raw/train-labels-idx1-ubyte.gz\n"
     ]
    },
    {
     "data": {
      "application/vnd.jupyter.widget-view+json": {
       "model_id": "0d08c81eab9a4b1994f9292fb8d044e4",
       "version_major": 2,
       "version_minor": 0
      },
      "text/plain": [
       "0it [00:00, ?it/s]"
      ]
     },
     "metadata": {},
     "output_type": "display_data"
    },
    {
     "name": "stdout",
     "output_type": "stream",
     "text": [
      "Extracting test_dataset/MNIST/raw/train-labels-idx1-ubyte.gz to test_dataset/MNIST/raw\n",
      "Downloading http://yann.lecun.com/exdb/mnist/t10k-images-idx3-ubyte.gz to test_dataset/MNIST/raw/t10k-images-idx3-ubyte.gz\n"
     ]
    },
    {
     "data": {
      "application/vnd.jupyter.widget-view+json": {
       "model_id": "a678f440e56143d999e62a2c3a20191b",
       "version_major": 2,
       "version_minor": 0
      },
      "text/plain": [
       "0it [00:00, ?it/s]"
      ]
     },
     "metadata": {},
     "output_type": "display_data"
    },
    {
     "name": "stdout",
     "output_type": "stream",
     "text": [
      "Extracting test_dataset/MNIST/raw/t10k-images-idx3-ubyte.gz to test_dataset/MNIST/raw\n",
      "Downloading http://yann.lecun.com/exdb/mnist/t10k-labels-idx1-ubyte.gz to test_dataset/MNIST/raw/t10k-labels-idx1-ubyte.gz\n"
     ]
    },
    {
     "data": {
      "application/vnd.jupyter.widget-view+json": {
       "model_id": "38c645f313094839a72960ab6d5e083a",
       "version_major": 2,
       "version_minor": 0
      },
      "text/plain": [
       "0it [00:00, ?it/s]"
      ]
     },
     "metadata": {},
     "output_type": "display_data"
    },
    {
     "name": "stdout",
     "output_type": "stream",
     "text": [
      "Extracting test_dataset/MNIST/raw/t10k-labels-idx1-ubyte.gz to test_dataset/MNIST/raw\n",
      "Processing...\n",
      "Done!\n"
     ]
    }
   ],
   "source": [
    "train_loader = torch.utils.data.DataLoader(\n",
    "  torchvision.datasets.MNIST('train_dataset', train=True, download=True,\n",
    "                             transform=torchvision.transforms.Compose([\n",
    "                               torchvision.transforms.ToTensor(),\n",
    "                               torchvision.transforms.Normalize(\n",
    "                                 (0.1307,), (0.3081,))\n",
    "                             ])),\n",
    "  batch_size=batch_size_train, shuffle=True)\n",
    "\n",
    "test_loader = torch.utils.data.DataLoader(\n",
    "  torchvision.datasets.MNIST('test_dataset', train=False, download=True,\n",
    "                             transform=torchvision.transforms.Compose([\n",
    "                               torchvision.transforms.ToTensor(),\n",
    "                               torchvision.transforms.Normalize(\n",
    "                                 (0.1307,), (0.3081,))\n",
    "                             ])),\n",
    "  batch_size=batch_size_test, shuffle=True)"
   ]
  },
  {
   "cell_type": "code",
   "execution_count": 10,
   "metadata": {},
   "outputs": [],
   "source": [
    "examples = enumerate(test_loader)\n",
    "batch_idx, (example_data, example_targets) = next(examples)"
   ]
  },
  {
   "cell_type": "code",
   "execution_count": 11,
   "metadata": {},
   "outputs": [
    {
     "data": {
      "text/plain": [
       "torch.Size([1000, 1, 28, 28])"
      ]
     },
     "execution_count": 11,
     "metadata": {},
     "output_type": "execute_result"
    }
   ],
   "source": [
    "example_data.shape"
   ]
  },
  {
   "cell_type": "markdown",
   "metadata": {},
   "source": [
    "Take a look"
   ]
  },
  {
   "cell_type": "code",
   "execution_count": 12,
   "metadata": {},
   "outputs": [
    {
     "data": {
      "image/png": "[encoded data removed]",
      "text/plain": [
       "<Figure size 432x288 with 6 Axes>"
      ]
     },
     "execution_count": 12,
     "metadata": {},
     "output_type": "execute_result"
    },
    {
     "data": {
      "image/png": "[encoded data removed]",
      "text/plain": [
       "<Figure size 432x288 with 6 Axes>"
      ]
     },
     "metadata": {},
     "output_type": "display_data"
    }
   ],
   "source": [
    "import matplotlib.pyplot as plt\n",
    "\n",
    "fig = plt.figure()\n",
    "for i in range(6):\n",
    "  plt.subplot(2,3,i+1)\n",
    "  plt.tight_layout()\n",
    "  plt.imshow(example_data[i][0], cmap='gray', interpolation='none')\n",
    "  plt.title(\"Ground Truth: {}\".format(example_targets[i]))\n",
    "  plt.xticks([])\n",
    "  plt.yticks([])\n",
    "fig"
   ]
  },
  {
   "cell_type": "markdown",
   "metadata": {},
   "source": [
    "Building the Network"
   ]
  },
  {
   "cell_type": "code",
   "execution_count": null,
   "metadata": {},
   "outputs": [],
   "source": []
  },
  {
   "cell_type": "markdown",
   "metadata": {},
   "source": [
    " two 2-D convolutional layers followed by two fully-connected (or linear) layers\n",
    " activation function we'll choose rectified linear units \n",
    " regularization we'll use two dropout layers.\n",
    " "
   ]
  },
  {
   "cell_type": "code",
   "execution_count": 13,
   "metadata": {},
   "outputs": [],
   "source": [
    "import torch.nn as nn\n",
    "import torch.nn.functional as F\n",
    "import torch.optim as optim"
   ]
  },
  {
   "cell_type": "markdown",
   "metadata": {},
   "source": [
    "new class for the nerwork"
   ]
  },
  {
   "cell_type": "code",
   "execution_count": 14,
   "metadata": {},
   "outputs": [],
   "source": [
    "class Net(nn.Module):\n",
    "    def __init__(self):\n",
    "        super(Net, self).__init__()\n",
    "        self.conv1 = nn.Conv2d(1, 10, kernel_size=5)\n",
    "        self.conv2 = nn.Conv2d(10, 20, kernel_size=5)\n",
    "        self.conv2_drop = nn.Dropout2d()\n",
    "        self.fc1 = nn.Linear(320, 50)\n",
    "        self.fc2 = nn.Linear(50, 10)\n",
    "\n",
    "    def forward(self, x):\n",
    "        x = F.relu(F.max_pool2d(self.conv1(x), 2))\n",
    "        x = F.relu(F.max_pool2d(self.conv2_drop(self.conv2(x)), 2))\n",
    "        x = x.view(-1, 320)\n",
    "        x = F.relu(self.fc1(x))\n",
    "        x = F.dropout(x, training=self.training)\n",
    "        x = self.fc2(x)\n",
    "        return F.log_softmax(x)"
   ]
  },
  {
   "cell_type": "markdown",
   "metadata": {},
   "source": [
    "torch.nn layers as which contain trainable parameters while torch.nn.functional are purely functional. The forward() pass defines the way we compute our output using the given layers and functions."
   ]
  },
  {
   "cell_type": "markdown",
   "metadata": {},
   "source": [
    "initialize the network and the optimizer."
   ]
  },
  {
   "cell_type": "code",
   "execution_count": 16,
   "metadata": {},
   "outputs": [],
   "source": [
    "network = Net()\n",
    "optimizer = optim.SGD(network.parameters(), lr=learning_rate,\n",
    "                      momentum=momentum)"
   ]
  },
  {
   "cell_type": "code",
   "execution_count": null,
   "metadata": {},
   "outputs": [],
   "source": []
  },
  {
   "cell_type": "markdown",
   "metadata": {},
   "source": [
    "Training the Model"
   ]
  },
  {
   "cell_type": "code",
   "execution_count": 17,
   "metadata": {},
   "outputs": [],
   "source": [
    "train_losses = []\n",
    "train_counter = []\n",
    "test_losses = []\n",
    "test_counter = [i*len(train_loader.dataset) for i in range(n_epochs + 1)]"
   ]
  },
  {
   "cell_type": "markdown",
   "metadata": {},
   "source": [
    "run loop once"
   ]
  },
  {
   "cell_type": "code",
   "execution_count": null,
   "metadata": {},
   "outputs": [],
   "source": []
  },
  {
   "cell_type": "code",
   "execution_count": 47,
   "metadata": {},
   "outputs": [],
   "source": [
    "def train(epoch):\n",
    "  network.train()\n",
    "  for batch_idx, (data, target) in enumerate(train_loader):\n",
    "    optimizer.zero_grad()\n",
    "    output = network(data)\n",
    "    loss = F.nll_loss(output, target)\n",
    "    loss.backward()\n",
    "    optimizer.step()\n",
    "    if batch_idx % log_interval == 0:\n",
    "      print('Train Epoch: {} [{}/{} ({:.0f}%)]\\tLoss: {:.6f}'.format(\n",
    "        epoch, batch_idx * len(data), len(train_loader.dataset),\n",
    "        100. * batch_idx / len(train_loader), loss.item()))\n",
    "      train_losses.append(loss.item())\n",
    "      train_counter.append(\n",
    "        (batch_idx*64) + ((epoch-1)*len(train_loader.dataset)))\n",
    "      torch.save(network.state_dict(), './savenetwork')\n",
    "      torch.save(optimizer.state_dict(), './saveoptimizer')"
   ]
  },
  {
   "cell_type": "code",
   "execution_count": 31,
   "metadata": {},
   "outputs": [],
   "source": [
    "def test():\n",
    "  network.eval()\n",
    "  test_loss = 0\n",
    "  correct = 0\n",
    "  with torch.no_grad():\n",
    "    for data, target in test_loader:\n",
    "      output = network(data)\n",
    "      test_loss += F.nll_loss(output, target, size_average=False).item()\n",
    "      pred = output.data.max(1, keepdim=True)[1]\n",
    "      correct += pred.eq(target.data.view_as(pred)).sum()\n",
    "  test_loss /= len(test_loader.dataset)\n",
    "  test_losses.append(test_loss)\n",
    "  print('\\nTest set: Avg. loss: {:.4f}, Accuracy: {}/{} ({:.0f}%)\\n'.format(\n",
    "    test_loss, correct, len(test_loader.dataset),\n",
    "    100. * correct / len(test_loader.dataset)))"
   ]
  },
  {
   "cell_type": "code",
   "execution_count": null,
   "metadata": {},
   "outputs": [],
   "source": []
  },
  {
   "cell_type": "code",
   "execution_count": 32,
   "metadata": {},
   "outputs": [
    {
     "name": "stderr",
     "output_type": "stream",
     "text": [
      "<ipython-input-14-6c2218f37724>:17: UserWarning: Implicit dimension choice for log_softmax has been deprecated. Change the call to include dim=X as an argument.\n",
      "  return F.log_softmax(x)\n"
     ]
    },
    {
     "name": "stdout",
     "output_type": "stream",
     "text": [
      "\n",
      "Test set: Avg. loss: 2.3047, Accuracy: 731/10000 (7%)\n",
      "\n"
     ]
    }
   ],
   "source": [
    "test()"
   ]
  },
  {
   "cell_type": "code",
   "execution_count": 33,
   "metadata": {},
   "outputs": [
    {
     "name": "stdout",
     "output_type": "stream",
     "text": [
      "Train Epoch: 1 [0/60000 (0%)]\tLoss: 2.329646\n",
      "Train Epoch: 1 [640/60000 (1%)]\tLoss: 2.256382\n"
     ]
    },
    {
     "name": "stderr",
     "output_type": "stream",
     "text": [
      "<ipython-input-14-6c2218f37724>:17: UserWarning: Implicit dimension choice for log_softmax has been deprecated. Change the call to include dim=X as an argument.\n",
      "  return F.log_softmax(x)\n"
     ]
    },
    {
     "name": "stdout",
     "output_type": "stream",
     "text": [
      "Train Epoch: 1 [1280/60000 (2%)]\tLoss: 2.316321\n",
      "Train Epoch: 1 [1920/60000 (3%)]\tLoss: 2.269423\n",
      "Train Epoch: 1 [2560/60000 (4%)]\tLoss: 2.286585\n",
      "Train Epoch: 1 [3200/60000 (5%)]\tLoss: 2.258720\n",
      "Train Epoch: 1 [3840/60000 (6%)]\tLoss: 2.228556\n",
      "Train Epoch: 1 [4480/60000 (7%)]\tLoss: 2.208200\n",
      "Train Epoch: 1 [5120/60000 (9%)]\tLoss: 2.113160\n",
      "Train Epoch: 1 [5760/60000 (10%)]\tLoss: 2.053856\n",
      "Train Epoch: 1 [6400/60000 (11%)]\tLoss: 2.056720\n",
      "Train Epoch: 1 [7040/60000 (12%)]\tLoss: 1.890616\n",
      "Train Epoch: 1 [7680/60000 (13%)]\tLoss: 1.744175\n",
      "Train Epoch: 1 [8320/60000 (14%)]\tLoss: 1.677495\n",
      "Train Epoch: 1 [8960/60000 (15%)]\tLoss: 1.596904\n",
      "Train Epoch: 1 [9600/60000 (16%)]\tLoss: 1.461892\n",
      "Train Epoch: 1 [10240/60000 (17%)]\tLoss: 1.435373\n",
      "Train Epoch: 1 [10880/60000 (18%)]\tLoss: 0.980971\n",
      "Train Epoch: 1 [11520/60000 (19%)]\tLoss: 1.094493\n",
      "Train Epoch: 1 [12160/60000 (20%)]\tLoss: 1.053574\n",
      "Train Epoch: 1 [12800/60000 (21%)]\tLoss: 1.095951\n",
      "Train Epoch: 1 [13440/60000 (22%)]\tLoss: 0.994463\n",
      "Train Epoch: 1 [14080/60000 (23%)]\tLoss: 0.966905\n",
      "Train Epoch: 1 [14720/60000 (25%)]\tLoss: 1.033945\n",
      "Train Epoch: 1 [15360/60000 (26%)]\tLoss: 1.088601\n",
      "Train Epoch: 1 [16000/60000 (27%)]\tLoss: 0.822781\n",
      "Train Epoch: 1 [16640/60000 (28%)]\tLoss: 0.863564\n",
      "Train Epoch: 1 [17280/60000 (29%)]\tLoss: 0.757763\n",
      "Train Epoch: 1 [17920/60000 (30%)]\tLoss: 0.760272\n",
      "Train Epoch: 1 [18560/60000 (31%)]\tLoss: 0.800172\n",
      "Train Epoch: 1 [19200/60000 (32%)]\tLoss: 0.643475\n",
      "Train Epoch: 1 [19840/60000 (33%)]\tLoss: 1.088852\n",
      "Train Epoch: 1 [20480/60000 (34%)]\tLoss: 1.071586\n",
      "Train Epoch: 1 [21120/60000 (35%)]\tLoss: 0.732090\n",
      "Train Epoch: 1 [21760/60000 (36%)]\tLoss: 0.929534\n",
      "Train Epoch: 1 [22400/60000 (37%)]\tLoss: 0.890746\n",
      "Train Epoch: 1 [23040/60000 (38%)]\tLoss: 0.603183\n",
      "Train Epoch: 1 [23680/60000 (39%)]\tLoss: 0.801700\n",
      "Train Epoch: 1 [24320/60000 (41%)]\tLoss: 0.746023\n",
      "Train Epoch: 1 [24960/60000 (42%)]\tLoss: 0.494153\n",
      "Train Epoch: 1 [25600/60000 (43%)]\tLoss: 0.520079\n",
      "Train Epoch: 1 [26240/60000 (44%)]\tLoss: 0.618130\n",
      "Train Epoch: 1 [26880/60000 (45%)]\tLoss: 0.614745\n",
      "Train Epoch: 1 [27520/60000 (46%)]\tLoss: 0.771679\n",
      "Train Epoch: 1 [28160/60000 (47%)]\tLoss: 0.617551\n",
      "Train Epoch: 1 [28800/60000 (48%)]\tLoss: 0.660702\n",
      "Train Epoch: 1 [29440/60000 (49%)]\tLoss: 0.512769\n",
      "Train Epoch: 1 [30080/60000 (50%)]\tLoss: 0.649507\n",
      "Train Epoch: 1 [30720/60000 (51%)]\tLoss: 0.840910\n",
      "Train Epoch: 1 [31360/60000 (52%)]\tLoss: 0.818189\n",
      "Train Epoch: 1 [32000/60000 (53%)]\tLoss: 0.519348\n",
      "Train Epoch: 1 [32640/60000 (54%)]\tLoss: 0.620403\n",
      "Train Epoch: 1 [33280/60000 (55%)]\tLoss: 0.532030\n",
      "Train Epoch: 1 [33920/60000 (57%)]\tLoss: 0.784826\n",
      "Train Epoch: 1 [34560/60000 (58%)]\tLoss: 0.544523\n",
      "Train Epoch: 1 [35200/60000 (59%)]\tLoss: 0.501779\n",
      "Train Epoch: 1 [35840/60000 (60%)]\tLoss: 0.677511\n",
      "Train Epoch: 1 [36480/60000 (61%)]\tLoss: 0.778342\n",
      "Train Epoch: 1 [37120/60000 (62%)]\tLoss: 0.734270\n",
      "Train Epoch: 1 [37760/60000 (63%)]\tLoss: 0.754514\n",
      "Train Epoch: 1 [38400/60000 (64%)]\tLoss: 0.579291\n",
      "Train Epoch: 1 [39040/60000 (65%)]\tLoss: 0.756708\n",
      "Train Epoch: 1 [39680/60000 (66%)]\tLoss: 0.459976\n",
      "Train Epoch: 1 [40320/60000 (67%)]\tLoss: 0.574647\n",
      "Train Epoch: 1 [40960/60000 (68%)]\tLoss: 0.433072\n",
      "Train Epoch: 1 [41600/60000 (69%)]\tLoss: 0.594209\n",
      "Train Epoch: 1 [42240/60000 (70%)]\tLoss: 0.773476\n",
      "Train Epoch: 1 [42880/60000 (71%)]\tLoss: 0.599566\n",
      "Train Epoch: 1 [43520/60000 (72%)]\tLoss: 0.454980\n",
      "Train Epoch: 1 [44160/60000 (74%)]\tLoss: 0.597147\n",
      "Train Epoch: 1 [44800/60000 (75%)]\tLoss: 0.461192\n",
      "Train Epoch: 1 [45440/60000 (76%)]\tLoss: 0.465771\n",
      "Train Epoch: 1 [46080/60000 (77%)]\tLoss: 0.503985\n",
      "Train Epoch: 1 [46720/60000 (78%)]\tLoss: 0.365441\n",
      "Train Epoch: 1 [47360/60000 (79%)]\tLoss: 0.424899\n",
      "Train Epoch: 1 [48000/60000 (80%)]\tLoss: 0.636722\n",
      "Train Epoch: 1 [48640/60000 (81%)]\tLoss: 0.497660\n",
      "Train Epoch: 1 [49280/60000 (82%)]\tLoss: 0.343889\n",
      "Train Epoch: 1 [49920/60000 (83%)]\tLoss: 0.355822\n",
      "Train Epoch: 1 [50560/60000 (84%)]\tLoss: 0.560060\n",
      "Train Epoch: 1 [51200/60000 (85%)]\tLoss: 0.380048\n",
      "Train Epoch: 1 [51840/60000 (86%)]\tLoss: 0.392098\n",
      "Train Epoch: 1 [52480/60000 (87%)]\tLoss: 0.405933\n",
      "Train Epoch: 1 [53120/60000 (88%)]\tLoss: 0.594398\n",
      "Train Epoch: 1 [53760/60000 (90%)]\tLoss: 0.978094\n",
      "Train Epoch: 1 [54400/60000 (91%)]\tLoss: 0.403628\n",
      "Train Epoch: 1 [55040/60000 (92%)]\tLoss: 0.392381\n",
      "Train Epoch: 1 [55680/60000 (93%)]\tLoss: 0.427965\n",
      "Train Epoch: 1 [56320/60000 (94%)]\tLoss: 0.452222\n",
      "Train Epoch: 1 [56960/60000 (95%)]\tLoss: 0.447242\n",
      "Train Epoch: 1 [57600/60000 (96%)]\tLoss: 0.618088\n",
      "Train Epoch: 1 [58240/60000 (97%)]\tLoss: 0.383287\n",
      "Train Epoch: 1 [58880/60000 (98%)]\tLoss: 0.649691\n",
      "Train Epoch: 1 [59520/60000 (99%)]\tLoss: 0.482895\n",
      "\n",
      "Test set: Avg. loss: 0.1844, Accuracy: 9449/10000 (94%)\n",
      "\n",
      "Train Epoch: 2 [0/60000 (0%)]\tLoss: 0.382320\n",
      "Train Epoch: 2 [640/60000 (1%)]\tLoss: 0.551975\n",
      "Train Epoch: 2 [1280/60000 (2%)]\tLoss: 0.519737\n",
      "Train Epoch: 2 [1920/60000 (3%)]\tLoss: 0.503453\n",
      "Train Epoch: 2 [2560/60000 (4%)]\tLoss: 0.333027\n",
      "Train Epoch: 2 [3200/60000 (5%)]\tLoss: 0.696192\n",
      "Train Epoch: 2 [3840/60000 (6%)]\tLoss: 0.397312\n",
      "Train Epoch: 2 [4480/60000 (7%)]\tLoss: 0.622891\n",
      "Train Epoch: 2 [5120/60000 (9%)]\tLoss: 0.573168\n",
      "Train Epoch: 2 [5760/60000 (10%)]\tLoss: 0.381658\n",
      "Train Epoch: 2 [6400/60000 (11%)]\tLoss: 0.461908\n",
      "Train Epoch: 2 [7040/60000 (12%)]\tLoss: 0.363446\n",
      "Train Epoch: 2 [7680/60000 (13%)]\tLoss: 0.298205\n",
      "Train Epoch: 2 [8320/60000 (14%)]\tLoss: 0.200967\n",
      "Train Epoch: 2 [8960/60000 (15%)]\tLoss: 0.508868\n",
      "Train Epoch: 2 [9600/60000 (16%)]\tLoss: 0.701434\n",
      "Train Epoch: 2 [10240/60000 (17%)]\tLoss: 0.484808\n",
      "Train Epoch: 2 [10880/60000 (18%)]\tLoss: 0.578011\n",
      "Train Epoch: 2 [11520/60000 (19%)]\tLoss: 0.451105\n",
      "Train Epoch: 2 [12160/60000 (20%)]\tLoss: 0.553855\n",
      "Train Epoch: 2 [12800/60000 (21%)]\tLoss: 0.592848\n",
      "Train Epoch: 2 [13440/60000 (22%)]\tLoss: 0.233402\n",
      "Train Epoch: 2 [14080/60000 (23%)]\tLoss: 0.296023\n",
      "Train Epoch: 2 [14720/60000 (25%)]\tLoss: 0.299218\n",
      "Train Epoch: 2 [15360/60000 (26%)]\tLoss: 0.349584\n",
      "Train Epoch: 2 [16000/60000 (27%)]\tLoss: 0.552896\n",
      "Train Epoch: 2 [16640/60000 (28%)]\tLoss: 0.323557\n",
      "Train Epoch: 2 [17280/60000 (29%)]\tLoss: 0.515260\n",
      "Train Epoch: 2 [17920/60000 (30%)]\tLoss: 0.529439\n",
      "Train Epoch: 2 [18560/60000 (31%)]\tLoss: 0.435657\n",
      "Train Epoch: 2 [19200/60000 (32%)]\tLoss: 0.200499\n",
      "Train Epoch: 2 [19840/60000 (33%)]\tLoss: 0.420657\n",
      "Train Epoch: 2 [20480/60000 (34%)]\tLoss: 0.310146\n",
      "Train Epoch: 2 [21120/60000 (35%)]\tLoss: 0.424374\n",
      "Train Epoch: 2 [21760/60000 (36%)]\tLoss: 0.370248\n",
      "Train Epoch: 2 [22400/60000 (37%)]\tLoss: 0.221277\n",
      "Train Epoch: 2 [23040/60000 (38%)]\tLoss: 0.296019\n",
      "Train Epoch: 2 [23680/60000 (39%)]\tLoss: 0.498163\n",
      "Train Epoch: 2 [24320/60000 (41%)]\tLoss: 0.403291\n",
      "Train Epoch: 2 [24960/60000 (42%)]\tLoss: 0.325319\n",
      "Train Epoch: 2 [25600/60000 (43%)]\tLoss: 0.437939\n",
      "Train Epoch: 2 [26240/60000 (44%)]\tLoss: 0.379369\n",
      "Train Epoch: 2 [26880/60000 (45%)]\tLoss: 0.494845\n",
      "Train Epoch: 2 [27520/60000 (46%)]\tLoss: 0.356802\n",
      "Train Epoch: 2 [28160/60000 (47%)]\tLoss: 0.318437\n",
      "Train Epoch: 2 [28800/60000 (48%)]\tLoss: 0.220010\n",
      "Train Epoch: 2 [29440/60000 (49%)]\tLoss: 0.293150\n",
      "Train Epoch: 2 [30080/60000 (50%)]\tLoss: 0.236704\n",
      "Train Epoch: 2 [30720/60000 (51%)]\tLoss: 0.235680\n",
      "Train Epoch: 2 [31360/60000 (52%)]\tLoss: 0.353698\n",
      "Train Epoch: 2 [32000/60000 (53%)]\tLoss: 0.331634\n",
      "Train Epoch: 2 [32640/60000 (54%)]\tLoss: 0.195788\n",
      "Train Epoch: 2 [33280/60000 (55%)]\tLoss: 0.339836\n",
      "Train Epoch: 2 [33920/60000 (57%)]\tLoss: 0.315053\n",
      "Train Epoch: 2 [34560/60000 (58%)]\tLoss: 0.302052\n",
      "Train Epoch: 2 [35200/60000 (59%)]\tLoss: 0.241372\n",
      "Train Epoch: 2 [35840/60000 (60%)]\tLoss: 0.498108\n",
      "Train Epoch: 2 [36480/60000 (61%)]\tLoss: 0.456700\n",
      "Train Epoch: 2 [37120/60000 (62%)]\tLoss: 0.312844\n",
      "Train Epoch: 2 [37760/60000 (63%)]\tLoss: 0.233616\n",
      "Train Epoch: 2 [38400/60000 (64%)]\tLoss: 0.436748\n",
      "Train Epoch: 2 [39040/60000 (65%)]\tLoss: 0.324290\n",
      "Train Epoch: 2 [39680/60000 (66%)]\tLoss: 0.495985\n",
      "Train Epoch: 2 [40320/60000 (67%)]\tLoss: 0.319212\n",
      "Train Epoch: 2 [40960/60000 (68%)]\tLoss: 0.287859\n",
      "Train Epoch: 2 [41600/60000 (69%)]\tLoss: 0.235967\n",
      "Train Epoch: 2 [42240/60000 (70%)]\tLoss: 0.459968\n",
      "Train Epoch: 2 [42880/60000 (71%)]\tLoss: 0.285925\n",
      "Train Epoch: 2 [43520/60000 (72%)]\tLoss: 0.358307\n",
      "Train Epoch: 2 [44160/60000 (74%)]\tLoss: 0.368708\n",
      "Train Epoch: 2 [44800/60000 (75%)]\tLoss: 0.402965\n",
      "Train Epoch: 2 [45440/60000 (76%)]\tLoss: 0.326501\n",
      "Train Epoch: 2 [46080/60000 (77%)]\tLoss: 0.253389\n"
     ]
    },
    {
     "name": "stdout",
     "output_type": "stream",
     "text": [
      "Train Epoch: 2 [46720/60000 (78%)]\tLoss: 0.404383\n",
      "Train Epoch: 2 [47360/60000 (79%)]\tLoss: 0.610733\n",
      "Train Epoch: 2 [48000/60000 (80%)]\tLoss: 0.381823\n",
      "Train Epoch: 2 [48640/60000 (81%)]\tLoss: 0.452682\n",
      "Train Epoch: 2 [49280/60000 (82%)]\tLoss: 0.284566\n",
      "Train Epoch: 2 [49920/60000 (83%)]\tLoss: 0.282839\n",
      "Train Epoch: 2 [50560/60000 (84%)]\tLoss: 0.334352\n",
      "Train Epoch: 2 [51200/60000 (85%)]\tLoss: 0.248529\n",
      "Train Epoch: 2 [51840/60000 (86%)]\tLoss: 0.210802\n",
      "Train Epoch: 2 [52480/60000 (87%)]\tLoss: 0.389340\n",
      "Train Epoch: 2 [53120/60000 (88%)]\tLoss: 0.352731\n",
      "Train Epoch: 2 [53760/60000 (90%)]\tLoss: 0.397363\n",
      "Train Epoch: 2 [54400/60000 (91%)]\tLoss: 0.259519\n",
      "Train Epoch: 2 [55040/60000 (92%)]\tLoss: 0.322326\n",
      "Train Epoch: 2 [55680/60000 (93%)]\tLoss: 0.319238\n",
      "Train Epoch: 2 [56320/60000 (94%)]\tLoss: 0.210058\n",
      "Train Epoch: 2 [56960/60000 (95%)]\tLoss: 0.221992\n",
      "Train Epoch: 2 [57600/60000 (96%)]\tLoss: 0.499408\n",
      "Train Epoch: 2 [58240/60000 (97%)]\tLoss: 0.229483\n",
      "Train Epoch: 2 [58880/60000 (98%)]\tLoss: 0.274802\n",
      "Train Epoch: 2 [59520/60000 (99%)]\tLoss: 0.204062\n",
      "\n",
      "Test set: Avg. loss: 0.1184, Accuracy: 9634/10000 (96%)\n",
      "\n",
      "Train Epoch: 3 [0/60000 (0%)]\tLoss: 0.332385\n",
      "Train Epoch: 3 [640/60000 (1%)]\tLoss: 0.161787\n",
      "Train Epoch: 3 [1280/60000 (2%)]\tLoss: 0.285086\n",
      "Train Epoch: 3 [1920/60000 (3%)]\tLoss: 0.421040\n",
      "Train Epoch: 3 [2560/60000 (4%)]\tLoss: 0.346419\n",
      "Train Epoch: 3 [3200/60000 (5%)]\tLoss: 0.257276\n",
      "Train Epoch: 3 [3840/60000 (6%)]\tLoss: 0.476344\n",
      "Train Epoch: 3 [4480/60000 (7%)]\tLoss: 0.193141\n",
      "Train Epoch: 3 [5120/60000 (9%)]\tLoss: 0.519272\n",
      "Train Epoch: 3 [5760/60000 (10%)]\tLoss: 0.305354\n",
      "Train Epoch: 3 [6400/60000 (11%)]\tLoss: 0.336307\n",
      "Train Epoch: 3 [7040/60000 (12%)]\tLoss: 0.443492\n",
      "Train Epoch: 3 [7680/60000 (13%)]\tLoss: 0.240683\n",
      "Train Epoch: 3 [8320/60000 (14%)]\tLoss: 0.295892\n",
      "Train Epoch: 3 [8960/60000 (15%)]\tLoss: 0.317345\n",
      "Train Epoch: 3 [9600/60000 (16%)]\tLoss: 0.321861\n",
      "Train Epoch: 3 [10240/60000 (17%)]\tLoss: 0.223519\n",
      "Train Epoch: 3 [10880/60000 (18%)]\tLoss: 0.295634\n",
      "Train Epoch: 3 [11520/60000 (19%)]\tLoss: 0.373054\n",
      "Train Epoch: 3 [12160/60000 (20%)]\tLoss: 0.303436\n",
      "Train Epoch: 3 [12800/60000 (21%)]\tLoss: 0.155518\n",
      "Train Epoch: 3 [13440/60000 (22%)]\tLoss: 0.337942\n",
      "Train Epoch: 3 [14080/60000 (23%)]\tLoss: 0.287423\n",
      "Train Epoch: 3 [14720/60000 (25%)]\tLoss: 0.292174\n",
      "Train Epoch: 3 [15360/60000 (26%)]\tLoss: 0.200953\n",
      "Train Epoch: 3 [16000/60000 (27%)]\tLoss: 0.307179\n",
      "Train Epoch: 3 [16640/60000 (28%)]\tLoss: 0.449442\n",
      "Train Epoch: 3 [17280/60000 (29%)]\tLoss: 0.313754\n",
      "Train Epoch: 3 [17920/60000 (30%)]\tLoss: 0.121859\n",
      "Train Epoch: 3 [18560/60000 (31%)]\tLoss: 0.179102\n",
      "Train Epoch: 3 [19200/60000 (32%)]\tLoss: 0.353379\n",
      "Train Epoch: 3 [19840/60000 (33%)]\tLoss: 0.333901\n",
      "Train Epoch: 3 [20480/60000 (34%)]\tLoss: 0.385318\n",
      "Train Epoch: 3 [21120/60000 (35%)]\tLoss: 0.200254\n",
      "Train Epoch: 3 [21760/60000 (36%)]\tLoss: 0.400530\n",
      "Train Epoch: 3 [22400/60000 (37%)]\tLoss: 0.346333\n",
      "Train Epoch: 3 [23040/60000 (38%)]\tLoss: 0.412917\n",
      "Train Epoch: 3 [23680/60000 (39%)]\tLoss: 0.279262\n",
      "Train Epoch: 3 [24320/60000 (41%)]\tLoss: 0.483267\n",
      "Train Epoch: 3 [24960/60000 (42%)]\tLoss: 0.600590\n",
      "Train Epoch: 3 [25600/60000 (43%)]\tLoss: 0.251451\n",
      "Train Epoch: 3 [26240/60000 (44%)]\tLoss: 0.387268\n",
      "Train Epoch: 3 [26880/60000 (45%)]\tLoss: 0.378714\n",
      "Train Epoch: 3 [27520/60000 (46%)]\tLoss: 0.347361\n",
      "Train Epoch: 3 [28160/60000 (47%)]\tLoss: 0.380297\n",
      "Train Epoch: 3 [28800/60000 (48%)]\tLoss: 0.258120\n",
      "Train Epoch: 3 [29440/60000 (49%)]\tLoss: 0.445896\n",
      "Train Epoch: 3 [30080/60000 (50%)]\tLoss: 0.192715\n",
      "Train Epoch: 3 [30720/60000 (51%)]\tLoss: 0.273816\n",
      "Train Epoch: 3 [31360/60000 (52%)]\tLoss: 0.393752\n",
      "Train Epoch: 3 [32000/60000 (53%)]\tLoss: 0.379022\n",
      "Train Epoch: 3 [32640/60000 (54%)]\tLoss: 0.277444\n",
      "Train Epoch: 3 [33280/60000 (55%)]\tLoss: 0.312879\n",
      "Train Epoch: 3 [33920/60000 (57%)]\tLoss: 0.092886\n",
      "Train Epoch: 3 [34560/60000 (58%)]\tLoss: 0.326007\n",
      "Train Epoch: 3 [35200/60000 (59%)]\tLoss: 0.290253\n",
      "Train Epoch: 3 [35840/60000 (60%)]\tLoss: 0.228564\n",
      "Train Epoch: 3 [36480/60000 (61%)]\tLoss: 0.214196\n",
      "Train Epoch: 3 [37120/60000 (62%)]\tLoss: 0.306332\n",
      "Train Epoch: 3 [37760/60000 (63%)]\tLoss: 0.403178\n",
      "Train Epoch: 3 [38400/60000 (64%)]\tLoss: 0.271492\n",
      "Train Epoch: 3 [39040/60000 (65%)]\tLoss: 0.387596\n",
      "Train Epoch: 3 [39680/60000 (66%)]\tLoss: 0.214242\n",
      "Train Epoch: 3 [40320/60000 (67%)]\tLoss: 0.567310\n",
      "Train Epoch: 3 [40960/60000 (68%)]\tLoss: 0.288092\n",
      "Train Epoch: 3 [41600/60000 (69%)]\tLoss: 0.207896\n",
      "Train Epoch: 3 [42240/60000 (70%)]\tLoss: 0.280393\n",
      "Train Epoch: 3 [42880/60000 (71%)]\tLoss: 0.429607\n",
      "Train Epoch: 3 [43520/60000 (72%)]\tLoss: 0.454947\n",
      "Train Epoch: 3 [44160/60000 (74%)]\tLoss: 0.336612\n",
      "Train Epoch: 3 [44800/60000 (75%)]\tLoss: 0.301836\n",
      "Train Epoch: 3 [45440/60000 (76%)]\tLoss: 0.252845\n",
      "Train Epoch: 3 [46080/60000 (77%)]\tLoss: 0.239393\n",
      "Train Epoch: 3 [46720/60000 (78%)]\tLoss: 0.178212\n",
      "Train Epoch: 3 [47360/60000 (79%)]\tLoss: 0.392300\n",
      "Train Epoch: 3 [48000/60000 (80%)]\tLoss: 0.342057\n",
      "Train Epoch: 3 [48640/60000 (81%)]\tLoss: 0.260880\n",
      "Train Epoch: 3 [49280/60000 (82%)]\tLoss: 0.179163\n",
      "Train Epoch: 3 [49920/60000 (83%)]\tLoss: 0.533715\n",
      "Train Epoch: 3 [50560/60000 (84%)]\tLoss: 0.333737\n",
      "Train Epoch: 3 [51200/60000 (85%)]\tLoss: 0.199248\n",
      "Train Epoch: 3 [51840/60000 (86%)]\tLoss: 0.187592\n",
      "Train Epoch: 3 [52480/60000 (87%)]\tLoss: 0.160621\n",
      "Train Epoch: 3 [53120/60000 (88%)]\tLoss: 0.249836\n",
      "Train Epoch: 3 [53760/60000 (90%)]\tLoss: 0.245062\n",
      "Train Epoch: 3 [54400/60000 (91%)]\tLoss: 0.458625\n",
      "Train Epoch: 3 [55040/60000 (92%)]\tLoss: 0.418908\n",
      "Train Epoch: 3 [55680/60000 (93%)]\tLoss: 0.271596\n",
      "Train Epoch: 3 [56320/60000 (94%)]\tLoss: 0.476584\n",
      "Train Epoch: 3 [56960/60000 (95%)]\tLoss: 0.289721\n",
      "Train Epoch: 3 [57600/60000 (96%)]\tLoss: 0.456377\n",
      "Train Epoch: 3 [58240/60000 (97%)]\tLoss: 0.436641\n",
      "Train Epoch: 3 [58880/60000 (98%)]\tLoss: 0.174143\n",
      "Train Epoch: 3 [59520/60000 (99%)]\tLoss: 0.161893\n",
      "\n",
      "Test set: Avg. loss: 0.0893, Accuracy: 9708/10000 (97%)\n",
      "\n"
     ]
    }
   ],
   "source": [
    "for epoch in range(1, n_epochs + 1):\n",
    "  train(epoch)\n",
    "  test()"
   ]
  },
  {
   "cell_type": "code",
   "execution_count": null,
   "metadata": {},
   "outputs": [],
   "source": []
  },
  {
   "cell_type": "markdown",
   "metadata": {},
   "source": [
    "Evaluating the Model's Performance"
   ]
  },
  {
   "cell_type": "markdown",
   "metadata": {},
   "source": [
    "training curve"
   ]
  },
  {
   "cell_type": "code",
   "execution_count": 34,
   "metadata": {},
   "outputs": [
    {
     "data": {
      "text/plain": [
       "285"
      ]
     },
     "execution_count": 34,
     "metadata": {},
     "output_type": "execute_result"
    }
   ],
   "source": [
    "len(train_counter)"
   ]
  },
  {
   "cell_type": "code",
   "execution_count": 35,
   "metadata": {},
   "outputs": [
    {
     "data": {
      "text/plain": [
       "285"
      ]
     },
     "execution_count": 35,
     "metadata": {},
     "output_type": "execute_result"
    }
   ],
   "source": [
    "len(train_losses)"
   ]
  },
  {
   "cell_type": "code",
   "execution_count": 36,
   "metadata": {
    "scrolled": true
   },
   "outputs": [
    {
     "data": {
      "text/plain": [
       "[0, 60000, 120000, 180000]"
      ]
     },
     "execution_count": 36,
     "metadata": {},
     "output_type": "execute_result"
    }
   ],
   "source": [
    "test_counter"
   ]
  },
  {
   "cell_type": "code",
   "execution_count": null,
   "metadata": {},
   "outputs": [],
   "source": []
  },
  {
   "cell_type": "code",
   "execution_count": null,
   "metadata": {},
   "outputs": [],
   "source": []
  },
  {
   "cell_type": "code",
   "execution_count": null,
   "metadata": {},
   "outputs": [],
   "source": []
  },
  {
   "cell_type": "markdown",
   "metadata": {},
   "source": [
    "had to cheat and remove two values from test losses"
   ]
  },
  {
   "cell_type": "code",
   "execution_count": 40,
   "metadata": {},
   "outputs": [],
   "source": [
    "test_losses = [2.3039478759765624,\n",
    " 0.19514244232177735,\n",
    " 0.12478801879882813,\n",
    " 0.10406621170043945,\n",
    " 0.08871179656982423,\n",
    " 0.07618399276733398,\n",
    " 0.06817520751953125,\n",
    " 0.061276612091064456,\n",
    " 0.05817223358154297]"
   ]
  },
  {
   "cell_type": "code",
   "execution_count": 41,
   "metadata": {},
   "outputs": [
    {
     "data": {
      "text/plain": [
       "4"
      ]
     },
     "execution_count": 41,
     "metadata": {},
     "output_type": "execute_result"
    }
   ],
   "source": [
    "len(test_counter)"
   ]
  },
  {
   "cell_type": "code",
   "execution_count": 42,
   "metadata": {},
   "outputs": [
    {
     "data": {
      "text/plain": [
       "9"
      ]
     },
     "execution_count": 42,
     "metadata": {},
     "output_type": "execute_result"
    }
   ],
   "source": [
    "len(test_losses)"
   ]
  },
  {
   "cell_type": "code",
   "execution_count": 43,
   "metadata": {},
   "outputs": [
    {
     "ename": "ValueError",
     "evalue": "x and y must be the same size",
     "output_type": "error",
     "traceback": [
      "\u001b[0;31m---------------------------------------------------------------------------\u001b[0m",
      "\u001b[0;31mValueError\u001b[0m                                Traceback (most recent call last)",
      "\u001b[0;32m<ipython-input-43-afa6b13c5643>\u001b[0m in \u001b[0;36m<module>\u001b[0;34m\u001b[0m\n\u001b[1;32m      2\u001b[0m \u001b[0mplt\u001b[0m\u001b[0;34m.\u001b[0m\u001b[0mplot\u001b[0m\u001b[0;34m(\u001b[0m\u001b[0mtrain_counter\u001b[0m\u001b[0;34m,\u001b[0m \u001b[0mtrain_losses\u001b[0m\u001b[0;34m,\u001b[0m \u001b[0mcolor\u001b[0m\u001b[0;34m=\u001b[0m\u001b[0;34m'blue'\u001b[0m\u001b[0;34m)\u001b[0m\u001b[0;34m\u001b[0m\u001b[0;34m\u001b[0m\u001b[0m\n\u001b[1;32m      3\u001b[0m \u001b[0mplt\u001b[0m\u001b[0;34m.\u001b[0m\u001b[0mxlabel\u001b[0m\u001b[0;34m(\u001b[0m\u001b[0;34m'number of training examples seen'\u001b[0m\u001b[0;34m)\u001b[0m\u001b[0;34m\u001b[0m\u001b[0;34m\u001b[0m\u001b[0m\n\u001b[0;32m----> 4\u001b[0;31m \u001b[0mplt\u001b[0m\u001b[0;34m.\u001b[0m\u001b[0mscatter\u001b[0m\u001b[0;34m(\u001b[0m\u001b[0mtest_counter\u001b[0m\u001b[0;34m,\u001b[0m \u001b[0mtest_losses\u001b[0m\u001b[0;34m,\u001b[0m \u001b[0mcolor\u001b[0m\u001b[0;34m=\u001b[0m\u001b[0;34m'red'\u001b[0m\u001b[0;34m)\u001b[0m\u001b[0;34m\u001b[0m\u001b[0;34m\u001b[0m\u001b[0m\n\u001b[0m\u001b[1;32m      5\u001b[0m \u001b[0mplt\u001b[0m\u001b[0;34m.\u001b[0m\u001b[0mylabel\u001b[0m\u001b[0;34m(\u001b[0m\u001b[0;34m'negative log likelihood loss'\u001b[0m\u001b[0;34m)\u001b[0m\u001b[0;34m\u001b[0m\u001b[0;34m\u001b[0m\u001b[0m\n\u001b[1;32m      6\u001b[0m \u001b[0mfig\u001b[0m\u001b[0;34m\u001b[0m\u001b[0;34m\u001b[0m\u001b[0m\n",
      "\u001b[0;32m~/anaconda3/lib/python3.8/site-packages/matplotlib/pyplot.py\u001b[0m in \u001b[0;36mscatter\u001b[0;34m(x, y, s, c, marker, cmap, norm, vmin, vmax, alpha, linewidths, verts, edgecolors, plotnonfinite, data, **kwargs)\u001b[0m\n\u001b[1;32m   2888\u001b[0m         \u001b[0mverts\u001b[0m\u001b[0;34m=\u001b[0m\u001b[0mcbook\u001b[0m\u001b[0;34m.\u001b[0m\u001b[0mdeprecation\u001b[0m\u001b[0;34m.\u001b[0m\u001b[0m_deprecated_parameter\u001b[0m\u001b[0;34m,\u001b[0m\u001b[0;34m\u001b[0m\u001b[0;34m\u001b[0m\u001b[0m\n\u001b[1;32m   2889\u001b[0m         edgecolors=None, *, plotnonfinite=False, data=None, **kwargs):\n\u001b[0;32m-> 2890\u001b[0;31m     __ret = gca().scatter(\n\u001b[0m\u001b[1;32m   2891\u001b[0m         \u001b[0mx\u001b[0m\u001b[0;34m,\u001b[0m \u001b[0my\u001b[0m\u001b[0;34m,\u001b[0m \u001b[0ms\u001b[0m\u001b[0;34m=\u001b[0m\u001b[0ms\u001b[0m\u001b[0;34m,\u001b[0m \u001b[0mc\u001b[0m\u001b[0;34m=\u001b[0m\u001b[0mc\u001b[0m\u001b[0;34m,\u001b[0m \u001b[0mmarker\u001b[0m\u001b[0;34m=\u001b[0m\u001b[0mmarker\u001b[0m\u001b[0;34m,\u001b[0m \u001b[0mcmap\u001b[0m\u001b[0;34m=\u001b[0m\u001b[0mcmap\u001b[0m\u001b[0;34m,\u001b[0m \u001b[0mnorm\u001b[0m\u001b[0;34m=\u001b[0m\u001b[0mnorm\u001b[0m\u001b[0;34m,\u001b[0m\u001b[0;34m\u001b[0m\u001b[0;34m\u001b[0m\u001b[0m\n\u001b[1;32m   2892\u001b[0m         \u001b[0mvmin\u001b[0m\u001b[0;34m=\u001b[0m\u001b[0mvmin\u001b[0m\u001b[0;34m,\u001b[0m \u001b[0mvmax\u001b[0m\u001b[0;34m=\u001b[0m\u001b[0mvmax\u001b[0m\u001b[0;34m,\u001b[0m \u001b[0malpha\u001b[0m\u001b[0;34m=\u001b[0m\u001b[0malpha\u001b[0m\u001b[0;34m,\u001b[0m \u001b[0mlinewidths\u001b[0m\u001b[0;34m=\u001b[0m\u001b[0mlinewidths\u001b[0m\u001b[0;34m,\u001b[0m\u001b[0;34m\u001b[0m\u001b[0;34m\u001b[0m\u001b[0m\n",
      "\u001b[0;32m~/anaconda3/lib/python3.8/site-packages/matplotlib/__init__.py\u001b[0m in \u001b[0;36minner\u001b[0;34m(ax, data, *args, **kwargs)\u001b[0m\n\u001b[1;32m   1445\u001b[0m     \u001b[0;32mdef\u001b[0m \u001b[0minner\u001b[0m\u001b[0;34m(\u001b[0m\u001b[0max\u001b[0m\u001b[0;34m,\u001b[0m \u001b[0;34m*\u001b[0m\u001b[0margs\u001b[0m\u001b[0;34m,\u001b[0m \u001b[0mdata\u001b[0m\u001b[0;34m=\u001b[0m\u001b[0;32mNone\u001b[0m\u001b[0;34m,\u001b[0m \u001b[0;34m**\u001b[0m\u001b[0mkwargs\u001b[0m\u001b[0;34m)\u001b[0m\u001b[0;34m:\u001b[0m\u001b[0;34m\u001b[0m\u001b[0;34m\u001b[0m\u001b[0m\n\u001b[1;32m   1446\u001b[0m         \u001b[0;32mif\u001b[0m \u001b[0mdata\u001b[0m \u001b[0;32mis\u001b[0m \u001b[0;32mNone\u001b[0m\u001b[0;34m:\u001b[0m\u001b[0;34m\u001b[0m\u001b[0;34m\u001b[0m\u001b[0m\n\u001b[0;32m-> 1447\u001b[0;31m             \u001b[0;32mreturn\u001b[0m \u001b[0mfunc\u001b[0m\u001b[0;34m(\u001b[0m\u001b[0max\u001b[0m\u001b[0;34m,\u001b[0m \u001b[0;34m*\u001b[0m\u001b[0mmap\u001b[0m\u001b[0;34m(\u001b[0m\u001b[0msanitize_sequence\u001b[0m\u001b[0;34m,\u001b[0m \u001b[0margs\u001b[0m\u001b[0;34m)\u001b[0m\u001b[0;34m,\u001b[0m \u001b[0;34m**\u001b[0m\u001b[0mkwargs\u001b[0m\u001b[0;34m)\u001b[0m\u001b[0;34m\u001b[0m\u001b[0;34m\u001b[0m\u001b[0m\n\u001b[0m\u001b[1;32m   1448\u001b[0m \u001b[0;34m\u001b[0m\u001b[0m\n\u001b[1;32m   1449\u001b[0m         \u001b[0mbound\u001b[0m \u001b[0;34m=\u001b[0m \u001b[0mnew_sig\u001b[0m\u001b[0;34m.\u001b[0m\u001b[0mbind\u001b[0m\u001b[0;34m(\u001b[0m\u001b[0max\u001b[0m\u001b[0;34m,\u001b[0m \u001b[0;34m*\u001b[0m\u001b[0margs\u001b[0m\u001b[0;34m,\u001b[0m \u001b[0;34m**\u001b[0m\u001b[0mkwargs\u001b[0m\u001b[0;34m)\u001b[0m\u001b[0;34m\u001b[0m\u001b[0;34m\u001b[0m\u001b[0m\n",
      "\u001b[0;32m~/anaconda3/lib/python3.8/site-packages/matplotlib/cbook/deprecation.py\u001b[0m in \u001b[0;36mwrapper\u001b[0;34m(*inner_args, **inner_kwargs)\u001b[0m\n\u001b[1;32m    409\u001b[0m                          \u001b[0;32melse\u001b[0m \u001b[0mdeprecation_addendum\u001b[0m\u001b[0;34m,\u001b[0m\u001b[0;34m\u001b[0m\u001b[0;34m\u001b[0m\u001b[0m\n\u001b[1;32m    410\u001b[0m                 **kwargs)\n\u001b[0;32m--> 411\u001b[0;31m         \u001b[0;32mreturn\u001b[0m \u001b[0mfunc\u001b[0m\u001b[0;34m(\u001b[0m\u001b[0;34m*\u001b[0m\u001b[0minner_args\u001b[0m\u001b[0;34m,\u001b[0m \u001b[0;34m**\u001b[0m\u001b[0minner_kwargs\u001b[0m\u001b[0;34m)\u001b[0m\u001b[0;34m\u001b[0m\u001b[0;34m\u001b[0m\u001b[0m\n\u001b[0m\u001b[1;32m    412\u001b[0m \u001b[0;34m\u001b[0m\u001b[0m\n\u001b[1;32m    413\u001b[0m     \u001b[0;32mreturn\u001b[0m \u001b[0mwrapper\u001b[0m\u001b[0;34m\u001b[0m\u001b[0;34m\u001b[0m\u001b[0m\n",
      "\u001b[0;32m~/anaconda3/lib/python3.8/site-packages/matplotlib/axes/_axes.py\u001b[0m in \u001b[0;36mscatter\u001b[0;34m(self, x, y, s, c, marker, cmap, norm, vmin, vmax, alpha, linewidths, verts, edgecolors, plotnonfinite, **kwargs)\u001b[0m\n\u001b[1;32m   4439\u001b[0m         \u001b[0my\u001b[0m \u001b[0;34m=\u001b[0m \u001b[0mnp\u001b[0m\u001b[0;34m.\u001b[0m\u001b[0mma\u001b[0m\u001b[0;34m.\u001b[0m\u001b[0mravel\u001b[0m\u001b[0;34m(\u001b[0m\u001b[0my\u001b[0m\u001b[0;34m)\u001b[0m\u001b[0;34m\u001b[0m\u001b[0;34m\u001b[0m\u001b[0m\n\u001b[1;32m   4440\u001b[0m         \u001b[0;32mif\u001b[0m \u001b[0mx\u001b[0m\u001b[0;34m.\u001b[0m\u001b[0msize\u001b[0m \u001b[0;34m!=\u001b[0m \u001b[0my\u001b[0m\u001b[0;34m.\u001b[0m\u001b[0msize\u001b[0m\u001b[0;34m:\u001b[0m\u001b[0;34m\u001b[0m\u001b[0;34m\u001b[0m\u001b[0m\n\u001b[0;32m-> 4441\u001b[0;31m             \u001b[0;32mraise\u001b[0m \u001b[0mValueError\u001b[0m\u001b[0;34m(\u001b[0m\u001b[0;34m\"x and y must be the same size\"\u001b[0m\u001b[0;34m)\u001b[0m\u001b[0;34m\u001b[0m\u001b[0;34m\u001b[0m\u001b[0m\n\u001b[0m\u001b[1;32m   4442\u001b[0m \u001b[0;34m\u001b[0m\u001b[0m\n\u001b[1;32m   4443\u001b[0m         \u001b[0;32mif\u001b[0m \u001b[0ms\u001b[0m \u001b[0;32mis\u001b[0m \u001b[0;32mNone\u001b[0m\u001b[0;34m:\u001b[0m\u001b[0;34m\u001b[0m\u001b[0;34m\u001b[0m\u001b[0m\n",
      "\u001b[0;31mValueError\u001b[0m: x and y must be the same size"
     ]
    },
    {
     "data": {
      "image/png": "[encoded data removed]",
      "text/plain": [
       "<Figure size 432x288 with 1 Axes>"
      ]
     },
     "metadata": {
      "needs_background": "light"
     },
     "output_type": "display_data"
    }
   ],
   "source": [
    "fig = plt.figure()\n",
    "plt.plot(train_counter, train_losses, color='blue')\n",
    "plt.xlabel('number of training examples seen')\n",
    "plt.scatter(test_counter, test_losses, color='red')\n",
    "plt.ylabel('negative log likelihood loss')\n",
    "fig"
   ]
  },
  {
   "cell_type": "code",
   "execution_count": null,
   "metadata": {},
   "outputs": [],
   "source": []
  },
  {
   "cell_type": "code",
   "execution_count": null,
   "metadata": {},
   "outputs": [],
   "source": []
  },
  {
   "cell_type": "markdown",
   "metadata": {},
   "source": [
    "comparisons"
   ]
  },
  {
   "cell_type": "code",
   "execution_count": 44,
   "metadata": {},
   "outputs": [
    {
     "data": {
      "image/png": "[encoded data removed]",
      "text/plain": [
       "<Figure size 432x288 with 6 Axes>"
      ]
     },
     "execution_count": 44,
     "metadata": {},
     "output_type": "execute_result"
    },
    {
     "data": {
      "image/png": "[encoded data removed]",
      "text/plain": [
       "<Figure size 432x288 with 6 Axes>"
      ]
     },
     "metadata": {},
     "output_type": "display_data"
    }
   ],
   "source": [
    "\n",
    "fig = plt.figure()\n",
    "for i in range(6):\n",
    "  plt.subplot(2,3,i+1)\n",
    "  plt.tight_layout()\n",
    "  plt.imshow(example_data[i][0], cmap='gray', interpolation='none')\n",
    "  plt.title(\"Ground Truth: {}\".format(example_targets[i]))\n",
    "  plt.xticks([])\n",
    "  plt.yticks([])\n",
    "fig"
   ]
  },
  {
   "cell_type": "code",
   "execution_count": 45,
   "metadata": {},
   "outputs": [
    {
     "name": "stderr",
     "output_type": "stream",
     "text": [
      "<ipython-input-14-6c2218f37724>:17: UserWarning: Implicit dimension choice for log_softmax has been deprecated. Change the call to include dim=X as an argument.\n",
      "  return F.log_softmax(x)\n"
     ]
    }
   ],
   "source": [
    "with torch.no_grad():\n",
    "  output = network(example_data)"
   ]
  },
  {
   "cell_type": "code",
   "execution_count": 46,
   "metadata": {},
   "outputs": [
    {
     "data": {
      "image/png": "[encoded data removed]",
      "text/plain": [
       "<Figure size 432x288 with 6 Axes>"
      ]
     },
     "execution_count": 46,
     "metadata": {},
     "output_type": "execute_result"
    },
    {
     "data": {
      "image/png": "[encoded data removed]",
      "text/plain": [
       "<Figure size 432x288 with 6 Axes>"
      ]
     },
     "metadata": {},
     "output_type": "display_data"
    }
   ],
   "source": [
    "fig = plt.figure()\n",
    "for i in range(6):\n",
    "  plt.subplot(2,3,i+1)\n",
    "  plt.tight_layout()\n",
    "  plt.imshow(example_data[i][0], cmap='gray', interpolation='none')\n",
    "  plt.title(\"Prediction: {}\".format(\n",
    "    output.data.max(1, keepdim=True)[1][i].item()))\n",
    "  plt.xticks([])\n",
    "  plt.yticks([])\n",
    "fig"
   ]
  },
  {
   "cell_type": "markdown",
   "metadata": {},
   "source": [
    "continue training"
   ]
  },
  {
   "cell_type": "code",
   "execution_count": null,
   "metadata": {},
   "outputs": [],
   "source": []
  },
  {
   "cell_type": "code",
   "execution_count": null,
   "metadata": {},
   "outputs": [],
   "source": []
  },
  {
   "cell_type": "code",
   "execution_count": null,
   "metadata": {},
   "outputs": [],
   "source": []
  }
 ],
 "metadata": {
  "kernelspec": {
   "display_name": "Python 3",
   "language": "python",
   "name": "python3"
  },
  "language_info": {
   "codemirror_mode": {
    "name": "ipython",
    "version": 3
   },
   "file_extension": ".py",
   "mimetype": "text/x-python",
   "name": "python",
   "nbconvert_exporter": "python",
   "pygments_lexer": "ipython3",
   "version": "3.8.8"
  }
 },
 "nbformat": 4,
 "nbformat_minor": 4
}
