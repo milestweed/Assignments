{
 "cells": [
  {
   "cell_type": "code",
   "execution_count": 48,
   "id": "close-experience",
   "metadata": {
    "scrolled": true
   },
   "outputs": [],
   "source": [
    "import pandas as pd"
   ]
  },
  {
   "cell_type": "code",
   "execution_count": 49,
   "id": "turned-maldives",
   "metadata": {},
   "outputs": [],
   "source": [
    "df = pd.read_csv('/home/mtweed/Desktop/mnist_train.csv')"
   ]
  },
  {
   "cell_type": "code",
   "execution_count": 51,
   "id": "veterinary-disaster",
   "metadata": {},
   "outputs": [],
   "source": [
    "df_features = df.iloc[:,1:]"
   ]
  },
  {
   "cell_type": "code",
   "execution_count": null,
   "id": "celtic-corner",
   "metadata": {},
   "outputs": [],
   "source": []
  },
  {
   "cell_type": "code",
   "execution_count": null,
   "id": "talented-faculty",
   "metadata": {},
   "outputs": [],
   "source": [
    "from sklearn.model_selection import train_test_split\n",
    "X_train, X_cv, y_train, y_cv = train_test_split(df_features, df_label, \n",
    "                                                test_size = 0.2,\n",
    "                                                random_state = 1212)\n",
    "\n",
    "X_train = np.array(X_train).reshape(33600, 784) #(33600, 784)\n",
    "X_cv = np.array(X_cv).reshape(8400, 784) #(8400, 784)"
   ]
  },
  {
   "cell_type": "code",
   "execution_count": null,
   "id": "breeding-stocks",
   "metadata": {},
   "outputs": [],
   "source": [
    "#Formatting on training set\n",
    "train_x = X_train.reshape(33600, 1, 28, 28)\n",
    "train_x  = torch.from_numpy(train_x).float()\n",
    "# converting the target into torch format\n",
    "y_train = torch.from_numpy(np.array(y_train))\n",
    "# shape of training data\n",
    "train_x.shape, y_train.shape\n",
    "\n",
    "#Formatting on testing set\n",
    "X_cv = X_cv.reshape(8400, 1, 28, 28)\n",
    "X_cv  = torch.from_numpy(np.array(X_cv)).float()\n",
    "# converting the target into torch format\n",
    "y_cv = torch.from_numpy(np.array(y_cv))\n",
    "X_cv.shape, y_cv.shape"
   ]
  },
  {
   "cell_type": "code",
   "execution_count": null,
   "id": "unable-plastic",
   "metadata": {},
   "outputs": [],
   "source": [
    "# batch_size, epoch and iteration\n",
    "batch_size = 100\n",
    "\n",
    "\n",
    "# Pytorch train and test sets\n",
    "train = torch.utils.data.TensorDataset(train_x,y_train)\n",
    "test = torch.utils.data.TensorDataset(X_cv,y_cv)\n",
    "\n",
    "# data loader\n",
    "train_loader = torch.utils.data.DataLoader(train, batch_size = batch_size, shuffle = False)\n",
    "test_loader = torch.utils.data.DataLoader(test, batch_size = batch_size, shuffle = False)"
   ]
  },
  {
   "cell_type": "code",
   "execution_count": null,
   "id": "soviet-blind",
   "metadata": {},
   "outputs": [],
   "source": [
    "# Create CNN Model\n",
    "class CNNModel(nn.Module):\n",
    "    def __init__(self):\n",
    "        super(CNNModel, self).__init__()\n",
    "        \n",
    "        # Convolution 1\n",
    "        self.cnn1 = nn.Conv2d(in_channels=1, out_channels=16, kernel_size=3, stride=1, padding=0)\n",
    "        self.relu1 = nn.ReLU()\n",
    "        \n",
    "        # Max pool 1\n",
    "        self.maxpool1 = nn.MaxPool2d(kernel_size=2)\n",
    "     \n",
    "        # Convolution 2\n",
    "        self.cnn2 = nn.Conv2d(in_channels=16, out_channels=32, kernel_size=3, stride=1, padding=0)\n",
    "        self.relu2 = nn.ReLU()\n",
    "        \n",
    "        # Max pool 2\n",
    "        self.maxpool2 = nn.MaxPool2d(kernel_size=2)\n",
    "        \n",
    "        # Fully connected 1\n",
    "        self.fc1 = nn.Linear(32 * 5 * 5, 10) \n",
    "    \n",
    "    def forward(self, x):\n",
    "        # Set 1\n",
    "        out = self.cnn1(x)\n",
    "        out = self.relu1(out)\n",
    "        out = self.maxpool1(out)\n",
    "        \n",
    "        # Set 2\n",
    "        out = self.cnn2(out)\n",
    "        out = self.relu2(out)\n",
    "        out = self.maxpool2(out)\n",
    "        \n",
    "        #Flatten\n",
    "        out = out.view(out.size(0), -1)\n",
    "\n",
    "        #Dense\n",
    "        out = self.fc1(out)\n",
    "        \n",
    "        return out\n",
    "\n",
    "#Definition of hyperparameters\n",
    "n_iters = 2500\n",
    "num_epochs = n_iters / (len(train_x) / batch_size)\n",
    "num_epochs = int(num_epochs)\n",
    "\n",
    "# Cross Entropy Loss \n",
    "error = nn.CrossEntropyLoss()\n",
    "\n",
    "# SGD Optimizer\n",
    "learning_rate = 0.001\n",
    "optimizer = torch.optim.SGD(model.parameters(), lr=learning_rate)"
   ]
  },
  {
   "cell_type": "code",
   "execution_count": null,
   "id": "early-mobility",
   "metadata": {},
   "outputs": [],
   "source": [
    "# CNN model training\n",
    "count = 0\n",
    "loss_list = []\n",
    "iteration_list = []\n",
    "accuracy_list = []\n",
    "for epoch in range(num_epochs):\n",
    "    for i, (images, labels) in enumerate(train_loader):\n",
    "        \n",
    "        train = Variable(images.view(100,1,28,28))\n",
    "        labels = Variable(labels)\n",
    "        # Clear gradients\n",
    "        optimizer.zero_grad()\n",
    "        # Forward propagation\n",
    "        outputs = model(train)\n",
    "        # Calculate softmax and ross entropy loss\n",
    "        loss = error(outputs, labels)\n",
    "        # Calculating gradients\n",
    "        loss.backward()\n",
    "        # Update parameters\n",
    "        optimizer.step()\n",
    "        \n",
    "        count += 1\n",
    "        if count % 50 == 0:\n",
    "            # Calculate Accuracy         \n",
    "            correct = 0\n",
    "            total = 0\n",
    "            # Iterate through test dataset\n",
    "            for images, labels in test_loader:\n",
    "                \n",
    "                test = Variable(images.view(100,1,28,28))\n",
    "                # Forward propagation\n",
    "                outputs = model(test)\n",
    "                # Get predictions from the maximum value\n",
    "                predicted = torch.max(outputs.data, 1)[1]\n",
    "                \n",
    "                # Total number of labels\n",
    "                total += len(labels)\n",
    "                correct += (predicted == labels).sum()\n",
    "            \n",
    "            accuracy = 100 * correct / float(total)\n",
    "            \n",
    "            # store loss and iteration\n",
    "            loss_list.append(loss.data)\n",
    "            iteration_list.append(count)\n",
    "            accuracy_list.append(accuracy)\n",
    "        if count % 500 == 0:\n",
    "            # Print Loss\n",
    "            print('Iteration: {}  Loss: {}  Accuracy: {} %'.format(count, loss.data, accuracy))"
   ]
  },
  {
   "cell_type": "code",
   "execution_count": null,
   "id": "muslim-relaxation",
   "metadata": {},
   "outputs": [],
   "source": [
    "# visualization loss \n",
    "plt.plot(iteration_list,loss_list)\n",
    "plt.xlabel(\"Number of iteration\")\n",
    "plt.ylabel(\"Loss\")\n",
    "plt.title(\"CNN: Loss vs Number of iteration\")\n",
    "plt.show()\n",
    "\n",
    "# visualization accuracy \n",
    "plt.plot(iteration_list,accuracy_list,color = \"red\")\n",
    "plt.xlabel(\"Number of iteration\")\n",
    "plt.ylabel(\"Accuracy\")\n",
    "plt.title(\"CNN: Accuracy vs Number of iteration\")\n",
    "plt.show()"
   ]
  },
  {
   "cell_type": "code",
   "execution_count": null,
   "id": "wicked-rainbow",
   "metadata": {},
   "outputs": [],
   "source": []
  },
  {
   "cell_type": "code",
   "execution_count": null,
   "id": "nuclear-hypothetical",
   "metadata": {},
   "outputs": [],
   "source": []
  },
  {
   "cell_type": "code",
   "execution_count": null,
   "id": "inner-thursday",
   "metadata": {},
   "outputs": [],
   "source": []
  },
  {
   "cell_type": "code",
   "execution_count": null,
   "id": "biblical-standing",
   "metadata": {},
   "outputs": [],
   "source": []
  },
  {
   "cell_type": "code",
   "execution_count": null,
   "id": "broke-reasoning",
   "metadata": {},
   "outputs": [],
   "source": []
  },
  {
   "cell_type": "code",
   "execution_count": null,
   "id": "informal-collector",
   "metadata": {},
   "outputs": [],
   "source": []
  },
  {
   "cell_type": "markdown",
   "id": "periodic-memory",
   "metadata": {},
   "source": [
    "# Practice"
   ]
  },
  {
   "cell_type": "code",
   "execution_count": 1,
   "id": "authorized-deployment",
   "metadata": {},
   "outputs": [],
   "source": [
    "import torch\n",
    "import torchvision\n",
    "import torchvision.datasets as dsets\n",
    "import torch.nn as nn\n",
    "import torch.nn.functional as F\n",
    "import torch.optim as optim\n",
    "from torch.utils.data import DataLoader\n",
    "from torchvision import transforms\n",
    "import matplotlib.pyplot as plt\n",
    "%matplotlib inline"
   ]
  },
  {
   "cell_type": "code",
   "execution_count": 2,
   "id": "numerous-islam",
   "metadata": {},
   "outputs": [],
   "source": [
    "tens = torch.randn(1,1,28,28)"
   ]
  },
  {
   "cell_type": "code",
   "execution_count": 13,
   "id": "coastal-warning",
   "metadata": {},
   "outputs": [],
   "source": [
    "conv = nn.Conv2d(1, 16, kernel_size=3, stride=1, padding=0)"
   ]
  },
  {
   "cell_type": "code",
   "execution_count": 14,
   "id": "round-david",
   "metadata": {},
   "outputs": [
    {
     "data": {
      "text/plain": [
       "torch.Size([1, 1, 28, 28])"
      ]
     },
     "execution_count": 14,
     "metadata": {},
     "output_type": "execute_result"
    }
   ],
   "source": [
    "tens.shape"
   ]
  },
  {
   "cell_type": "code",
   "execution_count": 15,
   "id": "catholic-momentum",
   "metadata": {},
   "outputs": [],
   "source": [
    "tenscon = conv(tens)"
   ]
  },
  {
   "cell_type": "code",
   "execution_count": 16,
   "id": "secondary-occupation",
   "metadata": {},
   "outputs": [
    {
     "data": {
      "text/plain": [
       "torch.Size([1, 16, 26, 26])"
      ]
     },
     "execution_count": 16,
     "metadata": {},
     "output_type": "execute_result"
    }
   ],
   "source": [
    "tenscon.shape"
   ]
  },
  {
   "cell_type": "code",
   "execution_count": 23,
   "id": "imported-greeting",
   "metadata": {},
   "outputs": [],
   "source": [
    "relu1 = nn.ReLU()"
   ]
  },
  {
   "cell_type": "code",
   "execution_count": 17,
   "id": "internal-vault",
   "metadata": {},
   "outputs": [],
   "source": [
    "pool = nn.MaxPool2d(kernel_size=2)"
   ]
  },
  {
   "cell_type": "code",
   "execution_count": 24,
   "id": "visible-skill",
   "metadata": {},
   "outputs": [],
   "source": [
    "tensRel = relu1(tenscon)"
   ]
  },
  {
   "cell_type": "code",
   "execution_count": 25,
   "id": "printable-hudson",
   "metadata": {},
   "outputs": [
    {
     "data": {
      "text/plain": [
       "torch.Size([1, 16, 26, 26])"
      ]
     },
     "execution_count": 25,
     "metadata": {},
     "output_type": "execute_result"
    }
   ],
   "source": [
    "tensRel.shape"
   ]
  },
  {
   "cell_type": "code",
   "execution_count": 26,
   "id": "elder-cleaners",
   "metadata": {},
   "outputs": [],
   "source": [
    "tenspool = pool(tensRel)"
   ]
  },
  {
   "cell_type": "code",
   "execution_count": 27,
   "id": "liberal-baptist",
   "metadata": {},
   "outputs": [
    {
     "data": {
      "text/plain": [
       "torch.Size([1, 16, 13, 13])"
      ]
     },
     "execution_count": 27,
     "metadata": {},
     "output_type": "execute_result"
    }
   ],
   "source": [
    "tenspool.shape"
   ]
  },
  {
   "cell_type": "code",
   "execution_count": 28,
   "id": "amended-coverage",
   "metadata": {},
   "outputs": [],
   "source": [
    "conv2 = nn.Conv2d(16, 32, kernel_size=3, stride=1, padding=0)"
   ]
  },
  {
   "cell_type": "code",
   "execution_count": 29,
   "id": "suspected-detroit",
   "metadata": {},
   "outputs": [],
   "source": [
    "tenscon2 = conv2(tenspool)"
   ]
  },
  {
   "cell_type": "code",
   "execution_count": 30,
   "id": "rational-stack",
   "metadata": {},
   "outputs": [
    {
     "data": {
      "text/plain": [
       "torch.Size([1, 32, 11, 11])"
      ]
     },
     "execution_count": 30,
     "metadata": {},
     "output_type": "execute_result"
    }
   ],
   "source": [
    "tenscon2.shape"
   ]
  },
  {
   "cell_type": "code",
   "execution_count": 31,
   "id": "economic-insight",
   "metadata": {},
   "outputs": [],
   "source": [
    "relu2 = nn.ReLU()"
   ]
  },
  {
   "cell_type": "code",
   "execution_count": 32,
   "id": "acting-attention",
   "metadata": {},
   "outputs": [],
   "source": [
    "tensRel2 = relu2(tenscon2)"
   ]
  },
  {
   "cell_type": "code",
   "execution_count": 33,
   "id": "fewer-dealer",
   "metadata": {},
   "outputs": [],
   "source": [
    "pool2 = nn.MaxPool2d(kernel_size=2)"
   ]
  },
  {
   "cell_type": "code",
   "execution_count": 34,
   "id": "physical-bubble",
   "metadata": {},
   "outputs": [],
   "source": [
    "tenspool2 = pool2(tensRel2)"
   ]
  },
  {
   "cell_type": "code",
   "execution_count": 35,
   "id": "completed-framing",
   "metadata": {},
   "outputs": [
    {
     "data": {
      "text/plain": [
       "torch.Size([1, 32, 5, 5])"
      ]
     },
     "execution_count": 35,
     "metadata": {},
     "output_type": "execute_result"
    }
   ],
   "source": [
    "tenspool2.shape"
   ]
  },
  {
   "cell_type": "code",
   "execution_count": 43,
   "id": "voluntary-tampa",
   "metadata": {},
   "outputs": [],
   "source": [
    "flat = tenspool2.view(-1,32*5*5)"
   ]
  },
  {
   "cell_type": "code",
   "execution_count": 44,
   "id": "retained-workplace",
   "metadata": {},
   "outputs": [],
   "source": [
    "fc = nn.Linear(in_features=32*5*5, out_features=10)"
   ]
  },
  {
   "cell_type": "code",
   "execution_count": 45,
   "id": "emerging-yahoo",
   "metadata": {},
   "outputs": [
    {
     "data": {
      "text/plain": [
       "tensor([[ 0.0413,  0.0145,  0.1201, -0.4435, -0.0196, -0.1448, -0.2769, -0.1279,\n",
       "          0.0353,  0.1818]], grad_fn=<AddmmBackward>)"
      ]
     },
     "execution_count": 45,
     "metadata": {},
     "output_type": "execute_result"
    }
   ],
   "source": [
    "fc(flat)"
   ]
  },
  {
   "cell_type": "code",
   "execution_count": null,
   "id": "worst-sponsorship",
   "metadata": {},
   "outputs": [],
   "source": []
  }
 ],
 "metadata": {
  "kernelspec": {
   "display_name": "Python 3",
   "language": "python",
   "name": "python3"
  },
  "language_info": {
   "codemirror_mode": {
    "name": "ipython",
    "version": 3
   },
   "file_extension": ".py",
   "mimetype": "text/x-python",
   "name": "python",
   "nbconvert_exporter": "python",
   "pygments_lexer": "ipython3",
   "version": "3.8.8"
  }
 },
 "nbformat": 4,
 "nbformat_minor": 5
}
