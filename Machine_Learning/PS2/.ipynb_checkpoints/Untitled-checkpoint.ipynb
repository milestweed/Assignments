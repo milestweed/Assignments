{
 "cells": [
  {
   "cell_type": "code",
   "execution_count": 3,
   "id": "saved-folks",
   "metadata": {},
   "outputs": [],
   "source": [
    "import pandas as pd\n",
    "import random as rnd"
   ]
  },
  {
   "cell_type": "code",
   "execution_count": 7,
   "id": "dominican-violin",
   "metadata": {},
   "outputs": [],
   "source": [
    "ints = pd.Series([rnd.randint(1,100) for x in range(10)])"
   ]
  },
  {
   "cell_type": "code",
   "execution_count": 8,
   "id": "piano-founder",
   "metadata": {},
   "outputs": [
    {
     "data": {
      "text/plain": [
       "0     65\n",
       "1     83\n",
       "2     71\n",
       "3     31\n",
       "4      6\n",
       "5      3\n",
       "6    100\n",
       "7     15\n",
       "8     89\n",
       "9     59\n",
       "dtype: int64"
      ]
     },
     "execution_count": 8,
     "metadata": {},
     "output_type": "execute_result"
    }
   ],
   "source": [
    "ints"
   ]
  },
  {
   "cell_type": "code",
   "execution_count": null,
   "id": "proved-harvest",
   "metadata": {},
   "outputs": [],
   "source": [
    "map1 = ffffffffffffffffffffffffffffffffffffffffffffffffffffffffffffffffffffffffffffffffffunc"
   ]
  }
 ],
 "metadata": {
  "kernelspec": {
   "display_name": "Python 3",
   "language": "python",
   "name": "python3"
  },
  "language_info": {
   "codemirror_mode": {
    "name": "ipython",
    "version": 3
   },
   "file_extension": ".py",
   "mimetype": "text/x-python",
   "name": "python",
   "nbconvert_exporter": "python",
   "pygments_lexer": "ipython3",
   "version": "3.8.6"
  }
 },
 "nbformat": 4,
 "nbformat_minor": 5
}
