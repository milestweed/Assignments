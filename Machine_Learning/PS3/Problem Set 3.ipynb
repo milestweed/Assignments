{
 "cells": [
  {
   "cell_type": "code",
   "execution_count": 1,
   "id": "loved-algeria",
   "metadata": {},
   "outputs": [],
   "source": [
    "import numpy as np\n",
    "import pandas as pd\n",
    "import matplotlib.pyplot as plt\n",
    "from sklearn.linear_model import LinearRegression\n",
    "from sklearn.preprocessing import PolynomialFeatures\n",
    "from sklearn.pipeline import make_pipeline\n",
    "from sklearn.metrics import mean_squared_error\n",
    "import seaborn as sns\n",
    "%matplotlib inline"
   ]
  },
  {
   "cell_type": "code",
   "execution_count": 2,
   "id": "random-politics",
   "metadata": {},
   "outputs": [],
   "source": [
    "np.random.seed(1234)"
   ]
  },
  {
   "cell_type": "markdown",
   "id": "beautiful-residence",
   "metadata": {},
   "source": [
    "# Problem 1"
   ]
  },
  {
   "cell_type": "markdown",
   "id": "adjacent-elite",
   "metadata": {},
   "source": [
    "### Plot of Ground Truth"
   ]
  },
  {
   "cell_type": "code",
   "execution_count": 3,
   "id": "intellectual-double",
   "metadata": {},
   "outputs": [],
   "source": [
    "x = np.linspace(0,5,100)"
   ]
  },
  {
   "cell_type": "code",
   "execution_count": 4,
   "id": "opposite-teddy",
   "metadata": {},
   "outputs": [],
   "source": [
    "y = x**3 - 5*x**2 + x + 2"
   ]
  },
  {
   "cell_type": "code",
   "execution_count": 5,
   "id": "listed-smith",
   "metadata": {},
   "outputs": [
    {
     "data": {
      "text/plain": [
       "Text(0.5, 1.0, '$f(x) = x^3 - 5x^2 + x + 2$')"
      ]
     },
     "execution_count": 5,
     "metadata": {},
     "output_type": "execute_result"
    },
    {
     "data": {
      "image/png": "[encoded data removed]",
      "text/plain": [
       "<Figure size 432x288 with 1 Axes>"
      ]
     },
     "metadata": {
      "needs_background": "light"
     },
     "output_type": "display_data"
    }
   ],
   "source": [
    "plt.plot(x,y)\n",
    "plt.title('$f(x) = x^3 - 5x^2 + x + 2$')"
   ]
  },
  {
   "cell_type": "markdown",
   "id": "described-howard",
   "metadata": {},
   "source": [
    "### Training Sets"
   ]
  },
  {
   "cell_type": "code",
   "execution_count": 6,
   "id": "hearing-intention",
   "metadata": {},
   "outputs": [],
   "source": [
    "X_trains = []\n",
    "y_trains = []\n",
    "for i in range(10):\n",
    "    x = pd.Series([np.random.uniform(0,5) for x in range(15)])\n",
    "    y = x**3 - 5*x**2 + x + 2\n",
    "    y = y.map(lambda x: x + np.random.normal(loc = 0, scale = 2))\n",
    "    y_trains.append(list(y))\n",
    "    X_trains.append(list(x))"
   ]
  },
  {
   "cell_type": "markdown",
   "id": "foster-typing",
   "metadata": {},
   "source": [
    "**Scatterplot of Training Sets**"
   ]
  },
  {
   "cell_type": "code",
   "execution_count": 7,
   "id": "equivalent-label",
   "metadata": {},
   "outputs": [
    {
     "data": {
      "image/png": "[encoded data removed]",
      "text/plain": [
       "<Figure size 432x288 with 1 Axes>"
      ]
     },
     "metadata": {
      "needs_background": "light"
     },
     "output_type": "display_data"
    }
   ],
   "source": [
    "for xs,ys in zip(X_trains,y_trains):\n",
    "    plt.scatter(xs,ys)"
   ]
  },
  {
   "cell_type": "markdown",
   "id": "unexpected-narrow",
   "metadata": {},
   "source": [
    "### Fitting Models"
   ]
  },
  {
   "cell_type": "code",
   "execution_count": 8,
   "id": "operating-flower",
   "metadata": {},
   "outputs": [],
   "source": [
    "models = pd.DataFrame(columns = ['set','model','degree','train_MSE'])\n",
    "plot_data = pd.DataFrame(columns=['degree','x','y'])\n",
    "\n",
    "c = 0\n",
    "for X,y in zip(X_trains,y_trains):\n",
    "    c += 1\n",
    "    for i in [1,2,3,4,5]:\n",
    "        model = make_pipeline(PolynomialFeatures(degree = i), LinearRegression(copy_X=True))\n",
    "        model.fit(np.array(X).reshape(-1,1), np.array(y).reshape(-1,1))\n",
    "        mse = mean_squared_error(np.array(y),model.predict(np.array(X).reshape(-1,1)))\n",
    "        models = models.append({'set':c, 'model':model, 'degree':i, 'train_MSE':mse}, ignore_index = True)\n",
    "        if c == 1:\n",
    "            poly = PolynomialFeatures(i)\n",
    "            polyx = poly.fit_transform(np.array(X).reshape(-1,1))\n",
    "            pred = model[1].predict(polyx)\n",
    "            for xs,ys in zip(X, pred.reshape(1,-1)[0]):\n",
    "                plot_data = plot_data.append({'degree':i,'x':xs,'y':ys}, ignore_index=True)\n",
    "                \n",
    "plot_data = plot_data.sort_values(by=['degree','x'])"
   ]
  },
  {
   "cell_type": "markdown",
   "id": "invisible-shower",
   "metadata": {},
   "source": [
    "**Models**\n",
    "\n",
    "This data table contains all 50 models of varying degree that were fitted to the training data."
   ]
  },
  {
   "cell_type": "code",
   "execution_count": 9,
   "id": "impressive-thomson",
   "metadata": {},
   "outputs": [
    {
     "data": {
      "text/html": [
       "<div>\n",
       "<style scoped>\n",
       "    .dataframe tbody tr th:only-of-type {\n",
       "        vertical-align: middle;\n",
       "    }\n",
       "\n",
       "    .dataframe tbody tr th {\n",
       "        vertical-align: top;\n",
       "    }\n",
       "\n",
       "    .dataframe thead th {\n",
       "        text-align: right;\n",
       "    }\n",
       "</style>\n",
       "<table border=\"1\" class=\"dataframe\">\n",
       "  <thead>\n",
       "    <tr style=\"text-align: right;\">\n",
       "      <th></th>\n",
       "      <th>set</th>\n",
       "      <th>model</th>\n",
       "      <th>degree</th>\n",
       "      <th>train_MSE</th>\n",
       "    </tr>\n",
       "  </thead>\n",
       "  <tbody>\n",
       "    <tr>\n",
       "      <th>0</th>\n",
       "      <td>1</td>\n",
       "      <td>(PolynomialFeatures(degree=1), LinearRegressio...</td>\n",
       "      <td>1</td>\n",
       "      <td>15.489774</td>\n",
       "    </tr>\n",
       "    <tr>\n",
       "      <th>1</th>\n",
       "      <td>1</td>\n",
       "      <td>(PolynomialFeatures(), LinearRegression())</td>\n",
       "      <td>2</td>\n",
       "      <td>4.260433</td>\n",
       "    </tr>\n",
       "    <tr>\n",
       "      <th>2</th>\n",
       "      <td>1</td>\n",
       "      <td>(PolynomialFeatures(degree=3), LinearRegressio...</td>\n",
       "      <td>3</td>\n",
       "      <td>3.310644</td>\n",
       "    </tr>\n",
       "    <tr>\n",
       "      <th>3</th>\n",
       "      <td>1</td>\n",
       "      <td>(PolynomialFeatures(degree=4), LinearRegressio...</td>\n",
       "      <td>4</td>\n",
       "      <td>3.252565</td>\n",
       "    </tr>\n",
       "    <tr>\n",
       "      <th>4</th>\n",
       "      <td>1</td>\n",
       "      <td>(PolynomialFeatures(degree=5), LinearRegressio...</td>\n",
       "      <td>5</td>\n",
       "      <td>3.233444</td>\n",
       "    </tr>\n",
       "  </tbody>\n",
       "</table>\n",
       "</div>"
      ],
      "text/plain": [
       "  set                                              model degree  train_MSE\n",
       "0   1  (PolynomialFeatures(degree=1), LinearRegressio...      1  15.489774\n",
       "1   1         (PolynomialFeatures(), LinearRegression())      2   4.260433\n",
       "2   1  (PolynomialFeatures(degree=3), LinearRegressio...      3   3.310644\n",
       "3   1  (PolynomialFeatures(degree=4), LinearRegressio...      4   3.252565\n",
       "4   1  (PolynomialFeatures(degree=5), LinearRegressio...      5   3.233444"
      ]
     },
     "execution_count": 9,
     "metadata": {},
     "output_type": "execute_result"
    }
   ],
   "source": [
    "models.head()"
   ]
  },
  {
   "cell_type": "markdown",
   "id": "square-plain",
   "metadata": {},
   "source": [
    "**Plot of Training MSE**\n",
    "\n",
    "As expexted the MSE of the training data goes down as the flexibility increases."
   ]
  },
  {
   "cell_type": "code",
   "execution_count": 10,
   "id": "experienced-emerald",
   "metadata": {},
   "outputs": [
    {
     "data": {
      "text/plain": [
       "<matplotlib.collections.PathCollection at 0x7f8abff8dc10>"
      ]
     },
     "execution_count": 10,
     "metadata": {},
     "output_type": "execute_result"
    },
    {
     "data": {
      "image/png": "[encoded data removed]",
      "text/plain": [
       "<Figure size 432x288 with 1 Axes>"
      ]
     },
     "metadata": {
      "needs_background": "light"
     },
     "output_type": "display_data"
    }
   ],
   "source": [
    "plt.scatter(models.loc[:,'degree'],models.loc[:,'train_MSE'])"
   ]
  },
  {
   "cell_type": "markdown",
   "id": "suspended-mount",
   "metadata": {},
   "source": [
    "### Test Sets"
   ]
  },
  {
   "cell_type": "code",
   "execution_count": 11,
   "id": "patient-isaac",
   "metadata": {},
   "outputs": [],
   "source": [
    "X_tests = []\n",
    "y_tests = []\n",
    "for i in range(10):\n",
    "    x = pd.Series([np.random.uniform(0,5) for x in range(15)])\n",
    "    y = x**3 - 5*x**2 + x + 2\n",
    "    y = y.map(lambda x: x + np.random.normal(loc = 0, scale = 2))\n",
    "    y_tests.append(list(y))\n",
    "    X_tests.append(list(x))"
   ]
  },
  {
   "cell_type": "code",
   "execution_count": 12,
   "id": "faced-wright",
   "metadata": {},
   "outputs": [],
   "source": [
    "tests = pd.DataFrame(columns=['model', 'degree','test_mse'])\n",
    "for i in range(50):\n",
    "    model = models.loc[i,'model'][1]\n",
    "    degree = models.loc[i,'degree']\n",
    "    \n",
    "    for xs,ys in zip(X_tests,y_tests):\n",
    "        poly = PolynomialFeatures(degree)\n",
    "        xs = poly.fit_transform(np.array(xs).reshape(-1,1))\n",
    "        pred = model.predict(xs)\n",
    "        mse = mean_squared_error(np.array(ys),pred.reshape(1,-1)[0])\n",
    "        tests = tests.append({'model':i, 'degree':int(degree),'test_mse':mse}, ignore_index=True)"
   ]
  },
  {
   "cell_type": "markdown",
   "id": "raising-commonwealth",
   "metadata": {},
   "source": [
    "**Tests**\n",
    "\n",
    "This data table holds the MSE for the tests by degree.  This will be used to compute an average MSE for the test sets by degree."
   ]
  },
  {
   "cell_type": "code",
   "execution_count": 13,
   "id": "threatened-manitoba",
   "metadata": {},
   "outputs": [
    {
     "data": {
      "text/html": [
       "<div>\n",
       "<style scoped>\n",
       "    .dataframe tbody tr th:only-of-type {\n",
       "        vertical-align: middle;\n",
       "    }\n",
       "\n",
       "    .dataframe tbody tr th {\n",
       "        vertical-align: top;\n",
       "    }\n",
       "\n",
       "    .dataframe thead th {\n",
       "        text-align: right;\n",
       "    }\n",
       "</style>\n",
       "<table border=\"1\" class=\"dataframe\">\n",
       "  <thead>\n",
       "    <tr style=\"text-align: right;\">\n",
       "      <th></th>\n",
       "      <th>model</th>\n",
       "      <th>degree</th>\n",
       "      <th>test_mse</th>\n",
       "    </tr>\n",
       "  </thead>\n",
       "  <tbody>\n",
       "    <tr>\n",
       "      <th>0</th>\n",
       "      <td>0.0</td>\n",
       "      <td>1.0</td>\n",
       "      <td>45.750632</td>\n",
       "    </tr>\n",
       "    <tr>\n",
       "      <th>1</th>\n",
       "      <td>0.0</td>\n",
       "      <td>1.0</td>\n",
       "      <td>30.635349</td>\n",
       "    </tr>\n",
       "    <tr>\n",
       "      <th>2</th>\n",
       "      <td>0.0</td>\n",
       "      <td>1.0</td>\n",
       "      <td>34.892665</td>\n",
       "    </tr>\n",
       "    <tr>\n",
       "      <th>3</th>\n",
       "      <td>0.0</td>\n",
       "      <td>1.0</td>\n",
       "      <td>54.268535</td>\n",
       "    </tr>\n",
       "    <tr>\n",
       "      <th>4</th>\n",
       "      <td>0.0</td>\n",
       "      <td>1.0</td>\n",
       "      <td>32.684440</td>\n",
       "    </tr>\n",
       "  </tbody>\n",
       "</table>\n",
       "</div>"
      ],
      "text/plain": [
       "   model  degree   test_mse\n",
       "0    0.0     1.0  45.750632\n",
       "1    0.0     1.0  30.635349\n",
       "2    0.0     1.0  34.892665\n",
       "3    0.0     1.0  54.268535\n",
       "4    0.0     1.0  32.684440"
      ]
     },
     "execution_count": 13,
     "metadata": {},
     "output_type": "execute_result"
    }
   ],
   "source": [
    "tests.head()"
   ]
  },
  {
   "cell_type": "markdown",
   "id": "finite-cooler",
   "metadata": {},
   "source": [
    "**Combined Test and Training MSE**\n",
    "\n",
    "The following data table was created to ease plot production."
   ]
  },
  {
   "cell_type": "code",
   "execution_count": 14,
   "id": "deadly-pregnancy",
   "metadata": {},
   "outputs": [],
   "source": [
    "test_mse = tests.groupby('degree').mean('test_mse').drop('model', axis = 1)"
   ]
  },
  {
   "cell_type": "code",
   "execution_count": 15,
   "id": "conscious-learning",
   "metadata": {},
   "outputs": [],
   "source": [
    "train_mse = models.groupby('degree').mean('test_mse')"
   ]
  },
  {
   "cell_type": "code",
   "execution_count": 16,
   "id": "ahead-finance",
   "metadata": {},
   "outputs": [],
   "source": [
    "mse = test_mse.join(train_mse, on = 'degree')"
   ]
  },
  {
   "cell_type": "code",
   "execution_count": 17,
   "id": "assumed-analyst",
   "metadata": {},
   "outputs": [
    {
     "data": {
      "text/html": [
       "<div>\n",
       "<style scoped>\n",
       "    .dataframe tbody tr th:only-of-type {\n",
       "        vertical-align: middle;\n",
       "    }\n",
       "\n",
       "    .dataframe tbody tr th {\n",
       "        vertical-align: top;\n",
       "    }\n",
       "\n",
       "    .dataframe thead th {\n",
       "        text-align: right;\n",
       "    }\n",
       "</style>\n",
       "<table border=\"1\" class=\"dataframe\">\n",
       "  <thead>\n",
       "    <tr style=\"text-align: right;\">\n",
       "      <th></th>\n",
       "      <th>test_mse</th>\n",
       "      <th>train_MSE</th>\n",
       "    </tr>\n",
       "    <tr>\n",
       "      <th>degree</th>\n",
       "      <th></th>\n",
       "      <th></th>\n",
       "    </tr>\n",
       "  </thead>\n",
       "  <tbody>\n",
       "    <tr>\n",
       "      <th>1.0</th>\n",
       "      <td>40.295172</td>\n",
       "      <td>29.729292</td>\n",
       "    </tr>\n",
       "    <tr>\n",
       "      <th>2.0</th>\n",
       "      <td>20.701729</td>\n",
       "      <td>7.216555</td>\n",
       "    </tr>\n",
       "    <tr>\n",
       "      <th>3.0</th>\n",
       "      <td>10.161037</td>\n",
       "      <td>2.368111</td>\n",
       "    </tr>\n",
       "    <tr>\n",
       "      <th>4.0</th>\n",
       "      <td>25.815241</td>\n",
       "      <td>2.242016</td>\n",
       "    </tr>\n",
       "    <tr>\n",
       "      <th>5.0</th>\n",
       "      <td>251.742825</td>\n",
       "      <td>2.018578</td>\n",
       "    </tr>\n",
       "  </tbody>\n",
       "</table>\n",
       "</div>"
      ],
      "text/plain": [
       "          test_mse  train_MSE\n",
       "degree                       \n",
       "1.0      40.295172  29.729292\n",
       "2.0      20.701729   7.216555\n",
       "3.0      10.161037   2.368111\n",
       "4.0      25.815241   2.242016\n",
       "5.0     251.742825   2.018578"
      ]
     },
     "execution_count": 17,
     "metadata": {},
     "output_type": "execute_result"
    }
   ],
   "source": [
    "mse"
   ]
  },
  {
   "cell_type": "markdown",
   "id": "round-yellow",
   "metadata": {},
   "source": [
    "## Replicated Plot\n",
    "The following is a replication of the plot on slide 18 using synthesized data and showing the fitted model of varying flexibility over the true function on one plot and the comparison of the training set MSE versus the average testing set MSE on the other plot."
   ]
  },
  {
   "cell_type": "code",
   "execution_count": 18,
   "id": "pacific-hampton",
   "metadata": {},
   "outputs": [
    {
     "data": {
      "text/plain": [
       "Text(0.5, 0, 'Flexibility')"
      ]
     },
     "execution_count": 18,
     "metadata": {},
     "output_type": "execute_result"
    },
    {
     "data": {
      "image/png": "[encoded data removed]",
      "text/plain": [
       "<Figure size 720x360 with 2 Axes>"
      ]
     },
     "metadata": {
      "needs_background": "light"
     },
     "output_type": "display_data"
    }
   ],
   "source": [
    "plt.figure(figsize=(10,5))\n",
    "plt.subplot(121)\n",
    "x_true = np.linspace(0,5,100)\n",
    "y_true = x_true**3 - 5*x_true**2 + x_true + 2\n",
    "plt.plot(x_true,y_true, label='True f(x)')\n",
    "plt.scatter(X_trains[0],y_trains[0], marker = 'o')\n",
    "for i in [1,2,3,4,5]:\n",
    "    data = plot_data.loc[plot_data.degree == i]\n",
    "    plt.plot(data.loc[:,'x'],data.loc[:,'y'],linestyle='dashed', label='Degree '+str(i))\n",
    "plt.legend(bbox_to_anchor = (-0.1,1))\n",
    "plt.xlabel('X')\n",
    "plt.ylabel('Y')\n",
    "\n",
    "plt.subplot(122)\n",
    "plt.plot(list(mse.index),list(mse.train_MSE),marker='s', label='Training Set')\n",
    "plt.plot(list(mse.index),list(mse.test_mse),marker='s', label='Testing Set')\n",
    "plt.legend()\n",
    "plt.ylabel(\"Mean Square Error\")\n",
    "plt.xlabel(\"Flexibility\")"
   ]
  },
  {
   "cell_type": "markdown",
   "id": "unable-weapon",
   "metadata": {},
   "source": [
    "By looking at the plot of MSE, we can see that both the training ans testing set MSE decrease until the 3rd degree polynomial fit after which the testing set MSE starts to increase while the training set continues to decrease."
   ]
  },
  {
   "cell_type": "markdown",
   "id": "widespread-contribution",
   "metadata": {},
   "source": [
    "# Problem 2"
   ]
  },
  {
   "cell_type": "markdown",
   "id": "afraid-miracle",
   "metadata": {},
   "source": [
    "**Raw Data**"
   ]
  },
  {
   "cell_type": "code",
   "execution_count": 19,
   "id": "subsequent-logistics",
   "metadata": {},
   "outputs": [],
   "source": [
    "coins = pd.read_csv(\"coin_data.csv\")\n",
    "coins = coins.rename(columns = {'Name ':'Name', \n",
    "                            'Pennies ':'Pennies',\n",
    "                            'Nickels ':'Nickels',\n",
    "                            'Dimes ':'Dimes',\n",
    "                            'Quarters ':'Quarters', \n",
    "                            'Dollar coins':'Dollar coins'})"
   ]
  },
  {
   "cell_type": "code",
   "execution_count": 20,
   "id": "still-citizen",
   "metadata": {},
   "outputs": [
    {
     "data": {
      "text/html": [
       "<div>\n",
       "<style scoped>\n",
       "    .dataframe tbody tr th:only-of-type {\n",
       "        vertical-align: middle;\n",
       "    }\n",
       "\n",
       "    .dataframe tbody tr th {\n",
       "        vertical-align: top;\n",
       "    }\n",
       "\n",
       "    .dataframe thead th {\n",
       "        text-align: right;\n",
       "    }\n",
       "</style>\n",
       "<table border=\"1\" class=\"dataframe\">\n",
       "  <thead>\n",
       "    <tr style=\"text-align: right;\">\n",
       "      <th></th>\n",
       "      <th>Name</th>\n",
       "      <th>Pennies</th>\n",
       "      <th>Nickels</th>\n",
       "      <th>Dimes</th>\n",
       "      <th>Quarters</th>\n",
       "      <th>Dollar coins</th>\n",
       "    </tr>\n",
       "  </thead>\n",
       "  <tbody>\n",
       "    <tr>\n",
       "      <th>0</th>\n",
       "      <td>Jacob</td>\n",
       "      <td>2</td>\n",
       "      <td>0</td>\n",
       "      <td>1</td>\n",
       "      <td>1</td>\n",
       "      <td>0</td>\n",
       "    </tr>\n",
       "    <tr>\n",
       "      <th>1</th>\n",
       "      <td>Dimitri</td>\n",
       "      <td>6</td>\n",
       "      <td>3</td>\n",
       "      <td>6</td>\n",
       "      <td>1</td>\n",
       "      <td>0</td>\n",
       "    </tr>\n",
       "    <tr>\n",
       "      <th>2</th>\n",
       "      <td>Danielle</td>\n",
       "      <td>2</td>\n",
       "      <td>3</td>\n",
       "      <td>1</td>\n",
       "      <td>8</td>\n",
       "      <td>0</td>\n",
       "    </tr>\n",
       "    <tr>\n",
       "      <th>3</th>\n",
       "      <td>Sara</td>\n",
       "      <td>8</td>\n",
       "      <td>2</td>\n",
       "      <td>6</td>\n",
       "      <td>10</td>\n",
       "      <td>0</td>\n",
       "    </tr>\n",
       "    <tr>\n",
       "      <th>4</th>\n",
       "      <td>Conor</td>\n",
       "      <td>6</td>\n",
       "      <td>3</td>\n",
       "      <td>1</td>\n",
       "      <td>2</td>\n",
       "      <td>0</td>\n",
       "    </tr>\n",
       "    <tr>\n",
       "      <th>5</th>\n",
       "      <td>Kevin</td>\n",
       "      <td>3</td>\n",
       "      <td>2</td>\n",
       "      <td>1</td>\n",
       "      <td>4</td>\n",
       "      <td>0</td>\n",
       "    </tr>\n",
       "    <tr>\n",
       "      <th>6</th>\n",
       "      <td>Rick</td>\n",
       "      <td>3</td>\n",
       "      <td>3</td>\n",
       "      <td>1</td>\n",
       "      <td>5</td>\n",
       "      <td>0</td>\n",
       "    </tr>\n",
       "    <tr>\n",
       "      <th>7</th>\n",
       "      <td>Adam</td>\n",
       "      <td>3</td>\n",
       "      <td>0</td>\n",
       "      <td>4</td>\n",
       "      <td>1</td>\n",
       "      <td>0</td>\n",
       "    </tr>\n",
       "    <tr>\n",
       "      <th>8</th>\n",
       "      <td>Tim</td>\n",
       "      <td>4</td>\n",
       "      <td>4</td>\n",
       "      <td>3</td>\n",
       "      <td>3</td>\n",
       "      <td>1</td>\n",
       "    </tr>\n",
       "    <tr>\n",
       "      <th>9</th>\n",
       "      <td>Amanda</td>\n",
       "      <td>2</td>\n",
       "      <td>0</td>\n",
       "      <td>2</td>\n",
       "      <td>6</td>\n",
       "      <td>0</td>\n",
       "    </tr>\n",
       "    <tr>\n",
       "      <th>10</th>\n",
       "      <td>Julian</td>\n",
       "      <td>36</td>\n",
       "      <td>6</td>\n",
       "      <td>15</td>\n",
       "      <td>39</td>\n",
       "      <td>0</td>\n",
       "    </tr>\n",
       "    <tr>\n",
       "      <th>11</th>\n",
       "      <td>Viv</td>\n",
       "      <td>18</td>\n",
       "      <td>7</td>\n",
       "      <td>3</td>\n",
       "      <td>6</td>\n",
       "      <td>0</td>\n",
       "    </tr>\n",
       "    <tr>\n",
       "      <th>12</th>\n",
       "      <td>Sumitra</td>\n",
       "      <td>11</td>\n",
       "      <td>5</td>\n",
       "      <td>8</td>\n",
       "      <td>7</td>\n",
       "      <td>0</td>\n",
       "    </tr>\n",
       "    <tr>\n",
       "      <th>13</th>\n",
       "      <td>Maria</td>\n",
       "      <td>10</td>\n",
       "      <td>2</td>\n",
       "      <td>20</td>\n",
       "      <td>5</td>\n",
       "      <td>0</td>\n",
       "    </tr>\n",
       "    <tr>\n",
       "      <th>14</th>\n",
       "      <td>Steve</td>\n",
       "      <td>21</td>\n",
       "      <td>6</td>\n",
       "      <td>14</td>\n",
       "      <td>5</td>\n",
       "      <td>0</td>\n",
       "    </tr>\n",
       "    <tr>\n",
       "      <th>15</th>\n",
       "      <td>Kalani</td>\n",
       "      <td>9</td>\n",
       "      <td>2</td>\n",
       "      <td>4</td>\n",
       "      <td>11</td>\n",
       "      <td>0</td>\n",
       "    </tr>\n",
       "    <tr>\n",
       "      <th>16</th>\n",
       "      <td>Miles</td>\n",
       "      <td>13</td>\n",
       "      <td>2</td>\n",
       "      <td>2</td>\n",
       "      <td>1</td>\n",
       "      <td>0</td>\n",
       "    </tr>\n",
       "    <tr>\n",
       "      <th>17</th>\n",
       "      <td>Ben</td>\n",
       "      <td>4</td>\n",
       "      <td>6</td>\n",
       "      <td>4</td>\n",
       "      <td>10</td>\n",
       "      <td>0</td>\n",
       "    </tr>\n",
       "  </tbody>\n",
       "</table>\n",
       "</div>"
      ],
      "text/plain": [
       "         Name  Pennies  Nickels  Dimes  Quarters  Dollar coins\n",
       "0      Jacob         2        0      1         1             0\n",
       "1    Dimitri         6        3      6         1             0\n",
       "2   Danielle         2        3      1         8             0\n",
       "3       Sara         8        2      6        10             0\n",
       "4      Conor         6        3      1         2             0\n",
       "5      Kevin         3        2      1         4             0\n",
       "6       Rick         3        3      1         5             0\n",
       "7       Adam         3        0      4         1             0\n",
       "8        Tim         4        4      3         3             1\n",
       "9     Amanda         2        0      2         6             0\n",
       "10    Julian        36        6     15        39             0\n",
       "11       Viv        18        7      3         6             0\n",
       "12   Sumitra        11        5      8         7             0\n",
       "13     Maria        10        2     20         5             0\n",
       "14     Steve        21        6     14         5             0\n",
       "15    Kalani         9        2      4        11             0\n",
       "16     Miles        13        2      2         1             0\n",
       "17       Ben         4        6      4        10             0"
      ]
     },
     "execution_count": 20,
     "metadata": {},
     "output_type": "execute_result"
    }
   ],
   "source": [
    "coins"
   ]
  },
  {
   "cell_type": "markdown",
   "id": "material-territory",
   "metadata": {},
   "source": [
    "**Formatting data for ML**\n",
    "\n",
    "We want to use the total number of coins ('X1') and the number of pennies, nickels, and dimes ('X2') to predict the total monetary value of the change ('Y'), so the following code creates those variables using the raw data."
   ]
  },
  {
   "cell_type": "code",
   "execution_count": 21,
   "id": "judicial-petroleum",
   "metadata": {},
   "outputs": [],
   "source": [
    "# Total amount in $\n",
    "coins.loc[:,'Y'] =  coins.loc[:,'Pennies'] * 0.01 + coins.loc[:,'Nickels'] * 0.5 + coins.loc[:,'Dimes'] * 0.10 + coins.loc[:,'Quarters'] * 0.25 + coins.loc[:,'Dollar coins']"
   ]
  },
  {
   "cell_type": "code",
   "execution_count": 22,
   "id": "certain-spider",
   "metadata": {},
   "outputs": [],
   "source": [
    "# Total number of coins\n",
    "coins.loc[:,'X1'] =  coins.loc[:,'Pennies'] + coins.loc[:,'Nickels'] + coins.loc[:,'Dimes'] + coins.loc[:,'Quarters'] + coins.loc[:,'Dollar coins']"
   ]
  },
  {
   "cell_type": "code",
   "execution_count": 23,
   "id": "grateful-communication",
   "metadata": {},
   "outputs": [],
   "source": [
    "# Number of pennies, nickels, and dimes\n",
    "coins.loc[:,'X2'] =  coins.loc[:,'Pennies'] + coins.loc[:,'Nickels'] + coins.loc[:,'Dimes']"
   ]
  },
  {
   "cell_type": "code",
   "execution_count": 24,
   "id": "comprehensive-disorder",
   "metadata": {},
   "outputs": [
    {
     "data": {
      "text/html": [
       "<div>\n",
       "<style scoped>\n",
       "    .dataframe tbody tr th:only-of-type {\n",
       "        vertical-align: middle;\n",
       "    }\n",
       "\n",
       "    .dataframe tbody tr th {\n",
       "        vertical-align: top;\n",
       "    }\n",
       "\n",
       "    .dataframe thead th {\n",
       "        text-align: right;\n",
       "    }\n",
       "</style>\n",
       "<table border=\"1\" class=\"dataframe\">\n",
       "  <thead>\n",
       "    <tr style=\"text-align: right;\">\n",
       "      <th></th>\n",
       "      <th>Name</th>\n",
       "      <th>Pennies</th>\n",
       "      <th>Nickels</th>\n",
       "      <th>Dimes</th>\n",
       "      <th>Quarters</th>\n",
       "      <th>Dollar coins</th>\n",
       "      <th>Y</th>\n",
       "      <th>X1</th>\n",
       "      <th>X2</th>\n",
       "    </tr>\n",
       "  </thead>\n",
       "  <tbody>\n",
       "    <tr>\n",
       "      <th>0</th>\n",
       "      <td>Jacob</td>\n",
       "      <td>2</td>\n",
       "      <td>0</td>\n",
       "      <td>1</td>\n",
       "      <td>1</td>\n",
       "      <td>0</td>\n",
       "      <td>0.37</td>\n",
       "      <td>4</td>\n",
       "      <td>3</td>\n",
       "    </tr>\n",
       "    <tr>\n",
       "      <th>1</th>\n",
       "      <td>Dimitri</td>\n",
       "      <td>6</td>\n",
       "      <td>3</td>\n",
       "      <td>6</td>\n",
       "      <td>1</td>\n",
       "      <td>0</td>\n",
       "      <td>2.41</td>\n",
       "      <td>16</td>\n",
       "      <td>15</td>\n",
       "    </tr>\n",
       "    <tr>\n",
       "      <th>2</th>\n",
       "      <td>Danielle</td>\n",
       "      <td>2</td>\n",
       "      <td>3</td>\n",
       "      <td>1</td>\n",
       "      <td>8</td>\n",
       "      <td>0</td>\n",
       "      <td>3.62</td>\n",
       "      <td>14</td>\n",
       "      <td>6</td>\n",
       "    </tr>\n",
       "    <tr>\n",
       "      <th>3</th>\n",
       "      <td>Sara</td>\n",
       "      <td>8</td>\n",
       "      <td>2</td>\n",
       "      <td>6</td>\n",
       "      <td>10</td>\n",
       "      <td>0</td>\n",
       "      <td>4.18</td>\n",
       "      <td>26</td>\n",
       "      <td>16</td>\n",
       "    </tr>\n",
       "    <tr>\n",
       "      <th>4</th>\n",
       "      <td>Conor</td>\n",
       "      <td>6</td>\n",
       "      <td>3</td>\n",
       "      <td>1</td>\n",
       "      <td>2</td>\n",
       "      <td>0</td>\n",
       "      <td>2.16</td>\n",
       "      <td>12</td>\n",
       "      <td>10</td>\n",
       "    </tr>\n",
       "  </tbody>\n",
       "</table>\n",
       "</div>"
      ],
      "text/plain": [
       "        Name  Pennies  Nickels  Dimes  Quarters  Dollar coins     Y  X1  X2\n",
       "0     Jacob         2        0      1         1             0  0.37   4   3\n",
       "1   Dimitri         6        3      6         1             0  2.41  16  15\n",
       "2  Danielle         2        3      1         8             0  3.62  14   6\n",
       "3      Sara         8        2      6        10             0  4.18  26  16\n",
       "4     Conor         6        3      1         2             0  2.16  12  10"
      ]
     },
     "execution_count": 24,
     "metadata": {},
     "output_type": "execute_result"
    }
   ],
   "source": [
    "coins.head()"
   ]
  },
  {
   "cell_type": "markdown",
   "id": "legal-level",
   "metadata": {},
   "source": [
    "### Linear Regression"
   ]
  },
  {
   "cell_type": "code",
   "execution_count": 25,
   "id": "ecological-cache",
   "metadata": {},
   "outputs": [],
   "source": [
    "lm = LinearRegression()"
   ]
  },
  {
   "cell_type": "code",
   "execution_count": 26,
   "id": "owned-resource",
   "metadata": {},
   "outputs": [],
   "source": [
    "y_train = coins.loc[:,'Y']"
   ]
  },
  {
   "cell_type": "code",
   "execution_count": 27,
   "id": "helpful-temple",
   "metadata": {},
   "outputs": [],
   "source": [
    "X_train = coins.loc[:,['X1','X2']]"
   ]
  },
  {
   "cell_type": "code",
   "execution_count": 28,
   "id": "specified-relaxation",
   "metadata": {},
   "outputs": [
    {
     "data": {
      "text/plain": [
       "LinearRegression()"
      ]
     },
     "execution_count": 28,
     "metadata": {},
     "output_type": "execute_result"
    }
   ],
   "source": [
    "lm.fit(X_train,y_train)"
   ]
  },
  {
   "cell_type": "markdown",
   "id": "accurate-lightweight",
   "metadata": {},
   "source": [
    "### Results\n",
    "The predicted regression formula is: $Y = 0.723 + 0.231\\cdot X1 -0.137 \\cdot X2$.  It is important to note that the correlation between the total number of coins and the number of pennies, nickels, and dimes is very high, rightfully so. Therefore, it would be unwise to make any simplistic inferences about the effect of these variable on the total monetary value. "
   ]
  },
  {
   "cell_type": "code",
   "execution_count": 29,
   "id": "virtual-interstate",
   "metadata": {},
   "outputs": [
    {
     "data": {
      "text/plain": [
       "array([ 0.23069829, -0.13683058])"
      ]
     },
     "execution_count": 29,
     "metadata": {},
     "output_type": "execute_result"
    }
   ],
   "source": [
    "lm.coef_"
   ]
  },
  {
   "cell_type": "code",
   "execution_count": 30,
   "id": "floating-support",
   "metadata": {},
   "outputs": [
    {
     "data": {
      "text/plain": [
       "0.7228568693122548"
      ]
     },
     "execution_count": 30,
     "metadata": {},
     "output_type": "execute_result"
    }
   ],
   "source": [
    "lm.intercept_"
   ]
  },
  {
   "cell_type": "code",
   "execution_count": 31,
   "id": "abstract-treasury",
   "metadata": {},
   "outputs": [
    {
     "data": {
      "text/html": [
       "<div>\n",
       "<style scoped>\n",
       "    .dataframe tbody tr th:only-of-type {\n",
       "        vertical-align: middle;\n",
       "    }\n",
       "\n",
       "    .dataframe tbody tr th {\n",
       "        vertical-align: top;\n",
       "    }\n",
       "\n",
       "    .dataframe thead th {\n",
       "        text-align: right;\n",
       "    }\n",
       "</style>\n",
       "<table border=\"1\" class=\"dataframe\">\n",
       "  <thead>\n",
       "    <tr style=\"text-align: right;\">\n",
       "      <th></th>\n",
       "      <th>Y</th>\n",
       "      <th>X1</th>\n",
       "      <th>X2</th>\n",
       "    </tr>\n",
       "  </thead>\n",
       "  <tbody>\n",
       "    <tr>\n",
       "      <th>Y</th>\n",
       "      <td>1.000000</td>\n",
       "      <td>0.953334</td>\n",
       "      <td>0.856120</td>\n",
       "    </tr>\n",
       "    <tr>\n",
       "      <th>X1</th>\n",
       "      <td>0.953334</td>\n",
       "      <td>1.000000</td>\n",
       "      <td>0.955094</td>\n",
       "    </tr>\n",
       "    <tr>\n",
       "      <th>X2</th>\n",
       "      <td>0.856120</td>\n",
       "      <td>0.955094</td>\n",
       "      <td>1.000000</td>\n",
       "    </tr>\n",
       "  </tbody>\n",
       "</table>\n",
       "</div>"
      ],
      "text/plain": [
       "           Y        X1        X2\n",
       "Y   1.000000  0.953334  0.856120\n",
       "X1  0.953334  1.000000  0.955094\n",
       "X2  0.856120  0.955094  1.000000"
      ]
     },
     "execution_count": 31,
     "metadata": {},
     "output_type": "execute_result"
    }
   ],
   "source": [
    "coins.loc[:,['Y','X1','X2']].corr()"
   ]
  },
  {
   "cell_type": "markdown",
   "id": "instant-charity",
   "metadata": {},
   "source": [
    "**Including Interaction Terms**\n",
    "I decided to include interaction terms to see if they improved the model. The new function is:$Y=-0.13 + 0.32 \\cdot X1 -0.16 \\cdot X2-0.001\\cdot X1\\cdot X2$"
   ]
  },
  {
   "cell_type": "code",
   "execution_count": 32,
   "id": "better-experience",
   "metadata": {},
   "outputs": [],
   "source": [
    "X_train['X1X2'] = X_train['X1'] * X_train['X2']"
   ]
  },
  {
   "cell_type": "code",
   "execution_count": 33,
   "id": "burning-composition",
   "metadata": {},
   "outputs": [],
   "source": [
    "lm2 = LinearRegression()"
   ]
  },
  {
   "cell_type": "code",
   "execution_count": 34,
   "id": "independent-globe",
   "metadata": {},
   "outputs": [
    {
     "data": {
      "text/plain": [
       "LinearRegression()"
      ]
     },
     "execution_count": 34,
     "metadata": {},
     "output_type": "execute_result"
    }
   ],
   "source": [
    "lm2.fit(X_train,y_train)"
   ]
  },
  {
   "cell_type": "code",
   "execution_count": 35,
   "id": "mineral-sheet",
   "metadata": {},
   "outputs": [
    {
     "data": {
      "text/plain": [
       "array([ 0.3191344 , -0.16386436, -0.00119669])"
      ]
     },
     "execution_count": 35,
     "metadata": {},
     "output_type": "execute_result"
    }
   ],
   "source": [
    "lm2.coef_"
   ]
  },
  {
   "cell_type": "code",
   "execution_count": 36,
   "id": "prime-spencer",
   "metadata": {},
   "outputs": [
    {
     "data": {
      "text/plain": [
       "-0.1297558616937069"
      ]
     },
     "execution_count": 36,
     "metadata": {},
     "output_type": "execute_result"
    }
   ],
   "source": [
    "lm2.intercept_"
   ]
  },
  {
   "cell_type": "markdown",
   "id": "preceding-credits",
   "metadata": {},
   "source": [
    "## Predicting Novel Data\n",
    "I decided to create some artificial test data.  I created the random values using the statistics of the raw data."
   ]
  },
  {
   "cell_type": "code",
   "execution_count": 37,
   "id": "wound-scenario",
   "metadata": {},
   "outputs": [
    {
     "data": {
      "text/html": [
       "<div>\n",
       "<style scoped>\n",
       "    .dataframe tbody tr th:only-of-type {\n",
       "        vertical-align: middle;\n",
       "    }\n",
       "\n",
       "    .dataframe tbody tr th {\n",
       "        vertical-align: top;\n",
       "    }\n",
       "\n",
       "    .dataframe thead th {\n",
       "        text-align: right;\n",
       "    }\n",
       "</style>\n",
       "<table border=\"1\" class=\"dataframe\">\n",
       "  <thead>\n",
       "    <tr style=\"text-align: right;\">\n",
       "      <th></th>\n",
       "      <th>Pennies</th>\n",
       "      <th>Nickels</th>\n",
       "      <th>Dimes</th>\n",
       "      <th>Quarters</th>\n",
       "      <th>Dollar coins</th>\n",
       "      <th>Y</th>\n",
       "      <th>X1</th>\n",
       "      <th>X2</th>\n",
       "    </tr>\n",
       "  </thead>\n",
       "  <tbody>\n",
       "    <tr>\n",
       "      <th>count</th>\n",
       "      <td>18.000000</td>\n",
       "      <td>18.000000</td>\n",
       "      <td>18.000000</td>\n",
       "      <td>18.000000</td>\n",
       "      <td>18.000000</td>\n",
       "      <td>18.000000</td>\n",
       "      <td>18.000000</td>\n",
       "      <td>18.000000</td>\n",
       "    </tr>\n",
       "    <tr>\n",
       "      <th>mean</th>\n",
       "      <td>8.944444</td>\n",
       "      <td>3.111111</td>\n",
       "      <td>5.333333</td>\n",
       "      <td>6.944444</td>\n",
       "      <td>0.055556</td>\n",
       "      <td>3.970000</td>\n",
       "      <td>24.388889</td>\n",
       "      <td>17.388889</td>\n",
       "    </tr>\n",
       "    <tr>\n",
       "      <th>std</th>\n",
       "      <td>8.741195</td>\n",
       "      <td>2.166290</td>\n",
       "      <td>5.551894</td>\n",
       "      <td>8.632853</td>\n",
       "      <td>0.235702</td>\n",
       "      <td>3.158548</td>\n",
       "      <td>21.155277</td>\n",
       "      <td>14.304006</td>\n",
       "    </tr>\n",
       "    <tr>\n",
       "      <th>min</th>\n",
       "      <td>2.000000</td>\n",
       "      <td>0.000000</td>\n",
       "      <td>1.000000</td>\n",
       "      <td>1.000000</td>\n",
       "      <td>0.000000</td>\n",
       "      <td>0.370000</td>\n",
       "      <td>4.000000</td>\n",
       "      <td>3.000000</td>\n",
       "    </tr>\n",
       "    <tr>\n",
       "      <th>25%</th>\n",
       "      <td>3.000000</td>\n",
       "      <td>2.000000</td>\n",
       "      <td>1.250000</td>\n",
       "      <td>2.250000</td>\n",
       "      <td>0.000000</td>\n",
       "      <td>2.137500</td>\n",
       "      <td>12.000000</td>\n",
       "      <td>7.000000</td>\n",
       "    </tr>\n",
       "    <tr>\n",
       "      <th>50%</th>\n",
       "      <td>6.000000</td>\n",
       "      <td>3.000000</td>\n",
       "      <td>3.500000</td>\n",
       "      <td>5.000000</td>\n",
       "      <td>0.000000</td>\n",
       "      <td>3.855000</td>\n",
       "      <td>17.000000</td>\n",
       "      <td>14.500000</td>\n",
       "    </tr>\n",
       "    <tr>\n",
       "      <th>75%</th>\n",
       "      <td>10.750000</td>\n",
       "      <td>4.750000</td>\n",
       "      <td>6.000000</td>\n",
       "      <td>7.750000</td>\n",
       "      <td>0.000000</td>\n",
       "      <td>4.957500</td>\n",
       "      <td>29.750000</td>\n",
       "      <td>22.250000</td>\n",
       "    </tr>\n",
       "    <tr>\n",
       "      <th>max</th>\n",
       "      <td>36.000000</td>\n",
       "      <td>7.000000</td>\n",
       "      <td>20.000000</td>\n",
       "      <td>39.000000</td>\n",
       "      <td>1.000000</td>\n",
       "      <td>14.610000</td>\n",
       "      <td>96.000000</td>\n",
       "      <td>57.000000</td>\n",
       "    </tr>\n",
       "  </tbody>\n",
       "</table>\n",
       "</div>"
      ],
      "text/plain": [
       "         Pennies    Nickels      Dimes   Quarters  Dollar coins          Y  \\\n",
       "count  18.000000  18.000000  18.000000  18.000000     18.000000  18.000000   \n",
       "mean    8.944444   3.111111   5.333333   6.944444      0.055556   3.970000   \n",
       "std     8.741195   2.166290   5.551894   8.632853      0.235702   3.158548   \n",
       "min     2.000000   0.000000   1.000000   1.000000      0.000000   0.370000   \n",
       "25%     3.000000   2.000000   1.250000   2.250000      0.000000   2.137500   \n",
       "50%     6.000000   3.000000   3.500000   5.000000      0.000000   3.855000   \n",
       "75%    10.750000   4.750000   6.000000   7.750000      0.000000   4.957500   \n",
       "max    36.000000   7.000000  20.000000  39.000000      1.000000  14.610000   \n",
       "\n",
       "              X1         X2  \n",
       "count  18.000000  18.000000  \n",
       "mean   24.388889  17.388889  \n",
       "std    21.155277  14.304006  \n",
       "min     4.000000   3.000000  \n",
       "25%    12.000000   7.000000  \n",
       "50%    17.000000  14.500000  \n",
       "75%    29.750000  22.250000  \n",
       "max    96.000000  57.000000  "
      ]
     },
     "execution_count": 37,
     "metadata": {},
     "output_type": "execute_result"
    }
   ],
   "source": [
    "coins.describe()"
   ]
  },
  {
   "cell_type": "code",
   "execution_count": 38,
   "id": "indie-white",
   "metadata": {},
   "outputs": [],
   "source": [
    "test_data = pd.DataFrame(columns=['Pennies','Nickels','Dimes','Quarters','Dollar coins'])\n",
    "for i in range(20):\n",
    "    p = abs(np.random.normal(loc = 8.94, scale = 8.74))\n",
    "    n = abs(np.random.normal(loc = 3.11, scale = 2.17))\n",
    "    d = abs(np.random.normal(loc = 5.33, scale = 5.55))\n",
    "    q = abs(np.random.normal(loc = 6.94, scale = 8.63))\n",
    "    dc = abs(np.random.normal(loc = 0.06, scale = 0.24))\n",
    "    test_data = test_data.append({'Pennies':int(p),'Nickels':int(n),'Dimes':int(d),'Quarters':int(q),'Dollar coins':int(dc)}, ignore_index=True)"
   ]
  },
  {
   "cell_type": "code",
   "execution_count": 39,
   "id": "vertical-modeling",
   "metadata": {},
   "outputs": [],
   "source": [
    "# Total amount in $\n",
    "test_data.loc[:,'Y'] =  test_data.loc[:,'Pennies'] * 0.01 + test_data.loc[:,'Nickels'] * 0.5 + test_data.loc[:,'Dimes'] * 0.10 + test_data.loc[:,'Quarters'] * 0.25 + test_data.loc[:,'Dollar coins']"
   ]
  },
  {
   "cell_type": "code",
   "execution_count": 40,
   "id": "surface-workstation",
   "metadata": {},
   "outputs": [],
   "source": [
    "# Total number of coins\n",
    "test_data.loc[:,'X1'] =  test_data.loc[:,'Pennies'] + test_data.loc[:,'Nickels'] + test_data.loc[:,'Dimes'] + test_data.loc[:,'Quarters'] + test_data.loc[:,'Dollar coins']"
   ]
  },
  {
   "cell_type": "code",
   "execution_count": 41,
   "id": "paperback-network",
   "metadata": {},
   "outputs": [],
   "source": [
    "# Number of pennies, nickels, and dimes\n",
    "test_data.loc[:,'X2'] =  test_data.loc[:,'Pennies'] + test_data.loc[:,'Nickels'] + test_data.loc[:,'Dimes']"
   ]
  },
  {
   "cell_type": "code",
   "execution_count": 42,
   "id": "described-elimination",
   "metadata": {},
   "outputs": [
    {
     "data": {
      "text/html": [
       "<div>\n",
       "<style scoped>\n",
       "    .dataframe tbody tr th:only-of-type {\n",
       "        vertical-align: middle;\n",
       "    }\n",
       "\n",
       "    .dataframe tbody tr th {\n",
       "        vertical-align: top;\n",
       "    }\n",
       "\n",
       "    .dataframe thead th {\n",
       "        text-align: right;\n",
       "    }\n",
       "</style>\n",
       "<table border=\"1\" class=\"dataframe\">\n",
       "  <thead>\n",
       "    <tr style=\"text-align: right;\">\n",
       "      <th></th>\n",
       "      <th>Pennies</th>\n",
       "      <th>Nickels</th>\n",
       "      <th>Dimes</th>\n",
       "      <th>Quarters</th>\n",
       "      <th>Dollar coins</th>\n",
       "      <th>Y</th>\n",
       "      <th>X1</th>\n",
       "      <th>X2</th>\n",
       "    </tr>\n",
       "  </thead>\n",
       "  <tbody>\n",
       "    <tr>\n",
       "      <th>0</th>\n",
       "      <td>18</td>\n",
       "      <td>2</td>\n",
       "      <td>9</td>\n",
       "      <td>7</td>\n",
       "      <td>0</td>\n",
       "      <td>3.83</td>\n",
       "      <td>36</td>\n",
       "      <td>29</td>\n",
       "    </tr>\n",
       "    <tr>\n",
       "      <th>1</th>\n",
       "      <td>0</td>\n",
       "      <td>1</td>\n",
       "      <td>4</td>\n",
       "      <td>7</td>\n",
       "      <td>0</td>\n",
       "      <td>2.65</td>\n",
       "      <td>12</td>\n",
       "      <td>5</td>\n",
       "    </tr>\n",
       "    <tr>\n",
       "      <th>2</th>\n",
       "      <td>22</td>\n",
       "      <td>1</td>\n",
       "      <td>3</td>\n",
       "      <td>2</td>\n",
       "      <td>0</td>\n",
       "      <td>1.52</td>\n",
       "      <td>28</td>\n",
       "      <td>26</td>\n",
       "    </tr>\n",
       "    <tr>\n",
       "      <th>3</th>\n",
       "      <td>0</td>\n",
       "      <td>2</td>\n",
       "      <td>1</td>\n",
       "      <td>2</td>\n",
       "      <td>0</td>\n",
       "      <td>1.6</td>\n",
       "      <td>5</td>\n",
       "      <td>3</td>\n",
       "    </tr>\n",
       "    <tr>\n",
       "      <th>4</th>\n",
       "      <td>3</td>\n",
       "      <td>1</td>\n",
       "      <td>0</td>\n",
       "      <td>17</td>\n",
       "      <td>0</td>\n",
       "      <td>4.78</td>\n",
       "      <td>21</td>\n",
       "      <td>4</td>\n",
       "    </tr>\n",
       "  </tbody>\n",
       "</table>\n",
       "</div>"
      ],
      "text/plain": [
       "  Pennies Nickels Dimes Quarters Dollar coins     Y  X1  X2\n",
       "0      18       2     9        7            0  3.83  36  29\n",
       "1       0       1     4        7            0  2.65  12   5\n",
       "2      22       1     3        2            0  1.52  28  26\n",
       "3       0       2     1        2            0   1.6   5   3\n",
       "4       3       1     0       17            0  4.78  21   4"
      ]
     },
     "execution_count": 42,
     "metadata": {},
     "output_type": "execute_result"
    }
   ],
   "source": [
    "test_data.head()"
   ]
  },
  {
   "cell_type": "markdown",
   "id": "hollywood-recommendation",
   "metadata": {},
   "source": [
    "### Results\n",
    "\n",
    "The first model was able to predict the monetary value with an MSE of $\\$1.34$"
   ]
  },
  {
   "cell_type": "code",
   "execution_count": 43,
   "id": "interesting-commander",
   "metadata": {},
   "outputs": [],
   "source": [
    "y_test = test_data.loc[:,'Y']"
   ]
  },
  {
   "cell_type": "code",
   "execution_count": 44,
   "id": "outer-florida",
   "metadata": {},
   "outputs": [],
   "source": [
    "X_test = test_data.loc[:,['X1','X2']]"
   ]
  },
  {
   "cell_type": "code",
   "execution_count": 45,
   "id": "integral-adjustment",
   "metadata": {},
   "outputs": [],
   "source": [
    "pred = lm.predict(X_test)"
   ]
  },
  {
   "cell_type": "code",
   "execution_count": 46,
   "id": "acting-bhutan",
   "metadata": {},
   "outputs": [
    {
     "data": {
      "text/plain": [
       "1.3384271609330682"
      ]
     },
     "execution_count": 46,
     "metadata": {},
     "output_type": "execute_result"
    }
   ],
   "source": [
    "mean_squared_error(y_test, pred)"
   ]
  },
  {
   "cell_type": "markdown",
   "id": "structured-boost",
   "metadata": {},
   "source": [
    "The model that included the interaction terms had worse performance with an MSE of $\\$1.91$"
   ]
  },
  {
   "cell_type": "code",
   "execution_count": 47,
   "id": "fifth-stadium",
   "metadata": {},
   "outputs": [],
   "source": [
    "X_test['X1X2'] = X_test['X1'] * X_test['X2']"
   ]
  },
  {
   "cell_type": "code",
   "execution_count": 48,
   "id": "finnish-edgar",
   "metadata": {},
   "outputs": [],
   "source": [
    "pred2 = lm2.predict(X_test)"
   ]
  },
  {
   "cell_type": "code",
   "execution_count": 49,
   "id": "foster-outdoors",
   "metadata": {},
   "outputs": [
    {
     "data": {
      "text/plain": [
       "1.914168054320371"
      ]
     },
     "execution_count": 49,
     "metadata": {},
     "output_type": "execute_result"
    }
   ],
   "source": [
    "mean_squared_error(y_test,pred2)"
   ]
  },
  {
   "cell_type": "markdown",
   "id": "exclusive-intranet",
   "metadata": {},
   "source": [
    "**Problem 3**\n",
    "\n",
    "I decided to complete problem 3 in R since the question specifically references R methods"
   ]
  }
 ],
 "metadata": {
  "kernelspec": {
   "display_name": "Python 3 (ipykernel)",
   "language": "python",
   "name": "python3"
  },
  "language_info": {
   "codemirror_mode": {
    "name": "ipython",
    "version": 3
   },
   "file_extension": ".py",
   "mimetype": "text/x-python",
   "name": "python",
   "nbconvert_exporter": "python",
   "pygments_lexer": "ipython3",
   "version": "3.8.8"
  }
 },
 "nbformat": 4,
 "nbformat_minor": 5
}
