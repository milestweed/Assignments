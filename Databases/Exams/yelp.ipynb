{
 "cells": [
  {
   "cell_type": "markdown",
   "metadata": {},
   "source": [
    "# Question 2"
   ]
  },
  {
   "cell_type": "markdown",
   "metadata": {},
   "source": [
    "#### Imports"
   ]
  },
  {
   "cell_type": "markdown",
   "metadata": {},
   "source": [
    "I downloaded the yelp academic database and, since it was in json format, I decided to use Mongodb to create the database. I began by importing all of the json files into Mongodb. I only used the business collection to answer the question given, so only the business collection import is shown.\n",
    "```\n",
    "(base) [mtweed@aLinMac yelp_dataset]$ mongoimport --db=yelp --collection=business --file=yelp_academic_dataset_business.json \n",
    "2020-12-02T10:58:39.013-0500\tconnected to: mongodb://localhost/\n",
    "2020-12-02T10:58:42.014-0500\t[########................] yelp.business\t52.6MB/146MB (36.1%)\n",
    "2020-12-02T10:58:45.014-0500\t[#################.......] yelp.business\t105MB/146MB (72.2%)\n",
    "2020-12-02T10:58:47.260-0500\t[########################] yelp.business\t146MB/146MB (100.0%)\n",
    "2020-12-02T10:58:47.260-0500\t209393 document(s) imported successfully. 0 document(s) failed to import.\n",
    "```"
   ]
  },
  {
   "cell_type": "code",
   "execution_count": 1,
   "metadata": {},
   "outputs": [],
   "source": [
    "from pymongo import MongoClient, GEOSPHERE \n",
    "from bson.regex import Regex\n",
    "import warnings"
   ]
  },
  {
   "cell_type": "markdown",
   "metadata": {},
   "source": [
    "This line was added to suppress the deprication warnings thrown by cur.count()"
   ]
  },
  {
   "cell_type": "code",
   "execution_count": 2,
   "metadata": {},
   "outputs": [],
   "source": [
    "warnings.simplefilter('ignore')"
   ]
  },
  {
   "cell_type": "markdown",
   "metadata": {},
   "source": [
    "#### DB connection"
   ]
  },
  {
   "cell_type": "code",
   "execution_count": 3,
   "metadata": {},
   "outputs": [],
   "source": [
    "client = MongoClient('localhost',27017)"
   ]
  },
  {
   "cell_type": "code",
   "execution_count": 4,
   "metadata": {},
   "outputs": [],
   "source": [
    "db = client['yelp']"
   ]
  },
  {
   "cell_type": "code",
   "execution_count": 5,
   "metadata": {},
   "outputs": [
    {
     "data": {
      "text/plain": [
       "['user', 'business', 'review', 'checkin', 'tip']"
      ]
     },
     "execution_count": 5,
     "metadata": {},
     "output_type": "execute_result"
    }
   ],
   "source": [
    "db.list_collection_names()"
   ]
  },
  {
   "cell_type": "markdown",
   "metadata": {},
   "source": [
    "#### Example document\n",
    "The following is an example of a document from the business database."
   ]
  },
  {
   "cell_type": "code",
   "execution_count": 6,
   "metadata": {},
   "outputs": [
    {
     "data": {
      "text/plain": [
       "{'_id': ObjectId('5fc832cc2720115715f99c27'),\n",
       " 'business_id': 'f9NumwFMBDn751xgFiRbNA',\n",
       " 'name': 'The Range At Lake Norman',\n",
       " 'address': '10913 Bailey Rd',\n",
       " 'city': 'Cornelius',\n",
       " 'state': 'NC',\n",
       " 'postal_code': '28031',\n",
       " 'latitude': 35.4627242,\n",
       " 'longitude': -80.8526119,\n",
       " 'stars': 3.5,\n",
       " 'review_count': 36,\n",
       " 'is_open': 1,\n",
       " 'attributes': {'BusinessAcceptsCreditCards': 'True',\n",
       "  'BikeParking': 'True',\n",
       "  'GoodForKids': 'False',\n",
       "  'BusinessParking': \"{'garage': False, 'street': False, 'validated': False, 'lot': True, 'valet': False}\",\n",
       "  'ByAppointmentOnly': 'False',\n",
       "  'RestaurantsPriceRange2': '3'},\n",
       " 'categories': 'Active Life, Gun/Rifle Ranges, Guns & Ammo, Shopping',\n",
       " 'hours': {'Monday': '10:0-18:0',\n",
       "  'Tuesday': '11:0-20:0',\n",
       "  'Wednesday': '10:0-18:0',\n",
       "  'Thursday': '11:0-20:0',\n",
       "  'Friday': '11:0-20:0',\n",
       "  'Saturday': '11:0-20:0',\n",
       "  'Sunday': '13:0-18:0'}}"
      ]
     },
     "execution_count": 6,
     "metadata": {},
     "output_type": "execute_result"
    }
   ],
   "source": [
    "db.business.find_one()"
   ]
  },
  {
   "cell_type": "markdown",
   "metadata": {},
   "source": [
    "## Create a GEOjson object from lat and lng"
   ]
  },
  {
   "cell_type": "markdown",
   "metadata": {},
   "source": [
    "The original dataset uses simple coordinate pairs.  I wish to use the geospatial query tools of mongodb, so I first created a GEOjson object out of the simple coordinates"
   ]
  },
  {
   "cell_type": "code",
   "execution_count": 7,
   "metadata": {},
   "outputs": [],
   "source": [
    "cur = db.business.find({})\n",
    "\n",
    "for i in range(cur.count()):\n",
    "    nxt = cur.next()\n",
    "    _id = nxt['_id']\n",
    "    lat = nxt['latitude']\n",
    "    lng = nxt['longitude']\n",
    "    \n",
    "    db.business.update_one({'_id':_id},{'$set': {'location': {'type': 'Point',\n",
    "                                                              'coordinates': [lng, lat]}}})"
   ]
  },
  {
   "cell_type": "code",
   "execution_count": 8,
   "metadata": {},
   "outputs": [
    {
     "data": {
      "text/plain": [
       "{'_id': ObjectId('5fc832cc2720115715f99c27'),\n",
       " 'business_id': 'f9NumwFMBDn751xgFiRbNA',\n",
       " 'name': 'The Range At Lake Norman',\n",
       " 'address': '10913 Bailey Rd',\n",
       " 'city': 'Cornelius',\n",
       " 'state': 'NC',\n",
       " 'postal_code': '28031',\n",
       " 'latitude': 35.4627242,\n",
       " 'longitude': -80.8526119,\n",
       " 'stars': 3.5,\n",
       " 'review_count': 36,\n",
       " 'is_open': 1,\n",
       " 'attributes': {'BusinessAcceptsCreditCards': 'True',\n",
       "  'BikeParking': 'True',\n",
       "  'GoodForKids': 'False',\n",
       "  'BusinessParking': \"{'garage': False, 'street': False, 'validated': False, 'lot': True, 'valet': False}\",\n",
       "  'ByAppointmentOnly': 'False',\n",
       "  'RestaurantsPriceRange2': '3'},\n",
       " 'categories': 'Active Life, Gun/Rifle Ranges, Guns & Ammo, Shopping',\n",
       " 'hours': {'Monday': '10:0-18:0',\n",
       "  'Tuesday': '11:0-20:0',\n",
       "  'Wednesday': '10:0-18:0',\n",
       "  'Thursday': '11:0-20:0',\n",
       "  'Friday': '11:0-20:0',\n",
       "  'Saturday': '11:0-20:0',\n",
       "  'Sunday': '13:0-18:0'},\n",
       " 'location': {'type': 'Point', 'coordinates': [-80.8526119, 35.4627242]}}"
      ]
     },
     "execution_count": 8,
     "metadata": {},
     "output_type": "execute_result"
    }
   ],
   "source": [
    "db.business.find_one()"
   ]
  },
  {
   "cell_type": "markdown",
   "metadata": {},
   "source": [
    "## Create a geosphere index on location\n",
    "\n",
    "Now that the documents have a GEOjson object I created an index on the location field as well as indexes on the 'name' and 'categories'.  All of these attributes will be used for search later on."
   ]
  },
  {
   "cell_type": "code",
   "execution_count": 9,
   "metadata": {},
   "outputs": [
    {
     "data": {
      "text/plain": [
       "'location_2dsphere'"
      ]
     },
     "execution_count": 9,
     "metadata": {},
     "output_type": "execute_result"
    }
   ],
   "source": [
    "db.business.create_index([('location', GEOSPHERE)])"
   ]
  },
  {
   "cell_type": "code",
   "execution_count": 10,
   "metadata": {},
   "outputs": [
    {
     "data": {
      "text/plain": [
       "'name_1'"
      ]
     },
     "execution_count": 10,
     "metadata": {},
     "output_type": "execute_result"
    }
   ],
   "source": [
    "db.business.create_index('name')"
   ]
  },
  {
   "cell_type": "code",
   "execution_count": 11,
   "metadata": {},
   "outputs": [
    {
     "data": {
      "text/plain": [
       "'categories_1'"
      ]
     },
     "execution_count": 11,
     "metadata": {},
     "output_type": "execute_result"
    }
   ],
   "source": [
    "db.business.create_index('categories')"
   ]
  },
  {
   "cell_type": "markdown",
   "metadata": {},
   "source": [
    "# User Interface\n",
    "\n",
    "This example user interface performs the query specified in the question."
   ]
  },
  {
   "cell_type": "code",
   "execution_count": 12,
   "metadata": {},
   "outputs": [],
   "source": [
    "def UI():\n",
    "    print('********** Business finder **********\\n')\n",
    "    \n",
    "    # This while loop takes in the user input and ensures that it is correct\n",
    "    # It creates the variable that are used in the final search\n",
    "    while True: \n",
    "        bus = input('Enter a business name: ') \n",
    "        t = input('Enter the type of a second business: ')\n",
    "        d = float(input('Enter the maximum distance in miles: '))\n",
    "\n",
    "        cur = db.business.find( {'name': Regex(bus, flags='i')}, \n",
    "                               {'name':1, 'address':1, \n",
    "                                'city':1, 'state':1, 'location':1} )\n",
    "        res = cur.count()\n",
    "        if res == 0:\n",
    "            print('\\n!!!No businesses were found with that name!!!\\n')\n",
    "            continue\n",
    "        if res == 1:\n",
    "            temp = cur.next()\n",
    "            _id = temp['_id']\n",
    "            name = temp['name']\n",
    "            address = temp['address']\n",
    "            city = temp['city']\n",
    "            state = temp['state']\n",
    "            location = temp['location']\n",
    "            print('\\nOne business found:\\n',name,'\\n',address,'\\n',city,'\\n',state,'\\n')\n",
    "            cor = input('Is this correct? [y/n]:').lower()\n",
    "            if cor == 'y':\n",
    "                break\n",
    "            else:\n",
    "                print('\\nWe cound not find the requested business.')\n",
    "                continue\n",
    "        if res > 1:\n",
    "            temps = [cur.next() for x in range(res)]\n",
    "            print(f'\\n\\n{res} businesses found matching that name.\\n')\n",
    "            for n in range(len(temps)):\n",
    "                print('*****************************')\n",
    "                print(f'{n+1}) ',\n",
    "                      temps[n]['name'],'\\n   ',\n",
    "                      temps[n]['address'],'\\n   ',\n",
    "                      temps[n]['city'],'\\n   ',\n",
    "                      temps[n]['state'],'\\n')\n",
    "                \n",
    "                # \n",
    "                con = input('\\n\\nPress enter for more or enter s to select a number: ')\n",
    "                if con == 's':\n",
    "                    break\n",
    "                else:\n",
    "                    continue\n",
    "            while True:\n",
    "                try:\n",
    "                    cor = int(input('\\nEnter the number of the correct business or 0: '))\n",
    "                    break\n",
    "                except:\n",
    "                    print('Invalid input.')\n",
    "                    continue\n",
    "            if cor == 0:\n",
    "                print('\\nWe cound not find the requested business.')\n",
    "                continue\n",
    "            else:\n",
    "                name = temps[cor-1]['name']\n",
    "                location = temps[cor-1]['location']\n",
    "                break\n",
    "                \n",
    "    # The $nearsphere query is measured in meters so this conversion into miles is necessary\n",
    "    METERS_PER_MILE = 1609.34\n",
    "    \n",
    "    # Final search\n",
    "    cur = db.business.find({ 'location': \n",
    "                            { '$nearSphere': \n",
    "                             { '$geometry': location, '$maxDistance': d * METERS_PER_MILE } }, \n",
    "                            'categories': Regex(t, flags='i') }, \n",
    "                          {'name':1, 'address':1,'city':1,'state':1,'categories':1})\n",
    "    \n",
    "    \n",
    "    # This prints out the results one by one until the user is satisfied.\n",
    "    # The $nearSphere query returns the results with increasing distance from location\n",
    "    res = cur.count()\n",
    "    temp = [cur.next() for n in range(res)]\n",
    "    print(f'\\n\\nThe following are the closest businesses to {name}\\n',\n",
    "          'of the specified type. (increasing distance)\\n')\n",
    "    for n in range(len(temp)):\n",
    "        nxt = temp[n]\n",
    "        if temp[n]['name'] == name:\n",
    "            continue\n",
    "        else:\n",
    "            print('*************************')\n",
    "            print(temp[n]['name'],'\\n',\n",
    "                  temp[n]['address'],'\\n',\n",
    "                  temp[n]['city'],'\\n',\n",
    "                  temp[n]['state'],'\\n',\n",
    "                  temp[n]['categories'],'\\n')\n",
    "        con = input('\\nPress enter for more or enter q to quit: ')\n",
    "        if con == 'q':\n",
    "            break\n",
    "        else:\n",
    "            continue\n"
   ]
  },
  {
   "cell_type": "markdown",
   "metadata": {},
   "source": [
    "# Answer\n",
    "\n",
    "The following shows the answers the query for hospitals around the business Big Chicken."
   ]
  },
  {
   "cell_type": "code",
   "execution_count": 13,
   "metadata": {
    "scrolled": false
   },
   "outputs": [
    {
     "name": "stdout",
     "output_type": "stream",
     "text": [
      "********** Business finder **********\n",
      "\n",
      "Enter a business name: big chicken\n",
      "Enter the type of a second business: hospital\n",
      "Enter the maximum distance in miles: 5\n",
      "\n",
      "One business found:\n",
      " Big Chicken \n",
      " 4480 Paradise Rd, Ste 1200 \n",
      " Las Vegas \n",
      " NV \n",
      "\n",
      "Is this correct? [y/n]:y\n",
      "\n",
      "\n",
      "The following are the closest businesses to Big Chicken\n",
      " of the specified type. (increasing distance)\n",
      "\n",
      "*************************\n",
      "Paradise Pet Hospital \n",
      " 1060 E Flamingo Rd \n",
      " Las Vegas \n",
      " NV \n",
      " Pet Services, Pet Boarding, Pet Sitting, Pets, Pet Groomers, Emergency Pet Hospital, Veterinarians \n",
      "\n",
      "\n",
      "Press enter for more or enter q to quit: \n",
      "*************************\n",
      "Elite Medical Center \n",
      " 150 E Harmon Ave \n",
      " Las Vegas \n",
      " NV \n",
      " Health & Medical, Hospitals, Emergency Rooms, Medical Centers, Doctors \n",
      "\n",
      "\n",
      "Press enter for more or enter q to quit: \n",
      "*************************\n",
      "Desert Springs Hospital Medical Center \n",
      " 2075 E Flamingo Rd \n",
      " Las Vegas \n",
      " NV \n",
      " Health & Medical, Medical Centers, Doctors, Hospitals \n",
      "\n",
      "\n",
      "Press enter for more or enter q to quit: \n",
      "*************************\n",
      "Harmon Medical & Rehabilitation Hospital \n",
      " 2170 E Harmon Ave \n",
      " Las Vegas \n",
      " NV \n",
      " Hospitals, Physical Therapy, Health & Medical, Doctors \n",
      "\n",
      "\n",
      "Press enter for more or enter q to quit: q\n"
     ]
    }
   ],
   "source": [
    "UI()"
   ]
  },
  {
   "cell_type": "markdown",
   "metadata": {},
   "source": [
    "### Exploration queries\n",
    "\n",
    "I performed some other queries to explore the function."
   ]
  },
  {
   "cell_type": "code",
   "execution_count": 14,
   "metadata": {},
   "outputs": [
    {
     "name": "stdout",
     "output_type": "stream",
     "text": [
      "********** Business finder **********\n",
      "\n",
      "Enter a business name: taco\n",
      "Enter the type of a second business: car wash\n",
      "Enter the maximum distance in miles: 2\n",
      "\n",
      "\n",
      "1153 businesses found matching that name.\n",
      "\n",
      "*****************************\n",
      "1)  202 Hometown Tacos \n",
      "    407 Lincoln Ave \n",
      "    Bellevue \n",
      "    PA \n",
      "\n",
      "\n",
      "\n",
      "Press enter for more or enter s to select a number: \n",
      "*****************************\n",
      "2)  3 Amigos Taco Express \n",
      "    2263 Kresge Dr \n",
      "    Amherst \n",
      "    OH \n",
      "\n",
      "\n",
      "\n",
      "Press enter for more or enter s to select a number: \n",
      "*****************************\n",
      "3)  911 Taco Bar \n",
      "     \n",
      "    Las Vegas \n",
      "    NV \n",
      "\n",
      "\n",
      "\n",
      "Press enter for more or enter s to select a number: s\n",
      "\n",
      "Enter the number of the correct business or 0: 2\n",
      "\n",
      "\n",
      "The following are the closest businesses to 3 Amigos Taco Express\n",
      " of the specified type. (increasing distance)\n",
      "\n",
      "*************************\n",
      "24 Hour Laser Wash \n",
      " 612 N Leavitt Rd \n",
      " Amherst \n",
      " OH \n",
      " Car Wash, Auto Repair, Automotive \n",
      "\n",
      "\n",
      "Press enter for more or enter q to quit: \n"
     ]
    }
   ],
   "source": [
    "UI()"
   ]
  },
  {
   "cell_type": "code",
   "execution_count": 16,
   "metadata": {
    "scrolled": false
   },
   "outputs": [
    {
     "name": "stdout",
     "output_type": "stream",
     "text": [
      "********** Business finder **********\n",
      "\n",
      "Enter a business name: luxor\n",
      "Enter the type of a second business: fast food\n",
      "Enter the maximum distance in miles: 4\n",
      "\n",
      "\n",
      "16 businesses found matching that name.\n",
      "\n",
      "*****************************\n",
      "1)  Blue Man Theatre At Luxor \n",
      "    3770 S Las Vegas Blvd \n",
      "    Las Vegas \n",
      "    NV \n",
      "\n",
      "\n",
      "\n",
      "Press enter for more or enter s to select a number: \n",
      "*****************************\n",
      "2)  Johnny Rockets - Luxor \n",
      "    3900 S Las Vegas Blvd \n",
      "    Las Vegas \n",
      "    NV \n",
      "\n",
      "\n",
      "\n",
      "Press enter for more or enter s to select a number: \n",
      "*****************************\n",
      "3)  Luxor Auto Group \n",
      "    909 W Main St \n",
      "    Mesa \n",
      "    AZ \n",
      "\n",
      "\n",
      "\n",
      "Press enter for more or enter s to select a number: \n",
      "*****************************\n",
      "4)  Luxor Auto Group \n",
      "    3220 N Scottsdale Rd \n",
      "    Scottsdale \n",
      "    AZ \n",
      "\n",
      "\n",
      "\n",
      "Press enter for more or enter s to select a number: \n",
      "*****************************\n",
      "5)  Luxor Cooling and Heating \n",
      "    3336 E Clifton Ave \n",
      "    Gilbert \n",
      "    AZ \n",
      "\n",
      "\n",
      "\n",
      "Press enter for more or enter s to select a number: \n",
      "*****************************\n",
      "6)  Luxor Emporium Cafe \n",
      "    937 7 Avenue SW \n",
      "    Calgary \n",
      "    AB \n",
      "\n",
      "\n",
      "\n",
      "Press enter for more or enter s to select a number: \n",
      "*****************************\n",
      "7)  Luxor Fitness Center \n",
      "    3850 South Las Vegas Blvd \n",
      "    Las Vegas \n",
      "    NV \n",
      "\n",
      "\n",
      "\n",
      "Press enter for more or enter s to select a number: \n",
      "*****************************\n",
      "8)  Luxor Hotel and Casino Las Vegas \n",
      "    3900 Las Vegas Blvd S \n",
      "    Las Vegas \n",
      "    NV \n",
      "\n",
      "\n",
      "\n",
      "Press enter for more or enter s to select a number: s\n",
      "\n",
      "Enter the number of the correct business or 0: 8\n",
      "\n",
      "\n",
      "The following are the closest businesses to Luxor Hotel and Casino Las Vegas\n",
      " of the specified type. (increasing distance)\n",
      "\n",
      "*************************\n",
      "Bonanno's New York Pizzeria \n",
      " 3900 Las Vegas Blvd S \n",
      " Las Vegas \n",
      " NV \n",
      " Food, Pizza, Beer Bar, Italian, Nightlife, Restaurants, Bars, Fast Food \n",
      "\n",
      "\n",
      "Press enter for more or enter q to quit: \n",
      "*************************\n",
      "McDonald's \n",
      " 3850 Las Vegas Blvd S \n",
      " Las Vegas \n",
      " NV \n",
      " Restaurants, Fast Food, Burgers \n",
      "\n",
      "\n",
      "Press enter for more or enter q to quit: \n",
      "*************************\n",
      "Hot Dog On A Stick \n",
      " 3850 Las Vegas Blvd S \n",
      " Las Vegas \n",
      " NV \n",
      " Food, Hot Dogs, Fast Food, Restaurants \n",
      "\n",
      "\n",
      "Press enter for more or enter q to quit: q\n"
     ]
    }
   ],
   "source": [
    "UI()"
   ]
  },
  {
   "cell_type": "code",
   "execution_count": 17,
   "metadata": {},
   "outputs": [],
   "source": [
    "client.close()"
   ]
  },
  {
   "cell_type": "markdown",
   "metadata": {},
   "source": [
    "### Moving forward"
   ]
  },
  {
   "cell_type": "markdown",
   "metadata": {},
   "source": [
    "To achieve the desired outcome, this implementaion would have to be integrated into a web app, Furthermore, I used regex to match partial string and it handles case sensitivity well but it is only able to match properly spelled and ordered partial strings. It would be important to improve the fuzzy/partial string matching aspect but, according to my research, Mongo DB is ineffective at this task. Also, it would have to be determined whether or not this implementation is adequate since the initial search returned veterinary hospitals along with human hospitals."
   ]
  }
 ],
 "metadata": {
  "kernelspec": {
   "display_name": "Python 3",
   "language": "python",
   "name": "python3"
  },
  "language_info": {
   "codemirror_mode": {
    "name": "ipython",
    "version": 3
   },
   "file_extension": ".py",
   "mimetype": "text/x-python",
   "name": "python",
   "nbconvert_exporter": "python",
   "pygments_lexer": "ipython3",
   "version": "3.8.3"
  }
 },
 "nbformat": 4,
 "nbformat_minor": 4
}
