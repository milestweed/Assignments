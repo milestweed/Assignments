{
 "cells": [
  {
   "cell_type": "markdown",
   "metadata": {},
   "source": [
    "# Question 1"
   ]
  },
  {
   "cell_type": "markdown",
   "metadata": {},
   "source": [
    "#### Imports"
   ]
  },
  {
   "cell_type": "code",
   "execution_count": 24,
   "metadata": {},
   "outputs": [],
   "source": [
    "import pandas as pd\n",
    "from pymongo import MongoClient\n",
    "import numpy as np\n",
    "import warnings"
   ]
  },
  {
   "cell_type": "markdown",
   "metadata": {},
   "source": [
    "This line is used to suppress the deprication warning thrown by cursor.count()"
   ]
  },
  {
   "cell_type": "code",
   "execution_count": 25,
   "metadata": {},
   "outputs": [],
   "source": [
    "warnings.simplefilter('ignore')"
   ]
  },
  {
   "cell_type": "markdown",
   "metadata": {},
   "source": [
    "#### DB connection"
   ]
  },
  {
   "cell_type": "code",
   "execution_count": 2,
   "metadata": {},
   "outputs": [],
   "source": [
    "client = MongoClient('localhost', 27017)"
   ]
  },
  {
   "cell_type": "code",
   "execution_count": 3,
   "metadata": {},
   "outputs": [],
   "source": [
    "db = client['book']"
   ]
  },
  {
   "cell_type": "markdown",
   "metadata": {},
   "source": [
    "#### Phones and country data from book database on cs1\n",
    "\n",
    "I originally found and exported a collection called phones from a database called book on cs1.  This collection contained 100000 phone numbers. I imported this collection into my own book database as phoneOrig and then I imported the countries.json file from cs1. "
   ]
  },
  {
   "cell_type": "code",
   "execution_count": 10,
   "metadata": {},
   "outputs": [
    {
     "data": {
      "text/plain": [
       "['phoneOrig', 'countries']"
      ]
     },
     "execution_count": 10,
     "metadata": {},
     "output_type": "execute_result"
    }
   ],
   "source": [
    "db.list_collection_names()"
   ]
  },
  {
   "cell_type": "markdown",
   "metadata": {},
   "source": [
    "#### Exploration of phones and countries"
   ]
  },
  {
   "cell_type": "code",
   "execution_count": 11,
   "metadata": {},
   "outputs": [
    {
     "data": {
      "text/plain": [
       "{'_id': 78005550007.0,\n",
       " 'components': {'country': 7.0,\n",
       "  'area': 800.0,\n",
       "  'prefix': 555.0,\n",
       "  'number': 5550007.0},\n",
       " 'display': '+7 800-5550007'}"
      ]
     },
     "execution_count": 11,
     "metadata": {},
     "output_type": "execute_result"
    }
   ],
   "source": [
    "db.phoneOrig.find_one()"
   ]
  },
  {
   "cell_type": "markdown",
   "metadata": {},
   "source": [
    "This will display the maximum value of of the country code."
   ]
  },
  {
   "cell_type": "code",
   "execution_count": 22,
   "metadata": {},
   "outputs": [
    {
     "data": {
      "text/plain": [
       "{'_id': 88005550030.0,\n",
       " 'components': {'country': 8.0,\n",
       "  'area': 800.0,\n",
       "  'prefix': 555.0,\n",
       "  'number': 5550030.0},\n",
       " 'display': '+8 800-5550030'}"
      ]
     },
     "execution_count": 22,
     "metadata": {},
     "output_type": "execute_result"
    }
   ],
   "source": [
    "cur = db.phoneOrig.aggregate([{'$sort':{'components.country':-1}}])\n",
    "cur.next()"
   ]
  },
  {
   "cell_type": "markdown",
   "metadata": {},
   "source": [
    "This will display the minimum value of the country code."
   ]
  },
  {
   "cell_type": "code",
   "execution_count": 23,
   "metadata": {},
   "outputs": [
    {
     "data": {
      "text/plain": [
       "{'_id': 18005550018.0,\n",
       " 'components': {'country': 1.0,\n",
       "  'area': 800.0,\n",
       "  'prefix': 555.0,\n",
       "  'number': 5550018.0},\n",
       " 'display': '+1 800-5550018'}"
      ]
     },
     "execution_count": 23,
     "metadata": {},
     "output_type": "execute_result"
    }
   ],
   "source": [
    "cur = db.phoneOrig.aggregate([{'$sort':{'components.country':1}}])\n",
    "cur.next()"
   ]
  },
  {
   "cell_type": "markdown",
   "metadata": {},
   "source": [
    "### Country Document Example\n",
    "Each country document contains an attribute 'callingCode' which I plan to use for matching to the country code for each phone number. I will have to deal with the fact that there are sometimes multiple codes and that they are in string format.  "
   ]
  },
  {
   "cell_type": "code",
   "execution_count": 37,
   "metadata": {},
   "outputs": [
    {
     "data": {
      "text/plain": [
       "{'_id': ObjectId('5fc70731d65a4788957605b4'),\n",
       " 'name': {'common': 'Anguilla',\n",
       "  'official': 'Anguilla',\n",
       "  'native': {'eng': {'official': 'Anguilla', 'common': 'Anguilla'}}},\n",
       " 'tld': ['.ai'],\n",
       " 'cca2': 'AI',\n",
       " 'ccn3': '660',\n",
       " 'cca3': 'AIA',\n",
       " 'cioc': '',\n",
       " 'currency': ['XCD'],\n",
       " 'callingCode': ['1264'],\n",
       " 'capital': 'The Valley',\n",
       " 'altSpellings': ['AI'],\n",
       " 'region': 'Americas',\n",
       " 'subregion': 'Caribbean',\n",
       " 'languages': {'eng': 'English'},\n",
       " 'translations': {'deu': {'official': 'Anguilla', 'common': 'Anguilla'},\n",
       "  'fra': {'official': 'Anguilla', 'common': 'Anguilla'},\n",
       "  'hrv': {'official': 'Anguilla', 'common': 'Angvila'},\n",
       "  'ita': {'official': 'Anguilla', 'common': 'Anguilla'},\n",
       "  'jpn': {'official': 'アングィラ', 'common': 'アンギラ'},\n",
       "  'nld': {'official': 'Anguilla', 'common': 'Anguilla'},\n",
       "  'por': {'official': 'Anguilla', 'common': 'Anguilla'},\n",
       "  'rus': {'official': 'Ангилья', 'common': 'Ангилья'},\n",
       "  'spa': {'official': 'Anguila', 'common': 'Anguilla'},\n",
       "  'svk': {'official': 'Anguilla', 'common': 'Anguilla'},\n",
       "  'fin': {'official': 'Anguilla', 'common': 'Anguilla'},\n",
       "  'zho': {'official': '安圭拉', 'common': '安圭拉'}},\n",
       " 'latlng': [18.25, -63.16666666],\n",
       " 'demonym': 'Anguillian',\n",
       " 'landlocked': False,\n",
       " 'borders': [],\n",
       " 'area': 91}"
      ]
     },
     "execution_count": 37,
     "metadata": {},
     "output_type": "execute_result"
    }
   ],
   "source": [
    "db.countries.find_one()"
   ]
  },
  {
   "cell_type": "markdown",
   "metadata": {},
   "source": [
    "Since the country codes are between 1 and 8 I decided to see how many countries I could match these phone numbers to. "
   ]
  },
  {
   "cell_type": "code",
   "execution_count": 32,
   "metadata": {},
   "outputs": [
    {
     "data": {
      "text/plain": [
       "3"
      ]
     },
     "execution_count": 32,
     "metadata": {},
     "output_type": "execute_result"
    }
   ],
   "source": [
    "cur = db.countries.find({'callingCode': \n",
    "                         {'$elemMatch': \n",
    "                          {'$in': ['1','2','3','4','5','6','7','8']}}},\n",
    "                        {'name.common':1, 'callingCode':1, 'ccn3':1})\n",
    "cur.count()"
   ]
  },
  {
   "cell_type": "markdown",
   "metadata": {},
   "source": [
    "The countries with calling codes in this range are Canada, Russia, and the United States. Furthermore, the calling code for Canada and the US are both 1. I would like to be able to use some other information such as the field 'ccn3' to differentiate these."
   ]
  },
  {
   "cell_type": "code",
   "execution_count": 33,
   "metadata": {},
   "outputs": [
    {
     "data": {
      "text/plain": [
       "{'_id': ObjectId('5fc70731d65a4788957605d3'),\n",
       " 'name': {'common': 'Canada'},\n",
       " 'ccn3': '124',\n",
       " 'callingCode': ['1']}"
      ]
     },
     "execution_count": 33,
     "metadata": {},
     "output_type": "execute_result"
    }
   ],
   "source": [
    "cur.next()"
   ]
  },
  {
   "cell_type": "code",
   "execution_count": 34,
   "metadata": {},
   "outputs": [
    {
     "data": {
      "text/plain": [
       "{'_id': ObjectId('5fc70731d65a478895760689'),\n",
       " 'name': {'common': 'Russia'},\n",
       " 'ccn3': '643',\n",
       " 'callingCode': ['7']}"
      ]
     },
     "execution_count": 34,
     "metadata": {},
     "output_type": "execute_result"
    }
   ],
   "source": [
    "cur.next()"
   ]
  },
  {
   "cell_type": "code",
   "execution_count": 35,
   "metadata": {},
   "outputs": [
    {
     "data": {
      "text/plain": [
       "{'_id': ObjectId('5fc70731d65a4788957606aa'),\n",
       " 'name': {'common': 'United States'},\n",
       " 'ccn3': '840',\n",
       " 'callingCode': ['1']}"
      ]
     },
     "execution_count": 35,
     "metadata": {},
     "output_type": "execute_result"
    }
   ],
   "source": [
    "cur.next()"
   ]
  },
  {
   "cell_type": "markdown",
   "metadata": {},
   "source": [
    "I queried the data to see if the area code could be used to differentiate the numbers, but every area code is 800."
   ]
  },
  {
   "cell_type": "code",
   "execution_count": 62,
   "metadata": {},
   "outputs": [
    {
     "data": {
      "text/plain": [
       "0"
      ]
     },
     "execution_count": 62,
     "metadata": {},
     "output_type": "execute_result"
    }
   ],
   "source": [
    "db.phoneOrig.find({'components.area': {'$ne':800}}).count()"
   ]
  },
  {
   "cell_type": "markdown",
   "metadata": {},
   "source": [
    "I decided that instead of only matching a selection of these numbers I would create a dataset that could be matched fully."
   ]
  },
  {
   "cell_type": "markdown",
   "metadata": {},
   "source": [
    "# Populate phone info"
   ]
  },
  {
   "cell_type": "markdown",
   "metadata": {},
   "source": [
    "This function takes in some country data and makes many consecutive phone number documents.  I decided to use the 'ccn3' field to populate the area code. I had to add a default condition (800) because there was a country that was missing this code."
   ]
  },
  {
   "cell_type": "code",
   "execution_count": 63,
   "metadata": {},
   "outputs": [],
   "source": [
    "def populatePhones(nxt, start, stop):\n",
    "    for code in nxt['callingCode']:\n",
    "        country = int(code)\n",
    "        try:\n",
    "            area = int(nxt['ccn3'])\n",
    "        except:\n",
    "            area = 800\n",
    "            \n",
    "        for i in range(start, stop + 1):\n",
    "            num = (country * 1e10) + (area * 1e7) + i;\n",
    "\n",
    "            db.phones.insert_one({\n",
    "              'components': {\n",
    "                'country': country,\n",
    "                'area': area,\n",
    "                'prefix': int((i * 1e-3)),\n",
    "                'number': i\n",
    "              },\n",
    "              'display': \"+\" + str(country) + \" \" + str(area) + \"-\" + str(i)\n",
    "            })"
   ]
  },
  {
   "cell_type": "markdown",
   "metadata": {},
   "source": [
    "The only fields required for the function are 'callingCode' and 'ccn3'."
   ]
  },
  {
   "cell_type": "code",
   "execution_count": 64,
   "metadata": {},
   "outputs": [],
   "source": [
    "cur = db.countries.find({},{'callingCode':1, 'ccn3':1})"
   ]
  },
  {
   "cell_type": "code",
   "execution_count": 65,
   "metadata": {},
   "outputs": [],
   "source": [
    "for i in range(cur.count()):\n",
    "    nxt = cur.next()\n",
    "    populatePhones(nxt,500000,500500)"
   ]
  },
  {
   "cell_type": "markdown",
   "metadata": {},
   "source": [
    "### Example of new phones data"
   ]
  },
  {
   "cell_type": "code",
   "execution_count": 66,
   "metadata": {},
   "outputs": [
    {
     "data": {
      "text/plain": [
       "{'_id': ObjectId('5fc904886a0ddd82a7728ad9'),\n",
       " 'components': {'country': 1264, 'area': 660, 'prefix': 500, 'number': 500000},\n",
       " 'display': '+1264 660-500000'}"
      ]
     },
     "execution_count": 66,
     "metadata": {},
     "output_type": "execute_result"
    }
   ],
   "source": [
    "db.phones.find_one()"
   ]
  },
  {
   "cell_type": "markdown",
   "metadata": {},
   "source": [
    "I will expect the number of documents in the new collection with country info to match the number in the phones collection."
   ]
  },
  {
   "cell_type": "code",
   "execution_count": 67,
   "metadata": {},
   "outputs": [
    {
     "data": {
      "text/plain": [
       "124248"
      ]
     },
     "execution_count": 67,
     "metadata": {},
     "output_type": "execute_result"
    }
   ],
   "source": [
    "db.phones.count_documents({})"
   ]
  },
  {
   "cell_type": "code",
   "execution_count": 68,
   "metadata": {},
   "outputs": [
    {
     "data": {
      "text/plain": [
       "['phones', 'phoneOrig', 'countries']"
      ]
     },
     "execution_count": 68,
     "metadata": {},
     "output_type": "execute_result"
    }
   ],
   "source": [
    "db.list_collection_names()"
   ]
  },
  {
   "cell_type": "markdown",
   "metadata": {},
   "source": [
    "### Matching countries and populating a new collection"
   ]
  },
  {
   "cell_type": "markdown",
   "metadata": {},
   "source": [
    "This will run through the countries collection and match the phone numbers. I chose to combine the data in python before inserting it into the news phoneInfo collection.  I did this because everything could be done in one step but I could have also used \\\\$update and \\\\$set to perform this action in several steps."
   ]
  },
  {
   "cell_type": "code",
   "execution_count": 69,
   "metadata": {},
   "outputs": [],
   "source": [
    "cur1 = db.countries.find({},{'_id':0})"
   ]
  },
  {
   "cell_type": "code",
   "execution_count": 70,
   "metadata": {},
   "outputs": [],
   "source": [
    "for i in range(cur1.count()):\n",
    "    country = cur1.next()\n",
    "    codes = country['callingCode']\n",
    "    try:\n",
    "        area = int(country['ccn3'])\n",
    "    except:\n",
    "        area = 800\n",
    "    \n",
    "    for code in codes:\n",
    "        code = int(code)\n",
    "        cur2 = db.phones.find({'components.country':code,\n",
    "                               'components.area':area},\n",
    "                              {'_id':0})\n",
    "        for j in range(cur2.count()):\n",
    "            phone = cur2.next()\n",
    "            phone['countryInfo'] = country\n",
    "            db.phoneInfo.insert_one(phone)"
   ]
  },
  {
   "cell_type": "code",
   "execution_count": 71,
   "metadata": {
    "scrolled": true
   },
   "outputs": [
    {
     "data": {
      "text/plain": [
       "['phones', 'phoneOrig', 'phoneInfo', 'countries']"
      ]
     },
     "execution_count": 71,
     "metadata": {},
     "output_type": "execute_result"
    }
   ],
   "source": [
    "db.list_collection_names()"
   ]
  },
  {
   "cell_type": "markdown",
   "metadata": {},
   "source": [
    "The new collection contains a phone number and all of the country information."
   ]
  },
  {
   "cell_type": "code",
   "execution_count": 72,
   "metadata": {
    "scrolled": false
   },
   "outputs": [
    {
     "data": {
      "text/plain": [
       "{'_id': ObjectId('5fc907966a0ddd82a7747031'),\n",
       " 'components': {'country': 1264, 'area': 660, 'prefix': 500, 'number': 500000},\n",
       " 'display': '+1264 660-500000',\n",
       " 'countryInfo': {'name': {'common': 'Anguilla',\n",
       "   'official': 'Anguilla',\n",
       "   'native': {'eng': {'official': 'Anguilla', 'common': 'Anguilla'}}},\n",
       "  'tld': ['.ai'],\n",
       "  'cca2': 'AI',\n",
       "  'ccn3': '660',\n",
       "  'cca3': 'AIA',\n",
       "  'cioc': '',\n",
       "  'currency': ['XCD'],\n",
       "  'callingCode': ['1264'],\n",
       "  'capital': 'The Valley',\n",
       "  'altSpellings': ['AI'],\n",
       "  'region': 'Americas',\n",
       "  'subregion': 'Caribbean',\n",
       "  'languages': {'eng': 'English'},\n",
       "  'translations': {'deu': {'official': 'Anguilla', 'common': 'Anguilla'},\n",
       "   'fra': {'official': 'Anguilla', 'common': 'Anguilla'},\n",
       "   'hrv': {'official': 'Anguilla', 'common': 'Angvila'},\n",
       "   'ita': {'official': 'Anguilla', 'common': 'Anguilla'},\n",
       "   'jpn': {'official': 'アングィラ', 'common': 'アンギラ'},\n",
       "   'nld': {'official': 'Anguilla', 'common': 'Anguilla'},\n",
       "   'por': {'official': 'Anguilla', 'common': 'Anguilla'},\n",
       "   'rus': {'official': 'Ангилья', 'common': 'Ангилья'},\n",
       "   'spa': {'official': 'Anguila', 'common': 'Anguilla'},\n",
       "   'svk': {'official': 'Anguilla', 'common': 'Anguilla'},\n",
       "   'fin': {'official': 'Anguilla', 'common': 'Anguilla'},\n",
       "   'zho': {'official': '安圭拉', 'common': '安圭拉'}},\n",
       "  'latlng': [18.25, -63.16666666],\n",
       "  'demonym': 'Anguillian',\n",
       "  'landlocked': False,\n",
       "  'borders': [],\n",
       "  'area': 91}}"
      ]
     },
     "execution_count": 72,
     "metadata": {},
     "output_type": "execute_result"
    }
   ],
   "source": [
    "db.phoneInfo.find_one()"
   ]
  },
  {
   "cell_type": "markdown",
   "metadata": {},
   "source": [
    "The collection also has the same number of entries as the phone collection."
   ]
  },
  {
   "cell_type": "code",
   "execution_count": 73,
   "metadata": {},
   "outputs": [
    {
     "data": {
      "text/plain": [
       "124248"
      ]
     },
     "execution_count": 73,
     "metadata": {},
     "output_type": "execute_result"
    }
   ],
   "source": [
    "db.phoneInfo.count_documents({})"
   ]
  },
  {
   "cell_type": "code",
   "execution_count": 74,
   "metadata": {},
   "outputs": [],
   "source": [
    "client.close()"
   ]
  },
  {
   "cell_type": "code",
   "execution_count": null,
   "metadata": {},
   "outputs": [],
   "source": []
  }
 ],
 "metadata": {
  "kernelspec": {
   "display_name": "Python 3",
   "language": "python",
   "name": "python3"
  },
  "language_info": {
   "codemirror_mode": {
    "name": "ipython",
    "version": 3
   },
   "file_extension": ".py",
   "mimetype": "text/x-python",
   "name": "python",
   "nbconvert_exporter": "python",
   "pygments_lexer": "ipython3",
   "version": "3.8.3"
  }
 },
 "nbformat": 4,
 "nbformat_minor": 4
}
