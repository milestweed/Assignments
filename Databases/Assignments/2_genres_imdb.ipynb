{
 "cells": [
  {
   "cell_type": "markdown",
   "metadata": {},
   "source": [
    "# Question 2"
   ]
  },
  {
   "cell_type": "markdown",
   "metadata": {},
   "source": [
    "The first task involves taking input from the user and ensuring that the correct movie is queried form the data base.  This method is the same for the script that queries the movies database in question 1."
   ]
  },
  {
   "cell_type": "markdown",
   "metadata": {},
   "source": [
    "I choose seven misspelled movie title to test my scripted with.\n",
    "\n",
    "* \"The poAtMan\" - matches to \"The Postman\"\n",
    "\n",
    "* \"AVATor\" - This one was used in class. I choose it because I wnated to ensure that could match it to both \"Avatar\" and \"The Aviator\".\n",
    "\n",
    "* \"Mysery mes\" - matches to \"Mystery Men\"\n",
    "\n",
    "* \"liar laari\" - matches to \"Liar Liar\"\n",
    "\n",
    "* \"raTatooy\" - matches to \"Ratatouille\"\n",
    "\n",
    "* \"where harry met susan\" - matches to \"When Harry Met Sally...\"\n",
    "\n",
    "* \"misses boubtfire\" - matches to \"Mrs. Doubtfire\""
   ]
  },
  {
   "cell_type": "markdown",
   "metadata": {},
   "source": [
    "#### Import statements"
   ]
  },
  {
   "cell_type": "code",
   "execution_count": 1,
   "metadata": {},
   "outputs": [],
   "source": [
    "import psycopg2 as psy"
   ]
  },
  {
   "cell_type": "markdown",
   "metadata": {},
   "source": [
    "#### Database Connection"
   ]
  },
  {
   "cell_type": "code",
   "execution_count": 2,
   "metadata": {},
   "outputs": [],
   "source": [
    "conn = psy.connect('dbname=imdb user=mtweed')"
   ]
  },
  {
   "cell_type": "code",
   "execution_count": 3,
   "metadata": {},
   "outputs": [],
   "source": [
    "cur = conn.cursor()"
   ]
  },
  {
   "cell_type": "markdown",
   "metadata": {},
   "source": [
    "#### Input\n",
    "In order to standardize the input I usd string functions to ensure the capitalization was correct for the database."
   ]
  },
  {
   "cell_type": "code",
   "execution_count": 4,
   "metadata": {},
   "outputs": [
    {
     "name": "stdout",
     "output_type": "stream",
     "text": [
      "Enter the name of a movie: raTatooy\n"
     ]
    }
   ],
   "source": [
    "query = input(\"Enter the name of a movie: \")"
   ]
  },
  {
   "cell_type": "code",
   "execution_count": 5,
   "metadata": {},
   "outputs": [],
   "source": [
    "query = query.lower().title()"
   ]
  },
  {
   "cell_type": "markdown",
   "metadata": {},
   "source": [
    "I found that I could be more selective of the results returned when matching a misspelled query if I omitted the word \"the\"."
   ]
  },
  {
   "cell_type": "code",
   "execution_count": 6,
   "metadata": {},
   "outputs": [],
   "source": [
    "if \"the\" in query.lower().split():\n",
    "    temp = query.lower().split()\n",
    "    temp.remove('the')\n",
    "    query = ' '.join(temp)\n",
    "    query.title()"
   ]
  },
  {
   "cell_type": "markdown",
   "metadata": {},
   "source": [
    "#### The SQL Matching Query\n",
    "\n",
    "I used the similarity function for matching misspelled titles because it let me have much more control over how many results were returned as opposed to trigrams or ts_vectors. I found that a similarity value of 0.33 was optimal to return the desired values with as few other as possible. I also specified that only movies should be returned since the data is much more messy otherwise."
   ]
  },
  {
   "cell_type": "code",
   "execution_count": 7,
   "metadata": {},
   "outputs": [],
   "source": [
    "cur.execute(\"\"\"\n",
    "            select distinct primarytitle\n",
    "            from title_basics\n",
    "            where similarity(primarytitle, %s) > 0.33 and titletype = 'movie';\n",
    "            \"\"\", (query,))\n",
    "results = cur.fetchall()\n",
    "results = [results[x][0] for x in range(len(results))]"
   ]
  },
  {
   "cell_type": "markdown",
   "metadata": {},
   "source": [
    "To further limit the number of title that are proposed for the user's selection, I used the levenshtein function to calculate the Levenshein numnber.  Again, I had to adjest the values to enure the the desired results were returned without too many undesired ones.  I set the score so that there was no penalty for replacements, a penalty on one for deletion, and a penalty of two for insertions.  These limits were found through trial and error. I set the cutoff threshold at 5 because, this values allowed for the addition of 'the' if necessary."
   ]
  },
  {
   "cell_type": "code",
   "execution_count": 8,
   "metadata": {},
   "outputs": [],
   "source": [
    "dist = []\n",
    "for q in results:\n",
    "    cur.execute(\"select levenshtein(%s, %s,2,1,0);\", (q, query,))\n",
    "    temp = cur.fetchall()\n",
    "    dist.append(temp)"
   ]
  },
  {
   "cell_type": "code",
   "execution_count": 9,
   "metadata": {},
   "outputs": [],
   "source": [
    "dist = [x[0][0] for x in dist]"
   ]
  },
  {
   "cell_type": "code",
   "execution_count": 10,
   "metadata": {},
   "outputs": [],
   "source": [
    "pos = [results[x] for x in range(len(dist)) if dist[x] <= 5]"
   ]
  },
  {
   "cell_type": "markdown",
   "metadata": {},
   "source": [
    "#### User Varification of Input\n",
    "\n",
    "This script asks the user to select their intended query from a list. It shows ten possibilities at a time until the correct title is shown."
   ]
  },
  {
   "cell_type": "code",
   "execution_count": 11,
   "metadata": {
    "scrolled": true
   },
   "outputs": [
    {
     "name": "stdout",
     "output_type": "stream",
     "text": [
      "\n",
      "Did you mean:\n",
      "0) Ratboy\n",
      "1) RatAttack\n",
      "2) Ratatouille\n",
      "3) Ratataplan\n",
      "Make selection or press ENTER for more2\n"
     ]
    }
   ],
   "source": [
    "while True:\n",
    "    opt = []\n",
    "    if len(pos) == 0:\n",
    "        print(\"Nothing found with that name.\")\n",
    "        break\n",
    "        \n",
    "    print(\"\\nDid you mean:\")\n",
    "    if len(pos) > 10:\n",
    "        for i in range(10):\n",
    "            opt.append(pos.pop())\n",
    "            print(str(i) + \") \"+opt[i])\n",
    "    else:\n",
    "        for i in range(len(pos)):\n",
    "            opt.append(pos.pop())\n",
    "            print(str(i) + \") \"+opt[i])\n",
    "            \n",
    "    sel = input(\"Make selection or press ENTER for more\")\n",
    "    \n",
    "    if sel == '':\n",
    "        continue\n",
    "    else:\n",
    "        sel = int(sel)\n",
    "        \n",
    "    if sel in range(10):\n",
    "        query = opt[sel]\n",
    "        break\n",
    "    elif len(opt)==0:\n",
    "        break\n",
    "    else:\n",
    "        continue"
   ]
  },
  {
   "cell_type": "markdown",
   "metadata": {},
   "source": [
    "## Matching The Query's Genre\n",
    "Since there are many more entries in the imdb database, queries bases on primarytitle often results in several titles being returned.  I first had to write this scrip that further clarified what movie the user intended.  This script gathers the original title and year so that only a single entry's genre is returned."
   ]
  },
  {
   "cell_type": "code",
   "execution_count": 12,
   "metadata": {},
   "outputs": [],
   "source": [
    "cur.execute(\"\"\"\n",
    "            select genres, originaltitle, startyear \n",
    "            from title_basics \n",
    "            where primarytitle = %s and titletype = 'movie'\n",
    "            \"\"\"\n",
    "            , [query])"
   ]
  },
  {
   "cell_type": "code",
   "execution_count": 13,
   "metadata": {},
   "outputs": [],
   "source": [
    "q_genres = cur.fetchall()"
   ]
  },
  {
   "cell_type": "code",
   "execution_count": 14,
   "metadata": {},
   "outputs": [],
   "source": [
    "if len(q_genres) > 1:\n",
    "    orig_title = [x[1] for x in q_genres]\n",
    "    year = [x[2] for x in q_genres]\n",
    "    q_genres = [x[0] for x in q_genres]\n",
    "    choice = {}\n",
    "    for i in range(len(q_genres)):\n",
    "        choice[i] = q_genres[i]\n",
    "    while True:\n",
    "        print('Did you mean:\\n')\n",
    "        for i in range(len(q_genres)):\n",
    "            print(str(list(choice.keys())[i]+1) + ') ' + orig_title[i]+' from '+str(year[i])+'?')\n",
    "        ans = int(input(\"Selection: \"))\n",
    "\n",
    "        if ans-1 in list(choice.keys()):\n",
    "            q_genres = [x for x in choice[ans-1]]\n",
    "            break\n",
    "        else:\n",
    "            print(\"Invalid response.\")\n",
    "else:\n",
    "    q_genres = [x[0][y] for x in q_genres for y in range(len(x[0]))]"
   ]
  },
  {
   "cell_type": "markdown",
   "metadata": {},
   "source": [
    "I used this query to select only the titles that had genres that were a superset (using the @> operator) of the genres of the query. This way, the titles returned would at least be representative of every genre that the query represented.  Due to the size of the database, this query often resulted in many titles.  To help organize this information, I though it would be best to orger the data by the average rating (highest rated first) followed by the number of votes (most votes first).  This way the most well known and highest rated movies are returned first."
   ]
  },
  {
   "cell_type": "code",
   "execution_count": 15,
   "metadata": {},
   "outputs": [],
   "source": [
    "cur.execute(\"\"\"\n",
    "            select tb.primarytitle, tr.averagerating rat, tr.numvotes vot\n",
    "            from title_basics tb, title_ratings tr \n",
    "            where genres @> %s and tr.titleid = tb.titleid and titletype = 'movie' and primarytitle != %s\n",
    "            order by vot desc, rat desc;\n",
    "            \"\"\", [q_genres, query])"
   ]
  },
  {
   "cell_type": "code",
   "execution_count": 16,
   "metadata": {},
   "outputs": [],
   "source": [
    "results = cur.fetchall()"
   ]
  },
  {
   "cell_type": "code",
   "execution_count": 17,
   "metadata": {},
   "outputs": [],
   "source": [
    "results = [x[0] for x in results]"
   ]
  },
  {
   "cell_type": "code",
   "execution_count": 18,
   "metadata": {},
   "outputs": [
    {
     "name": "stdout",
     "output_type": "stream",
     "text": [
      "The movies closes in genre to Ratatouille are listed below in order of average rating\n",
      "\n",
      "Finding Nemo\n",
      "Up\n",
      "Toy Story\n",
      "Monsters, Inc.\n",
      "Toy Story 3\n",
      "Shrek\n",
      "Inside Out\n",
      "Frozen\n",
      "Toy Story 2\n",
      "Ice Age\n",
      "Press ENTER for more\n",
      "Or q to quit\n",
      "\n",
      "Zootopia\n",
      "Shrek 2\n",
      "Tangled\n",
      "Wreck-It Ralph\n",
      "Despicable Me 2\n",
      "Brave\n",
      "Madagascar\n",
      "Aladdin\n",
      "Monsters University\n",
      "The Simpsons Movie\n",
      "Press ENTER for more\n",
      "Or q to quit\n",
      "\n",
      "Shrek the Third\n",
      "A Bug's Life\n",
      "Ice Age: The Meltdown\n",
      "Moana\n",
      "Rango\n",
      "Finding Dory\n",
      "Ice Age: Dawn of the Dinosaurs\n",
      "Minions\n",
      "Rio\n",
      "Cloudy with a Chance of Meatballs\n",
      "Press ENTER for more\n",
      "Or q to quit\n",
      "q\n"
     ]
    }
   ],
   "source": [
    "print(\"The movies closes in genre to {} are listed below in order of average rating\\n\".format(query))\n",
    "while True:\n",
    "    if len(results) > 10:\n",
    "        for i in range(10):\n",
    "            temp = results.pop(0)\n",
    "            print(temp)\n",
    "    else:\n",
    "        for j in range(len(results)):\n",
    "            print(temp)\n",
    "            break\n",
    "    quit = input(\"Press ENTER for more\\nOr q to quit\\n\")\n",
    "    if quit.lower() == 'q':\n",
    "        break"
   ]
  },
  {
   "cell_type": "code",
   "execution_count": 19,
   "metadata": {},
   "outputs": [],
   "source": [
    "conn.close()"
   ]
  },
  {
   "cell_type": "markdown",
   "metadata": {},
   "source": [
    "## Example Console Output\n",
    "\n",
    "NOTE: This was run on my local testing server because the nessesary extensions were missing on cs1."
   ]
  },
  {
   "cell_type": "markdown",
   "metadata": {},
   "source": [
    "```\n",
    "Enter the name of a movie: The poAtMan\n",
    "\n",
    "Did you mean:\n",
    "0) The Postman\n",
    "1) The Boatman\n",
    "2) Postman\n",
    "3) Portman\n",
    "4) Mr. Patman\n",
    "5) Fatman\n",
    "6) Boatman\n",
    "7) Batman\n",
    "8) Atman\n",
    "Make selection or press ENTER for more0\n",
    "Did you mean:\n",
    "\n",
    "1) Postchi from 1972?\n",
    "2) The Postman from 1997?\n",
    "3) Al-boustaguy from 1968?\n",
    "4) El bostagi from 1948?\n",
    "5) The Postman from 0?\n",
    "Selection: 2\n",
    "The movies closes in genre to The Postman are listed below in order of average rating\n",
    "\n",
    "Gladiator\n",
    "Avengers: Endgame\n",
    "Dawn of the Planet of the Apes\n",
    "King Kong\n",
    "Seven Samurai\n",
    "The Book of Eli\n",
    "Apocalypto\n",
    "Snow White and the Huntsman\n",
    "Kingdom of Heaven\n",
    "Noah\n",
    "Press ENTER for more\n",
    "Or q to quit\n",
    "\n",
    "The Grey\n",
    "The Twilight Saga: Breaking Dawn - Part 1\n",
    "War for the Planet of the Apes\n",
    "San Andreas\n",
    "Master and Commander: The Far Side of the World\n",
    "After Earth\n",
    "King Arthur: Legend of the Sword\n",
    "Robin Hood: Prince of Thieves\n",
    "The Promise\n",
    "The Legend of Tarzan\n",
    "Press ENTER for more\n",
    "Or q to quit\n",
    "q\n",
    "(base) [mtweed@miles-alienwarem17r3 Database_py_scripts]$ ./Q2_imdb.py \n",
    "Enter the name of a movie: AVATor\n",
    "\n",
    "Did you mean:\n",
    "0) Vator\n",
    "1) The Aviator\n",
    "2) Salvator\n",
    "3) Her Aviator\n",
    "4) Hellavator\n",
    "5) Elevator\n",
    "6) Ekvator\n",
    "7) Aviator\n",
    "8) Avataran\n",
    "9) Avatara\n",
    "Make selection or press ENTER for more\n",
    "\n",
    "Did you mean:\n",
    "0) Avatar 5\n",
    "1) Avatar 4\n",
    "2) Avatar 3\n",
    "3) Avatar 2\n",
    "4) Avatar\n",
    "5) Avas\n",
    "6) Avan\n",
    "7) Avam\n",
    "8) Aval\n",
    "9) Animator\n",
    "Make selection or press ENTER for more4\n",
    "Did you mean:\n",
    "\n",
    "1) Avatar from 1941?\n",
    "2) Avatar from 1916?\n",
    "3) Avatar from 2009?\n",
    "4) Abatâ from 2011?\n",
    "Selection: 3\n",
    "The movies closes in genre to Avatar are listed below in order of average rating\n",
    "\n",
    "Star Wars: Episode IV - A New Hope\n",
    "Star Wars: Episode V - The Empire Strikes Back\n",
    "Pirates of the Caribbean: The Curse of the Black Pearl\n",
    "Star Wars: Episode VI - Return of the Jedi\n",
    "Thor\n",
    "Star Wars: Episode I - The Phantom Menace\n",
    "Star Wars: Episode III - Revenge of the Sith\n",
    "Pirates of the Caribbean: Dead Man's Chest\n",
    "Star Wars: Episode II - Attack of the Clones\n",
    "Pirates of the Caribbean: At World's End\n",
    "Press ENTER for more\n",
    "Or q to quit\n",
    "\n",
    "Thor: The Dark World\n",
    "Suicide Squad\n",
    "Doctor Strange\n",
    "Wonder Woman\n",
    "Star Wars: Episode VIII - The Last Jedi\n",
    "Pirates of the Caribbean: On Stranger Tides\n",
    "The Mummy\n",
    "Justice League\n",
    "Aquaman\n",
    "Fantastic Four\n",
    "Press ENTER for more\n",
    "Or q to quit\n",
    "q\n",
    "(base) [mtweed@miles-alienwarem17r3 Database_py_scripts]$ ./Q2_imdb.py \n",
    "Enter the name of a movie: Mysery mes\n",
    "\n",
    "Did you mean:\n",
    "0) Mystery Men\n",
    "1) Mystery Files\n",
    "2) Mes Mer...\n",
    "3) Me... Myself\n",
    "Make selection or press ENTER for more0\n",
    "The movies closes in genre to Mystery Men are listed below in order of average rating\n",
    "\n",
    "Scott Pilgrim vs. the World\n",
    "Ghostbusters\n",
    "Ghostbusters\n",
    "Ghostbusters II\n",
    "Kung Fu Hustle\n",
    "Shaolin Soccer\n",
    "Pride and Prejudice and Zombies\n",
    "Bulletproof Monk\n",
    "Buffy the Vampire Slayer\n",
    "The Medallion\n",
    "Press ENTER for more\n",
    "Or q to quit\n",
    "\n",
    "The Monster Squad\n",
    "Eega\n",
    "Vampire Killers\n",
    "Witching and Bitching\n",
    "Undead\n",
    "Karan Arjun\n",
    "Yoga Hosers\n",
    "A Chinese Ghost Story\n",
    "The God of Cookery\n",
    "Golmaal Again\n",
    "Press ENTER for more\n",
    "Or q to quit\n",
    "q\n",
    "(base) [mtweed@miles-alienwarem17r3 Database_py_scripts]$ ./Q2_imdb.py \n",
    "Enter the name of a movie: liar laari\n",
    "\n",
    "Did you mean:\n",
    "0) The Liar\n",
    "1) Some Liar\n",
    "2) Liar Liar Wolf\n",
    "3) Liar Liar\n",
    "4) Liar.Com\n",
    "5) King Liar\n",
    "Make selection or press ENTER for more3\n",
    "The movies closes in genre to Liar Liar are listed below in order of average rating\n",
    "\n",
    "Groundhog Day\n",
    "Monty Python and the Holy Grail\n",
    "Midnight in Paris\n",
    "Bruce Almighty\n",
    "Scott Pilgrim vs. the World\n",
    "Ghostbusters\n",
    "The Mask\n",
    "Being John Malkovich\n",
    "Click\n",
    "The Secret Life of Walter Mitty\n",
    "Press ENTER for more\n",
    "Or q to quit\n",
    "q\n",
    "(base) [mtweed@miles-alienwarem17r3 Database_py_scripts]$ ./Q2_imdb.py \n",
    "Enter the name of a movie: raTatooy\n",
    "\n",
    "Did you mean:\n",
    "0) Ratboy\n",
    "1) RatAttack\n",
    "2) Ratatouille\n",
    "3) Ratataplan\n",
    "Make selection or press ENTER for more2\n",
    "The movies closes in genre to Ratatouille are listed below in order of average rating\n",
    "\n",
    "Finding Nemo\n",
    "Up\n",
    "Toy Story\n",
    "Monsters, Inc.\n",
    "Toy Story 3\n",
    "Shrek\n",
    "Inside Out\n",
    "Frozen\n",
    "Toy Story 2\n",
    "Ice Age\n",
    "Press ENTER for more\n",
    "Or q to quit\n",
    "\n",
    "Zootopia\n",
    "Shrek 2\n",
    "Tangled\n",
    "Wreck-It Ralph\n",
    "Despicable Me 2\n",
    "Brave\n",
    "Madagascar\n",
    "Aladdin\n",
    "Monsters University\n",
    "The Simpsons Movie\n",
    "Press ENTER for more\n",
    "Or q to quit\n",
    "q\n",
    "(base) [mtweed@miles-alienwarem17r3 Database_py_scripts]$ ./Q2_imdb.py \n",
    "Enter the name of a movie: where harry met susan\n",
    "\n",
    "Did you mean:\n",
    "0) When Harry Met Sally...\n",
    "1) Jab Harry Met Sejal\n",
    "Make selection or press ENTER for more0\n",
    "The movies closes in genre to When Harry Met Sally... are listed below in order of average rating\n",
    "\n",
    "Silver Linings Playbook\n",
    "Life Is Beautiful\n",
    "500 Days of Summer\n",
    "Crazy, Stupid, Love.\n",
    "Love Actually\n",
    "The Terminal\n",
    "Easy A\n",
    "50 First Dates\n",
    "Up in the Air\n",
    "50/50\n",
    "Press ENTER for more\n",
    "Or q to quit\n",
    "\n",
    "Moonrise Kingdom\n",
    "The Proposal\n",
    "10 Things I Hate About You\n",
    "As Good as It Gets\n",
    "Notting Hill\n",
    "Forgetting Sarah Marshall\n",
    "The Graduate\n",
    "Vicky Cristina Barcelona\n",
    "Jerry Maguire\n",
    "The Artist\n",
    "Press ENTER for more\n",
    "Or q to quit\n",
    "q\n",
    "(base) [mtweed@miles-alienwarem17r3 Database_py_scripts]$ ./Q2_imdb.py \n",
    "Enter the name of a movie: misses boubtfire\n",
    "\n",
    "Did you mean:\n",
    "0) Mrs. Doubtfire\n",
    "Make selection or press ENTER for more0\n",
    "The movies closes in genre to Mrs. Doubtfire are listed below in order of average rating\n",
    "\n",
    "Modern Times\n",
    "Marley & Me\n",
    "We Bought a Zoo\n",
    "Babe\n",
    "The Kid\n",
    "The Santa Clause\n",
    "A League of Their Own\n",
    "The Sandlot\n",
    "My Girl\n",
    "Beethoven\n",
    "Press ENTER for more\n",
    "Or q to quit\n",
    "\n",
    "What a Girl Wants\n",
    "The Mighty Ducks\n",
    "High School Musical 3\n",
    "Secondhand Lions\n",
    "3 Men and a Baby\n",
    "The Muppet Christmas Carol\n",
    "The Odd Life of Timothy Green\n",
    "Diary of a Wimpy Kid\n",
    "Hannah Montana: The Movie\n",
    "Miracle on 34th Street\n",
    "Press ENTER for more\n",
    "Or q to quit\n",
    "q\n",
    "\n",
    "```"
   ]
  },
  {
   "cell_type": "code",
   "execution_count": null,
   "metadata": {},
   "outputs": [],
   "source": []
  }
 ],
 "metadata": {
  "kernelspec": {
   "display_name": "Python 3",
   "language": "python",
   "name": "python3"
  },
  "language_info": {
   "codemirror_mode": {
    "name": "ipython",
    "version": 3
   },
   "file_extension": ".py",
   "mimetype": "text/x-python",
   "name": "python",
   "nbconvert_exporter": "python",
   "pygments_lexer": "ipython3",
   "version": "3.8.5"
  }
 },
 "nbformat": 4,
 "nbformat_minor": 4
}
