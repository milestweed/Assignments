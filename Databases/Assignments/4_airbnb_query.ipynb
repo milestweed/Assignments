{
 "cells": [
  {
   "cell_type": "markdown",
   "metadata": {},
   "source": [
    "## Question 4\n",
    "I set up an ssh tunnel to work with the sample_airbnb database in python."
   ]
  },
  {
   "cell_type": "markdown",
   "metadata": {},
   "source": [
    "#### Server set up"
   ]
  },
  {
   "cell_type": "code",
   "execution_count": 18,
   "metadata": {},
   "outputs": [],
   "source": [
    "from sshtunnel import SSHTunnelForwarder\n",
    "from pymongo import MongoClient\n",
    "from random import sample\n",
    "from pprint import pprint\n",
    "from getpass import getpass"
   ]
  },
  {
   "cell_type": "code",
   "execution_count": 20,
   "metadata": {},
   "outputs": [
    {
     "name": "stdout",
     "output_type": "stream",
     "text": [
      "Enter your password: ········\n"
     ]
    }
   ],
   "source": [
    "MONGO_HOST = \"10.10.11.10\"\n",
    "MONGO_DB = \"sample_airbnb\"\n",
    "MONGO_USER = \"mtweed\"\n",
    "MONGO_PASS = getpass(\"Enter your password: \")"
   ]
  },
  {
   "cell_type": "code",
   "execution_count": 21,
   "metadata": {},
   "outputs": [],
   "source": [
    "server = SSHTunnelForwarder(\n",
    "    MONGO_HOST,\n",
    "    ssh_username=MONGO_USER,\n",
    "    ssh_password=MONGO_PASS,\n",
    "    remote_bind_address=('127.0.0.1', 27017)\n",
    ")"
   ]
  },
  {
   "cell_type": "code",
   "execution_count": 22,
   "metadata": {},
   "outputs": [],
   "source": [
    "server.start()"
   ]
  },
  {
   "cell_type": "code",
   "execution_count": 23,
   "metadata": {},
   "outputs": [],
   "source": [
    "client = MongoClient('127.0.0.1', server.local_bind_port)"
   ]
  },
  {
   "cell_type": "code",
   "execution_count": 24,
   "metadata": {},
   "outputs": [],
   "source": [
    "db = client[MONGO_DB]"
   ]
  },
  {
   "cell_type": "code",
   "execution_count": 26,
   "metadata": {},
   "outputs": [],
   "source": [
    "listings = db.listingsAndReviews"
   ]
  },
  {
   "cell_type": "markdown",
   "metadata": {},
   "source": [
    "I began by characterizing an example document to see what fields were present and determin how to make the required queries if possible."
   ]
  },
  {
   "cell_type": "code",
   "execution_count": 28,
   "metadata": {},
   "outputs": [],
   "source": [
    "cursor = listings.find()"
   ]
  },
  {
   "cell_type": "code",
   "execution_count": 32,
   "metadata": {},
   "outputs": [
    {
     "name": "stdout",
     "output_type": "stream",
     "text": [
      "{'_id': '13317720',\n",
      " 'access': '',\n",
      " 'accommodates': 4,\n",
      " 'address': {'country': 'Brazil',\n",
      "             'country_code': 'BR',\n",
      "             'government_area': 'Recreio dos Bandeirantes',\n",
      "             'location': {'coordinates': [-43.48662201316989,\n",
      "                                          -23.022882730052668],\n",
      "                          'is_location_exact': True,\n",
      "                          'type': 'Point'},\n",
      "             'market': 'Rio De Janeiro',\n",
      "             'street': 'Rio de Janeiro, Rio de Janeiro, Brazil',\n",
      "             'suburb': 'Recreio dos Bandeirantes'},\n",
      " 'amenities': ['TV',\n",
      "               'Air conditioning',\n",
      "               'Pool',\n",
      "               'Kitchen',\n",
      "               'Free parking on premises',\n",
      "               'Smoking allowed',\n",
      "               'Gym',\n",
      "               'Elevator',\n",
      "               'Family/kid friendly',\n",
      "               'Washer',\n",
      "               'Dryer',\n",
      "               'Smoke detector',\n",
      "               'First aid kit',\n",
      "               'Fire extinguisher',\n",
      "               'Lock on bedroom door',\n",
      "               'Hangers',\n",
      "               'Laptop friendly workspace'],\n",
      " 'availability': {'availability_30': 29,\n",
      "                  'availability_365': 364,\n",
      "                  'availability_60': 59,\n",
      "                  'availability_90': 89},\n",
      " 'bathrooms': Decimal128('2.0'),\n",
      " 'bed_type': 'Real Bed',\n",
      " 'bedrooms': 2,\n",
      " 'beds': 3,\n",
      " 'calendar_last_scraped': datetime.datetime(2019, 2, 11, 5, 0),\n",
      " 'cancellation_policy': 'flexible',\n",
      " 'description': 'Meu espaço é perto de shopping Recreio, há 500m da praia do '\n",
      "                'Recreio.. Você vai amar meu espaço por causa de o apartamento '\n",
      "                'é mobiliado com móveis planejados e equipado com ar '\n",
      "                \"condicionado, tv's, mesas, banquetas, sofá e camas \"\n",
      "                'confortáveis, fogão, geladeira, máquina de lavar e secadora, '\n",
      "                'o ambiente do condomínio é agradável, familiar, '\n",
      "                'diversificado, moderno, o bairro Recreio dos Bandeirantes '\n",
      "                'fica na zona oeste do Rio de Janeiro, próximo a Barra da '\n",
      "                'Tijuca.',\n",
      " 'extra_people': Decimal128('0.00'),\n",
      " 'guests_included': Decimal128('1'),\n",
      " 'host': {'host_about': 'Sou ex jogador profissional, com o meu trabalho '\n",
      "                        'investi em imóveis  e os mesmos alugo!! Hoje, estou '\n",
      "                        'iniciando a carreira de auxiliar técnico para '\n",
      "                        'futuramente ser técnico profissional!! Não vivo sem o '\n",
      "                        'futebol e minha família!! ',\n",
      "          'host_has_profile_pic': True,\n",
      "          'host_id': '75293199',\n",
      "          'host_identity_verified': False,\n",
      "          'host_is_superhost': False,\n",
      "          'host_listings_count': 1,\n",
      "          'host_location': 'BR',\n",
      "          'host_name': 'Leandro',\n",
      "          'host_neighbourhood': 'Recreio dos Bandeirantes',\n",
      "          'host_picture_url': 'https://a0.muscache.com/im/pictures/d41947e7-74c8-47e5-a308-ba80c253aa7f.jpg?aki_policy=profile_x_medium',\n",
      "          'host_thumbnail_url': 'https://a0.muscache.com/im/pictures/d41947e7-74c8-47e5-a308-ba80c253aa7f.jpg?aki_policy=profile_small',\n",
      "          'host_total_listings_count': 1,\n",
      "          'host_url': 'https://www.airbnb.com/users/show/75293199',\n",
      "          'host_verifications': ['email', 'phone']},\n",
      " 'house_rules': '',\n",
      " 'images': {'medium_url': '',\n",
      "            'picture_url': 'https://a0.muscache.com/im/pictures/e715b9f7-e2d9-4759-befb-f4a01ba24653.jpg?aki_policy=large',\n",
      "            'thumbnail_url': '',\n",
      "            'xl_picture_url': ''},\n",
      " 'interaction': '',\n",
      " 'last_scraped': datetime.datetime(2019, 2, 11, 5, 0),\n",
      " 'listing_url': 'https://www.airbnb.com/rooms/13317720',\n",
      " 'maximum_nights': '1125',\n",
      " 'minimum_nights': '1',\n",
      " 'name': 'Apto 2 quartos mobiliado Recreio dos Bandeirantes',\n",
      " 'neighborhood_overview': '',\n",
      " 'notes': '',\n",
      " 'number_of_reviews': 0,\n",
      " 'price': Decimal128('1865.00'),\n",
      " 'property_type': 'Apartment',\n",
      " 'review_scores': {},\n",
      " 'reviews': [],\n",
      " 'room_type': 'Entire home/apt',\n",
      " 'space': '',\n",
      " 'summary': 'Meu espaço é perto de shopping Recreio, há 500m da praia do '\n",
      "            'Recreio.. Você vai amar meu espaço por causa de o apartamento é '\n",
      "            'mobiliado com móveis planejados e equipado com ar condicionado, '\n",
      "            \"tv's, mesas, banquetas, sofá e camas confortáveis, fogão, \"\n",
      "            'geladeira, máquina de lavar e secadora, o ambiente do condomínio '\n",
      "            'é agradável, familiar, diversificado, moderno, o bairro Recreio '\n",
      "            'dos Bandeirantes fica na zona oeste do Rio de Janeiro, próximo a '\n",
      "            'Barra da Tijuca.',\n",
      " 'transit': ''}\n"
     ]
    }
   ],
   "source": [
    "pprint(cursor.next())"
   ]
  },
  {
   "cell_type": "markdown",
   "metadata": {},
   "source": [
    "### Part a"
   ]
  },
  {
   "cell_type": "markdown",
   "metadata": {},
   "source": [
    "I found that there were three feilds that could be searched to find listings that are pet or kid friendly.  I found instances of 'pet friendly' and 'kid friendly' in the summary and description field. I used this query to return the listing that contained these phrases in the summary and description field."
   ]
  },
  {
   "cell_type": "code",
   "execution_count": 46,
   "metadata": {},
   "outputs": [],
   "source": [
    "cursor = listings.find({'$or' : [{'summary' : {'$regex' : 'pet friendly'}}, \n",
    "                                 {'summary' : {'$regex' : 'kid friendly'}},\n",
    "                                 {'description' : {'$regex' : 'pet friendly'}}, \n",
    "                                 {'description' : {'$regex' : 'kid friendly'}}]},\n",
    "                                 {'_id':1, 'summary':1,'description':1, 'amenities':1})"
   ]
  },
  {
   "cell_type": "code",
   "execution_count": 47,
   "metadata": {},
   "outputs": [
    {
     "name": "stdout",
     "output_type": "stream",
     "text": [
      "{'_id': '18250284',\n",
      " 'amenities': ['TV',\n",
      "               'Cable TV',\n",
      "               'Internet',\n",
      "               'Wifi',\n",
      "               'Air conditioning',\n",
      "               'Kitchen',\n",
      "               'Pets allowed',\n",
      "               'Pets live on this property',\n",
      "               'Dog(s)',\n",
      "               'Heating',\n",
      "               'Family/kid friendly',\n",
      "               'Smoke detector',\n",
      "               'Carbon monoxide detector',\n",
      "               'First aid kit',\n",
      "               'Fire extinguisher',\n",
      "               'Essentials',\n",
      "               'Shampoo',\n",
      "               'Lock on bedroom door',\n",
      "               'Hangers',\n",
      "               'translation missing: en.hosting_amenity_50',\n",
      "               'TV',\n",
      "               'Host greets you'],\n",
      " 'description': 'Perfect to explore the whole city - central to subways and '\n",
      "                'easy access to all parts of the city.  Centrally located just '\n",
      "                'one block north of Central Park in an area now known as South '\n",
      "                'Harlem.   We have a 3 BR 2.5 BA pet friendly apartment and we '\n",
      "                'are offering 1 bedroom for 1 or 2 guests with the potential '\n",
      "                'of a second bedroom for 1 or 2 guests - total max 4 '\n",
      "                'people.    Though you do not get the entire space, you will '\n",
      "                'have lots of privacy with up to 2 bedrooms and 1.5 baths and '\n",
      "                'a private yard. This first floor apartment has only 4 stairs '\n",
      "                'right inside the entryway.   We have 2 air conditioned '\n",
      "                'bedrooms on the first floor available each with a queen size '\n",
      "                'bed.  The windows are double paned so the rooms and the '\n",
      "                'apartment are pleasantly quiet for a ground floor.  The '\n",
      "                'bedrooms are not especially large but they are comfortable.   '\n",
      "                'There is one full bath with a tub and shower and one half '\n",
      "                'bath on the same floor.   The main guestroom has a closet, '\n",
      "                'the second bedroom does not have a closet.   We live i',\n",
      " 'summary': 'Perfect to explore the whole city - central to subways and easy '\n",
      "            'access to all parts of the city.  Centrally located just one '\n",
      "            'block north of Central Park in an area now known as South '\n",
      "            'Harlem.   We have a 3 BR 2.5 BA pet friendly apartment and we are '\n",
      "            'offering 1 bedroom for 1 or 2 guests with the potential of a '\n",
      "            'second bedroom for 1 or 2 guests - total max 4 people.    Though '\n",
      "            'you do not get the entire space, you will have lots of privacy '\n",
      "            'with up to 2 bedrooms and 1.5 baths and a private yard.'}\n"
     ]
    }
   ],
   "source": [
    "pprint(cursor.next())"
   ]
  },
  {
   "cell_type": "markdown",
   "metadata": {},
   "source": [
    "This search seemed effective, however, I found some interesting cases that suggested that this was not the best method of querying this info. For example, this one uses 'pet friendly' in the description to indicate that people should be okay with her cat but the listing is not actually 'pet friendly'."
   ]
  },
  {
   "cell_type": "code",
   "execution_count": 58,
   "metadata": {},
   "outputs": [],
   "source": [
    "cursor = listings.find({'_id':'18944834'},\n",
    "                       {'summary':1,'description':1,'amenities':1})"
   ]
  },
  {
   "cell_type": "code",
   "execution_count": 59,
   "metadata": {},
   "outputs": [
    {
     "name": "stdout",
     "output_type": "stream",
     "text": [
      "{'_id': '18944834',\n",
      " 'amenities': ['TV',\n",
      "               'Wifi',\n",
      "               'Kitchen',\n",
      "               'Paid parking off premises',\n",
      "               'Breakfast',\n",
      "               'Pets live on this property',\n",
      "               'Elevator',\n",
      "               'Heating',\n",
      "               'Washer',\n",
      "               'Dryer',\n",
      "               'Smoke detector',\n",
      "               'Carbon monoxide detector',\n",
      "               'First aid kit',\n",
      "               'Essentials',\n",
      "               'Shampoo',\n",
      "               'Hangers',\n",
      "               'Hair dryer',\n",
      "               'translation missing: en.hosting_amenity_49',\n",
      "               'translation missing: en.hosting_amenity_50',\n",
      "               'Hot water',\n",
      "               'Other'],\n",
      " 'description': 'spectacular private bedroom in UES! a lot of natural lights! '\n",
      "                'You can use kitchen and we will share a bathroom you will '\n",
      "                'have your own private bedroom and we will share bathroom, '\n",
      "                'kitchen and living room a lot of bars and restaurants around, '\n",
      "                'everything just around the corner or the same block 5 mins '\n",
      "                'walk to Central Park, 5 mins walk to East River, 2 blocks '\n",
      "                'away from Bloomingdales, close to subway lines N,Q, R, W, 4, '\n",
      "                '5, 6, F I have a wonderful Turkish angora cat , so please be '\n",
      "                'pet friendly',\n",
      " 'summary': 'spectacular private bedroom in UES! a lot of natural lights!'}\n"
     ]
    }
   ],
   "source": [
    "pprint(cursor.next())"
   ]
  },
  {
   "cell_type": "markdown",
   "metadata": {},
   "source": [
    "Another using pet friendly in description but not okay to bring pets:"
   ]
  },
  {
   "cell_type": "code",
   "execution_count": 56,
   "metadata": {},
   "outputs": [],
   "source": [
    "cursor = listings.find({'_id':'13839238'},\n",
    "                       {'summary':1,'description':1,'amenities':1})"
   ]
  },
  {
   "cell_type": "code",
   "execution_count": 57,
   "metadata": {},
   "outputs": [
    {
     "name": "stdout",
     "output_type": "stream",
     "text": [
      "{'_id': '13839238',\n",
      " 'amenities': ['Wifi',\n",
      "               'Air conditioning',\n",
      "               'Kitchen',\n",
      "               'Gym',\n",
      "               'Breakfast',\n",
      "               'Elevator',\n",
      "               'Heating',\n",
      "               'Family/kid friendly',\n",
      "               'Washer',\n",
      "               'Dryer',\n",
      "               'Smoke detector',\n",
      "               'Fire extinguisher',\n",
      "               'Essentials',\n",
      "               'Shampoo',\n",
      "               'Hair dryer',\n",
      "               'translation missing: en.hosting_amenity_50'],\n",
      " 'description': 'Bright room located in a two bedrooms apartment in BedStuy. '\n",
      "                'New building with elevator, gym, rooftop and laundry in '\n",
      "                'facilities. There is a cool coffee shop across the street and '\n",
      "                'also a wine store.  Ideal for solo adventurers. The room is '\n",
      "                'perfect for someone who wants to discover the city, easy '\n",
      "                'access to main attractions in Brooklyn and Manhattan. As any '\n",
      "                'other real NY apartment, there are two little cats who also '\n",
      "                'shared the common spaces, so you must be pet friendly.',\n",
      " 'summary': 'Bright room located in a two bedrooms apartment in BedStuy. New '\n",
      "            'building with elevator, gym, rooftop and laundry in facilities. '\n",
      "            'There is a cool coffee shop across the street and also a wine '\n",
      "            'store.  Ideal for solo adventurers. The room is perfect for '\n",
      "            'someone who wants to discover the city, easy access to main '\n",
      "            'attractions in Brooklyn and Manhattan.'}\n"
     ]
    }
   ],
   "source": [
    "pprint(cursor.next())"
   ]
  },
  {
   "cell_type": "markdown",
   "metadata": {},
   "source": [
    "Due to this, I decided that the best way to query this information would be to use the 'amenities' field.  Another advantage to using this field is that the entries are all exact phrases. The phrases that indicate pet and kid friendliness are \"Pets allowed\", \"Dog(s)\", \"Cats(s), \"Other pet(s)\", \"Family/kid friendly\", and \"Children’s books and toys\".  I used the following query to search for these terms."
   ]
  },
  {
   "cell_type": "code",
   "execution_count": 67,
   "metadata": {},
   "outputs": [],
   "source": [
    "cursor = listings.find({'$or' : [{'amenities' : {'$regex' : 'Pets allowed'}}, \n",
    "                                                {'amenities' : {'$regex' : 'Family/kid friendly'}},\n",
    "                                                {'amenities' : {'$regex' : 'Dog(s)'}},\n",
    "                                                {'amenities' : {'$regex' : 'Cat(s)'}},\n",
    "                                                {'amenities' : {'$regex' : 'Other pet(s)'}},\n",
    "                                                {'amenities' : {'$regex' : 'Children’s books and toys'}}]},\n",
    "                                                {'_id':1, 'summary':1,'description':1, 'amenities':1})"
   ]
  },
  {
   "cell_type": "code",
   "execution_count": 68,
   "metadata": {},
   "outputs": [
    {
     "name": "stdout",
     "output_type": "stream",
     "text": [
      "{'_id': '13316078',\n",
      " 'amenities': ['TV',\n",
      "               'Wifi',\n",
      "               'Air conditioning',\n",
      "               'Kitchen',\n",
      "               'Free parking on premises',\n",
      "               'Smoking allowed',\n",
      "               'Gym',\n",
      "               'Elevator',\n",
      "               'Family/kid friendly',\n",
      "               'Washer',\n",
      "               'Essentials',\n",
      "               'Shampoo',\n",
      "               'Lock on bedroom door',\n",
      "               'Hair dryer',\n",
      "               'Iron',\n",
      "               'Laptop friendly workspace'],\n",
      " 'description': 'Meu espaço é perto de Próximo ao shopping, praia, '\n",
      "                'supermercado, restaurantes. Você vai amar meu espaço por '\n",
      "                'causa de o pé-direito alto, a localização e o ambiente. Meu '\n",
      "                'espaço é bom para famílias (com crianças) e grandes grupos. '\n",
      "                'Próximo ao estádio das olimpiadas',\n",
      " 'summary': 'Meu espaço é perto de Próximo ao shopping, praia, supermercado, '\n",
      "            'restaurantes. Você vai amar meu espaço por causa de o pé-direito '\n",
      "            'alto, a localização e o ambiente. Meu espaço é bom para famílias '\n",
      "            '(com crianças) e grandes grupos. Próximo ao estádio das '\n",
      "            'olimpiadas'}\n"
     ]
    }
   ],
   "source": [
    "pprint(cursor.next())"
   ]
  },
  {
   "cell_type": "markdown",
   "metadata": {},
   "source": [
    "### Part b"
   ]
  },
  {
   "cell_type": "markdown",
   "metadata": {},
   "source": [
    "I do not think it would be possible to find, with absolute certainty, every listing that is within 1km of public transportation with the data contained in this database.  If we had a listing of the location of every public transportation location we could use the lattitude and longitude to place every listing in relation to them.  Then we could list every listing that was within 1km.  Eventhough that is not very realistic for this dataset, in many listing (especially those in europe) the transport field contins information about the nearest public transportation.  We can write a general query to find any mention of local public transportation by searching the transit field for as many indicator words as possible (I used bus, subway, walking, trolley, tram, metro, underground, and station)."
   ]
  },
  {
   "cell_type": "code",
   "execution_count": 73,
   "metadata": {},
   "outputs": [],
   "source": [
    "cursor = listings.find({'$or' : [{'transit' : {'$regex':'bus'}}, \n",
    "                                 {'transit' : {'$regex':'subway'}}, \n",
    "                                 {'transit' : {'$regex':'walking'}}, \n",
    "                                 {'transit' : {'$regex':'trolley'}}, \n",
    "                                 {'transit' : {'$regex':'tram'}}, \n",
    "                                 {'transit' : {'$regex':'metro'}}, \n",
    "                                 {'transit' : {'$regex':'underground'}}, \n",
    "                                 {'transit' : {'$regex':'station'}}]}, \n",
    "                       {'address':1,'transit':1})"
   ]
  },
  {
   "cell_type": "code",
   "execution_count": 74,
   "metadata": {},
   "outputs": [
    {
     "name": "stdout",
     "output_type": "stream",
     "text": [
      "{'_id': '12396367',\n",
      " 'address': {'country': 'Spain',\n",
      "             'country_code': 'ES',\n",
      "             'government_area': 'Sant Pere, Santa Caterina i la Ribera',\n",
      "             'location': {'coordinates': [2.18116, 41.38719],\n",
      "                          'is_location_exact': False,\n",
      "                          'type': 'Point'},\n",
      "             'market': 'Barcelona',\n",
      "             'street': 'Barcelona, CT, Spain',\n",
      "             'suburb': 'Ciutat Vella'},\n",
      " 'transit': 'Near to metro Arc de Triomph but you can also approach any barrio '\n",
      "            'walking: 10min to Gothic, 15min to Raval, 10min to Passeig de '\n",
      "            'Gracia and shopping zone!!'}\n"
     ]
    }
   ],
   "source": [
    "pprint(cursor.next())"
   ]
  },
  {
   "cell_type": "markdown",
   "metadata": {},
   "source": [
    "Additionally, many of the listings (specifically those in europe) list the distance to the various public transport, so we can add an addition constraint to the query."
   ]
  },
  {
   "cell_type": "code",
   "execution_count": 75,
   "metadata": {},
   "outputs": [],
   "source": [
    "cursor = listings.find({'$or' : [{'transit' : {'$regex':'bus'}}, \n",
    "                                 {'transit' : {'$regex':'subway'}}, \n",
    "                                 {'transit' : {'$regex':'walking'}}, \n",
    "                                 {'transit' : {'$regex':'trolley'}}, \n",
    "                                 {'transit' : {'$regex':'tram'}}, \n",
    "                                 {'transit' : {'$regex':'metro'}}, \n",
    "                                 {'transit' : {'$regex':'underground'}}, \n",
    "                                 {'transit' : {'$regex':'station'}}],\n",
    "                       \"transit\": {'$regex': '1km'}}, \n",
    "                       {'address':1,'transit':1})"
   ]
  },
  {
   "cell_type": "code",
   "execution_count": 76,
   "metadata": {},
   "outputs": [
    {
     "name": "stdout",
     "output_type": "stream",
     "text": [
      "{'_id': '15748956',\n",
      " 'address': {'country': 'Australia',\n",
      "             'country_code': 'AU',\n",
      "             'government_area': 'Sydney',\n",
      "             'location': {'coordinates': [151.18334, -33.88081],\n",
      "                          'is_location_exact': True,\n",
      "                          'type': 'Point'},\n",
      "             'market': 'Sydney',\n",
      "             'street': 'Glebe, NSW, Australia',\n",
      "             'suburb': 'Glebe'},\n",
      " 'transit': 'Sydney Airport - 9km away or 20mins by car depending on traffic.  '\n",
      "            'Light Rail - Glebe Station is less than 1km or a 10 minute walk '\n",
      "            'Darling Harbour - 3km away Sydney CBD - 3.5 km accessible by '\n",
      "            'foot, busses, light rail  Sydney University and Broadway shopping '\n",
      "            '- 1km away, easy walk. Blackwater Bay - 1km away to gorgeous park'}\n"
     ]
    }
   ],
   "source": [
    "pprint(cursor.next())"
   ]
  },
  {
   "cell_type": "code",
   "execution_count": 78,
   "metadata": {},
   "outputs": [],
   "source": [
    "server.stop()"
   ]
  },
  {
   "cell_type": "code",
   "execution_count": 79,
   "metadata": {},
   "outputs": [
    {
     "data": {
      "text/plain": [
       "False"
      ]
     },
     "execution_count": 79,
     "metadata": {},
     "output_type": "execute_result"
    }
   ],
   "source": [
    "server.is_active"
   ]
  },
  {
   "cell_type": "code",
   "execution_count": null,
   "metadata": {},
   "outputs": [],
   "source": []
  }
 ],
 "metadata": {
  "kernelspec": {
   "display_name": "Python 3",
   "language": "python",
   "name": "python3"
  },
  "language_info": {
   "codemirror_mode": {
    "name": "ipython",
    "version": 3
   },
   "file_extension": ".py",
   "mimetype": "text/x-python",
   "name": "python",
   "nbconvert_exporter": "python",
   "pygments_lexer": "ipython3",
   "version": "3.8.5"
  }
 },
 "nbformat": 4,
 "nbformat_minor": 4
}
