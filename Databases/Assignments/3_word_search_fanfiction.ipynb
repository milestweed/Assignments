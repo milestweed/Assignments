{
 "cells": [
  {
   "cell_type": "markdown",
   "metadata": {},
   "source": [
    "## Question 3\n",
    "\n",
    "#### Import statements and connection"
   ]
  },
  {
   "cell_type": "code",
   "execution_count": 3,
   "metadata": {},
   "outputs": [],
   "source": [
    "import psycopg2 as psy"
   ]
  },
  {
   "cell_type": "code",
   "execution_count": 4,
   "metadata": {},
   "outputs": [],
   "source": [
    "conn = psy.connect(\"dbname=fanfiction user=mtweed\")"
   ]
  },
  {
   "cell_type": "code",
   "execution_count": 5,
   "metadata": {},
   "outputs": [],
   "source": [
    "cur = conn.cursor()"
   ]
  },
  {
   "cell_type": "markdown",
   "metadata": {},
   "source": [
    "#### User Input"
   ]
  },
  {
   "cell_type": "code",
   "execution_count": 2,
   "metadata": {},
   "outputs": [
    {
     "name": "stdout",
     "output_type": "stream",
     "text": [
      "Enter a search terms separated by a space: test potions\n"
     ]
    }
   ],
   "source": [
    "words = input(\"Enter search terms separated by a space: \")"
   ]
  },
  {
   "cell_type": "markdown",
   "metadata": {},
   "source": [
    "I decided to use a ts_vector to search for the words in the description and title.  I first needed to format the query as a ts_query with the words separated by ampersands."
   ]
  },
  {
   "cell_type": "code",
   "execution_count": 6,
   "metadata": {},
   "outputs": [],
   "source": [
    "words = [x for x in words.split(' ')]"
   ]
  },
  {
   "cell_type": "code",
   "execution_count": 7,
   "metadata": {},
   "outputs": [],
   "source": [
    "query = \"&\".join(words)"
   ]
  },
  {
   "cell_type": "markdown",
   "metadata": {},
   "source": [
    "This query turns the description and atitle into ts_vector objects and searches each for the ts_query using the @@ operator.  I decided to display the title, author, description, and URL."
   ]
  },
  {
   "cell_type": "code",
   "execution_count": 8,
   "metadata": {},
   "outputs": [],
   "source": [
    "cur.execute(\"\"\"\n",
    "            select title, author, descr, url \n",
    "            from stories \n",
    "            where to_tsvector(descr) @@ to_tsquery(%s) or to_tsvector(title) @@ to_tsquery(%s);\n",
    "            \"\"\", [query, query])"
   ]
  },
  {
   "cell_type": "code",
   "execution_count": 9,
   "metadata": {},
   "outputs": [],
   "source": [
    "titles = cur.fetchall()"
   ]
  },
  {
   "cell_type": "markdown",
   "metadata": {},
   "source": [
    "This statement prints out each one."
   ]
  },
  {
   "cell_type": "code",
   "execution_count": 10,
   "metadata": {},
   "outputs": [
    {
     "name": "stdout",
     "output_type": "stream",
     "text": [
      "77 found.\n",
      "***************************\n",
      "\n",
      "TITLE: What Have You Done? \n",
      "AUTHOR: None \n",
      "DESCRIPTION: All is going beautifully in Draco's life. A career, a family and wealth; but one ill-tested potion could tear it all apart, starting with his son. Slash, creature!fic, Mpreg, Veela!fic NG \n",
      "URL: http://www.fanfiction.net/s/8199443/1/What-Have-You-Done\n",
      "Press Enter for more\n",
      "Or type q to quit\n",
      "\n",
      "TITLE: Tabula Rasa \n",
      "AUTHOR: None \n",
      "DESCRIPTION: An answer to DZ2's Forget-Me-Not Challenge. In their first week back at Hogwarts, Harry and Neville are paired up for a very sensitive potion called Aviditas. But when Harry tests it, something unexpected happens: he loses his memory and has no chance to get it back. How will he fare with no memories, especially with a dangerous Tournament returning this year? \n",
      "URL: http://www.fanfiction.net/s/9021922/1/Tabula-Rasa\n",
      "Press Enter for more\n",
      "Or type q to quit\n",
      "\n",
      "TITLE: The Truth of Love \n",
      "AUTHOR: SnapeFan206 \n",
      "DESCRIPTION: We are brewing veritaserum and Professor Snape wants the boy sitting next to me to test my potion. Rated T for kissing. It's a Drarry! Please R&R (read and review) \n",
      "URL: http://www.fanfiction.net/s/8602084/1/The-Truth-of-Love\n",
      "Press Enter for more\n",
      "Or type q to quit\n",
      "\n",
      "TITLE: Potions Chaos \n",
      "AUTHOR: None \n",
      "DESCRIPTION: After a prank leaves Snape in St. Mungo's, Umbridge hires a new potions professor. However, this professor makes \"unique\" potions and isn't afraid to test them on people. Hogwarts, be afraid. Be very afraid. \n",
      "URL: http://www.fanfiction.net/s/8444627/1/Potions-Chaos\n",
      "Press Enter for more\n",
      "Or type q to quit\n",
      "\n",
      "TITLE: Au detour des infortunes, le bonheur sourit parfois \n",
      "AUTHOR: Opaline34 \n",
      "DESCRIPTION: L'histoire se passe apres la guerre contre Lord Voldemort. Il est temps pour nos heros de penser a leur avenir. Neville a un projet qui lui tient a cur mais a echoue au test de Potions de ses A.S.P.I.C.S. Pour acceder a son reve, le jeune homme de presque 18 ans devra a present amadouer le sorcier le plus asocial que la Terre ait jamais porte : Severus Snape... \n",
      "URL: http://www.fanfiction.net/s/9084438/1/Au-d%C3%A9tour-des-infortunes-le-bonheur-sourit-parfois\n",
      "Press Enter for more\n",
      "Or type q to quit\n",
      "\n",
      "TITLE: No Bruises Left Behind \n",
      "AUTHOR: None \n",
      "DESCRIPTION: Abuse is common among pureblood boys. Sapphire Zabini's sixth husband abused her son. Lucius Malfoy used Dark spells to \"perfect\" his heir. Algie Longbottom tried forced magic out of his nephew. The families Crabbe and Goyle gave their heirs head trauma. MacMillan's Potions used their heir as a test subject in experiments. Can these boys band together? \n",
      "URL: http://www.fanfiction.net/s/9045264/1/No-Bruises-Left-Behind\n",
      "Press Enter for more\n",
      "Or type q to quitq\n"
     ]
    }
   ],
   "source": [
    "print(len(titles),'found.\\n***************************')\n",
    "for x in titles:\n",
    "    print(\"\\nTITLE:\", x[0],\"\\nAUTHOR:\", x[1],\"\\nDESCRIPTION:\",x[2], \"\\nURL:\",x[3])\n",
    "    \n",
    "    ans = input(\"Press Enter for more\\nOr type q to quit\")\n",
    "    if ans.lower() == 'q':\n",
    "        break"
   ]
  },
  {
   "cell_type": "code",
   "execution_count": 12,
   "metadata": {},
   "outputs": [],
   "source": [
    "conn.close()"
   ]
  },
  {
   "cell_type": "markdown",
   "metadata": {},
   "source": [
    "## Example Console Output\n",
    "\n",
    "This script is availablefor testing in /usr/share/databases/mtweed/Q3_fanfiction"
   ]
  },
  {
   "cell_type": "markdown",
   "metadata": {},
   "source": [
    "```\n",
    "[mtweed@cs1 mtweed]$ ./Q3_fanfiction.py \n",
    "Enter search terms separated by a space: snape harry test\n",
    "23 found.\n",
    "***************************\n",
    "\n",
    "TITLE: and fluffy rabbit tales \n",
    "AUTHOR: Chillaxes \n",
    "DESCRIPTION: Harry and his fellow classmates think that the only way to get out of another one of Snapes test is to get him the woman of his dreams. What they dont realize is that the book that they get the name from isnt Snapes diary.... One shot \n",
    "URL: http://www.fanfiction.net/s/4389802/1/and-fluffy-rabbit-tales\n",
    "Press Enter for more\n",
    "Or type q to quit\n",
    "\n",
    "TITLE: At All Costs \n",
    "AUTHOR: None \n",
    "DESCRIPTION: Secure in his guardianship of Rose Potter, Severus Snape had hoped for a tranquil year. But, that hope is quickly dashed by rising tensions in the wizarding world. Can he successfully protect the Girl-Who-Lived as she is tested as never before? And, what might be the cost? A sequel to From Friend and Foe Alike An AU, Girl Harry story told through Snape's point of view \n",
    "URL: http://www.fanfiction.net/s/8504599/1/At-All-Costs\n",
    "Press Enter for more\n",
    "Or type q to quit\n",
    "\n",
    "TITLE: Unintentional Love \n",
    "AUTHOR: None \n",
    "DESCRIPTION: Summary:[SSxOC HPx?]Harry comes into his inherritence: new allies, tests, and questions. Whats with Snape and those looks of his?[SLASH.AU.minorMPREG.NONCON] \n",
    "URL: http://www.fanfiction.net/s/3699027/1/Unintentional-Love\n",
    "Press Enter for more\n",
    "Or type q to quitq\n",
    "[mtweed@cs1 mtweed]$ ./Q3_fanfiction.py \n",
    "Enter search terms separated by a space: hermione time foot\n",
    "0 found.\n",
    "***************************\n",
    "[mtweed@cs1 mtweed]$ ./Q3_fanfiction.py \n",
    "Enter search terms separated by a space: car train ron\n",
    "1 found.\n",
    "***************************\n",
    "\n",
    "TITLE: Stranded! \n",
    "AUTHOR: None \n",
    "DESCRIPTION: R/Hr--The title is self-explanatory; Ron and Hermione become stranded in a snowstorm after the train car they were riding in derails.*Complete* \n",
    "URL: http://www.fanfiction.net/s/809526/1/Stranded\n",
    "Press Enter for more\n",
    "Or type q to quit\n",
    "\n",
    "```"
   ]
  },
  {
   "cell_type": "code",
   "execution_count": null,
   "metadata": {},
   "outputs": [],
   "source": []
  }
 ],
 "metadata": {
  "kernelspec": {
   "display_name": "Python 3",
   "language": "python",
   "name": "python3"
  },
  "language_info": {
   "codemirror_mode": {
    "name": "ipython",
    "version": 3
   },
   "file_extension": ".py",
   "mimetype": "text/x-python",
   "name": "python",
   "nbconvert_exporter": "python",
   "pygments_lexer": "ipython3",
   "version": "3.8.5"
  }
 },
 "nbformat": 4,
 "nbformat_minor": 4
}
