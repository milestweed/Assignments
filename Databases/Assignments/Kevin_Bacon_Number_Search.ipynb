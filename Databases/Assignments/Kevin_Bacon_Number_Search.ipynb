{
 "cells": [
  {
   "cell_type": "code",
   "execution_count": 14,
   "metadata": {},
   "outputs": [],
   "source": [
    "def locate():\n",
    "    try:\n",
    "        import psycopg2 as psy\n",
    "    except ImportError:\n",
    "        print(\"psycopg2 is not installed.\")\n",
    "        \n",
    "    from random import randint\n",
    "    \n",
    "    # Connect to the db and create a cursor\n",
    "    conn = psy.connect(\"dbname=imdb user=mtweed\")\n",
    "    cur = conn.cursor()\n",
    "    \n",
    "    # ask for input\n",
    "    name_in = input(\"Please enter the actor's full name: \")\n",
    "    name = name_in.lower().title()\n",
    "    \n",
    "    # Query input actor's titles\n",
    "    cur.execute(\"select titleid from title_principals where principal in (Select nameid from name_basics where primaryname ilike %s)\", [name])\n",
    "    query_titles = cur.fetchall()\n",
    "    qt = [query_titles[x][0] for x in range(len(query_titles))]\n",
    "    if len(qt) == 0:\n",
    "        print(\"No titles found for that name. Please try again.\")\n",
    "        conn.close()\n",
    "        return True\n",
    "    \n",
    "    # Query KB's titles and nameid\n",
    "    cur.execute(\"select titleid from title_principals where principal in (select nameid from name_basics where primaryname = 'Kevin Bacon')\")\n",
    "    KBt_fetch = cur.fetchall()\n",
    "    KBt = [KBt_fetch[x][0] for x in range(len(KBt_fetch))]\n",
    "    cur.execute(\"select nameid from name_basics where primaryname = 'Kevin Bacon'\")\n",
    "    KBid = cur.fetchall()\n",
    "    KBid = [KBid[x][0] for x in range(len(KBid))]\n",
    "    \n",
    "    # Initialize variables\n",
    "    queue = set()\n",
    "    visited = set()\n",
    "    neighbors = set()\n",
    "    checked = set()\n",
    "    queue.update(KBt)\n",
    "    visited.update(KBid)\n",
    "    running = True\n",
    "    i = 1\n",
    "    \n",
    "    \n",
    "    while running:\n",
    "        \n",
    "        print(name, 'is more than',i-1,'degrees removed from Kevin Bacon.','\\nLets check the next level.')\n",
    "        \n",
    "        if i == 1:\n",
    "            print('Please wait while we calculate '+name+\"'s Kevin Bacon number...\")\n",
    "        \n",
    "        if (i >= 2 and i <= 6) or (i > 7 and i < 100):\n",
    "            mess = randint(1,2)\n",
    "            if mess == 1:\n",
    "                print('Thank you for being patient this may take a while...')\n",
    "            if mess == 2:\n",
    "                print('Still searching for a connection...')\n",
    "        if i == 7:\n",
    "            print('Congratulations, you found an actor that is more than\\nsix degrees removed from Kevin Bacon.')\n",
    "        if i == 100:\n",
    "            print(name + \"'s Kevin Bacon Number is: > 100\")\n",
    "            conn.close()\n",
    "            return True\n",
    "        \n",
    "        \n",
    "        if len(neighbors) > 0:     \n",
    "            \n",
    "            visited.update(neighbors)\n",
    "            cur.execute(\"select titleid from title_principals where principal in %s\", [tuple(neighbors)])\n",
    "            temp = cur.fetchall()\n",
    "            temp = [temp[x][0] for x in range(len(temp))]\n",
    "            temp = set(temp).difference(checked)\n",
    "            queue.update(temp)\n",
    "            neighbors = set()\n",
    "\n",
    "        while queue:\n",
    "            t = queue.pop()\n",
    "            checked.update(t)\n",
    "            \n",
    "            if t in qt:\n",
    "                print(name + \"'s Kevin Bacon Number is: \" + str(i))\n",
    "                cur.execute(\"select primarytitle from title_basics where titleid = %s;\", [t])\n",
    "                temp = cur.fetchall()\n",
    "                title = [temp[x][0] for x in range(len(temp))]\n",
    "                print(\"The closest title to Kevin Bacon is\", title, \"with id:\", t)\n",
    "                running = False\n",
    "                conn.close()\n",
    "                break\n",
    "\n",
    "            cur.execute(\"select principal from title_principals where titleid = %s\", [t])\n",
    "            temp = cur.fetchall()\n",
    "            neighbors.update([temp[x][0] for x in range(len(temp))])\n",
    "            \n",
    "        if len(neighbors) == 0:\n",
    "                print(name + \"'s Kevin Bacon Number is: infinity\")\n",
    "                conn.close()\n",
    "                return True\n",
    "        \n",
    "        i += 1"
   ]
  },
  {
   "cell_type": "code",
   "execution_count": 15,
   "metadata": {},
   "outputs": [
    {
     "name": "stdout",
     "output_type": "stream",
     "text": [
      "Please enter the actor's full name: claire danes\n",
      "Claire Danes is more than 0 degrees removed from Kevin Bacon. \n",
      "Lets check the next level.\n",
      "Please wait while we calculate Claire Danes's Kevin Bacon number...\n",
      "Claire Danes is more than 1 degrees removed from Kevin Bacon. \n",
      "Lets check the next level.\n",
      "Still searching for a connection...\n",
      "Claire Danes's Kevin Bacon Number is: 2\n",
      "The closest title to Kevin Bacon is ['Teen Heartthrobs'] with id: tt2188008\n"
     ]
    }
   ],
   "source": [
    "locate()"
   ]
  },
  {
   "cell_type": "code",
   "execution_count": null,
   "metadata": {},
   "outputs": [],
   "source": []
  },
  {
   "cell_type": "code",
   "execution_count": 49,
   "metadata": {},
   "outputs": [],
   "source": [
    "from random import randint"
   ]
  },
  {
   "cell_type": "code",
   "execution_count": 55,
   "metadata": {},
   "outputs": [
    {
     "data": {
      "text/plain": [
       "2"
      ]
     },
     "execution_count": 55,
     "metadata": {},
     "output_type": "execute_result"
    }
   ],
   "source": [
    "randint(1,2)"
   ]
  },
  {
   "cell_type": "code",
   "execution_count": 2,
   "metadata": {},
   "outputs": [],
   "source": [
    "test = set([1,4,5,7,45,3,4,3])"
   ]
  },
  {
   "cell_type": "code",
   "execution_count": 5,
   "metadata": {},
   "outputs": [
    {
     "data": {
      "text/plain": [
       "{1, 3, 4, 5, 7, 45}"
      ]
     },
     "execution_count": 5,
     "metadata": {},
     "output_type": "execute_result"
    }
   ],
   "source": [
    "test"
   ]
  },
  {
   "cell_type": "code",
   "execution_count": 6,
   "metadata": {},
   "outputs": [],
   "source": [
    "two = set([1,3,4])"
   ]
  },
  {
   "cell_type": "code",
   "execution_count": 8,
   "metadata": {},
   "outputs": [
    {
     "data": {
      "text/plain": [
       "True"
      ]
     },
     "execution_count": 8,
     "metadata": {},
     "output_type": "execute_result"
    }
   ],
   "source": [
    "two.issubset(test)"
   ]
  },
  {
   "cell_type": "code",
   "execution_count": 12,
   "metadata": {},
   "outputs": [],
   "source": [
    "two = set([1,2,3,4])"
   ]
  },
  {
   "cell_type": "code",
   "execution_count": 13,
   "metadata": {},
   "outputs": [
    {
     "data": {
      "text/plain": [
       "{2}"
      ]
     },
     "execution_count": 13,
     "metadata": {},
     "output_type": "execute_result"
    }
   ],
   "source": [
    "two.difference(test)"
   ]
  },
  {
   "cell_type": "code",
   "execution_count": null,
   "metadata": {},
   "outputs": [],
   "source": []
  }
 ],
 "metadata": {
  "kernelspec": {
   "display_name": "Python 3 (ipykernel)",
   "language": "python",
   "name": "python3"
  },
  "language_info": {
   "codemirror_mode": {
    "name": "ipython",
    "version": 3
   },
   "file_extension": ".py",
   "mimetype": "text/x-python",
   "name": "python",
   "nbconvert_exporter": "python",
   "pygments_lexer": "ipython3",
   "version": "3.8.8"
  }
 },
 "nbformat": 4,
 "nbformat_minor": 4
}
