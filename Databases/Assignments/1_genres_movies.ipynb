{
 "cells": [
  {
   "cell_type": "markdown",
   "metadata": {},
   "source": [
    "# Question 1"
   ]
  },
  {
   "cell_type": "markdown",
   "metadata": {},
   "source": [
    "The first task involves taking input from the user and ensuring that the correct movie is queried form the data base.  This method will be the same for the script that queries the IMDB database in question 2.  "
   ]
  },
  {
   "cell_type": "markdown",
   "metadata": {},
   "source": [
    "I choose seven misspelled movie title to test my scripted with. Note these are different from those used for the imdb database since the movies database contains fewer movies.\n",
    "\n",
    "* \"The poAtMan\" - matches to \"The Postman\"\n",
    "\n",
    "* \"AVATor\" - This one was used in class and matches \"Avatar\"\n",
    "\n",
    "* \"Mysery mes\" - matches to \"Mystery Men\"\n",
    "\n",
    "* \"where harry met susan\" - matches to \"When Harry Met Sally...\"\n",
    "\n",
    "* \"misses boubtfire\" - matches to \"Mrs. Doubtfire\"\n",
    "\n",
    "* \"merica Beuty\" - matches to \"American Beauty\"\n",
    "\n",
    "* \"frrest gmp\" - matches to \"Forest Gump\""
   ]
  },
  {
   "cell_type": "markdown",
   "metadata": {},
   "source": [
    "#### Import statements"
   ]
  },
  {
   "cell_type": "code",
   "execution_count": 1,
   "metadata": {},
   "outputs": [],
   "source": [
    "import psycopg2 as psy"
   ]
  },
  {
   "cell_type": "markdown",
   "metadata": {},
   "source": [
    "#### Database Connection"
   ]
  },
  {
   "cell_type": "code",
   "execution_count": 2,
   "metadata": {},
   "outputs": [],
   "source": [
    "conn = psy.connect('dbname=movies user=mtweed')"
   ]
  },
  {
   "cell_type": "code",
   "execution_count": 3,
   "metadata": {},
   "outputs": [],
   "source": [
    "cur = conn.cursor()"
   ]
  },
  {
   "cell_type": "markdown",
   "metadata": {},
   "source": [
    "#### Input\n",
    "In order to standardize the input I usd string functions to ensure the capitalization was correct for the database."
   ]
  },
  {
   "cell_type": "code",
   "execution_count": 4,
   "metadata": {},
   "outputs": [
    {
     "name": "stdout",
     "output_type": "stream",
     "text": [
      "Enter the name of a movie: misses boubtfire\n"
     ]
    }
   ],
   "source": [
    "query = input(\"Enter the name of a movie: \")"
   ]
  },
  {
   "cell_type": "code",
   "execution_count": 5,
   "metadata": {},
   "outputs": [],
   "source": [
    "query = query.lower().title()"
   ]
  },
  {
   "cell_type": "markdown",
   "metadata": {},
   "source": [
    "I found that I could be more selective of the results returned when matching a misspelled query if I omitted the word \"the\"."
   ]
  },
  {
   "cell_type": "code",
   "execution_count": 6,
   "metadata": {},
   "outputs": [],
   "source": [
    "if \"the\" in query.lower().split():\n",
    "    temp = query.lower().split()\n",
    "    temp.remove('the')\n",
    "    query = ' '.join(temp)\n",
    "    query.title()"
   ]
  },
  {
   "cell_type": "markdown",
   "metadata": {},
   "source": [
    "#### The SQL Matching Query\n",
    "\n",
    "I used the similarity function for matching misspelled titles because it let me have much more control over how many results were returned as opposed to trigrams or ts_vectors. I found that a similarity value of 0.33 was optimal to return the desired values with as few other as possible."
   ]
  },
  {
   "cell_type": "code",
   "execution_count": 7,
   "metadata": {},
   "outputs": [],
   "source": [
    "cur.execute(\"\"\"\n",
    "            select distinct title\n",
    "            from movies\n",
    "            where similarity(title, %s) > 0.33;\n",
    "            \"\"\", (query,))\n",
    "results = cur.fetchall()\n",
    "results = [results[x][0] for x in range(len(results))]"
   ]
  },
  {
   "cell_type": "markdown",
   "metadata": {},
   "source": [
    "To further limit the number of title that are proposed for the user's selection, I used the levenshtein function to calculate the Levenshein numnber.  Again, I had to adjest the values to enure the the desired results were returned without too many undesired ones.  I set the score so that there was no penalty for replacements, a penalty on one for deletion, and a penalty of two for insertions.  These limits were found through trial and error. I set the cutoff threshold at 5 because, this values allowed for the addition of 'the' if necessary."
   ]
  },
  {
   "cell_type": "code",
   "execution_count": 8,
   "metadata": {},
   "outputs": [],
   "source": [
    "dist = []\n",
    "for q in results:\n",
    "    cur.execute(\"select levenshtein(%s, %s,2,1,0);\", (q, query,))\n",
    "    temp = cur.fetchall()\n",
    "    dist.append(temp)"
   ]
  },
  {
   "cell_type": "code",
   "execution_count": 9,
   "metadata": {},
   "outputs": [],
   "source": [
    "dist = [x[0][0] for x in dist]"
   ]
  },
  {
   "cell_type": "code",
   "execution_count": 12,
   "metadata": {},
   "outputs": [],
   "source": [
    "pos = [results[x] for x in range(len(dist)) if dist[x] <= 5]"
   ]
  },
  {
   "cell_type": "markdown",
   "metadata": {},
   "source": [
    "#### User Varification of Input\n",
    "\n",
    "This script asks the user to select their intended query from a list. It shows ten possibilities at a time until the correct title is shown."
   ]
  },
  {
   "cell_type": "code",
   "execution_count": 13,
   "metadata": {},
   "outputs": [
    {
     "name": "stdout",
     "output_type": "stream",
     "text": [
      "\n",
      "Did you mean:\n",
      "0) Mrs. Doubtfire\n",
      "Make selection or press ENTER for more0\n"
     ]
    }
   ],
   "source": [
    "while True:\n",
    "    opt = []\n",
    "    if len(pos) == 0:\n",
    "        print(\"Nothing found with that name.\")\n",
    "        break\n",
    "        \n",
    "    print(\"\\nDid you mean:\")\n",
    "    if len(pos) > 10:\n",
    "        for i in range(0,10):\n",
    "            opt.append(pos.pop())\n",
    "            print(str(i) + \") \"+opt[i])\n",
    "    else:\n",
    "        for i in range(len(pos)):\n",
    "            opt.append(pos.pop())\n",
    "            print(str(i) + \") \"+opt[i])\n",
    "            \n",
    "    sel = input(\"Make selection or press ENTER for more\")\n",
    "    \n",
    "    if sel == '':\n",
    "        continue\n",
    "    else:\n",
    "        sel = int(sel)\n",
    "        \n",
    "    if sel in range(0,10):\n",
    "        query = opt[sel]\n",
    "        break\n",
    "    elif len(opt)==0:\n",
    "        break\n",
    "    else:\n",
    "        continue"
   ]
  },
  {
   "cell_type": "markdown",
   "metadata": {},
   "source": [
    "## Finding Movies With Similar Genres"
   ]
  },
  {
   "cell_type": "markdown",
   "metadata": {},
   "source": [
    "The movies database makes use of a cube object, so the first step I took was to query the database and characterize this object.\n",
    "\n",
    "```\n",
    "movies=# select title, genre from movies limit 5;\n",
    "      title      |                          genre                          \n",
    "-----------------+---------------------------------------------------------\n",
    " Star Wars       | (0, 7, 0, 0, 0, 0, 0, 0, 0, 7, 0, 0, 0, 0, 10, 0, 0, 0)\n",
    " Forrest Gump    | (0, 0, 0, 5, 0, 0, 0, 7, 0, 0, 0, 0, 0, 0, 0, 0, 0, 0)\n",
    " American Beauty | (0, 0, 0, 0, 0, 0, 0, 7, 0, 0, 0, 0, 0, 0, 0, 0, 0, 0)\n",
    " Citizen Kane    | (0, 0, 0, 0, 0, 0, 0, 5, 0, 0, 0, 0, 0, 0, 0, 0, 0, 0)\n",
    " The Dark        | (0, 0, 0, 0, 0, 0, 0, 0, 0, 0, 0, 5, 0, 0, 0, 0, 5, 0)\n",
    "(5 rows)\n",
    "```\n",
    "\n",
    "The cube is an 18 number tuple in which each digit indicated how representative that movies is of a particular genre.\n",
    "\n",
    "```\n",
    "movies=# select * from genres;\n",
    "    name     | position \n",
    "-------------+----------\n",
    " Action      |        1\n",
    " Adventure   |        2\n",
    " Animation   |        3\n",
    " Comedy      |        4\n",
    " Crime       |        5\n",
    " Disaster    |        6\n",
    " Documentary |        7\n",
    " Drama       |        8\n",
    " Eastern     |        9\n",
    " Fantasy     |       10\n",
    " History     |       11\n",
    " Horror      |       12\n",
    " Musical     |       13\n",
    " Romance     |       14\n",
    " SciFi       |       15\n",
    " Sport       |       16\n",
    " Thriller    |       17\n",
    " Western     |       18\n",
    "(18 rows)\n",
    "```\n",
    "Additionally, there is an extremely useful function (cube_distance) that allows the difference between two cube objects to be represented by a single number.\n",
    "\n",
    "```\n",
    "movies=> select i.title, j.title, cube_distance(i.genre, j.genre) dist from movies i, movies j where i.title = 'Star Wars' order by dist;\n",
    "   title   |                       title                       |        dist        \n",
    "-----------+---------------------------------------------------+--------------------\n",
    " Star Wars | Star Wars                                         |                  0\n",
    " Star Wars | Star Wars: Episode V - The Empire Strikes Back    |                  2\n",
    " Star Wars | Avatar                                            |                  5\n",
    " Star Wars | Explorers                                         |  5.744562646538029\n",
    " Star Wars | Krull                                             |   6.48074069840786\n",
    " Star Wars | The Lost World                                    |    6.6332495807108\n",
    " Star Wars | E.T. The Extra-Terrestrial                        |  7.615773105863909\n",
    " Star Wars | The People That Time Forgot                       |  8.831760866327848\n",
    " Star Wars | Fantastic Voyage                                  |  8.831760866327848\n",
    " Star Wars | Return from Witch Mountain                        |  8.831760866327848\n",
    " Star Wars | Voyage to the Bottom of the Sea                   |  8.831760866327848\n",
    " ```\n",
    " I used this function to create my query that would return movies of a similar genre as the user's query.\n"
   ]
  },
  {
   "cell_type": "code",
   "execution_count": 14,
   "metadata": {},
   "outputs": [],
   "source": [
    "cur.execute(\"\"\"\n",
    "            select cube_distance(i.genre, j.genre), i.title, j.title \n",
    "            from movies i, movies j\n",
    "            where i.title != j.title and i.title = %s\n",
    "            \"\"\", [query])"
   ]
  },
  {
   "cell_type": "code",
   "execution_count": 15,
   "metadata": {},
   "outputs": [],
   "source": [
    "dist = cur.fetchall()"
   ]
  },
  {
   "cell_type": "code",
   "execution_count": 16,
   "metadata": {},
   "outputs": [],
   "source": [
    "dist.sort()"
   ]
  },
  {
   "cell_type": "code",
   "execution_count": 17,
   "metadata": {},
   "outputs": [],
   "source": [
    "top10 = [x[2] for x in dist[0:10]]"
   ]
  },
  {
   "cell_type": "code",
   "execution_count": 18,
   "metadata": {},
   "outputs": [
    {
     "name": "stdout",
     "output_type": "stream",
     "text": [
      "\n",
      "The top 10 movies most close in genre to Mrs. Doubtfire are:\n",
      "Boogie Nights\n",
      "Four Weddings And A Funeral\n",
      "Forrest Gump\n",
      "10\n",
      "Addicted to Love\n",
      "Alice's Restaurant\n",
      "Arizona Dream\n",
      "Arthur\n",
      "August\n",
      "Avanti!\n"
     ]
    }
   ],
   "source": [
    "print(\"\\nThe top 10 movies most close in genre to {} are:\".format(query))\n",
    "for x in top10:\n",
    "    print(x)"
   ]
  },
  {
   "cell_type": "code",
   "execution_count": 19,
   "metadata": {},
   "outputs": [],
   "source": [
    "conn.close()"
   ]
  },
  {
   "cell_type": "markdown",
   "metadata": {},
   "source": [
    "## Example Console Output\n",
    "\n",
    "The script for this question is available for testing at /usr/share/databases/Q1_movies.py"
   ]
  },
  {
   "cell_type": "markdown",
   "metadata": {},
   "source": [
    "```\n",
    "[mtweed@cs1 mtweed]$ ls\n",
    "kbfinder.py  Q1_movies.py  Q2_imdb.py  Q3_fanfiction.py  scrub_stories.py\n",
    "[mtweed@cs1 mtweed]$ chmod 755 Q1_movies.py \n",
    "[mtweed@cs1 mtweed]$ chmod 755 Q2_imdb.py \n",
    "[mtweed@cs1 mtweed]$ chmod 755 Q3_fanfiction.py \n",
    "[mtweed@cs1 mtweed]$ ./Q1_movies.py \n",
    "Enter the name of a movie: The poAtMan\n",
    "\n",
    "Did you mean:\n",
    "0) Batman\n",
    "1) The Postman\n",
    "Make selection or press ENTER for more1\n",
    "\n",
    "The top 10 movies most close in genre to The Postman are:\n",
    "20.000 Leagues under the Sea\n",
    "Black Beauty\n",
    "Close Encounters of the Third Kind\n",
    "E.T. The Extra-Terrestrial\n",
    "Enemy Mine\n",
    "Fahrenheit 451\n",
    "Fantastic Voyage\n",
    "Far and Away\n",
    "First Men in the Moon\n",
    "Fly Away Home\n",
    "[mtweed@cs1 mtweed]$ ./Q1_movies.py \n",
    "Enter the name of a movie: AVATor\n",
    "\n",
    "Did you mean:\n",
    "0) Avatar\n",
    "Make selection or press ENTER for more0\n",
    "\n",
    "The top 10 movies most close in genre to Avatar are:\n",
    "Star Wars: Episode V - The Empire Strikes Back\n",
    "Star Wars\n",
    "Explorers\n",
    "Krull\n",
    "The Lost World\n",
    "E.T. The Extra-Terrestrial\n",
    "20.000 Leagues under the Sea\n",
    "Barbarella\n",
    "Biggles-Adventures in Time\n",
    "Escape from the Planet of the Apes\n",
    "[mtweed@cs1 mtweed]$ ./Q1_movies.py \n",
    "Enter the name of a movie: Mysery mes\n",
    "\n",
    "Did you mean:\n",
    "0) Mystery Men\n",
    "Make selection or press ENTER for more0\n",
    "\n",
    "The top 10 movies most close in genre to Mystery Men are:\n",
    "1941\n",
    "A Day at the Races\n",
    "A Little Bit of Soul\n",
    "A Low Down Dirty Shame\n",
    "A Midsummer Night's Sex Comedy\n",
    "A Night at the Roxbury\n",
    "A Private Function\n",
    "Ace Ventura: Pet Detective\n",
    "Air America\n",
    "Alfie\n",
    "[mtweed@cs1 mtweed]$ ./Q1_movies.py \n",
    "Enter the name of a movie: where harry met susan\n",
    "\n",
    "Did you mean:\n",
    "0) When Harry Met Sally\n",
    "Make selection or press ENTER for more0 \n",
    "\n",
    "The top 10 movies most close in genre to When Harry Met Sally are:\n",
    "10 Things I Hate About You\n",
    "American Pie\n",
    "As Good as It Gets\n",
    "Clerks\n",
    "Home Alone 2 - Lost in New York\n",
    "Notting Hill\n",
    "There's Something About Mary\n",
    "1941\n",
    "A Day at the Races\n",
    "A Little Bit of Soul\n",
    "[mtweed@cs1 mtweed]$ ./Q1_movies.py \n",
    "Enter the name of a movie: misses boubtfire\n",
    "\n",
    "Did you mean:\n",
    "0) Mrs. Doubtfire\n",
    "Make selection or press ENTER for more0\n",
    "\n",
    "The top 10 movies most close in genre to Mrs. Doubtfire are:\n",
    "Boogie Nights\n",
    "Four Weddings And A Funeral\n",
    "Forrest Gump\n",
    "10\n",
    "Addicted to Love\n",
    "Alice's Restaurant\n",
    "Arizona Dream\n",
    "Arthur\n",
    "August\n",
    "Avanti!\n",
    "[mtweed@cs1 mtweed]$ ./Q1_movies.py \n",
    "Enter the name of a movie: merica Beuty\n",
    "\n",
    "Did you mean:\n",
    "0) American Beauty\n",
    "Make selection or press ENTER for more0\n",
    "\n",
    "The top 10 movies most close in genre to American Beauty are:\n",
    "A Streetcar Named Desire\n",
    "Boys Don't Cry\n",
    "Dead Poets Society\n",
    "The Bridges Of Madison County\n",
    "The Green Mile\n",
    "To kill a Mockingbird\n",
    "William Shakespeare's Romeo + Juliet\n",
    "10:30 P.M. Summer\n",
    "54\n",
    "A Civil Action\n",
    "[mtweed@cs1 mtweed]$ ./Q1_movies.py \n",
    "Enter the name of a movie: frrest gmp\n",
    "\n",
    "Did you mean:\n",
    "0) Forrest Gump\n",
    "Make selection or press ENTER for more0\n",
    "\n",
    "The top 10 movies most close in genre to Forrest Gump are:\n",
    "10\n",
    "Addicted to Love\n",
    "Alice's Restaurant\n",
    "Arizona Dream\n",
    "Arthur\n",
    "August\n",
    "Avanti!\n",
    "Barefoot in the Park\n",
    "Barfly\n",
    "Beautiful Thing\n",
    "```"
   ]
  },
  {
   "cell_type": "code",
   "execution_count": null,
   "metadata": {},
   "outputs": [],
   "source": []
  }
 ],
 "metadata": {
  "kernelspec": {
   "display_name": "Python 3",
   "language": "python",
   "name": "python3"
  },
  "language_info": {
   "codemirror_mode": {
    "name": "ipython",
    "version": 3
   },
   "file_extension": ".py",
   "mimetype": "text/x-python",
   "name": "python",
   "nbconvert_exporter": "python",
   "pygments_lexer": "ipython3",
   "version": "3.8.5"
  }
 },
 "nbformat": 4,
 "nbformat_minor": 4
}
