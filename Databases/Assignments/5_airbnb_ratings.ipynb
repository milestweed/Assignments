{
 "cells": [
  {
   "cell_type": "markdown",
   "metadata": {},
   "source": [
    "## Question 5\n",
    "I set up an ssh tunnel to work with the sample_airbnb database in python."
   ]
  },
  {
   "cell_type": "markdown",
   "metadata": {},
   "source": [
    "#### Server set up"
   ]
  },
  {
   "cell_type": "code",
   "execution_count": 10,
   "metadata": {},
   "outputs": [],
   "source": [
    "from sshtunnel import SSHTunnelForwarder\n",
    "from pymongo import MongoClient\n",
    "from random import sample\n",
    "from pprint import pprint\n",
    "from getpass import getpass"
   ]
  },
  {
   "cell_type": "code",
   "execution_count": 11,
   "metadata": {},
   "outputs": [
    {
     "name": "stdout",
     "output_type": "stream",
     "text": [
      "Enter your password: ········\n"
     ]
    }
   ],
   "source": [
    "MONGO_HOST = \"10.10.11.10\"\n",
    "MONGO_DB = \"sample_airbnb\"\n",
    "MONGO_USER = \"mtweed\"\n",
    "MONGO_PASS = getpass(\"Enter your password: \")"
   ]
  },
  {
   "cell_type": "code",
   "execution_count": 12,
   "metadata": {},
   "outputs": [],
   "source": [
    "server = SSHTunnelForwarder(\n",
    "    MONGO_HOST,\n",
    "    ssh_username=MONGO_USER,\n",
    "    ssh_password=MONGO_PASS,\n",
    "    remote_bind_address=('127.0.0.1', 27017)\n",
    ")"
   ]
  },
  {
   "cell_type": "code",
   "execution_count": 13,
   "metadata": {},
   "outputs": [],
   "source": [
    "server.start()"
   ]
  },
  {
   "cell_type": "code",
   "execution_count": 14,
   "metadata": {},
   "outputs": [],
   "source": [
    "client = MongoClient('127.0.0.1', server.local_bind_port)"
   ]
  },
  {
   "cell_type": "code",
   "execution_count": 15,
   "metadata": {},
   "outputs": [],
   "source": [
    "db = client[MONGO_DB]"
   ]
  },
  {
   "cell_type": "code",
   "execution_count": 16,
   "metadata": {},
   "outputs": [],
   "source": [
    "listings = db.listingsAndReviews"
   ]
  },
  {
   "cell_type": "markdown",
   "metadata": {},
   "source": [
    "### Method One\n",
    "I initially wrote the following javascript to perform this query soley within mongodb.  I reviewed several highly rated listings and selected several key words withing the comments to use in my query.\n",
    "\n",
    "```\n",
    ">  var listings = db.listingsAndReviews\n",
    ">  \n",
    ">  var cursor = listings.find({$and: [\n",
    "...                                 {$or:[ {\"reviews.comments\": {$regex : /easy/i}},\n",
    "...                                 {\"reviews.comments\": {$regex : /best/i}},\n",
    "...                                 {\"reviews.comments\": {$regex : /great/i}},\n",
    "...                                 {\"reviews.comments\": {$regex : /excellent/i}},\n",
    "...                                 {\"reviews.comments\": {$regex : /helpful/i}},\n",
    "...                                 {\"reviews.comments\": {$regex : /amazing/i}},\n",
    "...                                 {\"reviews.comments\": {$regex : /pleasent/i}},\n",
    "...                                 {\"reviews.comments\": {$regex : /perfect/i}}]},                 \n",
    "...                                 {\"review_scores.review_scores_rating\": {$exists:true}}]}, \n",
    "...                                 {_id:1, \"review_scores.review_scores_rating\":1})\n",
    "> var total = 0\n",
    "> var count = 0\n",
    "> \n",
    "> for (i=0;i<cursor.count();i++){\n",
    "...         var temp = cursor.next()\n",
    "...         total = total + temp.review_scores.review_scores_rating\n",
    "...         count = count + 1\n",
    "...         }\n",
    "3403\n",
    "> let average_rating = total/count\n",
    "> \n",
    "> print(average_rating)\n",
    "93.84014105201292\n",
    "> \n",
    "```"
   ]
  },
  {
   "cell_type": "markdown",
   "metadata": {},
   "source": [
    "### Method Two\n",
    "Then I performed a similar query in the python shell to attempt oqtimization of the query.  I first memoized the id, review_scores_rating, and comments for every listing. This method worked better for me since multiple queries took longer that one single big query, however, I could have also performed this with many queries to the database."
   ]
  },
  {
   "cell_type": "code",
   "execution_count": 17,
   "metadata": {},
   "outputs": [],
   "source": [
    "cursor = listings.find({}, {\"_id\" : 1, \"review_scores.review_scores_rating\" : 1, \"reviews.comments\":1})"
   ]
  },
  {
   "cell_type": "markdown",
   "metadata": {},
   "source": [
    "The following code creates dictionary objects that allow quick reference of rating and comments by using the id. This step takes a while."
   ]
  },
  {
   "cell_type": "code",
   "execution_count": 18,
   "metadata": {},
   "outputs": [],
   "source": [
    "length = cursor.count()"
   ]
  },
  {
   "cell_type": "code",
   "execution_count": 19,
   "metadata": {},
   "outputs": [],
   "source": [
    "scores = {}\n",
    "reviews = {}\n",
    "for x in range(length):\n",
    "    temp = cursor.next()\n",
    "    try:\n",
    "        scores[temp[\"_id\"]] = temp[\"review_scores\"][\"review_scores_rating\"]\n",
    "    except KeyError:\n",
    "        scores[temp[\"_id\"]] = 0\n",
    "    try:\n",
    "        reviews[temp[\"_id\"]] = [temp[\"reviews\"][x][\"comments\"] for x in range(len(temp[\"reviews\"]))]\n",
    "    except KeyError:\n",
    "        reviews[temp[\"_id\"]] = []"
   ]
  },
  {
   "cell_type": "markdown",
   "metadata": {},
   "source": [
    "The following is the set of keywords that I determined would best correlate to highly rated listings."
   ]
  },
  {
   "cell_type": "code",
   "execution_count": 20,
   "metadata": {},
   "outputs": [],
   "source": [
    "all_pos_words = {\"easy\", \"super\", \"amazing\", \"bright\", \"quiet\", \n",
    "             \"clean\", \"great\", \"nice\", \"enjoy\", \"enjoyed\", \n",
    "             \"friendly\", \"convenient\", \"flexible\", \"good\",\n",
    "             \"fantastic\", \"best\", \"perfect\", \"helpful\",\n",
    "             \"pleasent\", \"pleasing\", \"calm\", \"fun\", \"excellent\",\n",
    "             \"prime\", \"spacious\"}"
   ]
  },
  {
   "cell_type": "markdown",
   "metadata": {},
   "source": [
    "The following code allows the user to select a random sample of the positive words in order to determin the effect they have on the average rating."
   ]
  },
  {
   "cell_type": "code",
   "execution_count": 21,
   "metadata": {},
   "outputs": [
    {
     "name": "stdout",
     "output_type": "stream",
     "text": [
      "Enter the number positive words to check against (25 total):25\n"
     ]
    }
   ],
   "source": [
    "num_words = int(input(\"Enter the number positive words to check against ({} total):\".format(len(all_pos_words))))\n",
    "if num_words < len(all_pos_words):\n",
    "    pos_words = set(sample(all_pos_words, num_words))\n",
    "else:\n",
    "    pos_words = all_pos_words.copy()"
   ]
  },
  {
   "cell_type": "code",
   "execution_count": 22,
   "metadata": {},
   "outputs": [],
   "source": [
    "pos_ids = []\n",
    "ids = list(scores.keys())\n",
    "for i in range(len(ids)):\n",
    "    _id = ids[i]\n",
    "    for j in range(len(reviews[_id])):\n",
    "        comment = reviews[_id][j]\n",
    "        if len(pos_words.intersection(comment.split())) > 0:\n",
    "            pos_ids.append(_id)\n",
    "\n",
    "pos_ratings = [scores[pos_ids[x]] for x in range(len(pos_ids))]\n",
    "ave_rating = sum(pos_ratings)/len(pos_ratings)"
   ]
  },
  {
   "cell_type": "code",
   "execution_count": 23,
   "metadata": {
    "scrolled": false
   },
   "outputs": [
    {
     "data": {
      "text/plain": [
       "94.2707122290433"
      ]
     },
     "execution_count": 23,
     "metadata": {},
     "output_type": "execute_result"
    }
   ],
   "source": [
    "ave_rating"
   ]
  },
  {
   "cell_type": "code",
   "execution_count": 24,
   "metadata": {
    "scrolled": true
   },
   "outputs": [
    {
     "data": {
      "text/plain": [
       "92035"
      ]
     },
     "execution_count": 24,
     "metadata": {},
     "output_type": "execute_result"
    }
   ],
   "source": [
    "len(pos_ids)"
   ]
  },
  {
   "cell_type": "markdown",
   "metadata": {},
   "source": [
    "### Summary\n",
    "I found that, while searching for fewer keywords could lead to a higher average rating, searching for fewer keywords led to fewer results returned.  Therefore, I developed this method to see how correlated each keyword was to a high average rating by earchingeach one individually."
   ]
  },
  {
   "cell_type": "code",
   "execution_count": 25,
   "metadata": {},
   "outputs": [],
   "source": [
    "def ave_rat(pos_words, reviews, scores):\n",
    "    pos_ids = []\n",
    "    ids = list(scores.keys())\n",
    "    for i in range(len(ids)):\n",
    "        _id = ids[i]\n",
    "        for j in range(len(reviews[_id])):\n",
    "            comment = reviews[_id][j]\n",
    "            if len(pos_words.intersection(comment.split())) > 0:\n",
    "                pos_ids.append(_id)\n",
    "\n",
    "    pos_ratings = [scores[pos_ids[x]] for x in range(len(pos_ids))]\n",
    "    ave_rating = sum(pos_ratings)/len(pos_ratings)\n",
    "    return ave_rating, len(pos_ratings)"
   ]
  },
  {
   "cell_type": "markdown",
   "metadata": {},
   "source": [
    "This showed that every keyword chosen corresponded to a high average rating (>93). Since I consider an average score greater than 93 to be quite good, I decided that including every one of these search terms was optimal."
   ]
  },
  {
   "cell_type": "code",
   "execution_count": 26,
   "metadata": {},
   "outputs": [
    {
     "name": "stdout",
     "output_type": "stream",
     "text": [
      "The word {'perfect'} was found in 11641 documents with and average rating of 94.807662571944\n",
      "The word {'amazing'} was found in 6222 documents with and average rating of 95.32642237222758\n",
      "The word {'easy'} was found in 11720 documents with and average rating of 94.28327645051195\n",
      "The word {'great'} was found in 35234 documents with and average rating of 94.42864846455129\n",
      "The word {'pleasing'} was found in 24 documents with and average rating of 95.45833333333333\n",
      "The word {'fun'} was found in 1144 documents with and average rating of 94.45716783216783\n",
      "The word {'enjoyed'} was found in 7943 documents with and average rating of 94.71635402240967\n",
      "The word {'spacious'} was found in 4211 documents with and average rating of 94.63927808121586\n",
      "The word {'friendly'} was found in 6885 documents with and average rating of 94.39782135076253\n",
      "The word {'helpful'} was found in 8423 documents with and average rating of 94.3153270806126\n",
      "The word {'excellent'} was found in 4286 documents with and average rating of 94.9113392440504\n",
      "The word {'clean'} was found in 19011 documents with and average rating of 94.26321603282311\n",
      "The word {'quiet'} was found in 6671 documents with and average rating of 94.76180482686254\n",
      "The word {'prime'} was found in 232 documents with and average rating of 93.34051724137932\n",
      "The word {'enjoy'} was found in 2488 documents with and average rating of 95.04581993569131\n",
      "The word {'convenient'} was found in 4604 documents with and average rating of 93.90529973935708\n",
      "The word {'bright'} was found in 696 documents with and average rating of 94.80459770114942\n",
      "The word {'pleasent'} was found in 32 documents with and average rating of 93.5\n",
      "The word {'calm'} was found in 444 documents with and average rating of 94.40090090090091\n",
      "The word {'super'} was found in 9504 documents with and average rating of 94.93455387205387\n",
      "The word {'best'} was found in 5513 documents with and average rating of 95.16306910937783\n",
      "The word {'good'} was found in 14579 documents with and average rating of 93.39591192811578\n",
      "The word {'fantastic'} was found in 3596 documents with and average rating of 95.19549499443826\n",
      "The word {'nice'} was found in 18461 documents with and average rating of 94.00817940523265\n",
      "The word {'flexible'} was found in 1343 documents with and average rating of 93.97915115413254\n"
     ]
    }
   ],
   "source": [
    "pos_list = list(all_pos_words)\n",
    "for x in pos_list:\n",
    "    pos_word = set()\n",
    "    pos_word.add(x)\n",
    "    ar, length = ave_rat(pos_word, reviews, scores)\n",
    "    print(\"The word\",pos_word,\"was found in\",length,\"documents with and average rating of\",ar)"
   ]
  },
  {
   "cell_type": "code",
   "execution_count": 28,
   "metadata": {},
   "outputs": [],
   "source": [
    "server.stop()"
   ]
  },
  {
   "cell_type": "code",
   "execution_count": 29,
   "metadata": {},
   "outputs": [
    {
     "data": {
      "text/plain": [
       "False"
      ]
     },
     "execution_count": 29,
     "metadata": {},
     "output_type": "execute_result"
    }
   ],
   "source": [
    "server.is_active"
   ]
  },
  {
   "cell_type": "code",
   "execution_count": null,
   "metadata": {},
   "outputs": [],
   "source": []
  }
 ],
 "metadata": {
  "kernelspec": {
   "display_name": "Python 3",
   "language": "python",
   "name": "python3"
  },
  "language_info": {
   "codemirror_mode": {
    "name": "ipython",
    "version": 3
   },
   "file_extension": ".py",
   "mimetype": "text/x-python",
   "name": "python",
   "nbconvert_exporter": "python",
   "pygments_lexer": "ipython3",
   "version": "3.8.5"
  }
 },
 "nbformat": 4,
 "nbformat_minor": 4
}
